{
 "cells": [
  {
   "cell_type": "code",
   "execution_count": 1,
   "id": "d1a150e5",
   "metadata": {
    "vscode": {
     "languageId": "r"
    }
   },
   "outputs": [
    {
     "name": "stderr",
     "output_type": "stream",
     "text": [
      "Instalowanie pakietu w 'C:/Users/karol/AppData/Local/R/win-library/4.5'\n",
      "(ponieważ 'lib' nie jest określony)\n",
      "\n"
     ]
    },
    {
     "name": "stdout",
     "output_type": "stream",
     "text": [
      "pakiet 'devtools' został pomyślnie rozpakowany oraz sumy MD5 zostały sprawdzone\n",
      "\n",
      "Pobrane pakiety binarne są w\n",
      "\tC:\\Users\\karol\\AppData\\Local\\Temp\\RtmpKUp0Hk\\downloaded_packages\n"
     ]
    },
    {
     "name": "stderr",
     "output_type": "stream",
     "text": [
      "Using GitHub PAT from the git credential store.\n",
      "\n",
      "Skipping install of 'BasketballAnalyzeR' from a github remote, the SHA1 (04c1eff3) has not changed since last install.\n",
      "  Use `force = TRUE` to force installation\n",
      "\n",
      "Ładowanie wymaganego pakietu: ggplot2\n",
      "\n",
      "Registered S3 method overwritten by 'GGally':\n",
      "  method from   \n",
      "  +.gg   ggplot2\n",
      "\n",
      "\n",
      "If you wish to replicate the figures included in the book of\n",
      "Zuccolotto and Manisera (2020) and\n",
      "if your R version is 3.6.0 or higher, you need to enter\n",
      "RNGkind(sample.kind = \"Rounding\")\n",
      "at the beginning of your working session\n",
      "\n"
     ]
    }
   ],
   "source": [
    "install.packages(\"devtools\") \n",
    "devtools::install_github(\"sndmrc/BasketballAnalyzeR\")\n",
    "library(BasketballAnalyzeR)"
   ]
  },
  {
   "cell_type": "code",
   "execution_count": 2,
   "id": "84105233",
   "metadata": {
    "vscode": {
     "languageId": "r"
    }
   },
   "outputs": [],
   "source": [
    "library(tibble)"
   ]
  },
  {
   "cell_type": "code",
   "execution_count": 3,
   "id": "3f25b1fe",
   "metadata": {
    "vscode": {
     "languageId": "r"
    }
   },
   "outputs": [
    {
     "name": "stdout",
     "output_type": "stream",
     "text": [
      "Rows: 605\n",
      "Columns: 22\n",
      "$ Team   \u001b[3m\u001b[90m<chr>\u001b[39m\u001b[23m \"Atlanta Hawks\"\u001b[90m, \u001b[39m\"Atlanta Hawks\"\u001b[90m, \u001b[39m\"Atlanta Hawks\"\u001b[90m, \u001b[39m\"Atlanta Haw…\n",
      "$ Player \u001b[3m\u001b[90m<chr>\u001b[39m\u001b[23m \"Taurean Prince\"\u001b[90m, \u001b[39m\"Dennis Schroder\"\u001b[90m, \u001b[39m\"Kent Bazemore\"\u001b[90m, \u001b[39m\"John Col…\n",
      "$ GP     \u001b[3m\u001b[90m<int>\u001b[39m\u001b[23m 82\u001b[90m, \u001b[39m67\u001b[90m, \u001b[39m65\u001b[90m, \u001b[39m74\u001b[90m, \u001b[39m62\u001b[90m, \u001b[39m52\u001b[90m, \u001b[39m46\u001b[90m, \u001b[39m67\u001b[90m, \u001b[39m53\u001b[90m, \u001b[39m54\u001b[90m, \u001b[39m56\u001b[90m, \u001b[39m55\u001b[90m, \u001b[39m37\u001b[90m, \u001b[39m39\u001b[90m, \u001b[39m26\u001b[90m, \u001b[39m15\u001b[90m,\u001b[39m…\n",
      "$ MIN    \u001b[3m\u001b[90m<int>\u001b[39m\u001b[23m 2464\u001b[90m, \u001b[39m2078\u001b[90m, \u001b[39m1789\u001b[90m, \u001b[39m1785\u001b[90m, \u001b[39m1542\u001b[90m, \u001b[39m1210\u001b[90m, \u001b[39m1175\u001b[90m, \u001b[39m1167\u001b[90m, \u001b[39m1060\u001b[90m, \u001b[39m1014\u001b[90m, \u001b[39m974…\n",
      "$ PTS    \u001b[3m\u001b[90m<int>\u001b[39m\u001b[23m 1158\u001b[90m, \u001b[39m1301\u001b[90m, \u001b[39m836\u001b[90m, \u001b[39m777\u001b[90m, \u001b[39m617\u001b[90m, \u001b[39m591\u001b[90m, \u001b[39m501\u001b[90m, \u001b[39m445\u001b[90m, \u001b[39m405\u001b[90m, \u001b[39m338\u001b[90m, \u001b[39m405\u001b[90m, \u001b[39m237\u001b[90m, \u001b[39m2…\n",
      "$ P2M    \u001b[3m\u001b[90m<int>\u001b[39m\u001b[23m 239\u001b[90m, \u001b[39m424\u001b[90m, \u001b[39m176\u001b[90m, \u001b[39m298\u001b[90m, \u001b[39m200\u001b[90m, \u001b[39m107\u001b[90m, \u001b[39m123\u001b[90m, \u001b[39m143\u001b[90m, \u001b[39m81\u001b[90m, \u001b[39m63\u001b[90m, \u001b[39m72\u001b[90m, \u001b[39m105\u001b[90m, \u001b[39m31\u001b[90m, \u001b[39m35…\n",
      "$ P2A    \u001b[3m\u001b[90m<int>\u001b[39m\u001b[23m 518\u001b[90m, \u001b[39m884\u001b[90m, \u001b[39m402\u001b[90m, \u001b[39m498\u001b[90m, \u001b[39m336\u001b[90m, \u001b[39m238\u001b[90m, \u001b[39m231\u001b[90m, \u001b[39m310\u001b[90m, \u001b[39m145\u001b[90m, \u001b[39m161\u001b[90m, \u001b[39m183\u001b[90m, \u001b[39m180\u001b[90m, \u001b[39m57\u001b[90m,\u001b[39m…\n",
      "$ P2p    \u001b[3m\u001b[90m<dbl>\u001b[39m\u001b[23m 46.13900\u001b[90m, \u001b[39m47.96380\u001b[90m, \u001b[39m43.78109\u001b[90m, \u001b[39m59.83936\u001b[90m, \u001b[39m59.52381\u001b[90m, \u001b[39m44.95798\u001b[90m, \u001b[39m53.…\n",
      "$ P3M    \u001b[3m\u001b[90m<int>\u001b[39m\u001b[23m 176\u001b[90m, \u001b[39m76\u001b[90m, \u001b[39m108\u001b[90m, \u001b[39m16\u001b[90m, \u001b[39m50\u001b[90m, \u001b[39m92\u001b[90m, \u001b[39m61\u001b[90m, \u001b[39m20\u001b[90m, \u001b[39m62\u001b[90m, \u001b[39m46\u001b[90m, \u001b[39m72\u001b[90m, \u001b[39m0\u001b[90m, \u001b[39m49\u001b[90m, \u001b[39m32\u001b[90m, \u001b[39m11\u001b[90m, \u001b[39m15…\n",
      "$ P3A    \u001b[3m\u001b[90m<int>\u001b[39m\u001b[23m 457\u001b[90m, \u001b[39m262\u001b[90m, \u001b[39m274\u001b[90m, \u001b[39m47\u001b[90m, \u001b[39m141\u001b[90m, \u001b[39m247\u001b[90m, \u001b[39m170\u001b[90m, \u001b[39m80\u001b[90m, \u001b[39m167\u001b[90m, \u001b[39m124\u001b[90m, \u001b[39m199\u001b[90m, \u001b[39m0\u001b[90m, \u001b[39m111\u001b[90m, \u001b[39m89…\n",
      "$ P3p    \u001b[3m\u001b[90m<dbl>\u001b[39m\u001b[23m 38.51204\u001b[90m, \u001b[39m29.00763\u001b[90m, \u001b[39m39.41606\u001b[90m, \u001b[39m34.04255\u001b[90m, \u001b[39m35.46099\u001b[90m, \u001b[39m37.24696\u001b[90m, \u001b[39m35.…\n",
      "$ FTM    \u001b[3m\u001b[90m<int>\u001b[39m\u001b[23m 152\u001b[90m, \u001b[39m225\u001b[90m, \u001b[39m160\u001b[90m, \u001b[39m133\u001b[90m, \u001b[39m67\u001b[90m, \u001b[39m101\u001b[90m, \u001b[39m72\u001b[90m, \u001b[39m99\u001b[90m, \u001b[39m57\u001b[90m, \u001b[39m74\u001b[90m, \u001b[39m45\u001b[90m, \u001b[39m27\u001b[90m, \u001b[39m17\u001b[90m, \u001b[39m17\u001b[90m, \u001b[39m19…\n",
      "$ FTA    \u001b[3m\u001b[90m<int>\u001b[39m\u001b[23m 180\u001b[90m, \u001b[39m265\u001b[90m, \u001b[39m201\u001b[90m, \u001b[39m186\u001b[90m, \u001b[39m86\u001b[90m, \u001b[39m109\u001b[90m, \u001b[39m90\u001b[90m, \u001b[39m141\u001b[90m, \u001b[39m62\u001b[90m, \u001b[39m92\u001b[90m, \u001b[39m63\u001b[90m, \u001b[39m60\u001b[90m, \u001b[39m22\u001b[90m, \u001b[39m21\u001b[90m, \u001b[39m3…\n",
      "$ FTp    \u001b[3m\u001b[90m<dbl>\u001b[39m\u001b[23m 84.44444\u001b[90m, \u001b[39m84.90566\u001b[90m, \u001b[39m79.60199\u001b[90m, \u001b[39m71.50538\u001b[90m, \u001b[39m77.90698\u001b[90m, \u001b[39m92.66055\u001b[90m, \u001b[39m80.…\n",
      "$ OREB   \u001b[3m\u001b[90m<int>\u001b[39m\u001b[23m 50\u001b[90m, \u001b[39m44\u001b[90m, \u001b[39m25\u001b[90m, \u001b[39m176\u001b[90m, \u001b[39m100\u001b[90m, \u001b[39m14\u001b[90m, \u001b[39m74\u001b[90m, \u001b[39m22\u001b[90m, \u001b[39m56\u001b[90m, \u001b[39m9\u001b[90m, \u001b[39m17\u001b[90m, \u001b[39m77\u001b[90m, \u001b[39m5\u001b[90m, \u001b[39m45\u001b[90m, \u001b[39m8\u001b[90m, \u001b[39m11\u001b[90m, \u001b[39m…\n",
      "$ DREB   \u001b[3m\u001b[90m<int>\u001b[39m\u001b[23m 339\u001b[90m, \u001b[39m164\u001b[90m, \u001b[39m223\u001b[90m, \u001b[39m365\u001b[90m, \u001b[39m389\u001b[90m, \u001b[39m86\u001b[90m, \u001b[39m177\u001b[90m, \u001b[39m72\u001b[90m, \u001b[39m174\u001b[90m, \u001b[39m91\u001b[90m, \u001b[39m113\u001b[90m, \u001b[39m151\u001b[90m, \u001b[39m76\u001b[90m, \u001b[39m82…\n",
      "$ AST    \u001b[3m\u001b[90m<int>\u001b[39m\u001b[23m 214\u001b[90m, \u001b[39m417\u001b[90m, \u001b[39m228\u001b[90m, \u001b[39m98\u001b[90m, \u001b[39m90\u001b[90m, \u001b[39m103\u001b[90m, \u001b[39m51\u001b[90m, \u001b[39m206\u001b[90m, \u001b[39m51\u001b[90m, \u001b[39m163\u001b[90m, \u001b[39m79\u001b[90m, \u001b[39m45\u001b[90m, \u001b[39m26\u001b[90m, \u001b[39m27\u001b[90m, \u001b[39m4…\n",
      "$ TOV    \u001b[3m\u001b[90m<int>\u001b[39m\u001b[23m 191\u001b[90m, \u001b[39m183\u001b[90m, \u001b[39m157\u001b[90m, \u001b[39m105\u001b[90m, \u001b[39m86\u001b[90m, \u001b[39m54\u001b[90m, \u001b[39m43\u001b[90m, \u001b[39m84\u001b[90m, \u001b[39m42\u001b[90m, \u001b[39m66\u001b[90m, \u001b[39m37\u001b[90m, \u001b[39m63\u001b[90m, \u001b[39m15\u001b[90m, \u001b[39m14\u001b[90m, \u001b[39m47\u001b[90m,\u001b[39m…\n",
      "$ STL    \u001b[3m\u001b[90m<int>\u001b[39m\u001b[23m 85\u001b[90m, \u001b[39m72\u001b[90m, \u001b[39m100\u001b[90m, \u001b[39m47\u001b[90m, \u001b[39m40\u001b[90m, \u001b[39m46\u001b[90m, \u001b[39m44\u001b[90m, \u001b[39m34\u001b[90m, \u001b[39m31\u001b[90m, \u001b[39m35\u001b[90m, \u001b[39m17\u001b[90m, \u001b[39m17\u001b[90m, \u001b[39m7\u001b[90m, \u001b[39m9\u001b[90m, \u001b[39m21\u001b[90m, \u001b[39m19\u001b[90m, \u001b[39m…\n",
      "$ BLK    \u001b[3m\u001b[90m<int>\u001b[39m\u001b[23m 42\u001b[90m, \u001b[39m6\u001b[90m, \u001b[39m45\u001b[90m, \u001b[39m80\u001b[90m, \u001b[39m51\u001b[90m, \u001b[39m3\u001b[90m, \u001b[39m17\u001b[90m, \u001b[39m10\u001b[90m, \u001b[39m27\u001b[90m, \u001b[39m6\u001b[90m, \u001b[39m5\u001b[90m, \u001b[39m30\u001b[90m, \u001b[39m5\u001b[90m, \u001b[39m4\u001b[90m, \u001b[39m12\u001b[90m, \u001b[39m1\u001b[90m, \u001b[39m1\u001b[90m, \u001b[39m1\u001b[90m, \u001b[39m…\n",
      "$ PF     \u001b[3m\u001b[90m<int>\u001b[39m\u001b[23m 168\u001b[90m, \u001b[39m147\u001b[90m, \u001b[39m147\u001b[90m, \u001b[39m215\u001b[90m, \u001b[39m162\u001b[90m, \u001b[39m41\u001b[90m, \u001b[39m92\u001b[90m, \u001b[39m116\u001b[90m, \u001b[39m80\u001b[90m, \u001b[39m82\u001b[90m, \u001b[39m63\u001b[90m, \u001b[39m79\u001b[90m, \u001b[39m47\u001b[90m, \u001b[39m61\u001b[90m, \u001b[39m3…\n",
      "$ PM     \u001b[3m\u001b[90m<int>\u001b[39m\u001b[23m -366\u001b[90m, \u001b[39m-277\u001b[90m, \u001b[39m-162\u001b[90m, \u001b[39m-220\u001b[90m, \u001b[39m-158\u001b[90m, \u001b[39m-189\u001b[90m, \u001b[39m-75\u001b[90m, \u001b[39m-36\u001b[90m, \u001b[39m-77\u001b[90m, \u001b[39m-104\u001b[90m, \u001b[39m-151\u001b[90m, \u001b[39m…\n"
     ]
    }
   ],
   "source": [
    "glimpse(Pbox)"
   ]
  },
  {
   "cell_type": "code",
   "execution_count": 4,
   "id": "1f627acc",
   "metadata": {
    "vscode": {
     "languageId": "r"
    }
   },
   "outputs": [
    {
     "name": "stdout",
     "output_type": "stream",
     "text": [
      "Rows: 30\n",
      "Columns: 23\n",
      "$ Team \u001b[3m\u001b[90m<chr>\u001b[39m\u001b[23m \"Atlanta Hawks\"\u001b[90m, \u001b[39m\"Boston Celtics\"\u001b[90m, \u001b[39m\"Brooklyn Nets\"\u001b[90m, \u001b[39m\"Charlotte Ho…\n",
      "$ GP   \u001b[3m\u001b[90m<int>\u001b[39m\u001b[23m 82\u001b[90m, \u001b[39m82\u001b[90m, \u001b[39m82\u001b[90m, \u001b[39m82\u001b[90m, \u001b[39m82\u001b[90m, \u001b[39m82\u001b[90m, \u001b[39m82\u001b[90m, \u001b[39m82\u001b[90m, \u001b[39m82\u001b[90m, \u001b[39m82\u001b[90m, \u001b[39m82\u001b[90m, \u001b[39m82\u001b[90m, \u001b[39m82\u001b[90m, \u001b[39m82\u001b[90m, \u001b[39m82\u001b[90m, \u001b[39m82\u001b[90m, \u001b[39m8…\n",
      "$ MIN  \u001b[3m\u001b[90m<int>\u001b[39m\u001b[23m 3941\u001b[90m, \u001b[39m3961\u001b[90m, \u001b[39m3971\u001b[90m, \u001b[39m3956\u001b[90m, \u001b[39m3971\u001b[90m, \u001b[39m3946\u001b[90m, \u001b[39m3961\u001b[90m, \u001b[39m3976\u001b[90m, \u001b[39m3961\u001b[90m, \u001b[39m3946\u001b[90m, \u001b[39m3951\u001b[90m,\u001b[39m…\n",
      "$ PTS  \u001b[3m\u001b[90m<int>\u001b[39m\u001b[23m 8475\u001b[90m, \u001b[39m8529\u001b[90m, \u001b[39m8741\u001b[90m, \u001b[39m8874\u001b[90m, \u001b[39m8440\u001b[90m, \u001b[39m9091\u001b[90m, \u001b[39m8390\u001b[90m, \u001b[39m9020\u001b[90m, \u001b[39m8509\u001b[90m, \u001b[39m9304\u001b[90m, \u001b[39m9213\u001b[90m,\u001b[39m…\n",
      "$ W    \u001b[3m\u001b[90m<int>\u001b[39m\u001b[23m 24\u001b[90m, \u001b[39m55\u001b[90m, \u001b[39m28\u001b[90m, \u001b[39m36\u001b[90m, \u001b[39m27\u001b[90m, \u001b[39m50\u001b[90m, \u001b[39m24\u001b[90m, \u001b[39m46\u001b[90m, \u001b[39m39\u001b[90m, \u001b[39m58\u001b[90m, \u001b[39m65\u001b[90m, \u001b[39m48\u001b[90m, \u001b[39m42\u001b[90m, \u001b[39m35\u001b[90m, \u001b[39m22\u001b[90m, \u001b[39m44\u001b[90m, \u001b[39m4…\n",
      "$ L    \u001b[3m\u001b[90m<int>\u001b[39m\u001b[23m 58\u001b[90m, \u001b[39m27\u001b[90m, \u001b[39m54\u001b[90m, \u001b[39m46\u001b[90m, \u001b[39m55\u001b[90m, \u001b[39m32\u001b[90m, \u001b[39m58\u001b[90m, \u001b[39m36\u001b[90m, \u001b[39m43\u001b[90m, \u001b[39m24\u001b[90m, \u001b[39m17\u001b[90m, \u001b[39m34\u001b[90m, \u001b[39m40\u001b[90m, \u001b[39m47\u001b[90m, \u001b[39m60\u001b[90m, \u001b[39m38\u001b[90m, \u001b[39m3…\n",
      "$ P2M  \u001b[3m\u001b[90m<int>\u001b[39m\u001b[23m 2213\u001b[90m, \u001b[39m2202\u001b[90m, \u001b[39m2095\u001b[90m, \u001b[39m2373\u001b[90m, \u001b[39m2264\u001b[90m, \u001b[39m2330\u001b[90m, \u001b[39m2161\u001b[90m, \u001b[39m2398\u001b[90m, \u001b[39m2322\u001b[90m, \u001b[39m2583\u001b[90m, \u001b[39m1918\u001b[90m,\u001b[39m…\n",
      "$ P2A  \u001b[3m\u001b[90m<int>\u001b[39m\u001b[23m 4471\u001b[90m, \u001b[39m4483\u001b[90m, \u001b[39m4190\u001b[90m, \u001b[39m4873\u001b[90m, \u001b[39m4736\u001b[90m, \u001b[39m4314\u001b[90m, \u001b[39m4354\u001b[90m, \u001b[39m4566\u001b[90m, \u001b[39m4756\u001b[90m, \u001b[39m4611\u001b[90m, \u001b[39m3436\u001b[90m,\u001b[39m…\n",
      "$ P2p  \u001b[3m\u001b[90m<dbl>\u001b[39m\u001b[23m 49.49676\u001b[90m, \u001b[39m49.11889\u001b[90m, \u001b[39m50.00000\u001b[90m, \u001b[39m48.69690\u001b[90m, \u001b[39m47.80405\u001b[90m, \u001b[39m54.01020\u001b[90m, \u001b[39m49.63…\n",
      "$ P3M  \u001b[3m\u001b[90m<int>\u001b[39m\u001b[23m 917\u001b[90m, \u001b[39m939\u001b[90m, \u001b[39m1041\u001b[90m, \u001b[39m824\u001b[90m, \u001b[39m906\u001b[90m, \u001b[39m981\u001b[90m, \u001b[39m967\u001b[90m, \u001b[39m940\u001b[90m, \u001b[39m886\u001b[90m, \u001b[39m926\u001b[90m, \u001b[39m1256\u001b[90m, \u001b[39m741\u001b[90m, \u001b[39m777…\n",
      "$ P3A  \u001b[3m\u001b[90m<int>\u001b[39m\u001b[23m 2544\u001b[90m, \u001b[39m2492\u001b[90m, \u001b[39m2924\u001b[90m, \u001b[39m2233\u001b[90m, \u001b[39m2549\u001b[90m, \u001b[39m2636\u001b[90m, \u001b[39m2688\u001b[90m, \u001b[39m2536\u001b[90m, \u001b[39m2373\u001b[90m, \u001b[39m2369\u001b[90m, \u001b[39m3470\u001b[90m,\u001b[39m…\n",
      "$ P3p  \u001b[3m\u001b[90m<dbl>\u001b[39m\u001b[23m 36.04560\u001b[90m, \u001b[39m37.68058\u001b[90m, \u001b[39m35.60192\u001b[90m, \u001b[39m36.90103\u001b[90m, \u001b[39m35.54335\u001b[90m, \u001b[39m37.21548\u001b[90m, \u001b[39m35.97…\n",
      "$ FTM  \u001b[3m\u001b[90m<int>\u001b[39m\u001b[23m 1298\u001b[90m, \u001b[39m1308\u001b[90m, \u001b[39m1428\u001b[90m, \u001b[39m1656\u001b[90m, \u001b[39m1194\u001b[90m, \u001b[39m1488\u001b[90m, \u001b[39m1167\u001b[90m, \u001b[39m1404\u001b[90m, \u001b[39m1207\u001b[90m, \u001b[39m1360\u001b[90m, \u001b[39m1609\u001b[90m,\u001b[39m…\n",
      "$ FTA  \u001b[3m\u001b[90m<int>\u001b[39m\u001b[23m 1654\u001b[90m, \u001b[39m1697\u001b[90m, \u001b[39m1850\u001b[90m, \u001b[39m2216\u001b[90m, \u001b[39m1574\u001b[90m, \u001b[39m1909\u001b[90m, \u001b[39m1530\u001b[90m, \u001b[39m1830\u001b[90m, \u001b[39m1621\u001b[90m, \u001b[39m1668\u001b[90m, \u001b[39m2061\u001b[90m,\u001b[39m…\n",
      "$ FTp  \u001b[3m\u001b[90m<dbl>\u001b[39m\u001b[23m 78.47642\u001b[90m, \u001b[39m77.07720\u001b[90m, \u001b[39m77.18919\u001b[90m, \u001b[39m74.72924\u001b[90m, \u001b[39m75.85769\u001b[90m, \u001b[39m77.94657\u001b[90m, \u001b[39m76.27…\n",
      "$ OREB \u001b[3m\u001b[90m<int>\u001b[39m\u001b[23m 743\u001b[90m, \u001b[39m767\u001b[90m, \u001b[39m792\u001b[90m, \u001b[39m827\u001b[90m, \u001b[39m790\u001b[90m, \u001b[39m694\u001b[90m, \u001b[39m666\u001b[90m, \u001b[39m902\u001b[90m, \u001b[39m830\u001b[90m, \u001b[39m691\u001b[90m, \u001b[39m739\u001b[90m, \u001b[39m788\u001b[90m, \u001b[39m832\u001b[90m, \u001b[39m…\n",
      "$ DREB \u001b[3m\u001b[90m<int>\u001b[39m\u001b[23m 2693\u001b[90m, \u001b[39m2878\u001b[90m, \u001b[39m2852\u001b[90m, \u001b[39m2901\u001b[90m, \u001b[39m2873\u001b[90m, \u001b[39m2761\u001b[90m, \u001b[39m2717\u001b[90m, \u001b[39m2748\u001b[90m, \u001b[39m2756\u001b[90m, \u001b[39m2877\u001b[90m, \u001b[39m2825\u001b[90m,\u001b[39m…\n",
      "$ AST  \u001b[3m\u001b[90m<int>\u001b[39m\u001b[23m 1946\u001b[90m, \u001b[39m1842\u001b[90m, \u001b[39m1941\u001b[90m, \u001b[39m1770\u001b[90m, \u001b[39m1923\u001b[90m, \u001b[39m1916\u001b[90m, \u001b[39m1858\u001b[90m, \u001b[39m2059\u001b[90m, \u001b[39m1868\u001b[90m, \u001b[39m2402\u001b[90m, \u001b[39m1767\u001b[90m,\u001b[39m…\n",
      "$ TOV  \u001b[3m\u001b[90m<int>\u001b[39m\u001b[23m 1276\u001b[90m, \u001b[39m1149\u001b[90m, \u001b[39m1245\u001b[90m, \u001b[39m1041\u001b[90m, \u001b[39m1147\u001b[90m, \u001b[39m1126\u001b[90m, \u001b[39m1007\u001b[90m, \u001b[39m1227\u001b[90m, \u001b[39m1103\u001b[90m, \u001b[39m1265\u001b[90m, \u001b[39m1135\u001b[90m,\u001b[39m…\n",
      "$ STL  \u001b[3m\u001b[90m<int>\u001b[39m\u001b[23m 638\u001b[90m, \u001b[39m604\u001b[90m, \u001b[39m512\u001b[90m, \u001b[39m559\u001b[90m, \u001b[39m626\u001b[90m, \u001b[39m582\u001b[90m, \u001b[39m578\u001b[90m, \u001b[39m627\u001b[90m, \u001b[39m628\u001b[90m, \u001b[39m655\u001b[90m, \u001b[39m699\u001b[90m, \u001b[39m721\u001b[90m, \u001b[39m628\u001b[90m, \u001b[39m…\n",
      "$ BLK  \u001b[3m\u001b[90m<int>\u001b[39m\u001b[23m 348\u001b[90m, \u001b[39m373\u001b[90m, \u001b[39m390\u001b[90m, \u001b[39m373\u001b[90m, \u001b[39m289\u001b[90m, \u001b[39m312\u001b[90m, \u001b[39m310\u001b[90m, \u001b[39m404\u001b[90m, \u001b[39m317\u001b[90m, \u001b[39m612\u001b[90m, \u001b[39m392\u001b[90m, \u001b[39m340\u001b[90m, \u001b[39m373\u001b[90m, \u001b[39m…\n",
      "$ PF   \u001b[3m\u001b[90m<int>\u001b[39m\u001b[23m 1606\u001b[90m, \u001b[39m1618\u001b[90m, \u001b[39m1688\u001b[90m, \u001b[39m1409\u001b[90m, \u001b[39m1571\u001b[90m, \u001b[39m1524\u001b[90m, \u001b[39m1578\u001b[90m, \u001b[39m1533\u001b[90m, \u001b[39m1508\u001b[90m, \u001b[39m1607\u001b[90m, \u001b[39m1597\u001b[90m,\u001b[39m…\n",
      "$ PM   \u001b[3m\u001b[90m<int>\u001b[39m\u001b[23m -447\u001b[90m, \u001b[39m294\u001b[90m, \u001b[39m-307\u001b[90m, \u001b[39m21\u001b[90m, \u001b[39m-577\u001b[90m, \u001b[39m77\u001b[90m, \u001b[39m-249\u001b[90m, \u001b[39m121\u001b[90m, \u001b[39m-12\u001b[90m, \u001b[39m490\u001b[90m, \u001b[39m695\u001b[90m, \u001b[39m113\u001b[90m, \u001b[39m3\u001b[90m, \u001b[39m…\n"
     ]
    }
   ],
   "source": [
    "glimpse(Tbox)"
   ]
  },
  {
   "cell_type": "code",
   "execution_count": 5,
   "id": "d41b5e92",
   "metadata": {
    "vscode": {
     "languageId": "r"
    }
   },
   "outputs": [
    {
     "name": "stdout",
     "output_type": "stream",
     "text": [
      "Rows: 30\n",
      "Columns: 23\n",
      "$ Team \u001b[3m\u001b[90m<chr>\u001b[39m\u001b[23m \"Atlanta Hawks\"\u001b[90m, \u001b[39m\"Boston Celtics\"\u001b[90m, \u001b[39m\"Brooklyn Nets\"\u001b[90m, \u001b[39m\"Charlotte Ho…\n",
      "$ GP   \u001b[3m\u001b[90m<int>\u001b[39m\u001b[23m 82\u001b[90m, \u001b[39m82\u001b[90m, \u001b[39m82\u001b[90m, \u001b[39m82\u001b[90m, \u001b[39m82\u001b[90m, \u001b[39m82\u001b[90m, \u001b[39m82\u001b[90m, \u001b[39m82\u001b[90m, \u001b[39m82\u001b[90m, \u001b[39m82\u001b[90m, \u001b[39m82\u001b[90m, \u001b[39m82\u001b[90m, \u001b[39m82\u001b[90m, \u001b[39m82\u001b[90m, \u001b[39m82\u001b[90m, \u001b[39m82\u001b[90m, \u001b[39m8…\n",
      "$ MIN  \u001b[3m\u001b[90m<int>\u001b[39m\u001b[23m 3941\u001b[90m, \u001b[39m3961\u001b[90m, \u001b[39m3971\u001b[90m, \u001b[39m3956\u001b[90m, \u001b[39m3971\u001b[90m, \u001b[39m3946\u001b[90m, \u001b[39m3961\u001b[90m, \u001b[39m3976\u001b[90m, \u001b[39m3961\u001b[90m, \u001b[39m3946\u001b[90m, \u001b[39m3951\u001b[90m,\u001b[39m…\n",
      "$ PTS  \u001b[3m\u001b[90m<int>\u001b[39m\u001b[23m 8922\u001b[90m, \u001b[39m8235\u001b[90m, \u001b[39m9048\u001b[90m, \u001b[39m8853\u001b[90m, \u001b[39m9017\u001b[90m, \u001b[39m9014\u001b[90m, \u001b[39m8639\u001b[90m, \u001b[39m8899\u001b[90m, \u001b[39m8521\u001b[90m, \u001b[39m8814\u001b[90m, \u001b[39m8518\u001b[90m,\u001b[39m…\n",
      "$ W    \u001b[3m\u001b[90m<int>\u001b[39m\u001b[23m 24\u001b[90m, \u001b[39m55\u001b[90m, \u001b[39m28\u001b[90m, \u001b[39m36\u001b[90m, \u001b[39m27\u001b[90m, \u001b[39m50\u001b[90m, \u001b[39m24\u001b[90m, \u001b[39m46\u001b[90m, \u001b[39m39\u001b[90m, \u001b[39m58\u001b[90m, \u001b[39m65\u001b[90m, \u001b[39m48\u001b[90m, \u001b[39m42\u001b[90m, \u001b[39m35\u001b[90m, \u001b[39m22\u001b[90m, \u001b[39m44\u001b[90m, \u001b[39m4…\n",
      "$ L    \u001b[3m\u001b[90m<int>\u001b[39m\u001b[23m 58\u001b[90m, \u001b[39m27\u001b[90m, \u001b[39m54\u001b[90m, \u001b[39m46\u001b[90m, \u001b[39m55\u001b[90m, \u001b[39m32\u001b[90m, \u001b[39m58\u001b[90m, \u001b[39m36\u001b[90m, \u001b[39m43\u001b[90m, \u001b[39m24\u001b[90m, \u001b[39m17\u001b[90m, \u001b[39m34\u001b[90m, \u001b[39m40\u001b[90m, \u001b[39m47\u001b[90m, \u001b[39m60\u001b[90m, \u001b[39m38\u001b[90m, \u001b[39m3…\n",
      "$ P2M  \u001b[3m\u001b[90m<int>\u001b[39m\u001b[23m 2387\u001b[90m, \u001b[39m2297\u001b[90m, \u001b[39m2677\u001b[90m, \u001b[39m2444\u001b[90m, \u001b[39m2370\u001b[90m, \u001b[39m2473\u001b[90m, \u001b[39m2345\u001b[90m, \u001b[39m2493\u001b[90m, \u001b[39m2298\u001b[90m, \u001b[39m2443\u001b[90m, \u001b[39m2415\u001b[90m,\u001b[39m…\n",
      "$ P2A  \u001b[3m\u001b[90m<int>\u001b[39m\u001b[23m 4588\u001b[90m, \u001b[39m4703\u001b[90m, \u001b[39m5324\u001b[90m, \u001b[39m4732\u001b[90m, \u001b[39m4437\u001b[90m, \u001b[39m4642\u001b[90m, \u001b[39m4459\u001b[90m, \u001b[39m4749\u001b[90m, \u001b[39m4461\u001b[90m, \u001b[39m4988\u001b[90m, \u001b[39m4652\u001b[90m,\u001b[39m…\n",
      "$ P2p  \u001b[3m\u001b[90m<dbl>\u001b[39m\u001b[23m 52.02703\u001b[90m, \u001b[39m48.84117\u001b[90m, \u001b[39m50.28174\u001b[90m, \u001b[39m51.64835\u001b[90m, \u001b[39m53.41447\u001b[90m, \u001b[39m53.27445\u001b[90m, \u001b[39m52.59…\n",
      "$ P3M  \u001b[3m\u001b[90m<int>\u001b[39m\u001b[23m 949\u001b[90m, \u001b[39m769\u001b[90m, \u001b[39m741\u001b[90m, \u001b[39m926\u001b[90m, \u001b[39m990\u001b[90m, \u001b[39m956\u001b[90m, \u001b[39m874\u001b[90m, \u001b[39m893\u001b[90m, \u001b[39m908\u001b[90m, \u001b[39m853\u001b[90m, \u001b[39m829\u001b[90m, \u001b[39m870\u001b[90m, \u001b[39m881\u001b[90m, \u001b[39m…\n",
      "$ P3A  \u001b[3m\u001b[90m<int>\u001b[39m\u001b[23m 2519\u001b[90m, \u001b[39m2270\u001b[90m, \u001b[39m2010\u001b[90m, \u001b[39m2467\u001b[90m, \u001b[39m2678\u001b[90m, \u001b[39m2596\u001b[90m, \u001b[39m2411\u001b[90m, \u001b[39m2364\u001b[90m, \u001b[39m2527\u001b[90m, \u001b[39m2392\u001b[90m, \u001b[39m2365\u001b[90m,\u001b[39m…\n",
      "$ P3p  \u001b[3m\u001b[90m<dbl>\u001b[39m\u001b[23m 37.67368\u001b[90m, \u001b[39m33.87665\u001b[90m, \u001b[39m36.86567\u001b[90m, \u001b[39m37.53547\u001b[90m, \u001b[39m36.96789\u001b[90m, \u001b[39m36.82589\u001b[90m, \u001b[39m36.25…\n",
      "$ FTM  \u001b[3m\u001b[90m<int>\u001b[39m\u001b[23m 1301\u001b[90m, \u001b[39m1334\u001b[90m, \u001b[39m1471\u001b[90m, \u001b[39m1187\u001b[90m, \u001b[39m1307\u001b[90m, \u001b[39m1200\u001b[90m, \u001b[39m1327\u001b[90m, \u001b[39m1234\u001b[90m, \u001b[39m1201\u001b[90m, \u001b[39m1369\u001b[90m, \u001b[39m1201\u001b[90m,\u001b[39m…\n",
      "$ FTA  \u001b[3m\u001b[90m<int>\u001b[39m\u001b[23m 1686\u001b[90m, \u001b[39m1748\u001b[90m, \u001b[39m1921\u001b[90m, \u001b[39m1494\u001b[90m, \u001b[39m1660\u001b[90m, \u001b[39m1588\u001b[90m, \u001b[39m1754\u001b[90m, \u001b[39m1671\u001b[90m, \u001b[39m1548\u001b[90m, \u001b[39m1807\u001b[90m, \u001b[39m1610\u001b[90m,\u001b[39m…\n",
      "$ FTp  \u001b[3m\u001b[90m<dbl>\u001b[39m\u001b[23m 77.16489\u001b[90m, \u001b[39m76.31579\u001b[90m, \u001b[39m76.57470\u001b[90m, \u001b[39m79.45114\u001b[90m, \u001b[39m78.73494\u001b[90m, \u001b[39m75.56675\u001b[90m, \u001b[39m75.65…\n",
      "$ OREB \u001b[3m\u001b[90m<int>\u001b[39m\u001b[23m 841\u001b[90m, \u001b[39m791\u001b[90m, \u001b[39m853\u001b[90m, \u001b[39m692\u001b[90m, \u001b[39m691\u001b[90m, \u001b[39m812\u001b[90m, \u001b[39m725\u001b[90m, \u001b[39m800\u001b[90m, \u001b[39m756\u001b[90m, \u001b[39m893\u001b[90m, \u001b[39m710\u001b[90m, \u001b[39m838\u001b[90m, \u001b[39m871\u001b[90m, \u001b[39m…\n",
      "$ DREB \u001b[3m\u001b[90m<int>\u001b[39m\u001b[23m 2785\u001b[90m, \u001b[39m2804\u001b[90m, \u001b[39m2981\u001b[90m, \u001b[39m2891\u001b[90m, \u001b[39m3053\u001b[90m, \u001b[39m2766\u001b[90m, \u001b[39m3027\u001b[90m, \u001b[39m2613\u001b[90m, \u001b[39m2833\u001b[90m, \u001b[39m2592\u001b[90m, \u001b[39m2738\u001b[90m,\u001b[39m…\n",
      "$ AST  \u001b[3m\u001b[90m<int>\u001b[39m\u001b[23m 2137\u001b[90m, \u001b[39m1744\u001b[90m, \u001b[39m1782\u001b[90m, \u001b[39m2029\u001b[90m, \u001b[39m2123\u001b[90m, \u001b[39m2122\u001b[90m, \u001b[39m1929\u001b[90m, \u001b[39m2028\u001b[90m, \u001b[39m2064\u001b[90m, \u001b[39m1934\u001b[90m, \u001b[39m1837\u001b[90m,\u001b[39m…\n",
      "$ TOV  \u001b[3m\u001b[90m<int>\u001b[39m\u001b[23m 1238\u001b[90m, \u001b[39m1159\u001b[90m, \u001b[39m1015\u001b[90m, \u001b[39m1112\u001b[90m, \u001b[39m1112\u001b[90m, \u001b[39m1105\u001b[90m, \u001b[39m1126\u001b[90m, \u001b[39m1131\u001b[90m, \u001b[39m1215\u001b[90m, \u001b[39m1175\u001b[90m, \u001b[39m1194\u001b[90m,\u001b[39m…\n",
      "$ STL  \u001b[3m\u001b[90m<int>\u001b[39m\u001b[23m 710\u001b[90m, \u001b[39m594\u001b[90m, \u001b[39m630\u001b[90m, \u001b[39m542\u001b[90m, \u001b[39m588\u001b[90m, \u001b[39m613\u001b[90m, \u001b[39m594\u001b[90m, \u001b[39m654\u001b[90m, \u001b[39m597\u001b[90m, \u001b[39m717\u001b[90m, \u001b[39m608\u001b[90m, \u001b[39m577\u001b[90m, \u001b[39m699\u001b[90m, \u001b[39m…\n",
      "$ BLK  \u001b[3m\u001b[90m<int>\u001b[39m\u001b[23m 453\u001b[90m, \u001b[39m364\u001b[90m, \u001b[39m450\u001b[90m, \u001b[39m404\u001b[90m, \u001b[39m423\u001b[90m, \u001b[39m340\u001b[90m, \u001b[39m369\u001b[90m, \u001b[39m391\u001b[90m, \u001b[39m398\u001b[90m, \u001b[39m301\u001b[90m, \u001b[39m363\u001b[90m, \u001b[39m428\u001b[90m, \u001b[39m462\u001b[90m, \u001b[39m…\n",
      "$ PF   \u001b[3m\u001b[90m<int>\u001b[39m\u001b[23m 1661\u001b[90m, \u001b[39m1571\u001b[90m, \u001b[39m1615\u001b[90m, \u001b[39m1839\u001b[90m, \u001b[39m1425\u001b[90m, \u001b[39m1696\u001b[90m, \u001b[39m1604\u001b[90m, \u001b[39m1699\u001b[90m, \u001b[39m1511\u001b[90m, \u001b[39m1516\u001b[90m, \u001b[39m1670\u001b[90m,\u001b[39m…\n",
      "$ PM   \u001b[3m\u001b[90m<int>\u001b[39m\u001b[23m 447\u001b[90m, \u001b[39m-294\u001b[90m, \u001b[39m307\u001b[90m, \u001b[39m-21\u001b[90m, \u001b[39m577\u001b[90m, \u001b[39m-77\u001b[90m, \u001b[39m249\u001b[90m, \u001b[39m-121\u001b[90m, \u001b[39m12\u001b[90m, \u001b[39m-490\u001b[90m, \u001b[39m-695\u001b[90m, \u001b[39m-113\u001b[90m, \u001b[39m-…\n"
     ]
    }
   ],
   "source": [
    "glimpse(Obox)"
   ]
  },
  {
   "cell_type": "code",
   "execution_count": 6,
   "id": "7d5e06e9",
   "metadata": {
    "vscode": {
     "languageId": "r"
    }
   },
   "outputs": [
    {
     "name": "stdout",
     "output_type": "stream",
     "text": [
      "Rows: 30\n",
      "Columns: 6\n",
      "$ Team       \u001b[3m\u001b[90m<fct>\u001b[39m\u001b[23m Atlanta Hawks\u001b[90m, \u001b[39mBoston Celtics\u001b[90m, \u001b[39mBrooklyn Nets\u001b[90m, \u001b[39mCharlotte Hor…\n",
      "$ team       \u001b[3m\u001b[90m<fct>\u001b[39m\u001b[23m ATL\u001b[90m, \u001b[39mBOS\u001b[90m, \u001b[39mBKN\u001b[90m, \u001b[39mCHA\u001b[90m, \u001b[39mCHI\u001b[90m, \u001b[39mCLE\u001b[90m, \u001b[39mDAL\u001b[90m, \u001b[39mDEN\u001b[90m, \u001b[39mDET\u001b[90m, \u001b[39mGSW\u001b[90m, \u001b[39mHOU\u001b[90m, \u001b[39mIND\u001b[90m,\u001b[39m…\n",
      "$ Conference \u001b[3m\u001b[90m<fct>\u001b[39m\u001b[23m E\u001b[90m, \u001b[39mE\u001b[90m, \u001b[39mE\u001b[90m, \u001b[39mE\u001b[90m, \u001b[39mE\u001b[90m, \u001b[39mE\u001b[90m, \u001b[39mW\u001b[90m, \u001b[39mW\u001b[90m, \u001b[39mE\u001b[90m, \u001b[39mW\u001b[90m, \u001b[39mW\u001b[90m, \u001b[39mE\u001b[90m, \u001b[39mW\u001b[90m, \u001b[39mW\u001b[90m, \u001b[39mW\u001b[90m, \u001b[39mE\u001b[90m, \u001b[39mE\u001b[90m, \u001b[39mW\u001b[90m, \u001b[39mW\u001b[90m, \u001b[39mE\u001b[90m,\u001b[39m…\n",
      "$ Division   \u001b[3m\u001b[90m<fct>\u001b[39m\u001b[23m Southeast\u001b[90m, \u001b[39mAtlantic\u001b[90m, \u001b[39mAtlantic\u001b[90m, \u001b[39mSoutheast\u001b[90m, \u001b[39mCentral\u001b[90m, \u001b[39mCentral\u001b[90m,\u001b[39m…\n",
      "$ Rank       \u001b[3m\u001b[90m<int>\u001b[39m\u001b[23m 15\u001b[90m, \u001b[39m2\u001b[90m, \u001b[39m12\u001b[90m, \u001b[39m10\u001b[90m, \u001b[39m13\u001b[90m, \u001b[39m4\u001b[90m, \u001b[39m13\u001b[90m, \u001b[39m9\u001b[90m, \u001b[39m9\u001b[90m, \u001b[39m2\u001b[90m, \u001b[39m1\u001b[90m, \u001b[39m5\u001b[90m, \u001b[39m10\u001b[90m, \u001b[39m11\u001b[90m, \u001b[39m14\u001b[90m, \u001b[39m6\u001b[90m, \u001b[39m7\u001b[90m, \u001b[39m…\n",
      "$ Playoff    \u001b[3m\u001b[90m<fct>\u001b[39m\u001b[23m N\u001b[90m, \u001b[39mY\u001b[90m, \u001b[39mN\u001b[90m, \u001b[39mN\u001b[90m, \u001b[39mN\u001b[90m, \u001b[39mY\u001b[90m, \u001b[39mN\u001b[90m, \u001b[39mN\u001b[90m, \u001b[39mN\u001b[90m, \u001b[39mY\u001b[90m, \u001b[39mY\u001b[90m, \u001b[39mY\u001b[90m, \u001b[39mN\u001b[90m, \u001b[39mN\u001b[90m, \u001b[39mN\u001b[90m, \u001b[39mY\u001b[90m, \u001b[39mY\u001b[90m, \u001b[39mY\u001b[90m, \u001b[39mY\u001b[90m, \u001b[39mN\u001b[90m,\u001b[39m…\n"
     ]
    }
   ],
   "source": [
    "glimpse(Tadd)"
   ]
  },
  {
   "cell_type": "code",
   "execution_count": 7,
   "id": "b62c8acd",
   "metadata": {
    "vscode": {
     "languageId": "r"
    }
   },
   "outputs": [
    {
     "name": "stdout",
     "output_type": "stream",
     "text": [
      "Rows: 37,430\n",
      "Columns: 44\n",
      "$ game_id        \u001b[3m\u001b[90m<fct>\u001b[39m\u001b[23m 21700002\u001b[90m, \u001b[39m21700002\u001b[90m, \u001b[39m21700002\u001b[90m, \u001b[39m21700002\u001b[90m, \u001b[39m21700002\u001b[90m, \u001b[39m21700…\n",
      "$ data_set       \u001b[3m\u001b[90m<fct>\u001b[39m\u001b[23m 2017-2018 Regular Season\u001b[90m, \u001b[39m2017-2018 Regular Season\u001b[90m, \u001b[39m201…\n",
      "$ date           \u001b[3m\u001b[90m<fct>\u001b[39m\u001b[23m 10/17/2017\u001b[90m, \u001b[39m10/17/2017\u001b[90m, \u001b[39m10/17/2017\u001b[90m, \u001b[39m10/17/2017\u001b[90m, \u001b[39m10/17/2…\n",
      "$ a1             \u001b[3m\u001b[90m<fct>\u001b[39m\u001b[23m Trevor Ariza\u001b[90m, \u001b[39mTrevor Ariza\u001b[90m, \u001b[39mTrevor Ariza\u001b[90m, \u001b[39mTrevor Ariza\u001b[90m,\u001b[39m…\n",
      "$ a2             \u001b[3m\u001b[90m<fct>\u001b[39m\u001b[23m Ryan Anderson\u001b[90m, \u001b[39mRyan Anderson\u001b[90m, \u001b[39mRyan Anderson\u001b[90m, \u001b[39mRyan Ander…\n",
      "$ a3             \u001b[3m\u001b[90m<fct>\u001b[39m\u001b[23m Clint Capela\u001b[90m, \u001b[39mClint Capela\u001b[90m, \u001b[39mClint Capela\u001b[90m, \u001b[39mClint Capela\u001b[90m,\u001b[39m…\n",
      "$ a4             \u001b[3m\u001b[90m<fct>\u001b[39m\u001b[23m James Harden\u001b[90m, \u001b[39mJames Harden\u001b[90m, \u001b[39mJames Harden\u001b[90m, \u001b[39mJames Harden\u001b[90m,\u001b[39m…\n",
      "$ a5             \u001b[3m\u001b[90m<fct>\u001b[39m\u001b[23m Chris Paul\u001b[90m, \u001b[39mChris Paul\u001b[90m, \u001b[39mChris Paul\u001b[90m, \u001b[39mChris Paul\u001b[90m, \u001b[39mChris P…\n",
      "$ h1             \u001b[3m\u001b[90m<fct>\u001b[39m\u001b[23m Kevin Durant\u001b[90m, \u001b[39mKevin Durant\u001b[90m, \u001b[39mKevin Durant\u001b[90m, \u001b[39mKevin Durant\u001b[90m,\u001b[39m…\n",
      "$ h2             \u001b[3m\u001b[90m<fct>\u001b[39m\u001b[23m Draymond Green\u001b[90m, \u001b[39mDraymond Green\u001b[90m, \u001b[39mDraymond Green\u001b[90m, \u001b[39mDraymon…\n",
      "$ h3             \u001b[3m\u001b[90m<fct>\u001b[39m\u001b[23m Zaza Pachulia\u001b[90m, \u001b[39mZaza Pachulia\u001b[90m, \u001b[39mZaza Pachulia\u001b[90m, \u001b[39mZaza Pachu…\n",
      "$ h4             \u001b[3m\u001b[90m<fct>\u001b[39m\u001b[23m Klay Thompson\u001b[90m, \u001b[39mKlay Thompson\u001b[90m, \u001b[39mKlay Thompson\u001b[90m, \u001b[39mKlay Thomp…\n",
      "$ h5             \u001b[3m\u001b[90m<fct>\u001b[39m\u001b[23m Stephen Curry\u001b[90m, \u001b[39mStephen Curry\u001b[90m, \u001b[39mStephen Curry\u001b[90m, \u001b[39mStephen Cu…\n",
      "$ period         \u001b[3m\u001b[90m<int>\u001b[39m\u001b[23m 1\u001b[90m, \u001b[39m1\u001b[90m, \u001b[39m1\u001b[90m, \u001b[39m1\u001b[90m, \u001b[39m1\u001b[90m, \u001b[39m1\u001b[90m, \u001b[39m1\u001b[90m, \u001b[39m1\u001b[90m, \u001b[39m1\u001b[90m, \u001b[39m1\u001b[90m, \u001b[39m1\u001b[90m, \u001b[39m1\u001b[90m, \u001b[39m1\u001b[90m, \u001b[39m1\u001b[90m, \u001b[39m1\u001b[90m, \u001b[39m1\u001b[90m, \u001b[39m1\u001b[90m, \u001b[39m1\u001b[90m, \u001b[39m1…\n",
      "$ away_score     \u001b[3m\u001b[90m<int>\u001b[39m\u001b[23m 0\u001b[90m, \u001b[39m0\u001b[90m, \u001b[39m2\u001b[90m, \u001b[39m2\u001b[90m, \u001b[39m2\u001b[90m, \u001b[39m2\u001b[90m, \u001b[39m2\u001b[90m, \u001b[39m2\u001b[90m, \u001b[39m2\u001b[90m, \u001b[39m2\u001b[90m, \u001b[39m2\u001b[90m, \u001b[39m2\u001b[90m, \u001b[39m2\u001b[90m, \u001b[39m2\u001b[90m, \u001b[39m2\u001b[90m, \u001b[39m2\u001b[90m, \u001b[39m5\u001b[90m, \u001b[39m5\u001b[90m, \u001b[39m5…\n",
      "$ home_score     \u001b[3m\u001b[90m<int>\u001b[39m\u001b[23m 0\u001b[90m, \u001b[39m0\u001b[90m, \u001b[39m0\u001b[90m, \u001b[39m0\u001b[90m, \u001b[39m0\u001b[90m, \u001b[39m0\u001b[90m, \u001b[39m0\u001b[90m, \u001b[39m0\u001b[90m, \u001b[39m1\u001b[90m, \u001b[39m2\u001b[90m, \u001b[39m2\u001b[90m, \u001b[39m2\u001b[90m, \u001b[39m2\u001b[90m, \u001b[39m2\u001b[90m, \u001b[39m2\u001b[90m, \u001b[39m5\u001b[90m, \u001b[39m5\u001b[90m, \u001b[39m7\u001b[90m, \u001b[39m7…\n",
      "$ remaining_time \u001b[3m\u001b[90m<fct>\u001b[39m\u001b[23m 0:12:00\u001b[90m, \u001b[39m0:12:00\u001b[90m, \u001b[39m0:11:47\u001b[90m, \u001b[39m0:11:27\u001b[90m, \u001b[39m0:11:23\u001b[90m, \u001b[39m0:11:13\u001b[90m, \u001b[39m0…\n",
      "$ elapsed        \u001b[3m\u001b[90m<fct>\u001b[39m\u001b[23m 0:00:00\u001b[90m, \u001b[39m0:00:00\u001b[90m, \u001b[39m0:00:13\u001b[90m, \u001b[39m0:00:33\u001b[90m, \u001b[39m0:00:37\u001b[90m, \u001b[39m0:00:47\u001b[90m, \u001b[39m0…\n",
      "$ play_length    \u001b[3m\u001b[90m<fct>\u001b[39m\u001b[23m 0:00:00\u001b[90m, \u001b[39m0:00:00\u001b[90m, \u001b[39m0:00:13\u001b[90m, \u001b[39m0:00:20\u001b[90m, \u001b[39m0:00:04\u001b[90m, \u001b[39m0:00:10\u001b[90m, \u001b[39m0…\n",
      "$ play_id        \u001b[3m\u001b[90m<int>\u001b[39m\u001b[23m 2\u001b[90m, \u001b[39m4\u001b[90m, \u001b[39m7\u001b[90m, \u001b[39m8\u001b[90m, \u001b[39m9\u001b[90m, \u001b[39m10\u001b[90m, \u001b[39m11\u001b[90m, \u001b[39m12\u001b[90m, \u001b[39m14\u001b[90m, \u001b[39m15\u001b[90m, \u001b[39m16\u001b[90m, \u001b[39m18\u001b[90m, \u001b[39m19\u001b[90m, \u001b[39m20\u001b[90m, \u001b[39m21\u001b[90m, \u001b[39m…\n",
      "$ team           \u001b[3m\u001b[90m<fct>\u001b[39m\u001b[23m \u001b[90m, \u001b[39mHOU\u001b[90m, \u001b[39mHOU\u001b[90m, \u001b[39mGSW\u001b[90m, \u001b[39mHOU\u001b[90m, \u001b[39mHOU\u001b[90m, \u001b[39mGSW\u001b[90m, \u001b[39mHOU\u001b[90m, \u001b[39mGSW\u001b[90m, \u001b[39mGSW\u001b[90m, \u001b[39mHOU\u001b[90m, \u001b[39mGSW…\n",
      "$ event_type     \u001b[3m\u001b[90m<fct>\u001b[39m\u001b[23m start of period\u001b[90m, \u001b[39mjump ball\u001b[90m, \u001b[39mshot\u001b[90m, \u001b[39mmiss\u001b[90m, \u001b[39mrebound\u001b[90m, \u001b[39mmiss\u001b[90m, \u001b[39m…\n",
      "$ assist         \u001b[3m\u001b[90m<fct>\u001b[39m\u001b[23m \u001b[90m, , , , , , , , , , , , , , , \u001b[39mDraymond Green\u001b[90m, \u001b[39mChris Pau…\n",
      "$ away           \u001b[3m\u001b[90m<fct>\u001b[39m\u001b[23m \u001b[90m, \u001b[39mClint Capela\u001b[90m, , , , , , , , , , , , , , , , , , , , ,\u001b[39m…\n",
      "$ home           \u001b[3m\u001b[90m<fct>\u001b[39m\u001b[23m \u001b[90m, \u001b[39mZaza Pachulia\u001b[90m, , , , , , , , , , , , , , , , , , , , \u001b[39m…\n",
      "$ block          \u001b[3m\u001b[90m<fct>\u001b[39m\u001b[23m \u001b[90m, , , , , , , , , , , , , , , , , , , , , , , , \u001b[39mKlay Th…\n",
      "$ entered        \u001b[3m\u001b[90m<fct>\u001b[39m\u001b[23m \u001b[90m, \u001b[39m\u001b[90m, \u001b[39m\u001b[90m, \u001b[39m\u001b[90m, \u001b[39m\u001b[90m, \u001b[39m\u001b[90m, \u001b[39m\u001b[90m, \u001b[39m\u001b[90m, \u001b[39m\u001b[90m, \u001b[39m\u001b[90m, \u001b[39m\u001b[90m, \u001b[39m\u001b[90m, \u001b[39m\u001b[90m, \u001b[39m\u001b[90m, \u001b[39m\u001b[90m, \u001b[39m\u001b[90m, \u001b[39m\u001b[90m, \u001b[39m\u001b[90m, \u001b[39m\u001b[90m, \u001b[39m\u001b[90m, \u001b[39m\u001b[90m, \u001b[39m\u001b[90m, \u001b[39m\u001b[90m, \u001b[39m\u001b[90m, \u001b[39m\u001b[90m, \u001b[39m\n",
      "$ left           \u001b[3m\u001b[90m<fct>\u001b[39m\u001b[23m \u001b[90m, \u001b[39m\u001b[90m, \u001b[39m\u001b[90m, \u001b[39m\u001b[90m, \u001b[39m\u001b[90m, \u001b[39m\u001b[90m, \u001b[39m\u001b[90m, \u001b[39m\u001b[90m, \u001b[39m\u001b[90m, \u001b[39m\u001b[90m, \u001b[39m\u001b[90m, \u001b[39m\u001b[90m, \u001b[39m\u001b[90m, \u001b[39m\u001b[90m, \u001b[39m\u001b[90m, \u001b[39m\u001b[90m, \u001b[39m\u001b[90m, \u001b[39m\u001b[90m, \u001b[39m\u001b[90m, \u001b[39m\u001b[90m, \u001b[39m\u001b[90m, \u001b[39m\u001b[90m, \u001b[39m\u001b[90m, \u001b[39m\u001b[90m, \u001b[39m\u001b[90m, \u001b[39m\n",
      "$ num            \u001b[3m\u001b[90m<int>\u001b[39m\u001b[23m \u001b[31mNA\u001b[39m\u001b[90m, \u001b[39m\u001b[31mNA\u001b[39m\u001b[90m, \u001b[39m\u001b[31mNA\u001b[39m\u001b[90m, \u001b[39m\u001b[31mNA\u001b[39m\u001b[90m, \u001b[39m\u001b[31mNA\u001b[39m\u001b[90m, \u001b[39m\u001b[31mNA\u001b[39m\u001b[90m, \u001b[39m\u001b[31mNA\u001b[39m\u001b[90m, \u001b[39m\u001b[31mNA\u001b[39m\u001b[90m, \u001b[39m1\u001b[90m, \u001b[39m2\u001b[90m, \u001b[39m\u001b[31mNA\u001b[39m\u001b[90m, \u001b[39m\u001b[31mNA\u001b[39m\u001b[90m, \u001b[39m\u001b[31mNA\u001b[39m\u001b[90m, \u001b[39m\u001b[31mNA\u001b[39m\u001b[90m, \u001b[39m\u001b[31mN\u001b[39m…\n",
      "$ opponent       \u001b[3m\u001b[90m<fct>\u001b[39m\u001b[23m \u001b[90m, , , , , , , \u001b[39mZaza Pachulia\u001b[90m, , , , , , , , , , , , , \u001b[39mDr…\n",
      "$ outof          \u001b[3m\u001b[90m<int>\u001b[39m\u001b[23m \u001b[31mNA\u001b[39m\u001b[90m, \u001b[39m\u001b[31mNA\u001b[39m\u001b[90m, \u001b[39m\u001b[31mNA\u001b[39m\u001b[90m, \u001b[39m\u001b[31mNA\u001b[39m\u001b[90m, \u001b[39m\u001b[31mNA\u001b[39m\u001b[90m, \u001b[39m\u001b[31mNA\u001b[39m\u001b[90m, \u001b[39m\u001b[31mNA\u001b[39m\u001b[90m, \u001b[39m\u001b[31mNA\u001b[39m\u001b[90m, \u001b[39m2\u001b[90m, \u001b[39m2\u001b[90m, \u001b[39m\u001b[31mNA\u001b[39m\u001b[90m, \u001b[39m\u001b[31mNA\u001b[39m\u001b[90m, \u001b[39m\u001b[31mNA\u001b[39m\u001b[90m, \u001b[39m\u001b[31mNA\u001b[39m\u001b[90m, \u001b[39m\u001b[31mN\u001b[39m…\n",
      "$ player         \u001b[3m\u001b[90m<fct>\u001b[39m\u001b[23m \u001b[90m, \u001b[39mZaza Pachulia\u001b[90m, \u001b[39mJames Harden\u001b[90m, \u001b[39mDraymond Green\u001b[90m, \u001b[39mClint Ca…\n",
      "$ points         \u001b[3m\u001b[90m<int>\u001b[39m\u001b[23m \u001b[31mNA\u001b[39m\u001b[90m, \u001b[39m\u001b[31mNA\u001b[39m\u001b[90m, \u001b[39m2\u001b[90m, \u001b[39m0\u001b[90m, \u001b[39m\u001b[31mNA\u001b[39m\u001b[90m, \u001b[39m0\u001b[90m, \u001b[39m\u001b[31mNA\u001b[39m\u001b[90m, \u001b[39m\u001b[31mNA\u001b[39m\u001b[90m, \u001b[39m1\u001b[90m, \u001b[39m1\u001b[90m, \u001b[39m\u001b[31mNA\u001b[39m\u001b[90m, \u001b[39m0\u001b[90m, \u001b[39m\u001b[31mNA\u001b[39m\u001b[90m, \u001b[39m0\u001b[90m, \u001b[39m\u001b[31mNA\u001b[39m\u001b[90m, \u001b[39m3\u001b[90m,\u001b[39m…\n",
      "$ possession     \u001b[3m\u001b[90m<fct>\u001b[39m\u001b[23m \u001b[90m, \u001b[39mRyan Anderson\u001b[90m, , , , , , , , , , , , , , , , , , , , \u001b[39m…\n",
      "$ reason         \u001b[3m\u001b[90m<fct>\u001b[39m\u001b[23m \u001b[90m, , , , , , , \u001b[39ms.foul\u001b[90m, , , \u001b[39mbad pass \u001b[90m, , , , , , , , , , \u001b[39m…\n",
      "$ result         \u001b[3m\u001b[90m<fct>\u001b[39m\u001b[23m \u001b[90m, , \u001b[39mmade\u001b[90m, \u001b[39mmissed\u001b[90m, , \u001b[39mmissed\u001b[90m, , , \u001b[39mmade\u001b[90m, \u001b[39mmade\u001b[90m, , \u001b[39mmissed\u001b[90m, ,\u001b[39m…\n",
      "$ steal          \u001b[3m\u001b[90m<fct>\u001b[39m\u001b[23m \u001b[90m, , , , , , , , , , \u001b[39mKlay Thompson\u001b[90m, , , , , , , , , , , \u001b[39m…\n",
      "$ type           \u001b[3m\u001b[90m<fct>\u001b[39m\u001b[23m start of period\u001b[90m, \u001b[39mjump ball\u001b[90m, \u001b[39munknown\u001b[90m, \u001b[39mJump Shot\u001b[90m, \u001b[39mrebound…\n",
      "$ shot_distance  \u001b[3m\u001b[90m<fct>\u001b[39m\u001b[23m \u001b[90m, , \u001b[39m2\u001b[90m, \u001b[39m25\u001b[90m, , \u001b[39m10\u001b[90m, , , , , , \u001b[39m25\u001b[90m, , \u001b[39m24\u001b[90m, , \u001b[39m23\u001b[90m, \u001b[39m25\u001b[90m, \u001b[39m22\u001b[90m, \u001b[39m25\u001b[90m, \u001b[39m…\n",
      "$ original_x     \u001b[3m\u001b[90m<fct>\u001b[39m\u001b[23m \u001b[90m, , \u001b[39m-10\u001b[90m, \u001b[39m9\u001b[90m, , \u001b[39m46\u001b[90m, , , , , , \u001b[39m157\u001b[90m, , \u001b[39m14\u001b[90m, , \u001b[39m-228\u001b[90m, \u001b[39m-199\u001b[90m, \u001b[39m-1…\n",
      "$ original_y     \u001b[3m\u001b[90m<fct>\u001b[39m\u001b[23m \u001b[90m, , \u001b[39m16\u001b[90m, \u001b[39m254\u001b[90m, , \u001b[39m94\u001b[90m, , , , , , \u001b[39m200\u001b[90m, , \u001b[39m243\u001b[90m, , \u001b[39m16\u001b[90m, \u001b[39m148\u001b[90m, \u001b[39m163…\n",
      "$ converted_x    \u001b[3m\u001b[90m<fct>\u001b[39m\u001b[23m \u001b[90m, , \u001b[39m26\u001b[90m, \u001b[39m25.9\u001b[90m, , \u001b[39m20.4\u001b[90m, , , , , , \u001b[39m40.7\u001b[90m, , \u001b[39m23.6\u001b[90m, , \u001b[39m2.2\u001b[90m, \u001b[39m44…\n",
      "$ converted_y    \u001b[3m\u001b[90m<fct>\u001b[39m\u001b[23m \u001b[90m, , \u001b[39m6.6\u001b[90m, \u001b[39m63.6\u001b[90m, , \u001b[39m14.4\u001b[90m, , , , , , \u001b[39m69\u001b[90m, , \u001b[39m29.3\u001b[90m, , \u001b[39m87.4\u001b[90m, \u001b[39m19…\n",
      "$ description    \u001b[3m\u001b[90m<fct>\u001b[39m\u001b[23m \"\"\u001b[90m, \u001b[39m\"Jump Ball Pachulia vs. Capela: Tip to Anderson\"\u001b[90m, \u001b[39m\"…\n"
     ]
    }
   ],
   "source": [
    "glimpse(PbP.BDB)"
   ]
  },
  {
   "cell_type": "code",
   "execution_count": null,
   "id": "5a6e29b5",
   "metadata": {
    "vscode": {
     "languageId": "r"
    }
   },
   "outputs": [],
   "source": []
  }
 ],
 "metadata": {
  "kernelspec": {
   "display_name": "R",
   "language": "R",
   "name": "ir"
  },
  "language_info": {
   "codemirror_mode": "r",
   "file_extension": ".r",
   "mimetype": "text/x-r-source",
   "name": "R",
   "pygments_lexer": "r",
   "version": "4.5.0"
  }
 },
 "nbformat": 4,
 "nbformat_minor": 5
}
