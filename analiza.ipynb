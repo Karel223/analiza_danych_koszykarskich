{
 "cells": [
  {
   "cell_type": "code",
   "execution_count": 34,
   "metadata": {
    "vscode": {
     "languageId": "r"
    }
   },
   "outputs": [
    {
     "name": "stderr",
     "output_type": "stream",
     "text": [
      "Warning message:\n",
      "\"pakiet 'readr' jest w użyciu i nie zostanie zainstalowany\"\n",
      "Warning message:\n",
      "\"pakiet 'dplyr' jest w użyciu i nie zostanie zainstalowany\"\n"
     ]
    }
   ],
   "source": [
    "install.packages(\"readr\")\n",
    "library(readr)\n",
    "\n",
    "install.packages(\"dplyr\")\n",
    "library(dplyr)"
   ]
  },
  {
   "cell_type": "markdown",
   "metadata": {},
   "source": [
    "**Funkacja convert, która zamienia separator dziesiętny na przecinek oraz typ zmiennej numeric na intiger**"
   ]
  },
  {
   "cell_type": "code",
   "execution_count": 35,
   "metadata": {
    "vscode": {
     "languageId": "r"
    }
   },
   "outputs": [],
   "source": [
    "convert_commas_to_dots <- function(df) {\n",
    "  # Zamiana przecinków na kropki w kolumnach typu\n",
    "  #character tylko jeśli zawierają przecinek\n",
    "  df[] <- lapply(df, function(x) {\n",
    "    if (is.character(x) && any(grepl(\",\", x))) {\n",
    "      x <- gsub(\",\", \".\", x)\n",
    "      num_x <- suppressWarnings(as.numeric(x))\n",
    "      if (all(is.na(num_x) & !is.na(x))) {\n",
    "        return(x) # Jeśli wszystkie wartości stają się NA, pozostaw jako tekst\n",
    "      } else {\n",
    "        return(num_x) # Konwersja na numeric, jeśli możliwe\n",
    "      }\n",
    "    } else {\n",
    "      return(x)\n",
    "    }\n",
    "  })\n",
    "  return(df)\n",
    "}\n",
    "\n",
    "convert_numeric_to_integer <- function(df) {\n",
    "\n",
    "  #Zamiana wartości na integer, jeśli nie zawierają\n",
    "  #kropki i nie są wszystkimi NA \n",
    "\n",
    "  df[] <- lapply(df, function(x) {\n",
    "    if (is.numeric(x) && all(!grepl(\"\\\\.\", as.character(x)), na.rm = TRUE)) { # nolint\n",
    "      return(as.integer(x))\n",
    "    } else {\n",
    "      return(x)\n",
    "    }\n",
    "  })\n",
    "  return(df)\n",
    "}"
   ]
  },
  {
   "cell_type": "code",
   "execution_count": 36,
   "metadata": {
    "vscode": {
     "languageId": "r"
    }
   },
   "outputs": [],
   "source": [
    "convert <- function(df) {\n",
    "  df <- convert_commas_to_dots(df)\n",
    "  df <- convert_numeric_to_integer(df)\n",
    "  return(df)\n",
    "}"
   ]
  },
  {
   "cell_type": "markdown",
   "metadata": {},
   "source": [
    "**Zaczytanie danych**"
   ]
  },
  {
   "cell_type": "markdown",
   "metadata": {},
   "source": [
    "Błędy w zaczytywanych danych: \n",
    "- teams.csv ma podublowane rekordy, gdzie połowa z nuch jest niepoprawna. Należy usunąć wiersze, gdzie TM_TAG != TM_NAME\n",
    "- teams.csv ma błędne ilości minut. Większość wartości w kolumnie MIN jest równa 200 (lub 225, 250, 300 w zależności od ilości dogrywek), gdyż zostały zsumowane z tabeli players.csv przez autora danych. Należy podzielić kolumnę MIN przez 5. \n",
    "- niespójność w players.csv. Część rekordów jest pomimo tego, że MIN = 0, co oznacza, że zawodnik nie wystąpił w meczu. Natomiast widać, że części rekordów nie ma, gdyż część zawodników ma mniejszą ilość rozegranych gier. Trzeba usunąć rekordy, gdzie MIN = 0, gdyż rodzi to problem przy zliczaniu ilości game played oraz liczeniu średniej. "
   ]
  },
  {
   "cell_type": "code",
   "execution_count": 37,
   "metadata": {
    "vscode": {
     "languageId": "r"
    }
   },
   "outputs": [
    {
     "name": "stderr",
     "output_type": "stream",
     "text": [
      "\u001b[36mℹ\u001b[39m Using \u001b[34m\u001b[34m\"','\"\u001b[34m\u001b[39m as decimal and \u001b[34m\u001b[34m\"'.'\"\u001b[34m\u001b[39m as grouping mark. Use `read_delim()` for more control.\n",
      "\n",
      "\u001b[1mRows: \u001b[22m\u001b[34m1324\u001b[39m \u001b[1mColumns: \u001b[22m\u001b[34m133\u001b[39m\n",
      "\u001b[36m──\u001b[39m \u001b[1mColumn specification\u001b[22m \u001b[36m────────────────────────────────────────────────────────\u001b[39m\n",
      "\u001b[1mDelimiter:\u001b[22m \";\"\n",
      "\u001b[31mchr\u001b[39m  (13): TM TAG, OPP TAG, TM NAME, OPP NAME, DATE, H/A, W/L, RIM PPS, MID ...\n",
      "\u001b[32mdbl\u001b[39m (120): ROUND, MIN, PTS, 2PTM, 2PTA, 2PT%, 3PTM, 3PTA, 3PT%, FGM, FGA, FG...\n",
      "\n",
      "\u001b[36mℹ\u001b[39m Use `spec()` to retrieve the full column specification for this data.\n",
      "\u001b[36mℹ\u001b[39m Specify the column types or set `show_col_types = FALSE` to quiet this message.\n",
      "\u001b[36mℹ\u001b[39m Using \u001b[34m\u001b[34m\"','\"\u001b[34m\u001b[39m as decimal and \u001b[34m\u001b[34m\"'.'\"\u001b[34m\u001b[39m as grouping mark. Use `read_delim()` for more control.\n",
      "\n",
      "\u001b[1mRows: \u001b[22m\u001b[34m7883\u001b[39m \u001b[1mColumns: \u001b[22m\u001b[34m85\u001b[39m\n",
      "\u001b[36m──\u001b[39m \u001b[1mColumn specification\u001b[22m \u001b[36m────────────────────────────────────────────────────────\u001b[39m\n",
      "\u001b[1mDelimiter:\u001b[22m \";\"\n",
      "\u001b[31mchr\u001b[39m (14): TM TAG, NAME, ROLE, NAT, HEIGHT, TM NAME, OPP NAME, DATE, H/A, W/L...\n",
      "\u001b[32mdbl\u001b[39m (71): AGE, ROUND, MIN, PTS, 2PTM, 2PTA, 3PTM, 3PTA, FGM, FGA, FTM, FTA, ...\n",
      "\n",
      "\u001b[36mℹ\u001b[39m Use `spec()` to retrieve the full column specification for this data.\n",
      "\u001b[36mℹ\u001b[39m Specify the column types or set `show_col_types = FALSE` to quiet this message.\n"
     ]
    }
   ],
   "source": [
    "teams <- read_csv2(\"teams.csv\")\n",
    "players <- read_csv2(\"players.csv\")"
   ]
  },
  {
   "cell_type": "markdown",
   "metadata": {},
   "source": [
    "**Konwersja danych**"
   ]
  },
  {
   "cell_type": "code",
   "execution_count": 38,
   "metadata": {
    "vscode": {
     "languageId": "r"
    }
   },
   "outputs": [
    {
     "name": "stdout",
     "output_type": "stream",
     "text": [
      "Rows: 1,324\n",
      "Columns: 133\n",
      "$ ROUND              \u001b[3m\u001b[90m<int>\u001b[39m\u001b[23m 1, 1, 1, 1, 1, 1, 1, 1, 1, 1, 1, 1, 1, 1, 1, 1, 1, …\n",
      "$ `TM TAG`           \u001b[3m\u001b[90m<chr>\u001b[39m\u001b[23m \"CZB\", \"ASV\", \"MTA\", \"PAR\", \"EFE\", \"FCB\", \"BER\", \"B…\n",
      "$ `OPP TAG`          \u001b[3m\u001b[90m<chr>\u001b[39m\u001b[23m \"ASV\", \"CZB\", \"PAR\", \"MTA\", \"FCB\", \"EFE\", \"BAY\", \"B…\n",
      "$ `TM NAME`          \u001b[3m\u001b[90m<chr>\u001b[39m\u001b[23m \"Crvena Zvezda Meridianbet Belgrade\", \"LDLC ASVEL V…\n",
      "$ `OPP NAME`         \u001b[3m\u001b[90m<chr>\u001b[39m\u001b[23m \"LDLC ASVEL Villeurbanne\", \"Crvena Zvezda Meridianb…\n",
      "$ DATE               \u001b[3m\u001b[90m<chr>\u001b[39m\u001b[23m \"05.10.2023\", \"05.10.2023\", \"05.10.2023\", \"05.10.20…\n",
      "$ `H/A`              \u001b[3m\u001b[90m<chr>\u001b[39m\u001b[23m \"H\", \"A\", \"H\", \"A\", \"A\", \"H\", \"A\", \"H\", \"H\", \"A\", \"…\n",
      "$ `W/L`              \u001b[3m\u001b[90m<chr>\u001b[39m\u001b[23m \"W\", \"L\", \"W\", \"L\", \"L\", \"W\", \"L\", \"W\", \"L\", \"W\", \"…\n",
      "$ MIN                \u001b[3m\u001b[90m<int>\u001b[39m\u001b[23m 200, 200, 200, 200, 200, 200, 200, 200, 200, 200, 2…\n",
      "$ PTS                \u001b[3m\u001b[90m<int>\u001b[39m\u001b[23m 94, 73, 96, 81, 74, 91, 68, 80, 79, 82, 82, 85, 88,…\n",
      "$ `2PTM`             \u001b[3m\u001b[90m<int>\u001b[39m\u001b[23m 16, 17, 27, 26, 22, 32, 16, 23, 23, 18, 18, 18, 19,…\n",
      "$ `2PTA`             \u001b[3m\u001b[90m<int>\u001b[39m\u001b[23m 37, 29, 43, 39, 40, 42, 30, 36, 39, 39, 36, 34, 35,…\n",
      "$ `2PT%`             \u001b[3m\u001b[90m<dbl>\u001b[39m\u001b[23m 0.43, 0.59, 0.63, 0.67, 0.55, 0.76, 0.53, 0.64, 0.5…\n",
      "$ `3PTM`             \u001b[3m\u001b[90m<int>\u001b[39m\u001b[23m 17, 9, 9, 5, 9, 6, 7, 9, 8, 11, 11, 14, 15, 10, 5, …\n",
      "$ `3PTA`             \u001b[3m\u001b[90m<int>\u001b[39m\u001b[23m 34, 25, 26, 17, 27, 20, 24, 31, 25, 19, 26, 31, 32,…\n",
      "$ `3PT%`             \u001b[3m\u001b[90m<dbl>\u001b[39m\u001b[23m 0.50, 0.36, 0.35, 0.29, 0.33, 0.30, 0.29, 0.29, 0.3…\n",
      "$ FGM                \u001b[3m\u001b[90m<int>\u001b[39m\u001b[23m 33, 26, 36, 31, 31, 38, 23, 32, 31, 29, 29, 32, 34,…\n",
      "$ FGA                \u001b[3m\u001b[90m<int>\u001b[39m\u001b[23m 71, 54, 69, 56, 67, 62, 54, 67, 64, 58, 62, 65, 67,…\n",
      "$ `FG%`              \u001b[3m\u001b[90m<dbl>\u001b[39m\u001b[23m 0.46, 0.48, 0.52, 0.55, 0.46, 0.61, 0.43, 0.48, 0.4…\n",
      "$ FTM                \u001b[3m\u001b[90m<int>\u001b[39m\u001b[23m 11, 12, 15, 14, 3, 9, 15, 7, 9, 13, 13, 7, 5, 16, 1…\n",
      "$ FTA                \u001b[3m\u001b[90m<int>\u001b[39m\u001b[23m 13, 21, 20, 18, 6, 12, 19, 10, 11, 18, 18, 11, 6, 1…\n",
      "$ `FT%`              \u001b[3m\u001b[90m<dbl>\u001b[39m\u001b[23m 0.85, 0.57, 0.75, 0.78, 0.50, 0.75, 0.79, 0.70, 0.8…\n",
      "$ OR                 \u001b[3m\u001b[90m<int>\u001b[39m\u001b[23m 17, 9, 15, 7, 9, 9, 3, 20, 10, 8, 10, 4, 8, 7, 21, …\n",
      "$ DR                 \u001b[3m\u001b[90m<int>\u001b[39m\u001b[23m 23, 22, 19, 19, 16, 26, 14, 29, 22, 22, 31, 23, 22,…\n",
      "$ TR                 \u001b[3m\u001b[90m<int>\u001b[39m\u001b[23m 40, 31, 34, 26, 25, 35, 17, 49, 32, 30, 41, 27, 30,…\n",
      "$ AST                \u001b[3m\u001b[90m<int>\u001b[39m\u001b[23m 19, 17, 31, 18, 24, 21, 14, 12, 21, 11, 18, 15, 20,…\n",
      "$ TO                 \u001b[3m\u001b[90m<int>\u001b[39m\u001b[23m 10, 16, 12, 16, 10, 13, 9, 16, 14, 15, 19, 12, 14, …\n",
      "$ ST                 \u001b[3m\u001b[90m<int>\u001b[39m\u001b[23m 10, 5, 11, 7, 9, 5, 10, 5, 8, 6, 9, 5, 13, 8, 4, 7,…\n",
      "$ BLK                \u001b[3m\u001b[90m<int>\u001b[39m\u001b[23m 2, 3, 2, 2, 1, 3, 3, 3, 1, 3, 3, 1, 2, 2, 3, 4, 2, …\n",
      "$ BLKA               \u001b[3m\u001b[90m<int>\u001b[39m\u001b[23m 3, 2, 2, 2, 3, 1, 3, 3, 3, 1, 1, 3, 2, 2, 4, 3, 4, …\n",
      "$ PF                 \u001b[3m\u001b[90m<int>\u001b[39m\u001b[23m 21, 14, 19, 18, 15, 15, 17, 21, 18, 19, 16, 23, 20,…\n",
      "$ DF                 \u001b[3m\u001b[90m<int>\u001b[39m\u001b[23m 14, 21, 18, 19, 15, 15, 21, 17, 19, 17, 22, 16, 17,…\n",
      "$ VAL                \u001b[3m\u001b[90m<int>\u001b[39m\u001b[23m 105, 81, 121, 88, 81, 114, 69, 88, 90, 80, 101, 74,…\n",
      "$ `+ / -`            \u001b[3m\u001b[90m<int>\u001b[39m\u001b[23m 21, -21, 15, -15, -17, 17, -12, 12, -3, 3, -3, 3, 1…\n",
      "$ POSS               \u001b[3m\u001b[90m<int>\u001b[39m\u001b[23m 70, 69, 75, 73, 70, 71, 68, 68, 72, 71, 79, 78, 75,…\n",
      "$ `SHOOTING CHANCES` \u001b[3m\u001b[90m<dbl>\u001b[39m\u001b[23m 87, 78, 90, 80, 79, 80, 71, 88, 82, 79, 89, 82, 83,…\n",
      "$ `OFF PPP`          \u001b[3m\u001b[90m<dbl>\u001b[39m\u001b[23m 1.08, 0.94, 1.07, 1.01, 0.94, 1.14, 0.96, 0.91, 0.9…\n",
      "$ `DEF PPP`          \u001b[3m\u001b[90m<dbl>\u001b[39m\u001b[23m 0.94, 1.08, 1.01, 1.07, 1.14, 0.94, 0.91, 0.96, 1.0…\n",
      "$ `OFF RTG`          \u001b[3m\u001b[90m<dbl>\u001b[39m\u001b[23m 134.3, 105.8, 128.0, 111.0, 105.7, 128.2, 100.0, 11…\n",
      "$ `DEF RTG`          \u001b[3m\u001b[90m<dbl>\u001b[39m\u001b[23m 105.8, 134.3, 111.0, 128.0, 128.2, 105.7, 117.6, 10…\n",
      "$ `NET RTG`          \u001b[3m\u001b[90m<dbl>\u001b[39m\u001b[23m 28.5, -28.5, 17.0, -17.0, -22.5, 22.5, -17.6, 17.6,…\n",
      "$ `eFG%`             \u001b[3m\u001b[90m<dbl>\u001b[39m\u001b[23m 0.58, 0.56, 0.59, 0.60, 0.53, 0.66, 0.49, 0.54, 0.5…\n",
      "$ `TS%`              \u001b[3m\u001b[90m<dbl>\u001b[39m\u001b[23m 0.61, 0.59, 0.62, 0.63, 0.54, 0.68, 0.55, 0.56, 0.5…\n",
      "$ `RIM FREQ`         \u001b[3m\u001b[90m<dbl>\u001b[39m\u001b[23m 0.07, 0.10, 0.11, 0.09, 0.06, 0.14, 0.04, 0.13, 0.1…\n",
      "$ `RIM PPS`          \u001b[3m\u001b[90m<dbl>\u001b[39m\u001b[23m 1.33, 1.75, 1.80, 1.71, 1.60, 1.82, 0.67, 1.64, 1.6…\n",
      "$ `PAINT FREQ`       \u001b[3m\u001b[90m<dbl>\u001b[39m\u001b[23m 0.30, 0.19, 0.31, 0.34, 0.37, 0.35, 0.27, 0.19, 0.2…\n",
      "$ `PAINT PPS`        \u001b[3m\u001b[90m<dbl>\u001b[39m\u001b[23m 0.77, 0.80, 1.07, 1.33, 1.10, 1.43, 1.26, 1.06, 1.1…\n",
      "$ `MID FREQ`         \u001b[3m\u001b[90m<dbl>\u001b[39m\u001b[23m 0.06, 0.08, 0.06, 0.06, 0.08, 0.04, 0.11, 0.09, 0.0…\n",
      "$ `MID PPS`          \u001b[3m\u001b[90m<dbl>\u001b[39m\u001b[23m 0.80, 1.33, 1.20, 0.80, 0.67, 1.33, 0.75, 1.25, 0.5…\n",
      "$ `C3 FREQ`          \u001b[3m\u001b[90m<dbl>\u001b[39m\u001b[23m 0.01, 0.05, 0.04, 0.03, 0.08, 0.03, 0.03, 0.06, 0.0…\n",
      "$ `C3 PPS`           \u001b[3m\u001b[90m<dbl>\u001b[39m\u001b[23m 3.00, 1.50, 0.00, 0.00, 1.50, 3.00, 0.00, 0.00, NA,…\n",
      "$ `L3 FREQ`          \u001b[3m\u001b[90m<dbl>\u001b[39m\u001b[23m 0.38, 0.27, 0.24, 0.19, 0.27, 0.23, 0.31, 0.30, 0.2…\n",
      "$ `L3 PPS`           \u001b[3m\u001b[90m<dbl>\u001b[39m\u001b[23m 1.45, 1.00, 1.23, 1.00, 0.86, 0.67, 0.95, 1.04, 1.0…\n",
      "$ `FT Ratio`         \u001b[3m\u001b[90m<dbl>\u001b[39m\u001b[23m 0.07, 0.10, 0.10, 0.10, 0.03, 0.06, 0.11, 0.06, 0.0…\n",
      "$ `TO%`              \u001b[3m\u001b[90m<dbl>\u001b[39m\u001b[23m 0.11, 0.21, 0.13, 0.20, 0.13, 0.16, 0.13, 0.18, 0.1…\n",
      "$ `LTO%`             \u001b[3m\u001b[90m<dbl>\u001b[39m\u001b[23m 0.06, 0.13, 0.08, 0.14, 0.06, 0.11, 0.07, 0.11, 0.0…\n",
      "$ `DTO%`             \u001b[3m\u001b[90m<dbl>\u001b[39m\u001b[23m 0.06, 0.08, 0.06, 0.06, 0.06, 0.05, 0.06, 0.07, 0.1…\n",
      "$ `AST%`             \u001b[3m\u001b[90m<dbl>\u001b[39m\u001b[23m 0.46, 0.52, 0.69, 0.47, 0.73, 0.49, 0.47, 0.33, 0.6…\n",
      "$ `AST% (2P)`        \u001b[3m\u001b[90m<dbl>\u001b[39m\u001b[23m 0.38, 0.41, 0.74, 0.42, 0.68, 0.53, 0.50, 0.22, 0.5…\n",
      "$ `AST% (3P)`        \u001b[3m\u001b[90m<dbl>\u001b[39m\u001b[23m 0.59, 0.78, 0.56, 0.80, 0.89, 0.67, 0.71, 0.67, 1.0…\n",
      "$ `AST% (FT)`        \u001b[3m\u001b[90m<dbl>\u001b[39m\u001b[23m 0.33, 0.43, 0.67, 0.43, 0.50, 0.00, 0.14, 0.25, 0.2…\n",
      "$ `AST Ratio`        \u001b[3m\u001b[90m<dbl>\u001b[39m\u001b[23m 0.22, 0.22, 0.34, 0.23, 0.30, 0.26, 0.20, 0.14, 0.2…\n",
      "$ `AST/TO`           \u001b[3m\u001b[90m<dbl>\u001b[39m\u001b[23m 1.90, 1.06, 2.58, 1.13, 2.40, 1.62, 1.56, 0.75, 1.5…\n",
      "$ `OR%`              \u001b[3m\u001b[90m<dbl>\u001b[39m\u001b[23m 0.44, 0.28, 0.44, 0.27, 0.26, 0.36, 0.09, 0.59, 0.3…\n",
      "$ `OR% (after 2P)`   \u001b[3m\u001b[90m<dbl>\u001b[39m\u001b[23m 0.52, 0.36, 0.40, 0.31, 0.39, 0.50, 0.00, 0.46, 0.2…\n",
      "$ `OR% (after 3P)`   \u001b[3m\u001b[90m<dbl>\u001b[39m\u001b[23m 0.31, 0.25, 0.53, 0.25, 0.12, 0.31, 0.18, 0.70, 0.4…\n",
      "$ `OR% (after FT)`   \u001b[3m\u001b[90m<dbl>\u001b[39m\u001b[23m 0.50, 0.00, 0.00, 0.00, NA, 0.00, 0.00, NA, 0.50, 0…\n",
      "$ `DR%`              \u001b[3m\u001b[90m<dbl>\u001b[39m\u001b[23m 0.72, 0.56, 0.73, 0.56, 0.64, 0.74, 0.41, 0.91, 0.7…\n",
      "$ `DR% (after 2P)`   \u001b[3m\u001b[90m<dbl>\u001b[39m\u001b[23m 0.64, 0.48, 0.69, 0.60, 0.50, 0.61, 0.54, 1.00, 0.7…\n",
      "$ `DR% (after 3P)`   \u001b[3m\u001b[90m<dbl>\u001b[39m\u001b[23m 0.75, 0.69, 0.75, 0.47, 0.69, 0.88, 0.30, 0.82, 0.8…\n",
      "$ `DR% (after FT)`   \u001b[3m\u001b[90m<dbl>\u001b[39m\u001b[23m 1.00, 0.50, 1.00, 1.00, 1.00, NA, NA, 1.00, 0.50, 0…\n",
      "$ `TR%`              \u001b[3m\u001b[90m<dbl>\u001b[39m\u001b[23m 0.56, 0.44, 0.57, 0.43, 0.42, 0.58, 0.26, 0.74, 0.5…\n",
      "$ `ST%`              \u001b[3m\u001b[90m<dbl>\u001b[39m\u001b[23m 0.14, 0.07, 0.15, 0.09, 0.13, 0.07, 0.15, 0.07, 0.1…\n",
      "$ `BLK%`             \u001b[3m\u001b[90m<dbl>\u001b[39m\u001b[23m 0.04, 0.04, 0.04, 0.03, 0.02, 0.04, 0.04, 0.06, 0.0…\n",
      "$ `BLK% (2P)`        \u001b[3m\u001b[90m<dbl>\u001b[39m\u001b[23m 0.00, 0.00, 0.00, 0.00, 0.02, 0.08, 0.08, 0.10, 0.0…\n",
      "$ `BLK% (3P)`        \u001b[3m\u001b[90m<dbl>\u001b[39m\u001b[23m 0.00, 0.00, 0.00, 0.00, 0.00, 0.00, 0.00, 0.00, 0.0…\n",
      "$ KILLS              \u001b[3m\u001b[90m<int>\u001b[39m\u001b[23m 4, 3, 5, 4, 1, 5, 5, 7, 6, 5, 5, 6, 7, 8, 8, 7, 5, …\n",
      "$ `PSF FREQ`         \u001b[3m\u001b[90m<dbl>\u001b[39m\u001b[23m 0.43, 1.00, 1.00, 1.00, 0.00, 0.00, 0.00, 0.00, 1.0…\n",
      "$ `DSF FREQ`         \u001b[3m\u001b[90m<dbl>\u001b[39m\u001b[23m 0.50, 0.00, 1.00, 1.00, 0.00, 0.00, 0.00, 0.00, 0.0…\n",
      "$ ASTED_2FG          \u001b[3m\u001b[90m<int>\u001b[39m\u001b[23m 6, 7, 20, 11, 15, 17, 8, 5, 12, 5, 8, 7, 12, 6, 12,…\n",
      "$ ASTED_3FG          \u001b[3m\u001b[90m<int>\u001b[39m\u001b[23m 10, 7, 5, 4, 8, 4, 5, 6, 8, 6, 10, 8, 8, 7, 5, 10, …\n",
      "$ ASTED_FT           \u001b[3m\u001b[90m<int>\u001b[39m\u001b[23m 2, 3, 6, 3, 1, 0, 1, 1, 1, 0, 0, 0, 0, 2, 1, 2, 0, …\n",
      "$ `ASTED_FT PTS`     \u001b[3m\u001b[90m<int>\u001b[39m\u001b[23m 2, 3, 10, 6, 1, 0, 2, 2, 0, 0, 0, 0, 0, 4, 2, 4, 0,…\n",
      "$ LTO                \u001b[3m\u001b[90m<int>\u001b[39m\u001b[23m 5, 10, 7, 11, 5, 9, 5, 10, 6, 8, 5, 9, 8, 13, 7, 4,…\n",
      "$ DTO                \u001b[3m\u001b[90m<int>\u001b[39m\u001b[23m 5, 6, 5, 5, 5, 4, 4, 6, 8, 7, 14, 3, 6, 6, 5, 5, 11…\n",
      "$ BLK2               \u001b[3m\u001b[90m<int>\u001b[39m\u001b[23m 0, 0, 0, 0, 1, 3, 3, 3, 1, 2, 1, 0, 2, 2, 3, 4, 1, …\n",
      "$ BLK3               \u001b[3m\u001b[90m<int>\u001b[39m\u001b[23m 0, 0, 0, 0, 0, 0, 0, 0, 0, 1, 0, 0, 0, 0, 0, 0, 1, …\n",
      "$ OR_RIM             \u001b[3m\u001b[90m<int>\u001b[39m\u001b[23m 2, 1, 0, 1, 0, 1, 0, 1, 0, 3, 1, 2, 2, 1, 1, 0, 0, …\n",
      "$ `TM OR_RIM`        \u001b[3m\u001b[90m<int>\u001b[39m\u001b[23m 0, 0, 0, 0, 0, 0, 0, 0, 0, 0, 0, 0, 1, 0, 0, 0, 1, …\n",
      "$ OR_PAINT           \u001b[3m\u001b[90m<int>\u001b[39m\u001b[23m 7, 3, 3, 1, 5, 3, 0, 3, 1, 2, 3, 1, 1, 2, 6, 1, 3, …\n",
      "$ `TM OR_PAINT`      \u001b[3m\u001b[90m<int>\u001b[39m\u001b[23m 0, 0, 3, 1, 1, 0, 0, 1, 0, 1, 0, 0, 0, 0, 2, 2, 0, …\n",
      "$ OR_NP2             \u001b[3m\u001b[90m<int>\u001b[39m\u001b[23m 1, 0, 0, 1, 1, 1, 0, 1, 2, 0, 0, 0, 0, 2, 1, 0, 0, …\n",
      "$ `TM OR_NP2`        \u001b[3m\u001b[90m<int>\u001b[39m\u001b[23m 1, 0, 0, 0, 0, 0, 0, 0, 0, 0, 0, 0, 0, 0, 0, 0, 0, …\n",
      "$ OR_3C              \u001b[3m\u001b[90m<int>\u001b[39m\u001b[23m 0, 0, 1, 1, 0, 0, 0, 2, 0, 0, 0, 0, 2, 0, 0, 0, 0, …\n",
      "$ `TM OR_3C`         \u001b[3m\u001b[90m<int>\u001b[39m\u001b[23m 0, 0, 0, 0, 0, 0, 0, 1, 0, 0, 1, 0, 0, 0, 0, 0, 0, …\n",
      "$ OR_3L              \u001b[3m\u001b[90m<int>\u001b[39m\u001b[23m 4, 4, 6, 1, 0, 4, 2, 9, 5, 1, 3, 1, 2, 2, 10, 5, 5,…\n",
      "$ `TM OR_3L`         \u001b[3m\u001b[90m<int>\u001b[39m\u001b[23m 1, 0, 2, 1, 2, 0, 1, 2, 1, 0, 0, 0, 0, 0, 0, 1, 2, …\n",
      "$ OR_FT              \u001b[3m\u001b[90m<int>\u001b[39m\u001b[23m 1, 0, 0, 0, 0, 0, 0, 0, 1, 1, 1, 0, 0, 0, 1, 0, 0, …\n",
      "$ `TM OR_FT`         \u001b[3m\u001b[90m<int>\u001b[39m\u001b[23m 0, 0, 0, 0, 0, 0, 0, 0, 0, 0, 0, 0, 0, 0, 0, 0, 0, …\n",
      "$ DR_RIM             \u001b[3m\u001b[90m<int>\u001b[39m\u001b[23m 0, 0, 0, 0, 0, 1, 1, 2, 2, 2, 2, 3, 3, 4, 1, 0, 2, …\n",
      "$ `TM DR_RIM`        \u001b[3m\u001b[90m<int>\u001b[39m\u001b[23m 0, 0, 0, 1, 0, 0, 0, 0, 0, 0, 0, 0, 0, 0, 0, 0, 0, …\n",
      "$ DR_PAINT           \u001b[3m\u001b[90m<int>\u001b[39m\u001b[23m 5, 6, 6, 6, 5, 6, 4, 7, 9, 8, 4, 7, 4, 6, 8, 9, 4, …\n",
      "$ `TM DR_PAINT`      \u001b[3m\u001b[90m<int>\u001b[39m\u001b[23m 0, 3, 1, 0, 0, 1, 0, 0, 1, 0, 1, 0, 0, 0, 0, 1, 0, …\n",
      "$ DR_NP2             \u001b[3m\u001b[90m<int>\u001b[39m\u001b[23m 1, 1, 2, 2, 0, 3, 2, 5, 3, 1, 6, 3, 3, 1, 4, 7, 3, …\n",
      "$ `TM DR_NP2`        \u001b[3m\u001b[90m<int>\u001b[39m\u001b[23m 1, 0, 0, 0, 0, 0, 0, 0, 0, 1, 0, 1, 0, 0, 0, 0, 1, …\n",
      "$ DR_3C              \u001b[3m\u001b[90m<int>\u001b[39m\u001b[23m 2, 0, 1, 3, 0, 3, 2, 2, 0, 0, 3, 1, 0, 1, 0, 0, 2, …\n",
      "$ `TM DR_3C`         \u001b[3m\u001b[90m<int>\u001b[39m\u001b[23m 0, 0, 0, 0, 0, 0, 0, 0, 0, 0, 0, 0, 0, 0, 0, 0, 0, …\n",
      "$ DR_3L              \u001b[3m\u001b[90m<int>\u001b[39m\u001b[23m 10, 10, 8, 4, 8, 11, 4, 9, 5, 9, 12, 3, 9, 11, 18, …\n",
      "$ `TM DR_3L`         \u001b[3m\u001b[90m<int>\u001b[39m\u001b[23m 0, 1, 0, 1, 1, 1, 0, 3, 1, 0, 1, 2, 2, 1, 0, 2, 0, …\n",
      "$ DR_FT              \u001b[3m\u001b[90m<int>\u001b[39m\u001b[23m 4, 1, 1, 2, 2, 0, 0, 1, 1, 1, 2, 2, 0, 1, 0, 0, 0, …\n",
      "$ `TM DR_FT`         \u001b[3m\u001b[90m<int>\u001b[39m\u001b[23m 0, 0, 0, 0, 0, 0, 0, 0, 0, 0, 0, 0, 1, 0, 0, 0, 0, …\n",
      "$ FTM_T              \u001b[3m\u001b[90m<int>\u001b[39m\u001b[23m 0, 0, 0, 0, 0, 0, 0, 0, 1, 1, 1, 0, 0, 0, 1, 0, 1, …\n",
      "$ FTA_T              \u001b[3m\u001b[90m<int>\u001b[39m\u001b[23m 0, 0, 0, 0, 0, 0, 0, 0, 1, 1, 1, 0, 0, 0, 1, 0, 1, …\n",
      "$ FTM_1              \u001b[3m\u001b[90m<int>\u001b[39m\u001b[23m 1, 1, 2, 2, 1, 1, 2, 0, 2, 4, 0, 1, 2, 1, 1, 1, 1, …\n",
      "$ FTA_1              \u001b[3m\u001b[90m<int>\u001b[39m\u001b[23m 1, 1, 2, 2, 1, 2, 2, 0, 2, 4, 0, 1, 2, 1, 1, 1, 1, …\n",
      "$ FTM_2              \u001b[3m\u001b[90m<int>\u001b[39m\u001b[23m 10, 5, 13, 12, 1, 8, 10, 7, 6, 6, 9, 6, 3, 15, 11, …\n",
      "$ FTA_2              \u001b[3m\u001b[90m<int>\u001b[39m\u001b[23m 12, 10, 18, 16, 2, 10, 14, 10, 8, 10, 14, 10, 4, 18…\n",
      "$ `FT 0/2`           \u001b[3m\u001b[90m<int>\u001b[39m\u001b[23m 0, 1, 0, 1, 0, 0, 1, 1, 0, 1, 0, 0, 0, 0, 0, 0, 0, …\n",
      "$ FTM_3              \u001b[3m\u001b[90m<int>\u001b[39m\u001b[23m 0, 6, 0, 0, 1, 0, 3, 0, 0, 2, 3, 0, 0, 0, 0, 2, 1, …\n",
      "$ FTA_3              \u001b[3m\u001b[90m<int>\u001b[39m\u001b[23m 0, 9, 0, 0, 3, 0, 3, 0, 0, 3, 3, 0, 0, 0, 0, 3, 3, …\n",
      "$ `FT 0/3`           \u001b[3m\u001b[90m<int>\u001b[39m\u001b[23m 0, 0, 0, 0, 0, 0, 0, 0, 0, 0, 0, 0, 0, 0, 0, 0, 0, …\n",
      "$ RIM_M              \u001b[3m\u001b[90m<int>\u001b[39m\u001b[23m 4, 7, 9, 6, 4, 10, 1, 9, 8, 5, 12, 10, 12, 10, 11, …\n",
      "$ RIM_A              \u001b[3m\u001b[90m<int>\u001b[39m\u001b[23m 6, 8, 10, 7, 5, 11, 3, 11, 10, 10, 16, 14, 19, 14, …\n",
      "$ PAINT_M            \u001b[3m\u001b[90m<int>\u001b[39m\u001b[23m 10, 6, 15, 18, 16, 20, 12, 9, 13, 11, 4, 3, 5, 3, 1…\n",
      "$ PAINT_A            \u001b[3m\u001b[90m<int>\u001b[39m\u001b[23m 26, 15, 28, 27, 29, 28, 19, 17, 22, 24, 14, 9, 12, …\n",
      "$ MID_M              \u001b[3m\u001b[90m<int>\u001b[39m\u001b[23m 2, 4, 3, 2, 2, 2, 3, 5, 2, 2, 2, 5, 2, 3, 2, 1, 5, …\n",
      "$ MID_A              \u001b[3m\u001b[90m<int>\u001b[39m\u001b[23m 5, 6, 5, 5, 6, 3, 8, 8, 7, 5, 6, 11, 4, 9, 10, 5, 1…\n",
      "$ `3C_M`             \u001b[3m\u001b[90m<int>\u001b[39m\u001b[23m 1, 2, 0, 0, 3, 2, 0, 0, 0, 0, 4, 2, 1, 1, 0, 1, 1, …\n",
      "$ `3C_A`             \u001b[3m\u001b[90m<int>\u001b[39m\u001b[23m 1, 4, 4, 2, 6, 2, 2, 5, 0, 0, 6, 5, 4, 1, 0, 1, 2, …\n",
      "$ `3L_M`             \u001b[3m\u001b[90m<int>\u001b[39m\u001b[23m 16, 7, 9, 5, 6, 4, 7, 9, 8, 11, 7, 12, 14, 9, 5, 14…\n",
      "$ `3L_A`             \u001b[3m\u001b[90m<int>\u001b[39m\u001b[23m 33, 21, 22, 15, 21, 18, 22, 26, 24, 19, 20, 26, 28,…\n",
      "$ `3H_M`             \u001b[3m\u001b[90m<int>\u001b[39m\u001b[23m 0, 0, 0, 0, 0, 0, 0, 0, 0, 0, 0, 0, 0, 0, 0, 0, 0, …\n",
      "$ `3H_A`             \u001b[3m\u001b[90m<int>\u001b[39m\u001b[23m 0, 0, 0, 0, 0, 0, 0, 0, 1, 0, 0, 0, 0, 0, 0, 0, 0, …\n"
     ]
    }
   ],
   "source": [
    "teams <- convert(teams)\n",
    "glimpse(teams)"
   ]
  },
  {
   "cell_type": "code",
   "execution_count": 39,
   "metadata": {
    "vscode": {
     "languageId": "r"
    }
   },
   "outputs": [
    {
     "name": "stdout",
     "output_type": "stream",
     "text": [
      "Rows: 7,883\n",
      "Columns: 85\n",
      "$ `TM TAG`       \u001b[3m\u001b[90m<chr>\u001b[39m\u001b[23m \"CZB\", \"CZB\", \"CZB\", \"CZB\", \"CZB\", \"CZB\", \"CZB\", \"CZB\",…\n",
      "$ NAME           \u001b[3m\u001b[90m<chr>\u001b[39m\u001b[23m \"Adam Hanga\", \"Branko Lazic\", \"Dalibor Ilic\", \"Luka Mit…\n",
      "$ ROLE           \u001b[3m\u001b[90m<chr>\u001b[39m\u001b[23m \"F\", \"SG\", \"F\", \"PF\", \"PF\", \"C\", \"PG\", \"SG\", \"C\", \"F/PF…\n",
      "$ NAT            \u001b[3m\u001b[90m<chr>\u001b[39m\u001b[23m \"HUN\", \"SRB\", \"BIH\", \"SRB\", \"SRB\", \"USA\", \"SRB\", \"SRB\",…\n",
      "$ HEIGHT         \u001b[3m\u001b[90m<chr>\u001b[39m\u001b[23m \"201\", \"195\", \"206\", \"206\", \"203\", \"213\", \"195\", \"191\",…\n",
      "$ AGE            \u001b[3m\u001b[90m<int>\u001b[39m\u001b[23m 35, 35, 24, 31, 38, 30, 37, 33, 34, 32, 33, 28, 30, 35,…\n",
      "$ ROUND          \u001b[3m\u001b[90m<int>\u001b[39m\u001b[23m 1, 1, 1, 1, 1, 1, 1, 1, 1, 1, 1, 1, 1, 1, 1, 1, 1, 1, 1…\n",
      "$ `TM NAME`      \u001b[3m\u001b[90m<chr>\u001b[39m\u001b[23m \"Crvena Zvezda Meridianbet Belgrade\", \"Crvena Zvezda Me…\n",
      "$ `OPP NAME`     \u001b[3m\u001b[90m<chr>\u001b[39m\u001b[23m \"LDLC ASVEL Villeurbanne\", \"LDLC ASVEL Villeurbanne\", \"…\n",
      "$ DATE           \u001b[3m\u001b[90m<chr>\u001b[39m\u001b[23m \"05.10.2023\", \"05.10.2023\", \"05.10.2023\", \"05.10.2023\",…\n",
      "$ `H/A`          \u001b[3m\u001b[90m<chr>\u001b[39m\u001b[23m \"H\", \"H\", \"H\", \"H\", \"H\", \"H\", \"H\", \"H\", \"H\", \"H\", \"H\", …\n",
      "$ `W/L`          \u001b[3m\u001b[90m<chr>\u001b[39m\u001b[23m \"W\", \"W\", \"W\", \"W\", \"W\", \"W\", \"W\", \"W\", \"W\", \"W\", \"W\", …\n",
      "$ MIN            \u001b[3m\u001b[90m<int>\u001b[39m\u001b[23m 22, 13, 15, 22, 18, 13, 15, 17, 12, 28, 21, 5, 0, 0, 16…\n",
      "$ PTS            \u001b[3m\u001b[90m<int>\u001b[39m\u001b[23m 7, 6, 5, 9, 14, 0, 3, 12, 0, 17, 21, 0, 0, 0, 2, 18, 7,…\n",
      "$ `2PTM`         \u001b[3m\u001b[90m<int>\u001b[39m\u001b[23m 1, 0, 1, 3, 4, 0, 0, 3, 0, 2, 2, 0, 0, 0, 1, 5, 3, 0, 3…\n",
      "$ `2PTA`         \u001b[3m\u001b[90m<int>\u001b[39m\u001b[23m 6, 0, 5, 3, 4, 1, 3, 6, 2, 4, 3, 0, 0, 0, 1, 7, 6, 1, 3…\n",
      "$ `2PT%`         \u001b[3m\u001b[90m<dbl>\u001b[39m\u001b[23m 0.1666667, NA, 0.2000000, 1.0000000, 1.0000000, 0.00000…\n",
      "$ `3PTM`         \u001b[3m\u001b[90m<int>\u001b[39m\u001b[23m 1, 2, 1, 0, 2, 0, 1, 1, 0, 4, 5, 0, 0, 0, 0, 2, 0, 0, 2…\n",
      "$ `3PTA`         \u001b[3m\u001b[90m<int>\u001b[39m\u001b[23m 5, 2, 2, 0, 2, 3, 3, 2, 0, 7, 8, 0, 0, 0, 3, 5, 0, 1, 5…\n",
      "$ `3PT%`         \u001b[3m\u001b[90m<dbl>\u001b[39m\u001b[23m 0.2000000, 1.0000000, 0.5000000, NA, 1.0000000, 0.00000…\n",
      "$ FGM            \u001b[3m\u001b[90m<int>\u001b[39m\u001b[23m 2, 2, 2, 3, 6, 0, 1, 4, 0, 6, 7, 0, 0, 0, 1, 7, 3, 0, 5…\n",
      "$ FGA            \u001b[3m\u001b[90m<int>\u001b[39m\u001b[23m 11, 2, 7, 3, 6, 4, 6, 8, 2, 11, 11, 0, 0, 0, 4, 12, 6, …\n",
      "$ `FG%`          \u001b[3m\u001b[90m<dbl>\u001b[39m\u001b[23m 0.1818182, 1.0000000, 0.2857143, 1.0000000, 1.0000000, …\n",
      "$ FTM            \u001b[3m\u001b[90m<int>\u001b[39m\u001b[23m 2, 0, 0, 3, 0, 0, 0, 3, 0, 1, 2, 0, 0, 0, 0, 2, 1, 0, 1…\n",
      "$ FTA            \u001b[3m\u001b[90m<int>\u001b[39m\u001b[23m 2, 0, 0, 4, 0, 0, 0, 3, 0, 2, 2, 0, 0, 0, 0, 5, 2, 0, 3…\n",
      "$ `FT%`          \u001b[3m\u001b[90m<dbl>\u001b[39m\u001b[23m 1.0000000, NA, NA, 0.7500000, NA, NA, NA, 1.0000000, NA…\n",
      "$ OR             \u001b[3m\u001b[90m<int>\u001b[39m\u001b[23m 1, 1, 5, 1, 1, 2, 0, 0, 3, 1, 0, 0, 0, 0, 0, 4, 1, 1, 1…\n",
      "$ DR             \u001b[3m\u001b[90m<int>\u001b[39m\u001b[23m 3, 1, 0, 0, 0, 3, 3, 3, 1, 4, 3, 1, 0, 0, 4, 2, 0, 3, 1…\n",
      "$ TR             \u001b[3m\u001b[90m<int>\u001b[39m\u001b[23m 4, 2, 5, 1, 1, 5, 3, 3, 4, 5, 3, 1, 0, 0, 4, 6, 1, 4, 2…\n",
      "$ AST            \u001b[3m\u001b[90m<int>\u001b[39m\u001b[23m 3, 0, 0, 2, 0, 0, 2, 3, 4, 4, 1, 0, 0, 0, 0, 1, 0, 1, 1…\n",
      "$ TO             \u001b[3m\u001b[90m<int>\u001b[39m\u001b[23m 1, 0, 0, 0, 1, 2, 1, 2, 0, 0, 2, 0, 0, 0, 1, 1, 2, 1, 0…\n",
      "$ ST             \u001b[3m\u001b[90m<int>\u001b[39m\u001b[23m 2, 0, 0, 1, 0, 1, 1, 1, 0, 2, 2, 0, 0, 0, 1, 0, 0, 0, 0…\n",
      "$ BLK            \u001b[3m\u001b[90m<int>\u001b[39m\u001b[23m 1, 0, 0, 0, 0, 0, 0, 0, 1, 0, 0, 0, 0, 0, 0, 0, 1, 1, 0…\n",
      "$ BLKA           \u001b[3m\u001b[90m<int>\u001b[39m\u001b[23m 0, 0, 2, 0, 0, 0, 0, 0, 1, 0, 0, 0, 0, 0, 0, 0, 1, 0, 0…\n",
      "$ PF             \u001b[3m\u001b[90m<int>\u001b[39m\u001b[23m 1, 0, 1, 2, 5, 1, 4, 1, 1, 3, 2, 0, 0, 0, 3, 1, 2, 2, 0…\n",
      "$ DF             \u001b[3m\u001b[90m<int>\u001b[39m\u001b[23m 3, 0, 1, 4, 1, 0, 0, 3, 0, 1, 1, 0, 0, 0, 1, 4, 2, 0, 1…\n",
      "$ VAL            \u001b[3m\u001b[90m<int>\u001b[39m\u001b[23m 9, 8, 3, 14, 10, -1, -1, 15, 5, 20, 20, 1, 0, 0, 1, 19,…\n",
      "$ `+ / -`        \u001b[3m\u001b[90m<int>\u001b[39m\u001b[23m 5, 7, 0, 20, 5, 5, 7, 4, 12, 21, 19, 0, 0, 0, -1, -16, …\n",
      "$ POSS           \u001b[3m\u001b[90m<int>\u001b[39m\u001b[23m 13, 2, 7, 5, 7, 6, 7, 11, 2, 12, 14, 0, 0, 0, 5, 15, 9,…\n",
      "$ ASTED_2FG      \u001b[3m\u001b[90m<int>\u001b[39m\u001b[23m 0, 0, 0, 2, 2, 0, 0, 1, 0, 1, 0, 0, 0, 0, 0, 2, 3, 0, 1…\n",
      "$ ASTED_3FG      \u001b[3m\u001b[90m<int>\u001b[39m\u001b[23m 0, 1, 1, 0, 2, 0, 1, 0, 0, 4, 1, 0, 0, 0, 0, 2, 0, 0, 1…\n",
      "$ ASTED_FT       \u001b[3m\u001b[90m<int>\u001b[39m\u001b[23m 0, 0, 0, 0, 0, 0, 0, 1, 0, 1, 0, 0, 0, 0, 0, 1, 1, 0, 1…\n",
      "$ `ASTED_FT PTS` \u001b[3m\u001b[90m<int>\u001b[39m\u001b[23m 0, 0, 0, 0, 0, 0, 0, 2, 0, 0, 0, 0, 0, 0, 0, 2, 0, 0, 1…\n",
      "$ `AST (2P)`     \u001b[3m\u001b[90m<int>\u001b[39m\u001b[23m 1, 0, 0, 2, 0, 0, 1, 0, 0, 1, 1, 0, 0, 0, 0, 0, 0, 1, 0…\n",
      "$ `AST (3P)`     \u001b[3m\u001b[90m<int>\u001b[39m\u001b[23m 1, 0, 0, 0, 0, 0, 1, 2, 3, 3, 0, 0, 0, 0, 0, 1, 0, 0, 1…\n",
      "$ `AST (FT)`     \u001b[3m\u001b[90m<int>\u001b[39m\u001b[23m 1, 0, 0, 0, 0, 0, 0, 1, 0, 0, 0, 0, 0, 0, 0, 0, 0, 0, 0…\n",
      "$ `AST PTS (FT)` \u001b[3m\u001b[90m<int>\u001b[39m\u001b[23m 2, 0, 0, 0, 0, 0, 0, 0, 0, 0, 0, 0, 0, 0, 0, 0, 0, 0, 0…\n",
      "$ LTO            \u001b[3m\u001b[90m<int>\u001b[39m\u001b[23m 1, 0, 0, 0, 0, 0, 1, 2, 0, 0, 1, 0, 0, 0, 0, 1, 1, 0, 0…\n",
      "$ DTO            \u001b[3m\u001b[90m<int>\u001b[39m\u001b[23m 0, 0, 0, 0, 1, 2, 0, 0, 0, 0, 1, 0, 0, 0, 1, 0, 1, 1, 0…\n",
      "$ BLK2           \u001b[3m\u001b[90m<int>\u001b[39m\u001b[23m 0, 0, 0, 0, 0, 0, 0, 0, 0, 0, 0, 0, 0, 0, 0, 0, 0, 0, 0…\n",
      "$ BLK3           \u001b[3m\u001b[90m<int>\u001b[39m\u001b[23m 0, 0, 0, 0, 0, 0, 0, 0, 0, 0, 0, 0, 0, 0, 0, 0, 0, 0, 0…\n",
      "$ OR_RIM         \u001b[3m\u001b[90m<int>\u001b[39m\u001b[23m 0, 0, 0, 0, 0, 0, 0, 0, 2, 0, 0, 0, 0, 0, 0, 1, 0, 0, 0…\n",
      "$ OR_PAINT       \u001b[3m\u001b[90m<int>\u001b[39m\u001b[23m 1, 0, 4, 0, 0, 2, 0, 0, 0, 0, 0, 0, 0, 0, 0, 2, 0, 1, 0…\n",
      "$ OR_NP2         \u001b[3m\u001b[90m<int>\u001b[39m\u001b[23m 0, 0, 0, 0, 0, 0, 0, 0, 1, 0, 0, 0, 0, 0, 0, 0, 0, 0, 0…\n",
      "$ OR_3C          \u001b[3m\u001b[90m<int>\u001b[39m\u001b[23m 0, 0, 0, 0, 0, 0, 0, 0, 0, 0, 0, 0, 0, 0, 0, 0, 0, 0, 0…\n",
      "$ OR_3L          \u001b[3m\u001b[90m<int>\u001b[39m\u001b[23m 0, 1, 1, 1, 0, 0, 0, 0, 0, 1, 0, 0, 0, 0, 0, 1, 1, 0, 1…\n",
      "$ OR_FT          \u001b[3m\u001b[90m<int>\u001b[39m\u001b[23m 0, 0, 0, 0, 1, 0, 0, 0, 0, 0, 0, 0, 0, 0, 0, 0, 0, 0, 0…\n",
      "$ DR_RIM         \u001b[3m\u001b[90m<int>\u001b[39m\u001b[23m 0, 0, 0, 0, 0, 0, 0, 0, 0, 0, 0, 0, 0, 0, 0, 0, 0, 0, 0…\n",
      "$ DR_PAINT       \u001b[3m\u001b[90m<int>\u001b[39m\u001b[23m 0, 0, 0, 0, 0, 2, 0, 1, 1, 0, 1, 0, 0, 0, 0, 1, 0, 2, 1…\n",
      "$ DR_NP2         \u001b[3m\u001b[90m<int>\u001b[39m\u001b[23m 0, 1, 0, 0, 0, 0, 0, 0, 0, 0, 0, 0, 0, 0, 0, 0, 0, 1, 0…\n",
      "$ DR_3C          \u001b[3m\u001b[90m<int>\u001b[39m\u001b[23m 0, 0, 0, 0, 0, 0, 1, 0, 0, 1, 0, 0, 0, 0, 0, 0, 0, 0, 0…\n",
      "$ DR_3L          \u001b[3m\u001b[90m<int>\u001b[39m\u001b[23m 2, 0, 0, 0, 0, 1, 2, 2, 0, 2, 1, 0, 0, 0, 4, 0, 0, 0, 0…\n",
      "$ DR_FT          \u001b[3m\u001b[90m<int>\u001b[39m\u001b[23m 1, 0, 0, 0, 0, 0, 0, 0, 0, 1, 1, 1, 0, 0, 0, 1, 0, 0, 0…\n",
      "$ FTM_T          \u001b[3m\u001b[90m<int>\u001b[39m\u001b[23m 0, 0, 0, 0, 0, 0, 0, 0, 0, 0, 0, 0, 0, 0, 0, 0, 0, 0, 0…\n",
      "$ FTA_T          \u001b[3m\u001b[90m<int>\u001b[39m\u001b[23m 0, 0, 0, 0, 0, 0, 0, 0, 0, 0, 0, 0, 0, 0, 0, 0, 0, 0, 0…\n",
      "$ FTM_1          \u001b[3m\u001b[90m<int>\u001b[39m\u001b[23m 0, 0, 0, 0, 0, 0, 0, 1, 0, 0, 0, 0, 0, 0, 0, 0, 0, 0, 0…\n",
      "$ FTA_1          \u001b[3m\u001b[90m<int>\u001b[39m\u001b[23m 0, 0, 0, 0, 0, 0, 0, 1, 0, 0, 0, 0, 0, 0, 0, 0, 0, 0, 0…\n",
      "$ FTM_2          \u001b[3m\u001b[90m<int>\u001b[39m\u001b[23m 2, 0, 0, 3, 0, 0, 0, 2, 0, 1, 2, 0, 0, 0, 0, 2, 1, 0, 0…\n",
      "$ FTA_2          \u001b[3m\u001b[90m<int>\u001b[39m\u001b[23m 2, 0, 0, 4, 0, 0, 0, 2, 0, 2, 2, 0, 0, 0, 0, 4, 2, 0, 0…\n",
      "$ `FT 0/2`       \u001b[3m\u001b[90m<int>\u001b[39m\u001b[23m 0, 0, 0, 0, 0, 0, 0, 0, 0, 0, 0, 0, 0, 0, 0, 0, 0, 0, 0…\n",
      "$ FTM_3          \u001b[3m\u001b[90m<int>\u001b[39m\u001b[23m 0, 0, 0, 0, 0, 0, 0, 0, 0, 0, 0, 0, 0, 0, 0, 0, 0, 0, 1…\n",
      "$ FTA_3          \u001b[3m\u001b[90m<int>\u001b[39m\u001b[23m 0, 0, 0, 0, 0, 0, 0, 0, 0, 0, 0, 0, 0, 0, 0, 0, 0, 0, 3…\n",
      "$ `FT 0/3`       \u001b[3m\u001b[90m<int>\u001b[39m\u001b[23m 0, 0, 0, 0, 0, 0, 0, 0, 0, 0, 0, 0, 0, 0, 0, 0, 0, 0, 0…\n",
      "$ RIM_M          \u001b[3m\u001b[90m<int>\u001b[39m\u001b[23m 0, 0, 0, 1, 2, 0, 0, 1, 0, 0, 0, 0, 0, 0, 1, 1, 3, 0, 1…\n",
      "$ RIM_A          \u001b[3m\u001b[90m<int>\u001b[39m\u001b[23m 0, 0, 0, 1, 2, 0, 0, 2, 1, 0, 0, 0, 0, 0, 1, 1, 3, 0, 1…\n",
      "$ PAINT_M        \u001b[3m\u001b[90m<int>\u001b[39m\u001b[23m 1, 0, 1, 2, 1, 0, 0, 2, 0, 1, 2, 0, 0, 0, 0, 3, 0, 0, 1…\n",
      "$ PAINT_A        \u001b[3m\u001b[90m<int>\u001b[39m\u001b[23m 5, 0, 5, 2, 1, 1, 1, 4, 1, 3, 3, 0, 0, 0, 0, 4, 3, 1, 1…\n",
      "$ MID_M          \u001b[3m\u001b[90m<int>\u001b[39m\u001b[23m 0, 0, 0, 0, 1, 0, 0, 0, 0, 1, 0, 0, 0, 0, 0, 1, 0, 0, 1…\n",
      "$ MID_A          \u001b[3m\u001b[90m<int>\u001b[39m\u001b[23m 1, 0, 0, 0, 1, 0, 2, 0, 0, 1, 0, 0, 0, 0, 0, 2, 0, 0, 1…\n",
      "$ `3C_M`         \u001b[3m\u001b[90m<int>\u001b[39m\u001b[23m 0, 0, 1, 0, 0, 0, 0, 0, 0, 0, 0, 0, 0, 0, 0, 0, 0, 0, 0…\n",
      "$ `3C_A`         \u001b[3m\u001b[90m<int>\u001b[39m\u001b[23m 0, 0, 1, 0, 0, 0, 0, 0, 0, 0, 0, 0, 0, 0, 1, 0, 0, 0, 1…\n",
      "$ `3L_M`         \u001b[3m\u001b[90m<int>\u001b[39m\u001b[23m 1, 2, 0, 0, 2, 0, 1, 1, 0, 4, 5, 0, 0, 0, 0, 2, 0, 0, 2…\n",
      "$ `3L_A`         \u001b[3m\u001b[90m<int>\u001b[39m\u001b[23m 5, 2, 1, 0, 2, 3, 3, 2, 0, 7, 8, 0, 0, 0, 2, 5, 0, 1, 4…\n",
      "$ `3H_M`         \u001b[3m\u001b[90m<int>\u001b[39m\u001b[23m 0, 0, 0, 0, 0, 0, 0, 0, 0, 0, 0, 0, 0, 0, 0, 0, 0, 0, 0…\n",
      "$ `3H_A`         \u001b[3m\u001b[90m<int>\u001b[39m\u001b[23m 0, 0, 0, 0, 0, 0, 0, 0, 0, 0, 0, 0, 0, 0, 0, 0, 0, 0, 0…\n"
     ]
    }
   ],
   "source": [
    "players <- convert(players)\n",
    "glimpse(players)"
   ]
  },
  {
   "cell_type": "code",
   "execution_count": 40,
   "metadata": {
    "vscode": {
     "languageId": "r"
    }
   },
   "outputs": [],
   "source": [
    "# Podział danych na poszczególne etapy rozgrywek\n",
    "# Dla zespołów\n",
    "teams_regular <- teams %>% filter(ROUND <= 34)\n",
    "teams_playin  <- teams %>% filter(ROUND >= 35 & ROUND <= 36)\n",
    "teams_playoff <- teams %>% filter(ROUND >= 37 & ROUND <= 41)\n",
    "teams_final4  <- teams %>% filter(ROUND >= 42 & ROUND <= 43)\n",
    "\n",
    "# Dla zawodników\n",
    "players_regular <- players %>% filter(ROUND <= 34)\n",
    "players_playin  <- players %>% filter(ROUND >= 35 & ROUND <= 36)\n",
    "players_playoff <- players %>% filter(ROUND >= 37 & ROUND <= 41)\n",
    "players_final4  <- players %>% filter(ROUND >= 42 & ROUND <= 43)"
   ]
  },
  {
   "cell_type": "code",
   "execution_count": 41,
   "metadata": {
    "vscode": {
     "languageId": "r"
    }
   },
   "outputs": [
    {
     "name": "stdout",
     "output_type": "stream",
     "text": [
      "\u001b[90m# A tibble: 12 × 133\u001b[39m\n",
      "   ROUND `TM TAG` `OPP TAG` `TM NAME`   `OPP NAME` DATE  `H/A` `W/L`   MIN   PTS\n",
      "   \u001b[3m\u001b[90m<int>\u001b[39m\u001b[23m \u001b[3m\u001b[90m<chr>\u001b[39m\u001b[23m    \u001b[3m\u001b[90m<chr>\u001b[39m\u001b[23m     \u001b[3m\u001b[90m<chr>\u001b[39m\u001b[23m       \u001b[3m\u001b[90m<chr>\u001b[39m\u001b[23m      \u001b[3m\u001b[90m<chr>\u001b[39m\u001b[23m \u001b[3m\u001b[90m<chr>\u001b[39m\u001b[23m \u001b[3m\u001b[90m<chr>\u001b[39m\u001b[23m \u001b[3m\u001b[90m<int>\u001b[39m\u001b[23m \u001b[3m\u001b[90m<int>\u001b[39m\u001b[23m\n",
      "\u001b[90m 1\u001b[39m    35 BAS      MTA       Baskonia V… Maccabi P… 16.0… A     L       200    85\n",
      "\u001b[90m 2\u001b[39m    35 MTA      BAS       Maccabi Pl… Baskonia … 16.0… H     W       200   113\n",
      "\u001b[90m 3\u001b[39m    35 EFE      VIR       Anadolu Ef… Virtus Se… 16.0… H     L       200    64\n",
      "\u001b[90m 4\u001b[39m    35 VIR      EFE       Virtus Seg… Anadolu E… 16.0… A     W       200    67\n",
      "\u001b[90m 5\u001b[39m    35 BAS      MTA       Maccabi Pl… Baskonia … 16.0… A     L       200   113\n",
      "\u001b[90m 6\u001b[39m    35 MTA      BAS       Baskonia V… Maccabi P… 16.0… H     W       200    85\n",
      "\u001b[90m 7\u001b[39m    35 EFE      VIR       Virtus Seg… Anadolu E… 16.0… H     L       200    67\n",
      "\u001b[90m 8\u001b[39m    35 VIR      EFE       Anadolu Ef… Virtus Se… 16.0… A     W       200    64\n",
      "\u001b[90m 9\u001b[39m    36 BAS      VIR       Baskonia V… Virtus Se… 19.0… H     W       200    89\n",
      "\u001b[90m10\u001b[39m    36 VIR      BAS       Virtus Seg… Baskonia … 19.0… A     L       200    77\n",
      "\u001b[90m11\u001b[39m    36 BAS      VIR       Virtus Seg… Baskonia … 19.0… H     W       200    77\n",
      "\u001b[90m12\u001b[39m    36 VIR      BAS       Baskonia V… Virtus Se… 19.0… A     L       200    89\n",
      "\u001b[90m# ℹ 123 more variables: `2PTM` <int>, `2PTA` <int>, `2PT%` <dbl>, `3PTM` <int>,\u001b[39m\n",
      "\u001b[90m#   `3PTA` <int>, `3PT%` <dbl>, FGM <int>, FGA <int>, `FG%` <dbl>, FTM <int>,\u001b[39m\n",
      "\u001b[90m#   FTA <int>, `FT%` <dbl>, OR <int>, DR <int>, TR <int>, AST <int>, TO <int>,\u001b[39m\n",
      "\u001b[90m#   ST <int>, BLK <int>, BLKA <int>, PF <int>, DF <int>, VAL <int>,\u001b[39m\n",
      "\u001b[90m#   `+ / -` <int>, POSS <int>, `SHOOTING CHANCES` <dbl>, `OFF PPP` <dbl>,\u001b[39m\n",
      "\u001b[90m#   `DEF PPP` <dbl>, `OFF RTG` <dbl>, `DEF RTG` <dbl>, `NET RTG` <dbl>,\u001b[39m\n",
      "\u001b[90m#   `eFG%` <dbl>, `TS%` <dbl>, `RIM FREQ` <dbl>, `RIM PPS` <dbl>, …\u001b[39m\n"
     ]
    }
   ],
   "source": [
    "print(teams_playin)\n",
    "\n",
    "#Poniżej widać, że pojawiają się błędy w postaci niepotrzebnych recordów\n",
    "#Należy usunąć wiersze, gdzie TM TAG jest niezgodny z TM NAME \n",
    "#np. 5 `TM TAG` = BAS, `TM NAME` = Maccabi Playtika Tel Aviv"
   ]
  },
  {
   "cell_type": "markdown",
   "metadata": {},
   "source": [
    "**Czyszczenie danych teams**"
   ]
  },
  {
   "cell_type": "code",
   "execution_count": 42,
   "metadata": {
    "vscode": {
     "languageId": "r"
    }
   },
   "outputs": [
    {
     "name": "stdout",
     "output_type": "stream",
     "text": [
      "\u001b[90m# A tibble: 18 × 2\u001b[39m\n",
      "   `TM TAG` `TM NAME`                         \n",
      "   \u001b[3m\u001b[90m<chr>\u001b[39m\u001b[23m    \u001b[3m\u001b[90m<chr>\u001b[39m\u001b[23m                             \n",
      "\u001b[90m 1\u001b[39m CZB      Crvena Zvezda Meridianbet Belgrade\n",
      "\u001b[90m 2\u001b[39m ASV      LDLC ASVEL Villeurbanne           \n",
      "\u001b[90m 3\u001b[39m MTA      Maccabi Playtika Tel Aviv         \n",
      "\u001b[90m 4\u001b[39m PAR      Partizan Mozzart Bet Belgrade     \n",
      "\u001b[90m 5\u001b[39m EFE      Anadolu Efes Istanbul             \n",
      "\u001b[90m 6\u001b[39m FCB      FC Barcelona                      \n",
      "\u001b[90m 7\u001b[39m BER      ALBA Berlin                       \n",
      "\u001b[90m 8\u001b[39m BAY      FC Bayern Munich                  \n",
      "\u001b[90m 9\u001b[39m VIR      Virtus Segafredo Bologna          \n",
      "\u001b[90m10\u001b[39m ZAL      Zalgiris Kaunas                   \n",
      "\u001b[90m11\u001b[39m MIL      EA7 Emporio Armani Milan          \n",
      "\u001b[90m12\u001b[39m FEN      Fenerbahce Beko Istanbul          \n",
      "\u001b[90m13\u001b[39m OLY      Olympiacos Piraeus                \n",
      "\u001b[90m14\u001b[39m PAN      Panathinaikos AKTOR Athens        \n",
      "\u001b[90m15\u001b[39m BAS      Baskonia Vitoria-Gasteiz          \n",
      "\u001b[90m16\u001b[39m RMB      Real Madrid                       \n",
      "\u001b[90m17\u001b[39m ASM      AS Monaco                         \n",
      "\u001b[90m18\u001b[39m VAL      Valencia Basket                   \n"
     ]
    }
   ],
   "source": [
    "tag_name_map <- tibble(\n",
    "  `TM TAG` = c(\"CZB\", \"ASV\", \"MTA\", \"PAR\", \"EFE\", \"FCB\", \"BER\", \"BAY\",\n",
    "               \"VIR\", \"ZAL\", \"MIL\", \"FEN\", \"OLY\", \"PAN\", \"BAS\", \"RMB\",\n",
    "               \"ASM\", \"VAL\"),\n",
    "  `TM NAME` = c(\"Crvena Zvezda Meridianbet Belgrade\",\n",
    "                \"LDLC ASVEL Villeurbanne\",\n",
    "                \"Maccabi Playtika Tel Aviv\",\n",
    "                \"Partizan Mozzart Bet Belgrade\",\n",
    "                \"Anadolu Efes Istanbul\",\n",
    "                \"FC Barcelona\",\n",
    "                \"ALBA Berlin\",\n",
    "                \"FC Bayern Munich\",\n",
    "                \"Virtus Segafredo Bologna\",\n",
    "                \"Zalgiris Kaunas\",\n",
    "                \"EA7 Emporio Armani Milan\",\n",
    "                \"Fenerbahce Beko Istanbul\",\n",
    "                \"Olympiacos Piraeus\",\n",
    "                \"Panathinaikos AKTOR Athens\",\n",
    "                \"Baskonia Vitoria-Gasteiz\",\n",
    "                \"Real Madrid\",\n",
    "                \"AS Monaco\",\n",
    "                \"Valencia Basket\")\n",
    ")\n",
    "\n",
    "print(tag_name_map)"
   ]
  },
  {
   "cell_type": "code",
   "execution_count": 43,
   "metadata": {
    "vscode": {
     "languageId": "r"
    }
   },
   "outputs": [],
   "source": [
    "clean_team_names <- function(teams, tag_map) {\n",
    "  teams %>%\n",
    "    left_join(tag_map, by = \"TM TAG\") %>%   # Dopasowanie poprawnej nazwy\n",
    "    filter(`TM NAME.x` == `TM NAME.y`) %>%  # Zachowanie tylko poprawnych nazw\n",
    "    select(-`TM NAME.y`) %>%                # Usuwanie pomocniczej kolumny\n",
    "    rename(`TM NAME` = `TM NAME.x`) #%>%     # Przywracanie oryginalnej nazwy\n",
    "    #mutate(`MIN` = as.integer(`MIN` / 5))   # Podzielenie liczby min przez 5\n",
    "}\n"
   ]
  },
  {
   "cell_type": "code",
   "execution_count": 44,
   "metadata": {
    "vscode": {
     "languageId": "r"
    }
   },
   "outputs": [],
   "source": [
    "scale_minutes <- function(teams) {\n",
    "  teams %>%\n",
    "    mutate(`MIN` = as.integer(`MIN` / 5))   # Podzielenie liczby min przez 5\n",
    "}"
   ]
  },
  {
   "cell_type": "code",
   "execution_count": 45,
   "metadata": {
    "vscode": {
     "languageId": "r"
    }
   },
   "outputs": [],
   "source": [
    "teams_regular <- scale_minutes(clean_team_names(teams_regular, tag_name_map))\n",
    "teams_playin <- scale_minutes(clean_team_names(teams_playin, tag_name_map))\n",
    "teams_playoff <- scale_minutes(clean_team_names(teams_playoff, tag_name_map))\n",
    "teams_final4 <- scale_minutes(clean_team_names(teams_final4, tag_name_map))"
   ]
  },
  {
   "cell_type": "code",
   "execution_count": 46,
   "metadata": {
    "vscode": {
     "languageId": "r"
    }
   },
   "outputs": [
    {
     "name": "stdout",
     "output_type": "stream",
     "text": [
      "\u001b[90m# A tibble: 6 × 133\u001b[39m\n",
      "  ROUND `TM TAG` `OPP TAG` `TM NAME`    `OPP NAME` DATE  `H/A` `W/L`   MIN   PTS\n",
      "  \u001b[3m\u001b[90m<int>\u001b[39m\u001b[23m \u001b[3m\u001b[90m<chr>\u001b[39m\u001b[23m    \u001b[3m\u001b[90m<chr>\u001b[39m\u001b[23m     \u001b[3m\u001b[90m<chr>\u001b[39m\u001b[23m        \u001b[3m\u001b[90m<chr>\u001b[39m\u001b[23m      \u001b[3m\u001b[90m<chr>\u001b[39m\u001b[23m \u001b[3m\u001b[90m<chr>\u001b[39m\u001b[23m \u001b[3m\u001b[90m<chr>\u001b[39m\u001b[23m \u001b[3m\u001b[90m<int>\u001b[39m\u001b[23m \u001b[3m\u001b[90m<int>\u001b[39m\u001b[23m\n",
      "\u001b[90m1\u001b[39m    35 BAS      MTA       Baskonia Vi… Maccabi P… 16.0… A     L        40    85\n",
      "\u001b[90m2\u001b[39m    35 MTA      BAS       Maccabi Pla… Baskonia … 16.0… H     W        40   113\n",
      "\u001b[90m3\u001b[39m    35 EFE      VIR       Anadolu Efe… Virtus Se… 16.0… H     L        40    64\n",
      "\u001b[90m4\u001b[39m    35 VIR      EFE       Virtus Sega… Anadolu E… 16.0… A     W        40    67\n",
      "\u001b[90m5\u001b[39m    36 BAS      VIR       Baskonia Vi… Virtus Se… 19.0… H     W        40    89\n",
      "\u001b[90m6\u001b[39m    36 VIR      BAS       Virtus Sega… Baskonia … 19.0… A     L        40    77\n",
      "\u001b[90m# ℹ 123 more variables: `2PTM` <int>, `2PTA` <int>, `2PT%` <dbl>, `3PTM` <int>,\u001b[39m\n",
      "\u001b[90m#   `3PTA` <int>, `3PT%` <dbl>, FGM <int>, FGA <int>, `FG%` <dbl>, FTM <int>,\u001b[39m\n",
      "\u001b[90m#   FTA <int>, `FT%` <dbl>, OR <int>, DR <int>, TR <int>, AST <int>, TO <int>,\u001b[39m\n",
      "\u001b[90m#   ST <int>, BLK <int>, BLKA <int>, PF <int>, DF <int>, VAL <int>,\u001b[39m\n",
      "\u001b[90m#   `+ / -` <int>, POSS <int>, `SHOOTING CHANCES` <dbl>, `OFF PPP` <dbl>,\u001b[39m\n",
      "\u001b[90m#   `DEF PPP` <dbl>, `OFF RTG` <dbl>, `DEF RTG` <dbl>, `NET RTG` <dbl>,\u001b[39m\n",
      "\u001b[90m#   `eFG%` <dbl>, `TS%` <dbl>, `RIM FREQ` <dbl>, `RIM PPS` <dbl>, …\u001b[39m\n"
     ]
    }
   ],
   "source": [
    "print(teams_playin)"
   ]
  },
  {
   "cell_type": "markdown",
   "metadata": {},
   "source": [
    "**Czyszczenie danych players**"
   ]
  },
  {
   "cell_type": "code",
   "execution_count": 47,
   "metadata": {
    "vscode": {
     "languageId": "r"
    }
   },
   "outputs": [],
   "source": [
    "delete_0min <- function(players) {\n",
    "  players[players$MIN != 0, ]\n",
    "}"
   ]
  },
  {
   "cell_type": "code",
   "execution_count": 48,
   "metadata": {
    "vscode": {
     "languageId": "r"
    }
   },
   "outputs": [
    {
     "name": "stdout",
     "output_type": "stream",
     "text": [
      "Rows: 72\n",
      "Columns: 85\n",
      "$ `TM TAG`       \u001b[3m\u001b[90m<chr>\u001b[39m\u001b[23m \"BAS\", \"BAS\", \"BAS\", \"BAS\", \"BAS\", \"BAS\", \"BAS\", \"BAS\",…\n",
      "$ NAME           \u001b[3m\u001b[90m<chr>\u001b[39m\u001b[23m \"Chima Moneke\", \"Chris Chiozza\", \"Codi Miller McIntyre\"…\n",
      "$ ROLE           \u001b[3m\u001b[90m<chr>\u001b[39m\u001b[23m \"PF\", \"PG\", \"PG\", \"F\", \"PG/SG\", \"C\", \"PG\", \"PF/C\", \"F\",…\n",
      "$ NAT            \u001b[3m\u001b[90m<chr>\u001b[39m\u001b[23m \"NGR\", \"USA\", \"USA\", \"ESP\", \"MKD\", \"EST\", \"USA\", \"USA\",…\n",
      "$ HEIGHT         \u001b[3m\u001b[90m<chr>\u001b[39m\u001b[23m \"198\", \"180\", \"191\", \"203\", \"182\", \"209\", \"178\", \"210\",…\n",
      "$ AGE            \u001b[3m\u001b[90m<int>\u001b[39m\u001b[23m 29, 29, 30, 31, 35, 28, 25, 31, 23, 25, 26, 27, 30, 28,…\n",
      "$ ROUND          \u001b[3m\u001b[90m<int>\u001b[39m\u001b[23m 35, 35, 35, 35, 35, 35, 35, 35, 35, 35, 35, 35, 35, 35,…\n",
      "$ `TM NAME`      \u001b[3m\u001b[90m<chr>\u001b[39m\u001b[23m \"Baskonia Vitoria-Gasteiz\", \"Baskonia Vitoria-Gasteiz\",…\n",
      "$ `OPP NAME`     \u001b[3m\u001b[90m<chr>\u001b[39m\u001b[23m \"Maccabi Playtika Tel Aviv\", \"Maccabi Playtika Tel Aviv…\n",
      "$ DATE           \u001b[3m\u001b[90m<chr>\u001b[39m\u001b[23m \"16.04.2024\", \"16.04.2024\", \"16.04.2024\", \"16.04.2024\",…\n",
      "$ `H/A`          \u001b[3m\u001b[90m<chr>\u001b[39m\u001b[23m \"A\", \"A\", \"A\", \"A\", \"A\", \"A\", \"A\", \"A\", \"A\", \"A\", \"A\", …\n",
      "$ `W/L`          \u001b[3m\u001b[90m<chr>\u001b[39m\u001b[23m \"L\", \"L\", \"L\", \"L\", \"L\", \"L\", \"L\", \"L\", \"L\", \"L\", \"L\", …\n",
      "$ MIN            \u001b[3m\u001b[90m<int>\u001b[39m\u001b[23m 9, 7, 31, 6, 8, 26, 28, 14, 17, 1, 34, 20, 18, 25, 14, …\n",
      "$ PTS            \u001b[3m\u001b[90m<int>\u001b[39m\u001b[23m 0, 0, 32, 0, 2, 6, 14, 5, 10, 0, 11, 5, 11, 14, 3, 8, 8…\n",
      "$ `2PTM`         \u001b[3m\u001b[90m<int>\u001b[39m\u001b[23m 0, 0, 11, 0, 1, 2, 1, 1, 2, 0, 4, 1, 1, 4, 0, 3, 3, 0, …\n",
      "$ `2PTA`         \u001b[3m\u001b[90m<int>\u001b[39m\u001b[23m 1, 0, 13, 0, 1, 3, 6, 1, 3, 0, 5, 1, 3, 8, 0, 4, 3, 1, …\n",
      "$ `2PT%`         \u001b[3m\u001b[90m<dbl>\u001b[39m\u001b[23m 0.0000000, NA, 0.8461538, NA, 1.0000000, 0.6666667, 0.1…\n",
      "$ `3PTM`         \u001b[3m\u001b[90m<int>\u001b[39m\u001b[23m 0, 0, 2, 0, 0, 0, 4, 1, 2, 0, 1, 1, 2, 2, 1, 0, 0, 0, 0…\n",
      "$ `3PTA`         \u001b[3m\u001b[90m<int>\u001b[39m\u001b[23m 1, 0, 4, 1, 0, 0, 8, 3, 4, 0, 4, 4, 3, 4, 2, 5, 0, 2, 0…\n",
      "$ `3PT%`         \u001b[3m\u001b[90m<dbl>\u001b[39m\u001b[23m 0.0000000, NA, 0.5000000, 0.0000000, NA, NA, 0.5000000,…\n",
      "$ FGM            \u001b[3m\u001b[90m<int>\u001b[39m\u001b[23m 0, 0, 13, 0, 1, 2, 5, 2, 4, 0, 5, 2, 3, 6, 1, 3, 3, 0, …\n",
      "$ FGA            \u001b[3m\u001b[90m<int>\u001b[39m\u001b[23m 2, 0, 17, 1, 1, 3, 14, 4, 7, 0, 9, 5, 6, 12, 2, 9, 3, 3…\n",
      "$ `FG%`          \u001b[3m\u001b[90m<dbl>\u001b[39m\u001b[23m 0.0000000, NA, 0.7647059, 0.0000000, 1.0000000, 0.66666…\n",
      "$ FTM            \u001b[3m\u001b[90m<int>\u001b[39m\u001b[23m 0, 0, 4, 0, 0, 2, 0, 0, 0, 0, 0, 0, 3, 0, 0, 2, 2, 0, 0…\n",
      "$ FTA            \u001b[3m\u001b[90m<int>\u001b[39m\u001b[23m 0, 0, 5, 0, 0, 6, 0, 0, 0, 0, 0, 0, 4, 0, 0, 2, 3, 0, 0…\n",
      "$ `FT%`          \u001b[3m\u001b[90m<dbl>\u001b[39m\u001b[23m NA, NA, 0.8000000, NA, NA, 0.3333333, NA, NA, NA, NA, N…\n",
      "$ OR             \u001b[3m\u001b[90m<int>\u001b[39m\u001b[23m 0, 0, 2, 0, 0, 4, 0, 0, 0, 0, 2, 1, 1, 1, 0, 3, 4, 0, 2…\n",
      "$ DR             \u001b[3m\u001b[90m<int>\u001b[39m\u001b[23m 2, 0, 6, 0, 0, 2, 0, 1, 1, 0, 5, 0, 0, 2, 1, 3, 2, 1, 5…\n",
      "$ TR             \u001b[3m\u001b[90m<int>\u001b[39m\u001b[23m 2, 0, 8, 0, 0, 6, 0, 1, 1, 0, 7, 1, 1, 3, 1, 6, 6, 1, 7…\n",
      "$ AST            \u001b[3m\u001b[90m<int>\u001b[39m\u001b[23m 0, 1, 7, 0, 3, 2, 2, 3, 1, 0, 3, 0, 0, 1, 2, 1, 2, 0, 1…\n",
      "$ TO             \u001b[3m\u001b[90m<int>\u001b[39m\u001b[23m 1, 0, 5, 0, 0, 0, 4, 0, 1, 0, 0, 1, 0, 1, 0, 0, 0, 1, 0…\n",
      "$ ST             \u001b[3m\u001b[90m<int>\u001b[39m\u001b[23m 0, 0, 2, 0, 0, 1, 1, 1, 1, 0, 1, 0, 1, 3, 1, 1, 0, 0, 0…\n",
      "$ BLK            \u001b[3m\u001b[90m<int>\u001b[39m\u001b[23m 0, 1, 1, 0, 0, 0, 0, 0, 0, 0, 1, 0, 0, 1, 0, 1, 0, 0, 1…\n",
      "$ BLKA           \u001b[3m\u001b[90m<int>\u001b[39m\u001b[23m 0, 0, 0, 0, 0, 1, 2, 0, 0, 0, 0, 0, 0, 1, 0, 1, 0, 0, 0…\n",
      "$ PF             \u001b[3m\u001b[90m<int>\u001b[39m\u001b[23m 0, 1, 1, 0, 0, 2, 2, 3, 2, 0, 2, 1, 2, 2, 3, 2, 1, 0, 1…\n",
      "$ DF             \u001b[3m\u001b[90m<int>\u001b[39m\u001b[23m 1, 0, 6, 0, 0, 6, 1, 1, 0, 0, 0, 1, 3, 1, 0, 1, 2, 0, 2…\n",
      "$ VAL            \u001b[3m\u001b[90m<int>\u001b[39m\u001b[23m 0, 1, 45, -1, 5, 13, 1, 6, 7, 0, 17, 2, 10, 13, 3, 9, 1…\n",
      "$ `+ / -`        \u001b[3m\u001b[90m<int>\u001b[39m\u001b[23m -8, -7, -15, -3, -1, -11, -19, -17, -7, 2, -23, -31, 14…\n",
      "$ POSS           \u001b[3m\u001b[90m<int>\u001b[39m\u001b[23m 3, 0, 24, 1, 1, 6, 18, 4, 8, 0, 9, 6, 8, 13, 2, 10, 4, …\n",
      "$ ASTED_2FG      \u001b[3m\u001b[90m<int>\u001b[39m\u001b[23m 0, 0, 1, 0, 1, 2, 1, 1, 1, 0, 3, 0, 0, 3, 0, 2, 2, 0, 2…\n",
      "$ ASTED_3FG      \u001b[3m\u001b[90m<int>\u001b[39m\u001b[23m 0, 0, 2, 0, 0, 0, 3, 1, 2, 0, 1, 1, 1, 2, 1, 0, 0, 0, 0…\n",
      "$ ASTED_FT       \u001b[3m\u001b[90m<int>\u001b[39m\u001b[23m 0, 0, 0, 0, 0, 2, 0, 0, 0, 0, 0, 0, 2, 0, 0, 0, 1, 0, 0…\n",
      "$ `ASTED_FT PTS` \u001b[3m\u001b[90m<int>\u001b[39m\u001b[23m 0, 0, 0, 0, 0, 4, 0, 0, 0, 0, 0, 0, 2, 0, 0, 0, 2, 0, 0…\n",
      "$ `AST (2P)`     \u001b[3m\u001b[90m<int>\u001b[39m\u001b[23m 0, 0, 4, 0, 1, 1, 0, 2, 0, 0, 2, 0, 0, 1, 1, 0, 0, 0, 0…\n",
      "$ `AST (3P)`     \u001b[3m\u001b[90m<int>\u001b[39m\u001b[23m 0, 1, 2, 0, 2, 1, 1, 1, 1, 0, 1, 0, 0, 0, 1, 0, 2, 0, 1…\n",
      "$ `AST (FT)`     \u001b[3m\u001b[90m<int>\u001b[39m\u001b[23m 0, 0, 1, 0, 0, 0, 1, 0, 0, 0, 0, 0, 0, 0, 0, 1, 0, 0, 0…\n",
      "$ `AST PTS (FT)` \u001b[3m\u001b[90m<int>\u001b[39m\u001b[23m 0, 0, 2, 0, 0, 0, 2, 0, 0, 0, 0, 0, 0, 0, 0, 2, 0, 0, 0…\n",
      "$ LTO            \u001b[3m\u001b[90m<int>\u001b[39m\u001b[23m 0, 0, 4, 0, 0, 0, 1, 0, 1, 0, 0, 1, 0, 1, 0, 0, 0, 0, 0…\n",
      "$ DTO            \u001b[3m\u001b[90m<int>\u001b[39m\u001b[23m 1, 0, 1, 0, 0, 0, 3, 0, 0, 0, 0, 0, 0, 0, 0, 0, 0, 1, 0…\n",
      "$ BLK2           \u001b[3m\u001b[90m<int>\u001b[39m\u001b[23m 0, 1, 1, 0, 0, 0, 0, 0, 0, 0, 1, 0, 0, 1, 0, 1, 0, 0, 1…\n",
      "$ BLK3           \u001b[3m\u001b[90m<int>\u001b[39m\u001b[23m 0, 0, 0, 0, 0, 0, 0, 0, 0, 0, 0, 0, 0, 0, 0, 0, 0, 0, 0…\n",
      "$ OR_RIM         \u001b[3m\u001b[90m<int>\u001b[39m\u001b[23m 0, 0, 0, 0, 0, 0, 0, 0, 0, 0, 0, 1, 0, 0, 0, 1, 0, 0, 0…\n",
      "$ OR_PAINT       \u001b[3m\u001b[90m<int>\u001b[39m\u001b[23m 0, 0, 0, 0, 0, 1, 0, 0, 0, 0, 0, 0, 0, 0, 0, 0, 0, 0, 1…\n",
      "$ OR_NP2         \u001b[3m\u001b[90m<int>\u001b[39m\u001b[23m 0, 0, 1, 0, 0, 0, 0, 0, 0, 0, 0, 0, 1, 1, 0, 0, 1, 0, 1…\n",
      "$ OR_3C          \u001b[3m\u001b[90m<int>\u001b[39m\u001b[23m 0, 0, 0, 0, 0, 1, 0, 0, 0, 0, 0, 0, 0, 0, 0, 0, 0, 0, 0…\n",
      "$ OR_3L          \u001b[3m\u001b[90m<int>\u001b[39m\u001b[23m 0, 0, 1, 0, 0, 2, 0, 0, 0, 0, 2, 0, 0, 0, 0, 2, 2, 0, 0…\n",
      "$ OR_FT          \u001b[3m\u001b[90m<int>\u001b[39m\u001b[23m 0, 0, 0, 0, 0, 0, 0, 0, 0, 0, 0, 0, 0, 0, 0, 0, 1, 0, 0…\n",
      "$ DR_RIM         \u001b[3m\u001b[90m<int>\u001b[39m\u001b[23m 0, 0, 1, 0, 0, 0, 0, 0, 0, 0, 0, 0, 0, 0, 0, 1, 0, 0, 0…\n",
      "$ DR_PAINT       \u001b[3m\u001b[90m<int>\u001b[39m\u001b[23m 2, 0, 0, 0, 0, 1, 0, 0, 0, 0, 0, 0, 0, 0, 0, 2, 0, 1, 2…\n",
      "$ DR_NP2         \u001b[3m\u001b[90m<int>\u001b[39m\u001b[23m 0, 0, 0, 0, 0, 1, 0, 0, 0, 0, 0, 0, 0, 0, 0, 0, 0, 0, 1…\n",
      "$ DR_3C          \u001b[3m\u001b[90m<int>\u001b[39m\u001b[23m 0, 0, 0, 0, 0, 0, 0, 0, 0, 0, 1, 0, 0, 1, 0, 0, 0, 0, 0…\n",
      "$ DR_3L          \u001b[3m\u001b[90m<int>\u001b[39m\u001b[23m 0, 0, 5, 0, 0, 0, 0, 0, 1, 0, 4, 0, 0, 1, 1, 0, 1, 0, 1…\n",
      "$ DR_FT          \u001b[3m\u001b[90m<int>\u001b[39m\u001b[23m 0, 0, 0, 0, 0, 0, 0, 1, 0, 0, 0, 0, 0, 0, 0, 0, 1, 0, 1…\n",
      "$ FTM_T          \u001b[3m\u001b[90m<int>\u001b[39m\u001b[23m 0, 0, 0, 0, 0, 0, 0, 0, 0, 0, 0, 0, 0, 0, 0, 0, 0, 0, 0…\n",
      "$ FTA_T          \u001b[3m\u001b[90m<int>\u001b[39m\u001b[23m 0, 0, 0, 0, 0, 0, 0, 0, 0, 0, 0, 0, 0, 0, 0, 0, 0, 0, 0…\n",
      "$ FTM_1          \u001b[3m\u001b[90m<int>\u001b[39m\u001b[23m 0, 0, 1, 0, 0, 0, 0, 0, 0, 0, 0, 0, 0, 0, 0, 0, 0, 0, 0…\n",
      "$ FTA_1          \u001b[3m\u001b[90m<int>\u001b[39m\u001b[23m 0, 0, 1, 0, 0, 0, 0, 0, 0, 0, 0, 0, 0, 0, 0, 0, 1, 0, 0…\n",
      "$ FTM_2          \u001b[3m\u001b[90m<int>\u001b[39m\u001b[23m 0, 0, 3, 0, 0, 2, 0, 0, 0, 0, 0, 0, 3, 0, 0, 2, 2, 0, 0…\n",
      "$ FTA_2          \u001b[3m\u001b[90m<int>\u001b[39m\u001b[23m 0, 0, 4, 0, 0, 6, 0, 0, 0, 0, 0, 0, 4, 0, 0, 2, 2, 0, 0…\n",
      "$ `FT 0/2`       \u001b[3m\u001b[90m<int>\u001b[39m\u001b[23m 0, 0, 0, 0, 0, 1, 0, 0, 0, 0, 0, 0, 0, 0, 0, 0, 0, 0, 0…\n",
      "$ FTM_3          \u001b[3m\u001b[90m<int>\u001b[39m\u001b[23m 0, 0, 0, 0, 0, 0, 0, 0, 0, 0, 0, 0, 0, 0, 0, 0, 0, 0, 0…\n",
      "$ FTA_3          \u001b[3m\u001b[90m<int>\u001b[39m\u001b[23m 0, 0, 0, 0, 0, 0, 0, 0, 0, 0, 0, 0, 0, 0, 0, 0, 0, 0, 0…\n",
      "$ `FT 0/3`       \u001b[3m\u001b[90m<int>\u001b[39m\u001b[23m 0, 0, 0, 0, 0, 0, 0, 0, 0, 0, 0, 0, 0, 0, 0, 0, 0, 0, 0…\n",
      "$ RIM_M          \u001b[3m\u001b[90m<int>\u001b[39m\u001b[23m 0, 0, 7, 0, 1, 1, 1, 1, 1, 0, 3, 1, 1, 0, 0, 2, 1, 0, 1…\n",
      "$ RIM_A          \u001b[3m\u001b[90m<int>\u001b[39m\u001b[23m 1, 0, 7, 0, 1, 1, 2, 1, 1, 0, 4, 1, 2, 2, 0, 3, 1, 0, 1…\n",
      "$ PAINT_M        \u001b[3m\u001b[90m<int>\u001b[39m\u001b[23m 0, 0, 1, 0, 0, 1, 0, 0, 1, 0, 1, 0, 0, 3, 0, 1, 2, 0, 1…\n",
      "$ PAINT_A        \u001b[3m\u001b[90m<int>\u001b[39m\u001b[23m 0, 0, 3, 0, 0, 2, 3, 0, 1, 0, 1, 0, 0, 5, 0, 1, 2, 0, 2…\n",
      "$ MID_M          \u001b[3m\u001b[90m<int>\u001b[39m\u001b[23m 0, 0, 3, 0, 0, 0, 0, 0, 0, 0, 0, 0, 0, 1, 0, 0, 0, 0, 0…\n",
      "$ MID_A          \u001b[3m\u001b[90m<int>\u001b[39m\u001b[23m 0, 0, 3, 0, 0, 0, 1, 0, 1, 0, 0, 0, 1, 1, 0, 0, 0, 1, 0…\n",
      "$ `3C_M`         \u001b[3m\u001b[90m<int>\u001b[39m\u001b[23m 0, 0, 0, 0, 0, 0, 1, 0, 2, 0, 0, 0, 1, 1, 0, 0, 0, 0, 0…\n",
      "$ `3C_A`         \u001b[3m\u001b[90m<int>\u001b[39m\u001b[23m 0, 0, 0, 1, 0, 0, 1, 0, 2, 0, 0, 1, 1, 1, 0, 1, 0, 0, 0…\n",
      "$ `3L_M`         \u001b[3m\u001b[90m<int>\u001b[39m\u001b[23m 0, 0, 2, 0, 0, 0, 3, 1, 0, 0, 1, 1, 1, 1, 1, 0, 0, 0, 0…\n",
      "$ `3L_A`         \u001b[3m\u001b[90m<int>\u001b[39m\u001b[23m 1, 0, 4, 0, 0, 0, 7, 3, 2, 0, 4, 3, 2, 3, 2, 4, 0, 2, 0…\n",
      "$ `3H_M`         \u001b[3m\u001b[90m<int>\u001b[39m\u001b[23m 0, 0, 0, 0, 0, 0, 0, 0, 0, 0, 0, 0, 0, 0, 0, 0, 0, 0, 0…\n",
      "$ `3H_A`         \u001b[3m\u001b[90m<int>\u001b[39m\u001b[23m 0, 0, 0, 0, 0, 0, 0, 0, 0, 0, 0, 0, 0, 0, 0, 0, 0, 0, 0…\n"
     ]
    }
   ],
   "source": [
    "glimpse(players_playin)"
   ]
  },
  {
   "cell_type": "code",
   "execution_count": 49,
   "metadata": {
    "vscode": {
     "languageId": "r"
    }
   },
   "outputs": [],
   "source": [
    "players_regular <- delete_0min(players_regular)\n",
    "players_playin <- delete_0min(players_playin)\n",
    "players_playoff <- delete_0min(players_playoff)\n",
    "players_final4 <- delete_0min(players_final4)"
   ]
  },
  {
   "cell_type": "code",
   "execution_count": 50,
   "metadata": {
    "vscode": {
     "languageId": "r"
    }
   },
   "outputs": [
    {
     "name": "stdout",
     "output_type": "stream",
     "text": [
      "Rows: 65\n",
      "Columns: 85\n",
      "$ `TM TAG`       \u001b[3m\u001b[90m<chr>\u001b[39m\u001b[23m \"BAS\", \"BAS\", \"BAS\", \"BAS\", \"BAS\", \"BAS\", \"BAS\", \"BAS\",…\n",
      "$ NAME           \u001b[3m\u001b[90m<chr>\u001b[39m\u001b[23m \"Chima Moneke\", \"Chris Chiozza\", \"Codi Miller McIntyre\"…\n",
      "$ ROLE           \u001b[3m\u001b[90m<chr>\u001b[39m\u001b[23m \"PF\", \"PG\", \"PG\", \"F\", \"PG/SG\", \"C\", \"PG\", \"PF/C\", \"F\",…\n",
      "$ NAT            \u001b[3m\u001b[90m<chr>\u001b[39m\u001b[23m \"NGR\", \"USA\", \"USA\", \"ESP\", \"MKD\", \"EST\", \"USA\", \"USA\",…\n",
      "$ HEIGHT         \u001b[3m\u001b[90m<chr>\u001b[39m\u001b[23m \"198\", \"180\", \"191\", \"203\", \"182\", \"209\", \"178\", \"210\",…\n",
      "$ AGE            \u001b[3m\u001b[90m<int>\u001b[39m\u001b[23m 29, 29, 30, 31, 35, 28, 25, 31, 23, 25, 26, 27, 30, 28,…\n",
      "$ ROUND          \u001b[3m\u001b[90m<int>\u001b[39m\u001b[23m 35, 35, 35, 35, 35, 35, 35, 35, 35, 35, 35, 35, 35, 35,…\n",
      "$ `TM NAME`      \u001b[3m\u001b[90m<chr>\u001b[39m\u001b[23m \"Baskonia Vitoria-Gasteiz\", \"Baskonia Vitoria-Gasteiz\",…\n",
      "$ `OPP NAME`     \u001b[3m\u001b[90m<chr>\u001b[39m\u001b[23m \"Maccabi Playtika Tel Aviv\", \"Maccabi Playtika Tel Aviv…\n",
      "$ DATE           \u001b[3m\u001b[90m<chr>\u001b[39m\u001b[23m \"16.04.2024\", \"16.04.2024\", \"16.04.2024\", \"16.04.2024\",…\n",
      "$ `H/A`          \u001b[3m\u001b[90m<chr>\u001b[39m\u001b[23m \"A\", \"A\", \"A\", \"A\", \"A\", \"A\", \"A\", \"A\", \"A\", \"A\", \"A\", …\n",
      "$ `W/L`          \u001b[3m\u001b[90m<chr>\u001b[39m\u001b[23m \"L\", \"L\", \"L\", \"L\", \"L\", \"L\", \"L\", \"L\", \"L\", \"L\", \"L\", …\n",
      "$ MIN            \u001b[3m\u001b[90m<int>\u001b[39m\u001b[23m 9, 7, 31, 6, 8, 26, 28, 14, 17, 1, 34, 20, 18, 25, 14, …\n",
      "$ PTS            \u001b[3m\u001b[90m<int>\u001b[39m\u001b[23m 0, 0, 32, 0, 2, 6, 14, 5, 10, 0, 11, 5, 11, 14, 3, 8, 8…\n",
      "$ `2PTM`         \u001b[3m\u001b[90m<int>\u001b[39m\u001b[23m 0, 0, 11, 0, 1, 2, 1, 1, 2, 0, 4, 1, 1, 4, 0, 3, 3, 0, …\n",
      "$ `2PTA`         \u001b[3m\u001b[90m<int>\u001b[39m\u001b[23m 1, 0, 13, 0, 1, 3, 6, 1, 3, 0, 5, 1, 3, 8, 0, 4, 3, 1, …\n",
      "$ `2PT%`         \u001b[3m\u001b[90m<dbl>\u001b[39m\u001b[23m 0.0000000, NA, 0.8461538, NA, 1.0000000, 0.6666667, 0.1…\n",
      "$ `3PTM`         \u001b[3m\u001b[90m<int>\u001b[39m\u001b[23m 0, 0, 2, 0, 0, 0, 4, 1, 2, 0, 1, 1, 2, 2, 1, 0, 0, 0, 0…\n",
      "$ `3PTA`         \u001b[3m\u001b[90m<int>\u001b[39m\u001b[23m 1, 0, 4, 1, 0, 0, 8, 3, 4, 0, 4, 4, 3, 4, 2, 5, 0, 2, 0…\n",
      "$ `3PT%`         \u001b[3m\u001b[90m<dbl>\u001b[39m\u001b[23m 0.0000000, NA, 0.5000000, 0.0000000, NA, NA, 0.5000000,…\n",
      "$ FGM            \u001b[3m\u001b[90m<int>\u001b[39m\u001b[23m 0, 0, 13, 0, 1, 2, 5, 2, 4, 0, 5, 2, 3, 6, 1, 3, 3, 0, …\n",
      "$ FGA            \u001b[3m\u001b[90m<int>\u001b[39m\u001b[23m 2, 0, 17, 1, 1, 3, 14, 4, 7, 0, 9, 5, 6, 12, 2, 9, 3, 3…\n",
      "$ `FG%`          \u001b[3m\u001b[90m<dbl>\u001b[39m\u001b[23m 0.0000000, NA, 0.7647059, 0.0000000, 1.0000000, 0.66666…\n",
      "$ FTM            \u001b[3m\u001b[90m<int>\u001b[39m\u001b[23m 0, 0, 4, 0, 0, 2, 0, 0, 0, 0, 0, 0, 3, 0, 0, 2, 2, 0, 0…\n",
      "$ FTA            \u001b[3m\u001b[90m<int>\u001b[39m\u001b[23m 0, 0, 5, 0, 0, 6, 0, 0, 0, 0, 0, 0, 4, 0, 0, 2, 3, 0, 0…\n",
      "$ `FT%`          \u001b[3m\u001b[90m<dbl>\u001b[39m\u001b[23m NA, NA, 0.8000000, NA, NA, 0.3333333, NA, NA, NA, NA, N…\n",
      "$ OR             \u001b[3m\u001b[90m<int>\u001b[39m\u001b[23m 0, 0, 2, 0, 0, 4, 0, 0, 0, 0, 2, 1, 1, 1, 0, 3, 4, 0, 2…\n",
      "$ DR             \u001b[3m\u001b[90m<int>\u001b[39m\u001b[23m 2, 0, 6, 0, 0, 2, 0, 1, 1, 0, 5, 0, 0, 2, 1, 3, 2, 1, 5…\n",
      "$ TR             \u001b[3m\u001b[90m<int>\u001b[39m\u001b[23m 2, 0, 8, 0, 0, 6, 0, 1, 1, 0, 7, 1, 1, 3, 1, 6, 6, 1, 7…\n",
      "$ AST            \u001b[3m\u001b[90m<int>\u001b[39m\u001b[23m 0, 1, 7, 0, 3, 2, 2, 3, 1, 0, 3, 0, 0, 1, 2, 1, 2, 0, 1…\n",
      "$ TO             \u001b[3m\u001b[90m<int>\u001b[39m\u001b[23m 1, 0, 5, 0, 0, 0, 4, 0, 1, 0, 0, 1, 0, 1, 0, 0, 0, 1, 0…\n",
      "$ ST             \u001b[3m\u001b[90m<int>\u001b[39m\u001b[23m 0, 0, 2, 0, 0, 1, 1, 1, 1, 0, 1, 0, 1, 3, 1, 1, 0, 0, 0…\n",
      "$ BLK            \u001b[3m\u001b[90m<int>\u001b[39m\u001b[23m 0, 1, 1, 0, 0, 0, 0, 0, 0, 0, 1, 0, 0, 1, 0, 1, 0, 0, 1…\n",
      "$ BLKA           \u001b[3m\u001b[90m<int>\u001b[39m\u001b[23m 0, 0, 0, 0, 0, 1, 2, 0, 0, 0, 0, 0, 0, 1, 0, 1, 0, 0, 0…\n",
      "$ PF             \u001b[3m\u001b[90m<int>\u001b[39m\u001b[23m 0, 1, 1, 0, 0, 2, 2, 3, 2, 0, 2, 1, 2, 2, 3, 2, 1, 0, 1…\n",
      "$ DF             \u001b[3m\u001b[90m<int>\u001b[39m\u001b[23m 1, 0, 6, 0, 0, 6, 1, 1, 0, 0, 0, 1, 3, 1, 0, 1, 2, 0, 2…\n",
      "$ VAL            \u001b[3m\u001b[90m<int>\u001b[39m\u001b[23m 0, 1, 45, -1, 5, 13, 1, 6, 7, 0, 17, 2, 10, 13, 3, 9, 1…\n",
      "$ `+ / -`        \u001b[3m\u001b[90m<int>\u001b[39m\u001b[23m -8, -7, -15, -3, -1, -11, -19, -17, -7, 2, -23, -31, 14…\n",
      "$ POSS           \u001b[3m\u001b[90m<int>\u001b[39m\u001b[23m 3, 0, 24, 1, 1, 6, 18, 4, 8, 0, 9, 6, 8, 13, 2, 10, 4, …\n",
      "$ ASTED_2FG      \u001b[3m\u001b[90m<int>\u001b[39m\u001b[23m 0, 0, 1, 0, 1, 2, 1, 1, 1, 0, 3, 0, 0, 3, 0, 2, 2, 0, 2…\n",
      "$ ASTED_3FG      \u001b[3m\u001b[90m<int>\u001b[39m\u001b[23m 0, 0, 2, 0, 0, 0, 3, 1, 2, 0, 1, 1, 1, 2, 1, 0, 0, 0, 0…\n",
      "$ ASTED_FT       \u001b[3m\u001b[90m<int>\u001b[39m\u001b[23m 0, 0, 0, 0, 0, 2, 0, 0, 0, 0, 0, 0, 2, 0, 0, 0, 1, 0, 0…\n",
      "$ `ASTED_FT PTS` \u001b[3m\u001b[90m<int>\u001b[39m\u001b[23m 0, 0, 0, 0, 0, 4, 0, 0, 0, 0, 0, 0, 2, 0, 0, 0, 2, 0, 0…\n",
      "$ `AST (2P)`     \u001b[3m\u001b[90m<int>\u001b[39m\u001b[23m 0, 0, 4, 0, 1, 1, 0, 2, 0, 0, 2, 0, 0, 1, 1, 0, 0, 0, 0…\n",
      "$ `AST (3P)`     \u001b[3m\u001b[90m<int>\u001b[39m\u001b[23m 0, 1, 2, 0, 2, 1, 1, 1, 1, 0, 1, 0, 0, 0, 1, 0, 2, 0, 1…\n",
      "$ `AST (FT)`     \u001b[3m\u001b[90m<int>\u001b[39m\u001b[23m 0, 0, 1, 0, 0, 0, 1, 0, 0, 0, 0, 0, 0, 0, 0, 1, 0, 0, 0…\n",
      "$ `AST PTS (FT)` \u001b[3m\u001b[90m<int>\u001b[39m\u001b[23m 0, 0, 2, 0, 0, 0, 2, 0, 0, 0, 0, 0, 0, 0, 0, 2, 0, 0, 0…\n",
      "$ LTO            \u001b[3m\u001b[90m<int>\u001b[39m\u001b[23m 0, 0, 4, 0, 0, 0, 1, 0, 1, 0, 0, 1, 0, 1, 0, 0, 0, 0, 0…\n",
      "$ DTO            \u001b[3m\u001b[90m<int>\u001b[39m\u001b[23m 1, 0, 1, 0, 0, 0, 3, 0, 0, 0, 0, 0, 0, 0, 0, 0, 0, 1, 0…\n",
      "$ BLK2           \u001b[3m\u001b[90m<int>\u001b[39m\u001b[23m 0, 1, 1, 0, 0, 0, 0, 0, 0, 0, 1, 0, 0, 1, 0, 1, 0, 0, 1…\n",
      "$ BLK3           \u001b[3m\u001b[90m<int>\u001b[39m\u001b[23m 0, 0, 0, 0, 0, 0, 0, 0, 0, 0, 0, 0, 0, 0, 0, 0, 0, 0, 0…\n",
      "$ OR_RIM         \u001b[3m\u001b[90m<int>\u001b[39m\u001b[23m 0, 0, 0, 0, 0, 0, 0, 0, 0, 0, 0, 1, 0, 0, 0, 1, 0, 0, 0…\n",
      "$ OR_PAINT       \u001b[3m\u001b[90m<int>\u001b[39m\u001b[23m 0, 0, 0, 0, 0, 1, 0, 0, 0, 0, 0, 0, 0, 0, 0, 0, 0, 0, 1…\n",
      "$ OR_NP2         \u001b[3m\u001b[90m<int>\u001b[39m\u001b[23m 0, 0, 1, 0, 0, 0, 0, 0, 0, 0, 0, 0, 1, 1, 0, 0, 1, 0, 1…\n",
      "$ OR_3C          \u001b[3m\u001b[90m<int>\u001b[39m\u001b[23m 0, 0, 0, 0, 0, 1, 0, 0, 0, 0, 0, 0, 0, 0, 0, 0, 0, 0, 0…\n",
      "$ OR_3L          \u001b[3m\u001b[90m<int>\u001b[39m\u001b[23m 0, 0, 1, 0, 0, 2, 0, 0, 0, 0, 2, 0, 0, 0, 0, 2, 2, 0, 0…\n",
      "$ OR_FT          \u001b[3m\u001b[90m<int>\u001b[39m\u001b[23m 0, 0, 0, 0, 0, 0, 0, 0, 0, 0, 0, 0, 0, 0, 0, 0, 1, 0, 0…\n",
      "$ DR_RIM         \u001b[3m\u001b[90m<int>\u001b[39m\u001b[23m 0, 0, 1, 0, 0, 0, 0, 0, 0, 0, 0, 0, 0, 0, 0, 1, 0, 0, 0…\n",
      "$ DR_PAINT       \u001b[3m\u001b[90m<int>\u001b[39m\u001b[23m 2, 0, 0, 0, 0, 1, 0, 0, 0, 0, 0, 0, 0, 0, 0, 2, 0, 1, 2…\n",
      "$ DR_NP2         \u001b[3m\u001b[90m<int>\u001b[39m\u001b[23m 0, 0, 0, 0, 0, 1, 0, 0, 0, 0, 0, 0, 0, 0, 0, 0, 0, 0, 1…\n",
      "$ DR_3C          \u001b[3m\u001b[90m<int>\u001b[39m\u001b[23m 0, 0, 0, 0, 0, 0, 0, 0, 0, 0, 1, 0, 0, 1, 0, 0, 0, 0, 0…\n",
      "$ DR_3L          \u001b[3m\u001b[90m<int>\u001b[39m\u001b[23m 0, 0, 5, 0, 0, 0, 0, 0, 1, 0, 4, 0, 0, 1, 1, 0, 1, 0, 1…\n",
      "$ DR_FT          \u001b[3m\u001b[90m<int>\u001b[39m\u001b[23m 0, 0, 0, 0, 0, 0, 0, 1, 0, 0, 0, 0, 0, 0, 0, 0, 1, 0, 1…\n",
      "$ FTM_T          \u001b[3m\u001b[90m<int>\u001b[39m\u001b[23m 0, 0, 0, 0, 0, 0, 0, 0, 0, 0, 0, 0, 0, 0, 0, 0, 0, 0, 0…\n",
      "$ FTA_T          \u001b[3m\u001b[90m<int>\u001b[39m\u001b[23m 0, 0, 0, 0, 0, 0, 0, 0, 0, 0, 0, 0, 0, 0, 0, 0, 0, 0, 0…\n",
      "$ FTM_1          \u001b[3m\u001b[90m<int>\u001b[39m\u001b[23m 0, 0, 1, 0, 0, 0, 0, 0, 0, 0, 0, 0, 0, 0, 0, 0, 0, 0, 0…\n",
      "$ FTA_1          \u001b[3m\u001b[90m<int>\u001b[39m\u001b[23m 0, 0, 1, 0, 0, 0, 0, 0, 0, 0, 0, 0, 0, 0, 0, 0, 1, 0, 0…\n",
      "$ FTM_2          \u001b[3m\u001b[90m<int>\u001b[39m\u001b[23m 0, 0, 3, 0, 0, 2, 0, 0, 0, 0, 0, 0, 3, 0, 0, 2, 2, 0, 0…\n",
      "$ FTA_2          \u001b[3m\u001b[90m<int>\u001b[39m\u001b[23m 0, 0, 4, 0, 0, 6, 0, 0, 0, 0, 0, 0, 4, 0, 0, 2, 2, 0, 0…\n",
      "$ `FT 0/2`       \u001b[3m\u001b[90m<int>\u001b[39m\u001b[23m 0, 0, 0, 0, 0, 1, 0, 0, 0, 0, 0, 0, 0, 0, 0, 0, 0, 0, 0…\n",
      "$ FTM_3          \u001b[3m\u001b[90m<int>\u001b[39m\u001b[23m 0, 0, 0, 0, 0, 0, 0, 0, 0, 0, 0, 0, 0, 0, 0, 0, 0, 0, 0…\n",
      "$ FTA_3          \u001b[3m\u001b[90m<int>\u001b[39m\u001b[23m 0, 0, 0, 0, 0, 0, 0, 0, 0, 0, 0, 0, 0, 0, 0, 0, 0, 0, 0…\n",
      "$ `FT 0/3`       \u001b[3m\u001b[90m<int>\u001b[39m\u001b[23m 0, 0, 0, 0, 0, 0, 0, 0, 0, 0, 0, 0, 0, 0, 0, 0, 0, 0, 0…\n",
      "$ RIM_M          \u001b[3m\u001b[90m<int>\u001b[39m\u001b[23m 0, 0, 7, 0, 1, 1, 1, 1, 1, 0, 3, 1, 1, 0, 0, 2, 1, 0, 1…\n",
      "$ RIM_A          \u001b[3m\u001b[90m<int>\u001b[39m\u001b[23m 1, 0, 7, 0, 1, 1, 2, 1, 1, 0, 4, 1, 2, 2, 0, 3, 1, 0, 1…\n",
      "$ PAINT_M        \u001b[3m\u001b[90m<int>\u001b[39m\u001b[23m 0, 0, 1, 0, 0, 1, 0, 0, 1, 0, 1, 0, 0, 3, 0, 1, 2, 0, 1…\n",
      "$ PAINT_A        \u001b[3m\u001b[90m<int>\u001b[39m\u001b[23m 0, 0, 3, 0, 0, 2, 3, 0, 1, 0, 1, 0, 0, 5, 0, 1, 2, 0, 2…\n",
      "$ MID_M          \u001b[3m\u001b[90m<int>\u001b[39m\u001b[23m 0, 0, 3, 0, 0, 0, 0, 0, 0, 0, 0, 0, 0, 1, 0, 0, 0, 0, 0…\n",
      "$ MID_A          \u001b[3m\u001b[90m<int>\u001b[39m\u001b[23m 0, 0, 3, 0, 0, 0, 1, 0, 1, 0, 0, 0, 1, 1, 0, 0, 0, 1, 0…\n",
      "$ `3C_M`         \u001b[3m\u001b[90m<int>\u001b[39m\u001b[23m 0, 0, 0, 0, 0, 0, 1, 0, 2, 0, 0, 0, 1, 1, 0, 0, 0, 0, 0…\n",
      "$ `3C_A`         \u001b[3m\u001b[90m<int>\u001b[39m\u001b[23m 0, 0, 0, 1, 0, 0, 1, 0, 2, 0, 0, 1, 1, 1, 0, 1, 0, 0, 0…\n",
      "$ `3L_M`         \u001b[3m\u001b[90m<int>\u001b[39m\u001b[23m 0, 0, 2, 0, 0, 0, 3, 1, 0, 0, 1, 1, 1, 1, 1, 0, 0, 0, 0…\n",
      "$ `3L_A`         \u001b[3m\u001b[90m<int>\u001b[39m\u001b[23m 1, 0, 4, 0, 0, 0, 7, 3, 2, 0, 4, 3, 2, 3, 2, 4, 0, 2, 0…\n",
      "$ `3H_M`         \u001b[3m\u001b[90m<int>\u001b[39m\u001b[23m 0, 0, 0, 0, 0, 0, 0, 0, 0, 0, 0, 0, 0, 0, 0, 0, 0, 0, 0…\n",
      "$ `3H_A`         \u001b[3m\u001b[90m<int>\u001b[39m\u001b[23m 0, 0, 0, 0, 0, 0, 0, 0, 0, 0, 0, 0, 0, 0, 0, 0, 0, 0, 0…\n"
     ]
    }
   ],
   "source": [
    "glimpse(players_playin)"
   ]
  },
  {
   "cell_type": "markdown",
   "metadata": {},
   "source": [
    "**Usunięcie nieużywanych zmiennych** "
   ]
  },
  {
   "cell_type": "code",
   "execution_count": 51,
   "metadata": {
    "vscode": {
     "languageId": "r"
    }
   },
   "outputs": [],
   "source": [
    "rm(players)\n",
    "rm(teams)"
   ]
  },
  {
   "cell_type": "code",
   "execution_count": 52,
   "metadata": {
    "vscode": {
     "languageId": "r"
    }
   },
   "outputs": [
    {
     "data": {
      "text/html": [
       "<table class=\"dataframe\">\n",
       "<caption>A data.frame: 37 × 2</caption>\n",
       "<thead>\n",
       "\t<tr><th></th><th scope=col>Obiekt</th><th scope=col>Rozmiar_MB</th></tr>\n",
       "\t<tr><th></th><th scope=col>&lt;chr&gt;</th><th scope=col>&lt;dbl&gt;</th></tr>\n",
       "</thead>\n",
       "<tbody>\n",
       "\t<tr><th scope=row>players_regular</th><td>NA</td><td>2.53</td></tr>\n",
       "\t<tr><th scope=row>teams_regular</th><td>NA</td><td>0.46</td></tr>\n",
       "\t<tr><th scope=row>convert_commas_to_dots</th><td>NA</td><td>0.24</td></tr>\n",
       "\t<tr><th scope=row>players_regular_mean</th><td>NA</td><td>0.19</td></tr>\n",
       "\t<tr><th scope=row>players_playoff</th><td>NA</td><td>0.16</td></tr>\n",
       "\t<tr><th scope=row>convert_numeric_to_integer</th><td>NA</td><td>0.14</td></tr>\n",
       "\t<tr><th scope=row>players_regular_sum</th><td>NA</td><td>0.12</td></tr>\n",
       "\t<tr><th scope=row>mean_teams</th><td>NA</td><td>0.07</td></tr>\n",
       "\t<tr><th scope=row>players_playoff_mean</th><td>NA</td><td>0.07</td></tr>\n",
       "\t<tr><th scope=row>sum_players</th><td>NA</td><td>0.07</td></tr>\n",
       "\t<tr><th scope=row>players_final4</th><td>NA</td><td>0.05</td></tr>\n",
       "\t<tr><th scope=row>sum_teams</th><td>NA</td><td>0.05</td></tr>\n",
       "\t<tr><th scope=row>players_playoff_sum</th><td>NA</td><td>0.05</td></tr>\n",
       "\t<tr><th scope=row>teams_playoff</th><td>NA</td><td>0.04</td></tr>\n",
       "\t<tr><th scope=row>players_playin</th><td>NA</td><td>0.04</td></tr>\n",
       "\t<tr><th scope=row>clean_team_names</th><td>NA</td><td>0.04</td></tr>\n",
       "\t<tr><th scope=row>players_final4_mean</th><td>NA</td><td>0.04</td></tr>\n",
       "\t<tr><th scope=row>mean_players</th><td>NA</td><td>0.04</td></tr>\n",
       "\t<tr><th scope=row>players_playin_mean</th><td>NA</td><td>0.04</td></tr>\n",
       "\t<tr><th scope=row>players_final4_sum</th><td>NA</td><td>0.03</td></tr>\n",
       "\t<tr><th scope=row>players_playin_sum</th><td>NA</td><td>0.02</td></tr>\n",
       "\t<tr><th scope=row>teams_final4</th><td>NA</td><td>0.02</td></tr>\n",
       "\t<tr><th scope=row>teams_playin</th><td>NA</td><td>0.02</td></tr>\n",
       "\t<tr><th scope=row>teams_regular_mean</th><td>NA</td><td>0.02</td></tr>\n",
       "\t<tr><th scope=row>teams_regular_sum</th><td>NA</td><td>0.02</td></tr>\n",
       "\t<tr><th scope=row>convert</th><td>NA</td><td>0.02</td></tr>\n",
       "\t<tr><th scope=row>scale_minutes</th><td>NA</td><td>0.02</td></tr>\n",
       "\t<tr><th scope=row>teams_playoff_mean</th><td>NA</td><td>0.02</td></tr>\n",
       "\t<tr><th scope=row>teams_playoff_sum</th><td>NA</td><td>0.01</td></tr>\n",
       "\t<tr><th scope=row>teams_playin_mean</th><td>NA</td><td>0.01</td></tr>\n",
       "\t<tr><th scope=row>teams_final4_mean</th><td>NA</td><td>0.01</td></tr>\n",
       "\t<tr><th scope=row>teams_playin_sum</th><td>NA</td><td>0.01</td></tr>\n",
       "\t<tr><th scope=row>teams_final4_sum</th><td>NA</td><td>0.01</td></tr>\n",
       "\t<tr><th scope=row>delete_0min</th><td>NA</td><td>0.01</td></tr>\n",
       "\t<tr><th scope=row>tag_name_map</th><td>NA</td><td>0.00</td></tr>\n",
       "\t<tr><th scope=row>objs</th><td>NA</td><td>0.00</td></tr>\n",
       "\t<tr><th scope=row>sizes</th><td>NA</td><td>0.00</td></tr>\n",
       "</tbody>\n",
       "</table>\n"
      ],
      "text/latex": [
       "A data.frame: 37 × 2\n",
       "\\begin{tabular}{r|ll}\n",
       "  & Obiekt & Rozmiar\\_MB\\\\\n",
       "  & <chr> & <dbl>\\\\\n",
       "\\hline\n",
       "\tplayers\\_regular & NA & 2.53\\\\\n",
       "\tteams\\_regular & NA & 0.46\\\\\n",
       "\tconvert\\_commas\\_to\\_dots & NA & 0.24\\\\\n",
       "\tplayers\\_regular\\_mean & NA & 0.19\\\\\n",
       "\tplayers\\_playoff & NA & 0.16\\\\\n",
       "\tconvert\\_numeric\\_to\\_integer & NA & 0.14\\\\\n",
       "\tplayers\\_regular\\_sum & NA & 0.12\\\\\n",
       "\tmean\\_teams & NA & 0.07\\\\\n",
       "\tplayers\\_playoff\\_mean & NA & 0.07\\\\\n",
       "\tsum\\_players & NA & 0.07\\\\\n",
       "\tplayers\\_final4 & NA & 0.05\\\\\n",
       "\tsum\\_teams & NA & 0.05\\\\\n",
       "\tplayers\\_playoff\\_sum & NA & 0.05\\\\\n",
       "\tteams\\_playoff & NA & 0.04\\\\\n",
       "\tplayers\\_playin & NA & 0.04\\\\\n",
       "\tclean\\_team\\_names & NA & 0.04\\\\\n",
       "\tplayers\\_final4\\_mean & NA & 0.04\\\\\n",
       "\tmean\\_players & NA & 0.04\\\\\n",
       "\tplayers\\_playin\\_mean & NA & 0.04\\\\\n",
       "\tplayers\\_final4\\_sum & NA & 0.03\\\\\n",
       "\tplayers\\_playin\\_sum & NA & 0.02\\\\\n",
       "\tteams\\_final4 & NA & 0.02\\\\\n",
       "\tteams\\_playin & NA & 0.02\\\\\n",
       "\tteams\\_regular\\_mean & NA & 0.02\\\\\n",
       "\tteams\\_regular\\_sum & NA & 0.02\\\\\n",
       "\tconvert & NA & 0.02\\\\\n",
       "\tscale\\_minutes & NA & 0.02\\\\\n",
       "\tteams\\_playoff\\_mean & NA & 0.02\\\\\n",
       "\tteams\\_playoff\\_sum & NA & 0.01\\\\\n",
       "\tteams\\_playin\\_mean & NA & 0.01\\\\\n",
       "\tteams\\_final4\\_mean & NA & 0.01\\\\\n",
       "\tteams\\_playin\\_sum & NA & 0.01\\\\\n",
       "\tteams\\_final4\\_sum & NA & 0.01\\\\\n",
       "\tdelete\\_0min & NA & 0.01\\\\\n",
       "\ttag\\_name\\_map & NA & 0.00\\\\\n",
       "\tobjs & NA & 0.00\\\\\n",
       "\tsizes & NA & 0.00\\\\\n",
       "\\end{tabular}\n"
      ],
      "text/markdown": [
       "\n",
       "A data.frame: 37 × 2\n",
       "\n",
       "| <!--/--> | Obiekt &lt;chr&gt; | Rozmiar_MB &lt;dbl&gt; |\n",
       "|---|---|---|\n",
       "| players_regular | NA | 2.53 |\n",
       "| teams_regular | NA | 0.46 |\n",
       "| convert_commas_to_dots | NA | 0.24 |\n",
       "| players_regular_mean | NA | 0.19 |\n",
       "| players_playoff | NA | 0.16 |\n",
       "| convert_numeric_to_integer | NA | 0.14 |\n",
       "| players_regular_sum | NA | 0.12 |\n",
       "| mean_teams | NA | 0.07 |\n",
       "| players_playoff_mean | NA | 0.07 |\n",
       "| sum_players | NA | 0.07 |\n",
       "| players_final4 | NA | 0.05 |\n",
       "| sum_teams | NA | 0.05 |\n",
       "| players_playoff_sum | NA | 0.05 |\n",
       "| teams_playoff | NA | 0.04 |\n",
       "| players_playin | NA | 0.04 |\n",
       "| clean_team_names | NA | 0.04 |\n",
       "| players_final4_mean | NA | 0.04 |\n",
       "| mean_players | NA | 0.04 |\n",
       "| players_playin_mean | NA | 0.04 |\n",
       "| players_final4_sum | NA | 0.03 |\n",
       "| players_playin_sum | NA | 0.02 |\n",
       "| teams_final4 | NA | 0.02 |\n",
       "| teams_playin | NA | 0.02 |\n",
       "| teams_regular_mean | NA | 0.02 |\n",
       "| teams_regular_sum | NA | 0.02 |\n",
       "| convert | NA | 0.02 |\n",
       "| scale_minutes | NA | 0.02 |\n",
       "| teams_playoff_mean | NA | 0.02 |\n",
       "| teams_playoff_sum | NA | 0.01 |\n",
       "| teams_playin_mean | NA | 0.01 |\n",
       "| teams_final4_mean | NA | 0.01 |\n",
       "| teams_playin_sum | NA | 0.01 |\n",
       "| teams_final4_sum | NA | 0.01 |\n",
       "| delete_0min | NA | 0.01 |\n",
       "| tag_name_map | NA | 0.00 |\n",
       "| objs | NA | 0.00 |\n",
       "| sizes | NA | 0.00 |\n",
       "\n"
      ],
      "text/plain": [
       "                           Obiekt Rozmiar_MB\n",
       "players_regular            NA     2.53      \n",
       "teams_regular              NA     0.46      \n",
       "convert_commas_to_dots     NA     0.24      \n",
       "players_regular_mean       NA     0.19      \n",
       "players_playoff            NA     0.16      \n",
       "convert_numeric_to_integer NA     0.14      \n",
       "players_regular_sum        NA     0.12      \n",
       "mean_teams                 NA     0.07      \n",
       "players_playoff_mean       NA     0.07      \n",
       "sum_players                NA     0.07      \n",
       "players_final4             NA     0.05      \n",
       "sum_teams                  NA     0.05      \n",
       "players_playoff_sum        NA     0.05      \n",
       "teams_playoff              NA     0.04      \n",
       "players_playin             NA     0.04      \n",
       "clean_team_names           NA     0.04      \n",
       "players_final4_mean        NA     0.04      \n",
       "mean_players               NA     0.04      \n",
       "players_playin_mean        NA     0.04      \n",
       "players_final4_sum         NA     0.03      \n",
       "players_playin_sum         NA     0.02      \n",
       "teams_final4               NA     0.02      \n",
       "teams_playin               NA     0.02      \n",
       "teams_regular_mean         NA     0.02      \n",
       "teams_regular_sum          NA     0.02      \n",
       "convert                    NA     0.02      \n",
       "scale_minutes              NA     0.02      \n",
       "teams_playoff_mean         NA     0.02      \n",
       "teams_playoff_sum          NA     0.01      \n",
       "teams_playin_mean          NA     0.01      \n",
       "teams_final4_mean          NA     0.01      \n",
       "teams_playin_sum           NA     0.01      \n",
       "teams_final4_sum           NA     0.01      \n",
       "delete_0min                NA     0.01      \n",
       "tag_name_map               NA     0.00      \n",
       "objs                       NA     0.00      \n",
       "sizes                      NA     0.00      "
      ]
     },
     "metadata": {},
     "output_type": "display_data"
    }
   ],
   "source": [
    "objs <- ls(envir = .GlobalEnv)\n",
    "sizes <- sapply(objs, function(x) object.size(get(x)))\n",
    "sizes <- sort(sizes, decreasing = TRUE)\n",
    "data.frame(Obiekt = objs[names(sizes)], Rozmiar_MB = round(sizes / 1024^2, 2))"
   ]
  },
  {
   "cell_type": "markdown",
   "metadata": {},
   "source": [
    "**Sumowanie i uśrednianie danych**"
   ]
  },
  {
   "cell_type": "code",
   "execution_count": 53,
   "metadata": {
    "vscode": {
     "languageId": "r"
    }
   },
   "outputs": [],
   "source": [
    "# Sumowanie statystyk zespołów\n",
    "sum_teams <- function(teams) {\n",
    "  teams %>%\n",
    "    group_by(`TM NAME`) %>%\n",
    "    summarise(across(where(is.numeric) & !c(ROUND), ~sum(.x, na.rm = TRUE))) %>%\n",
    "    select(where(is.character) | where(is.integer))\n",
    "}"
   ]
  },
  {
   "cell_type": "code",
   "execution_count": 54,
   "metadata": {
    "vscode": {
     "languageId": "r"
    }
   },
   "outputs": [],
   "source": [
    "teams_regular_sum <- sum_teams(teams_regular)\n",
    "teams_playin_sum <- sum_teams(teams_playin)\n",
    "teams_playoff_sum <- sum_teams(teams_playoff)\n",
    "teams_final4_sum <- sum_teams(teams_final4)"
   ]
  },
  {
   "cell_type": "code",
   "execution_count": 55,
   "metadata": {
    "vscode": {
     "languageId": "r"
    }
   },
   "outputs": [],
   "source": [
    "#Sumowanie statystyk graczy \n",
    "sum_players <- function(players) {\n",
    "    players %>% \n",
    "      group_by(NAME) %>% \n",
    "      summarise(\n",
    "      AGE = first(AGE), # Zachowanie pierwszej wartości wieku\n",
    "      `TM NAME` = first(`TM NAME`), # zachowanie nazwy zespołu\n",
    "      GP = n(),  # Dodanie liczby gier\n",
    "      across(where(is.numeric) &\n",
    "               !c(AGE) & !c(ROUND), ~sum(.x, na.rm = TRUE)))  %>%\n",
    "    #pominięcie sumowanych procentów \n",
    "    select(where(is.character) | where(is.integer))\n",
    "}\n",
    "\n"
   ]
  },
  {
   "cell_type": "code",
   "execution_count": 56,
   "metadata": {
    "vscode": {
     "languageId": "r"
    }
   },
   "outputs": [],
   "source": [
    "players_regular_sum <- sum_players(players_regular)\n",
    "players_playin_sum <- sum_players(players_playin)\n",
    "players_playoff_sum <- sum_players(players_playoff)\n",
    "players_final4_sum <- sum_players(players_final4)"
   ]
  },
  {
   "cell_type": "code",
   "execution_count": 57,
   "metadata": {
    "vscode": {
     "languageId": "r"
    }
   },
   "outputs": [
    {
     "name": "stdout",
     "output_type": "stream",
     "text": [
      "Rows: 289\n",
      "Columns: 73\n",
      "$ NAME           \u001b[3m\u001b[90m<chr>\u001b[39m\u001b[23m \"Achille Polonara\", \"Adam Hanga\", \"Alberto Abalde\", \"Al…\n",
      "$ `TM NAME`      \u001b[3m\u001b[90m<chr>\u001b[39m\u001b[23m \"Virtus Segafredo Bologna\", \"Crvena Zvezda Meridianbet …\n",
      "$ AGE            \u001b[3m\u001b[90m<int>\u001b[39m\u001b[23m 33, 35, 29, 29, 30, 24, 24, 25, 31, 31, 19, 27, 27, 28,…\n",
      "$ GP             \u001b[3m\u001b[90m<int>\u001b[39m\u001b[23m 19, 26, 22, 33, 24, 23, 31, 32, 22, 30, 1, 33, 10, 22, …\n",
      "$ MIN            \u001b[3m\u001b[90m<int>\u001b[39m\u001b[23m 230, 522, 295, 858, 450, 174, 491, 547, 368, 387, 1, 88…\n",
      "$ PTS            \u001b[3m\u001b[90m<int>\u001b[39m\u001b[23m 55, 207, 79, 442, 245, 68, 172, 127, 145, 158, 3, 346, …\n",
      "$ `2PTM`         \u001b[3m\u001b[90m<int>\u001b[39m\u001b[23m 12, 42, 9, 96, 68, 22, 52, 16, 15, 66, 0, 88, 14, 7, 58…\n",
      "$ `2PTA`         \u001b[3m\u001b[90m<int>\u001b[39m\u001b[23m 26, 89, 18, 163, 101, 35, 81, 34, 25, 107, 1, 175, 21, …\n",
      "$ `3PTM`         \u001b[3m\u001b[90m<int>\u001b[39m\u001b[23m 10, 33, 18, 61, 26, 1, 12, 24, 33, 1, 1, 36, 6, 47, 0, …\n",
      "$ `3PTA`         \u001b[3m\u001b[90m<int>\u001b[39m\u001b[23m 24, 99, 45, 119, 88, 9, 26, 69, 73, 5, 1, 86, 15, 115, …\n",
      "$ FGM            \u001b[3m\u001b[90m<int>\u001b[39m\u001b[23m 22, 75, 27, 157, 94, 23, 64, 40, 48, 67, 1, 124, 20, 54…\n",
      "$ FGA            \u001b[3m\u001b[90m<int>\u001b[39m\u001b[23m 50, 188, 63, 282, 189, 44, 107, 103, 98, 112, 2, 261, 3…\n",
      "$ FTM            \u001b[3m\u001b[90m<int>\u001b[39m\u001b[23m 1, 24, 7, 67, 31, 21, 32, 23, 16, 23, 0, 62, 4, 11, 20,…\n",
      "$ FTA            \u001b[3m\u001b[90m<int>\u001b[39m\u001b[23m 3, 45, 8, 76, 40, 30, 44, 31, 18, 29, 0, 85, 5, 14, 34,…\n",
      "$ OR             \u001b[3m\u001b[90m<int>\u001b[39m\u001b[23m 18, 14, 6, 38, 8, 13, 32, 13, 14, 35, 0, 40, 14, 5, 30,…\n",
      "$ DR             \u001b[3m\u001b[90m<int>\u001b[39m\u001b[23m 29, 62, 39, 122, 34, 16, 36, 46, 30, 45, 0, 98, 18, 28,…\n",
      "$ TR             \u001b[3m\u001b[90m<int>\u001b[39m\u001b[23m 47, 76, 45, 160, 42, 29, 68, 59, 44, 80, 0, 138, 32, 33…\n",
      "$ AST            \u001b[3m\u001b[90m<int>\u001b[39m\u001b[23m 23, 62, 16, 51, 44, 7, 18, 99, 8, 4, 1, 60, 5, 15, 17, …\n",
      "$ TO             \u001b[3m\u001b[90m<int>\u001b[39m\u001b[23m 9, 34, 5, 40, 32, 6, 21, 33, 13, 29, 0, 40, 2, 10, 17, …\n",
      "$ ST             \u001b[3m\u001b[90m<int>\u001b[39m\u001b[23m 9, 25, 10, 17, 17, 6, 18, 26, 11, 10, 0, 39, 2, 4, 9, 3…\n",
      "$ BLK            \u001b[3m\u001b[90m<int>\u001b[39m\u001b[23m 7, 8, 1, 4, 4, 10, 12, 4, 7, 11, 0, 11, 8, 0, 10, 16, 2…\n",
      "$ BLKA           \u001b[3m\u001b[90m<int>\u001b[39m\u001b[23m 1, 5, 2, 11, 6, 3, 2, 3, 0, 7, 0, 13, 1, 2, 3, 6, 5, 0,…\n",
      "$ PF             \u001b[3m\u001b[90m<int>\u001b[39m\u001b[23m 27, 51, 25, 76, 43, 36, 69, 86, 47, 74, 0, 86, 22, 25, …\n",
      "$ DF             \u001b[3m\u001b[90m<int>\u001b[39m\u001b[23m 14, 59, 9, 73, 43, 28, 53, 44, 37, 39, 0, 93, 9, 19, 42…\n",
      "$ VAL            \u001b[3m\u001b[90m<int>\u001b[39m\u001b[23m 88, 213, 91, 486, 210, 73, 194, 166, 140, 141, 3, 388, …\n",
      "$ `+ / -`        \u001b[3m\u001b[90m<int>\u001b[39m\u001b[23m 4, -37, 45, 111, 46, -12, -63, -7, 52, 7, 6, 65, 33, -2…\n",
      "$ POSS           \u001b[3m\u001b[90m<int>\u001b[39m\u001b[23m 60, 243, 72, 349, 238, 62, 147, 150, 118, 152, 2, 339, …\n",
      "$ ASTED_2FG      \u001b[3m\u001b[90m<int>\u001b[39m\u001b[23m 5, 13, 2, 73, 18, 19, 24, 4, 3, 49, 0, 36, 9, 0, 46, 24…\n",
      "$ ASTED_3FG      \u001b[3m\u001b[90m<int>\u001b[39m\u001b[23m 10, 20, 13, 60, 14, 1, 12, 24, 31, 1, 1, 32, 5, 37, 0, …\n",
      "$ ASTED_FT       \u001b[3m\u001b[90m<int>\u001b[39m\u001b[23m 1, 4, 0, 13, 0, 8, 6, 1, 2, 6, 0, 5, 1, 2, 4, 4, 2, 2, …\n",
      "$ `ASTED_FT PTS` \u001b[3m\u001b[90m<int>\u001b[39m\u001b[23m 2, 4, 0, 23, 0, 16, 6, 2, 4, 12, 0, 10, 0, 6, 6, 2, 4, …\n",
      "$ `AST (2P)`     \u001b[3m\u001b[90m<int>\u001b[39m\u001b[23m 8, 35, 9, 29, 17, 3, 9, 53, 4, 1, 0, 29, 3, 7, 6, 13, 1…\n",
      "$ `AST (3P)`     \u001b[3m\u001b[90m<int>\u001b[39m\u001b[23m 12, 17, 5, 19, 22, 4, 8, 38, 4, 2, 1, 20, 2, 7, 9, 7, 4…\n",
      "$ `AST (FT)`     \u001b[3m\u001b[90m<int>\u001b[39m\u001b[23m 3, 10, 2, 2, 5, 0, 1, 8, 0, 1, 0, 11, 0, 1, 2, 2, 3, 0,…\n",
      "$ `AST PTS (FT)` \u001b[3m\u001b[90m<int>\u001b[39m\u001b[23m 4, 14, 4, 4, 10, 0, 2, 10, 0, 2, 0, 20, 0, 2, 2, 4, 6, …\n",
      "$ LTO            \u001b[3m\u001b[90m<int>\u001b[39m\u001b[23m 3, 20, 2, 28, 19, 0, 13, 23, 7, 10, 0, 23, 1, 7, 6, 8, …\n",
      "$ DTO            \u001b[3m\u001b[90m<int>\u001b[39m\u001b[23m 6, 14, 3, 12, 13, 6, 8, 10, 6, 19, 0, 17, 1, 3, 11, 6, …\n",
      "$ BLK2           \u001b[3m\u001b[90m<int>\u001b[39m\u001b[23m 6, 3, 1, 3, 2, 9, 10, 4, 5, 11, 0, 9, 6, 0, 9, 8, 2, 0,…\n",
      "$ BLK3           \u001b[3m\u001b[90m<int>\u001b[39m\u001b[23m 0, 0, 0, 0, 2, 0, 1, 0, 1, 0, 0, 2, 0, 0, 0, 1, 0, 0, 0…\n",
      "$ OR_RIM         \u001b[3m\u001b[90m<int>\u001b[39m\u001b[23m 2, 0, 1, 5, 2, 1, 3, 1, 1, 3, 0, 3, 0, 0, 2, 3, 1, 0, 2…\n",
      "$ OR_PAINT       \u001b[3m\u001b[90m<int>\u001b[39m\u001b[23m 4, 7, 1, 7, 1, 6, 13, 1, 3, 16, 0, 16, 4, 3, 12, 8, 4, …\n",
      "$ OR_NP2         \u001b[3m\u001b[90m<int>\u001b[39m\u001b[23m 2, 1, 0, 2, 0, 1, 5, 4, 2, 6, 0, 5, 1, 0, 5, 4, 3, 1, 3…\n",
      "$ OR_3C          \u001b[3m\u001b[90m<int>\u001b[39m\u001b[23m 3, 1, 0, 5, 1, 0, 0, 0, 1, 1, 0, 1, 1, 0, 1, 0, 0, 0, 0…\n",
      "$ OR_3L          \u001b[3m\u001b[90m<int>\u001b[39m\u001b[23m 5, 4, 4, 17, 4, 5, 11, 6, 7, 9, 0, 14, 8, 1, 8, 13, 8, …\n",
      "$ OR_FT          \u001b[3m\u001b[90m<int>\u001b[39m\u001b[23m 2, 1, 0, 2, 0, 0, 0, 1, 0, 0, 0, 1, 0, 1, 2, 4, 1, 0, 0…\n",
      "$ DR_RIM         \u001b[3m\u001b[90m<int>\u001b[39m\u001b[23m 2, 1, 4, 12, 1, 1, 5, 2, 1, 5, 0, 5, 0, 1, 3, 2, 3, 1, …\n",
      "$ DR_PAINT       \u001b[3m\u001b[90m<int>\u001b[39m\u001b[23m 10, 10, 9, 31, 8, 1, 16, 14, 10, 17, 0, 27, 9, 9, 22, 5…\n",
      "$ DR_NP2         \u001b[3m\u001b[90m<int>\u001b[39m\u001b[23m 3, 10, 5, 20, 4, 4, 2, 9, 3, 3, 0, 12, 3, 6, 5, 4, 8, 3…\n",
      "$ DR_3C          \u001b[3m\u001b[90m<int>\u001b[39m\u001b[23m 0, 1, 0, 6, 3, 2, 3, 3, 0, 0, 0, 4, 0, 2, 2, 0, 7, 1, 1…\n",
      "$ DR_3L          \u001b[3m\u001b[90m<int>\u001b[39m\u001b[23m 12, 35, 20, 45, 17, 5, 8, 17, 13, 14, 0, 39, 5, 9, 13, …\n",
      "$ DR_FT          \u001b[3m\u001b[90m<int>\u001b[39m\u001b[23m 2, 5, 1, 8, 1, 3, 2, 1, 3, 6, 0, 10, 1, 1, 1, 0, 6, 1, …\n",
      "$ FTM_T          \u001b[3m\u001b[90m<int>\u001b[39m\u001b[23m 0, 0, 0, 8, 0, 0, 0, 0, 2, 0, 0, 0, 0, 0, 0, 0, 0, 0, 0…\n",
      "$ FTA_T          \u001b[3m\u001b[90m<int>\u001b[39m\u001b[23m 0, 0, 0, 10, 0, 0, 0, 0, 2, 0, 0, 0, 0, 0, 0, 0, 0, 0, …\n",
      "$ FTM_1          \u001b[3m\u001b[90m<int>\u001b[39m\u001b[23m 0, 2, 0, 11, 4, 3, 6, 2, 2, 6, 0, 8, 1, 0, 2, 5, 2, 0, …\n",
      "$ FTA_1          \u001b[3m\u001b[90m<int>\u001b[39m\u001b[23m 1, 3, 0, 12, 6, 5, 6, 2, 2, 7, 0, 9, 1, 0, 3, 6, 5, 0, …\n",
      "$ FTM_2          \u001b[3m\u001b[90m<int>\u001b[39m\u001b[23m 1, 22, 7, 44, 27, 17, 26, 19, 12, 17, 0, 54, 3, 5, 18, …\n",
      "$ FTA_2          \u001b[3m\u001b[90m<int>\u001b[39m\u001b[23m 2, 42, 8, 50, 34, 24, 38, 26, 14, 22, 0, 76, 4, 8, 30, …\n",
      "$ `FT 0/2`       \u001b[3m\u001b[90m<int>\u001b[39m\u001b[23m 0, 4, 0, 0, 0, 2, 2, 1, 0, 0, 0, 5, 0, 0, 2, 3, 1, 0, 0…\n",
      "$ FTM_3          \u001b[3m\u001b[90m<int>\u001b[39m\u001b[23m 0, 0, 0, 4, 0, 0, 0, 2, 0, 0, 0, 0, 0, 6, 0, 0, 0, 2, 0…\n",
      "$ FTA_3          \u001b[3m\u001b[90m<int>\u001b[39m\u001b[23m 0, 0, 0, 4, 0, 0, 0, 3, 0, 0, 0, 0, 0, 6, 0, 0, 0, 3, 0…\n",
      "$ `FT 0/3`       \u001b[3m\u001b[90m<int>\u001b[39m\u001b[23m 0, 0, 0, 0, 0, 0, 0, 0, 0, 0, 0, 0, 0, 0, 0, 0, 0, 0, 0…\n",
      "$ RIM_M          \u001b[3m\u001b[90m<int>\u001b[39m\u001b[23m 4, 11, 2, 45, 33, 15, 35, 1, 4, 51, 0, 31, 5, 2, 27, 29…\n",
      "$ RIM_A          \u001b[3m\u001b[90m<int>\u001b[39m\u001b[23m 6, 14, 3, 56, 42, 19, 42, 2, 5, 63, 0, 46, 6, 3, 34, 35…\n",
      "$ PAINT_M        \u001b[3m\u001b[90m<int>\u001b[39m\u001b[23m 8, 28, 5, 30, 33, 7, 12, 14, 8, 14, 0, 50, 8, 2, 30, 20…\n",
      "$ PAINT_A        \u001b[3m\u001b[90m<int>\u001b[39m\u001b[23m 20, 65, 12, 55, 53, 14, 29, 27, 15, 38, 1, 102, 14, 8, …\n",
      "$ MID_M          \u001b[3m\u001b[90m<int>\u001b[39m\u001b[23m 0, 3, 2, 21, 2, 0, 5, 1, 3, 1, 0, 7, 1, 3, 1, 1, 1, 1, …\n",
      "$ MID_A          \u001b[3m\u001b[90m<int>\u001b[39m\u001b[23m 0, 10, 3, 52, 6, 2, 10, 5, 5, 6, 0, 27, 1, 5, 2, 7, 3, …\n",
      "$ `3C_M`         \u001b[3m\u001b[90m<int>\u001b[39m\u001b[23m 1, 4, 0, 14, 0, 0, 1, 1, 2, 1, 0, 0, 2, 5, 0, 4, 2, 2, …\n",
      "$ `3C_A`         \u001b[3m\u001b[90m<int>\u001b[39m\u001b[23m 3, 5, 1, 22, 5, 0, 1, 4, 6, 2, 0, 5, 3, 9, 0, 18, 8, 7,…\n",
      "$ `3L_M`         \u001b[3m\u001b[90m<int>\u001b[39m\u001b[23m 9, 29, 18, 47, 26, 1, 11, 23, 31, 0, 1, 36, 4, 42, 0, 8…\n",
      "$ `3L_A`         \u001b[3m\u001b[90m<int>\u001b[39m\u001b[23m 21, 93, 44, 97, 80, 9, 25, 63, 66, 2, 1, 81, 12, 104, 0…\n",
      "$ `3H_M`         \u001b[3m\u001b[90m<int>\u001b[39m\u001b[23m 0, 0, 0, 0, 0, 0, 0, 0, 0, 0, 0, 0, 0, 0, 0, 0, 0, 0, 0…\n",
      "$ `3H_A`         \u001b[3m\u001b[90m<int>\u001b[39m\u001b[23m 0, 1, 0, 0, 3, 0, 0, 2, 1, 1, 0, 0, 0, 2, 0, 0, 0, 1, 0…\n"
     ]
    }
   ],
   "source": [
    "glimpse(players_regular_sum)"
   ]
  },
  {
   "cell_type": "code",
   "execution_count": 58,
   "metadata": {
    "vscode": {
     "languageId": "r"
    }
   },
   "outputs": [],
   "source": [
    "# Średnia per 40 min \n",
    "# Argument wejściowy to teams_x_sum\n",
    "mean_teams <- function(teams) {\n",
    "  teams %>%\n",
    "    group_by(`TM NAME`) %>%\n",
    "    summarise(MIN = sum(MIN, na.rm = TRUE),\n",
    "              across(where(is.numeric) & !c(MIN), ~sum(.x, na.rm = TRUE))) %>%\n",
    "    mutate(across(where(is.numeric) & !c(MIN), ~.x / MIN * 40)) %>%\n",
    "    select(-MIN)\n",
    "}\n"
   ]
  },
  {
   "cell_type": "code",
   "execution_count": 59,
   "metadata": {
    "vscode": {
     "languageId": "r"
    }
   },
   "outputs": [],
   "source": [
    "teams_regular_mean <- mean_teams(teams_regular_sum)\n",
    "teams_playin_mean <- mean_teams(teams_playin_sum)\n",
    "teams_playoff_mean <- mean_teams(teams_playoff_sum)\n",
    "teams_final4_mean <- mean_teams(teams_final4_sum)"
   ]
  },
  {
   "cell_type": "code",
   "execution_count": 60,
   "metadata": {
    "vscode": {
     "languageId": "r"
    }
   },
   "outputs": [
    {
     "name": "stdout",
     "output_type": "stream",
     "text": [
      "Rows: 18\n",
      "Columns: 78\n",
      "$ `TM NAME`      \u001b[3m\u001b[90m<chr>\u001b[39m\u001b[23m \"ALBA Berlin\", \"AS Monaco\", \"Anadolu Efes Istanbul\", \"B…\n",
      "$ PTS            \u001b[3m\u001b[90m<dbl>\u001b[39m\u001b[23m 76.20588, 81.61172, 84.56318, 83.92674, 81.29412, 77.63…\n",
      "$ `2PTM`         \u001b[3m\u001b[90m<dbl>\u001b[39m\u001b[23m 18.85294, 21.77289, 21.22744, 19.45788, 20.00000, 17.95…\n",
      "$ `2PTA`         \u001b[3m\u001b[90m<dbl>\u001b[39m\u001b[23m 37.08824, 41.11355, 37.80505, 35.07692, 36.44118, 32.58…\n",
      "$ `3PTM`         \u001b[3m\u001b[90m<dbl>\u001b[39m\u001b[23m 8.882353, 7.882784, 9.790614, 10.344322, 9.235294, 9.95…\n",
      "$ `3PTA`         \u001b[3m\u001b[90m<dbl>\u001b[39m\u001b[23m 25.29412, 22.35897, 26.31047, 28.21978, 27.05882, 27.15…\n",
      "$ FGM            \u001b[3m\u001b[90m<dbl>\u001b[39m\u001b[23m 27.73529, 29.65568, 31.01805, 29.80220, 29.23529, 27.91…\n",
      "$ FGA            \u001b[3m\u001b[90m<dbl>\u001b[39m\u001b[23m 62.38235, 63.47253, 64.11552, 63.29670, 63.50000, 59.73…\n",
      "$ FTM            \u001b[3m\u001b[90m<dbl>\u001b[39m\u001b[23m 11.85294, 14.41758, 12.73646, 13.97802, 13.58824, 11.85…\n",
      "$ FTA            \u001b[3m\u001b[90m<dbl>\u001b[39m\u001b[23m 14.97059, 19.45788, 15.65343, 18.34432, 17.64706, 15.27…\n",
      "$ OR             \u001b[3m\u001b[90m<dbl>\u001b[39m\u001b[23m 10.823529, 11.223443, 9.963899, 10.285714, 11.852941, 8…\n",
      "$ DR             \u001b[3m\u001b[90m<dbl>\u001b[39m\u001b[23m 21.61765, 22.91575, 21.77617, 24.82051, 22.85294, 23.09…\n",
      "$ TR             \u001b[3m\u001b[90m<dbl>\u001b[39m\u001b[23m 32.44118, 34.13919, 31.74007, 35.10623, 34.70588, 31.91…\n",
      "$ AST            \u001b[3m\u001b[90m<dbl>\u001b[39m\u001b[23m 16.47059, 16.02930, 17.61733, 18.75458, 18.50000, 16.17…\n",
      "$ TO             \u001b[3m\u001b[90m<dbl>\u001b[39m\u001b[23m 15.08824, 9.96337, 10.13718, 12.39560, 12.08824, 12.350…\n",
      "$ ST             \u001b[3m\u001b[90m<dbl>\u001b[39m\u001b[23m 7.000000, 6.915751, 6.844765, 5.421245, 6.588235, 6.948…\n",
      "$ BLK            \u001b[3m\u001b[90m<dbl>\u001b[39m\u001b[23m 2.147059, 1.787546, 3.032491, 2.315018, 2.470588, 2.102…\n",
      "$ BLKA           \u001b[3m\u001b[90m<dbl>\u001b[39m\u001b[23m 3.500000, 2.344322, 1.963899, 3.223443, 2.735294, 1.722…\n",
      "$ PF             \u001b[3m\u001b[90m<dbl>\u001b[39m\u001b[23m 18.32353, 19.39927, 18.16606, 18.19780, 21.55882, 19.41…\n",
      "$ DF             \u001b[3m\u001b[90m<dbl>\u001b[39m\u001b[23m 18.17647, 21.59707, 18.13718, 19.07692, 19.88235, 18.83…\n",
      "$ VAL            \u001b[3m\u001b[90m<dbl>\u001b[39m\u001b[23m 77.76471, 91.51648, 95.65343, 92.92308, 88.73529, 84.87…\n",
      "$ `+ / -`        \u001b[3m\u001b[90m<dbl>\u001b[39m\u001b[23m -10.38235294, 2.84249084, 0.46209386, -0.61538462, -1.5…\n",
      "$ POSS           \u001b[3m\u001b[90m<dbl>\u001b[39m\u001b[23m 72.91176, 70.32967, 70.67148, 72.82051, 71.32353, 69.57…\n",
      "$ KILLS          \u001b[3m\u001b[90m<dbl>\u001b[39m\u001b[23m 4.088235, 5.245421, 4.158845, 4.835165, 3.941176, 4.671…\n",
      "$ ASTED_2FG      \u001b[3m\u001b[90m<dbl>\u001b[39m\u001b[23m 8.323529, 9.787546, 9.010830, 9.084249, 10.382353, 7.59…\n",
      "$ ASTED_3FG      \u001b[3m\u001b[90m<dbl>\u001b[39m\u001b[23m 6.764706, 5.040293, 7.451264, 7.765568, 6.205882, 7.299…\n",
      "$ ASTED_FT       \u001b[3m\u001b[90m<dbl>\u001b[39m\u001b[23m 1.382353, 1.172161, 1.155235, 1.904762, 1.882353, 1.284…\n",
      "$ `ASTED_FT PTS` \u001b[3m\u001b[90m<dbl>\u001b[39m\u001b[23m 2.470588, 1.875458, 2.137184, 3.516484, 2.882353, 2.160…\n",
      "$ LTO            \u001b[3m\u001b[90m<dbl>\u001b[39m\u001b[23m 8.382353, 5.216117, 5.342960, 6.739927, 6.470588, 6.248…\n",
      "$ DTO            \u001b[3m\u001b[90m<dbl>\u001b[39m\u001b[23m 6.705882, 4.747253, 4.794224, 5.655678, 5.617647, 6.102…\n",
      "$ BLK2           \u001b[3m\u001b[90m<dbl>\u001b[39m\u001b[23m 1.764706, 1.523810, 1.848375, 1.934066, 1.029412, 1.810…\n",
      "$ BLK3           \u001b[3m\u001b[90m<dbl>\u001b[39m\u001b[23m 0.08823529, 0.11721612, 0.17328520, 0.20512821, 0.08823…\n",
      "$ OR_RIM         \u001b[3m\u001b[90m<dbl>\u001b[39m\u001b[23m 0.8823529, 0.7032967, 0.8664260, 0.5860806, 0.6764706, …\n",
      "$ `TM OR_RIM`    \u001b[3m\u001b[90m<dbl>\u001b[39m\u001b[23m 0.26470588, 0.17582418, 0.23104693, 0.11721612, 0.17647…\n",
      "$ OR_PAINT       \u001b[3m\u001b[90m<dbl>\u001b[39m\u001b[23m 3.147059, 3.282051, 3.061372, 2.666667, 3.588235, 2.102…\n",
      "$ `TM OR_PAINT`  \u001b[3m\u001b[90m<dbl>\u001b[39m\u001b[23m 0.4411765, 0.4688645, 0.5198556, 0.7912088, 0.7352941, …\n",
      "$ OR_NP2         \u001b[3m\u001b[90m<dbl>\u001b[39m\u001b[23m 1.0588235, 1.5824176, 0.9530686, 0.7032967, 0.8823529, …\n",
      "$ `TM OR_NP2`    \u001b[3m\u001b[90m<dbl>\u001b[39m\u001b[23m 0.20588235, 0.26373626, 0.05776173, 0.14652015, 0.08823…\n",
      "$ OR_3C          \u001b[3m\u001b[90m<dbl>\u001b[39m\u001b[23m 0.3529412, 0.2344322, 0.4332130, 0.2637363, 0.5294118, …\n",
      "$ `TM OR_3C`     \u001b[3m\u001b[90m<dbl>\u001b[39m\u001b[23m 0.02941176, 0.08791209, 0.02888087, 0.02930403, 0.08823…\n",
      "$ OR_3L          \u001b[3m\u001b[90m<dbl>\u001b[39m\u001b[23m 3.470588, 3.428571, 2.888087, 3.926740, 4.147059, 3.094…\n",
      "$ `TM OR_3L`     \u001b[3m\u001b[90m<dbl>\u001b[39m\u001b[23m 0.6176471, 0.4981685, 0.4043321, 0.6446886, 0.5588235, …\n",
      "$ OR_FT          \u001b[3m\u001b[90m<dbl>\u001b[39m\u001b[23m 0.20588235, 0.23443223, 0.17328520, 0.26373626, 0.29411…\n",
      "$ `TM OR_FT`     \u001b[3m\u001b[90m<dbl>\u001b[39m\u001b[23m 0.02941176, 0.17582418, 0.02888087, 0.02930403, 0.08823…\n",
      "$ DR_RIM         \u001b[3m\u001b[90m<dbl>\u001b[39m\u001b[23m 1.3235294, 1.0842491, 1.0974729, 0.9963370, 1.0882353, …\n",
      "$ `TM DR_RIM`    \u001b[3m\u001b[90m<dbl>\u001b[39m\u001b[23m 0.11764706, 0.00000000, 0.08664260, 0.05860806, 0.17647…\n",
      "$ DR_PAINT       \u001b[3m\u001b[90m<dbl>\u001b[39m\u001b[23m 5.500000, 5.597070, 6.440433, 7.706960, 5.735294, 5.489…\n",
      "$ `TM DR_PAINT`  \u001b[3m\u001b[90m<dbl>\u001b[39m\u001b[23m 0.2941176, 0.3809524, 0.2310469, 0.4688645, 0.4117647, …\n",
      "$ DR_NP2         \u001b[3m\u001b[90m<dbl>\u001b[39m\u001b[23m 2.588235, 3.018315, 2.512635, 3.106227, 2.882353, 3.445…\n",
      "$ `TM DR_NP2`    \u001b[3m\u001b[90m<dbl>\u001b[39m\u001b[23m 0.17647059, 0.17582418, 0.08664260, 0.14652015, 0.26470…\n",
      "$ DR_3C          \u001b[3m\u001b[90m<dbl>\u001b[39m\u001b[23m 1.6470588, 0.7619048, 1.2418773, 0.5860806, 1.3235294, …\n",
      "$ `TM DR_3C`     \u001b[3m\u001b[90m<dbl>\u001b[39m\u001b[23m 0.11764706, 0.05860806, 0.05776173, 0.02930403, 0.05882…\n",
      "$ DR_3L          \u001b[3m\u001b[90m<dbl>\u001b[39m\u001b[23m 7.794118, 9.699634, 8.028881, 9.611722, 8.500000, 8.379…\n",
      "$ `TM DR_3L`     \u001b[3m\u001b[90m<dbl>\u001b[39m\u001b[23m 0.3529412, 0.4981685, 0.6353791, 0.7912088, 0.8235294, …\n",
      "$ DR_FT          \u001b[3m\u001b[90m<dbl>\u001b[39m\u001b[23m 1.2647059, 1.3479853, 1.0974729, 1.1428571, 1.4411765, …\n",
      "$ `TM DR_FT`     \u001b[3m\u001b[90m<dbl>\u001b[39m\u001b[23m 0.14705882, 0.11721612, 0.08664260, 0.05860806, 0.05882…\n",
      "$ FTM_T          \u001b[3m\u001b[90m<dbl>\u001b[39m\u001b[23m 0.20588235, 0.38095238, 0.43321300, 0.35164835, 0.20588…\n",
      "$ FTA_T          \u001b[3m\u001b[90m<dbl>\u001b[39m\u001b[23m 0.23529412, 0.43956044, 0.51985560, 0.41025641, 0.20588…\n",
      "$ FTM_1          \u001b[3m\u001b[90m<dbl>\u001b[39m\u001b[23m 1.235294, 1.289377, 1.501805, 1.435897, 1.264706, 1.167…\n",
      "$ FTA_1          \u001b[3m\u001b[90m<dbl>\u001b[39m\u001b[23m 1.529412, 1.728938, 1.935018, 1.934066, 1.617647, 1.459…\n",
      "$ FTM_2          \u001b[3m\u001b[90m<dbl>\u001b[39m\u001b[23m 9.705882, 11.457875, 10.281588, 10.109890, 11.529412, 9…\n",
      "$ FTA_2          \u001b[3m\u001b[90m<dbl>\u001b[39m\u001b[23m 12.29412, 15.70696, 12.59206, 13.33333, 15.11765, 12.61…\n",
      "$ `FT 0/2`       \u001b[3m\u001b[90m<dbl>\u001b[39m\u001b[23m 0.3823529, 0.7032967, 0.3176895, 0.2930403, 0.5294118, …\n",
      "$ FTM_3          \u001b[3m\u001b[90m<dbl>\u001b[39m\u001b[23m 0.7058824, 1.2014652, 0.4043321, 1.9633700, 0.5000000, …\n",
      "$ FTA_3          \u001b[3m\u001b[90m<dbl>\u001b[39m\u001b[23m 0.8823529, 1.4945055, 0.4620939, 2.4615385, 0.6176471, …\n",
      "$ `FT 0/3`       \u001b[3m\u001b[90m<dbl>\u001b[39m\u001b[23m 0.00000000, 0.02930403, 0.00000000, 0.00000000, 0.00000…\n",
      "$ RIM_M          \u001b[3m\u001b[90m<dbl>\u001b[39m\u001b[23m 8.529412, 6.417582, 9.241877, 7.794872, 7.558824, 8.642…\n",
      "$ RIM_A          \u001b[3m\u001b[90m<dbl>\u001b[39m\u001b[23m 12.000000, 8.439560, 11.841155, 9.523810, 9.676471, 10.…\n",
      "$ PAINT_M        \u001b[3m\u001b[90m<dbl>\u001b[39m\u001b[23m 7.411765, 11.399267, 9.472924, 9.289377, 11.235294, 6.4…\n",
      "$ PAINT_A        \u001b[3m\u001b[90m<dbl>\u001b[39m\u001b[23m 17.55882, 22.68132, 19.43682, 19.45788, 22.79412, 13.95…\n",
      "$ MID_M          \u001b[3m\u001b[90m<dbl>\u001b[39m\u001b[23m 2.911765, 3.926740, 2.512635, 2.373626, 1.205882, 2.861…\n",
      "$ MID_A          \u001b[3m\u001b[90m<dbl>\u001b[39m\u001b[23m 7.529412, 9.963370, 6.527076, 6.095238, 3.970588, 7.649…\n",
      "$ `3C_M`         \u001b[3m\u001b[90m<dbl>\u001b[39m\u001b[23m 1.3529412, 0.2930403, 1.8772563, 1.0842491, 1.4117647, …\n",
      "$ `3C_A`         \u001b[3m\u001b[90m<dbl>\u001b[39m\u001b[23m 2.882353, 0.967033, 4.014440, 2.051282, 3.529412, 2.919…\n",
      "$ `3L_M`         \u001b[3m\u001b[90m<dbl>\u001b[39m\u001b[23m 7.529412, 7.589744, 7.884477, 9.260073, 7.823529, 8.788…\n",
      "$ `3L_A`         \u001b[3m\u001b[90m<dbl>\u001b[39m\u001b[23m 22.20588, 21.27473, 22.23827, 25.84615, 23.35294, 23.97…\n",
      "$ `3H_M`         \u001b[3m\u001b[90m<dbl>\u001b[39m\u001b[23m 0.00000000, 0.00000000, 0.02888087, 0.00000000, 0.00000…\n",
      "$ `3H_A`         \u001b[3m\u001b[90m<dbl>\u001b[39m\u001b[23m 0.11764706, 0.08791209, 0.05776173, 0.29304029, 0.14705…\n"
     ]
    }
   ],
   "source": [
    "glimpse(teams_regular_mean)"
   ]
  },
  {
   "cell_type": "code",
   "execution_count": 68,
   "metadata": {
    "vscode": {
     "languageId": "r"
    }
   },
   "outputs": [],
   "source": [
    "# Średnia per games played\n",
    "# Argument wejściowy to players_x_sum\n",
    "mean_players <- function(players) {\n",
    "  players %>%\n",
    "    mutate(across(where(is.numeric) & !c(MIN, AGE, GP), ~.x / GP)) %>%\n",
    "    select(-MIN)\n",
    "}"
   ]
  },
  {
   "cell_type": "code",
   "execution_count": 69,
   "metadata": {
    "vscode": {
     "languageId": "r"
    }
   },
   "outputs": [],
   "source": [
    "players_regular_mean <- mean_players(players_regular_sum)\n",
    "players_playin_mean <- mean_players(players_playin_sum)\n",
    "players_playoff_mean <- mean_players(players_playoff_sum)\n",
    "players_final4_mean <- mean_players(players_final4_sum)"
   ]
  },
  {
   "cell_type": "code",
   "execution_count": 70,
   "metadata": {
    "vscode": {
     "languageId": "r"
    }
   },
   "outputs": [
    {
     "name": "stdout",
     "output_type": "stream",
     "text": [
      "Rows: 44\n",
      "Columns: 72\n",
      "$ NAME           \u001b[3m\u001b[90m<chr>\u001b[39m\u001b[23m \"Achille Polonara\", \"Alessandro Pajola\", \"Ante Zizic\", …\n",
      "$ `TM NAME`      \u001b[3m\u001b[90m<chr>\u001b[39m\u001b[23m \"Virtus Segafredo Bologna\", \"Virtus Segafredo Bologna\",…\n",
      "$ AGE            \u001b[3m\u001b[90m<int>\u001b[39m\u001b[23m 33, 25, 27, 30, 31, 28, 38, 29, 29, 30, 31, 37, 25, 29,…\n",
      "$ GP             \u001b[3m\u001b[90m<int>\u001b[39m\u001b[23m 2, 2, 2, 1, 2, 1, 2, 1, 2, 2, 2, 2, 1, 1, 1, 1, 1, 2, 2…\n",
      "$ PTS            \u001b[3m\u001b[90m<dbl>\u001b[39m\u001b[23m 5.5, 2.0, 4.0, 11.0, 9.5, 14.0, 0.0, 0.0, 0.0, 20.0, 0.…\n",
      "$ `2PTM`         \u001b[3m\u001b[90m<dbl>\u001b[39m\u001b[23m 0.0, 0.0, 2.0, 1.0, 2.0, 4.0, 0.0, 0.0, 0.0, 7.5, 0.0, …\n",
      "$ `2PTA`         \u001b[3m\u001b[90m<dbl>\u001b[39m\u001b[23m 1.0, 0.5, 3.5, 3.0, 2.0, 8.0, 0.5, 1.0, 0.0, 10.5, 0.0,…\n",
      "$ `3PTM`         \u001b[3m\u001b[90m<dbl>\u001b[39m\u001b[23m 1.5, 0.5, 0.0, 2.0, 1.5, 2.0, 0.0, 0.0, 0.0, 1.0, 0.0, …\n",
      "$ `3PTA`         \u001b[3m\u001b[90m<dbl>\u001b[39m\u001b[23m 2.5, 1.0, 0.0, 3.0, 5.5, 4.0, 0.0, 1.0, 1.0, 3.0, 0.5, …\n",
      "$ FGM            \u001b[3m\u001b[90m<dbl>\u001b[39m\u001b[23m 1.5, 0.5, 2.0, 3.0, 3.5, 6.0, 0.0, 0.0, 0.0, 8.5, 0.0, …\n",
      "$ FGA            \u001b[3m\u001b[90m<dbl>\u001b[39m\u001b[23m 3.5, 1.5, 3.5, 6.0, 7.5, 12.0, 0.5, 2.0, 1.0, 13.5, 0.5…\n",
      "$ FTM            \u001b[3m\u001b[90m<dbl>\u001b[39m\u001b[23m 1.0, 0.5, 0.0, 3.0, 1.0, 0.0, 0.0, 0.0, 0.0, 2.0, 0.0, …\n",
      "$ FTA            \u001b[3m\u001b[90m<dbl>\u001b[39m\u001b[23m 1.0, 1.0, 0.5, 4.0, 1.0, 0.0, 0.0, 0.0, 0.0, 3.0, 0.0, …\n",
      "$ OR             \u001b[3m\u001b[90m<dbl>\u001b[39m\u001b[23m 0.0, 1.0, 1.0, 1.0, 0.5, 1.0, 2.0, 0.0, 0.0, 1.5, 0.0, …\n",
      "$ DR             \u001b[3m\u001b[90m<dbl>\u001b[39m\u001b[23m 4.5, 0.5, 1.0, 0.0, 1.5, 2.0, 0.5, 2.0, 0.0, 6.0, 0.5, …\n",
      "$ TR             \u001b[3m\u001b[90m<dbl>\u001b[39m\u001b[23m 4.5, 1.5, 2.0, 1.0, 2.0, 3.0, 2.5, 2.0, 0.0, 7.5, 0.5, …\n",
      "$ AST            \u001b[3m\u001b[90m<dbl>\u001b[39m\u001b[23m 1.0, 2.0, 0.5, 0.0, 0.5, 1.0, 1.5, 0.0, 1.0, 7.5, 0.0, …\n",
      "$ TO             \u001b[3m\u001b[90m<dbl>\u001b[39m\u001b[23m 1.0, 2.0, 1.5, 0.0, 0.0, 1.0, 1.0, 1.0, 0.0, 4.5, 0.0, …\n",
      "$ ST             \u001b[3m\u001b[90m<dbl>\u001b[39m\u001b[23m 0.5, 0.0, 0.0, 1.0, 0.5, 3.0, 1.5, 0.0, 0.0, 1.5, 0.0, …\n",
      "$ BLK            \u001b[3m\u001b[90m<dbl>\u001b[39m\u001b[23m 1.5, 0.0, 1.0, 0.0, 0.5, 1.0, 1.0, 0.0, 1.0, 0.5, 0.0, …\n",
      "$ BLKA           \u001b[3m\u001b[90m<dbl>\u001b[39m\u001b[23m 0.5, 0.0, 1.0, 0.0, 0.0, 1.0, 0.0, 0.0, 0.0, 0.0, 0.0, …\n",
      "$ PF             \u001b[3m\u001b[90m<dbl>\u001b[39m\u001b[23m 0.0, 2.5, 1.0, 2.0, 1.5, 2.0, 3.0, 0.0, 1.5, 1.5, 0.0, …\n",
      "$ DF             \u001b[3m\u001b[90m<dbl>\u001b[39m\u001b[23m 2.0, 1.0, 0.5, 3.0, 0.0, 1.0, 0.0, 1.0, 0.0, 5.5, 0.0, …\n",
      "$ VAL            \u001b[3m\u001b[90m<dbl>\u001b[39m\u001b[23m 11.5, 0.5, 2.5, 10.0, 7.5, 13.0, 2.0, 0.0, -0.5, 30.5, …\n",
      "$ `+ / -`        \u001b[3m\u001b[90m<dbl>\u001b[39m\u001b[23m -0.5, 3.5, 3.5, 14.0, 6.0, 20.0, -5.0, -8.0, -3.0, -2.0…\n",
      "$ POSS           \u001b[3m\u001b[90m<dbl>\u001b[39m\u001b[23m 5.0, 4.0, 5.0, 8.0, 8.0, 13.0, 1.5, 3.0, 1.0, 19.0, 0.5…\n",
      "$ ASTED_2FG      \u001b[3m\u001b[90m<dbl>\u001b[39m\u001b[23m 0.0, 0.0, 2.0, 0.0, 2.0, 3.0, 0.0, 0.0, 0.0, 1.0, 0.0, …\n",
      "$ ASTED_3FG      \u001b[3m\u001b[90m<dbl>\u001b[39m\u001b[23m 1.5, 0.5, 0.0, 1.0, 1.5, 2.0, 0.0, 0.0, 0.0, 1.0, 0.0, …\n",
      "$ ASTED_FT       \u001b[3m\u001b[90m<dbl>\u001b[39m\u001b[23m 0.5, 0.0, 0.0, 2.0, 0.0, 0.0, 0.0, 0.0, 0.0, 0.0, 0.0, …\n",
      "$ `ASTED_FT PTS` \u001b[3m\u001b[90m<dbl>\u001b[39m\u001b[23m 1, 0, 0, 2, 0, 0, 0, 0, 0, 0, 0, 0, 0, 0, 0, 0, 0, 0, 0…\n",
      "$ `AST (2P)`     \u001b[3m\u001b[90m<dbl>\u001b[39m\u001b[23m 0.0, 1.5, 0.0, 0.0, 0.5, 1.0, 1.0, 0.0, 0.0, 3.5, 0.0, …\n",
      "$ `AST (3P)`     \u001b[3m\u001b[90m<dbl>\u001b[39m\u001b[23m 1.0, 0.5, 0.5, 0.0, 0.0, 0.0, 0.5, 0.0, 0.5, 3.0, 0.0, …\n",
      "$ `AST (FT)`     \u001b[3m\u001b[90m<dbl>\u001b[39m\u001b[23m 0.0, 0.0, 0.0, 0.0, 0.0, 0.0, 0.0, 0.0, 0.5, 1.0, 0.0, …\n",
      "$ `AST PTS (FT)` \u001b[3m\u001b[90m<dbl>\u001b[39m\u001b[23m 0, 0, 0, 0, 0, 0, 0, 0, 0, 2, 0, 0, 0, 0, 0, 0, 0, 1, 0…\n",
      "$ LTO            \u001b[3m\u001b[90m<dbl>\u001b[39m\u001b[23m 0.5, 1.5, 0.5, 0.0, 0.0, 1.0, 0.5, 0.0, 0.0, 3.5, 0.0, …\n",
      "$ DTO            \u001b[3m\u001b[90m<dbl>\u001b[39m\u001b[23m 0.5, 0.5, 1.0, 0.0, 0.0, 0.0, 0.5, 1.0, 0.0, 1.0, 0.0, …\n",
      "$ BLK2           \u001b[3m\u001b[90m<dbl>\u001b[39m\u001b[23m 1.0, 0.0, 0.5, 0.0, 0.0, 1.0, 0.5, 0.0, 1.0, 0.5, 0.0, …\n",
      "$ BLK3           \u001b[3m\u001b[90m<dbl>\u001b[39m\u001b[23m 0.0, 0.0, 0.0, 0.0, 0.0, 0.0, 0.0, 0.0, 0.0, 0.0, 0.0, …\n",
      "$ OR_RIM         \u001b[3m\u001b[90m<dbl>\u001b[39m\u001b[23m 0.0, 0.0, 0.5, 0.0, 0.0, 0.0, 0.0, 0.0, 0.0, 0.0, 0.0, …\n",
      "$ OR_PAINT       \u001b[3m\u001b[90m<dbl>\u001b[39m\u001b[23m 0.0, 0.0, 0.5, 0.0, 0.0, 0.0, 0.5, 0.0, 0.0, 0.5, 0.0, …\n",
      "$ OR_NP2         \u001b[3m\u001b[90m<dbl>\u001b[39m\u001b[23m 0.0, 0.0, 0.0, 1.0, 0.0, 1.0, 0.0, 0.0, 0.0, 0.5, 0.0, …\n",
      "$ OR_3C          \u001b[3m\u001b[90m<dbl>\u001b[39m\u001b[23m 0, 0, 0, 0, 0, 0, 0, 0, 0, 0, 0, 1, 0, 0, 0, 0, 0, 0, 0…\n",
      "$ OR_3L          \u001b[3m\u001b[90m<dbl>\u001b[39m\u001b[23m 0.0, 1.0, 0.0, 0.0, 0.5, 0.0, 1.5, 0.0, 0.0, 0.5, 0.0, …\n",
      "$ OR_FT          \u001b[3m\u001b[90m<dbl>\u001b[39m\u001b[23m 0, 0, 0, 0, 0, 0, 0, 0, 0, 0, 0, 0, 0, 0, 0, 0, 0, 0, 0…\n",
      "$ DR_RIM         \u001b[3m\u001b[90m<dbl>\u001b[39m\u001b[23m 0.5, 0.0, 0.5, 0.0, 0.0, 0.0, 0.0, 0.0, 0.0, 0.5, 0.0, …\n",
      "$ DR_PAINT       \u001b[3m\u001b[90m<dbl>\u001b[39m\u001b[23m 1.0, 0.5, 0.0, 0.0, 1.5, 0.0, 0.5, 2.0, 0.0, 1.0, 0.5, …\n",
      "$ DR_NP2         \u001b[3m\u001b[90m<dbl>\u001b[39m\u001b[23m 0.5, 0.0, 0.5, 0.0, 0.0, 0.0, 0.0, 0.0, 0.0, 0.5, 0.0, …\n",
      "$ DR_3C          \u001b[3m\u001b[90m<dbl>\u001b[39m\u001b[23m 0, 0, 0, 0, 0, 1, 0, 0, 0, 0, 0, 0, 0, 0, 0, 1, 0, 1, 0…\n",
      "$ DR_3L          \u001b[3m\u001b[90m<dbl>\u001b[39m\u001b[23m 2.5, 0.0, 0.0, 0.0, 0.0, 1.0, 0.0, 0.0, 0.0, 4.0, 0.0, …\n",
      "$ DR_FT          \u001b[3m\u001b[90m<dbl>\u001b[39m\u001b[23m 0.0, 0.0, 0.0, 0.0, 0.0, 0.0, 0.0, 0.0, 0.0, 0.0, 0.0, …\n",
      "$ FTM_T          \u001b[3m\u001b[90m<dbl>\u001b[39m\u001b[23m 0, 0, 0, 0, 0, 0, 0, 0, 0, 0, 0, 0, 0, 0, 0, 0, 0, 0, 0…\n",
      "$ FTA_T          \u001b[3m\u001b[90m<dbl>\u001b[39m\u001b[23m 0.0, 0.0, 0.0, 0.0, 0.0, 0.0, 0.0, 0.0, 0.0, 0.0, 0.0, …\n",
      "$ FTM_1          \u001b[3m\u001b[90m<dbl>\u001b[39m\u001b[23m 0.0, 0.0, 0.0, 0.0, 0.0, 0.0, 0.0, 0.0, 0.0, 0.5, 0.0, …\n",
      "$ FTA_1          \u001b[3m\u001b[90m<dbl>\u001b[39m\u001b[23m 0.0, 0.0, 0.5, 0.0, 0.0, 0.0, 0.0, 0.0, 0.0, 1.0, 0.0, …\n",
      "$ FTM_2          \u001b[3m\u001b[90m<dbl>\u001b[39m\u001b[23m 1.0, 0.5, 0.0, 3.0, 1.0, 0.0, 0.0, 0.0, 0.0, 1.5, 0.0, …\n",
      "$ FTA_2          \u001b[3m\u001b[90m<dbl>\u001b[39m\u001b[23m 1, 1, 0, 4, 1, 0, 0, 0, 0, 2, 0, 1, 2, 0, 0, 0, 0, 0, 0…\n",
      "$ `FT 0/2`       \u001b[3m\u001b[90m<dbl>\u001b[39m\u001b[23m 0, 0, 0, 0, 0, 0, 0, 0, 0, 0, 0, 0, 1, 0, 0, 0, 0, 0, 0…\n",
      "$ FTM_3          \u001b[3m\u001b[90m<dbl>\u001b[39m\u001b[23m 0, 0, 0, 0, 0, 0, 0, 0, 0, 0, 0, 0, 0, 0, 0, 0, 0, 0, 0…\n",
      "$ FTA_3          \u001b[3m\u001b[90m<dbl>\u001b[39m\u001b[23m 0, 0, 0, 0, 0, 0, 0, 0, 0, 0, 0, 0, 0, 0, 0, 0, 0, 0, 0…\n",
      "$ `FT 0/3`       \u001b[3m\u001b[90m<dbl>\u001b[39m\u001b[23m 0, 0, 0, 0, 0, 0, 0, 0, 0, 0, 0, 0, 0, 0, 0, 0, 0, 0, 0…\n",
      "$ RIM_M          \u001b[3m\u001b[90m<dbl>\u001b[39m\u001b[23m 0.0, 0.0, 1.5, 1.0, 1.0, 0.0, 0.0, 0.0, 0.0, 4.5, 0.0, …\n",
      "$ RIM_A          \u001b[3m\u001b[90m<dbl>\u001b[39m\u001b[23m 0.5, 0.0, 2.0, 2.0, 1.0, 2.0, 0.0, 1.0, 0.0, 4.5, 0.0, …\n",
      "$ PAINT_M        \u001b[3m\u001b[90m<dbl>\u001b[39m\u001b[23m 0.0, 0.0, 0.5, 0.0, 0.5, 3.0, 0.0, 0.0, 0.0, 1.5, 0.0, …\n",
      "$ PAINT_A        \u001b[3m\u001b[90m<dbl>\u001b[39m\u001b[23m 0.5, 0.5, 1.5, 0.0, 0.5, 5.0, 0.5, 0.0, 0.0, 3.5, 0.0, …\n",
      "$ MID_M          \u001b[3m\u001b[90m<dbl>\u001b[39m\u001b[23m 0.0, 0.0, 0.0, 0.0, 0.5, 1.0, 0.0, 0.0, 0.0, 1.5, 0.0, …\n",
      "$ MID_A          \u001b[3m\u001b[90m<dbl>\u001b[39m\u001b[23m 0.0, 0.0, 0.0, 1.0, 0.5, 1.0, 0.0, 0.0, 0.0, 2.5, 0.0, …\n",
      "$ `3C_M`         \u001b[3m\u001b[90m<dbl>\u001b[39m\u001b[23m 0.0, 0.0, 0.0, 1.0, 0.5, 1.0, 0.0, 0.0, 0.0, 0.0, 0.0, …\n",
      "$ `3C_A`         \u001b[3m\u001b[90m<dbl>\u001b[39m\u001b[23m 0.0, 0.0, 0.0, 1.0, 1.5, 1.0, 0.0, 0.0, 0.0, 0.0, 0.5, …\n",
      "$ `3L_M`         \u001b[3m\u001b[90m<dbl>\u001b[39m\u001b[23m 1.5, 0.5, 0.0, 1.0, 1.0, 1.0, 0.0, 0.0, 0.0, 1.0, 0.0, …\n",
      "$ `3L_A`         \u001b[3m\u001b[90m<dbl>\u001b[39m\u001b[23m 2.5, 1.0, 0.0, 2.0, 4.0, 3.0, 0.0, 1.0, 1.0, 3.0, 0.0, …\n",
      "$ `3H_M`         \u001b[3m\u001b[90m<dbl>\u001b[39m\u001b[23m 0, 0, 0, 0, 0, 0, 0, 0, 0, 0, 0, 0, 0, 0, 0, 0, 0, 0, 0…\n",
      "$ `3H_A`         \u001b[3m\u001b[90m<dbl>\u001b[39m\u001b[23m 0.0, 0.0, 0.0, 0.0, 0.0, 0.0, 0.0, 0.0, 0.0, 0.0, 0.0, …\n"
     ]
    }
   ],
   "source": [
    "glimpse(players_playin_mean)"
   ]
  },
  {
   "cell_type": "code",
   "execution_count": null,
   "metadata": {
    "vscode": {
     "languageId": "r"
    }
   },
   "outputs": [],
   "source": []
  }
 ],
 "metadata": {
  "kernelspec": {
   "display_name": "R",
   "language": "R",
   "name": "ir"
  },
  "language_info": {
   "codemirror_mode": "r",
   "file_extension": ".r",
   "mimetype": "text/x-r-source",
   "name": "R",
   "pygments_lexer": "r",
   "version": "4.2.2"
  }
 },
 "nbformat": 4,
 "nbformat_minor": 2
}
