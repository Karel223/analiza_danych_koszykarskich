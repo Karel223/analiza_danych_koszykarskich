{
 "cells": [
  {
   "cell_type": "markdown",
   "id": "7020ca80",
   "metadata": {},
   "source": [
    "**Wczytanie danych**"
   ]
  },
  {
   "cell_type": "code",
   "execution_count": 2,
   "id": "46f402b6",
   "metadata": {
    "vscode": {
     "languageId": "r"
    }
   },
   "outputs": [
    {
     "name": "stderr",
     "output_type": "stream",
     "text": [
      "Instalowanie pakietu w 'C:/Users/karol/AppData/Local/R/win-library/4.5'\n",
      "(ponieważ 'lib' nie jest określony)\n",
      "\n"
     ]
    },
    {
     "name": "stdout",
     "output_type": "stream",
     "text": [
      "pakiet 'readr' został pomyślnie rozpakowany oraz sumy MD5 zostały sprawdzone\n",
      "\n",
      "Pobrane pakiety binarne są w\n",
      "\tC:\\Users\\karol\\AppData\\Local\\Temp\\Rtmpaqf0se\\downloaded_packages\n"
     ]
    },
    {
     "name": "stderr",
     "output_type": "stream",
     "text": [
      "Warning message:\n",
      "\"pakiet 'readr' został zbudowany w wersji R 4.5.1\"\n",
      "Instalowanie pakietu w 'C:/Users/karol/AppData/Local/R/win-library/4.5'\n",
      "(ponieważ 'lib' nie jest określony)\n",
      "\n"
     ]
    },
    {
     "name": "stdout",
     "output_type": "stream",
     "text": [
      "pakiet 'dplyr' został pomyślnie rozpakowany oraz sumy MD5 zostały sprawdzone\n",
      "\n",
      "Pobrane pakiety binarne są w\n",
      "\tC:\\Users\\karol\\AppData\\Local\\Temp\\Rtmpaqf0se\\downloaded_packages\n"
     ]
    },
    {
     "name": "stderr",
     "output_type": "stream",
     "text": [
      "Warning message:\n",
      "\"pakiet 'dplyr' został zbudowany w wersji R 4.5.1\"\n",
      "\n",
      "Dołączanie pakietu: 'dplyr'\n",
      "\n",
      "\n",
      "Następujące obiekty zostały zakryte z 'package:stats':\n",
      "\n",
      "    filter, lag\n",
      "\n",
      "\n",
      "Następujące obiekty zostały zakryte z 'package:base':\n",
      "\n",
      "    intersect, setdiff, setequal, union\n",
      "\n",
      "\n",
      "Instalowanie pakietu w 'C:/Users/karol/AppData/Local/R/win-library/4.5'\n",
      "(ponieważ 'lib' nie jest określony)\n",
      "\n"
     ]
    },
    {
     "name": "stdout",
     "output_type": "stream",
     "text": [
      "pakiet 'tidyverse' został pomyślnie rozpakowany oraz sumy MD5 zostały sprawdzone\n",
      "\n",
      "Pobrane pakiety binarne są w\n",
      "\tC:\\Users\\karol\\AppData\\Local\\Temp\\Rtmpaqf0se\\downloaded_packages\n"
     ]
    },
    {
     "name": "stderr",
     "output_type": "stream",
     "text": [
      "Warning message:\n",
      "\"pakiet 'tidyverse' został zbudowany w wersji R 4.5.1\"\n",
      "Warning message:\n",
      "\"pakiet 'lubridate' został zbudowany w wersji R 4.5.1\"\n",
      "── \u001b[1mAttaching core tidyverse packages\u001b[22m ──────────────────────── tidyverse 2.0.0 ──\n",
      "\u001b[32m✔\u001b[39m \u001b[34mforcats  \u001b[39m 1.0.0     \u001b[32m✔\u001b[39m \u001b[34mstringr  \u001b[39m 1.5.1\n",
      "\u001b[32m✔\u001b[39m \u001b[34mggplot2  \u001b[39m 3.5.2     \u001b[32m✔\u001b[39m \u001b[34mtibble   \u001b[39m 3.2.1\n",
      "\u001b[32m✔\u001b[39m \u001b[34mlubridate\u001b[39m 1.9.4     \u001b[32m✔\u001b[39m \u001b[34mtidyr    \u001b[39m 1.3.1\n",
      "\u001b[32m✔\u001b[39m \u001b[34mpurrr    \u001b[39m 1.0.4     \n",
      "── \u001b[1mConflicts\u001b[22m ────────────────────────────────────────── tidyverse_conflicts() ──\n",
      "\u001b[31m✖\u001b[39m \u001b[34mdplyr\u001b[39m::\u001b[32mfilter()\u001b[39m masks \u001b[34mstats\u001b[39m::filter()\n",
      "\u001b[31m✖\u001b[39m \u001b[34mdplyr\u001b[39m::\u001b[32mlag()\u001b[39m    masks \u001b[34mstats\u001b[39m::lag()\n",
      "\u001b[36mℹ\u001b[39m Use the conflicted package (\u001b[3m\u001b[34m<http://conflicted.r-lib.org/>\u001b[39m\u001b[23m) to force all conflicts to become errors\n",
      "Instalowanie pakietu w 'C:/Users/karol/AppData/Local/R/win-library/4.5'\n",
      "(ponieważ 'lib' nie jest określony)\n",
      "\n"
     ]
    },
    {
     "name": "stdout",
     "output_type": "stream",
     "text": [
      "pakiet 'ggrepel' został pomyślnie rozpakowany oraz sumy MD5 zostały sprawdzone\n",
      "\n",
      "Pobrane pakiety binarne są w\n",
      "\tC:\\Users\\karol\\AppData\\Local\\Temp\\Rtmpaqf0se\\downloaded_packages\n"
     ]
    },
    {
     "name": "stderr",
     "output_type": "stream",
     "text": [
      "Warning message:\n",
      "\"pakiet 'ggrepel' został zbudowany w wersji R 4.5.1\"\n",
      "\n",
      "Dołączanie pakietu: 'scales'\n",
      "\n",
      "\n",
      "Następujący obiekt został zakryty z 'package:purrr':\n",
      "\n",
      "    discard\n",
      "\n",
      "\n",
      "Następujący obiekt został zakryty z 'package:readr':\n",
      "\n",
      "    col_factor\n",
      "\n",
      "\n",
      "Instalowanie pakietu w 'C:/Users/karol/AppData/Local/R/win-library/4.5'\n",
      "(ponieważ 'lib' nie jest określony)\n",
      "\n"
     ]
    },
    {
     "name": "stdout",
     "output_type": "stream",
     "text": [
      "pakiet 'ggforce' został pomyślnie rozpakowany oraz sumy MD5 zostały sprawdzone\n",
      "\n",
      "Pobrane pakiety binarne są w\n",
      "\tC:\\Users\\karol\\AppData\\Local\\Temp\\Rtmpaqf0se\\downloaded_packages\n"
     ]
    },
    {
     "name": "stderr",
     "output_type": "stream",
     "text": [
      "Warning message:\n",
      "\"pakiet 'ggforce' został zbudowany w wersji R 4.5.1\"\n"
     ]
    }
   ],
   "source": [
    "install.packages(\"readr\")\n",
    "library(readr)\n",
    "\n",
    "install.packages(\"dplyr\")\n",
    "library(dplyr)\n",
    "\n",
    "install.packages(\"tidyverse\")\n",
    "library(tidyverse)\n",
    "\n",
    "install.packages(\"ggrepel\")\n",
    "library(ggrepel)\n",
    "\n",
    "\n",
    "library(tidyr)\n",
    "library(ggplot2)\n",
    "library(ggrepel)\n",
    "library(scales)\n",
    "library(stringr)\n",
    "library(patchwork)\n",
    "\n",
    "install.packages(\"ggforce\")\n",
    "library(ggforce)\n",
    "\n"
   ]
  },
  {
   "cell_type": "code",
   "execution_count": 3,
   "id": "ba1f16a1",
   "metadata": {
    "vscode": {
     "languageId": "r"
    }
   },
   "outputs": [
    {
     "name": "stderr",
     "output_type": "stream",
     "text": [
      "Instalowanie pakietu w 'C:/Users/karol/AppData/Local/R/win-library/4.5'\n",
      "(ponieważ 'lib' nie jest określony)\n",
      "\n"
     ]
    },
    {
     "name": "stdout",
     "output_type": "stream",
     "text": [
      "pakiet 'devtools' został pomyślnie rozpakowany oraz sumy MD5 zostały sprawdzone\n",
      "\n",
      "Pobrane pakiety binarne są w\n",
      "\tC:\\Users\\karol\\AppData\\Local\\Temp\\Rtmpaqf0se\\downloaded_packages\n"
     ]
    },
    {
     "name": "stderr",
     "output_type": "stream",
     "text": [
      "Using GitHub PAT from the git credential store.\n",
      "\n",
      "Skipping install of 'BasketballAnalyzeR' from a github remote, the SHA1 (04c1eff3) has not changed since last install.\n",
      "  Use `force = TRUE` to force installation\n",
      "\n",
      "Registered S3 method overwritten by 'GGally':\n",
      "  method from   \n",
      "  +.gg   ggplot2\n",
      "\n",
      "\n",
      "If you wish to replicate the figures included in the book of\n",
      "Zuccolotto and Manisera (2020) and\n",
      "if your R version is 3.6.0 or higher, you need to enter\n",
      "RNGkind(sample.kind = \"Rounding\")\n",
      "at the beginning of your working session\n",
      "\n"
     ]
    }
   ],
   "source": [
    "install.packages(\"devtools\") \n",
    "devtools::install_github(\"sndmrc/BasketballAnalyzeR\")\n",
    "library(BasketballAnalyzeR)"
   ]
  },
  {
   "cell_type": "code",
   "execution_count": 4,
   "id": "5bd64608",
   "metadata": {
    "vscode": {
     "languageId": "r"
    }
   },
   "outputs": [
    {
     "name": "stderr",
     "output_type": "stream",
     "text": [
      "\u001b[1mRows: \u001b[22m\u001b[34m289\u001b[39m \u001b[1mColumns: \u001b[22m\u001b[34m34\u001b[39m\n",
      "\u001b[36m──\u001b[39m \u001b[1mColumn specification\u001b[22m \u001b[36m────────────────────────────────────────────────────────\u001b[39m\n",
      "\u001b[1mDelimiter:\u001b[22m \",\"\n",
      "\u001b[31mchr\u001b[39m  (2): Player, Team\n",
      "\u001b[32mdbl\u001b[39m (32): GP, MIN, PTS, P2M, P2A, P2p, P3M, P3A, P3p, FTM, FTA, FTp, OREB, D...\n",
      "\n",
      "\u001b[36mℹ\u001b[39m Use `spec()` to retrieve the full column specification for this data.\n",
      "\u001b[36mℹ\u001b[39m Specify the column types or set `show_col_types = FALSE` to quiet this message.\n",
      "\u001b[1mRows: \u001b[22m\u001b[34m18\u001b[39m \u001b[1mColumns: \u001b[22m\u001b[34m34\u001b[39m\n",
      "\u001b[36m──\u001b[39m \u001b[1mColumn specification\u001b[22m \u001b[36m────────────────────────────────────────────────────────\u001b[39m\n",
      "\u001b[1mDelimiter:\u001b[22m \",\"\n",
      "\u001b[31mchr\u001b[39m  (2): Team, Team_Tag\n",
      "\u001b[32mdbl\u001b[39m (32): GP, MIN, PTS, P2M, P2A, P2p, P3M, P3A, P3p, FTM, FTA, FTp, OREB, D...\n",
      "\n",
      "\u001b[36mℹ\u001b[39m Use `spec()` to retrieve the full column specification for this data.\n",
      "\u001b[36mℹ\u001b[39m Specify the column types or set `show_col_types = FALSE` to quiet this message.\n",
      "\u001b[1mRows: \u001b[22m\u001b[34m18\u001b[39m \u001b[1mColumns: \u001b[22m\u001b[34m34\u001b[39m\n",
      "\u001b[36m──\u001b[39m \u001b[1mColumn specification\u001b[22m \u001b[36m────────────────────────────────────────────────────────\u001b[39m\n",
      "\u001b[1mDelimiter:\u001b[22m \",\"\n",
      "\u001b[31mchr\u001b[39m  (2): Team, Team_Tag\n",
      "\u001b[32mdbl\u001b[39m (32): GP, MIN, PTS, P2M, P2A, P2p, P3M, P3A, P3p, FTM, FTA, FTp, OREB, D...\n",
      "\n",
      "\u001b[36mℹ\u001b[39m Use `spec()` to retrieve the full column specification for this data.\n",
      "\u001b[36mℹ\u001b[39m Specify the column types or set `show_col_types = FALSE` to quiet this message.\n",
      "\u001b[1mRows: \u001b[22m\u001b[34m44\u001b[39m \u001b[1mColumns: \u001b[22m\u001b[34m34\u001b[39m\n",
      "\u001b[36m──\u001b[39m \u001b[1mColumn specification\u001b[22m \u001b[36m────────────────────────────────────────────────────────\u001b[39m\n",
      "\u001b[1mDelimiter:\u001b[22m \",\"\n",
      "\u001b[31mchr\u001b[39m  (2): Player, Team\n",
      "\u001b[32mdbl\u001b[39m (32): GP, MIN, PTS, P2M, P2A, P2p, P3M, P3A, P3p, FTM, FTA, FTp, OREB, D...\n",
      "\n",
      "\u001b[36mℹ\u001b[39m Use `spec()` to retrieve the full column specification for this data.\n",
      "\u001b[36mℹ\u001b[39m Specify the column types or set `show_col_types = FALSE` to quiet this message.\n",
      "\u001b[1mRows: \u001b[22m\u001b[34m4\u001b[39m \u001b[1mColumns: \u001b[22m\u001b[34m34\u001b[39m\n",
      "\u001b[36m──\u001b[39m \u001b[1mColumn specification\u001b[22m \u001b[36m────────────────────────────────────────────────────────\u001b[39m\n",
      "\u001b[1mDelimiter:\u001b[22m \",\"\n",
      "\u001b[31mchr\u001b[39m  (2): Team, Team_Tag\n",
      "\u001b[32mdbl\u001b[39m (32): GP, MIN, PTS, P2M, P2A, P2p, P3M, P3A, P3p, FTM, FTA, FTp, OREB, D...\n",
      "\n",
      "\u001b[36mℹ\u001b[39m Use `spec()` to retrieve the full column specification for this data.\n",
      "\u001b[36mℹ\u001b[39m Specify the column types or set `show_col_types = FALSE` to quiet this message.\n",
      "\u001b[1mRows: \u001b[22m\u001b[34m4\u001b[39m \u001b[1mColumns: \u001b[22m\u001b[34m34\u001b[39m\n",
      "\u001b[36m──\u001b[39m \u001b[1mColumn specification\u001b[22m \u001b[36m────────────────────────────────────────────────────────\u001b[39m\n",
      "\u001b[1mDelimiter:\u001b[22m \",\"\n",
      "\u001b[31mchr\u001b[39m  (2): Team, Team_Tag\n",
      "\u001b[32mdbl\u001b[39m (32): GP, MIN, PTS, P2M, P2A, P2p, P3M, P3A, P3p, FTM, FTA, FTp, OREB, D...\n",
      "\n",
      "\u001b[36mℹ\u001b[39m Use `spec()` to retrieve the full column specification for this data.\n",
      "\u001b[36mℹ\u001b[39m Specify the column types or set `show_col_types = FALSE` to quiet this message.\n",
      "\u001b[1mRows: \u001b[22m\u001b[34m96\u001b[39m \u001b[1mColumns: \u001b[22m\u001b[34m34\u001b[39m\n",
      "\u001b[36m──\u001b[39m \u001b[1mColumn specification\u001b[22m \u001b[36m────────────────────────────────────────────────────────\u001b[39m\n",
      "\u001b[1mDelimiter:\u001b[22m \",\"\n",
      "\u001b[31mchr\u001b[39m  (2): Player, Team\n",
      "\u001b[32mdbl\u001b[39m (32): GP, MIN, PTS, P2M, P2A, P2p, P3M, P3A, P3p, FTM, FTA, FTp, OREB, D...\n",
      "\n",
      "\u001b[36mℹ\u001b[39m Use `spec()` to retrieve the full column specification for this data.\n",
      "\u001b[36mℹ\u001b[39m Specify the column types or set `show_col_types = FALSE` to quiet this message.\n",
      "\u001b[1mRows: \u001b[22m\u001b[34m8\u001b[39m \u001b[1mColumns: \u001b[22m\u001b[34m34\u001b[39m\n",
      "\u001b[36m──\u001b[39m \u001b[1mColumn specification\u001b[22m \u001b[36m────────────────────────────────────────────────────────\u001b[39m\n",
      "\u001b[1mDelimiter:\u001b[22m \",\"\n",
      "\u001b[31mchr\u001b[39m  (2): Team, Team_Tag\n",
      "\u001b[32mdbl\u001b[39m (32): GP, MIN, PTS, P2M, P2A, P2p, P3M, P3A, P3p, FTM, FTA, FTp, OREB, D...\n",
      "\n",
      "\u001b[36mℹ\u001b[39m Use `spec()` to retrieve the full column specification for this data.\n",
      "\u001b[36mℹ\u001b[39m Specify the column types or set `show_col_types = FALSE` to quiet this message.\n",
      "\u001b[1mRows: \u001b[22m\u001b[34m8\u001b[39m \u001b[1mColumns: \u001b[22m\u001b[34m34\u001b[39m\n",
      "\u001b[36m──\u001b[39m \u001b[1mColumn specification\u001b[22m \u001b[36m────────────────────────────────────────────────────────\u001b[39m\n",
      "\u001b[1mDelimiter:\u001b[22m \",\"\n",
      "\u001b[31mchr\u001b[39m  (2): Team, Team_Tag\n",
      "\u001b[32mdbl\u001b[39m (32): GP, MIN, PTS, P2M, P2A, P2p, P3M, P3A, P3p, FTM, FTA, FTp, OREB, D...\n",
      "\n",
      "\u001b[36mℹ\u001b[39m Use `spec()` to retrieve the full column specification for this data.\n",
      "\u001b[36mℹ\u001b[39m Specify the column types or set `show_col_types = FALSE` to quiet this message.\n",
      "\u001b[1mRows: \u001b[22m\u001b[34m47\u001b[39m \u001b[1mColumns: \u001b[22m\u001b[34m34\u001b[39m\n",
      "\u001b[36m──\u001b[39m \u001b[1mColumn specification\u001b[22m \u001b[36m────────────────────────────────────────────────────────\u001b[39m\n",
      "\u001b[1mDelimiter:\u001b[22m \",\"\n",
      "\u001b[31mchr\u001b[39m  (2): Player, Team\n",
      "\u001b[32mdbl\u001b[39m (32): GP, MIN, PTS, P2M, P2A, P2p, P3M, P3A, P3p, FTM, FTA, FTp, OREB, D...\n",
      "\n",
      "\u001b[36mℹ\u001b[39m Use `spec()` to retrieve the full column specification for this data.\n",
      "\u001b[36mℹ\u001b[39m Specify the column types or set `show_col_types = FALSE` to quiet this message.\n",
      "\u001b[1mRows: \u001b[22m\u001b[34m4\u001b[39m \u001b[1mColumns: \u001b[22m\u001b[34m34\u001b[39m\n",
      "\u001b[36m──\u001b[39m \u001b[1mColumn specification\u001b[22m \u001b[36m────────────────────────────────────────────────────────\u001b[39m\n",
      "\u001b[1mDelimiter:\u001b[22m \",\"\n",
      "\u001b[31mchr\u001b[39m  (2): Team, Team_Tag\n",
      "\u001b[32mdbl\u001b[39m (32): GP, MIN, PTS, P2M, P2A, P2p, P3M, P3A, P3p, FTM, FTA, FTp, OREB, D...\n",
      "\n",
      "\u001b[36mℹ\u001b[39m Use `spec()` to retrieve the full column specification for this data.\n",
      "\u001b[36mℹ\u001b[39m Specify the column types or set `show_col_types = FALSE` to quiet this message.\n",
      "\u001b[1mRows: \u001b[22m\u001b[34m4\u001b[39m \u001b[1mColumns: \u001b[22m\u001b[34m34\u001b[39m\n",
      "\u001b[36m──\u001b[39m \u001b[1mColumn specification\u001b[22m \u001b[36m────────────────────────────────────────────────────────\u001b[39m\n",
      "\u001b[1mDelimiter:\u001b[22m \",\"\n",
      "\u001b[31mchr\u001b[39m  (2): Team, Team_Tag\n",
      "\u001b[32mdbl\u001b[39m (32): GP, MIN, PTS, P2M, P2A, P2p, P3M, P3A, P3p, FTM, FTA, FTp, OREB, D...\n",
      "\n",
      "\u001b[36mℹ\u001b[39m Use `spec()` to retrieve the full column specification for this data.\n",
      "\u001b[36mℹ\u001b[39m Specify the column types or set `show_col_types = FALSE` to quiet this message.\n",
      "\u001b[1mRows: \u001b[22m\u001b[34m88\u001b[39m \u001b[1mColumns: \u001b[22m\u001b[34m35\u001b[39m\n",
      "\u001b[36m──\u001b[39m \u001b[1mColumn specification\u001b[22m \u001b[36m────────────────────────────────────────────────────────\u001b[39m\n",
      "\u001b[1mDelimiter:\u001b[22m \",\"\n",
      "\u001b[31mchr\u001b[39m  (3): Player, Team, Opponent\n",
      "\u001b[32mdbl\u001b[39m (32): ROUND, MIN, PTS, P2M, P2A, P2p, P3M, P3A, P3p, FTM, FTA, FTp, OREB...\n",
      "\n",
      "\u001b[36mℹ\u001b[39m Use `spec()` to retrieve the full column specification for this data.\n",
      "\u001b[36mℹ\u001b[39m Specify the column types or set `show_col_types = FALSE` to quiet this message.\n",
      "\u001b[1mRows: \u001b[22m\u001b[34m18\u001b[39m \u001b[1mColumns: \u001b[22m\u001b[34m5\u001b[39m\n",
      "\u001b[36m──\u001b[39m \u001b[1mColumn specification\u001b[22m \u001b[36m────────────────────────────────────────────────────────\u001b[39m\n",
      "\u001b[1mDelimiter:\u001b[22m \",\"\n",
      "\u001b[31mchr\u001b[39m (3): Team, team, Country\n",
      "\u001b[32mdbl\u001b[39m (1): Rank\n",
      "\u001b[33mlgl\u001b[39m (1): Playoff\n",
      "\n",
      "\u001b[36mℹ\u001b[39m Use `spec()` to retrieve the full column specification for this data.\n",
      "\u001b[36mℹ\u001b[39m Specify the column types or set `show_col_types = FALSE` to quiet this message.\n"
     ]
    }
   ],
   "source": [
    "pbox_regular <- read_csv(\"data_box/regular/pbox_regular.csv\")\n",
    "tbox_regular <- read_csv(\"data_box/regular/tbox_regular.csv\")\n",
    "obox_regular <- read_csv(\"data_box/regular/obox_regular.csv\")\n",
    "\n",
    "pbox_playin  <- read_csv(\"data_box/playin/pbox_playin.csv\")\n",
    "tbox_playin  <- read_csv(\"data_box/playin/tbox_playin.csv\")\n",
    "obox_playin  <- read_csv(\"data_box/playin/obox_playin.csv\")\n",
    "\n",
    "pbox_playoff <- read_csv(\"data_box/playoff/pbox_playoff.csv\")\n",
    "tbox_playoff <- read_csv(\"data_box/playoff/tbox_playoff.csv\")\n",
    "obox_playoff <- read_csv(\"data_box/playoff/obox_playoff.csv\")\n",
    "\n",
    "pbox_final4  <- read_csv(\"data_box/final4/pbox_final4.csv\")\n",
    "tbox_final4  <- read_csv(\"data_box/final4/tbox_final4.csv\")\n",
    "obox_final4  <- read_csv(\"data_box/final4/obox_final4.csv\")\n",
    "pbox_final4_detailed <- read_csv(\"data_box/final4/pbox_final4_detailed.csv\")\n",
    "\n",
    "t_add <- read_csv(\"data_box/Tadd/t_add.csv\")"
   ]
  },
  {
   "cell_type": "code",
   "execution_count": 5,
   "id": "66297bcf",
   "metadata": {
    "vscode": {
     "languageId": "r"
    }
   },
   "outputs": [],
   "source": [
    "convert_commas_to_dots <- function(df) {\n",
    "  # Zamiana przecinków na kropki w kolumnach typu\n",
    "  #character tylko jeśli zawierają przecinek\n",
    "  df[] <- lapply(df, function(x) {\n",
    "    if (is.character(x) && any(grepl(\",\", x))) {\n",
    "      x <- gsub(\",\", \".\", x)\n",
    "      num_x <- suppressWarnings(as.numeric(x))\n",
    "      if (all(is.na(num_x) & !is.na(x))) {\n",
    "        return(x) # Jeśli wszystkie wartości stają się NA, pozostaw jako tekst\n",
    "      } else {\n",
    "        return(num_x) # Konwersja na numeric, jeśli możliwe\n",
    "      }\n",
    "    } else {\n",
    "      return(x)\n",
    "    }\n",
    "  })\n",
    "  return(df)\n",
    "}\n",
    "\n",
    "convert_numeric_to_integer <- function(df) {\n",
    "\n",
    "  #Zamiana wartości na integer, jeśli nie zawierają\n",
    "  #kropki i nie są wszystkimi NA\n",
    "\n",
    "  df[] <- lapply(df, function(x) {\n",
    "    if (is.numeric(x) && all(!grepl(\"\\\\.\", as.character(x)), na.rm = TRUE)) { \n",
    "      return(as.integer(x))\n",
    "    } else {\n",
    "      return(x)\n",
    "    }\n",
    "  })\n",
    "  return(df)\n",
    "}"
   ]
  },
  {
   "cell_type": "code",
   "execution_count": 6,
   "id": "ae64e236",
   "metadata": {
    "vscode": {
     "languageId": "r"
    }
   },
   "outputs": [],
   "source": [
    "convert <- function(df) {\n",
    "  df <- convert_commas_to_dots(df)\n",
    "  df <- convert_numeric_to_integer(df)\n",
    "  return(df)\n",
    "}"
   ]
  },
  {
   "cell_type": "code",
   "execution_count": 7,
   "id": "17758f03",
   "metadata": {
    "vscode": {
     "languageId": "r"
    }
   },
   "outputs": [],
   "source": [
    "pbox_regular <- convert(pbox_regular)\n",
    "tbox_regular <- convert(tbox_regular)\n",
    "obox_regular <- convert(obox_regular)\n",
    "\n",
    "pbox_playin  <- convert(pbox_playin)\n",
    "tbox_playin  <- convert(tbox_playin)\n",
    "obox_playin  <- convert(obox_playin)\n",
    "\n",
    "pbox_playoff <- convert(pbox_playoff)\n",
    "tbox_playoff <- convert(tbox_playoff)\n",
    "obox_playoff <- convert(obox_playoff)\n",
    "\n",
    "pbox_final4  <- convert(pbox_final4)\n",
    "tbox_final4  <- convert(tbox_final4)\n",
    "obox_final4  <- convert(obox_final4)\n",
    "pbox_final4_detailed  <- convert(pbox_final4_detailed)"
   ]
  },
  {
   "cell_type": "code",
   "execution_count": 8,
   "id": "35d3e35d",
   "metadata": {
    "vscode": {
     "languageId": "r"
    }
   },
   "outputs": [
    {
     "name": "stdout",
     "output_type": "stream",
     "text": [
      "Rows: 289\n",
      "Columns: 34\n",
      "$ Player  \u001b[3m\u001b[90m<chr>\u001b[39m\u001b[23m \"Achille Polonara\"\u001b[90m, \u001b[39m\"Adam Hanga\"\u001b[90m, \u001b[39m\"Alberto Abalde\"\u001b[90m, \u001b[39m\"Alec Pete…\n",
      "$ Team    \u001b[3m\u001b[90m<chr>\u001b[39m\u001b[23m \"Virtus Bologna\"\u001b[90m, \u001b[39m\"Crvena Zvezda\"\u001b[90m, \u001b[39m\"Real Madrid\"\u001b[90m, \u001b[39m\"Olympiacos\"…\n",
      "$ GP      \u001b[3m\u001b[90m<int>\u001b[39m\u001b[23m 19\u001b[90m, \u001b[39m26\u001b[90m, \u001b[39m22\u001b[90m, \u001b[39m33\u001b[90m, \u001b[39m24\u001b[90m, \u001b[39m23\u001b[90m, \u001b[39m31\u001b[90m, \u001b[39m32\u001b[90m, \u001b[39m22\u001b[90m, \u001b[39m30\u001b[90m, \u001b[39m1\u001b[90m, \u001b[39m33\u001b[90m, \u001b[39m10\u001b[90m, \u001b[39m22\u001b[90m, \u001b[39m28\u001b[90m, \u001b[39m32\u001b[90m,\u001b[39m…\n",
      "$ MIN     \u001b[3m\u001b[90m<int>\u001b[39m\u001b[23m 230\u001b[90m, \u001b[39m522\u001b[90m, \u001b[39m295\u001b[90m, \u001b[39m858\u001b[90m, \u001b[39m450\u001b[90m, \u001b[39m174\u001b[90m, \u001b[39m491\u001b[90m, \u001b[39m547\u001b[90m, \u001b[39m368\u001b[90m, \u001b[39m387\u001b[90m, \u001b[39m1\u001b[90m, \u001b[39m889\u001b[90m, \u001b[39m165\u001b[90m,\u001b[39m…\n",
      "$ PTS     \u001b[3m\u001b[90m<int>\u001b[39m\u001b[23m 55\u001b[90m, \u001b[39m207\u001b[90m, \u001b[39m79\u001b[90m, \u001b[39m442\u001b[90m, \u001b[39m245\u001b[90m, \u001b[39m68\u001b[90m, \u001b[39m172\u001b[90m, \u001b[39m127\u001b[90m, \u001b[39m145\u001b[90m, \u001b[39m158\u001b[90m, \u001b[39m3\u001b[90m, \u001b[39m346\u001b[90m, \u001b[39m50\u001b[90m, \u001b[39m166…\n",
      "$ P2M     \u001b[3m\u001b[90m<int>\u001b[39m\u001b[23m 12\u001b[90m, \u001b[39m42\u001b[90m, \u001b[39m9\u001b[90m, \u001b[39m96\u001b[90m, \u001b[39m68\u001b[90m, \u001b[39m22\u001b[90m, \u001b[39m52\u001b[90m, \u001b[39m16\u001b[90m, \u001b[39m15\u001b[90m, \u001b[39m66\u001b[90m, \u001b[39m0\u001b[90m, \u001b[39m88\u001b[90m, \u001b[39m14\u001b[90m, \u001b[39m7\u001b[90m, \u001b[39m58\u001b[90m, \u001b[39m50\u001b[90m, \u001b[39m2…\n",
      "$ P2A     \u001b[3m\u001b[90m<int>\u001b[39m\u001b[23m 26\u001b[90m, \u001b[39m89\u001b[90m, \u001b[39m18\u001b[90m, \u001b[39m163\u001b[90m, \u001b[39m101\u001b[90m, \u001b[39m35\u001b[90m, \u001b[39m81\u001b[90m, \u001b[39m34\u001b[90m, \u001b[39m25\u001b[90m, \u001b[39m107\u001b[90m, \u001b[39m1\u001b[90m, \u001b[39m175\u001b[90m, \u001b[39m21\u001b[90m, \u001b[39m16\u001b[90m, \u001b[39m89\u001b[90m,\u001b[39m…\n",
      "$ P2p     \u001b[3m\u001b[90m<dbl>\u001b[39m\u001b[23m 46.15\u001b[90m, \u001b[39m47.19\u001b[90m, \u001b[39m50.00\u001b[90m, \u001b[39m58.90\u001b[90m, \u001b[39m67.33\u001b[90m, \u001b[39m62.86\u001b[90m, \u001b[39m64.20\u001b[90m, \u001b[39m47.06\u001b[90m, \u001b[39m60.00\u001b[90m,\u001b[39m…\n",
      "$ P3M     \u001b[3m\u001b[90m<int>\u001b[39m\u001b[23m 10\u001b[90m, \u001b[39m33\u001b[90m, \u001b[39m18\u001b[90m, \u001b[39m61\u001b[90m, \u001b[39m26\u001b[90m, \u001b[39m1\u001b[90m, \u001b[39m12\u001b[90m, \u001b[39m24\u001b[90m, \u001b[39m33\u001b[90m, \u001b[39m1\u001b[90m, \u001b[39m1\u001b[90m, \u001b[39m36\u001b[90m, \u001b[39m6\u001b[90m, \u001b[39m47\u001b[90m, \u001b[39m0\u001b[90m, \u001b[39m12\u001b[90m, \u001b[39m14\u001b[90m,\u001b[39m…\n",
      "$ P3A     \u001b[3m\u001b[90m<int>\u001b[39m\u001b[23m 24\u001b[90m, \u001b[39m99\u001b[90m, \u001b[39m45\u001b[90m, \u001b[39m119\u001b[90m, \u001b[39m88\u001b[90m, \u001b[39m9\u001b[90m, \u001b[39m26\u001b[90m, \u001b[39m69\u001b[90m, \u001b[39m73\u001b[90m, \u001b[39m5\u001b[90m, \u001b[39m1\u001b[90m, \u001b[39m86\u001b[90m, \u001b[39m15\u001b[90m, \u001b[39m115\u001b[90m, \u001b[39m0\u001b[90m, \u001b[39m44\u001b[90m, \u001b[39m…\n",
      "$ P3p     \u001b[3m\u001b[90m<dbl>\u001b[39m\u001b[23m 41.67\u001b[90m, \u001b[39m33.33\u001b[90m, \u001b[39m40.00\u001b[90m, \u001b[39m51.26\u001b[90m, \u001b[39m29.55\u001b[90m, \u001b[39m11.11\u001b[90m, \u001b[39m46.15\u001b[90m, \u001b[39m34.78\u001b[90m, \u001b[39m45.21\u001b[90m,\u001b[39m…\n",
      "$ FTM     \u001b[3m\u001b[90m<int>\u001b[39m\u001b[23m 1\u001b[90m, \u001b[39m24\u001b[90m, \u001b[39m7\u001b[90m, \u001b[39m67\u001b[90m, \u001b[39m31\u001b[90m, \u001b[39m21\u001b[90m, \u001b[39m32\u001b[90m, \u001b[39m23\u001b[90m, \u001b[39m16\u001b[90m, \u001b[39m23\u001b[90m, \u001b[39m0\u001b[90m, \u001b[39m62\u001b[90m, \u001b[39m4\u001b[90m, \u001b[39m11\u001b[90m, \u001b[39m20\u001b[90m, \u001b[39m35\u001b[90m, \u001b[39m19…\n",
      "$ FTA     \u001b[3m\u001b[90m<int>\u001b[39m\u001b[23m 3\u001b[90m, \u001b[39m45\u001b[90m, \u001b[39m8\u001b[90m, \u001b[39m76\u001b[90m, \u001b[39m40\u001b[90m, \u001b[39m30\u001b[90m, \u001b[39m44\u001b[90m, \u001b[39m31\u001b[90m, \u001b[39m18\u001b[90m, \u001b[39m29\u001b[90m, \u001b[39m0\u001b[90m, \u001b[39m85\u001b[90m, \u001b[39m5\u001b[90m, \u001b[39m14\u001b[90m, \u001b[39m34\u001b[90m, \u001b[39m52\u001b[90m, \u001b[39m27…\n",
      "$ FTp     \u001b[3m\u001b[90m<dbl>\u001b[39m\u001b[23m 33.33\u001b[90m, \u001b[39m53.33\u001b[90m, \u001b[39m87.50\u001b[90m, \u001b[39m88.16\u001b[90m, \u001b[39m77.50\u001b[90m, \u001b[39m70.00\u001b[90m, \u001b[39m72.73\u001b[90m, \u001b[39m74.19\u001b[90m, \u001b[39m88.89\u001b[90m,\u001b[39m…\n",
      "$ OREB    \u001b[3m\u001b[90m<int>\u001b[39m\u001b[23m 18\u001b[90m, \u001b[39m14\u001b[90m, \u001b[39m6\u001b[90m, \u001b[39m38\u001b[90m, \u001b[39m8\u001b[90m, \u001b[39m13\u001b[90m, \u001b[39m32\u001b[90m, \u001b[39m13\u001b[90m, \u001b[39m14\u001b[90m, \u001b[39m35\u001b[90m, \u001b[39m0\u001b[90m, \u001b[39m40\u001b[90m, \u001b[39m14\u001b[90m, \u001b[39m5\u001b[90m, \u001b[39m30\u001b[90m, \u001b[39m32\u001b[90m, \u001b[39m17…\n",
      "$ DREB    \u001b[3m\u001b[90m<int>\u001b[39m\u001b[23m 29\u001b[90m, \u001b[39m62\u001b[90m, \u001b[39m39\u001b[90m, \u001b[39m122\u001b[90m, \u001b[39m34\u001b[90m, \u001b[39m16\u001b[90m, \u001b[39m36\u001b[90m, \u001b[39m46\u001b[90m, \u001b[39m30\u001b[90m, \u001b[39m45\u001b[90m, \u001b[39m0\u001b[90m, \u001b[39m98\u001b[90m, \u001b[39m18\u001b[90m, \u001b[39m28\u001b[90m, \u001b[39m47\u001b[90m, \u001b[39m24…\n",
      "$ AST     \u001b[3m\u001b[90m<int>\u001b[39m\u001b[23m 23\u001b[90m, \u001b[39m62\u001b[90m, \u001b[39m16\u001b[90m, \u001b[39m51\u001b[90m, \u001b[39m44\u001b[90m, \u001b[39m7\u001b[90m, \u001b[39m18\u001b[90m, \u001b[39m99\u001b[90m, \u001b[39m8\u001b[90m, \u001b[39m4\u001b[90m, \u001b[39m1\u001b[90m, \u001b[39m60\u001b[90m, \u001b[39m5\u001b[90m, \u001b[39m15\u001b[90m, \u001b[39m17\u001b[90m, \u001b[39m26\u001b[90m, \u001b[39m20\u001b[90m,\u001b[39m…\n",
      "$ TOV     \u001b[3m\u001b[90m<int>\u001b[39m\u001b[23m 9\u001b[90m, \u001b[39m34\u001b[90m, \u001b[39m5\u001b[90m, \u001b[39m40\u001b[90m, \u001b[39m32\u001b[90m, \u001b[39m6\u001b[90m, \u001b[39m21\u001b[90m, \u001b[39m33\u001b[90m, \u001b[39m13\u001b[90m, \u001b[39m29\u001b[90m, \u001b[39m0\u001b[90m, \u001b[39m40\u001b[90m, \u001b[39m2\u001b[90m, \u001b[39m10\u001b[90m, \u001b[39m17\u001b[90m, \u001b[39m16\u001b[90m, \u001b[39m21\u001b[90m,\u001b[39m…\n",
      "$ STL     \u001b[3m\u001b[90m<int>\u001b[39m\u001b[23m 9\u001b[90m, \u001b[39m25\u001b[90m, \u001b[39m10\u001b[90m, \u001b[39m17\u001b[90m, \u001b[39m17\u001b[90m, \u001b[39m6\u001b[90m, \u001b[39m18\u001b[90m, \u001b[39m26\u001b[90m, \u001b[39m11\u001b[90m, \u001b[39m10\u001b[90m, \u001b[39m0\u001b[90m, \u001b[39m39\u001b[90m, \u001b[39m2\u001b[90m, \u001b[39m4\u001b[90m, \u001b[39m9\u001b[90m, \u001b[39m31\u001b[90m, \u001b[39m13\u001b[90m, \u001b[39m…\n",
      "$ BLK     \u001b[3m\u001b[90m<int>\u001b[39m\u001b[23m 7\u001b[90m, \u001b[39m8\u001b[90m, \u001b[39m1\u001b[90m, \u001b[39m4\u001b[90m, \u001b[39m4\u001b[90m, \u001b[39m10\u001b[90m, \u001b[39m12\u001b[90m, \u001b[39m4\u001b[90m, \u001b[39m7\u001b[90m, \u001b[39m11\u001b[90m, \u001b[39m0\u001b[90m, \u001b[39m11\u001b[90m, \u001b[39m8\u001b[90m, \u001b[39m0\u001b[90m, \u001b[39m10\u001b[90m, \u001b[39m16\u001b[90m, \u001b[39m2\u001b[90m, \u001b[39m0\u001b[90m, \u001b[39m2\u001b[90m,\u001b[39m…\n",
      "$ PF      \u001b[3m\u001b[90m<int>\u001b[39m\u001b[23m 27\u001b[90m, \u001b[39m51\u001b[90m, \u001b[39m25\u001b[90m, \u001b[39m76\u001b[90m, \u001b[39m43\u001b[90m, \u001b[39m36\u001b[90m, \u001b[39m69\u001b[90m, \u001b[39m86\u001b[90m, \u001b[39m47\u001b[90m, \u001b[39m74\u001b[90m, \u001b[39m0\u001b[90m, \u001b[39m86\u001b[90m, \u001b[39m22\u001b[90m, \u001b[39m25\u001b[90m, \u001b[39m37\u001b[90m, \u001b[39m83\u001b[90m,\u001b[39m…\n",
      "$ PM      \u001b[3m\u001b[90m<int>\u001b[39m\u001b[23m 4\u001b[90m, \u001b[39m-37\u001b[90m, \u001b[39m45\u001b[90m, \u001b[39m111\u001b[90m, \u001b[39m46\u001b[90m, \u001b[39m-12\u001b[90m, \u001b[39m-63\u001b[90m, \u001b[39m-7\u001b[90m, \u001b[39m52\u001b[90m, \u001b[39m7\u001b[90m, \u001b[39m6\u001b[90m, \u001b[39m65\u001b[90m, \u001b[39m33\u001b[90m, \u001b[39m-27\u001b[90m, \u001b[39m1\u001b[90m, \u001b[39m-…\n",
      "$ RIM_M   \u001b[3m\u001b[90m<int>\u001b[39m\u001b[23m 4\u001b[90m, \u001b[39m11\u001b[90m, \u001b[39m2\u001b[90m, \u001b[39m45\u001b[90m, \u001b[39m33\u001b[90m, \u001b[39m15\u001b[90m, \u001b[39m35\u001b[90m, \u001b[39m1\u001b[90m, \u001b[39m4\u001b[90m, \u001b[39m51\u001b[90m, \u001b[39m0\u001b[90m, \u001b[39m31\u001b[90m, \u001b[39m5\u001b[90m, \u001b[39m2\u001b[90m, \u001b[39m27\u001b[90m, \u001b[39m29\u001b[90m, \u001b[39m15\u001b[90m, \u001b[39m0…\n",
      "$ RIM_A   \u001b[3m\u001b[90m<int>\u001b[39m\u001b[23m 6\u001b[90m, \u001b[39m14\u001b[90m, \u001b[39m3\u001b[90m, \u001b[39m56\u001b[90m, \u001b[39m42\u001b[90m, \u001b[39m19\u001b[90m, \u001b[39m42\u001b[90m, \u001b[39m2\u001b[90m, \u001b[39m5\u001b[90m, \u001b[39m63\u001b[90m, \u001b[39m0\u001b[90m, \u001b[39m46\u001b[90m, \u001b[39m6\u001b[90m, \u001b[39m3\u001b[90m, \u001b[39m34\u001b[90m, \u001b[39m35\u001b[90m, \u001b[39m21\u001b[90m, \u001b[39m0…\n",
      "$ PAINT_M \u001b[3m\u001b[90m<int>\u001b[39m\u001b[23m 8\u001b[90m, \u001b[39m28\u001b[90m, \u001b[39m5\u001b[90m, \u001b[39m30\u001b[90m, \u001b[39m33\u001b[90m, \u001b[39m7\u001b[90m, \u001b[39m12\u001b[90m, \u001b[39m14\u001b[90m, \u001b[39m8\u001b[90m, \u001b[39m14\u001b[90m, \u001b[39m0\u001b[90m, \u001b[39m50\u001b[90m, \u001b[39m8\u001b[90m, \u001b[39m2\u001b[90m, \u001b[39m30\u001b[90m, \u001b[39m20\u001b[90m, \u001b[39m8\u001b[90m, \u001b[39m2\u001b[90m,\u001b[39m…\n",
      "$ PAINT_A \u001b[3m\u001b[90m<int>\u001b[39m\u001b[23m 20\u001b[90m, \u001b[39m65\u001b[90m, \u001b[39m12\u001b[90m, \u001b[39m55\u001b[90m, \u001b[39m53\u001b[90m, \u001b[39m14\u001b[90m, \u001b[39m29\u001b[90m, \u001b[39m27\u001b[90m, \u001b[39m15\u001b[90m, \u001b[39m38\u001b[90m, \u001b[39m1\u001b[90m, \u001b[39m102\u001b[90m, \u001b[39m14\u001b[90m, \u001b[39m8\u001b[90m, \u001b[39m53\u001b[90m, \u001b[39m48\u001b[90m,\u001b[39m…\n",
      "$ MID_M   \u001b[3m\u001b[90m<int>\u001b[39m\u001b[23m 0\u001b[90m, \u001b[39m3\u001b[90m, \u001b[39m2\u001b[90m, \u001b[39m21\u001b[90m, \u001b[39m2\u001b[90m, \u001b[39m0\u001b[90m, \u001b[39m5\u001b[90m, \u001b[39m1\u001b[90m, \u001b[39m3\u001b[90m, \u001b[39m1\u001b[90m, \u001b[39m0\u001b[90m, \u001b[39m7\u001b[90m, \u001b[39m1\u001b[90m, \u001b[39m3\u001b[90m, \u001b[39m1\u001b[90m, \u001b[39m1\u001b[90m, \u001b[39m1\u001b[90m, \u001b[39m1\u001b[90m, \u001b[39m1\u001b[90m, \u001b[39m0\u001b[90m, \u001b[39m0…\n",
      "$ MID_A   \u001b[3m\u001b[90m<int>\u001b[39m\u001b[23m 0\u001b[90m, \u001b[39m10\u001b[90m, \u001b[39m3\u001b[90m, \u001b[39m52\u001b[90m, \u001b[39m6\u001b[90m, \u001b[39m2\u001b[90m, \u001b[39m10\u001b[90m, \u001b[39m5\u001b[90m, \u001b[39m5\u001b[90m, \u001b[39m6\u001b[90m, \u001b[39m0\u001b[90m, \u001b[39m27\u001b[90m, \u001b[39m1\u001b[90m, \u001b[39m5\u001b[90m, \u001b[39m2\u001b[90m, \u001b[39m7\u001b[90m, \u001b[39m3\u001b[90m, \u001b[39m2\u001b[90m, \u001b[39m6\u001b[90m, \u001b[39m0…\n",
      "$ `3C_M`  \u001b[3m\u001b[90m<int>\u001b[39m\u001b[23m 1\u001b[90m, \u001b[39m4\u001b[90m, \u001b[39m0\u001b[90m, \u001b[39m14\u001b[90m, \u001b[39m0\u001b[90m, \u001b[39m0\u001b[90m, \u001b[39m1\u001b[90m, \u001b[39m1\u001b[90m, \u001b[39m2\u001b[90m, \u001b[39m1\u001b[90m, \u001b[39m0\u001b[90m, \u001b[39m0\u001b[90m, \u001b[39m2\u001b[90m, \u001b[39m5\u001b[90m, \u001b[39m0\u001b[90m, \u001b[39m4\u001b[90m, \u001b[39m2\u001b[90m, \u001b[39m2\u001b[90m, \u001b[39m5\u001b[90m, \u001b[39m0\u001b[90m, \u001b[39m0…\n",
      "$ `3C_A`  \u001b[3m\u001b[90m<int>\u001b[39m\u001b[23m 3\u001b[90m, \u001b[39m5\u001b[90m, \u001b[39m1\u001b[90m, \u001b[39m22\u001b[90m, \u001b[39m5\u001b[90m, \u001b[39m0\u001b[90m, \u001b[39m1\u001b[90m, \u001b[39m4\u001b[90m, \u001b[39m6\u001b[90m, \u001b[39m2\u001b[90m, \u001b[39m0\u001b[90m, \u001b[39m5\u001b[90m, \u001b[39m3\u001b[90m, \u001b[39m9\u001b[90m, \u001b[39m0\u001b[90m, \u001b[39m18\u001b[90m, \u001b[39m8\u001b[90m, \u001b[39m7\u001b[90m, \u001b[39m11\u001b[90m, \u001b[39m0\u001b[90m,\u001b[39m…\n",
      "$ `3L_M`  \u001b[3m\u001b[90m<int>\u001b[39m\u001b[23m 9\u001b[90m, \u001b[39m29\u001b[90m, \u001b[39m18\u001b[90m, \u001b[39m47\u001b[90m, \u001b[39m26\u001b[90m, \u001b[39m1\u001b[90m, \u001b[39m11\u001b[90m, \u001b[39m23\u001b[90m, \u001b[39m31\u001b[90m, \u001b[39m0\u001b[90m, \u001b[39m1\u001b[90m, \u001b[39m36\u001b[90m, \u001b[39m4\u001b[90m, \u001b[39m42\u001b[90m, \u001b[39m0\u001b[90m, \u001b[39m8\u001b[90m, \u001b[39m12\u001b[90m, \u001b[39m5…\n",
      "$ `3L_A`  \u001b[3m\u001b[90m<int>\u001b[39m\u001b[23m 21\u001b[90m, \u001b[39m93\u001b[90m, \u001b[39m44\u001b[90m, \u001b[39m97\u001b[90m, \u001b[39m80\u001b[90m, \u001b[39m9\u001b[90m, \u001b[39m25\u001b[90m, \u001b[39m63\u001b[90m, \u001b[39m66\u001b[90m, \u001b[39m2\u001b[90m, \u001b[39m1\u001b[90m, \u001b[39m81\u001b[90m, \u001b[39m12\u001b[90m, \u001b[39m104\u001b[90m, \u001b[39m0\u001b[90m, \u001b[39m24\u001b[90m, \u001b[39m2…\n",
      "$ `3H_M`  \u001b[3m\u001b[90m<int>\u001b[39m\u001b[23m 0\u001b[90m, \u001b[39m0\u001b[90m, \u001b[39m0\u001b[90m, \u001b[39m0\u001b[90m, \u001b[39m0\u001b[90m, \u001b[39m0\u001b[90m, \u001b[39m0\u001b[90m, \u001b[39m0\u001b[90m, \u001b[39m0\u001b[90m, \u001b[39m0\u001b[90m, \u001b[39m0\u001b[90m, \u001b[39m0\u001b[90m, \u001b[39m0\u001b[90m, \u001b[39m0\u001b[90m, \u001b[39m0\u001b[90m, \u001b[39m0\u001b[90m, \u001b[39m0\u001b[90m, \u001b[39m0\u001b[90m, \u001b[39m0\u001b[90m, \u001b[39m0\u001b[90m, \u001b[39m0\u001b[90m,\u001b[39m…\n",
      "$ `3H_A`  \u001b[3m\u001b[90m<int>\u001b[39m\u001b[23m 0\u001b[90m, \u001b[39m1\u001b[90m, \u001b[39m0\u001b[90m, \u001b[39m0\u001b[90m, \u001b[39m3\u001b[90m, \u001b[39m0\u001b[90m, \u001b[39m0\u001b[90m, \u001b[39m2\u001b[90m, \u001b[39m1\u001b[90m, \u001b[39m1\u001b[90m, \u001b[39m0\u001b[90m, \u001b[39m0\u001b[90m, \u001b[39m0\u001b[90m, \u001b[39m2\u001b[90m, \u001b[39m0\u001b[90m, \u001b[39m0\u001b[90m, \u001b[39m0\u001b[90m, \u001b[39m1\u001b[90m, \u001b[39m0\u001b[90m, \u001b[39m0\u001b[90m, \u001b[39m0\u001b[90m,\u001b[39m…\n"
     ]
    }
   ],
   "source": [
    "glimpse(pbox_regular)"
   ]
  },
  {
   "cell_type": "code",
   "execution_count": 9,
   "id": "dd207599",
   "metadata": {
    "vscode": {
     "languageId": "r"
    }
   },
   "outputs": [
    {
     "name": "stdout",
     "output_type": "stream",
     "text": [
      "Rows: 18\n",
      "Columns: 34\n",
      "$ Team     \u001b[3m\u001b[90m<chr>\u001b[39m\u001b[23m \"ALBA\"\u001b[90m, \u001b[39m\"ASVEL\"\u001b[90m, \u001b[39m\"Barcelona\"\u001b[90m, \u001b[39m\"Baskonia\"\u001b[90m, \u001b[39m\"Bayern\"\u001b[90m, \u001b[39m\"Crvena Z…\n",
      "$ Team_Tag \u001b[3m\u001b[90m<chr>\u001b[39m\u001b[23m \"BER\"\u001b[90m, \u001b[39m\"ASV\"\u001b[90m, \u001b[39m\"FCB\"\u001b[90m, \u001b[39m\"BAS\"\u001b[90m, \u001b[39m\"BAY\"\u001b[90m, \u001b[39m\"CZB\"\u001b[90m, \u001b[39m\"EFE\"\u001b[90m, \u001b[39m\"FEN\"\u001b[90m, \u001b[39m\"MTA\"…\n",
      "$ GP       \u001b[3m\u001b[90m<int>\u001b[39m\u001b[23m 34\u001b[90m, \u001b[39m34\u001b[90m, \u001b[39m34\u001b[90m, \u001b[39m34\u001b[90m, \u001b[39m34\u001b[90m, \u001b[39m34\u001b[90m, \u001b[39m34\u001b[90m, \u001b[39m34\u001b[90m, \u001b[39m34\u001b[90m, \u001b[39m34\u001b[90m, \u001b[39m34\u001b[90m, \u001b[39m34\u001b[90m, \u001b[39m34\u001b[90m, \u001b[39m34\u001b[90m, \u001b[39m34\u001b[90m, \u001b[39m3…\n",
      "$ MIN      \u001b[3m\u001b[90m<int>\u001b[39m\u001b[23m 1360\u001b[90m, \u001b[39m1370\u001b[90m, \u001b[39m1360\u001b[90m, \u001b[39m1365\u001b[90m, \u001b[39m1385\u001b[90m, \u001b[39m1360\u001b[90m, \u001b[39m1385\u001b[90m, \u001b[39m1380\u001b[90m, \u001b[39m1365\u001b[90m, \u001b[39m1365\u001b[90m, \u001b[39m1…\n",
      "$ PTS      \u001b[3m\u001b[90m<int>\u001b[39m\u001b[23m 2591\u001b[90m, \u001b[39m2674\u001b[90m, \u001b[39m2812\u001b[90m, \u001b[39m2864\u001b[90m, \u001b[39m2674\u001b[90m, \u001b[39m2764\u001b[90m, \u001b[39m2928\u001b[90m, \u001b[39m2894\u001b[90m, \u001b[39m2983\u001b[90m, \u001b[39m2785\u001b[90m, \u001b[39m2…\n",
      "$ P2M      \u001b[3m\u001b[90m<int>\u001b[39m\u001b[23m 641\u001b[90m, \u001b[39m744\u001b[90m, \u001b[39m759\u001b[90m, \u001b[39m664\u001b[90m, \u001b[39m649\u001b[90m, \u001b[39m680\u001b[90m, \u001b[39m735\u001b[90m, \u001b[39m649\u001b[90m, \u001b[39m781\u001b[90m, \u001b[39m743\u001b[90m, \u001b[39m615\u001b[90m, \u001b[39m641\u001b[90m, \u001b[39m6…\n",
      "$ P2A      \u001b[3m\u001b[90m<int>\u001b[39m\u001b[23m 1261\u001b[90m, \u001b[39m1389\u001b[90m, \u001b[39m1352\u001b[90m, \u001b[39m1197\u001b[90m, \u001b[39m1215\u001b[90m, \u001b[39m1239\u001b[90m, \u001b[39m1309\u001b[90m, \u001b[39m1151\u001b[90m, \u001b[39m1464\u001b[90m, \u001b[39m1403\u001b[90m, \u001b[39m1…\n",
      "$ P2p      \u001b[3m\u001b[90m<dbl>\u001b[39m\u001b[23m 50.83\u001b[90m, \u001b[39m53.56\u001b[90m, \u001b[39m56.14\u001b[90m, \u001b[39m55.47\u001b[90m, \u001b[39m53.42\u001b[90m, \u001b[39m54.88\u001b[90m, \u001b[39m56.15\u001b[90m, \u001b[39m56.39\u001b[90m, \u001b[39m53.35…\n",
      "$ P3M      \u001b[3m\u001b[90m<int>\u001b[39m\u001b[23m 302\u001b[90m, \u001b[39m244\u001b[90m, \u001b[39m292\u001b[90m, \u001b[39m353\u001b[90m, \u001b[39m336\u001b[90m, \u001b[39m314\u001b[90m, \u001b[39m339\u001b[90m, \u001b[39m382\u001b[90m, \u001b[39m295\u001b[90m, \u001b[39m269\u001b[90m, \u001b[39m341\u001b[90m, \u001b[39m320\u001b[90m, \u001b[39m3…\n",
      "$ P3A      \u001b[3m\u001b[90m<int>\u001b[39m\u001b[23m 860\u001b[90m, \u001b[39m723\u001b[90m, \u001b[39m798\u001b[90m, \u001b[39m963\u001b[90m, \u001b[39m938\u001b[90m, \u001b[39m920\u001b[90m, \u001b[39m911\u001b[90m, \u001b[39m976\u001b[90m, \u001b[39m810\u001b[90m, \u001b[39m763\u001b[90m, \u001b[39m930\u001b[90m, \u001b[39m857\u001b[90m, \u001b[39m8…\n",
      "$ P3p      \u001b[3m\u001b[90m<dbl>\u001b[39m\u001b[23m 35.12\u001b[90m, \u001b[39m33.75\u001b[90m, \u001b[39m36.59\u001b[90m, \u001b[39m36.66\u001b[90m, \u001b[39m35.82\u001b[90m, \u001b[39m34.13\u001b[90m, \u001b[39m37.21\u001b[90m, \u001b[39m39.14\u001b[90m, \u001b[39m36.42…\n",
      "$ FTM      \u001b[3m\u001b[90m<int>\u001b[39m\u001b[23m 403\u001b[90m, \u001b[39m454\u001b[90m, \u001b[39m418\u001b[90m, \u001b[39m477\u001b[90m, \u001b[39m368\u001b[90m, \u001b[39m462\u001b[90m, \u001b[39m441\u001b[90m, \u001b[39m450\u001b[90m, \u001b[39m536\u001b[90m, \u001b[39m492\u001b[90m, \u001b[39m406\u001b[90m, \u001b[39m443\u001b[90m, \u001b[39m5…\n",
      "$ FTA      \u001b[3m\u001b[90m<int>\u001b[39m\u001b[23m 509\u001b[90m, \u001b[39m587\u001b[90m, \u001b[39m571\u001b[90m, \u001b[39m626\u001b[90m, \u001b[39m461\u001b[90m, \u001b[39m600\u001b[90m, \u001b[39m542\u001b[90m, \u001b[39m560\u001b[90m, \u001b[39m687\u001b[90m, \u001b[39m664\u001b[90m, \u001b[39m523\u001b[90m, \u001b[39m596\u001b[90m, \u001b[39m6…\n",
      "$ FTp      \u001b[3m\u001b[90m<dbl>\u001b[39m\u001b[23m 79.17\u001b[90m, \u001b[39m77.34\u001b[90m, \u001b[39m73.20\u001b[90m, \u001b[39m76.20\u001b[90m, \u001b[39m79.83\u001b[90m, \u001b[39m77.00\u001b[90m, \u001b[39m81.37\u001b[90m, \u001b[39m80.36\u001b[90m, \u001b[39m78.02…\n",
      "$ OREB     \u001b[3m\u001b[90m<int>\u001b[39m\u001b[23m 368\u001b[90m, \u001b[39m350\u001b[90m, \u001b[39m384\u001b[90m, \u001b[39m351\u001b[90m, \u001b[39m364\u001b[90m, \u001b[39m403\u001b[90m, \u001b[39m345\u001b[90m, \u001b[39m344\u001b[90m, \u001b[39m443\u001b[90m, \u001b[39m383\u001b[90m, \u001b[39m302\u001b[90m, \u001b[39m320\u001b[90m, \u001b[39m3…\n",
      "$ DREB     \u001b[3m\u001b[90m<int>\u001b[39m\u001b[23m 735\u001b[90m, \u001b[39m805\u001b[90m, \u001b[39m840\u001b[90m, \u001b[39m847\u001b[90m, \u001b[39m840\u001b[90m, \u001b[39m777\u001b[90m, \u001b[39m754\u001b[90m, \u001b[39m790\u001b[90m, \u001b[39m782\u001b[90m, \u001b[39m782\u001b[90m, \u001b[39m791\u001b[90m, \u001b[39m777\u001b[90m, \u001b[39m8…\n",
      "$ AST      \u001b[3m\u001b[90m<int>\u001b[39m\u001b[23m 560\u001b[90m, \u001b[39m605\u001b[90m, \u001b[39m659\u001b[90m, \u001b[39m640\u001b[90m, \u001b[39m547\u001b[90m, \u001b[39m629\u001b[90m, \u001b[39m610\u001b[90m, \u001b[39m616\u001b[90m, \u001b[39m666\u001b[90m, \u001b[39m547\u001b[90m, \u001b[39m554\u001b[90m, \u001b[39m657\u001b[90m, \u001b[39m5…\n",
      "$ TOV      \u001b[3m\u001b[90m<int>\u001b[39m\u001b[23m 513\u001b[90m, \u001b[39m440\u001b[90m, \u001b[39m433\u001b[90m, \u001b[39m423\u001b[90m, \u001b[39m443\u001b[90m, \u001b[39m411\u001b[90m, \u001b[39m351\u001b[90m, \u001b[39m408\u001b[90m, \u001b[39m418\u001b[90m, \u001b[39m340\u001b[90m, \u001b[39m423\u001b[90m, \u001b[39m386\u001b[90m, \u001b[39m4…\n",
      "$ STL      \u001b[3m\u001b[90m<int>\u001b[39m\u001b[23m 238\u001b[90m, \u001b[39m205\u001b[90m, \u001b[39m210\u001b[90m, \u001b[39m185\u001b[90m, \u001b[39m206\u001b[90m, \u001b[39m224\u001b[90m, \u001b[39m237\u001b[90m, \u001b[39m196\u001b[90m, \u001b[39m249\u001b[90m, \u001b[39m236\u001b[90m, \u001b[39m238\u001b[90m, \u001b[39m238\u001b[90m, \u001b[39m2…\n",
      "$ BLK      \u001b[3m\u001b[90m<int>\u001b[39m\u001b[23m 73\u001b[90m, \u001b[39m55\u001b[90m, \u001b[39m83\u001b[90m, \u001b[39m79\u001b[90m, \u001b[39m89\u001b[90m, \u001b[39m84\u001b[90m, \u001b[39m105\u001b[90m, \u001b[39m82\u001b[90m, \u001b[39m106\u001b[90m, \u001b[39m61\u001b[90m, \u001b[39m72\u001b[90m, \u001b[39m96\u001b[90m, \u001b[39m92\u001b[90m, \u001b[39m79\u001b[90m, \u001b[39m119…\n",
      "$ PF       \u001b[3m\u001b[90m<int>\u001b[39m\u001b[23m 623\u001b[90m, \u001b[39m626\u001b[90m, \u001b[39m666\u001b[90m, \u001b[39m621\u001b[90m, \u001b[39m702\u001b[90m, \u001b[39m733\u001b[90m, \u001b[39m629\u001b[90m, \u001b[39m734\u001b[90m, \u001b[39m684\u001b[90m, \u001b[39m662\u001b[90m, \u001b[39m665\u001b[90m, \u001b[39m636\u001b[90m, \u001b[39m5…\n",
      "$ PM       \u001b[3m\u001b[90m<int>\u001b[39m\u001b[23m -353\u001b[90m, \u001b[39m-214\u001b[90m, \u001b[39m120\u001b[90m, \u001b[39m-21\u001b[90m, \u001b[39m-116\u001b[90m, \u001b[39m-52\u001b[90m, \u001b[39m16\u001b[90m, \u001b[39m143\u001b[90m, \u001b[39m35\u001b[90m, \u001b[39m97\u001b[90m, \u001b[39m4\u001b[90m, \u001b[39m134\u001b[90m, \u001b[39m152…\n",
      "$ RIM_M    \u001b[3m\u001b[90m<int>\u001b[39m\u001b[23m 290\u001b[90m, \u001b[39m320\u001b[90m, \u001b[39m250\u001b[90m, \u001b[39m266\u001b[90m, \u001b[39m222\u001b[90m, \u001b[39m257\u001b[90m, \u001b[39m320\u001b[90m, \u001b[39m280\u001b[90m, \u001b[39m286\u001b[90m, \u001b[39m219\u001b[90m, \u001b[39m296\u001b[90m, \u001b[39m339\u001b[90m, \u001b[39m3…\n",
      "$ RIM_A    \u001b[3m\u001b[90m<int>\u001b[39m\u001b[23m 408\u001b[90m, \u001b[39m453\u001b[90m, \u001b[39m320\u001b[90m, \u001b[39m325\u001b[90m, \u001b[39m294\u001b[90m, \u001b[39m329\u001b[90m, \u001b[39m410\u001b[90m, \u001b[39m352\u001b[90m, \u001b[39m364\u001b[90m, \u001b[39m288\u001b[90m, \u001b[39m376\u001b[90m, \u001b[39m429\u001b[90m, \u001b[39m4…\n",
      "$ PAINT_M  \u001b[3m\u001b[90m<int>\u001b[39m\u001b[23m 252\u001b[90m, \u001b[39m306\u001b[90m, \u001b[39m401\u001b[90m, \u001b[39m317\u001b[90m, \u001b[39m293\u001b[90m, \u001b[39m382\u001b[90m, \u001b[39m328\u001b[90m, \u001b[39m284\u001b[90m, \u001b[39m376\u001b[90m, \u001b[39m389\u001b[90m, \u001b[39m221\u001b[90m, \u001b[39m237\u001b[90m, \u001b[39m2…\n",
      "$ PAINT_A  \u001b[3m\u001b[90m<int>\u001b[39m\u001b[23m 597\u001b[90m, \u001b[39m663\u001b[90m, \u001b[39m786\u001b[90m, \u001b[39m664\u001b[90m, \u001b[39m608\u001b[90m, \u001b[39m775\u001b[90m, \u001b[39m673\u001b[90m, \u001b[39m588\u001b[90m, \u001b[39m806\u001b[90m, \u001b[39m774\u001b[90m, \u001b[39m478\u001b[90m, \u001b[39m547\u001b[90m, \u001b[39m5…\n",
      "$ MID_M    \u001b[3m\u001b[90m<int>\u001b[39m\u001b[23m 99\u001b[90m, \u001b[39m118\u001b[90m, \u001b[39m108\u001b[90m, \u001b[39m81\u001b[90m, \u001b[39m134\u001b[90m, \u001b[39m41\u001b[90m, \u001b[39m87\u001b[90m, \u001b[39m85\u001b[90m, \u001b[39m119\u001b[90m, \u001b[39m134\u001b[90m, \u001b[39m98\u001b[90m, \u001b[39m65\u001b[90m, \u001b[39m102\u001b[90m, \u001b[39m130…\n",
      "$ MID_A    \u001b[3m\u001b[90m<int>\u001b[39m\u001b[23m 256\u001b[90m, \u001b[39m273\u001b[90m, \u001b[39m246\u001b[90m, \u001b[39m208\u001b[90m, \u001b[39m313\u001b[90m, \u001b[39m135\u001b[90m, \u001b[39m226\u001b[90m, \u001b[39m211\u001b[90m, \u001b[39m294\u001b[90m, \u001b[39m340\u001b[90m, \u001b[39m262\u001b[90m, \u001b[39m176\u001b[90m, \u001b[39m2…\n",
      "$ `3C_M`   \u001b[3m\u001b[90m<int>\u001b[39m\u001b[23m 46\u001b[90m, \u001b[39m51\u001b[90m, \u001b[39m37\u001b[90m, \u001b[39m37\u001b[90m, \u001b[39m49\u001b[90m, \u001b[39m48\u001b[90m, \u001b[39m65\u001b[90m, \u001b[39m60\u001b[90m, \u001b[39m46\u001b[90m, \u001b[39m10\u001b[90m, \u001b[39m40\u001b[90m, \u001b[39m68\u001b[90m, \u001b[39m57\u001b[90m, \u001b[39m37\u001b[90m, \u001b[39m35\u001b[90m, \u001b[39m4…\n",
      "$ `3C_A`   \u001b[3m\u001b[90m<int>\u001b[39m\u001b[23m 98\u001b[90m, \u001b[39m115\u001b[90m, \u001b[39m84\u001b[90m, \u001b[39m70\u001b[90m, \u001b[39m125\u001b[90m, \u001b[39m120\u001b[90m, \u001b[39m139\u001b[90m, \u001b[39m134\u001b[90m, \u001b[39m113\u001b[90m, \u001b[39m33\u001b[90m, \u001b[39m100\u001b[90m, \u001b[39m152\u001b[90m, \u001b[39m117\u001b[90m, \u001b[39m…\n",
      "$ `3L_M`   \u001b[3m\u001b[90m<int>\u001b[39m\u001b[23m 256\u001b[90m, \u001b[39m192\u001b[90m, \u001b[39m255\u001b[90m, \u001b[39m316\u001b[90m, \u001b[39m287\u001b[90m, \u001b[39m266\u001b[90m, \u001b[39m273\u001b[90m, \u001b[39m321\u001b[90m, \u001b[39m248\u001b[90m, \u001b[39m259\u001b[90m, \u001b[39m301\u001b[90m, \u001b[39m252\u001b[90m, \u001b[39m2…\n",
      "$ `3L_A`   \u001b[3m\u001b[90m<int>\u001b[39m\u001b[23m 755\u001b[90m, \u001b[39m601\u001b[90m, \u001b[39m708\u001b[90m, \u001b[39m882\u001b[90m, \u001b[39m802\u001b[90m, \u001b[39m794\u001b[90m, \u001b[39m770\u001b[90m, \u001b[39m832\u001b[90m, \u001b[39m685\u001b[90m, \u001b[39m726\u001b[90m, \u001b[39m821\u001b[90m, \u001b[39m698\u001b[90m, \u001b[39m6…\n",
      "$ `3H_M`   \u001b[3m\u001b[90m<int>\u001b[39m\u001b[23m 0\u001b[90m, \u001b[39m1\u001b[90m, \u001b[39m0\u001b[90m, \u001b[39m0\u001b[90m, \u001b[39m0\u001b[90m, \u001b[39m0\u001b[90m, \u001b[39m1\u001b[90m, \u001b[39m0\u001b[90m, \u001b[39m1\u001b[90m, \u001b[39m0\u001b[90m, \u001b[39m0\u001b[90m, \u001b[39m0\u001b[90m, \u001b[39m0\u001b[90m, \u001b[39m0\u001b[90m, \u001b[39m0\u001b[90m, \u001b[39m0\u001b[90m, \u001b[39m0\u001b[90m, \u001b[39m0\n",
      "$ `3H_A`   \u001b[3m\u001b[90m<int>\u001b[39m\u001b[23m 4\u001b[90m, \u001b[39m7\u001b[90m, \u001b[39m5\u001b[90m, \u001b[39m10\u001b[90m, \u001b[39m11\u001b[90m, \u001b[39m5\u001b[90m, \u001b[39m2\u001b[90m, \u001b[39m9\u001b[90m, \u001b[39m11\u001b[90m, \u001b[39m3\u001b[90m, \u001b[39m9\u001b[90m, \u001b[39m7\u001b[90m, \u001b[39m6\u001b[90m, \u001b[39m7\u001b[90m, \u001b[39m8\u001b[90m, \u001b[39m7\u001b[90m, \u001b[39m10\u001b[90m, \u001b[39m8\n"
     ]
    }
   ],
   "source": [
    "glimpse(tbox_regular)"
   ]
  },
  {
   "cell_type": "markdown",
   "id": "bda4a0f0",
   "metadata": {},
   "source": [
    "Four factor plot"
   ]
  },
  {
   "cell_type": "code",
   "execution_count": 10,
   "id": "35ea2c53",
   "metadata": {
    "vscode": {
     "languageId": "r"
    }
   },
   "outputs": [
    {
     "name": "stdout",
     "output_type": "stream",
     "text": [
      "               Team POSS.Off POSS.Def PACE.Off PACE.Def   ORtg   DRtg F1.Off\n",
      "1              ALBA  2489.96  2494.28 1.830853 1.834029 104.06 118.03  51.58\n",
      "2             ASVEL  2460.28  2461.60 1.795825 1.796788 108.69 117.32  52.56\n",
      "3         Barcelona  2450.24  2461.28 1.801647 1.809765 114.76 109.37  55.67\n",
      "4          Baskonia  2507.44  2494.00 1.836952 1.827106 114.22 115.68  55.25\n",
      "5            Bayern  2434.84  2461.00 1.758007 1.776895 109.82 113.37  53.55\n",
      "6     Crvena Zvezda  2431.00  2422.72 1.787500 1.781412 113.70 116.23  53.31\n",
      "7              Efes  2464.48  2464.28 1.779408 1.779264 118.81 118.17  56.01\n",
      "8        Fenerbahce  2437.40  2440.24 1.766232 1.768290 118.73 112.73  57.45\n",
      "9  Maccabi Tel Aviv  2551.28  2559.68 1.869070 1.875223 116.92 115.17  53.80\n",
      "10           Monaco  2415.16  2405.40 1.769348 1.762198 115.31 111.75  52.93\n",
      "11    Olimpia Milan  2397.12  2389.48 1.749723 1.744146 110.92 111.11  55.06\n",
      "12       Olympiacos  2337.24  2336.40 1.699811 1.699200 114.88 109.19  55.80\n",
      "13    Panathinaikos  2433.12  2429.08 1.769542 1.766604 114.01 107.94  55.54\n",
      "14         Partizan  2420.16  2419.20 1.760116 1.759418 116.60 117.27  56.92\n",
      "15      Real Madrid  2538.04  2539.24 1.825928 1.826791 118.16 108.02  56.79\n",
      "16         Valencia  2447.64  2455.68 1.793143 1.799033 105.49 109.54  51.21\n",
      "17   Virtus Bologna  2455.20  2440.48 1.805294 1.794471 111.11 114.90  54.27\n",
      "18         Zalgiris  2391.60  2388.16 1.752088 1.749568 112.98 113.23  55.25\n",
      "   F2.Off F3.Off F4.Off F1.Def F2.Def F3.Def F4.Def\n",
      "1   20.60  30.69  19.00  58.09  18.12  66.28  19.55\n",
      "2   17.88  30.07  21.50  56.35  15.97  69.46  20.15\n",
      "3   17.67  33.33  19.44  52.53  16.90  69.48  18.55\n",
      "4   16.87  29.67  22.08  54.55  14.68  70.35  19.53\n",
      "5   18.19  31.01  17.09  54.01  15.08  73.23  23.47\n",
      "6   16.91  33.53  21.40  55.86  17.13  68.70  23.59\n",
      "7   14.24  29.74  19.86  57.27  16.84  68.36  21.54\n",
      "8   16.74  31.02  21.16  53.48  16.80  69.12  24.11\n",
      "9   16.38  35.67  23.57  56.27  18.01  67.59  21.45\n",
      "10  14.08  32.08  22.71  54.94  19.08  68.84  20.98\n",
      "11  17.65  27.21  19.84  54.57  17.95  71.58  21.98\n",
      "12  16.52  29.44  22.05  53.29  18.40  70.25  19.58\n",
      "13  17.80  30.31  24.84  53.01  18.90  68.75  17.48\n",
      "14  17.48  29.64  24.69  56.03  17.57  67.36  25.33\n",
      "15  16.63  29.99  25.39  50.45  15.56  69.45  16.87\n",
      "16  18.92  29.56  22.73  53.02  17.75  70.95  23.79\n",
      "17  16.74  27.71  20.82  55.24  16.88  69.88  25.57\n",
      "18  17.90  30.09  20.16  54.12  17.80  68.58  25.89\n"
     ]
    }
   ],
   "source": [
    "print(fourfactors(tbox_regular, obox_regular))"
   ]
  },
  {
   "cell_type": "code",
   "execution_count": 11,
   "id": "9c07cc70",
   "metadata": {
    "vscode": {
     "languageId": "r"
    }
   },
   "outputs": [
    {
     "data": {
      "text/html": [
       "<table class=\"dataframe\">\n",
       "<caption>A fourfactors: 5 × 15</caption>\n",
       "<thead>\n",
       "\t<tr><th></th><th scope=col>Team</th><th scope=col>POSS.Off</th><th scope=col>POSS.Def</th><th scope=col>PACE.Off</th><th scope=col>PACE.Def</th><th scope=col>ORtg</th><th scope=col>DRtg</th><th scope=col>F1.Off</th><th scope=col>F2.Off</th><th scope=col>F3.Off</th><th scope=col>F4.Off</th><th scope=col>F1.Def</th><th scope=col>F2.Def</th><th scope=col>F3.Def</th><th scope=col>F4.Def</th></tr>\n",
       "\t<tr><th></th><th scope=col>&lt;chr&gt;</th><th scope=col>&lt;dbl&gt;</th><th scope=col>&lt;dbl&gt;</th><th scope=col>&lt;dbl&gt;</th><th scope=col>&lt;dbl&gt;</th><th scope=col>&lt;dbl&gt;</th><th scope=col>&lt;dbl&gt;</th><th scope=col>&lt;dbl&gt;</th><th scope=col>&lt;dbl&gt;</th><th scope=col>&lt;dbl&gt;</th><th scope=col>&lt;dbl&gt;</th><th scope=col>&lt;dbl&gt;</th><th scope=col>&lt;dbl&gt;</th><th scope=col>&lt;dbl&gt;</th><th scope=col>&lt;dbl&gt;</th></tr>\n",
       "</thead>\n",
       "<tbody>\n",
       "\t<tr><th scope=row>1</th><td>Maccabi Tel Aviv</td><td>2551.28</td><td>2559.68</td><td>1.869070</td><td>1.875223</td><td>116.92</td><td>115.17</td><td>53.80</td><td>16.38</td><td>35.67</td><td>23.57</td><td>56.27</td><td>18.01</td><td>67.59</td><td>21.45</td></tr>\n",
       "\t<tr><th scope=row>2</th><td>Olympiacos      </td><td>2337.24</td><td>2336.40</td><td>1.699811</td><td>1.699200</td><td>114.88</td><td>109.19</td><td>55.80</td><td>16.52</td><td>29.44</td><td>22.05</td><td>53.29</td><td>18.40</td><td>70.25</td><td>19.58</td></tr>\n",
       "\t<tr><th scope=row>3</th><td>Panathinaikos   </td><td>2433.12</td><td>2429.08</td><td>1.769542</td><td>1.766604</td><td>114.01</td><td>107.94</td><td>55.54</td><td>17.80</td><td>30.31</td><td>24.84</td><td>53.01</td><td>18.90</td><td>68.75</td><td>17.48</td></tr>\n",
       "\t<tr><th scope=row>4</th><td>Partizan        </td><td>2420.16</td><td>2419.20</td><td>1.760116</td><td>1.759418</td><td>116.60</td><td>117.27</td><td>56.92</td><td>17.48</td><td>29.64</td><td>24.69</td><td>56.03</td><td>17.57</td><td>67.36</td><td>25.33</td></tr>\n",
       "\t<tr><th scope=row>5</th><td>Real Madrid     </td><td>2538.04</td><td>2539.24</td><td>1.825928</td><td>1.826791</td><td>118.16</td><td>108.02</td><td>56.79</td><td>16.63</td><td>29.99</td><td>25.39</td><td>50.45</td><td>15.56</td><td>69.45</td><td>16.87</td></tr>\n",
       "</tbody>\n",
       "</table>\n"
      ],
      "text/latex": [
       "A fourfactors: 5 × 15\n",
       "\\begin{tabular}{r|lllllllllllllll}\n",
       "  & Team & POSS.Off & POSS.Def & PACE.Off & PACE.Def & ORtg & DRtg & F1.Off & F2.Off & F3.Off & F4.Off & F1.Def & F2.Def & F3.Def & F4.Def\\\\\n",
       "  & <chr> & <dbl> & <dbl> & <dbl> & <dbl> & <dbl> & <dbl> & <dbl> & <dbl> & <dbl> & <dbl> & <dbl> & <dbl> & <dbl> & <dbl>\\\\\n",
       "\\hline\n",
       "\t1 & Maccabi Tel Aviv & 2551.28 & 2559.68 & 1.869070 & 1.875223 & 116.92 & 115.17 & 53.80 & 16.38 & 35.67 & 23.57 & 56.27 & 18.01 & 67.59 & 21.45\\\\\n",
       "\t2 & Olympiacos       & 2337.24 & 2336.40 & 1.699811 & 1.699200 & 114.88 & 109.19 & 55.80 & 16.52 & 29.44 & 22.05 & 53.29 & 18.40 & 70.25 & 19.58\\\\\n",
       "\t3 & Panathinaikos    & 2433.12 & 2429.08 & 1.769542 & 1.766604 & 114.01 & 107.94 & 55.54 & 17.80 & 30.31 & 24.84 & 53.01 & 18.90 & 68.75 & 17.48\\\\\n",
       "\t4 & Partizan         & 2420.16 & 2419.20 & 1.760116 & 1.759418 & 116.60 & 117.27 & 56.92 & 17.48 & 29.64 & 24.69 & 56.03 & 17.57 & 67.36 & 25.33\\\\\n",
       "\t5 & Real Madrid      & 2538.04 & 2539.24 & 1.825928 & 1.826791 & 118.16 & 108.02 & 56.79 & 16.63 & 29.99 & 25.39 & 50.45 & 15.56 & 69.45 & 16.87\\\\\n",
       "\\end{tabular}\n"
      ],
      "text/markdown": [
       "\n",
       "A fourfactors: 5 × 15\n",
       "\n",
       "| <!--/--> | Team &lt;chr&gt; | POSS.Off &lt;dbl&gt; | POSS.Def &lt;dbl&gt; | PACE.Off &lt;dbl&gt; | PACE.Def &lt;dbl&gt; | ORtg &lt;dbl&gt; | DRtg &lt;dbl&gt; | F1.Off &lt;dbl&gt; | F2.Off &lt;dbl&gt; | F3.Off &lt;dbl&gt; | F4.Off &lt;dbl&gt; | F1.Def &lt;dbl&gt; | F2.Def &lt;dbl&gt; | F3.Def &lt;dbl&gt; | F4.Def &lt;dbl&gt; |\n",
       "|---|---|---|---|---|---|---|---|---|---|---|---|---|---|---|---|\n",
       "| 1 | Maccabi Tel Aviv | 2551.28 | 2559.68 | 1.869070 | 1.875223 | 116.92 | 115.17 | 53.80 | 16.38 | 35.67 | 23.57 | 56.27 | 18.01 | 67.59 | 21.45 |\n",
       "| 2 | Olympiacos       | 2337.24 | 2336.40 | 1.699811 | 1.699200 | 114.88 | 109.19 | 55.80 | 16.52 | 29.44 | 22.05 | 53.29 | 18.40 | 70.25 | 19.58 |\n",
       "| 3 | Panathinaikos    | 2433.12 | 2429.08 | 1.769542 | 1.766604 | 114.01 | 107.94 | 55.54 | 17.80 | 30.31 | 24.84 | 53.01 | 18.90 | 68.75 | 17.48 |\n",
       "| 4 | Partizan         | 2420.16 | 2419.20 | 1.760116 | 1.759418 | 116.60 | 117.27 | 56.92 | 17.48 | 29.64 | 24.69 | 56.03 | 17.57 | 67.36 | 25.33 |\n",
       "| 5 | Real Madrid      | 2538.04 | 2539.24 | 1.825928 | 1.826791 | 118.16 | 108.02 | 56.79 | 16.63 | 29.99 | 25.39 | 50.45 | 15.56 | 69.45 | 16.87 |\n",
       "\n"
      ],
      "text/plain": [
       "  Team             POSS.Off POSS.Def PACE.Off PACE.Def ORtg   DRtg   F1.Off\n",
       "1 Maccabi Tel Aviv 2551.28  2559.68  1.869070 1.875223 116.92 115.17 53.80 \n",
       "2 Olympiacos       2337.24  2336.40  1.699811 1.699200 114.88 109.19 55.80 \n",
       "3 Panathinaikos    2433.12  2429.08  1.769542 1.766604 114.01 107.94 55.54 \n",
       "4 Partizan         2420.16  2419.20  1.760116 1.759418 116.60 117.27 56.92 \n",
       "5 Real Madrid      2538.04  2539.24  1.825928 1.826791 118.16 108.02 56.79 \n",
       "  F2.Off F3.Off F4.Off F1.Def F2.Def F3.Def F4.Def\n",
       "1 16.38  35.67  23.57  56.27  18.01  67.59  21.45 \n",
       "2 16.52  29.44  22.05  53.29  18.40  70.25  19.58 \n",
       "3 17.80  30.31  24.84  53.01  18.90  68.75  17.48 \n",
       "4 17.48  29.64  24.69  56.03  17.57  67.36  25.33 \n",
       "5 16.63  29.99  25.39  50.45  15.56  69.45  16.87 "
      ]
     },
     "metadata": {},
     "output_type": "display_data"
    }
   ],
   "source": [
    "tm <- c(\"PAN\",\"RMB\",\"OLY\",\"MTA\", \"PAR\")\n",
    "selTeams <- which(tbox_regular$Team_Tag %in% tm)\n",
    "FF.sel <- fourfactors(tbox_regular[selTeams,], obox_regular[selTeams,])\n",
    "head(FF.sel)"
   ]
  },
  {
   "cell_type": "code",
   "execution_count": null,
   "id": "0643c715",
   "metadata": {
    "vscode": {
     "languageId": "r"
    }
   },
   "outputs": [
    {
     "data": {
      "image/png": "[encoded data removed]",
      "text/plain": [
       "plot without title"
      ]
     },
     "metadata": {
      "image/png": {
       "height": 420,
       "width": 420
      }
     },
     "output_type": "display_data"
    }
   ],
   "source": [
    "plots <- plot(FF.sel)\n",
    "\n",
    "p_comb1 <- patchwork::wrap_plots(plots[1:2], ncol = 1)\n",
    "if (!dir.exists(\"plots\")) dir.create(\"plots\")\n",
    "ggsave(\"plots/FF1.png\", p_comb1, width = 7, height = 7, dpi = 300)\n",
    "\n",
    "p_comb2 <- patchwork::wrap_plots(plots[3:4], ncol = 1)\n",
    "ggsave(\"plots/FF2.png\", p_comb2, width = 7, height = 7, dpi = 300)\n",
    "\n",
    "browseURL(file.path(getwd(), \"plots\", \"FF1.png\"))\n",
    "browseURL(file.path(getwd(), \"plots\", \"FF2.png\"))"
   ]
  },
  {
   "cell_type": "markdown",
   "id": "06302d3e",
   "metadata": {},
   "source": [
    "1. Wykresy ofensywne (Offensive Four Factors)\n",
    "\n",
    "eFG% (Effective Field Goal Percentage) – im wyższy, tym lepiej. Drużyna rzuca skuteczniej niż średnia porównywanych zespołów.\n",
    "\n",
    "TO Ratio (Turnover Ratio) – tutaj jest odwrotnie: wysoka wartość oznacza więcej strat na posiadanie, więc niski wynik jest korzystniejszy.\n",
    "\n",
    "REB% (Offensive Rebound Percentage) – wysoka wartość oznacza, że drużyna zbiera sporo piłek w ataku → to plus.\n",
    "\n",
    "FT Rate (Free Throw Rate) – im wyższy, tym częściej drużyna wymusza faule i chodzi na linię rzutów wolnych → to też plus.\n",
    "\n",
    "Czyli w sekcji Offensive: wysokość słupka oznacza przewagę drużyny nad średnią w danym aspekcie. Ale trzeba pamiętać, że dla TO Ratio im niżej, tym lepiej.\n",
    "\n",
    "2. Wykresy defensywne (Defensive Four Factors)\n",
    "\n",
    "Tutaj patrzymy z perspektywy obrony: czy zespół potrafi ograniczyć przeciwników.\n",
    "\n",
    "eFG% (Def) – im niżej, tym lepiej, bo przeciwnicy rzucają mniej skutecznie. Wysoka wartość oznacza, że drużyna pozwala rywalom trafiać z dobrą skutecznością → to źle.\n",
    "\n",
    "TO Ratio (Def) – im wyżej, tym lepiej, bo drużyna wymusza więcej strat rywali.\n",
    "\n",
    "REB% (Def) – wysoka wartość oznacza, że rywale łapią dużo zbiórek w ataku, więc tu im niżej, tym lepiej (drużyna dobrze domyka deskę).\n",
    "\n",
    "FT Rate (Def) – im wyżej, tym gorzej, bo oznacza, że rywale często chodzą na linię. Lepiej, gdy wartość jest niska."
   ]
  },
  {
   "cell_type": "code",
   "execution_count": 13,
   "id": "91252429",
   "metadata": {
    "vscode": {
     "languageId": "r"
    }
   },
   "outputs": [
    {
     "name": "stderr",
     "output_type": "stream",
     "text": [
      "\n",
      "Dołączanie pakietu: 'gridExtra'\n",
      "\n",
      "\n",
      "Następujący obiekt został zakryty z 'package:dplyr':\n",
      "\n",
      "    combine\n",
      "\n",
      "\n"
     ]
    },
    {
     "data": {
      "image/png": "[encoded data removed]",
      "text/plain": [
       "plot without title"
      ]
     },
     "metadata": {
      "image/png": {
       "height": 420,
       "width": 420
      }
     },
     "output_type": "display_data"
    }
   ],
   "source": [
    "library(gridExtra)\n",
    "\n",
    "FF <- fourfactors(tbox_regular, obox_regular)\n",
    "\n",
    "\n",
    "p_comb <- grid.arrange(grobs = plots[1:2], ncol = 1)\n",
    "\n",
    "ggsave(\"plots/fourfactors_panels.png\", p_comb, width = 12, height = 10, dpi = 300)\n",
    "browseURL(file.path(getwd(), \"plots\", \"fourfactors_panels.png\"))"
   ]
  },
  {
   "cell_type": "markdown",
   "id": "96b56eb9",
   "metadata": {},
   "source": [
    "Bar plots"
   ]
  },
  {
   "cell_type": "code",
   "execution_count": 14,
   "id": "0bf66916",
   "metadata": {
    "vscode": {
     "languageId": "r"
    }
   },
   "outputs": [
    {
     "name": "stdout",
     "output_type": "stream",
     "text": [
      "               Team Team_Tag GP  MIN  PTS P2M  P2A   P2p P3M P3A   P3p FTM FTA\n",
      "1              ALBA      BER 34 1360 2591 641 1261 50.83 302 860 35.12 403 509\n",
      "2             ASVEL      ASV 34 1370 2674 744 1389 53.56 244 723 33.75 454 587\n",
      "3         Barcelona      FCB 34 1360 2812 759 1352 56.14 292 798 36.59 418 571\n",
      "4          Baskonia      BAS 34 1365 2864 664 1197 55.47 353 963 36.66 477 626\n",
      "5            Bayern      BAY 34 1385 2674 649 1215 53.42 336 938 35.82 368 461\n",
      "6     Crvena Zvezda      CZB 34 1360 2764 680 1239 54.88 314 920 34.13 462 600\n",
      "7              Efes      EFE 34 1385 2928 735 1309 56.15 339 911 37.21 441 542\n",
      "8        Fenerbahce      FEN 34 1380 2894 649 1151 56.39 382 976 39.14 450 560\n",
      "9  Maccabi Tel Aviv      MTA 34 1365 2983 781 1464 53.35 295 810 36.42 536 687\n",
      "10           Monaco      ASM 34 1365 2785 743 1403 52.96 269 763 35.26 492 664\n",
      "11    Olimpia Milan      MIL 34 1370 2659 615 1116 55.11 341 930 36.67 406 523\n",
      "12       Olympiacos      OLY 34 1375 2685 641 1152 55.64 320 857 37.34 443 596\n",
      "13    Panathinaikos      PAN 34 1375 2774 676 1240 54.52 305 801 38.08 507 673\n",
      "14         Partizan      PAR 34 1375 2822 750 1282 58.50 273 755 36.16 503 614\n",
      "15      Real Madrid      RMB 34 1390 2999 711 1240 57.34 343 918 37.36 548 666\n",
      "16         Valencia      VAL 34 1365 2582 686 1309 52.41 247 754 32.76 469 606\n",
      "17   Virtus Bologna      VIR 34 1360 2728 666 1227 54.28 319 882 36.17 439 580\n",
      "18         Zalgiris      ZAL 34 1365 2702 646 1217 53.08 331 851 38.90 417 515\n",
      "     FTp OREB DREB AST TOV STL BLK  PF   PM RIM_M RIM_A PAINT_M PAINT_A MID_M\n",
      "1  79.17  368  735 560 513 238  73 623 -353   290   408     252     597    99\n",
      "2  77.34  350  805 605 440 205  55 626 -214   320   453     306     663   118\n",
      "3  73.20  384  840 659 433 210  83 666  120   250   320     401     786   108\n",
      "4  76.20  351  847 640 423 185  79 621  -21   266   325     317     664    81\n",
      "5  79.83  364  840 547 443 206  89 702 -116   222   294     293     608   134\n",
      "6  77.00  403  777 629 411 224  84 733  -52   257   329     382     775    41\n",
      "7  81.37  345  754 610 351 237 105 629   16   320   410     328     673    87\n",
      "8  80.36  344  790 616 408 196  82 734  143   280   352     284     588    85\n",
      "9  78.02  443  782 666 418 249 106 684   35   286   364     376     806   119\n",
      "10 74.10  383  782 547 340 236  61 662   97   219   288     389     774   134\n",
      "11 77.63  302  791 554 423 238  72 665    4   296   376     221     478    98\n",
      "12 74.33  320  777 657 386 238  96 636  134   339   429     237     547    65\n",
      "13 75.33  337  803 562 433 244  92 598  152   316   417     258     581   102\n",
      "14 81.92  310  741 514 423 223  79 716  -15   312   383     308     602   130\n",
      "15 82.28  335  916 696 422 215 119 641  256   270   326     378     765    63\n",
      "16 77.39  345  823 550 463 220  62 719 -106   353   495     229     543   104\n",
      "17 75.69  320  782 640 411 224  85 736  -76   248   307     343     671    75\n",
      "18 80.97  331  753 532 428 221  59 720   -2   303   408     273     614    70\n",
      "   MID_A X3C_M X3C_A X3L_M X3L_A X3H_M X3H_A PTS.O TOV.O\n",
      "1    256    46    98   256   755     0     4  2944   452\n",
      "2    273    51   115   192   601     1     7  2888   393\n",
      "3    246    37    84   255   708     0     5  2692   416\n",
      "4    208    37    70   316   882     0    10  2885   366\n",
      "5    313    49   125   287   802     0    11  2790   371\n",
      "6    135    48   120   266   794     0     5  2816   415\n",
      "7    226    65   139   273   770     1     2  2912   415\n",
      "8    211    60   134   321   832     0     9  2751   410\n",
      "9    294    46   113   248   685     1    11  2948   461\n",
      "10   340    10    33   259   726     0     3  2688   459\n",
      "11   262    40   100   301   821     0     9  2655   429\n",
      "12   176    68   152   252   698     0     7  2551   430\n",
      "13   242    57   117   248   678     0     6  2622   459\n",
      "14   297    37    92   236   656     0     7  2837   425\n",
      "15   149    35    68   308   842     0     8  2743   395\n",
      "16   271    45   121   202   626     0     7  2690   436\n",
      "17   249    31    66   288   806     0    10  2804   412\n",
      "18   195    39   103   292   740     0     8  2704   425\n"
     ]
    },
    {
     "data": {
      "image/png": "[encoded data removed]",
      "text/plain": [
       "plot without title"
      ]
     },
     "metadata": {
      "image/png": {
       "height": 420,
       "width": 420
      }
     },
     "output_type": "display_data"
    }
   ],
   "source": [
    "X <- data.frame(\n",
    "  tbox_regular,\n",
    "  PTS.O = obox_regular$PTS,\n",
    "  TOV.O = obox_regular$TOV\n",
    ")\n",
    "print(X)\n",
    "\n",
    "labs <- c(\"Steals\", \"Blocks\", \"Defensive Rebounds\")\n",
    "\n",
    "barline(\n",
    "  data = X,\n",
    "  id = \"Team\",\n",
    "  bars = c(\"STL\", \"BLK\", \"DREB\"),\n",
    "  line = \"TOV.O\",\n",
    "  order.by = \"PTS.O\",\n",
    "  labels.bars = labs\n",
    ")\n"
   ]
  },
  {
   "cell_type": "code",
   "execution_count": null,
   "id": "601fa5ee",
   "metadata": {
    "vscode": {
     "languageId": "r"
    }
   },
   "outputs": [
    {
     "name": "stdout",
     "output_type": "stream",
     "text": [
      "               Team Team_Tag GP  MIN  PTS P2M  P2A   P2p P3M P3A   P3p FTM FTA\n",
      "1              ALBA      BER 34 1360 2591 641 1261 50.83 302 860 35.12 403 509\n",
      "2             ASVEL      ASV 34 1370 2674 744 1389 53.56 244 723 33.75 454 587\n",
      "3         Barcelona      FCB 34 1360 2812 759 1352 56.14 292 798 36.59 418 571\n",
      "4          Baskonia      BAS 34 1365 2864 664 1197 55.47 353 963 36.66 477 626\n",
      "5            Bayern      BAY 34 1385 2674 649 1215 53.42 336 938 35.82 368 461\n",
      "6     Crvena Zvezda      CZB 34 1360 2764 680 1239 54.88 314 920 34.13 462 600\n",
      "7              Efes      EFE 34 1385 2928 735 1309 56.15 339 911 37.21 441 542\n",
      "8        Fenerbahce      FEN 34 1380 2894 649 1151 56.39 382 976 39.14 450 560\n",
      "9  Maccabi Tel Aviv      MTA 34 1365 2983 781 1464 53.35 295 810 36.42 536 687\n",
      "10           Monaco      ASM 34 1365 2785 743 1403 52.96 269 763 35.26 492 664\n",
      "11    Olimpia Milan      MIL 34 1370 2659 615 1116 55.11 341 930 36.67 406 523\n",
      "12       Olympiacos      OLY 34 1375 2685 641 1152 55.64 320 857 37.34 443 596\n",
      "13    Panathinaikos      PAN 34 1375 2774 676 1240 54.52 305 801 38.08 507 673\n",
      "14         Partizan      PAR 34 1375 2822 750 1282 58.50 273 755 36.16 503 614\n",
      "15      Real Madrid      RMB 34 1390 2999 711 1240 57.34 343 918 37.36 548 666\n",
      "16         Valencia      VAL 34 1365 2582 686 1309 52.41 247 754 32.76 469 606\n",
      "17   Virtus Bologna      VIR 34 1360 2728 666 1227 54.28 319 882 36.17 439 580\n",
      "18         Zalgiris      ZAL 34 1365 2702 646 1217 53.08 331 851 38.90 417 515\n",
      "     FTp OREB DREB AST TOV STL BLK  PF   PM RIM_M RIM_A PAINT_M PAINT_A MID_M\n",
      "1  79.17  368  735 560 513 238  73 623 -353   290   408     252     597    99\n",
      "2  77.34  350  805 605 440 205  55 626 -214   320   453     306     663   118\n",
      "3  73.20  384  840 659 433 210  83 666  120   250   320     401     786   108\n",
      "4  76.20  351  847 640 423 185  79 621  -21   266   325     317     664    81\n",
      "5  79.83  364  840 547 443 206  89 702 -116   222   294     293     608   134\n",
      "6  77.00  403  777 629 411 224  84 733  -52   257   329     382     775    41\n",
      "7  81.37  345  754 610 351 237 105 629   16   320   410     328     673    87\n",
      "8  80.36  344  790 616 408 196  82 734  143   280   352     284     588    85\n",
      "9  78.02  443  782 666 418 249 106 684   35   286   364     376     806   119\n",
      "10 74.10  383  782 547 340 236  61 662   97   219   288     389     774   134\n",
      "11 77.63  302  791 554 423 238  72 665    4   296   376     221     478    98\n",
      "12 74.33  320  777 657 386 238  96 636  134   339   429     237     547    65\n",
      "13 75.33  337  803 562 433 244  92 598  152   316   417     258     581   102\n",
      "14 81.92  310  741 514 423 223  79 716  -15   312   383     308     602   130\n",
      "15 82.28  335  916 696 422 215 119 641  256   270   326     378     765    63\n",
      "16 77.39  345  823 550 463 220  62 719 -106   353   495     229     543   104\n",
      "17 75.69  320  782 640 411 224  85 736  -76   248   307     343     671    75\n",
      "18 80.97  331  753 532 428 221  59 720   -2   303   408     273     614    70\n",
      "   MID_A X3C_M X3C_A X3L_M X3L_A X3H_M X3H_A PTS.O TOV.O\n",
      "1    256    46    98   256   755     0     4  2944   452\n",
      "2    273    51   115   192   601     1     7  2888   393\n",
      "3    246    37    84   255   708     0     5  2692   416\n",
      "4    208    37    70   316   882     0    10  2885   366\n",
      "5    313    49   125   287   802     0    11  2790   371\n",
      "6    135    48   120   266   794     0     5  2816   415\n",
      "7    226    65   139   273   770     1     2  2912   415\n",
      "8    211    60   134   321   832     0     9  2751   410\n",
      "9    294    46   113   248   685     1    11  2948   461\n",
      "10   340    10    33   259   726     0     3  2688   459\n",
      "11   262    40   100   301   821     0     9  2655   429\n",
      "12   176    68   152   252   698     0     7  2551   430\n",
      "13   242    57   117   248   678     0     6  2622   459\n",
      "14   297    37    92   236   656     0     7  2837   425\n",
      "15   149    35    68   308   842     0     8  2743   395\n",
      "16   271    45   121   202   626     0     7  2690   436\n",
      "17   249    31    66   288   806     0    10  2804   412\n",
      "18   195    39   103   292   740     0     8  2704   425\n"
     ]
    },
    {
     "data": {
      "image/png": "[encoded data removed]",
      "text/plain": [
       "plot without title"
      ]
     },
     "metadata": {
      "image/png": {
       "height": 420,
       "width": 420
      }
     },
     "output_type": "display_data"
    }
   ],
   "source": [
    "X <- data.frame(\n",
    "  tbox_regular,\n",
    "  PTS.O = obox_regular$PTS,\n",
    "  TOV.O = obox_regular$TOV\n",
    ")\n",
    "print(X)\n",
    "\n",
    "labs_off <- c(\"2P Made\", \"3P Made\", \"Assists\")\n",
    "\n",
    "barline(\n",
    "  data = X,\n",
    "  id = \"Team\",\n",
    "  bars = c(\"P2M\", \"P3M\", \"AST\"),\n",
    "  line = \"PTS.O\",\n",
    "  order.by = \"PTS\",\n",
    "  labels.bars = labs_off,\n",
    "  title = \"Offensive Statistics\"\n",
    ")\n"
   ]
  },
  {
   "cell_type": "code",
   "execution_count": 16,
   "id": "81e960d3",
   "metadata": {
    "vscode": {
     "languageId": "r"
    }
   },
   "outputs": [
    {
     "data": {
      "text/html": [
       "<table class=\"dataframe\">\n",
       "<caption>A data.frame: 10 × 34</caption>\n",
       "<thead>\n",
       "\t<tr><th scope=col>Player</th><th scope=col>Team</th><th scope=col>GP</th><th scope=col>MIN</th><th scope=col>PTS</th><th scope=col>P2M</th><th scope=col>P2A</th><th scope=col>P2p</th><th scope=col>P3M</th><th scope=col>P3A</th><th scope=col>⋯</th><th scope=col>PAINT_M</th><th scope=col>PAINT_A</th><th scope=col>MID_M</th><th scope=col>MID_A</th><th scope=col>X3C_M</th><th scope=col>X3C_A</th><th scope=col>X3L_M</th><th scope=col>X3L_A</th><th scope=col>X3H_M</th><th scope=col>X3H_A</th></tr>\n",
       "\t<tr><th scope=col>&lt;chr&gt;</th><th scope=col>&lt;chr&gt;</th><th scope=col>&lt;int&gt;</th><th scope=col>&lt;int&gt;</th><th scope=col>&lt;int&gt;</th><th scope=col>&lt;int&gt;</th><th scope=col>&lt;int&gt;</th><th scope=col>&lt;dbl&gt;</th><th scope=col>&lt;int&gt;</th><th scope=col>&lt;int&gt;</th><th scope=col>⋯</th><th scope=col>&lt;int&gt;</th><th scope=col>&lt;int&gt;</th><th scope=col>&lt;int&gt;</th><th scope=col>&lt;int&gt;</th><th scope=col>&lt;int&gt;</th><th scope=col>&lt;int&gt;</th><th scope=col>&lt;int&gt;</th><th scope=col>&lt;int&gt;</th><th scope=col>&lt;int&gt;</th><th scope=col>&lt;int&gt;</th></tr>\n",
       "</thead>\n",
       "<tbody>\n",
       "\t<tr><td>Aleksander Balcerowski</td><td>Panathinaikos</td><td>23</td><td>174</td><td> 68</td><td> 22</td><td> 35</td><td>62.86</td><td> 1</td><td>  9</td><td>⋯</td><td> 7</td><td> 14</td><td> 0</td><td> 2</td><td> 0</td><td> 0</td><td> 1</td><td>  9</td><td>0</td><td>0</td></tr>\n",
       "\t<tr><td>Jerian Grant          </td><td>Panathinaikos</td><td>34</td><td>977</td><td>304</td><td> 59</td><td>120</td><td>49.17</td><td>41</td><td>100</td><td>⋯</td><td>29</td><td> 60</td><td>18</td><td>44</td><td>10</td><td>21</td><td>31</td><td> 79</td><td>0</td><td>0</td></tr>\n",
       "\t<tr><td>Juancho Hernangomez   </td><td>Panathinaikos</td><td>27</td><td>451</td><td>112</td><td> 19</td><td> 38</td><td>50.00</td><td>17</td><td> 60</td><td>⋯</td><td> 6</td><td> 16</td><td> 2</td><td> 6</td><td> 4</td><td>12</td><td>13</td><td> 48</td><td>0</td><td>0</td></tr>\n",
       "\t<tr><td>Kendrick Nunn         </td><td>Panathinaikos</td><td>28</td><td>753</td><td>430</td><td>113</td><td>245</td><td>46.12</td><td>50</td><td>130</td><td>⋯</td><td>54</td><td>132</td><td>30</td><td>60</td><td> 4</td><td>10</td><td>46</td><td>119</td><td>0</td><td>1</td></tr>\n",
       "\t<tr><td>Konstantinos Mitoglou </td><td>Panathinaikos</td><td>31</td><td>887</td><td>369</td><td>107</td><td>192</td><td>55.73</td><td>32</td><td> 94</td><td>⋯</td><td>41</td><td> 82</td><td>22</td><td>51</td><td> 6</td><td>13</td><td>26</td><td> 80</td><td>0</td><td>1</td></tr>\n",
       "\t<tr><td>Kostas Antetokounmpo  </td><td>Panathinaikos</td><td>23</td><td>192</td><td> 74</td><td> 29</td><td> 45</td><td>64.44</td><td> 0</td><td>  0</td><td>⋯</td><td> 1</td><td> 15</td><td> 0</td><td> 0</td><td> 0</td><td> 0</td><td> 0</td><td>  0</td><td>0</td><td>0</td></tr>\n",
       "\t<tr><td>Kostas Sloukas        </td><td>Panathinaikos</td><td>27</td><td>714</td><td>328</td><td> 56</td><td>102</td><td>54.90</td><td>47</td><td>115</td><td>⋯</td><td>25</td><td> 44</td><td>12</td><td>35</td><td> 3</td><td> 4</td><td>44</td><td>111</td><td>0</td><td>0</td></tr>\n",
       "\t<tr><td>Luca Vildoza          </td><td>Panathinaikos</td><td>24</td><td>370</td><td>134</td><td> 20</td><td> 48</td><td>41.67</td><td>27</td><td> 83</td><td>⋯</td><td> 8</td><td> 23</td><td> 2</td><td> 6</td><td> 5</td><td>13</td><td>22</td><td> 68</td><td>0</td><td>2</td></tr>\n",
       "\t<tr><td>Marius Grigonis       </td><td>Panathinaikos</td><td>34</td><td>917</td><td>344</td><td> 53</td><td> 91</td><td>58.24</td><td>65</td><td>149</td><td>⋯</td><td>25</td><td> 52</td><td> 9</td><td>20</td><td>17</td><td>25</td><td>48</td><td>123</td><td>0</td><td>1</td></tr>\n",
       "\t<tr><td>Mathias Lessort       </td><td>Panathinaikos</td><td>34</td><td>982</td><td>463</td><td>167</td><td>268</td><td>62.31</td><td> 0</td><td>  0</td><td>⋯</td><td>45</td><td>112</td><td> 1</td><td> 4</td><td> 0</td><td> 0</td><td> 0</td><td>  0</td><td>0</td><td>0</td></tr>\n",
       "</tbody>\n",
       "</table>\n"
      ],
      "text/latex": [
       "A data.frame: 10 × 34\n",
       "\\begin{tabular}{lllllllllllllllllllll}\n",
       " Player & Team & GP & MIN & PTS & P2M & P2A & P2p & P3M & P3A & ⋯ & PAINT\\_M & PAINT\\_A & MID\\_M & MID\\_A & X3C\\_M & X3C\\_A & X3L\\_M & X3L\\_A & X3H\\_M & X3H\\_A\\\\\n",
       " <chr> & <chr> & <int> & <int> & <int> & <int> & <int> & <dbl> & <int> & <int> & ⋯ & <int> & <int> & <int> & <int> & <int> & <int> & <int> & <int> & <int> & <int>\\\\\n",
       "\\hline\n",
       "\t Aleksander Balcerowski & Panathinaikos & 23 & 174 &  68 &  22 &  35 & 62.86 &  1 &   9 & ⋯ &  7 &  14 &  0 &  2 &  0 &  0 &  1 &   9 & 0 & 0\\\\\n",
       "\t Jerian Grant           & Panathinaikos & 34 & 977 & 304 &  59 & 120 & 49.17 & 41 & 100 & ⋯ & 29 &  60 & 18 & 44 & 10 & 21 & 31 &  79 & 0 & 0\\\\\n",
       "\t Juancho Hernangomez    & Panathinaikos & 27 & 451 & 112 &  19 &  38 & 50.00 & 17 &  60 & ⋯ &  6 &  16 &  2 &  6 &  4 & 12 & 13 &  48 & 0 & 0\\\\\n",
       "\t Kendrick Nunn          & Panathinaikos & 28 & 753 & 430 & 113 & 245 & 46.12 & 50 & 130 & ⋯ & 54 & 132 & 30 & 60 &  4 & 10 & 46 & 119 & 0 & 1\\\\\n",
       "\t Konstantinos Mitoglou  & Panathinaikos & 31 & 887 & 369 & 107 & 192 & 55.73 & 32 &  94 & ⋯ & 41 &  82 & 22 & 51 &  6 & 13 & 26 &  80 & 0 & 1\\\\\n",
       "\t Kostas Antetokounmpo   & Panathinaikos & 23 & 192 &  74 &  29 &  45 & 64.44 &  0 &   0 & ⋯ &  1 &  15 &  0 &  0 &  0 &  0 &  0 &   0 & 0 & 0\\\\\n",
       "\t Kostas Sloukas         & Panathinaikos & 27 & 714 & 328 &  56 & 102 & 54.90 & 47 & 115 & ⋯ & 25 &  44 & 12 & 35 &  3 &  4 & 44 & 111 & 0 & 0\\\\\n",
       "\t Luca Vildoza           & Panathinaikos & 24 & 370 & 134 &  20 &  48 & 41.67 & 27 &  83 & ⋯ &  8 &  23 &  2 &  6 &  5 & 13 & 22 &  68 & 0 & 2\\\\\n",
       "\t Marius Grigonis        & Panathinaikos & 34 & 917 & 344 &  53 &  91 & 58.24 & 65 & 149 & ⋯ & 25 &  52 &  9 & 20 & 17 & 25 & 48 & 123 & 0 & 1\\\\\n",
       "\t Mathias Lessort        & Panathinaikos & 34 & 982 & 463 & 167 & 268 & 62.31 &  0 &   0 & ⋯ & 45 & 112 &  1 &  4 &  0 &  0 &  0 &   0 & 0 & 0\\\\\n",
       "\\end{tabular}\n"
      ],
      "text/markdown": [
       "\n",
       "A data.frame: 10 × 34\n",
       "\n",
       "| Player &lt;chr&gt; | Team &lt;chr&gt; | GP &lt;int&gt; | MIN &lt;int&gt; | PTS &lt;int&gt; | P2M &lt;int&gt; | P2A &lt;int&gt; | P2p &lt;dbl&gt; | P3M &lt;int&gt; | P3A &lt;int&gt; | ⋯ ⋯ | PAINT_M &lt;int&gt; | PAINT_A &lt;int&gt; | MID_M &lt;int&gt; | MID_A &lt;int&gt; | X3C_M &lt;int&gt; | X3C_A &lt;int&gt; | X3L_M &lt;int&gt; | X3L_A &lt;int&gt; | X3H_M &lt;int&gt; | X3H_A &lt;int&gt; |\n",
       "|---|---|---|---|---|---|---|---|---|---|---|---|---|---|---|---|---|---|---|---|---|\n",
       "| Aleksander Balcerowski | Panathinaikos | 23 | 174 |  68 |  22 |  35 | 62.86 |  1 |   9 | ⋯ |  7 |  14 |  0 |  2 |  0 |  0 |  1 |   9 | 0 | 0 |\n",
       "| Jerian Grant           | Panathinaikos | 34 | 977 | 304 |  59 | 120 | 49.17 | 41 | 100 | ⋯ | 29 |  60 | 18 | 44 | 10 | 21 | 31 |  79 | 0 | 0 |\n",
       "| Juancho Hernangomez    | Panathinaikos | 27 | 451 | 112 |  19 |  38 | 50.00 | 17 |  60 | ⋯ |  6 |  16 |  2 |  6 |  4 | 12 | 13 |  48 | 0 | 0 |\n",
       "| Kendrick Nunn          | Panathinaikos | 28 | 753 | 430 | 113 | 245 | 46.12 | 50 | 130 | ⋯ | 54 | 132 | 30 | 60 |  4 | 10 | 46 | 119 | 0 | 1 |\n",
       "| Konstantinos Mitoglou  | Panathinaikos | 31 | 887 | 369 | 107 | 192 | 55.73 | 32 |  94 | ⋯ | 41 |  82 | 22 | 51 |  6 | 13 | 26 |  80 | 0 | 1 |\n",
       "| Kostas Antetokounmpo   | Panathinaikos | 23 | 192 |  74 |  29 |  45 | 64.44 |  0 |   0 | ⋯ |  1 |  15 |  0 |  0 |  0 |  0 |  0 |   0 | 0 | 0 |\n",
       "| Kostas Sloukas         | Panathinaikos | 27 | 714 | 328 |  56 | 102 | 54.90 | 47 | 115 | ⋯ | 25 |  44 | 12 | 35 |  3 |  4 | 44 | 111 | 0 | 0 |\n",
       "| Luca Vildoza           | Panathinaikos | 24 | 370 | 134 |  20 |  48 | 41.67 | 27 |  83 | ⋯ |  8 |  23 |  2 |  6 |  5 | 13 | 22 |  68 | 0 | 2 |\n",
       "| Marius Grigonis        | Panathinaikos | 34 | 917 | 344 |  53 |  91 | 58.24 | 65 | 149 | ⋯ | 25 |  52 |  9 | 20 | 17 | 25 | 48 | 123 | 0 | 1 |\n",
       "| Mathias Lessort        | Panathinaikos | 34 | 982 | 463 | 167 | 268 | 62.31 |  0 |   0 | ⋯ | 45 | 112 |  1 |  4 |  0 |  0 |  0 |   0 | 0 | 0 |\n",
       "\n"
      ],
      "text/plain": [
       "   Player                 Team          GP MIN PTS P2M P2A P2p   P3M P3A ⋯\n",
       "1  Aleksander Balcerowski Panathinaikos 23 174  68  22  35 62.86  1    9 ⋯\n",
       "2  Jerian Grant           Panathinaikos 34 977 304  59 120 49.17 41  100 ⋯\n",
       "3  Juancho Hernangomez    Panathinaikos 27 451 112  19  38 50.00 17   60 ⋯\n",
       "4  Kendrick Nunn          Panathinaikos 28 753 430 113 245 46.12 50  130 ⋯\n",
       "5  Konstantinos Mitoglou  Panathinaikos 31 887 369 107 192 55.73 32   94 ⋯\n",
       "6  Kostas Antetokounmpo   Panathinaikos 23 192  74  29  45 64.44  0    0 ⋯\n",
       "7  Kostas Sloukas         Panathinaikos 27 714 328  56 102 54.90 47  115 ⋯\n",
       "8  Luca Vildoza           Panathinaikos 24 370 134  20  48 41.67 27   83 ⋯\n",
       "9  Marius Grigonis        Panathinaikos 34 917 344  53  91 58.24 65  149 ⋯\n",
       "10 Mathias Lessort        Panathinaikos 34 982 463 167 268 62.31  0    0 ⋯\n",
       "   PAINT_M PAINT_A MID_M MID_A X3C_M X3C_A X3L_M X3L_A X3H_M X3H_A\n",
       "1   7       14      0     2     0     0     1      9   0     0    \n",
       "2  29       60     18    44    10    21    31     79   0     0    \n",
       "3   6       16      2     6     4    12    13     48   0     0    \n",
       "4  54      132     30    60     4    10    46    119   0     1    \n",
       "5  41       82     22    51     6    13    26     80   0     1    \n",
       "6   1       15      0     0     0     0     0      0   0     0    \n",
       "7  25       44     12    35     3     4    44    111   0     0    \n",
       "8   8       23      2     6     5    13    22     68   0     2    \n",
       "9  25       52      9    20    17    25    48    123   0     1    \n",
       "10 45      112      1     4     0     0     0      0   0     0    "
      ]
     },
     "metadata": {},
     "output_type": "display_data"
    },
    {
     "data": {
      "image/png": "[encoded data removed]",
      "text/plain": [
       "plot without title"
      ]
     },
     "metadata": {
      "image/png": {
       "height": 420,
       "width": 420
      }
     },
     "output_type": "display_data"
    }
   ],
   "source": [
    "pbox_regular.PAN <- data.frame(\n",
    "  subset(pbox_regular, Team == \"Panathinaikos\" & MIN >= 150)\n",
    ")\n",
    "\n",
    "pbox_regular.PAN <- pbox_regular.PAN %>%\n",
    "  mutate(across(c(P2p, P3p, FTp, PM), ~ ifelse(is.na(.), 0, .)))\n",
    "\n",
    "pbox_regular.PAN\n",
    "\n",
    "barline(\n",
    "  data        = pbox_regular.PAN,\n",
    "  id          = \"Player\",\n",
    "  bars        = c(\"P2p\", \"P3p\", \"FTp\"),\n",
    "  line        = \"MIN\",\n",
    "  order.by    = \"PM\",\n",
    "  labels.bars = c(\"2P%\", \"3P%\", \"FT%\"),\n",
    "  title       = \"Panathinaikos\"\n",
    ")\n"
   ]
  },
  {
   "cell_type": "code",
   "execution_count": null,
   "id": "0b569488",
   "metadata": {
    "vscode": {
     "languageId": "r"
    }
   },
   "outputs": [],
   "source": [
    "pbox_regular.PAN <- data.frame(\n",
    "  subset(pbox_regular, Team == \"Panathinaikos\" & MIN >= 150)\n",
    ")\n",
    "\n",
    "pbox_regular.PAN <- pbox_regular.PAN %>%\n",
    "  mutate(across(c(P2M, P3M, FTM,\n",
    "                  P2p, P3p, FTp,\n",
    "                  PM, STL, BLK, DREB, MIN),\n",
    "                ~ ifelse(is.na(.), 0, .)))\n",
    "\n",
    "pbox_regular.PAN.off <- pbox_regular.PAN %>%\n",
    "  select(Player, Team, PM, MIN, P2M, P3M, FTM)\n",
    "\n",
    "pbox_regular.PAN.def <- pbox_regular.PAN %>%\n",
    "  select(Player, Team, PM, MIN, STL, BLK, DREB)\n",
    "\n",
    "pbox_regular.RMA <- data.frame(\n",
    "  subset(pbox_regular, Team == \"Real Madrid\" & MIN >= 150)\n",
    ")\n",
    "\n",
    "pbox_regular.RMA <- pbox_regular.RMA %>%\n",
    "  mutate(across(c(P2M, P3M, FTM,\n",
    "                  P2p, P3p, FTp,\n",
    "                  PM, STL, BLK, DREB, MIN),\n",
    "                ~ ifelse(is.na(.), 0, .)))\n",
    "\n",
    "pbox_regular.RMA.off <- pbox_regular.RMA %>%\n",
    "  select(Player, Team, PM, MIN, P2M, P3M, FTM)\n",
    "\n",
    "pbox_regular.RMA.def <- pbox_regular.RMA %>%\n",
    "  select(Player, Team, PM, MIN, STL, BLK, DREB)\n",
    "\n",
    "p1 <- barline(\n",
    "  data        = pbox_regular.PAN.off,\n",
    "  id          = \"Player\",\n",
    "  bars        = c(\"P2M\", \"P3M\", \"FTM\"),\n",
    "  line        = \"MIN\",\n",
    "  order.by    = \"PM\",\n",
    "  labels.bars = c(\"2PM\", \"3PM\", \"FTM\"),\n",
    "  title       = \"Panathinaikos – Offense\"\n",
    ")\n",
    "\n",
    "p2 <- barline(\n",
    "  data        = pbox_regular.PAN.def,\n",
    "  id          = \"Player\",\n",
    "  bars        = c(\"STL\", \"BLK\", \"DREB\"),\n",
    "  line        = \"MIN\",\n",
    "  order.by    = \"PM\",\n",
    "  labels.bars = c(\"Steals\", \"Blocks\", \"Def. Reb.\"),\n",
    "  title       = \"Panathinaikos – Defense\"\n",
    ")\n",
    "\n",
    "p3 <- barline(\n",
    "  data        = pbox_regular.RMA.off,\n",
    "  id          = \"Player\",\n",
    "  bars        = c(\"P2M\", \"P3M\", \"FTM\"),\n",
    "  line        = \"MIN\",\n",
    "  order.by    = \"PM\",\n",
    "  labels.bars = c(\"2PM\", \"3PM\", \"FTM\"),\n",
    "  title       = \"Real Madrid – Offense\"\n",
    ")\n",
    "\n",
    "p4 <- barline(\n",
    "  data        = pbox_regular.RMA.def,\n",
    "  id          = \"Player\",\n",
    "  bars        = c(\"STL\", \"BLK\", \"DREB\"),\n",
    "  line        = \"MIN\",\n",
    "  order.by    = \"PM\",\n",
    "  labels.bars = c(\"Steals\", \"Blocks\", \"Def. Reb.\"),\n",
    "  title       = \"Real Madrid – Defense\"\n",
    ")\n",
    "\n",
    "p_pan <- p1 / p2   # offense nad defense\n",
    "\n",
    "if (!dir.exists(\"plots\")) dir.create(\"plots\", recursive = TRUE)\n",
    "outfile_pan <- file.path(\"plots\", \"PAN_bars.png\")\n",
    "ggsave(outfile_pan, p_pan, width = 7, height = 10, dpi = 300)\n",
    "browseURL(file.path(getwd(), outfile_pan))\n",
    "\n",
    "p_rma <- p3 / p4   # offense nad defense\n",
    "\n",
    "outfile_rma <- file.path(\"plots\", \"RMA_bars.png\")\n",
    "ggsave(outfile_rma, p_rma, width = 7, height = 10, dpi = 300)\n",
    "browseURL(file.path(getwd(), outfile_rma))"
   ]
  },
  {
   "cell_type": "markdown",
   "id": "302729ed",
   "metadata": {},
   "source": [
    "Radial plots"
   ]
  },
  {
   "cell_type": "code",
   "execution_count": 18,
   "id": "98492402",
   "metadata": {
    "vscode": {
     "languageId": "r"
    }
   },
   "outputs": [
    {
     "data": {
      "image/png": "[encoded data removed]",
      "text/plain": [
       "plot without title"
      ]
     },
     "metadata": {
      "image/png": {
       "height": 420,
       "width": 420
      }
     },
     "output_type": "display_data"
    }
   ],
   "source": [
    "pbox_regular.PG <- subset(pbox_regular,\n",
    "                  Player %in% c(\"Kendrick Nunn\",\n",
    "                                \"Carsen Edwards\",\n",
    "                                \"Lorenzo Brown\",\n",
    "                                \"Codi Miller McIntyre\",\n",
    "                                \"Kevin Punter\",\n",
    "                                \"Keenan Evans\", \n",
    "                                \"Facundo Campazzo\",\n",
    "                                \"Mike James\",\n",
    "                                \"Dzanan Musa\"))\n",
    "\n",
    "attach(pbox_regular.PG)\n",
    "X <- data.frame(P2M, \n",
    "                P3M, \n",
    "                FTM, \n",
    "                REB = OREB + DREB, \n",
    "                AST,\n",
    "                STL, \n",
    "                BLK) / MIN\n",
    "detach(pbox_regular.PG)\n",
    "\n",
    "radialprofile(data = X,\n",
    "              title = pbox_regular.PG$Player,\n",
    "              std   = FALSE)\n"
   ]
  },
  {
   "cell_type": "code",
   "execution_count": 19,
   "id": "29368a75",
   "metadata": {
    "vscode": {
     "languageId": "r"
    }
   },
   "outputs": [
    {
     "data": {
      "image/png": "[encoded data removed]",
      "text/plain": [
       "plot without title"
      ]
     },
     "metadata": {
      "image/png": {
       "height": 420,
       "width": 420
      }
     },
     "output_type": "display_data"
    }
   ],
   "source": [
    "#Werjsa z normalizacją \n",
    "radialprofile(data = X,\n",
    "              title = pbox_regular.PG$Player,\n",
    "              std   = TRUE)"
   ]
  },
  {
   "cell_type": "code",
   "execution_count": 20,
   "id": "b0fd0a56",
   "metadata": {
    "vscode": {
     "languageId": "r"
    }
   },
   "outputs": [],
   "source": [
    "Pbox.sel <- subset(pbox_regular, MIN >= 100 & is.finite(MIN))\n",
    "X <- with(Pbox.sel, data.frame(AST, TOV, PTS) / MIN)\n",
    "mypal <- colorRampPalette(c(\"blue\",\"yellow\",\"red\"))"
   ]
  },
  {
   "cell_type": "code",
   "execution_count": 21,
   "id": "29dc4fb2",
   "metadata": {
    "vscode": {
     "languageId": "r"
    }
   },
   "outputs": [
    {
     "data": {
      "image/png": "[encoded data removed]",
      "text/plain": [
       "plot without title"
      ]
     },
     "metadata": {
      "image/png": {
       "height": 420,
       "width": 420
      }
     },
     "output_type": "display_data"
    }
   ],
   "source": [
    "scatterplot(X,\n",
    "            data.var = c(\"AST\",\"TOV\"),\n",
    "            z.var    = \"PTS\",\n",
    "            labels   = 1:nrow(X),\n",
    "            palette  = mypal)"
   ]
  },
  {
   "cell_type": "markdown",
   "id": "0c116113",
   "metadata": {},
   "source": [
    "Scatter plots"
   ]
  },
  {
   "cell_type": "code",
   "execution_count": 22,
   "id": "b0c6a096",
   "metadata": {
    "vscode": {
     "languageId": "r"
    }
   },
   "outputs": [
    {
     "name": "stderr",
     "output_type": "stream",
     "text": [
      "Warning message:\n",
      "\"ggrepel: 5 unlabeled data points (too many overlaps). Consider increasing max.overlaps\"\n"
     ]
    },
    {
     "data": {
      "image/png": "[encoded data removed]",
      "text/plain": [
       "plot without title"
      ]
     },
     "metadata": {
      "image/png": {
       "height": 420,
       "width": 420
      }
     },
     "output_type": "display_data"
    }
   ],
   "source": [
    "is_pan <- grepl(\"Panathinaikos\", Pbox.sel$Team, ignore.case = TRUE)\n",
    "is_rmb <- grepl(\"Real Madrid\",  Pbox.sel$Team, ignore.case = TRUE)\n",
    "SEL <- which(is_pan | is_rmb)\n",
    "\n",
    "scatterplot(X,\n",
    "            data.var = c(\"AST\",\"TOV\"),\n",
    "            z.var    = \"PTS\",\n",
    "            labels   = Pbox.sel$Player,\n",
    "            palette  = mypal,\n",
    "            subset   = SEL)"
   ]
  },
  {
   "cell_type": "code",
   "execution_count": 23,
   "id": "6459e6bb",
   "metadata": {
    "vscode": {
     "languageId": "r"
    }
   },
   "outputs": [
    {
     "data": {
      "image/png": "[encoded data removed]",
      "text/plain": [
       "plot without title"
      ]
     },
     "metadata": {
      "image/png": {
       "height": 420,
       "width": 420
      }
     },
     "output_type": "display_data"
    }
   ],
   "source": [
    "players <- c(\"Kendrick Nunn\",\"Carsen Edwards\",\"Lorenzo Brown\",\n",
    "             \"Codi Miller McIntyre\",\"Kevin Punter\",\"Keenan Evans\",\n",
    "             \"Facundo Campazzo\",\"Mike James\",\"Dzanan Musa\")\n",
    "\n",
    "Pbox.sel <- subset(pbox_regular, Player %in% players & MIN > 0)\n",
    "X <- with(Pbox.sel, data.frame(AST, TOV, PTS) / MIN)\n",
    "\n",
    "scatterplot(X,\n",
    "  data.var = c(\"AST\",\"TOV\"),\n",
    "  z.var    = \"PTS\",\n",
    "  labels   = Pbox.sel$Player,\n",
    "  palette  = mypal\n",
    ")\n"
   ]
  },
  {
   "cell_type": "markdown",
   "id": "77ed4217",
   "metadata": {},
   "source": [
    "Bubble plots"
   ]
  },
  {
   "cell_type": "code",
   "execution_count": 24,
   "id": "463f36f6",
   "metadata": {
    "vscode": {
     "languageId": "r"
    }
   },
   "outputs": [
    {
     "data": {
      "image/png": "[encoded data removed]",
      "text/plain": [
       "plot without title"
      ]
     },
     "metadata": {
      "image/png": {
       "height": 420,
       "width": 420
      }
     },
     "output_type": "display_data"
    },
    {
     "data": {
      "image/png": "[encoded data removed]",
      "text/plain": [
       "plot without title"
      ]
     },
     "metadata": {
      "image/png": {
       "height": 420,
       "width": 420
      }
     },
     "output_type": "display_data"
    }
   ],
   "source": [
    "attach(tbox_regular)\n",
    "\n",
    "X_off <- data.frame(\n",
    "  T   = Team,\n",
    "  P2p = P2p,\n",
    "  P3p = P3p,\n",
    "  FTp = FTp,\n",
    "  AS  = P2A + P3A + FTA\n",
    ")\n",
    "\n",
    "labs_off <- c(\"2-point shots (% made)\",\n",
    "              \"3-point shots (% made)\",\n",
    "              \"Free throws (% made)\",\n",
    "              \"Total shots attempted\")\n",
    "\n",
    "\n",
    "X_def <- data.frame(\n",
    "  T  = Team,\n",
    "  V1 = DREB / pmax(MIN, 1),  # defensive rebounds per minute\n",
    "  V2 = STL  / pmax(MIN, 1),  # steals per minute\n",
    "  V3 = BLK  / pmax(MIN, 1),  # blocks per minute\n",
    "  V4 = MIN                   # rozmiar bąbla = minuty gry zespołu\n",
    ")\n",
    "\n",
    "labs_def <- c(\"Defensive Rebounds (per min)\",\n",
    "              \"Steals (per min)\",\n",
    "              \"Blocks (per min)\",\n",
    "              \"Total minutes played\")\n",
    "\n",
    "op <- par(mfrow = c(1, 2))  # dwa panele obok siebie\n",
    "\n",
    "bubbleplot(\n",
    "  X_off,\n",
    "  id     = \"T\",\n",
    "  x      = \"P2p\",\n",
    "  y      = \"P3p\",\n",
    "  col    = \"FTp\",\n",
    "  size   = \"AS\",\n",
    "  labels = labs_off,\n",
    "  title  = \"Teams — offensive stats\"\n",
    ")\n",
    "\n",
    "bubbleplot(\n",
    "  X_def,\n",
    "  id         = \"T\",\n",
    "  x          = \"V1\",\n",
    "  y          = \"V2\",\n",
    "  col        = \"V3\",\n",
    "  size       = \"V4\",\n",
    "  labels     = labs_def,\n",
    "  title      = \"Teams — defensive stats (per minute)\",\n",
    "  scale      = FALSE\n",
    ")\n",
    "\n",
    "par(op)\n",
    "detach(tbox_regular)\n",
    "\n"
   ]
  },
  {
   "cell_type": "code",
   "execution_count": null,
   "id": "264591dd",
   "metadata": {
    "vscode": {
     "languageId": "r"
    }
   },
   "outputs": [],
   "source": [
    "pbox_sel <- subset(\n",
    "  pbox_regular,\n",
    "  Team %in% c(\"Real Madrid\", \"Panathinaikos\") & MIN >= 150\n",
    ")\n",
    "pbox_sel[is.na(pbox_sel)] <- 0\n",
    "\n",
    "X_def <- data.frame(\n",
    "  ID   = pbox_sel$Player,\n",
    "  Team = pbox_sel$Team,\n",
    "  V1   = pbox_sel$DREB / pbox_sel$MIN,  # defensive rebounds per min\n",
    "  V2   = pbox_sel$STL  / pbox_sel$MIN,  # steals per min\n",
    "  V3   = pbox_sel$BLK  / pbox_sel$MIN,  # blocks per min\n",
    "  V4   = pbox_sel$MIN                   # rozmiar bąbla = minuty\n",
    ")\n",
    "\n",
    "labs_def <- c(\"Defensive Rebounds (per min)\",\n",
    "              \"Steals (per min)\",\n",
    "              \"Blocks (per min)\",\n",
    "              \"Total minutes played\")\n",
    "\n",
    "X_off <- data.frame(\n",
    "  ID   = pbox_sel$Player,\n",
    "  Team = pbox_sel$Team,\n",
    "  V1   = pbox_sel$P2p,                                # 2P%\n",
    "  V2   = pbox_sel$P3p,                                # 3P%\n",
    "  V3   = pbox_sel$FTp,                                # FT%\n",
    "  V4   = pbox_sel$P2A + pbox_sel$P3A + pbox_sel$FTA   # łączna liczba prób\n",
    ")\n",
    "\n",
    "labs_off <- c(\"2-point shots (% made)\",\n",
    "              \"3-point shots (% made)\",\n",
    "              \"Free throws (% made)\",\n",
    "              \"Total shots attempted\")\n",
    "\n",
    "op <- par(mfrow = c(1, 2))\n",
    "\n",
    "p_def <- bubbleplot(\n",
    "  X_def,\n",
    "  id         = \"ID\",\n",
    "  x          = \"V1\",\n",
    "  y          = \"V2\",\n",
    "  col        = \"V3\",\n",
    "  size       = \"V4\",\n",
    "  text.col   = \"Team\",\n",
    "  labels     = labs_def,\n",
    "  title      = \"Real Madrid vs Panathinaikos — defensive stats\",\n",
    "  text.legend= TRUE,\n",
    "  text.size  = 3.5,\n",
    "  scale      = FALSE\n",
    ")\n",
    "\n",
    "p_off <- bubbleplot(\n",
    "  X_off,\n",
    "  id         = \"ID\",\n",
    "  x          = \"V1\",\n",
    "  y          = \"V2\",\n",
    "  col        = \"V3\",\n",
    "  size       = \"V4\",\n",
    "  text.col   = \"Team\",\n",
    "  labels     = labs_off,\n",
    "  title      = \"Real Madrid vs Panathinaikos — offensive stats\",\n",
    "  text.legend= TRUE,\n",
    "  text.size  = 3.5,\n",
    "  scale      = FALSE\n",
    ")\n",
    "\n",
    "\n",
    "if (!dir.exists(\"plots\")) dir.create(\"plots\")\n",
    "ggsave(\"plots/bubbles_def.png\", p_def, width = 7, height = 7, dpi = 300)\n",
    "ggsave(\"plots/bubbles_off.png\", p_def, width = 7, height = 7, dpi = 300)\n",
    "\n",
    "browseURL(file.path(getwd(), \"plots\", \"bubbles_def.png\"))\n",
    "browseURL(file.path(getwd(), \"plots\", \"bubbles_off.png\"))"
   ]
  },
  {
   "cell_type": "markdown",
   "id": "8c264a82",
   "metadata": {},
   "source": [
    "Variability analysis"
   ]
  },
  {
   "cell_type": "code",
   "execution_count": 26,
   "id": "35833c57",
   "metadata": {
    "vscode": {
     "languageId": "r"
    }
   },
   "outputs": [],
   "source": [
    "pbox_regular.PAN <- subset(pbox_regular, Team == \"Panathinaikos\"\n",
    "& MIN>=150)\n",
    "vrb2 <- variability(data=pbox_regular.PAN,\n",
    "data.var=c(\"P2p\",\"P3p\",\"FTp\"),\n",
    "size.var=c(\"P2A\",\"P3A\",\"FTA\"),\n",
    "weight=TRUE)\n",
    "\n",
    "vrb_PAN <- plot(vrb2, title=\"Variability diagram - Panathinaikos\")\n",
    "\n",
    "if (!dir.exists(\"plots\")) dir.create(\"plots\")\n",
    "ggsave(\"plots/vrb_PAN.png\",\n",
    "       vrb_PAN, width = 8, height = 6, dpi = 300)\n",
    "\n",
    "browseURL(file.path(getwd(), \"plots\", \"vrb_PAN.png\"))"
   ]
  },
  {
   "cell_type": "code",
   "execution_count": 27,
   "id": "81c9543d",
   "metadata": {
    "vscode": {
     "languageId": "r"
    }
   },
   "outputs": [],
   "source": [
    "pbox_regular.RMB <- subset(pbox_regular, Team == \"Real Madrid\"\n",
    "& MIN>=150)\n",
    "vrb2 <- variability(data=pbox_regular.RMB,\n",
    "data.var=c(\"P2p\",\"P3p\",\"FTp\"),\n",
    "size.var=c(\"P2A\",\"P3A\",\"FTA\"),\n",
    "weight=TRUE)\n",
    "\n",
    "vrb_RMB <- plot(vrb2, title=\"Variability diagram - Real Madrid\")\n",
    "\n",
    "if (!dir.exists(\"plots\")) dir.create(\"plots\")\n",
    "ggsave(\"plots/vrb_RMB.png\",\n",
    "       vrb_RMB, width = 8, height = 6, dpi = 300)\n",
    "\n",
    "browseURL(file.path(getwd(), \"plots\", \"vrb_RMB.png\"))"
   ]
  },
  {
   "cell_type": "markdown",
   "id": "d3b469ea",
   "metadata": {},
   "source": [
    "Testy staystyczne do różnic w skuteczności variability analisys"
   ]
  },
  {
   "cell_type": "code",
   "execution_count": 28,
   "id": "fe55215e",
   "metadata": {
    "vscode": {
     "languageId": "r"
    }
   },
   "outputs": [
    {
     "data": {
      "text/html": [
       "<table class=\"dataframe\">\n",
       "<caption>A tibble: 10 × 4</caption>\n",
       "<thead>\n",
       "\t<tr><th scope=col>Player</th><th scope=col>P2p</th><th scope=col>P3p</th><th scope=col>FTp</th></tr>\n",
       "\t<tr><th scope=col>&lt;chr&gt;</th><th scope=col>&lt;dbl&gt;</th><th scope=col>&lt;dbl&gt;</th><th scope=col>&lt;dbl&gt;</th></tr>\n",
       "</thead>\n",
       "<tbody>\n",
       "\t<tr><td>Aleksander Balcerowski</td><td>62.86</td><td>11.11</td><td>70.00</td></tr>\n",
       "\t<tr><td>Jerian Grant          </td><td>49.17</td><td>41.00</td><td>88.73</td></tr>\n",
       "\t<tr><td>Juancho Hernangomez   </td><td>50.00</td><td>28.33</td><td>74.19</td></tr>\n",
       "\t<tr><td>Kendrick Nunn         </td><td>46.12</td><td>38.46</td><td>98.18</td></tr>\n",
       "\t<tr><td>Konstantinos Mitoglou </td><td>55.73</td><td>34.04</td><td>72.84</td></tr>\n",
       "\t<tr><td>Kostas Antetokounmpo  </td><td>64.44</td><td>   NA</td><td>42.11</td></tr>\n",
       "\t<tr><td>Kostas Sloukas        </td><td>54.90</td><td>40.87</td><td>83.33</td></tr>\n",
       "\t<tr><td>Luca Vildoza          </td><td>41.67</td><td>32.53</td><td>72.22</td></tr>\n",
       "\t<tr><td>Marius Grigonis       </td><td>58.24</td><td>43.62</td><td>89.58</td></tr>\n",
       "\t<tr><td>Mathias Lessort       </td><td>62.31</td><td>   NA</td><td>65.82</td></tr>\n",
       "</tbody>\n",
       "</table>\n"
      ],
      "text/latex": [
       "A tibble: 10 × 4\n",
       "\\begin{tabular}{llll}\n",
       " Player & P2p & P3p & FTp\\\\\n",
       " <chr> & <dbl> & <dbl> & <dbl>\\\\\n",
       "\\hline\n",
       "\t Aleksander Balcerowski & 62.86 & 11.11 & 70.00\\\\\n",
       "\t Jerian Grant           & 49.17 & 41.00 & 88.73\\\\\n",
       "\t Juancho Hernangomez    & 50.00 & 28.33 & 74.19\\\\\n",
       "\t Kendrick Nunn          & 46.12 & 38.46 & 98.18\\\\\n",
       "\t Konstantinos Mitoglou  & 55.73 & 34.04 & 72.84\\\\\n",
       "\t Kostas Antetokounmpo   & 64.44 &    NA & 42.11\\\\\n",
       "\t Kostas Sloukas         & 54.90 & 40.87 & 83.33\\\\\n",
       "\t Luca Vildoza           & 41.67 & 32.53 & 72.22\\\\\n",
       "\t Marius Grigonis        & 58.24 & 43.62 & 89.58\\\\\n",
       "\t Mathias Lessort        & 62.31 &    NA & 65.82\\\\\n",
       "\\end{tabular}\n"
      ],
      "text/markdown": [
       "\n",
       "A tibble: 10 × 4\n",
       "\n",
       "| Player &lt;chr&gt; | P2p &lt;dbl&gt; | P3p &lt;dbl&gt; | FTp &lt;dbl&gt; |\n",
       "|---|---|---|---|\n",
       "| Aleksander Balcerowski | 62.86 | 11.11 | 70.00 |\n",
       "| Jerian Grant           | 49.17 | 41.00 | 88.73 |\n",
       "| Juancho Hernangomez    | 50.00 | 28.33 | 74.19 |\n",
       "| Kendrick Nunn          | 46.12 | 38.46 | 98.18 |\n",
       "| Konstantinos Mitoglou  | 55.73 | 34.04 | 72.84 |\n",
       "| Kostas Antetokounmpo   | 64.44 |    NA | 42.11 |\n",
       "| Kostas Sloukas         | 54.90 | 40.87 | 83.33 |\n",
       "| Luca Vildoza           | 41.67 | 32.53 | 72.22 |\n",
       "| Marius Grigonis        | 58.24 | 43.62 | 89.58 |\n",
       "| Mathias Lessort        | 62.31 |    NA | 65.82 |\n",
       "\n"
      ],
      "text/plain": [
       "   Player                 P2p   P3p   FTp  \n",
       "1  Aleksander Balcerowski 62.86 11.11 70.00\n",
       "2  Jerian Grant           49.17 41.00 88.73\n",
       "3  Juancho Hernangomez    50.00 28.33 74.19\n",
       "4  Kendrick Nunn          46.12 38.46 98.18\n",
       "5  Konstantinos Mitoglou  55.73 34.04 72.84\n",
       "6  Kostas Antetokounmpo   64.44    NA 42.11\n",
       "7  Kostas Sloukas         54.90 40.87 83.33\n",
       "8  Luca Vildoza           41.67 32.53 72.22\n",
       "9  Marius Grigonis        58.24 43.62 89.58\n",
       "10 Mathias Lessort        62.31    NA 65.82"
      ]
     },
     "metadata": {},
     "output_type": "display_data"
    }
   ],
   "source": [
    "tab_PAN <- pbox_regular.PAN %>%\n",
    "  select(Player, P2p, P3p, FTp)\n",
    "  \n",
    "\n",
    "tab_PAN"
   ]
  },
  {
   "cell_type": "code",
   "execution_count": 29,
   "id": "e156bf62",
   "metadata": {
    "vscode": {
     "languageId": "r"
    }
   },
   "outputs": [
    {
     "data": {
      "text/html": [
       "<table class=\"dataframe\">\n",
       "<caption>A tibble: 13 × 4</caption>\n",
       "<thead>\n",
       "\t<tr><th scope=col>Player</th><th scope=col>P2p</th><th scope=col>P3p</th><th scope=col>FTp</th></tr>\n",
       "\t<tr><th scope=col>&lt;chr&gt;</th><th scope=col>&lt;dbl&gt;</th><th scope=col>&lt;dbl&gt;</th><th scope=col>&lt;dbl&gt;</th></tr>\n",
       "</thead>\n",
       "<tbody>\n",
       "\t<tr><td>Alberto Abalde    </td><td>50.00</td><td>40.00</td><td>87.50</td></tr>\n",
       "\t<tr><td>Dzanan Musa       </td><td>61.73</td><td>42.50</td><td>82.68</td></tr>\n",
       "\t<tr><td>Eli Ndiaye        </td><td>55.17</td><td>26.09</td><td>66.67</td></tr>\n",
       "\t<tr><td>Fabien Causeur    </td><td>52.31</td><td>38.46</td><td>93.75</td></tr>\n",
       "\t<tr><td>Facundo Campazzo  </td><td>56.30</td><td>30.37</td><td>87.13</td></tr>\n",
       "\t<tr><td>Gabriel Deck      </td><td>67.96</td><td>36.96</td><td>89.74</td></tr>\n",
       "\t<tr><td>Guerschon Yabusele</td><td>62.16</td><td>48.08</td><td>85.71</td></tr>\n",
       "\t<tr><td>Mario Hezonja     </td><td>52.98</td><td>45.28</td><td>91.89</td></tr>\n",
       "\t<tr><td>Rudy Fernandez    </td><td>50.00</td><td>35.09</td><td>85.71</td></tr>\n",
       "\t<tr><td>Sergio Llull      </td><td>41.10</td><td>33.33</td><td>78.95</td></tr>\n",
       "\t<tr><td>Sergio Rodriguez  </td><td>30.61</td><td>32.86</td><td>83.33</td></tr>\n",
       "\t<tr><td>Vincent Poirier   </td><td>67.47</td><td>40.00</td><td>69.62</td></tr>\n",
       "\t<tr><td>Walter Tavares    </td><td>61.05</td><td>   NA</td><td>75.28</td></tr>\n",
       "</tbody>\n",
       "</table>\n"
      ],
      "text/latex": [
       "A tibble: 13 × 4\n",
       "\\begin{tabular}{llll}\n",
       " Player & P2p & P3p & FTp\\\\\n",
       " <chr> & <dbl> & <dbl> & <dbl>\\\\\n",
       "\\hline\n",
       "\t Alberto Abalde     & 50.00 & 40.00 & 87.50\\\\\n",
       "\t Dzanan Musa        & 61.73 & 42.50 & 82.68\\\\\n",
       "\t Eli Ndiaye         & 55.17 & 26.09 & 66.67\\\\\n",
       "\t Fabien Causeur     & 52.31 & 38.46 & 93.75\\\\\n",
       "\t Facundo Campazzo   & 56.30 & 30.37 & 87.13\\\\\n",
       "\t Gabriel Deck       & 67.96 & 36.96 & 89.74\\\\\n",
       "\t Guerschon Yabusele & 62.16 & 48.08 & 85.71\\\\\n",
       "\t Mario Hezonja      & 52.98 & 45.28 & 91.89\\\\\n",
       "\t Rudy Fernandez     & 50.00 & 35.09 & 85.71\\\\\n",
       "\t Sergio Llull       & 41.10 & 33.33 & 78.95\\\\\n",
       "\t Sergio Rodriguez   & 30.61 & 32.86 & 83.33\\\\\n",
       "\t Vincent Poirier    & 67.47 & 40.00 & 69.62\\\\\n",
       "\t Walter Tavares     & 61.05 &    NA & 75.28\\\\\n",
       "\\end{tabular}\n"
      ],
      "text/markdown": [
       "\n",
       "A tibble: 13 × 4\n",
       "\n",
       "| Player &lt;chr&gt; | P2p &lt;dbl&gt; | P3p &lt;dbl&gt; | FTp &lt;dbl&gt; |\n",
       "|---|---|---|---|\n",
       "| Alberto Abalde     | 50.00 | 40.00 | 87.50 |\n",
       "| Dzanan Musa        | 61.73 | 42.50 | 82.68 |\n",
       "| Eli Ndiaye         | 55.17 | 26.09 | 66.67 |\n",
       "| Fabien Causeur     | 52.31 | 38.46 | 93.75 |\n",
       "| Facundo Campazzo   | 56.30 | 30.37 | 87.13 |\n",
       "| Gabriel Deck       | 67.96 | 36.96 | 89.74 |\n",
       "| Guerschon Yabusele | 62.16 | 48.08 | 85.71 |\n",
       "| Mario Hezonja      | 52.98 | 45.28 | 91.89 |\n",
       "| Rudy Fernandez     | 50.00 | 35.09 | 85.71 |\n",
       "| Sergio Llull       | 41.10 | 33.33 | 78.95 |\n",
       "| Sergio Rodriguez   | 30.61 | 32.86 | 83.33 |\n",
       "| Vincent Poirier    | 67.47 | 40.00 | 69.62 |\n",
       "| Walter Tavares     | 61.05 |    NA | 75.28 |\n",
       "\n"
      ],
      "text/plain": [
       "   Player             P2p   P3p   FTp  \n",
       "1  Alberto Abalde     50.00 40.00 87.50\n",
       "2  Dzanan Musa        61.73 42.50 82.68\n",
       "3  Eli Ndiaye         55.17 26.09 66.67\n",
       "4  Fabien Causeur     52.31 38.46 93.75\n",
       "5  Facundo Campazzo   56.30 30.37 87.13\n",
       "6  Gabriel Deck       67.96 36.96 89.74\n",
       "7  Guerschon Yabusele 62.16 48.08 85.71\n",
       "8  Mario Hezonja      52.98 45.28 91.89\n",
       "9  Rudy Fernandez     50.00 35.09 85.71\n",
       "10 Sergio Llull       41.10 33.33 78.95\n",
       "11 Sergio Rodriguez   30.61 32.86 83.33\n",
       "12 Vincent Poirier    67.47 40.00 69.62\n",
       "13 Walter Tavares     61.05    NA 75.28"
      ]
     },
     "metadata": {},
     "output_type": "display_data"
    }
   ],
   "source": [
    "tab_RMB <- pbox_regular.RMB %>%\n",
    "  select(Player, P2p, P3p, FTp)\n",
    "\n",
    "\n",
    "tab_RMB"
   ]
  },
  {
   "cell_type": "markdown",
   "id": "f76d635d",
   "metadata": {},
   "source": [
    "Sprawdzenie normalności rozkładów badanych cech - shapiro.test"
   ]
  },
  {
   "cell_type": "code",
   "execution_count": null,
   "id": "b3d6eda1",
   "metadata": {
    "vscode": {
     "languageId": "r"
    }
   },
   "outputs": [
    {
     "data": {
      "text/plain": [
       "\n",
       "\tShapiro-Wilk normality test\n",
       "\n",
       "data:  tab_PAN$P2p\n",
       "W = 0.95154, p-value = 0.6868\n"
      ]
     },
     "metadata": {},
     "output_type": "display_data"
    },
    {
     "data": {
      "text/plain": [
       "\n",
       "\tShapiro-Wilk normality test\n",
       "\n",
       "data:  tab_PAN$P3p\n",
       "W = 0.84105, p-value = 0.07721\n"
      ]
     },
     "metadata": {},
     "output_type": "display_data"
    },
    {
     "data": {
      "text/plain": [
       "\n",
       "\tShapiro-Wilk normality test\n",
       "\n",
       "data:  tab_PAN$FTp\n",
       "W = 0.93466, p-value = 0.4952\n"
      ]
     },
     "metadata": {},
     "output_type": "display_data"
    }
   ],
   "source": [
    "shapiro.test(tab_PAN$P2p)\n",
    "shapiro.test(tab_PAN$P3p)\n",
    "shapiro.test(tab_PAN$FTp)"
   ]
  },
  {
   "cell_type": "code",
   "execution_count": null,
   "id": "c9a9d718",
   "metadata": {
    "vscode": {
     "languageId": "r"
    }
   },
   "outputs": [
    {
     "data": {
      "text/plain": [
       "\n",
       "\tShapiro-Wilk normality test\n",
       "\n",
       "data:  tab_RMB$P2p\n",
       "W = 0.9313, p-value = 0.3544\n"
      ]
     },
     "metadata": {},
     "output_type": "display_data"
    },
    {
     "data": {
      "text/plain": [
       "\n",
       "\tShapiro-Wilk normality test\n",
       "\n",
       "data:  tab_RMB$P3p\n",
       "W = 0.99195, p-value = 1\n"
      ]
     },
     "metadata": {},
     "output_type": "display_data"
    },
    {
     "data": {
      "text/plain": [
       "\n",
       "\tShapiro-Wilk normality test\n",
       "\n",
       "data:  tab_RMB$FTp\n",
       "W = 0.9279, p-value = 0.3198\n"
      ]
     },
     "metadata": {},
     "output_type": "display_data"
    }
   ],
   "source": [
    "shapiro.test(tab_RMB$P2p)\n",
    "shapiro.test(tab_RMB$P3p)\n",
    "shapiro.test(tab_RMB$FTp)"
   ]
  },
  {
   "cell_type": "markdown",
   "id": "4dc6430a",
   "metadata": {},
   "source": [
    "Sprawdzenie jednorodności wariancji w parach badanych cech - bartlett.test"
   ]
  },
  {
   "cell_type": "code",
   "execution_count": null,
   "id": "906b7d55",
   "metadata": {
    "vscode": {
     "languageId": "r"
    }
   },
   "outputs": [
    {
     "data": {
      "text/html": [
       "<table class=\"dataframe\">\n",
       "<caption>A tibble: 23 × 5</caption>\n",
       "<thead>\n",
       "\t<tr><th scope=col>Player</th><th scope=col>P2p</th><th scope=col>P3p</th><th scope=col>FTp</th><th scope=col>Team</th></tr>\n",
       "\t<tr><th scope=col>&lt;chr&gt;</th><th scope=col>&lt;dbl&gt;</th><th scope=col>&lt;dbl&gt;</th><th scope=col>&lt;dbl&gt;</th><th scope=col>&lt;chr&gt;</th></tr>\n",
       "</thead>\n",
       "<tbody>\n",
       "\t<tr><td>Aleksander Balcerowski</td><td>62.86</td><td>11.11</td><td>70.00</td><td>Panathinaikos</td></tr>\n",
       "\t<tr><td>Jerian Grant          </td><td>49.17</td><td>41.00</td><td>88.73</td><td>Panathinaikos</td></tr>\n",
       "\t<tr><td>Juancho Hernangomez   </td><td>50.00</td><td>28.33</td><td>74.19</td><td>Panathinaikos</td></tr>\n",
       "\t<tr><td>Kendrick Nunn         </td><td>46.12</td><td>38.46</td><td>98.18</td><td>Panathinaikos</td></tr>\n",
       "\t<tr><td>Konstantinos Mitoglou </td><td>55.73</td><td>34.04</td><td>72.84</td><td>Panathinaikos</td></tr>\n",
       "\t<tr><td>Kostas Antetokounmpo  </td><td>64.44</td><td>   NA</td><td>42.11</td><td>Panathinaikos</td></tr>\n",
       "\t<tr><td>Kostas Sloukas        </td><td>54.90</td><td>40.87</td><td>83.33</td><td>Panathinaikos</td></tr>\n",
       "\t<tr><td>Luca Vildoza          </td><td>41.67</td><td>32.53</td><td>72.22</td><td>Panathinaikos</td></tr>\n",
       "\t<tr><td>Marius Grigonis       </td><td>58.24</td><td>43.62</td><td>89.58</td><td>Panathinaikos</td></tr>\n",
       "\t<tr><td>Mathias Lessort       </td><td>62.31</td><td>   NA</td><td>65.82</td><td>Panathinaikos</td></tr>\n",
       "\t<tr><td>Alberto Abalde        </td><td>50.00</td><td>40.00</td><td>87.50</td><td>Real Madrid  </td></tr>\n",
       "\t<tr><td>Dzanan Musa           </td><td>61.73</td><td>42.50</td><td>82.68</td><td>Real Madrid  </td></tr>\n",
       "\t<tr><td>Eli Ndiaye            </td><td>55.17</td><td>26.09</td><td>66.67</td><td>Real Madrid  </td></tr>\n",
       "\t<tr><td>Fabien Causeur        </td><td>52.31</td><td>38.46</td><td>93.75</td><td>Real Madrid  </td></tr>\n",
       "\t<tr><td>Facundo Campazzo      </td><td>56.30</td><td>30.37</td><td>87.13</td><td>Real Madrid  </td></tr>\n",
       "\t<tr><td>Gabriel Deck          </td><td>67.96</td><td>36.96</td><td>89.74</td><td>Real Madrid  </td></tr>\n",
       "\t<tr><td>Guerschon Yabusele    </td><td>62.16</td><td>48.08</td><td>85.71</td><td>Real Madrid  </td></tr>\n",
       "\t<tr><td>Mario Hezonja         </td><td>52.98</td><td>45.28</td><td>91.89</td><td>Real Madrid  </td></tr>\n",
       "\t<tr><td>Rudy Fernandez        </td><td>50.00</td><td>35.09</td><td>85.71</td><td>Real Madrid  </td></tr>\n",
       "\t<tr><td>Sergio Llull          </td><td>41.10</td><td>33.33</td><td>78.95</td><td>Real Madrid  </td></tr>\n",
       "\t<tr><td>Sergio Rodriguez      </td><td>30.61</td><td>32.86</td><td>83.33</td><td>Real Madrid  </td></tr>\n",
       "\t<tr><td>Vincent Poirier       </td><td>67.47</td><td>40.00</td><td>69.62</td><td>Real Madrid  </td></tr>\n",
       "\t<tr><td>Walter Tavares        </td><td>61.05</td><td>   NA</td><td>75.28</td><td>Real Madrid  </td></tr>\n",
       "</tbody>\n",
       "</table>\n"
      ],
      "text/latex": [
       "A tibble: 23 × 5\n",
       "\\begin{tabular}{lllll}\n",
       " Player & P2p & P3p & FTp & Team\\\\\n",
       " <chr> & <dbl> & <dbl> & <dbl> & <chr>\\\\\n",
       "\\hline\n",
       "\t Aleksander Balcerowski & 62.86 & 11.11 & 70.00 & Panathinaikos\\\\\n",
       "\t Jerian Grant           & 49.17 & 41.00 & 88.73 & Panathinaikos\\\\\n",
       "\t Juancho Hernangomez    & 50.00 & 28.33 & 74.19 & Panathinaikos\\\\\n",
       "\t Kendrick Nunn          & 46.12 & 38.46 & 98.18 & Panathinaikos\\\\\n",
       "\t Konstantinos Mitoglou  & 55.73 & 34.04 & 72.84 & Panathinaikos\\\\\n",
       "\t Kostas Antetokounmpo   & 64.44 &    NA & 42.11 & Panathinaikos\\\\\n",
       "\t Kostas Sloukas         & 54.90 & 40.87 & 83.33 & Panathinaikos\\\\\n",
       "\t Luca Vildoza           & 41.67 & 32.53 & 72.22 & Panathinaikos\\\\\n",
       "\t Marius Grigonis        & 58.24 & 43.62 & 89.58 & Panathinaikos\\\\\n",
       "\t Mathias Lessort        & 62.31 &    NA & 65.82 & Panathinaikos\\\\\n",
       "\t Alberto Abalde         & 50.00 & 40.00 & 87.50 & Real Madrid  \\\\\n",
       "\t Dzanan Musa            & 61.73 & 42.50 & 82.68 & Real Madrid  \\\\\n",
       "\t Eli Ndiaye             & 55.17 & 26.09 & 66.67 & Real Madrid  \\\\\n",
       "\t Fabien Causeur         & 52.31 & 38.46 & 93.75 & Real Madrid  \\\\\n",
       "\t Facundo Campazzo       & 56.30 & 30.37 & 87.13 & Real Madrid  \\\\\n",
       "\t Gabriel Deck           & 67.96 & 36.96 & 89.74 & Real Madrid  \\\\\n",
       "\t Guerschon Yabusele     & 62.16 & 48.08 & 85.71 & Real Madrid  \\\\\n",
       "\t Mario Hezonja          & 52.98 & 45.28 & 91.89 & Real Madrid  \\\\\n",
       "\t Rudy Fernandez         & 50.00 & 35.09 & 85.71 & Real Madrid  \\\\\n",
       "\t Sergio Llull           & 41.10 & 33.33 & 78.95 & Real Madrid  \\\\\n",
       "\t Sergio Rodriguez       & 30.61 & 32.86 & 83.33 & Real Madrid  \\\\\n",
       "\t Vincent Poirier        & 67.47 & 40.00 & 69.62 & Real Madrid  \\\\\n",
       "\t Walter Tavares         & 61.05 &    NA & 75.28 & Real Madrid  \\\\\n",
       "\\end{tabular}\n"
      ],
      "text/markdown": [
       "\n",
       "A tibble: 23 × 5\n",
       "\n",
       "| Player &lt;chr&gt; | P2p &lt;dbl&gt; | P3p &lt;dbl&gt; | FTp &lt;dbl&gt; | Team &lt;chr&gt; |\n",
       "|---|---|---|---|---|\n",
       "| Aleksander Balcerowski | 62.86 | 11.11 | 70.00 | Panathinaikos |\n",
       "| Jerian Grant           | 49.17 | 41.00 | 88.73 | Panathinaikos |\n",
       "| Juancho Hernangomez    | 50.00 | 28.33 | 74.19 | Panathinaikos |\n",
       "| Kendrick Nunn          | 46.12 | 38.46 | 98.18 | Panathinaikos |\n",
       "| Konstantinos Mitoglou  | 55.73 | 34.04 | 72.84 | Panathinaikos |\n",
       "| Kostas Antetokounmpo   | 64.44 |    NA | 42.11 | Panathinaikos |\n",
       "| Kostas Sloukas         | 54.90 | 40.87 | 83.33 | Panathinaikos |\n",
       "| Luca Vildoza           | 41.67 | 32.53 | 72.22 | Panathinaikos |\n",
       "| Marius Grigonis        | 58.24 | 43.62 | 89.58 | Panathinaikos |\n",
       "| Mathias Lessort        | 62.31 |    NA | 65.82 | Panathinaikos |\n",
       "| Alberto Abalde         | 50.00 | 40.00 | 87.50 | Real Madrid   |\n",
       "| Dzanan Musa            | 61.73 | 42.50 | 82.68 | Real Madrid   |\n",
       "| Eli Ndiaye             | 55.17 | 26.09 | 66.67 | Real Madrid   |\n",
       "| Fabien Causeur         | 52.31 | 38.46 | 93.75 | Real Madrid   |\n",
       "| Facundo Campazzo       | 56.30 | 30.37 | 87.13 | Real Madrid   |\n",
       "| Gabriel Deck           | 67.96 | 36.96 | 89.74 | Real Madrid   |\n",
       "| Guerschon Yabusele     | 62.16 | 48.08 | 85.71 | Real Madrid   |\n",
       "| Mario Hezonja          | 52.98 | 45.28 | 91.89 | Real Madrid   |\n",
       "| Rudy Fernandez         | 50.00 | 35.09 | 85.71 | Real Madrid   |\n",
       "| Sergio Llull           | 41.10 | 33.33 | 78.95 | Real Madrid   |\n",
       "| Sergio Rodriguez       | 30.61 | 32.86 | 83.33 | Real Madrid   |\n",
       "| Vincent Poirier        | 67.47 | 40.00 | 69.62 | Real Madrid   |\n",
       "| Walter Tavares         | 61.05 |    NA | 75.28 | Real Madrid   |\n",
       "\n"
      ],
      "text/plain": [
       "   Player                 P2p   P3p   FTp   Team         \n",
       "1  Aleksander Balcerowski 62.86 11.11 70.00 Panathinaikos\n",
       "2  Jerian Grant           49.17 41.00 88.73 Panathinaikos\n",
       "3  Juancho Hernangomez    50.00 28.33 74.19 Panathinaikos\n",
       "4  Kendrick Nunn          46.12 38.46 98.18 Panathinaikos\n",
       "5  Konstantinos Mitoglou  55.73 34.04 72.84 Panathinaikos\n",
       "6  Kostas Antetokounmpo   64.44    NA 42.11 Panathinaikos\n",
       "7  Kostas Sloukas         54.90 40.87 83.33 Panathinaikos\n",
       "8  Luca Vildoza           41.67 32.53 72.22 Panathinaikos\n",
       "9  Marius Grigonis        58.24 43.62 89.58 Panathinaikos\n",
       "10 Mathias Lessort        62.31    NA 65.82 Panathinaikos\n",
       "11 Alberto Abalde         50.00 40.00 87.50 Real Madrid  \n",
       "12 Dzanan Musa            61.73 42.50 82.68 Real Madrid  \n",
       "13 Eli Ndiaye             55.17 26.09 66.67 Real Madrid  \n",
       "14 Fabien Causeur         52.31 38.46 93.75 Real Madrid  \n",
       "15 Facundo Campazzo       56.30 30.37 87.13 Real Madrid  \n",
       "16 Gabriel Deck           67.96 36.96 89.74 Real Madrid  \n",
       "17 Guerschon Yabusele     62.16 48.08 85.71 Real Madrid  \n",
       "18 Mario Hezonja          52.98 45.28 91.89 Real Madrid  \n",
       "19 Rudy Fernandez         50.00 35.09 85.71 Real Madrid  \n",
       "20 Sergio Llull           41.10 33.33 78.95 Real Madrid  \n",
       "21 Sergio Rodriguez       30.61 32.86 83.33 Real Madrid  \n",
       "22 Vincent Poirier        67.47 40.00 69.62 Real Madrid  \n",
       "23 Walter Tavares         61.05    NA 75.28 Real Madrid  "
      ]
     },
     "metadata": {},
     "output_type": "display_data"
    },
    {
     "data": {
      "text/plain": [
       "\n",
       "\tBartlett test of homogeneity of variances\n",
       "\n",
       "data:  P2p by Team\n",
       "Bartlett's K-squared = 0.88896, df = 1, p-value = 0.3458\n"
      ]
     },
     "metadata": {},
     "output_type": "display_data"
    },
    {
     "data": {
      "text/plain": [
       "\n",
       "\tBartlett test of homogeneity of variances\n",
       "\n",
       "data:  P3p by Team\n",
       "Bartlett's K-squared = 2.1465, df = 1, p-value = 0.1429\n"
      ]
     },
     "metadata": {},
     "output_type": "display_data"
    },
    {
     "data": {
      "text/plain": [
       "\n",
       "\tBartlett test of homogeneity of variances\n",
       "\n",
       "data:  FTp by Team\n",
       "Bartlett's K-squared = 4.0253, df = 1, p-value = 0.04482\n"
      ]
     },
     "metadata": {},
     "output_type": "display_data"
    }
   ],
   "source": [
    "tab_PAN$Team <- \"Panathinaikos\"\n",
    "tab_RMB$Team <- \"Real Madrid\"\n",
    "tab_both <- rbind(tab_PAN, tab_RMB)\n",
    "tab_both\n",
    "\n",
    "bartlett.test(P2p ~ Team, data = tab_both)\n",
    "\n",
    "bartlett.test(P3p ~ Team, data = tab_both)\n",
    "\n",
    "bartlett.test(FTp ~ Team, data = tab_both)\n"
   ]
  },
  {
   "cell_type": "markdown",
   "id": "f777bcad",
   "metadata": {},
   "source": [
    "Testy staystyczne dla porównania średnich"
   ]
  },
  {
   "cell_type": "code",
   "execution_count": 33,
   "id": "f7071d3d",
   "metadata": {
    "vscode": {
     "languageId": "r"
    }
   },
   "outputs": [
    {
     "data": {
      "text/plain": [
       "\n",
       "\tTwo Sample t-test\n",
       "\n",
       "data:  P2p by Team\n",
       "t = 0.0045405, df = 21, p-value = 0.9964\n",
       "alternative hypothesis: true difference in means between group Panathinaikos and group Real Madrid is not equal to 0\n",
       "95 percent confidence interval:\n",
       " -8.155933  8.191625\n",
       "sample estimates:\n",
       "mean in group Panathinaikos   mean in group Real Madrid \n",
       "                   54.54400                    54.52615 \n"
      ]
     },
     "metadata": {},
     "output_type": "display_data"
    },
    {
     "data": {
      "text/plain": [
       "\n",
       "\tTwo Sample t-test\n",
       "\n",
       "data:  P3p by Team\n",
       "t = -0.98434, df = 18, p-value = 0.338\n",
       "alternative hypothesis: true difference in means between group Panathinaikos and group Real Madrid is not equal to 0\n",
       "95 percent confidence interval:\n",
       " -11.513524   4.166857\n",
       "sample estimates:\n",
       "mean in group Panathinaikos   mean in group Real Madrid \n",
       "                   33.74500                    37.41833 \n"
      ]
     },
     "metadata": {},
     "output_type": "display_data"
    },
    {
     "data": {
      "text/plain": [
       "\n",
       "\tWelch Two Sample t-test\n",
       "\n",
       "data:  FTp by Team\n",
       "t = -1.324, df = 12.802, p-value = 0.2087\n",
       "alternative hypothesis: true difference in means between group Panathinaikos and group Real Madrid is not equal to 0\n",
       "95 percent confidence interval:\n",
       " -19.019723   4.579723\n",
       "sample estimates:\n",
       "mean in group Panathinaikos   mean in group Real Madrid \n",
       "                      75.70                       82.92 \n"
      ]
     },
     "metadata": {},
     "output_type": "display_data"
    }
   ],
   "source": [
    "t.test(P2p ~ Team, data = tab_both, var.equal = TRUE)\n",
    "t.test(P3p ~ Team, data = tab_both, var.equal = TRUE)\n",
    "t.test(FTp ~ Team, data = tab_both, var.equal = FALSE)"
   ]
  },
  {
   "cell_type": "markdown",
   "id": "5d58daca",
   "metadata": {},
   "source": [
    "Inequality analysis"
   ]
  },
  {
   "cell_type": "code",
   "execution_count": null,
   "id": "ac919912",
   "metadata": {
    "vscode": {
     "languageId": "r"
    }
   },
   "outputs": [],
   "source": [
    "Pbox.PA  <- subset(pbox_regular, Team == \"Panathinaikos\")\n",
    "ineqPA   <- inequality(Pbox.PA$PTS, nplayers = 8)\n",
    "\n",
    "Pbox.RM  <- subset(pbox_regular, Team == \"Real Madrid\")\n",
    "ineqRM   <- inequality(Pbox.RM$PTS, nplayers = 8)\n",
    "\n",
    "p_ineqPA <- plot(ineqPA, title = \"Panathinaikos\")\n",
    "p_ineqRM <- plot(ineqRM, title = \"Real Madrid\")\n",
    "\n",
    "\n",
    "if (!dir.exists(\"plots\")) dir.create(\"plots\")\n",
    "\n",
    "ggsave(\"plots/ineq_PAN.png\", p_ineqPA, width = 7, height = 6, dpi = 300)\n",
    "ggsave(\"plots/ineq_RMB.png\", p_ineqRM, width = 7, height = 6, dpi = 300)\n",
    "\n",
    "browseURL(file.path(getwd(), \"plots\", \"ineq_PAN.png\"))\n",
    "browseURL(file.path(getwd(), \"plots\", \"ineq_RMB.png\"))"
   ]
  },
  {
   "cell_type": "code",
   "execution_count": null,
   "id": "dc4d23ad",
   "metadata": {
    "vscode": {
     "languageId": "r"
    }
   },
   "outputs": [
    {
     "data": {
      "image/png": "[encoded data removed]",
      "text/plain": [
       "plot without title"
      ]
     },
     "metadata": {
      "image/png": {
       "height": 420,
       "width": 420
      }
     },
     "output_type": "display_data"
    }
   ],
   "source": [
    "teams <- sort(unique(tbox_regular$Team))\n",
    "\n",
    "\n",
    "INEQ <- sapply(teams, function(tm) {\n",
    "  Pbox.sel <- subset(pbox_regular, Team == tm)\n",
    "  idx <- inequality(Pbox.sel$PTS, npl = 8)\n",
    "  idx$Gini\n",
    "})\n",
    "\n",
    "ineq_df <- data.frame(Team = teams, INEQ = INEQ)\n",
    "\n",
    "\n",
    "dts <- ineq_df %>%\n",
    "  left_join(tbox_regular %>% select(Team, PTS), by = \"Team\")\n",
    "\n",
    "scatterplot(\n",
    "  dts,\n",
    "  data.var = c(\"INEQ\",\"PTS\"),\n",
    "  labels   = dts$Team,\n",
    "  repel_labels = TRUE,\n",
    "  title = \"Nierówność punktów (Gini) vs Punkty drużyny\"\n",
    ")"
   ]
  },
  {
   "cell_type": "code",
   "execution_count": 36,
   "id": "ae2d8456",
   "metadata": {
    "vscode": {
     "languageId": "r"
    }
   },
   "outputs": [],
   "source": [
    "no.teams <- nrow(tbox_regular)\n",
    "INEQ <- numeric(no.teams)\n",
    "\n",
    "for (k in seq_len(no.teams)) {\n",
    "  Teamk <- tbox_regular$Team[k]             \n",
    "  Pbox.sel <- subset(pbox_regular, Team == Teamk)\n",
    "  idx <- inequality(Pbox.sel$PTS, npl = 8)\n",
    "  INEQ[k] <- idx$Gini\n",
    "}\n",
    "\n",
    "\n",
    "Playoff <- t_add$Playoff[ match(tbox_regular$Team_Tag, t_add$team) ]\n",
    "Playoff <- factor(Playoff, levels = c(FALSE, TRUE))\n",
    "\n",
    "dts <- data.frame(\n",
    "  INEQ = INEQ,\n",
    "  PTS  = tbox_regular$PTS,\n",
    "  Playoff = Playoff\n",
    ")\n",
    "\n",
    "mypal <- colorRampPalette(c(\"red\",\"green\"))  \n",
    "\n",
    "p_ineq_scatter <- scatterplot(\n",
    "  dts,\n",
    "  data.var = c(\"INEQ\",\"PTS\"),\n",
    "  z.var    = \"Playoff\",\n",
    "  labels   = tbox_regular$Team,\n",
    "  palette  = mypal,\n",
    "  repel_labels = TRUE\n",
    ")\n",
    "\n",
    "if (!dir.exists(\"plots\")) dir.create(\"plots\")\n",
    "ggsave(\"plots/ineq_scatter.png\",\n",
    "       p_ineq_scatter, width = 8, height = 6, dpi = 300)\n",
    "\n",
    "browseURL(file.path(getwd(), \"plots\", \"ineq_scatter.png\"))"
   ]
  },
  {
   "cell_type": "markdown",
   "id": "b5dc1156",
   "metadata": {},
   "source": [
    "Testy statystyczne pts, ineq ~ playoff"
   ]
  },
  {
   "cell_type": "code",
   "execution_count": 37,
   "id": "306150ea",
   "metadata": {
    "vscode": {
     "languageId": "r"
    }
   },
   "outputs": [
    {
     "data": {
      "text/html": [
       "<table class=\"dataframe\">\n",
       "<caption>A tibble: 18 × 4</caption>\n",
       "<thead>\n",
       "\t<tr><th scope=col>team</th><th scope=col>pts</th><th scope=col>ineq</th><th scope=col>playoff</th></tr>\n",
       "\t<tr><th scope=col>&lt;chr&gt;</th><th scope=col>&lt;int&gt;</th><th scope=col>&lt;dbl&gt;</th><th scope=col>&lt;lgl&gt;</th></tr>\n",
       "</thead>\n",
       "<tbody>\n",
       "\t<tr><td>Barcelona       </td><td>2812</td><td>18.81</td><td> TRUE</td></tr>\n",
       "\t<tr><td>Baskonia        </td><td>2864</td><td>29.48</td><td> TRUE</td></tr>\n",
       "\t<tr><td>Fenerbahce      </td><td>2894</td><td>22.81</td><td> TRUE</td></tr>\n",
       "\t<tr><td>Maccabi Tel Aviv</td><td>2983</td><td>20.11</td><td> TRUE</td></tr>\n",
       "\t<tr><td>Monaco          </td><td>2785</td><td>29.12</td><td> TRUE</td></tr>\n",
       "\t<tr><td>Olympiacos      </td><td>2685</td><td>21.68</td><td> TRUE</td></tr>\n",
       "\t<tr><td>Panathinaikos   </td><td>2774</td><td>23.86</td><td> TRUE</td></tr>\n",
       "\t<tr><td>Real Madrid     </td><td>2999</td><td>18.95</td><td> TRUE</td></tr>\n",
       "\t<tr><td>ALBA            </td><td>2591</td><td>19.18</td><td>FALSE</td></tr>\n",
       "\t<tr><td>ASVEL           </td><td>2674</td><td>21.44</td><td>FALSE</td></tr>\n",
       "\t<tr><td>Bayern          </td><td>2674</td><td>18.84</td><td>FALSE</td></tr>\n",
       "\t<tr><td>Crvena Zvezda   </td><td>2764</td><td>13.65</td><td>FALSE</td></tr>\n",
       "\t<tr><td>Efes            </td><td>2928</td><td>23.92</td><td>FALSE</td></tr>\n",
       "\t<tr><td>Olimpia Milan   </td><td>2659</td><td>23.52</td><td>FALSE</td></tr>\n",
       "\t<tr><td>Partizan        </td><td>2822</td><td>16.12</td><td>FALSE</td></tr>\n",
       "\t<tr><td>Valencia        </td><td>2582</td><td>27.92</td><td>FALSE</td></tr>\n",
       "\t<tr><td>Virtus Bologna  </td><td>2728</td><td>26.46</td><td>FALSE</td></tr>\n",
       "\t<tr><td>Zalgiris        </td><td>2702</td><td>25.15</td><td>FALSE</td></tr>\n",
       "</tbody>\n",
       "</table>\n"
      ],
      "text/latex": [
       "A tibble: 18 × 4\n",
       "\\begin{tabular}{llll}\n",
       " team & pts & ineq & playoff\\\\\n",
       " <chr> & <int> & <dbl> & <lgl>\\\\\n",
       "\\hline\n",
       "\t Barcelona        & 2812 & 18.81 &  TRUE\\\\\n",
       "\t Baskonia         & 2864 & 29.48 &  TRUE\\\\\n",
       "\t Fenerbahce       & 2894 & 22.81 &  TRUE\\\\\n",
       "\t Maccabi Tel Aviv & 2983 & 20.11 &  TRUE\\\\\n",
       "\t Monaco           & 2785 & 29.12 &  TRUE\\\\\n",
       "\t Olympiacos       & 2685 & 21.68 &  TRUE\\\\\n",
       "\t Panathinaikos    & 2774 & 23.86 &  TRUE\\\\\n",
       "\t Real Madrid      & 2999 & 18.95 &  TRUE\\\\\n",
       "\t ALBA             & 2591 & 19.18 & FALSE\\\\\n",
       "\t ASVEL            & 2674 & 21.44 & FALSE\\\\\n",
       "\t Bayern           & 2674 & 18.84 & FALSE\\\\\n",
       "\t Crvena Zvezda    & 2764 & 13.65 & FALSE\\\\\n",
       "\t Efes             & 2928 & 23.92 & FALSE\\\\\n",
       "\t Olimpia Milan    & 2659 & 23.52 & FALSE\\\\\n",
       "\t Partizan         & 2822 & 16.12 & FALSE\\\\\n",
       "\t Valencia         & 2582 & 27.92 & FALSE\\\\\n",
       "\t Virtus Bologna   & 2728 & 26.46 & FALSE\\\\\n",
       "\t Zalgiris         & 2702 & 25.15 & FALSE\\\\\n",
       "\\end{tabular}\n"
      ],
      "text/markdown": [
       "\n",
       "A tibble: 18 × 4\n",
       "\n",
       "| team &lt;chr&gt; | pts &lt;int&gt; | ineq &lt;dbl&gt; | playoff &lt;lgl&gt; |\n",
       "|---|---|---|---|\n",
       "| Barcelona        | 2812 | 18.81 |  TRUE |\n",
       "| Baskonia         | 2864 | 29.48 |  TRUE |\n",
       "| Fenerbahce       | 2894 | 22.81 |  TRUE |\n",
       "| Maccabi Tel Aviv | 2983 | 20.11 |  TRUE |\n",
       "| Monaco           | 2785 | 29.12 |  TRUE |\n",
       "| Olympiacos       | 2685 | 21.68 |  TRUE |\n",
       "| Panathinaikos    | 2774 | 23.86 |  TRUE |\n",
       "| Real Madrid      | 2999 | 18.95 |  TRUE |\n",
       "| ALBA             | 2591 | 19.18 | FALSE |\n",
       "| ASVEL            | 2674 | 21.44 | FALSE |\n",
       "| Bayern           | 2674 | 18.84 | FALSE |\n",
       "| Crvena Zvezda    | 2764 | 13.65 | FALSE |\n",
       "| Efes             | 2928 | 23.92 | FALSE |\n",
       "| Olimpia Milan    | 2659 | 23.52 | FALSE |\n",
       "| Partizan         | 2822 | 16.12 | FALSE |\n",
       "| Valencia         | 2582 | 27.92 | FALSE |\n",
       "| Virtus Bologna   | 2728 | 26.46 | FALSE |\n",
       "| Zalgiris         | 2702 | 25.15 | FALSE |\n",
       "\n"
      ],
      "text/plain": [
       "   team             pts  ineq  playoff\n",
       "1  Barcelona        2812 18.81  TRUE  \n",
       "2  Baskonia         2864 29.48  TRUE  \n",
       "3  Fenerbahce       2894 22.81  TRUE  \n",
       "4  Maccabi Tel Aviv 2983 20.11  TRUE  \n",
       "5  Monaco           2785 29.12  TRUE  \n",
       "6  Olympiacos       2685 21.68  TRUE  \n",
       "7  Panathinaikos    2774 23.86  TRUE  \n",
       "8  Real Madrid      2999 18.95  TRUE  \n",
       "9  ALBA             2591 19.18 FALSE  \n",
       "10 ASVEL            2674 21.44 FALSE  \n",
       "11 Bayern           2674 18.84 FALSE  \n",
       "12 Crvena Zvezda    2764 13.65 FALSE  \n",
       "13 Efes             2928 23.92 FALSE  \n",
       "14 Olimpia Milan    2659 23.52 FALSE  \n",
       "15 Partizan         2822 16.12 FALSE  \n",
       "16 Valencia         2582 27.92 FALSE  \n",
       "17 Virtus Bologna   2728 26.46 FALSE  \n",
       "18 Zalgiris         2702 25.15 FALSE  "
      ]
     },
     "metadata": {},
     "output_type": "display_data"
    }
   ],
   "source": [
    "tab <- tibble::tibble(\n",
    "  team    = tbox_regular$Team,\n",
    "  pts     = tbox_regular$PTS,\n",
    "  ineq    = INEQ,\n",
    "  playoff = as.logical(Playoff)\n",
    ") %>%\n",
    "  arrange(desc(playoff))\n",
    "\n",
    "  tab"
   ]
  },
  {
   "cell_type": "code",
   "execution_count": 38,
   "id": "a166a5b6",
   "metadata": {
    "vscode": {
     "languageId": "r"
    }
   },
   "outputs": [
    {
     "data": {
      "text/plain": [
       "\n",
       "\tShapiro-Wilk normality test\n",
       "\n",
       "data:  tab$pts\n",
       "W = 0.9621, p-value = 0.6426\n"
      ]
     },
     "metadata": {},
     "output_type": "display_data"
    },
    {
     "data": {
      "text/plain": [
       "\n",
       "\tShapiro-Wilk normality test\n",
       "\n",
       "data:  tab$ineq\n",
       "W = 0.97441, p-value = 0.8752\n"
      ]
     },
     "metadata": {},
     "output_type": "display_data"
    }
   ],
   "source": [
    "shapiro.test(tab$pts)\n",
    "shapiro.test(tab$ineq)"
   ]
  },
  {
   "cell_type": "code",
   "execution_count": 39,
   "id": "76826ea0",
   "metadata": {
    "vscode": {
     "languageId": "r"
    }
   },
   "outputs": [
    {
     "data": {
      "text/plain": [
       "\n",
       "\tBartlett test of homogeneity of variances\n",
       "\n",
       "data:  pts by playoff\n",
       "Bartlett's K-squared = 0.0039711, df = 1, p-value = 0.9498\n"
      ]
     },
     "metadata": {},
     "output_type": "display_data"
    },
    {
     "data": {
      "text/plain": [
       "\n",
       "\tBartlett test of homogeneity of variances\n",
       "\n",
       "data:  ineq by playoff\n",
       "Bartlett's K-squared = 0.062209, df = 1, p-value = 0.803\n"
      ]
     },
     "metadata": {},
     "output_type": "display_data"
    }
   ],
   "source": [
    "bartlett.test(pts ~ playoff, data = tab)\n",
    "bartlett.test(ineq ~ playoff, data = tab)"
   ]
  },
  {
   "cell_type": "code",
   "execution_count": 40,
   "id": "fe53c0f6",
   "metadata": {
    "vscode": {
     "languageId": "r"
    }
   },
   "outputs": [
    {
     "data": {
      "text/plain": [
       "\n",
       "\tTwo Sample t-test\n",
       "\n",
       "data:  pts by playoff\n",
       "t = -2.727, df = 16, p-value = 0.01492\n",
       "alternative hypothesis: true difference in means between group FALSE and group TRUE is not equal to 0\n",
       "95 percent confidence interval:\n",
       " -243.67933  -30.52067\n",
       "sample estimates:\n",
       "mean in group FALSE  mean in group TRUE \n",
       "             2712.4              2849.5 \n"
      ]
     },
     "metadata": {},
     "output_type": "display_data"
    },
    {
     "data": {
      "text/plain": [
       "\n",
       "\tTwo Sample t-test\n",
       "\n",
       "data:  ineq by playoff\n",
       "t = -0.7031, df = 16, p-value = 0.4921\n",
       "alternative hypothesis: true difference in means between group FALSE and group TRUE is not equal to 0\n",
       "95 percent confidence interval:\n",
       " -5.952374  2.987374\n",
       "sample estimates:\n",
       "mean in group FALSE  mean in group TRUE \n",
       "            21.6200             23.1025 \n"
      ]
     },
     "metadata": {},
     "output_type": "display_data"
    }
   ],
   "source": [
    "t.test(pts ~ playoff, data = tab, var.equal = TRUE)\n",
    "t.test(ineq ~ playoff, data = tab, var.equal = TRUE)"
   ]
  },
  {
   "cell_type": "markdown",
   "id": "94324893",
   "metadata": {},
   "source": [
    "Shot charts "
   ]
  },
  {
   "cell_type": "code",
   "execution_count": 41,
   "id": "84f0c541",
   "metadata": {
    "vscode": {
     "languageId": "r"
    }
   },
   "outputs": [],
   "source": [
    "source(file.path(\"R\", \"shotchart_sector.R\"))"
   ]
  },
  {
   "cell_type": "code",
   "execution_count": 42,
   "id": "76f9c4d8",
   "metadata": {
    "vscode": {
     "languageId": "r"
    }
   },
   "outputs": [
    {
     "name": "stderr",
     "output_type": "stream",
     "text": [
      "Warning message:\n",
      "\"\u001b[1m\u001b[22mUsing `size` aesthetic for lines was deprecated in ggplot2 3.4.0.\n",
      "\u001b[36mℹ\u001b[39m Please use `linewidth` instead.\"\n"
     ]
    }
   ],
   "source": [
    "p1 <- shotchart_sector(df = tbox_regular, team = \"Real Madrid\")\n",
    "p2 <- shotchart_sector(df = tbox_regular, team = \"Panathinaikos\")\n",
    "\n",
    "p_comb <- patchwork::wrap_plots(p1, p2, ncol = 2)\n",
    "if (!dir.exists(\"plots\")) dir.create(\"plots\")\n",
    "ggsave(\"plots/shotcharts_RMB_PAN.png\", p_comb, width = 14, height = 7, dpi = 300)\n",
    "browseURL(file.path(getwd(), \"plots\", \"shotcharts_RMB_PAN.png\"))"
   ]
  },
  {
   "cell_type": "code",
   "execution_count": 43,
   "id": "71cb1c1d",
   "metadata": {
    "vscode": {
     "languageId": "r"
    }
   },
   "outputs": [],
   "source": [
    "top6_pan <- pbox_regular %>%\n",
    "  filter(Team == \"Panathinaikos\") %>%\n",
    "  arrange(desc(MIN)) %>%\n",
    "  slice_head(n = 6) %>%\n",
    "  pull(Player)\n",
    "\n",
    "  plots <- lapply(top6_pan, function(p) {\n",
    "  shotchart_sector(pbox_regular, player = p) + ggtitle(p)\n",
    "})\n",
    "\n",
    "p_comb <- patchwork::wrap_plots(plots, ncol = 2, nrow = 3)\n",
    "\n",
    "\n",
    "if (!dir.exists(\"plots\")) dir.create(\"plots\")\n",
    "ggsave(\"plots/panathinaikos_top6_shotcharts.png\", p_comb, width = 16, height = 16, dpi = 300)\n",
    "browseURL(file.path(getwd(), \"plots\", \"panathinaikos_top6_shotcharts.png\"))"
   ]
  },
  {
   "cell_type": "code",
   "execution_count": 44,
   "id": "7b19c785",
   "metadata": {
    "vscode": {
     "languageId": "r"
    }
   },
   "outputs": [],
   "source": [
    "\n",
    "top6_rmb <- pbox_regular %>%\n",
    "  filter(Team == \"Real Madrid\") %>%\n",
    "  arrange(desc(MIN)) %>%\n",
    "  slice_head(n = 6) %>%\n",
    "  pull(Player)\n",
    "\n",
    "plots_rmb <- lapply(top6_rmb, function(p) {\n",
    "  shotchart_sector(pbox_regular, player = p) + ggtitle(p)\n",
    "})\n",
    "\n",
    "p_comb_rmb <- patchwork::wrap_plots(plots_rmb, ncol = 2, nrow = 3)\n",
    "\n",
    "if (!dir.exists(\"plots\")) dir.create(\"plots\")\n",
    "ggsave(\"plots/real_madrid_top6_shotcharts.png\", p_comb_rmb, width = 16, height = 16, dpi = 300)\n",
    "\n",
    "browseURL(file.path(getwd(), \"plots\", \"real_madrid_top6_shotcharts.png\"))"
   ]
  },
  {
   "cell_type": "markdown",
   "id": "54f86526",
   "metadata": {},
   "source": [
    "**Play-off i final four Panathinaikos**"
   ]
  },
  {
   "cell_type": "code",
   "execution_count": 45,
   "id": "e897ed9b",
   "metadata": {
    "vscode": {
     "languageId": "r"
    }
   },
   "outputs": [
    {
     "data": {
      "text/html": [
       "<table class=\"dataframe\">\n",
       "<caption>A fourfactors: 2 × 15</caption>\n",
       "<thead>\n",
       "\t<tr><th></th><th scope=col>Team</th><th scope=col>POSS.Off</th><th scope=col>POSS.Def</th><th scope=col>PACE.Off</th><th scope=col>PACE.Def</th><th scope=col>ORtg</th><th scope=col>DRtg</th><th scope=col>F1.Off</th><th scope=col>F2.Off</th><th scope=col>F3.Off</th><th scope=col>F4.Off</th><th scope=col>F1.Def</th><th scope=col>F2.Def</th><th scope=col>F3.Def</th><th scope=col>F4.Def</th></tr>\n",
       "\t<tr><th></th><th scope=col>&lt;chr&gt;</th><th scope=col>&lt;dbl&gt;</th><th scope=col>&lt;dbl&gt;</th><th scope=col>&lt;dbl&gt;</th><th scope=col>&lt;dbl&gt;</th><th scope=col>&lt;dbl&gt;</th><th scope=col>&lt;dbl&gt;</th><th scope=col>&lt;dbl&gt;</th><th scope=col>&lt;dbl&gt;</th><th scope=col>&lt;dbl&gt;</th><th scope=col>&lt;dbl&gt;</th><th scope=col>&lt;dbl&gt;</th><th scope=col>&lt;dbl&gt;</th><th scope=col>&lt;dbl&gt;</th><th scope=col>&lt;dbl&gt;</th></tr>\n",
       "</thead>\n",
       "<tbody>\n",
       "\t<tr><th scope=row>1</th><td>Maccabi Tel Aviv</td><td>345.32</td><td>348.12</td><td>1.7266</td><td>1.7406</td><td>120.18</td><td>126.68</td><td>53.29</td><td>11.87</td><td>35.56</td><td>17.66</td><td>60.81</td><td>14.94</td><td>64.47</td><td>27.36</td></tr>\n",
       "\t<tr><th scope=row>2</th><td>Panathinaikos   </td><td>348.12</td><td>345.32</td><td>1.7406</td><td>1.7266</td><td>126.68</td><td>120.18</td><td>60.81</td><td>14.94</td><td>35.53</td><td>27.36</td><td>53.29</td><td>11.87</td><td>64.44</td><td>17.66</td></tr>\n",
       "</tbody>\n",
       "</table>\n"
      ],
      "text/latex": [
       "A fourfactors: 2 × 15\n",
       "\\begin{tabular}{r|lllllllllllllll}\n",
       "  & Team & POSS.Off & POSS.Def & PACE.Off & PACE.Def & ORtg & DRtg & F1.Off & F2.Off & F3.Off & F4.Off & F1.Def & F2.Def & F3.Def & F4.Def\\\\\n",
       "  & <chr> & <dbl> & <dbl> & <dbl> & <dbl> & <dbl> & <dbl> & <dbl> & <dbl> & <dbl> & <dbl> & <dbl> & <dbl> & <dbl> & <dbl>\\\\\n",
       "\\hline\n",
       "\t1 & Maccabi Tel Aviv & 345.32 & 348.12 & 1.7266 & 1.7406 & 120.18 & 126.68 & 53.29 & 11.87 & 35.56 & 17.66 & 60.81 & 14.94 & 64.47 & 27.36\\\\\n",
       "\t2 & Panathinaikos    & 348.12 & 345.32 & 1.7406 & 1.7266 & 126.68 & 120.18 & 60.81 & 14.94 & 35.53 & 27.36 & 53.29 & 11.87 & 64.44 & 17.66\\\\\n",
       "\\end{tabular}\n"
      ],
      "text/markdown": [
       "\n",
       "A fourfactors: 2 × 15\n",
       "\n",
       "| <!--/--> | Team &lt;chr&gt; | POSS.Off &lt;dbl&gt; | POSS.Def &lt;dbl&gt; | PACE.Off &lt;dbl&gt; | PACE.Def &lt;dbl&gt; | ORtg &lt;dbl&gt; | DRtg &lt;dbl&gt; | F1.Off &lt;dbl&gt; | F2.Off &lt;dbl&gt; | F3.Off &lt;dbl&gt; | F4.Off &lt;dbl&gt; | F1.Def &lt;dbl&gt; | F2.Def &lt;dbl&gt; | F3.Def &lt;dbl&gt; | F4.Def &lt;dbl&gt; |\n",
       "|---|---|---|---|---|---|---|---|---|---|---|---|---|---|---|---|\n",
       "| 1 | Maccabi Tel Aviv | 345.32 | 348.12 | 1.7266 | 1.7406 | 120.18 | 126.68 | 53.29 | 11.87 | 35.56 | 17.66 | 60.81 | 14.94 | 64.47 | 27.36 |\n",
       "| 2 | Panathinaikos    | 348.12 | 345.32 | 1.7406 | 1.7266 | 126.68 | 120.18 | 60.81 | 14.94 | 35.53 | 27.36 | 53.29 | 11.87 | 64.44 | 17.66 |\n",
       "\n"
      ],
      "text/plain": [
       "  Team             POSS.Off POSS.Def PACE.Off PACE.Def ORtg   DRtg   F1.Off\n",
       "1 Maccabi Tel Aviv 345.32   348.12   1.7266   1.7406   120.18 126.68 53.29 \n",
       "2 Panathinaikos    348.12   345.32   1.7406   1.7266   126.68 120.18 60.81 \n",
       "  F2.Off F3.Off F4.Off F1.Def F2.Def F3.Def F4.Def\n",
       "1 11.87  35.56  17.66  60.81  14.94  64.47  27.36 \n",
       "2 14.94  35.53  27.36  53.29  11.87  64.44  17.66 "
      ]
     },
     "metadata": {},
     "output_type": "display_data"
    }
   ],
   "source": [
    "tm <- c(\"PAN\",\"MTA\")\n",
    "selTeams <- which(tbox_playoff$Team_Tag %in% tm)\n",
    "FF.sel <- fourfactors(tbox_playoff[selTeams,], obox_playoff[selTeams,])\n",
    "head(FF.sel)"
   ]
  },
  {
   "cell_type": "code",
   "execution_count": null,
   "id": "0ba3fcd7",
   "metadata": {
    "vscode": {
     "languageId": "r"
    }
   },
   "outputs": [
    {
     "data": {
      "image/png": "[encoded data removed]",
      "text/plain": [
       "plot without title"
      ]
     },
     "metadata": {
      "image/png": {
       "height": 420,
       "width": 420
      }
     },
     "output_type": "display_data"
    }
   ],
   "source": [
    "plots <- plot(FF.sel)\n",
    "\n",
    "p_comb1 <- patchwork::wrap_plots(plots[1:2], ncol = 1)\n",
    "if (!dir.exists(\"plots\")) dir.create(\"plots\")\n",
    "ggsave(\"plots/FF1_playoff.png\", p_comb1, width = 7, height = 7, dpi = 300)\n",
    "\n",
    "p_comb2 <- patchwork::wrap_plots(plots[3:4], ncol = 1)\n",
    "ggsave(\"plots/FF2_playoff.png\", p_comb2, width = 7, height = 7, dpi = 300)\n",
    "\n",
    "browseURL(file.path(getwd(), \"plots\", \"FF1_playoff.png\"))\n",
    "browseURL(file.path(getwd(), \"plots\", \"FF2_playoff.png\"))"
   ]
  },
  {
   "cell_type": "code",
   "execution_count": null,
   "id": "0b9e82f0",
   "metadata": {
    "vscode": {
     "languageId": "r"
    }
   },
   "outputs": [
    {
     "data": {
      "text/html": [
       "<table class=\"dataframe\">\n",
       "<caption>A data.frame: 10 × 7</caption>\n",
       "<thead>\n",
       "\t<tr><th scope=col>Label</th><th scope=col>Team</th><th scope=col>PM</th><th scope=col>MIN</th><th scope=col>P2M</th><th scope=col>P3M</th><th scope=col>FTM</th></tr>\n",
       "\t<tr><th scope=col>&lt;fct&gt;</th><th scope=col>&lt;chr&gt;</th><th scope=col>&lt;int&gt;</th><th scope=col>&lt;int&gt;</th><th scope=col>&lt;int&gt;</th><th scope=col>&lt;int&gt;</th><th scope=col>&lt;int&gt;</th></tr>\n",
       "</thead>\n",
       "<tbody>\n",
       "\t<tr><td>Jerian Grant (PAN)         </td><td>Panathinaikos</td><td>20</td><td>27</td><td>4</td><td>1</td><td>2</td></tr>\n",
       "\t<tr><td>Kendrick Nunn (PAN)        </td><td>Panathinaikos</td><td>14</td><td>35</td><td>2</td><td>3</td><td>1</td></tr>\n",
       "\t<tr><td>Ioannis Papapetrou (PAN)   </td><td>Panathinaikos</td><td>13</td><td>23</td><td>2</td><td>1</td><td>2</td></tr>\n",
       "\t<tr><td>Mathias Lessort (PAN)      </td><td>Panathinaikos</td><td>12</td><td>32</td><td>6</td><td>0</td><td>5</td></tr>\n",
       "\t<tr><td>Tarik Biberovic (FEN)      </td><td>Fenerbahce   </td><td>10</td><td>18</td><td>1</td><td>0</td><td>2</td></tr>\n",
       "\t<tr><td>Konstantinos Mitoglou (PAN)</td><td>Panathinaikos</td><td> 9</td><td>26</td><td>1</td><td>0</td><td>0</td></tr>\n",
       "\t<tr><td>Sertac Sanli (FEN)         </td><td>Fenerbahce   </td><td> 1</td><td>21</td><td>1</td><td>1</td><td>2</td></tr>\n",
       "\t<tr><td>Marko Guduric (FEN)        </td><td>Fenerbahce   </td><td> 0</td><td>25</td><td>2</td><td>2</td><td>0</td></tr>\n",
       "\t<tr><td>Georgios Papagiannis (FEN) </td><td>Fenerbahce   </td><td>-4</td><td> 4</td><td>0</td><td>1</td><td>0</td></tr>\n",
       "\t<tr><td>Tyler Dorsey (FEN)         </td><td>Fenerbahce   </td><td>-4</td><td>10</td><td>1</td><td>0</td><td>0</td></tr>\n",
       "</tbody>\n",
       "</table>\n"
      ],
      "text/latex": [
       "A data.frame: 10 × 7\n",
       "\\begin{tabular}{lllllll}\n",
       " Label & Team & PM & MIN & P2M & P3M & FTM\\\\\n",
       " <fct> & <chr> & <int> & <int> & <int> & <int> & <int>\\\\\n",
       "\\hline\n",
       "\t Jerian Grant (PAN)          & Panathinaikos & 20 & 27 & 4 & 1 & 2\\\\\n",
       "\t Kendrick Nunn (PAN)         & Panathinaikos & 14 & 35 & 2 & 3 & 1\\\\\n",
       "\t Ioannis Papapetrou (PAN)    & Panathinaikos & 13 & 23 & 2 & 1 & 2\\\\\n",
       "\t Mathias Lessort (PAN)       & Panathinaikos & 12 & 32 & 6 & 0 & 5\\\\\n",
       "\t Tarik Biberovic (FEN)       & Fenerbahce    & 10 & 18 & 1 & 0 & 2\\\\\n",
       "\t Konstantinos Mitoglou (PAN) & Panathinaikos &  9 & 26 & 1 & 0 & 0\\\\\n",
       "\t Sertac Sanli (FEN)          & Fenerbahce    &  1 & 21 & 1 & 1 & 2\\\\\n",
       "\t Marko Guduric (FEN)         & Fenerbahce    &  0 & 25 & 2 & 2 & 0\\\\\n",
       "\t Georgios Papagiannis (FEN)  & Fenerbahce    & -4 &  4 & 0 & 1 & 0\\\\\n",
       "\t Tyler Dorsey (FEN)          & Fenerbahce    & -4 & 10 & 1 & 0 & 0\\\\\n",
       "\\end{tabular}\n"
      ],
      "text/markdown": [
       "\n",
       "A data.frame: 10 × 7\n",
       "\n",
       "| Label &lt;fct&gt; | Team &lt;chr&gt; | PM &lt;int&gt; | MIN &lt;int&gt; | P2M &lt;int&gt; | P3M &lt;int&gt; | FTM &lt;int&gt; |\n",
       "|---|---|---|---|---|---|---|\n",
       "| Jerian Grant (PAN)          | Panathinaikos | 20 | 27 | 4 | 1 | 2 |\n",
       "| Kendrick Nunn (PAN)         | Panathinaikos | 14 | 35 | 2 | 3 | 1 |\n",
       "| Ioannis Papapetrou (PAN)    | Panathinaikos | 13 | 23 | 2 | 1 | 2 |\n",
       "| Mathias Lessort (PAN)       | Panathinaikos | 12 | 32 | 6 | 0 | 5 |\n",
       "| Tarik Biberovic (FEN)       | Fenerbahce    | 10 | 18 | 1 | 0 | 2 |\n",
       "| Konstantinos Mitoglou (PAN) | Panathinaikos |  9 | 26 | 1 | 0 | 0 |\n",
       "| Sertac Sanli (FEN)          | Fenerbahce    |  1 | 21 | 1 | 1 | 2 |\n",
       "| Marko Guduric (FEN)         | Fenerbahce    |  0 | 25 | 2 | 2 | 0 |\n",
       "| Georgios Papagiannis (FEN)  | Fenerbahce    | -4 |  4 | 0 | 1 | 0 |\n",
       "| Tyler Dorsey (FEN)          | Fenerbahce    | -4 | 10 | 1 | 0 | 0 |\n",
       "\n"
      ],
      "text/plain": [
       "   Label                       Team          PM MIN P2M P3M FTM\n",
       "1  Jerian Grant (PAN)          Panathinaikos 20 27  4   1   2  \n",
       "2  Kendrick Nunn (PAN)         Panathinaikos 14 35  2   3   1  \n",
       "3  Ioannis Papapetrou (PAN)    Panathinaikos 13 23  2   1   2  \n",
       "4  Mathias Lessort (PAN)       Panathinaikos 12 32  6   0   5  \n",
       "5  Tarik Biberovic (FEN)       Fenerbahce    10 18  1   0   2  \n",
       "6  Konstantinos Mitoglou (PAN) Panathinaikos  9 26  1   0   0  \n",
       "7  Sertac Sanli (FEN)          Fenerbahce     1 21  1   1   2  \n",
       "8  Marko Guduric (FEN)         Fenerbahce     0 25  2   2   0  \n",
       "9  Georgios Papagiannis (FEN)  Fenerbahce    -4  4  0   1   0  \n",
       "10 Tyler Dorsey (FEN)          Fenerbahce    -4 10  1   0   0  "
      ]
     },
     "metadata": {},
     "output_type": "display_data"
    },
    {
     "data": {
      "text/html": [
       "<table class=\"dataframe\">\n",
       "<caption>A data.frame: 10 × 7</caption>\n",
       "<thead>\n",
       "\t<tr><th scope=col>Label</th><th scope=col>Team</th><th scope=col>PM</th><th scope=col>MIN</th><th scope=col>STL</th><th scope=col>BLK</th><th scope=col>DREB</th></tr>\n",
       "\t<tr><th scope=col>&lt;fct&gt;</th><th scope=col>&lt;chr&gt;</th><th scope=col>&lt;int&gt;</th><th scope=col>&lt;int&gt;</th><th scope=col>&lt;int&gt;</th><th scope=col>&lt;int&gt;</th><th scope=col>&lt;int&gt;</th></tr>\n",
       "</thead>\n",
       "<tbody>\n",
       "\t<tr><td>Jerian Grant (PAN)         </td><td>Panathinaikos</td><td>20</td><td>27</td><td>1</td><td>0</td><td>1</td></tr>\n",
       "\t<tr><td>Kendrick Nunn (PAN)        </td><td>Panathinaikos</td><td>14</td><td>35</td><td>1</td><td>0</td><td>3</td></tr>\n",
       "\t<tr><td>Ioannis Papapetrou (PAN)   </td><td>Panathinaikos</td><td>13</td><td>23</td><td>0</td><td>0</td><td>3</td></tr>\n",
       "\t<tr><td>Mathias Lessort (PAN)      </td><td>Panathinaikos</td><td>12</td><td>32</td><td>2</td><td>1</td><td>8</td></tr>\n",
       "\t<tr><td>Tarik Biberovic (FEN)      </td><td>Fenerbahce   </td><td>10</td><td>18</td><td>0</td><td>0</td><td>2</td></tr>\n",
       "\t<tr><td>Konstantinos Mitoglou (PAN)</td><td>Panathinaikos</td><td> 9</td><td>26</td><td>2</td><td>1</td><td>4</td></tr>\n",
       "\t<tr><td>Sertac Sanli (FEN)         </td><td>Fenerbahce   </td><td> 1</td><td>21</td><td>0</td><td>0</td><td>1</td></tr>\n",
       "\t<tr><td>Marko Guduric (FEN)        </td><td>Fenerbahce   </td><td> 0</td><td>25</td><td>1</td><td>0</td><td>1</td></tr>\n",
       "\t<tr><td>Georgios Papagiannis (FEN) </td><td>Fenerbahce   </td><td>-4</td><td> 4</td><td>0</td><td>0</td><td>1</td></tr>\n",
       "\t<tr><td>Tyler Dorsey (FEN)         </td><td>Fenerbahce   </td><td>-4</td><td>10</td><td>0</td><td>0</td><td>1</td></tr>\n",
       "</tbody>\n",
       "</table>\n"
      ],
      "text/latex": [
       "A data.frame: 10 × 7\n",
       "\\begin{tabular}{lllllll}\n",
       " Label & Team & PM & MIN & STL & BLK & DREB\\\\\n",
       " <fct> & <chr> & <int> & <int> & <int> & <int> & <int>\\\\\n",
       "\\hline\n",
       "\t Jerian Grant (PAN)          & Panathinaikos & 20 & 27 & 1 & 0 & 1\\\\\n",
       "\t Kendrick Nunn (PAN)         & Panathinaikos & 14 & 35 & 1 & 0 & 3\\\\\n",
       "\t Ioannis Papapetrou (PAN)    & Panathinaikos & 13 & 23 & 0 & 0 & 3\\\\\n",
       "\t Mathias Lessort (PAN)       & Panathinaikos & 12 & 32 & 2 & 1 & 8\\\\\n",
       "\t Tarik Biberovic (FEN)       & Fenerbahce    & 10 & 18 & 0 & 0 & 2\\\\\n",
       "\t Konstantinos Mitoglou (PAN) & Panathinaikos &  9 & 26 & 2 & 1 & 4\\\\\n",
       "\t Sertac Sanli (FEN)          & Fenerbahce    &  1 & 21 & 0 & 0 & 1\\\\\n",
       "\t Marko Guduric (FEN)         & Fenerbahce    &  0 & 25 & 1 & 0 & 1\\\\\n",
       "\t Georgios Papagiannis (FEN)  & Fenerbahce    & -4 &  4 & 0 & 0 & 1\\\\\n",
       "\t Tyler Dorsey (FEN)          & Fenerbahce    & -4 & 10 & 0 & 0 & 1\\\\\n",
       "\\end{tabular}\n"
      ],
      "text/markdown": [
       "\n",
       "A data.frame: 10 × 7\n",
       "\n",
       "| Label &lt;fct&gt; | Team &lt;chr&gt; | PM &lt;int&gt; | MIN &lt;int&gt; | STL &lt;int&gt; | BLK &lt;int&gt; | DREB &lt;int&gt; |\n",
       "|---|---|---|---|---|---|---|\n",
       "| Jerian Grant (PAN)          | Panathinaikos | 20 | 27 | 1 | 0 | 1 |\n",
       "| Kendrick Nunn (PAN)         | Panathinaikos | 14 | 35 | 1 | 0 | 3 |\n",
       "| Ioannis Papapetrou (PAN)    | Panathinaikos | 13 | 23 | 0 | 0 | 3 |\n",
       "| Mathias Lessort (PAN)       | Panathinaikos | 12 | 32 | 2 | 1 | 8 |\n",
       "| Tarik Biberovic (FEN)       | Fenerbahce    | 10 | 18 | 0 | 0 | 2 |\n",
       "| Konstantinos Mitoglou (PAN) | Panathinaikos |  9 | 26 | 2 | 1 | 4 |\n",
       "| Sertac Sanli (FEN)          | Fenerbahce    |  1 | 21 | 0 | 0 | 1 |\n",
       "| Marko Guduric (FEN)         | Fenerbahce    |  0 | 25 | 1 | 0 | 1 |\n",
       "| Georgios Papagiannis (FEN)  | Fenerbahce    | -4 |  4 | 0 | 0 | 1 |\n",
       "| Tyler Dorsey (FEN)          | Fenerbahce    | -4 | 10 | 0 | 0 | 1 |\n",
       "\n"
      ],
      "text/plain": [
       "   Label                       Team          PM MIN STL BLK DREB\n",
       "1  Jerian Grant (PAN)          Panathinaikos 20 27  1   0   1   \n",
       "2  Kendrick Nunn (PAN)         Panathinaikos 14 35  1   0   3   \n",
       "3  Ioannis Papapetrou (PAN)    Panathinaikos 13 23  0   0   3   \n",
       "4  Mathias Lessort (PAN)       Panathinaikos 12 32  2   1   8   \n",
       "5  Tarik Biberovic (FEN)       Fenerbahce    10 18  0   0   2   \n",
       "6  Konstantinos Mitoglou (PAN) Panathinaikos  9 26  2   1   4   \n",
       "7  Sertac Sanli (FEN)          Fenerbahce     1 21  0   0   1   \n",
       "8  Marko Guduric (FEN)         Fenerbahce     0 25  1   0   1   \n",
       "9  Georgios Papagiannis (FEN)  Fenerbahce    -4  4  0   0   1   \n",
       "10 Tyler Dorsey (FEN)          Fenerbahce    -4 10  0   0   1   "
      ]
     },
     "metadata": {},
     "output_type": "display_data"
    }
   ],
   "source": [
    "dat_top10 <- data.frame(\n",
    "  subset(pbox_final4_detailed,\n",
    "         ROUND == 42 & Team %in% c(\"Panathinaikos\", \"Fenerbahce\"))\n",
    ")\n",
    "\n",
    "\n",
    "dat_top10 <- dat_top10 %>%\n",
    "  mutate(across(c(P2M, P3M, FTM, STL, BLK, DREB, PM, MIN),\n",
    "                ~ ifelse(is.na(.), 0, .)))\n",
    "\n",
    "\n",
    "dat_top10 <- dat_top10 %>%\n",
    "  group_by(Team) %>%\n",
    "  slice_max(PM, n = 5, with_ties = FALSE) %>%\n",
    "  ungroup()\n",
    "\n",
    "\n",
    "dat_top10 <- dat_top10 %>%\n",
    "  mutate(Label = paste0(Player, \" (\", if_else(Team == \"Panathinaikos\",\"PAN\",\"FEN\"), \")\")) %>%\n",
    "  arrange(desc(PM)) %>%\n",
    "  mutate(Label = factor(Label, levels = Label))\n",
    "\n",
    "dat_off <- dat_top10 %>% select(Label, Team, PM, MIN, P2M, P3M, FTM) %>%\n",
    "  as.data.frame()\n",
    "dat_def <- dat_top10 %>% select(Label, Team, PM, MIN, STL, BLK, DREB) %>%\n",
    "  as.data.frame()\n",
    "\n",
    "dat_off\n",
    "dat_def"
   ]
  },
  {
   "cell_type": "code",
   "execution_count": 56,
   "id": "0f59556a",
   "metadata": {
    "vscode": {
     "languageId": "r"
    }
   },
   "outputs": [],
   "source": [
    "p_off <- barline(\n",
    "  data        = dat_off,\n",
    "  id          = \"Label\",\n",
    "  bars        = c(\"P2M\", \"P3M\", \"FTM\"),\n",
    "  line        = \"MIN\",\n",
    "  order.by    = \"PM\",\n",
    "  labels.bars = c(\"2PM\", \"3PM\", \"FTM\"),\n",
    "  title       = \"Round 42 — Panathinaikos & Fenerbahce — Offense\"\n",
    ")\n",
    "\n",
    "p_def <- barline(\n",
    "  data        = dat_def,\n",
    "  id          = \"Label\",\n",
    "  bars        = c(\"STL\", \"BLK\", \"DREB\"),\n",
    "  line        = \"MIN\",\n",
    "  order.by    = \"PM\",\n",
    "  labels.bars = c(\"Steals\", \"Blocks\", \"Def. Reb.\"),\n",
    "  title       = \"Round 42 — Panathinaikos & Fenerbahce — Defense\"\n",
    ")\n",
    "\n",
    "\n",
    "if (!dir.exists(\"plots\")) dir.create(\"plots\", recursive = TRUE)\n",
    "\n",
    "outfile_off <- file.path(\"plots\",\"PAN_FEN_R42_offense.png\")\n",
    "outfile_def <- file.path(\"plots\",\"PAN_FEN_R42_defense.png\")\n",
    "\n",
    "ggsave(outfile_off, p_off, width = 7, height = 6, dpi = 300)\n",
    "ggsave(outfile_def, p_def, width = 7, height = 6, dpi = 300)\n",
    "\n",
    "browseURL(file.path(getwd(), outfile_off))\n",
    "browseURL(file.path(getwd(), outfile_def))"
   ]
  },
  {
   "cell_type": "code",
   "execution_count": null,
   "id": "31ed174a",
   "metadata": {
    "vscode": {
     "languageId": "r"
    }
   },
   "outputs": [
    {
     "data": {
      "text/html": [
       "<table class=\"dataframe\">\n",
       "<caption>A data.frame: 10 × 7</caption>\n",
       "<thead>\n",
       "\t<tr><th scope=col>Label</th><th scope=col>Team</th><th scope=col>PM</th><th scope=col>MIN</th><th scope=col>P2M</th><th scope=col>P3M</th><th scope=col>FTM</th></tr>\n",
       "\t<tr><th scope=col>&lt;fct&gt;</th><th scope=col>&lt;chr&gt;</th><th scope=col>&lt;int&gt;</th><th scope=col>&lt;int&gt;</th><th scope=col>&lt;int&gt;</th><th scope=col>&lt;int&gt;</th><th scope=col>&lt;int&gt;</th></tr>\n",
       "</thead>\n",
       "<tbody>\n",
       "\t<tr><td>Jerian Grant (PAN)       </td><td>Panathinaikos</td><td>17</td><td>33</td><td>2</td><td>2</td><td>1</td></tr>\n",
       "\t<tr><td>Mathias Lessort (PAN)    </td><td>Panathinaikos</td><td>14</td><td>33</td><td>5</td><td>0</td><td>7</td></tr>\n",
       "\t<tr><td>Kostas Sloukas (PAN)     </td><td>Panathinaikos</td><td>13</td><td>25</td><td>2</td><td>4</td><td>8</td></tr>\n",
       "\t<tr><td>Luca Vildoza (PAN)       </td><td>Panathinaikos</td><td>11</td><td>13</td><td>0</td><td>1</td><td>0</td></tr>\n",
       "\t<tr><td>Juancho Hernangomez (PAN)</td><td>Panathinaikos</td><td>10</td><td>20</td><td>2</td><td>0</td><td>1</td></tr>\n",
       "\t<tr><td>Eli Ndiaye (RMA)         </td><td>Real Madrid  </td><td> 8</td><td> 7</td><td>1</td><td>2</td><td>0</td></tr>\n",
       "\t<tr><td>Facundo Campazzo (RMA)   </td><td>Real Madrid  </td><td> 1</td><td>22</td><td>2</td><td>2</td><td>2</td></tr>\n",
       "\t<tr><td>Vincent Poirier (RMA)    </td><td>Real Madrid  </td><td> 1</td><td>16</td><td>3</td><td>0</td><td>2</td></tr>\n",
       "\t<tr><td>Mario Hezonja (RMA)      </td><td>Real Madrid  </td><td> 0</td><td>32</td><td>2</td><td>1</td><td>1</td></tr>\n",
       "\t<tr><td>Fabien Causeur (RMA)     </td><td>Real Madrid  </td><td>-2</td><td> 4</td><td>1</td><td>0</td><td>0</td></tr>\n",
       "</tbody>\n",
       "</table>\n"
      ],
      "text/latex": [
       "A data.frame: 10 × 7\n",
       "\\begin{tabular}{lllllll}\n",
       " Label & Team & PM & MIN & P2M & P3M & FTM\\\\\n",
       " <fct> & <chr> & <int> & <int> & <int> & <int> & <int>\\\\\n",
       "\\hline\n",
       "\t Jerian Grant (PAN)        & Panathinaikos & 17 & 33 & 2 & 2 & 1\\\\\n",
       "\t Mathias Lessort (PAN)     & Panathinaikos & 14 & 33 & 5 & 0 & 7\\\\\n",
       "\t Kostas Sloukas (PAN)      & Panathinaikos & 13 & 25 & 2 & 4 & 8\\\\\n",
       "\t Luca Vildoza (PAN)        & Panathinaikos & 11 & 13 & 0 & 1 & 0\\\\\n",
       "\t Juancho Hernangomez (PAN) & Panathinaikos & 10 & 20 & 2 & 0 & 1\\\\\n",
       "\t Eli Ndiaye (RMA)          & Real Madrid   &  8 &  7 & 1 & 2 & 0\\\\\n",
       "\t Facundo Campazzo (RMA)    & Real Madrid   &  1 & 22 & 2 & 2 & 2\\\\\n",
       "\t Vincent Poirier (RMA)     & Real Madrid   &  1 & 16 & 3 & 0 & 2\\\\\n",
       "\t Mario Hezonja (RMA)       & Real Madrid   &  0 & 32 & 2 & 1 & 1\\\\\n",
       "\t Fabien Causeur (RMA)      & Real Madrid   & -2 &  4 & 1 & 0 & 0\\\\\n",
       "\\end{tabular}\n"
      ],
      "text/markdown": [
       "\n",
       "A data.frame: 10 × 7\n",
       "\n",
       "| Label &lt;fct&gt; | Team &lt;chr&gt; | PM &lt;int&gt; | MIN &lt;int&gt; | P2M &lt;int&gt; | P3M &lt;int&gt; | FTM &lt;int&gt; |\n",
       "|---|---|---|---|---|---|---|\n",
       "| Jerian Grant (PAN)        | Panathinaikos | 17 | 33 | 2 | 2 | 1 |\n",
       "| Mathias Lessort (PAN)     | Panathinaikos | 14 | 33 | 5 | 0 | 7 |\n",
       "| Kostas Sloukas (PAN)      | Panathinaikos | 13 | 25 | 2 | 4 | 8 |\n",
       "| Luca Vildoza (PAN)        | Panathinaikos | 11 | 13 | 0 | 1 | 0 |\n",
       "| Juancho Hernangomez (PAN) | Panathinaikos | 10 | 20 | 2 | 0 | 1 |\n",
       "| Eli Ndiaye (RMA)          | Real Madrid   |  8 |  7 | 1 | 2 | 0 |\n",
       "| Facundo Campazzo (RMA)    | Real Madrid   |  1 | 22 | 2 | 2 | 2 |\n",
       "| Vincent Poirier (RMA)     | Real Madrid   |  1 | 16 | 3 | 0 | 2 |\n",
       "| Mario Hezonja (RMA)       | Real Madrid   |  0 | 32 | 2 | 1 | 1 |\n",
       "| Fabien Causeur (RMA)      | Real Madrid   | -2 |  4 | 1 | 0 | 0 |\n",
       "\n"
      ],
      "text/plain": [
       "   Label                     Team          PM MIN P2M P3M FTM\n",
       "1  Jerian Grant (PAN)        Panathinaikos 17 33  2   2   1  \n",
       "2  Mathias Lessort (PAN)     Panathinaikos 14 33  5   0   7  \n",
       "3  Kostas Sloukas (PAN)      Panathinaikos 13 25  2   4   8  \n",
       "4  Luca Vildoza (PAN)        Panathinaikos 11 13  0   1   0  \n",
       "5  Juancho Hernangomez (PAN) Panathinaikos 10 20  2   0   1  \n",
       "6  Eli Ndiaye (RMA)          Real Madrid    8  7  1   2   0  \n",
       "7  Facundo Campazzo (RMA)    Real Madrid    1 22  2   2   2  \n",
       "8  Vincent Poirier (RMA)     Real Madrid    1 16  3   0   2  \n",
       "9  Mario Hezonja (RMA)       Real Madrid    0 32  2   1   1  \n",
       "10 Fabien Causeur (RMA)      Real Madrid   -2  4  1   0   0  "
      ]
     },
     "metadata": {},
     "output_type": "display_data"
    },
    {
     "data": {
      "text/html": [
       "<table class=\"dataframe\">\n",
       "<caption>A data.frame: 10 × 7</caption>\n",
       "<thead>\n",
       "\t<tr><th scope=col>Label</th><th scope=col>Team</th><th scope=col>PM</th><th scope=col>MIN</th><th scope=col>STL</th><th scope=col>BLK</th><th scope=col>DREB</th></tr>\n",
       "\t<tr><th scope=col>&lt;fct&gt;</th><th scope=col>&lt;chr&gt;</th><th scope=col>&lt;int&gt;</th><th scope=col>&lt;int&gt;</th><th scope=col>&lt;int&gt;</th><th scope=col>&lt;int&gt;</th><th scope=col>&lt;int&gt;</th></tr>\n",
       "</thead>\n",
       "<tbody>\n",
       "\t<tr><td>Jerian Grant (PAN)       </td><td>Panathinaikos</td><td>17</td><td>33</td><td>2</td><td>0</td><td>6</td></tr>\n",
       "\t<tr><td>Mathias Lessort (PAN)    </td><td>Panathinaikos</td><td>14</td><td>33</td><td>0</td><td>0</td><td>4</td></tr>\n",
       "\t<tr><td>Kostas Sloukas (PAN)     </td><td>Panathinaikos</td><td>13</td><td>25</td><td>0</td><td>0</td><td>2</td></tr>\n",
       "\t<tr><td>Luca Vildoza (PAN)       </td><td>Panathinaikos</td><td>11</td><td>13</td><td>0</td><td>0</td><td>1</td></tr>\n",
       "\t<tr><td>Juancho Hernangomez (PAN)</td><td>Panathinaikos</td><td>10</td><td>20</td><td>1</td><td>0</td><td>4</td></tr>\n",
       "\t<tr><td>Eli Ndiaye (RMA)         </td><td>Real Madrid  </td><td> 8</td><td> 7</td><td>0</td><td>0</td><td>1</td></tr>\n",
       "\t<tr><td>Facundo Campazzo (RMA)   </td><td>Real Madrid  </td><td> 1</td><td>22</td><td>1</td><td>0</td><td>1</td></tr>\n",
       "\t<tr><td>Vincent Poirier (RMA)    </td><td>Real Madrid  </td><td> 1</td><td>16</td><td>1</td><td>0</td><td>2</td></tr>\n",
       "\t<tr><td>Mario Hezonja (RMA)      </td><td>Real Madrid  </td><td> 0</td><td>32</td><td>0</td><td>0</td><td>7</td></tr>\n",
       "\t<tr><td>Fabien Causeur (RMA)     </td><td>Real Madrid  </td><td>-2</td><td> 4</td><td>0</td><td>0</td><td>0</td></tr>\n",
       "</tbody>\n",
       "</table>\n"
      ],
      "text/latex": [
       "A data.frame: 10 × 7\n",
       "\\begin{tabular}{lllllll}\n",
       " Label & Team & PM & MIN & STL & BLK & DREB\\\\\n",
       " <fct> & <chr> & <int> & <int> & <int> & <int> & <int>\\\\\n",
       "\\hline\n",
       "\t Jerian Grant (PAN)        & Panathinaikos & 17 & 33 & 2 & 0 & 6\\\\\n",
       "\t Mathias Lessort (PAN)     & Panathinaikos & 14 & 33 & 0 & 0 & 4\\\\\n",
       "\t Kostas Sloukas (PAN)      & Panathinaikos & 13 & 25 & 0 & 0 & 2\\\\\n",
       "\t Luca Vildoza (PAN)        & Panathinaikos & 11 & 13 & 0 & 0 & 1\\\\\n",
       "\t Juancho Hernangomez (PAN) & Panathinaikos & 10 & 20 & 1 & 0 & 4\\\\\n",
       "\t Eli Ndiaye (RMA)          & Real Madrid   &  8 &  7 & 0 & 0 & 1\\\\\n",
       "\t Facundo Campazzo (RMA)    & Real Madrid   &  1 & 22 & 1 & 0 & 1\\\\\n",
       "\t Vincent Poirier (RMA)     & Real Madrid   &  1 & 16 & 1 & 0 & 2\\\\\n",
       "\t Mario Hezonja (RMA)       & Real Madrid   &  0 & 32 & 0 & 0 & 7\\\\\n",
       "\t Fabien Causeur (RMA)      & Real Madrid   & -2 &  4 & 0 & 0 & 0\\\\\n",
       "\\end{tabular}\n"
      ],
      "text/markdown": [
       "\n",
       "A data.frame: 10 × 7\n",
       "\n",
       "| Label &lt;fct&gt; | Team &lt;chr&gt; | PM &lt;int&gt; | MIN &lt;int&gt; | STL &lt;int&gt; | BLK &lt;int&gt; | DREB &lt;int&gt; |\n",
       "|---|---|---|---|---|---|---|\n",
       "| Jerian Grant (PAN)        | Panathinaikos | 17 | 33 | 2 | 0 | 6 |\n",
       "| Mathias Lessort (PAN)     | Panathinaikos | 14 | 33 | 0 | 0 | 4 |\n",
       "| Kostas Sloukas (PAN)      | Panathinaikos | 13 | 25 | 0 | 0 | 2 |\n",
       "| Luca Vildoza (PAN)        | Panathinaikos | 11 | 13 | 0 | 0 | 1 |\n",
       "| Juancho Hernangomez (PAN) | Panathinaikos | 10 | 20 | 1 | 0 | 4 |\n",
       "| Eli Ndiaye (RMA)          | Real Madrid   |  8 |  7 | 0 | 0 | 1 |\n",
       "| Facundo Campazzo (RMA)    | Real Madrid   |  1 | 22 | 1 | 0 | 1 |\n",
       "| Vincent Poirier (RMA)     | Real Madrid   |  1 | 16 | 1 | 0 | 2 |\n",
       "| Mario Hezonja (RMA)       | Real Madrid   |  0 | 32 | 0 | 0 | 7 |\n",
       "| Fabien Causeur (RMA)      | Real Madrid   | -2 |  4 | 0 | 0 | 0 |\n",
       "\n"
      ],
      "text/plain": [
       "   Label                     Team          PM MIN STL BLK DREB\n",
       "1  Jerian Grant (PAN)        Panathinaikos 17 33  2   0   6   \n",
       "2  Mathias Lessort (PAN)     Panathinaikos 14 33  0   0   4   \n",
       "3  Kostas Sloukas (PAN)      Panathinaikos 13 25  0   0   2   \n",
       "4  Luca Vildoza (PAN)        Panathinaikos 11 13  0   0   1   \n",
       "5  Juancho Hernangomez (PAN) Panathinaikos 10 20  1   0   4   \n",
       "6  Eli Ndiaye (RMA)          Real Madrid    8  7  0   0   1   \n",
       "7  Facundo Campazzo (RMA)    Real Madrid    1 22  1   0   1   \n",
       "8  Vincent Poirier (RMA)     Real Madrid    1 16  1   0   2   \n",
       "9  Mario Hezonja (RMA)       Real Madrid    0 32  0   0   7   \n",
       "10 Fabien Causeur (RMA)      Real Madrid   -2  4  0   0   0   "
      ]
     },
     "metadata": {},
     "output_type": "display_data"
    }
   ],
   "source": [
    "dat_top10 <- data.frame(\n",
    "  subset(pbox_final4_detailed,\n",
    "         ROUND == 43 & Team %in% c(\"Panathinaikos\", \"Real Madrid\"))\n",
    ")\n",
    "\n",
    "dat_top10 <- dat_top10 %>%\n",
    "  mutate(across(c(P2M, P3M, FTM, STL, BLK, DREB, PM, MIN),\n",
    "                ~ ifelse(is.na(.), 0, .))) %>%\n",
    "  group_by(Team) %>%\n",
    "  slice_max(PM, n = 5, with_ties = FALSE) %>%\n",
    "  ungroup() %>%\n",
    "  mutate(\n",
    "    Label = paste0(\n",
    "      Player, \" (\",\n",
    "      if_else(Team == \"Panathinaikos\", \"PAN\", \"RMA\"),\n",
    "      \")\"\n",
    "    )\n",
    "  ) %>%\n",
    "  arrange(desc(PM)) %>%\n",
    "  mutate(Label = factor(Label, levels = Label))\n",
    "\n",
    "dat_off <- dat_top10 %>%\n",
    "  select(Label, Team, PM, MIN, P2M, P3M, FTM) %>% as.data.frame()\n",
    "\n",
    "dat_def <- dat_top10 %>%\n",
    "  select(Label, Team, PM, MIN, STL, BLK, DREB) %>% as.data.frame()\n",
    "\n",
    "dat_off\n",
    "dat_def"
   ]
  },
  {
   "cell_type": "code",
   "execution_count": null,
   "id": "969b4408",
   "metadata": {
    "vscode": {
     "languageId": "r"
    }
   },
   "outputs": [],
   "source": [
    "p_off <- barline(\n",
    "  data        = dat_off,\n",
    "  id          = \"Label\",\n",
    "  bars        = c(\"P2M\", \"P3M\", \"FTM\"),\n",
    "  line        = \"MIN\",\n",
    "  order.by    = \"PM\",\n",
    "  labels.bars = c(\"2PM\", \"3PM\", \"FTM\"),\n",
    "  title       = \"Round 43 — Panathinaikos & Real Madrid — Offense\"\n",
    ")\n",
    "\n",
    "p_def <- barline(\n",
    "  data        = dat_def,\n",
    "  id          = \"Label\",\n",
    "  bars        = c(\"STL\", \"BLK\", \"DREB\"),\n",
    "  line        = \"MIN\",\n",
    "  order.by    = \"PM\",\n",
    "  labels.bars = c(\"Steals\", \"Blocks\", \"Def. Reb.\"),\n",
    "  title       = \"Round 43 — Panathinaikos & Real Madrid — Defense\"\n",
    ")\n",
    "\n",
    "if (!dir.exists(\"plots\")) dir.create(\"plots\", recursive = TRUE)\n",
    "\n",
    "outfile_off <- file.path(\"plots\",\"PAN_RMA_R43_offense.png\")\n",
    "outfile_def <- file.path(\"plots\",\"PAN_RMA_R43_defense.png\")\n",
    "\n",
    "ggsave(outfile_off, p_off, width = 7, height = 6, dpi = 300)\n",
    "ggsave(outfile_def, p_def, width = 7, height = 6, dpi = 300)\n",
    "\n",
    "browseURL(file.path(getwd(), outfile_off))\n",
    "browseURL(file.path(getwd(), outfile_def))"
   ]
  },
  {
   "cell_type": "code",
   "execution_count": null,
   "id": "cc0f5983",
   "metadata": {
    "vscode": {
     "languageId": "r"
    }
   },
   "outputs": [
    {
     "data": {
      "text/html": [
       "<table class=\"dataframe\">\n",
       "<caption>A fourfactors: 2 × 15</caption>\n",
       "<thead>\n",
       "\t<tr><th></th><th scope=col>Team</th><th scope=col>POSS.Off</th><th scope=col>POSS.Def</th><th scope=col>PACE.Off</th><th scope=col>PACE.Def</th><th scope=col>ORtg</th><th scope=col>DRtg</th><th scope=col>F1.Off</th><th scope=col>F2.Off</th><th scope=col>F3.Off</th><th scope=col>F4.Off</th><th scope=col>F1.Def</th><th scope=col>F2.Def</th><th scope=col>F3.Def</th><th scope=col>F4.Def</th></tr>\n",
       "\t<tr><th></th><th scope=col>&lt;chr&gt;</th><th scope=col>&lt;dbl&gt;</th><th scope=col>&lt;dbl&gt;</th><th scope=col>&lt;dbl&gt;</th><th scope=col>&lt;dbl&gt;</th><th scope=col>&lt;dbl&gt;</th><th scope=col>&lt;dbl&gt;</th><th scope=col>&lt;dbl&gt;</th><th scope=col>&lt;dbl&gt;</th><th scope=col>&lt;dbl&gt;</th><th scope=col>&lt;dbl&gt;</th><th scope=col>&lt;dbl&gt;</th><th scope=col>&lt;dbl&gt;</th><th scope=col>&lt;dbl&gt;</th><th scope=col>&lt;dbl&gt;</th></tr>\n",
       "</thead>\n",
       "<tbody>\n",
       "\t<tr><th scope=row>1</th><td>Fenerbahce   </td><td>2437.40</td><td>2440.24</td><td>1.766232</td><td>1.768290</td><td>118.73</td><td>112.73</td><td>57.45</td><td>16.74</td><td>31.02</td><td>21.16</td><td>53.48</td><td>16.8</td><td>69.12</td><td>24.11</td></tr>\n",
       "\t<tr><th scope=row>2</th><td>Panathinaikos</td><td>2433.12</td><td>2429.08</td><td>1.769542</td><td>1.766604</td><td>114.01</td><td>107.94</td><td>55.54</td><td>17.80</td><td>30.31</td><td>24.84</td><td>53.01</td><td>18.9</td><td>68.75</td><td>17.48</td></tr>\n",
       "</tbody>\n",
       "</table>\n"
      ],
      "text/latex": [
       "A fourfactors: 2 × 15\n",
       "\\begin{tabular}{r|lllllllllllllll}\n",
       "  & Team & POSS.Off & POSS.Def & PACE.Off & PACE.Def & ORtg & DRtg & F1.Off & F2.Off & F3.Off & F4.Off & F1.Def & F2.Def & F3.Def & F4.Def\\\\\n",
       "  & <chr> & <dbl> & <dbl> & <dbl> & <dbl> & <dbl> & <dbl> & <dbl> & <dbl> & <dbl> & <dbl> & <dbl> & <dbl> & <dbl> & <dbl>\\\\\n",
       "\\hline\n",
       "\t1 & Fenerbahce    & 2437.40 & 2440.24 & 1.766232 & 1.768290 & 118.73 & 112.73 & 57.45 & 16.74 & 31.02 & 21.16 & 53.48 & 16.8 & 69.12 & 24.11\\\\\n",
       "\t2 & Panathinaikos & 2433.12 & 2429.08 & 1.769542 & 1.766604 & 114.01 & 107.94 & 55.54 & 17.80 & 30.31 & 24.84 & 53.01 & 18.9 & 68.75 & 17.48\\\\\n",
       "\\end{tabular}\n"
      ],
      "text/markdown": [
       "\n",
       "A fourfactors: 2 × 15\n",
       "\n",
       "| <!--/--> | Team &lt;chr&gt; | POSS.Off &lt;dbl&gt; | POSS.Def &lt;dbl&gt; | PACE.Off &lt;dbl&gt; | PACE.Def &lt;dbl&gt; | ORtg &lt;dbl&gt; | DRtg &lt;dbl&gt; | F1.Off &lt;dbl&gt; | F2.Off &lt;dbl&gt; | F3.Off &lt;dbl&gt; | F4.Off &lt;dbl&gt; | F1.Def &lt;dbl&gt; | F2.Def &lt;dbl&gt; | F3.Def &lt;dbl&gt; | F4.Def &lt;dbl&gt; |\n",
       "|---|---|---|---|---|---|---|---|---|---|---|---|---|---|---|---|\n",
       "| 1 | Fenerbahce    | 2437.40 | 2440.24 | 1.766232 | 1.768290 | 118.73 | 112.73 | 57.45 | 16.74 | 31.02 | 21.16 | 53.48 | 16.8 | 69.12 | 24.11 |\n",
       "| 2 | Panathinaikos | 2433.12 | 2429.08 | 1.769542 | 1.766604 | 114.01 | 107.94 | 55.54 | 17.80 | 30.31 | 24.84 | 53.01 | 18.9 | 68.75 | 17.48 |\n",
       "\n"
      ],
      "text/plain": [
       "  Team          POSS.Off POSS.Def PACE.Off PACE.Def ORtg   DRtg   F1.Off F2.Off\n",
       "1 Fenerbahce    2437.40  2440.24  1.766232 1.768290 118.73 112.73 57.45  16.74 \n",
       "2 Panathinaikos 2433.12  2429.08  1.769542 1.766604 114.01 107.94 55.54  17.80 \n",
       "  F3.Off F4.Off F1.Def F2.Def F3.Def F4.Def\n",
       "1 31.02  21.16  53.48  16.8   69.12  24.11 \n",
       "2 30.31  24.84  53.01  18.9   68.75  17.48 "
      ]
     },
     "metadata": {},
     "output_type": "display_data"
    },
    {
     "data": {
      "image/png": "[encoded data removed]",
      "text/plain": [
       "plot without title"
      ]
     },
     "metadata": {
      "image/png": {
       "height": 420,
       "width": 420
      }
     },
     "output_type": "display_data"
    }
   ],
   "source": [
    "tm <- c(\"PAN\",\"FEN\")\n",
    "selTeams <- which(tbox_regular$Team_Tag %in% tm)\n",
    "FF.sel <- fourfactors(tbox_regular[selTeams,], obox_regular[selTeams,])\n",
    "head(FF.sel)\n",
    "\n",
    "plots <- plot(FF.sel)\n",
    "\n",
    "\n",
    "p_comb1 <- patchwork::wrap_plots(plots[1:2], ncol = 1)\n",
    "if (!dir.exists(\"plots\")) dir.create(\"plots\")\n",
    "ggsave(\"plots/FF1_FEN.png\", p_comb1, width = 7, height = 7, dpi = 300)\n",
    "\n",
    "p_comb2 <- patchwork::wrap_plots(plots[3:4], ncol = 1)\n",
    "ggsave(\"plots/FF2_FEN.png\", p_comb2, width = 7, height = 7, dpi = 300)\n",
    "\n",
    "browseURL(file.path(getwd(), \"plots\", \"FF1_FEN.png\"))\n",
    "browseURL(file.path(getwd(), \"plots\", \"FF2_FEN.png\"))"
   ]
  },
  {
   "cell_type": "code",
   "execution_count": null,
   "id": "3cdee63d",
   "metadata": {
    "vscode": {
     "languageId": "r"
    }
   },
   "outputs": [],
   "source": []
  }
 ],
 "metadata": {
  "kernelspec": {
   "display_name": "R",
   "language": "R",
   "name": "ir"
  },
  "language_info": {
   "codemirror_mode": "r",
   "file_extension": ".r",
   "mimetype": "text/x-r-source",
   "name": "R",
   "pygments_lexer": "r",
   "version": "4.5.0"
  }
 },
 "nbformat": 4,
 "nbformat_minor": 5
}
