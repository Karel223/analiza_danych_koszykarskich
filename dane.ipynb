{
 "cells": [
  {
   "cell_type": "code",
   "execution_count": 84,
   "metadata": {
    "vscode": {
     "languageId": "r"
    }
   },
   "outputs": [
    {
     "name": "stderr",
     "output_type": "stream",
     "text": [
      "Warning message:\n",
      "\"pakiet 'readr' jest w użyciu i nie zostanie zainstalowany\"\n",
      "Warning message:\n",
      "\"pakiet 'dplyr' jest w użyciu i nie zostanie zainstalowany\"\n"
     ]
    }
   ],
   "source": [
    "install.packages(\"readr\")\n",
    "library(readr)\n",
    "\n",
    "install.packages(\"dplyr\")\n",
    "library(dplyr)"
   ]
  },
  {
   "cell_type": "markdown",
   "metadata": {},
   "source": [
    "**Funkacja convert, która zamienia separator dziesiętny na przecinek oraz typ zmiennej numeric na intiger**"
   ]
  },
  {
   "cell_type": "code",
   "execution_count": 85,
   "metadata": {
    "vscode": {
     "languageId": "r"
    }
   },
   "outputs": [],
   "source": [
    "convert_commas_to_dots <- function(df) {\n",
    "  # Zamiana przecinków na kropki w kolumnach typu\n",
    "  #character tylko jeśli zawierają przecinek\n",
    "  df[] <- lapply(df, function(x) {\n",
    "    if (is.character(x) && any(grepl(\",\", x))) {\n",
    "      x <- gsub(\",\", \".\", x)\n",
    "      num_x <- suppressWarnings(as.numeric(x))\n",
    "      if (all(is.na(num_x) & !is.na(x))) {\n",
    "        return(x) # Jeśli wszystkie wartości stają się NA, pozostaw jako tekst\n",
    "      } else {\n",
    "        return(num_x) # Konwersja na numeric, jeśli możliwe\n",
    "      }\n",
    "    } else {\n",
    "      return(x)\n",
    "    }\n",
    "  })\n",
    "  return(df)\n",
    "}\n",
    "\n",
    "convert_numeric_to_integer <- function(df) {\n",
    "\n",
    "  #Zamiana wartości na integer, jeśli nie zawierają\n",
    "  #kropki i nie są wszystkimi NA\n",
    "\n",
    "  df[] <- lapply(df, function(x) {\n",
    "    if (is.numeric(x) && all(!grepl(\"\\\\.\", as.character(x)), na.rm = TRUE)) { \n",
    "      return(as.integer(x))\n",
    "    } else {\n",
    "      return(x)\n",
    "    }\n",
    "  })\n",
    "  return(df)\n",
    "}"
   ]
  },
  {
   "cell_type": "code",
   "execution_count": 86,
   "metadata": {
    "vscode": {
     "languageId": "r"
    }
   },
   "outputs": [],
   "source": [
    "convert <- function(df) {\n",
    "  df <- convert_commas_to_dots(df)\n",
    "  df <- convert_numeric_to_integer(df)\n",
    "  return(df)\n",
    "}"
   ]
  },
  {
   "cell_type": "markdown",
   "metadata": {},
   "source": [
    "**Zaczytanie danych**"
   ]
  },
  {
   "cell_type": "markdown",
   "metadata": {},
   "source": [
    "Błędy w zaczytywanych danych: \n",
    "- teams.csv ma podublowane rekordy, gdzie połowa z nuch jest niepoprawna. Należy usunąć wiersze, gdzie TM_TAG != TM_NAME\n",
    "- teams.csv ma błędne ilości minut. Większość wartości w kolumnie MIN jest równa 200 (lub 225, 250, 300 w zależności od ilości dogrywek), gdyż zostały zsumowane z tabeli players.csv przez autora danych. Należy podzielić kolumnę MIN przez 5. \n",
    "- niespójność w players.csv. Część rekordów jest pomimo tego, że MIN = 0, co oznacza, że zawodnik nie wystąpił w meczu. Natomiast widać, że części rekordów nie ma, gdyż część zawodników ma mniejszą ilość rozegranych gier. Trzeba usunąć rekordy, gdzie MIN = 0, gdyż rodzi to problem przy zliczaniu ilości game played oraz liczeniu średniej. "
   ]
  },
  {
   "cell_type": "code",
   "execution_count": 87,
   "metadata": {
    "vscode": {
     "languageId": "r"
    }
   },
   "outputs": [
    {
     "name": "stderr",
     "output_type": "stream",
     "text": [
      "\u001b[36mℹ\u001b[39m Using \u001b[34m\u001b[34m\"','\"\u001b[34m\u001b[39m as decimal and \u001b[34m\u001b[34m\"'.'\"\u001b[34m\u001b[39m as grouping mark. Use `read_delim()` for more control.\n",
      "\n"
     ]
    },
    {
     "name": "stderr",
     "output_type": "stream",
     "text": [
      "\u001b[1mRows: \u001b[22m\u001b[34m1324\u001b[39m \u001b[1mColumns: \u001b[22m\u001b[34m133\u001b[39m\n",
      "\u001b[36m──\u001b[39m \u001b[1mColumn specification\u001b[22m \u001b[36m────────────────────────────────────────────────────────\u001b[39m\n",
      "\u001b[1mDelimiter:\u001b[22m \";\"\n",
      "\u001b[31mchr\u001b[39m  (13): TM TAG, OPP TAG, TM NAME, OPP NAME, DATE, H/A, W/L, RIM PPS, MID ...\n",
      "\u001b[32mdbl\u001b[39m (120): ROUND, MIN, PTS, 2PTM, 2PTA, 2PT%, 3PTM, 3PTA, 3PT%, FGM, FGA, FG...\n",
      "\n",
      "\u001b[36mℹ\u001b[39m Use `spec()` to retrieve the full column specification for this data.\n",
      "\u001b[36mℹ\u001b[39m Specify the column types or set `show_col_types = FALSE` to quiet this message.\n",
      "\u001b[36mℹ\u001b[39m Using \u001b[34m\u001b[34m\"','\"\u001b[34m\u001b[39m as decimal and \u001b[34m\u001b[34m\"'.'\"\u001b[34m\u001b[39m as grouping mark. Use `read_delim()` for more control.\n",
      "\n",
      "\u001b[1mRows: \u001b[22m\u001b[34m7883\u001b[39m \u001b[1mColumns: \u001b[22m\u001b[34m85\u001b[39m\n",
      "\u001b[36m──\u001b[39m \u001b[1mColumn specification\u001b[22m \u001b[36m────────────────────────────────────────────────────────\u001b[39m\n",
      "\u001b[1mDelimiter:\u001b[22m \";\"\n",
      "\u001b[31mchr\u001b[39m (14): TM TAG, NAME, ROLE, NAT, HEIGHT, TM NAME, OPP NAME, DATE, H/A, W/L...\n",
      "\u001b[32mdbl\u001b[39m (71): AGE, ROUND, MIN, PTS, 2PTM, 2PTA, 3PTM, 3PTA, FGM, FGA, FTM, FTA, ...\n",
      "\n",
      "\u001b[36mℹ\u001b[39m Use `spec()` to retrieve the full column specification for this data.\n",
      "\u001b[36mℹ\u001b[39m Specify the column types or set `show_col_types = FALSE` to quiet this message.\n"
     ]
    }
   ],
   "source": [
    "teams <- read_csv2(\"teams.csv\")\n",
    "players <- read_csv2(\"players.csv\")"
   ]
  },
  {
   "cell_type": "markdown",
   "metadata": {},
   "source": [
    "**Konwersja danych**"
   ]
  },
  {
   "cell_type": "code",
   "execution_count": 88,
   "metadata": {
    "vscode": {
     "languageId": "r"
    }
   },
   "outputs": [],
   "source": [
    "shortnames <- function(df) {\n",
    "  map <- c(\n",
    "    \"Crvena Zvezda Meridianbet Belgrade\" = \"Crvena Zvezda\",\n",
    "    \"LDLC ASVEL Villeurbanne\" = \"ASVEL\",\n",
    "    \"Maccabi Playtika Tel Aviv\" = \"Maccabi Tel Aviv\",\n",
    "    \"Partizan Mozzart Bet Belgrade\" = \"Partizan\",\n",
    "    \"Anadolu Efes Istanbul\" = \"Efes\",\n",
    "    \"FC Barcelona\" = \"Barcelona\",\n",
    "    \"ALBA Berlin\" = \"ALBA\",\n",
    "    \"FC Bayern Munich\" = \"Bayern\",\n",
    "    \"Virtus Segafredo Bologna\" = \"Virtus Bologna\",\n",
    "    \"Zalgiris Kaunas\" = \"Zalgiris\",\n",
    "    \"EA7 Emporio Armani Milan\" = \"Olimpia Milan\",\n",
    "    \"Fenerbahce Beko Istanbul\" = \"Fenerbahce\",\n",
    "    \"Olympiacos Piraeus\" = \"Olympiacos\",\n",
    "    \"Panathinaikos AKTOR Athens\" = \"Panathinaikos\",\n",
    "    \"Baskonia Vitoria-Gasteiz\" = \"Baskonia\",\n",
    "    \"Real Madrid\" = \"Real Madrid\",\n",
    "    \"AS Monaco\" = \"Monaco\",\n",
    "    \"Valencia Basket\" = \"Valencia\"\n",
    "  )\n",
    "  \n",
    "  if (\"TM NAME\" %in% names(df)) {\n",
    "    df$`TM NAME` <- dplyr::recode(df$`TM NAME`, !!!map)\n",
    "  }\n",
    "  if (\"OPP NAME\" %in% names(df)) {\n",
    "    df$`OPP NAME` <- dplyr::recode(df$`OPP NAME`, !!!map)\n",
    "  }\n",
    "  return(df)\n",
    "}\n"
   ]
  },
  {
   "cell_type": "code",
   "execution_count": 89,
   "metadata": {
    "vscode": {
     "languageId": "r"
    }
   },
   "outputs": [
    {
     "name": "stdout",
     "output_type": "stream",
     "text": [
      "Rows: 1,324\n",
      "Columns: 133\n",
      "$ ROUND              \u001b[3m\u001b[90m<dbl>\u001b[39m\u001b[23m 1\u001b[90m, \u001b[39m1\u001b[90m, \u001b[39m1\u001b[90m, \u001b[39m1\u001b[90m, \u001b[39m1\u001b[90m, \u001b[39m1\u001b[90m, \u001b[39m1\u001b[90m, \u001b[39m1\u001b[90m, \u001b[39m1\u001b[90m, \u001b[39m1\u001b[90m, \u001b[39m1\u001b[90m, \u001b[39m1\u001b[90m, \u001b[39m1\u001b[90m, \u001b[39m1\u001b[90m, \u001b[39m1\u001b[90m, \u001b[39m1\u001b[90m, \u001b[39m1\u001b[90m, \u001b[39m…\n",
      "$ `TM TAG`           \u001b[3m\u001b[90m<chr>\u001b[39m\u001b[23m \"CZB\"\u001b[90m, \u001b[39m\"ASV\"\u001b[90m, \u001b[39m\"MTA\"\u001b[90m, \u001b[39m\"PAR\"\u001b[90m, \u001b[39m\"EFE\"\u001b[90m, \u001b[39m\"FCB\"\u001b[90m, \u001b[39m\"BER\"\u001b[90m, \u001b[39m\"B…\n",
      "$ `OPP TAG`          \u001b[3m\u001b[90m<chr>\u001b[39m\u001b[23m \"ASV\"\u001b[90m, \u001b[39m\"CZB\"\u001b[90m, \u001b[39m\"PAR\"\u001b[90m, \u001b[39m\"MTA\"\u001b[90m, \u001b[39m\"FCB\"\u001b[90m, \u001b[39m\"EFE\"\u001b[90m, \u001b[39m\"BAY\"\u001b[90m, \u001b[39m\"B…\n",
      "$ `TM NAME`          \u001b[3m\u001b[90m<chr>\u001b[39m\u001b[23m \"Crvena Zvezda\"\u001b[90m, \u001b[39m\"ASVEL\"\u001b[90m, \u001b[39m\"Maccabi Tel Aviv\"\u001b[90m, \u001b[39m\"Part…\n",
      "$ `OPP NAME`         \u001b[3m\u001b[90m<chr>\u001b[39m\u001b[23m \"ASVEL\"\u001b[90m, \u001b[39m\"Crvena Zvezda\"\u001b[90m, \u001b[39m\"Partizan\"\u001b[90m, \u001b[39m\"Maccabi Tel …\n",
      "$ DATE               \u001b[3m\u001b[90m<chr>\u001b[39m\u001b[23m \"05.10.2023\"\u001b[90m, \u001b[39m\"05.10.2023\"\u001b[90m, \u001b[39m\"05.10.2023\"\u001b[90m, \u001b[39m\"05.10.20…\n",
      "$ `H/A`              \u001b[3m\u001b[90m<chr>\u001b[39m\u001b[23m \"H\"\u001b[90m, \u001b[39m\"A\"\u001b[90m, \u001b[39m\"H\"\u001b[90m, \u001b[39m\"A\"\u001b[90m, \u001b[39m\"A\"\u001b[90m, \u001b[39m\"H\"\u001b[90m, \u001b[39m\"A\"\u001b[90m, \u001b[39m\"H\"\u001b[90m, \u001b[39m\"H\"\u001b[90m, \u001b[39m\"A\"\u001b[90m, \u001b[39m\"…\n",
      "$ `W/L`              \u001b[3m\u001b[90m<chr>\u001b[39m\u001b[23m \"W\"\u001b[90m, \u001b[39m\"L\"\u001b[90m, \u001b[39m\"W\"\u001b[90m, \u001b[39m\"L\"\u001b[90m, \u001b[39m\"L\"\u001b[90m, \u001b[39m\"W\"\u001b[90m, \u001b[39m\"L\"\u001b[90m, \u001b[39m\"W\"\u001b[90m, \u001b[39m\"L\"\u001b[90m, \u001b[39m\"W\"\u001b[90m, \u001b[39m\"…\n",
      "$ MIN                \u001b[3m\u001b[90m<dbl>\u001b[39m\u001b[23m 200\u001b[90m, \u001b[39m200\u001b[90m, \u001b[39m200\u001b[90m, \u001b[39m200\u001b[90m, \u001b[39m200\u001b[90m, \u001b[39m200\u001b[90m, \u001b[39m200\u001b[90m, \u001b[39m200\u001b[90m, \u001b[39m200\u001b[90m, \u001b[39m200\u001b[90m, \u001b[39m2…\n",
      "$ PTS                \u001b[3m\u001b[90m<dbl>\u001b[39m\u001b[23m 94\u001b[90m, \u001b[39m73\u001b[90m, \u001b[39m96\u001b[90m, \u001b[39m81\u001b[90m, \u001b[39m74\u001b[90m, \u001b[39m91\u001b[90m, \u001b[39m68\u001b[90m, \u001b[39m80\u001b[90m, \u001b[39m79\u001b[90m, \u001b[39m82\u001b[90m, \u001b[39m82\u001b[90m, \u001b[39m85\u001b[90m, \u001b[39m88\u001b[90m,\u001b[39m…\n",
      "$ `2PTM`             \u001b[3m\u001b[90m<dbl>\u001b[39m\u001b[23m 16\u001b[90m, \u001b[39m17\u001b[90m, \u001b[39m27\u001b[90m, \u001b[39m26\u001b[90m, \u001b[39m22\u001b[90m, \u001b[39m32\u001b[90m, \u001b[39m16\u001b[90m, \u001b[39m23\u001b[90m, \u001b[39m23\u001b[90m, \u001b[39m18\u001b[90m, \u001b[39m18\u001b[90m, \u001b[39m18\u001b[90m, \u001b[39m19\u001b[90m,\u001b[39m…\n",
      "$ `2PTA`             \u001b[3m\u001b[90m<dbl>\u001b[39m\u001b[23m 37\u001b[90m, \u001b[39m29\u001b[90m, \u001b[39m43\u001b[90m, \u001b[39m39\u001b[90m, \u001b[39m40\u001b[90m, \u001b[39m42\u001b[90m, \u001b[39m30\u001b[90m, \u001b[39m36\u001b[90m, \u001b[39m39\u001b[90m, \u001b[39m39\u001b[90m, \u001b[39m36\u001b[90m, \u001b[39m34\u001b[90m, \u001b[39m35\u001b[90m,\u001b[39m…\n",
      "$ `2PT%`             \u001b[3m\u001b[90m<dbl>\u001b[39m\u001b[23m 0.43\u001b[90m, \u001b[39m0.59\u001b[90m, \u001b[39m0.63\u001b[90m, \u001b[39m0.67\u001b[90m, \u001b[39m0.55\u001b[90m, \u001b[39m0.76\u001b[90m, \u001b[39m0.53\u001b[90m, \u001b[39m0.64\u001b[90m, \u001b[39m0.5…\n",
      "$ `3PTM`             \u001b[3m\u001b[90m<dbl>\u001b[39m\u001b[23m 17\u001b[90m, \u001b[39m9\u001b[90m, \u001b[39m9\u001b[90m, \u001b[39m5\u001b[90m, \u001b[39m9\u001b[90m, \u001b[39m6\u001b[90m, \u001b[39m7\u001b[90m, \u001b[39m9\u001b[90m, \u001b[39m8\u001b[90m, \u001b[39m11\u001b[90m, \u001b[39m11\u001b[90m, \u001b[39m14\u001b[90m, \u001b[39m15\u001b[90m, \u001b[39m10\u001b[90m, \u001b[39m5\u001b[90m, \u001b[39m…\n",
      "$ `3PTA`             \u001b[3m\u001b[90m<dbl>\u001b[39m\u001b[23m 34\u001b[90m, \u001b[39m25\u001b[90m, \u001b[39m26\u001b[90m, \u001b[39m17\u001b[90m, \u001b[39m27\u001b[90m, \u001b[39m20\u001b[90m, \u001b[39m24\u001b[90m, \u001b[39m31\u001b[90m, \u001b[39m25\u001b[90m, \u001b[39m19\u001b[90m, \u001b[39m26\u001b[90m, \u001b[39m31\u001b[90m, \u001b[39m32\u001b[90m,\u001b[39m…\n",
      "$ `3PT%`             \u001b[3m\u001b[90m<dbl>\u001b[39m\u001b[23m 0.50\u001b[90m, \u001b[39m0.36\u001b[90m, \u001b[39m0.35\u001b[90m, \u001b[39m0.29\u001b[90m, \u001b[39m0.33\u001b[90m, \u001b[39m0.30\u001b[90m, \u001b[39m0.29\u001b[90m, \u001b[39m0.29\u001b[90m, \u001b[39m0.3…\n",
      "$ FGM                \u001b[3m\u001b[90m<dbl>\u001b[39m\u001b[23m 33\u001b[90m, \u001b[39m26\u001b[90m, \u001b[39m36\u001b[90m, \u001b[39m31\u001b[90m, \u001b[39m31\u001b[90m, \u001b[39m38\u001b[90m, \u001b[39m23\u001b[90m, \u001b[39m32\u001b[90m, \u001b[39m31\u001b[90m, \u001b[39m29\u001b[90m, \u001b[39m29\u001b[90m, \u001b[39m32\u001b[90m, \u001b[39m34\u001b[90m,\u001b[39m…\n",
      "$ FGA                \u001b[3m\u001b[90m<dbl>\u001b[39m\u001b[23m 71\u001b[90m, \u001b[39m54\u001b[90m, \u001b[39m69\u001b[90m, \u001b[39m56\u001b[90m, \u001b[39m67\u001b[90m, \u001b[39m62\u001b[90m, \u001b[39m54\u001b[90m, \u001b[39m67\u001b[90m, \u001b[39m64\u001b[90m, \u001b[39m58\u001b[90m, \u001b[39m62\u001b[90m, \u001b[39m65\u001b[90m, \u001b[39m67\u001b[90m,\u001b[39m…\n",
      "$ `FG%`              \u001b[3m\u001b[90m<dbl>\u001b[39m\u001b[23m 0.46\u001b[90m, \u001b[39m0.48\u001b[90m, \u001b[39m0.52\u001b[90m, \u001b[39m0.55\u001b[90m, \u001b[39m0.46\u001b[90m, \u001b[39m0.61\u001b[90m, \u001b[39m0.43\u001b[90m, \u001b[39m0.48\u001b[90m, \u001b[39m0.4…\n",
      "$ FTM                \u001b[3m\u001b[90m<dbl>\u001b[39m\u001b[23m 11\u001b[90m, \u001b[39m12\u001b[90m, \u001b[39m15\u001b[90m, \u001b[39m14\u001b[90m, \u001b[39m3\u001b[90m, \u001b[39m9\u001b[90m, \u001b[39m15\u001b[90m, \u001b[39m7\u001b[90m, \u001b[39m9\u001b[90m, \u001b[39m13\u001b[90m, \u001b[39m13\u001b[90m, \u001b[39m7\u001b[90m, \u001b[39m5\u001b[90m, \u001b[39m16\u001b[90m, \u001b[39m1…\n",
      "$ FTA                \u001b[3m\u001b[90m<dbl>\u001b[39m\u001b[23m 13\u001b[90m, \u001b[39m21\u001b[90m, \u001b[39m20\u001b[90m, \u001b[39m18\u001b[90m, \u001b[39m6\u001b[90m, \u001b[39m12\u001b[90m, \u001b[39m19\u001b[90m, \u001b[39m10\u001b[90m, \u001b[39m11\u001b[90m, \u001b[39m18\u001b[90m, \u001b[39m18\u001b[90m, \u001b[39m11\u001b[90m, \u001b[39m6\u001b[90m, \u001b[39m1…\n",
      "$ `FT%`              \u001b[3m\u001b[90m<dbl>\u001b[39m\u001b[23m 0.85\u001b[90m, \u001b[39m0.57\u001b[90m, \u001b[39m0.75\u001b[90m, \u001b[39m0.78\u001b[90m, \u001b[39m0.50\u001b[90m, \u001b[39m0.75\u001b[90m, \u001b[39m0.79\u001b[90m, \u001b[39m0.70\u001b[90m, \u001b[39m0.8…\n",
      "$ OR                 \u001b[3m\u001b[90m<dbl>\u001b[39m\u001b[23m 17\u001b[90m, \u001b[39m9\u001b[90m, \u001b[39m15\u001b[90m, \u001b[39m7\u001b[90m, \u001b[39m9\u001b[90m, \u001b[39m9\u001b[90m, \u001b[39m3\u001b[90m, \u001b[39m20\u001b[90m, \u001b[39m10\u001b[90m, \u001b[39m8\u001b[90m, \u001b[39m10\u001b[90m, \u001b[39m4\u001b[90m, \u001b[39m8\u001b[90m, \u001b[39m7\u001b[90m, \u001b[39m21\u001b[90m, \u001b[39m…\n",
      "$ DR                 \u001b[3m\u001b[90m<dbl>\u001b[39m\u001b[23m 23\u001b[90m, \u001b[39m22\u001b[90m, \u001b[39m19\u001b[90m, \u001b[39m19\u001b[90m, \u001b[39m16\u001b[90m, \u001b[39m26\u001b[90m, \u001b[39m14\u001b[90m, \u001b[39m29\u001b[90m, \u001b[39m22\u001b[90m, \u001b[39m22\u001b[90m, \u001b[39m31\u001b[90m, \u001b[39m23\u001b[90m, \u001b[39m22\u001b[90m,\u001b[39m…\n",
      "$ TR                 \u001b[3m\u001b[90m<dbl>\u001b[39m\u001b[23m 40\u001b[90m, \u001b[39m31\u001b[90m, \u001b[39m34\u001b[90m, \u001b[39m26\u001b[90m, \u001b[39m25\u001b[90m, \u001b[39m35\u001b[90m, \u001b[39m17\u001b[90m, \u001b[39m49\u001b[90m, \u001b[39m32\u001b[90m, \u001b[39m30\u001b[90m, \u001b[39m41\u001b[90m, \u001b[39m27\u001b[90m, \u001b[39m30\u001b[90m,\u001b[39m…\n",
      "$ AST                \u001b[3m\u001b[90m<dbl>\u001b[39m\u001b[23m 19\u001b[90m, \u001b[39m17\u001b[90m, \u001b[39m31\u001b[90m, \u001b[39m18\u001b[90m, \u001b[39m24\u001b[90m, \u001b[39m21\u001b[90m, \u001b[39m14\u001b[90m, \u001b[39m12\u001b[90m, \u001b[39m21\u001b[90m, \u001b[39m11\u001b[90m, \u001b[39m18\u001b[90m, \u001b[39m15\u001b[90m, \u001b[39m20\u001b[90m,\u001b[39m…\n",
      "$ TO                 \u001b[3m\u001b[90m<dbl>\u001b[39m\u001b[23m 10\u001b[90m, \u001b[39m16\u001b[90m, \u001b[39m12\u001b[90m, \u001b[39m16\u001b[90m, \u001b[39m10\u001b[90m, \u001b[39m13\u001b[90m, \u001b[39m9\u001b[90m, \u001b[39m16\u001b[90m, \u001b[39m14\u001b[90m, \u001b[39m15\u001b[90m, \u001b[39m19\u001b[90m, \u001b[39m12\u001b[90m, \u001b[39m14\u001b[90m, \u001b[39m…\n",
      "$ ST                 \u001b[3m\u001b[90m<dbl>\u001b[39m\u001b[23m 10\u001b[90m, \u001b[39m5\u001b[90m, \u001b[39m11\u001b[90m, \u001b[39m7\u001b[90m, \u001b[39m9\u001b[90m, \u001b[39m5\u001b[90m, \u001b[39m10\u001b[90m, \u001b[39m5\u001b[90m, \u001b[39m8\u001b[90m, \u001b[39m6\u001b[90m, \u001b[39m9\u001b[90m, \u001b[39m5\u001b[90m, \u001b[39m13\u001b[90m, \u001b[39m8\u001b[90m, \u001b[39m4\u001b[90m, \u001b[39m7\u001b[90m,\u001b[39m…\n",
      "$ BLK                \u001b[3m\u001b[90m<dbl>\u001b[39m\u001b[23m 2\u001b[90m, \u001b[39m3\u001b[90m, \u001b[39m2\u001b[90m, \u001b[39m2\u001b[90m, \u001b[39m1\u001b[90m, \u001b[39m3\u001b[90m, \u001b[39m3\u001b[90m, \u001b[39m3\u001b[90m, \u001b[39m1\u001b[90m, \u001b[39m3\u001b[90m, \u001b[39m3\u001b[90m, \u001b[39m1\u001b[90m, \u001b[39m2\u001b[90m, \u001b[39m2\u001b[90m, \u001b[39m3\u001b[90m, \u001b[39m4\u001b[90m, \u001b[39m2\u001b[90m, \u001b[39m…\n",
      "$ BLKA               \u001b[3m\u001b[90m<dbl>\u001b[39m\u001b[23m 3\u001b[90m, \u001b[39m2\u001b[90m, \u001b[39m2\u001b[90m, \u001b[39m2\u001b[90m, \u001b[39m3\u001b[90m, \u001b[39m1\u001b[90m, \u001b[39m3\u001b[90m, \u001b[39m3\u001b[90m, \u001b[39m3\u001b[90m, \u001b[39m1\u001b[90m, \u001b[39m1\u001b[90m, \u001b[39m3\u001b[90m, \u001b[39m2\u001b[90m, \u001b[39m2\u001b[90m, \u001b[39m4\u001b[90m, \u001b[39m3\u001b[90m, \u001b[39m4\u001b[90m, \u001b[39m…\n",
      "$ PF                 \u001b[3m\u001b[90m<dbl>\u001b[39m\u001b[23m 21\u001b[90m, \u001b[39m14\u001b[90m, \u001b[39m19\u001b[90m, \u001b[39m18\u001b[90m, \u001b[39m15\u001b[90m, \u001b[39m15\u001b[90m, \u001b[39m17\u001b[90m, \u001b[39m21\u001b[90m, \u001b[39m18\u001b[90m, \u001b[39m19\u001b[90m, \u001b[39m16\u001b[90m, \u001b[39m23\u001b[90m, \u001b[39m20\u001b[90m,\u001b[39m…\n",
      "$ DF                 \u001b[3m\u001b[90m<dbl>\u001b[39m\u001b[23m 14\u001b[90m, \u001b[39m21\u001b[90m, \u001b[39m18\u001b[90m, \u001b[39m19\u001b[90m, \u001b[39m15\u001b[90m, \u001b[39m15\u001b[90m, \u001b[39m21\u001b[90m, \u001b[39m17\u001b[90m, \u001b[39m19\u001b[90m, \u001b[39m17\u001b[90m, \u001b[39m22\u001b[90m, \u001b[39m16\u001b[90m, \u001b[39m17\u001b[90m,\u001b[39m…\n",
      "$ VAL                \u001b[3m\u001b[90m<dbl>\u001b[39m\u001b[23m 105\u001b[90m, \u001b[39m81\u001b[90m, \u001b[39m121\u001b[90m, \u001b[39m88\u001b[90m, \u001b[39m81\u001b[90m, \u001b[39m114\u001b[90m, \u001b[39m69\u001b[90m, \u001b[39m88\u001b[90m, \u001b[39m90\u001b[90m, \u001b[39m80\u001b[90m, \u001b[39m101\u001b[90m, \u001b[39m74\u001b[90m,\u001b[39m…\n",
      "$ `+ / -`            \u001b[3m\u001b[90m<dbl>\u001b[39m\u001b[23m 21\u001b[90m, \u001b[39m-21\u001b[90m, \u001b[39m15\u001b[90m, \u001b[39m-15\u001b[90m, \u001b[39m-17\u001b[90m, \u001b[39m17\u001b[90m, \u001b[39m-12\u001b[90m, \u001b[39m12\u001b[90m, \u001b[39m-3\u001b[90m, \u001b[39m3\u001b[90m, \u001b[39m-3\u001b[90m, \u001b[39m3\u001b[90m, \u001b[39m1…\n",
      "$ POSS               \u001b[3m\u001b[90m<dbl>\u001b[39m\u001b[23m 70\u001b[90m, \u001b[39m69\u001b[90m, \u001b[39m75\u001b[90m, \u001b[39m73\u001b[90m, \u001b[39m70\u001b[90m, \u001b[39m71\u001b[90m, \u001b[39m68\u001b[90m, \u001b[39m68\u001b[90m, \u001b[39m72\u001b[90m, \u001b[39m71\u001b[90m, \u001b[39m79\u001b[90m, \u001b[39m78\u001b[90m, \u001b[39m75\u001b[90m,\u001b[39m…\n",
      "$ `SHOOTING CHANCES` \u001b[3m\u001b[90m<dbl>\u001b[39m\u001b[23m 87\u001b[90m, \u001b[39m78\u001b[90m, \u001b[39m90\u001b[90m, \u001b[39m80\u001b[90m, \u001b[39m79\u001b[90m, \u001b[39m80\u001b[90m, \u001b[39m71\u001b[90m, \u001b[39m88\u001b[90m, \u001b[39m82\u001b[90m, \u001b[39m79\u001b[90m, \u001b[39m89\u001b[90m, \u001b[39m82\u001b[90m, \u001b[39m83\u001b[90m,\u001b[39m…\n",
      "$ `OFF PPP`          \u001b[3m\u001b[90m<dbl>\u001b[39m\u001b[23m 1.08\u001b[90m, \u001b[39m0.94\u001b[90m, \u001b[39m1.07\u001b[90m, \u001b[39m1.01\u001b[90m, \u001b[39m0.94\u001b[90m, \u001b[39m1.14\u001b[90m, \u001b[39m0.96\u001b[90m, \u001b[39m0.91\u001b[90m, \u001b[39m0.9…\n",
      "$ `DEF PPP`          \u001b[3m\u001b[90m<dbl>\u001b[39m\u001b[23m 0.94\u001b[90m, \u001b[39m1.08\u001b[90m, \u001b[39m1.01\u001b[90m, \u001b[39m1.07\u001b[90m, \u001b[39m1.14\u001b[90m, \u001b[39m0.94\u001b[90m, \u001b[39m0.91\u001b[90m, \u001b[39m0.96\u001b[90m, \u001b[39m1.0…\n",
      "$ `OFF RTG`          \u001b[3m\u001b[90m<dbl>\u001b[39m\u001b[23m 134.3\u001b[90m, \u001b[39m105.8\u001b[90m, \u001b[39m128.0\u001b[90m, \u001b[39m111.0\u001b[90m, \u001b[39m105.7\u001b[90m, \u001b[39m128.2\u001b[90m, \u001b[39m100.0\u001b[90m, \u001b[39m11…\n",
      "$ `DEF RTG`          \u001b[3m\u001b[90m<dbl>\u001b[39m\u001b[23m 105.8\u001b[90m, \u001b[39m134.3\u001b[90m, \u001b[39m111.0\u001b[90m, \u001b[39m128.0\u001b[90m, \u001b[39m128.2\u001b[90m, \u001b[39m105.7\u001b[90m, \u001b[39m117.6\u001b[90m, \u001b[39m10…\n",
      "$ `NET RTG`          \u001b[3m\u001b[90m<dbl>\u001b[39m\u001b[23m 28.5\u001b[90m, \u001b[39m-28.5\u001b[90m, \u001b[39m17.0\u001b[90m, \u001b[39m-17.0\u001b[90m, \u001b[39m-22.5\u001b[90m, \u001b[39m22.5\u001b[90m, \u001b[39m-17.6\u001b[90m, \u001b[39m17.6\u001b[90m,\u001b[39m…\n",
      "$ `eFG%`             \u001b[3m\u001b[90m<dbl>\u001b[39m\u001b[23m 0.58\u001b[90m, \u001b[39m0.56\u001b[90m, \u001b[39m0.59\u001b[90m, \u001b[39m0.60\u001b[90m, \u001b[39m0.53\u001b[90m, \u001b[39m0.66\u001b[90m, \u001b[39m0.49\u001b[90m, \u001b[39m0.54\u001b[90m, \u001b[39m0.5…\n",
      "$ `TS%`              \u001b[3m\u001b[90m<dbl>\u001b[39m\u001b[23m 0.61\u001b[90m, \u001b[39m0.59\u001b[90m, \u001b[39m0.62\u001b[90m, \u001b[39m0.63\u001b[90m, \u001b[39m0.54\u001b[90m, \u001b[39m0.68\u001b[90m, \u001b[39m0.55\u001b[90m, \u001b[39m0.56\u001b[90m, \u001b[39m0.5…\n",
      "$ `RIM FREQ`         \u001b[3m\u001b[90m<dbl>\u001b[39m\u001b[23m 0.07\u001b[90m, \u001b[39m0.10\u001b[90m, \u001b[39m0.11\u001b[90m, \u001b[39m0.09\u001b[90m, \u001b[39m0.06\u001b[90m, \u001b[39m0.14\u001b[90m, \u001b[39m0.04\u001b[90m, \u001b[39m0.13\u001b[90m, \u001b[39m0.1…\n",
      "$ `RIM PPS`          \u001b[3m\u001b[90m<chr>\u001b[39m\u001b[23m \"1,33\"\u001b[90m, \u001b[39m\"1,75\"\u001b[90m, \u001b[39m\"1,8\"\u001b[90m, \u001b[39m\"1,71\"\u001b[90m, \u001b[39m\"1,6\"\u001b[90m, \u001b[39m\"1,82\"\u001b[90m, \u001b[39m\"0,67…\n",
      "$ `PAINT FREQ`       \u001b[3m\u001b[90m<dbl>\u001b[39m\u001b[23m 0.30\u001b[90m, \u001b[39m0.19\u001b[90m, \u001b[39m0.31\u001b[90m, \u001b[39m0.34\u001b[90m, \u001b[39m0.37\u001b[90m, \u001b[39m0.35\u001b[90m, \u001b[39m0.27\u001b[90m, \u001b[39m0.19\u001b[90m, \u001b[39m0.2…\n",
      "$ `PAINT PPS`        \u001b[3m\u001b[90m<dbl>\u001b[39m\u001b[23m 0.77\u001b[90m, \u001b[39m0.80\u001b[90m, \u001b[39m1.07\u001b[90m, \u001b[39m1.33\u001b[90m, \u001b[39m1.10\u001b[90m, \u001b[39m1.43\u001b[90m, \u001b[39m1.26\u001b[90m, \u001b[39m1.06\u001b[90m, \u001b[39m1.1…\n",
      "$ `MID FREQ`         \u001b[3m\u001b[90m<dbl>\u001b[39m\u001b[23m 0.06\u001b[90m, \u001b[39m0.08\u001b[90m, \u001b[39m0.06\u001b[90m, \u001b[39m0.06\u001b[90m, \u001b[39m0.08\u001b[90m, \u001b[39m0.04\u001b[90m, \u001b[39m0.11\u001b[90m, \u001b[39m0.09\u001b[90m, \u001b[39m0.0…\n",
      "$ `MID PPS`          \u001b[3m\u001b[90m<chr>\u001b[39m\u001b[23m \"0,8\"\u001b[90m, \u001b[39m\"1,33\"\u001b[90m, \u001b[39m\"1,2\"\u001b[90m, \u001b[39m\"0,8\"\u001b[90m, \u001b[39m\"0,67\"\u001b[90m, \u001b[39m\"1,33\"\u001b[90m, \u001b[39m\"0,75\"…\n",
      "$ `C3 FREQ`          \u001b[3m\u001b[90m<dbl>\u001b[39m\u001b[23m 0.01\u001b[90m, \u001b[39m0.05\u001b[90m, \u001b[39m0.04\u001b[90m, \u001b[39m0.03\u001b[90m, \u001b[39m0.08\u001b[90m, \u001b[39m0.03\u001b[90m, \u001b[39m0.03\u001b[90m, \u001b[39m0.06\u001b[90m, \u001b[39m0.0…\n",
      "$ `C3 PPS`           \u001b[3m\u001b[90m<chr>\u001b[39m\u001b[23m \"3\"\u001b[90m, \u001b[39m\"1,5\"\u001b[90m, \u001b[39m\"0\"\u001b[90m, \u001b[39m\"0\"\u001b[90m, \u001b[39m\"1,5\"\u001b[90m, \u001b[39m\"3\"\u001b[90m, \u001b[39m\"0\"\u001b[90m, \u001b[39m\"0\"\u001b[90m, \u001b[39m\"-\"\u001b[90m, \u001b[39m\"-…\n",
      "$ `L3 FREQ`          \u001b[3m\u001b[90m<dbl>\u001b[39m\u001b[23m 0.38\u001b[90m, \u001b[39m0.27\u001b[90m, \u001b[39m0.24\u001b[90m, \u001b[39m0.19\u001b[90m, \u001b[39m0.27\u001b[90m, \u001b[39m0.23\u001b[90m, \u001b[39m0.31\u001b[90m, \u001b[39m0.30\u001b[90m, \u001b[39m0.2…\n",
      "$ `L3 PPS`           \u001b[3m\u001b[90m<dbl>\u001b[39m\u001b[23m 1.45\u001b[90m, \u001b[39m1.00\u001b[90m, \u001b[39m1.23\u001b[90m, \u001b[39m1.00\u001b[90m, \u001b[39m0.86\u001b[90m, \u001b[39m0.67\u001b[90m, \u001b[39m0.95\u001b[90m, \u001b[39m1.04\u001b[90m, \u001b[39m1.0…\n",
      "$ `FT Ratio`         \u001b[3m\u001b[90m<dbl>\u001b[39m\u001b[23m 0.07\u001b[90m, \u001b[39m0.10\u001b[90m, \u001b[39m0.10\u001b[90m, \u001b[39m0.10\u001b[90m, \u001b[39m0.03\u001b[90m, \u001b[39m0.06\u001b[90m, \u001b[39m0.11\u001b[90m, \u001b[39m0.06\u001b[90m, \u001b[39m0.0…\n",
      "$ `TO%`              \u001b[3m\u001b[90m<dbl>\u001b[39m\u001b[23m 0.11\u001b[90m, \u001b[39m0.21\u001b[90m, \u001b[39m0.13\u001b[90m, \u001b[39m0.20\u001b[90m, \u001b[39m0.13\u001b[90m, \u001b[39m0.16\u001b[90m, \u001b[39m0.13\u001b[90m, \u001b[39m0.18\u001b[90m, \u001b[39m0.1…\n",
      "$ `LTO%`             \u001b[3m\u001b[90m<dbl>\u001b[39m\u001b[23m 0.06\u001b[90m, \u001b[39m0.13\u001b[90m, \u001b[39m0.08\u001b[90m, \u001b[39m0.14\u001b[90m, \u001b[39m0.06\u001b[90m, \u001b[39m0.11\u001b[90m, \u001b[39m0.07\u001b[90m, \u001b[39m0.11\u001b[90m, \u001b[39m0.0…\n",
      "$ `DTO%`             \u001b[3m\u001b[90m<dbl>\u001b[39m\u001b[23m 0.06\u001b[90m, \u001b[39m0.08\u001b[90m, \u001b[39m0.06\u001b[90m, \u001b[39m0.06\u001b[90m, \u001b[39m0.06\u001b[90m, \u001b[39m0.05\u001b[90m, \u001b[39m0.06\u001b[90m, \u001b[39m0.07\u001b[90m, \u001b[39m0.1…\n",
      "$ `AST%`             \u001b[3m\u001b[90m<dbl>\u001b[39m\u001b[23m 0.46\u001b[90m, \u001b[39m0.52\u001b[90m, \u001b[39m0.69\u001b[90m, \u001b[39m0.47\u001b[90m, \u001b[39m0.73\u001b[90m, \u001b[39m0.49\u001b[90m, \u001b[39m0.47\u001b[90m, \u001b[39m0.33\u001b[90m, \u001b[39m0.6…\n",
      "$ `AST% (2P)`        \u001b[3m\u001b[90m<dbl>\u001b[39m\u001b[23m 0.38\u001b[90m, \u001b[39m0.41\u001b[90m, \u001b[39m0.74\u001b[90m, \u001b[39m0.42\u001b[90m, \u001b[39m0.68\u001b[90m, \u001b[39m0.53\u001b[90m, \u001b[39m0.50\u001b[90m, \u001b[39m0.22\u001b[90m, \u001b[39m0.5…\n",
      "$ `AST% (3P)`        \u001b[3m\u001b[90m<dbl>\u001b[39m\u001b[23m 0.59\u001b[90m, \u001b[39m0.78\u001b[90m, \u001b[39m0.56\u001b[90m, \u001b[39m0.80\u001b[90m, \u001b[39m0.89\u001b[90m, \u001b[39m0.67\u001b[90m, \u001b[39m0.71\u001b[90m, \u001b[39m0.67\u001b[90m, \u001b[39m1.0…\n",
      "$ `AST% (FT)`        \u001b[3m\u001b[90m<chr>\u001b[39m\u001b[23m \"0,33\"\u001b[90m, \u001b[39m\"0,43\"\u001b[90m, \u001b[39m\"0,67\"\u001b[90m, \u001b[39m\"0,43\"\u001b[90m, \u001b[39m\"0,5\"\u001b[90m, \u001b[39m\"0\"\u001b[90m, \u001b[39m\"0,14\"\u001b[90m,\u001b[39m…\n",
      "$ `AST Ratio`        \u001b[3m\u001b[90m<dbl>\u001b[39m\u001b[23m 0.22\u001b[90m, \u001b[39m0.22\u001b[90m, \u001b[39m0.34\u001b[90m, \u001b[39m0.23\u001b[90m, \u001b[39m0.30\u001b[90m, \u001b[39m0.26\u001b[90m, \u001b[39m0.20\u001b[90m, \u001b[39m0.14\u001b[90m, \u001b[39m0.2…\n",
      "$ `AST/TO`           \u001b[3m\u001b[90m<dbl>\u001b[39m\u001b[23m 1.90\u001b[90m, \u001b[39m1.06\u001b[90m, \u001b[39m2.58\u001b[90m, \u001b[39m1.13\u001b[90m, \u001b[39m2.40\u001b[90m, \u001b[39m1.62\u001b[90m, \u001b[39m1.56\u001b[90m, \u001b[39m0.75\u001b[90m, \u001b[39m1.5…\n",
      "$ `OR%`              \u001b[3m\u001b[90m<dbl>\u001b[39m\u001b[23m 0.44\u001b[90m, \u001b[39m0.28\u001b[90m, \u001b[39m0.44\u001b[90m, \u001b[39m0.27\u001b[90m, \u001b[39m0.26\u001b[90m, \u001b[39m0.36\u001b[90m, \u001b[39m0.09\u001b[90m, \u001b[39m0.59\u001b[90m, \u001b[39m0.3…\n",
      "$ `OR% (after 2P)`   \u001b[3m\u001b[90m<dbl>\u001b[39m\u001b[23m 0.52\u001b[90m, \u001b[39m0.36\u001b[90m, \u001b[39m0.40\u001b[90m, \u001b[39m0.31\u001b[90m, \u001b[39m0.39\u001b[90m, \u001b[39m0.50\u001b[90m, \u001b[39m0.00\u001b[90m, \u001b[39m0.46\u001b[90m, \u001b[39m0.2…\n",
      "$ `OR% (after 3P)`   \u001b[3m\u001b[90m<dbl>\u001b[39m\u001b[23m 0.31\u001b[90m, \u001b[39m0.25\u001b[90m, \u001b[39m0.53\u001b[90m, \u001b[39m0.25\u001b[90m, \u001b[39m0.12\u001b[90m, \u001b[39m0.31\u001b[90m, \u001b[39m0.18\u001b[90m, \u001b[39m0.70\u001b[90m, \u001b[39m0.4…\n",
      "$ `OR% (after FT)`   \u001b[3m\u001b[90m<chr>\u001b[39m\u001b[23m \"0,5\"\u001b[90m, \u001b[39m\"0\"\u001b[90m, \u001b[39m\"0\"\u001b[90m, \u001b[39m\"0\"\u001b[90m, \u001b[39m\"-\"\u001b[90m, \u001b[39m\"0\"\u001b[90m, \u001b[39m\"0\"\u001b[90m, \u001b[39m\"-\"\u001b[90m, \u001b[39m\"0,5\"\u001b[90m, \u001b[39m\"0…\n",
      "$ `DR%`              \u001b[3m\u001b[90m<dbl>\u001b[39m\u001b[23m 0.72\u001b[90m, \u001b[39m0.56\u001b[90m, \u001b[39m0.73\u001b[90m, \u001b[39m0.56\u001b[90m, \u001b[39m0.64\u001b[90m, \u001b[39m0.74\u001b[90m, \u001b[39m0.41\u001b[90m, \u001b[39m0.91\u001b[90m, \u001b[39m0.7…\n",
      "$ `DR% (after 2P)`   \u001b[3m\u001b[90m<dbl>\u001b[39m\u001b[23m 0.64\u001b[90m, \u001b[39m0.48\u001b[90m, \u001b[39m0.69\u001b[90m, \u001b[39m0.60\u001b[90m, \u001b[39m0.50\u001b[90m, \u001b[39m0.61\u001b[90m, \u001b[39m0.54\u001b[90m, \u001b[39m1.00\u001b[90m, \u001b[39m0.7…\n",
      "$ `DR% (after 3P)`   \u001b[3m\u001b[90m<dbl>\u001b[39m\u001b[23m 0.75\u001b[90m, \u001b[39m0.69\u001b[90m, \u001b[39m0.75\u001b[90m, \u001b[39m0.47\u001b[90m, \u001b[39m0.69\u001b[90m, \u001b[39m0.88\u001b[90m, \u001b[39m0.30\u001b[90m, \u001b[39m0.82\u001b[90m, \u001b[39m0.8…\n",
      "$ `DR% (after FT)`   \u001b[3m\u001b[90m<chr>\u001b[39m\u001b[23m \"1\"\u001b[90m, \u001b[39m\"0,5\"\u001b[90m, \u001b[39m\"1\"\u001b[90m, \u001b[39m\"1\"\u001b[90m, \u001b[39m\"1\"\u001b[90m, \u001b[39m\"-\"\u001b[90m, \u001b[39m\"-\"\u001b[90m, \u001b[39m\"1\"\u001b[90m, \u001b[39m\"0,5\"\u001b[90m, \u001b[39m\"0…\n",
      "$ `TR%`              \u001b[3m\u001b[90m<dbl>\u001b[39m\u001b[23m 0.56\u001b[90m, \u001b[39m0.44\u001b[90m, \u001b[39m0.57\u001b[90m, \u001b[39m0.43\u001b[90m, \u001b[39m0.42\u001b[90m, \u001b[39m0.58\u001b[90m, \u001b[39m0.26\u001b[90m, \u001b[39m0.74\u001b[90m, \u001b[39m0.5…\n",
      "$ `ST%`              \u001b[3m\u001b[90m<dbl>\u001b[39m\u001b[23m 0.14\u001b[90m, \u001b[39m0.07\u001b[90m, \u001b[39m0.15\u001b[90m, \u001b[39m0.09\u001b[90m, \u001b[39m0.13\u001b[90m, \u001b[39m0.07\u001b[90m, \u001b[39m0.15\u001b[90m, \u001b[39m0.07\u001b[90m, \u001b[39m0.1…\n",
      "$ `BLK%`             \u001b[3m\u001b[90m<dbl>\u001b[39m\u001b[23m 0.04\u001b[90m, \u001b[39m0.04\u001b[90m, \u001b[39m0.04\u001b[90m, \u001b[39m0.03\u001b[90m, \u001b[39m0.02\u001b[90m, \u001b[39m0.04\u001b[90m, \u001b[39m0.04\u001b[90m, \u001b[39m0.06\u001b[90m, \u001b[39m0.0…\n",
      "$ `BLK% (2P)`        \u001b[3m\u001b[90m<dbl>\u001b[39m\u001b[23m 0.00\u001b[90m, \u001b[39m0.00\u001b[90m, \u001b[39m0.00\u001b[90m, \u001b[39m0.00\u001b[90m, \u001b[39m0.02\u001b[90m, \u001b[39m0.08\u001b[90m, \u001b[39m0.08\u001b[90m, \u001b[39m0.10\u001b[90m, \u001b[39m0.0…\n",
      "$ `BLK% (3P)`        \u001b[3m\u001b[90m<dbl>\u001b[39m\u001b[23m 0.00\u001b[90m, \u001b[39m0.00\u001b[90m, \u001b[39m0.00\u001b[90m, \u001b[39m0.00\u001b[90m, \u001b[39m0.00\u001b[90m, \u001b[39m0.00\u001b[90m, \u001b[39m0.00\u001b[90m, \u001b[39m0.00\u001b[90m, \u001b[39m0.0…\n",
      "$ KILLS              \u001b[3m\u001b[90m<dbl>\u001b[39m\u001b[23m 4\u001b[90m, \u001b[39m3\u001b[90m, \u001b[39m5\u001b[90m, \u001b[39m4\u001b[90m, \u001b[39m1\u001b[90m, \u001b[39m5\u001b[90m, \u001b[39m5\u001b[90m, \u001b[39m7\u001b[90m, \u001b[39m6\u001b[90m, \u001b[39m5\u001b[90m, \u001b[39m5\u001b[90m, \u001b[39m6\u001b[90m, \u001b[39m7\u001b[90m, \u001b[39m8\u001b[90m, \u001b[39m8\u001b[90m, \u001b[39m7\u001b[90m, \u001b[39m5\u001b[90m, \u001b[39m…\n",
      "$ `PSF FREQ`         \u001b[3m\u001b[90m<dbl>\u001b[39m\u001b[23m 0.43\u001b[90m, \u001b[39m1.00\u001b[90m, \u001b[39m1.00\u001b[90m, \u001b[39m1.00\u001b[90m, \u001b[39m0.00\u001b[90m, \u001b[39m0.00\u001b[90m, \u001b[39m0.00\u001b[90m, \u001b[39m0.00\u001b[90m, \u001b[39m1.0…\n",
      "$ `DSF FREQ`         \u001b[3m\u001b[90m<dbl>\u001b[39m\u001b[23m 0.50\u001b[90m, \u001b[39m0.00\u001b[90m, \u001b[39m1.00\u001b[90m, \u001b[39m1.00\u001b[90m, \u001b[39m0.00\u001b[90m, \u001b[39m0.00\u001b[90m, \u001b[39m0.00\u001b[90m, \u001b[39m0.00\u001b[90m, \u001b[39m0.0…\n",
      "$ ASTED_2FG          \u001b[3m\u001b[90m<dbl>\u001b[39m\u001b[23m 6\u001b[90m, \u001b[39m7\u001b[90m, \u001b[39m20\u001b[90m, \u001b[39m11\u001b[90m, \u001b[39m15\u001b[90m, \u001b[39m17\u001b[90m, \u001b[39m8\u001b[90m, \u001b[39m5\u001b[90m, \u001b[39m12\u001b[90m, \u001b[39m5\u001b[90m, \u001b[39m8\u001b[90m, \u001b[39m7\u001b[90m, \u001b[39m12\u001b[90m, \u001b[39m6\u001b[90m, \u001b[39m12\u001b[90m,\u001b[39m…\n",
      "$ ASTED_3FG          \u001b[3m\u001b[90m<dbl>\u001b[39m\u001b[23m 10\u001b[90m, \u001b[39m7\u001b[90m, \u001b[39m5\u001b[90m, \u001b[39m4\u001b[90m, \u001b[39m8\u001b[90m, \u001b[39m4\u001b[90m, \u001b[39m5\u001b[90m, \u001b[39m6\u001b[90m, \u001b[39m8\u001b[90m, \u001b[39m6\u001b[90m, \u001b[39m10\u001b[90m, \u001b[39m8\u001b[90m, \u001b[39m8\u001b[90m, \u001b[39m7\u001b[90m, \u001b[39m5\u001b[90m, \u001b[39m10\u001b[90m, \u001b[39m…\n",
      "$ ASTED_FT           \u001b[3m\u001b[90m<dbl>\u001b[39m\u001b[23m 2\u001b[90m, \u001b[39m3\u001b[90m, \u001b[39m6\u001b[90m, \u001b[39m3\u001b[90m, \u001b[39m1\u001b[90m, \u001b[39m0\u001b[90m, \u001b[39m1\u001b[90m, \u001b[39m1\u001b[90m, \u001b[39m1\u001b[90m, \u001b[39m0\u001b[90m, \u001b[39m0\u001b[90m, \u001b[39m0\u001b[90m, \u001b[39m0\u001b[90m, \u001b[39m2\u001b[90m, \u001b[39m1\u001b[90m, \u001b[39m2\u001b[90m, \u001b[39m0\u001b[90m, \u001b[39m…\n",
      "$ `ASTED_FT PTS`     \u001b[3m\u001b[90m<dbl>\u001b[39m\u001b[23m 2\u001b[90m, \u001b[39m3\u001b[90m, \u001b[39m10\u001b[90m, \u001b[39m6\u001b[90m, \u001b[39m1\u001b[90m, \u001b[39m0\u001b[90m, \u001b[39m2\u001b[90m, \u001b[39m2\u001b[90m, \u001b[39m0\u001b[90m, \u001b[39m0\u001b[90m, \u001b[39m0\u001b[90m, \u001b[39m0\u001b[90m, \u001b[39m0\u001b[90m, \u001b[39m4\u001b[90m, \u001b[39m2\u001b[90m, \u001b[39m4\u001b[90m, \u001b[39m0\u001b[90m,\u001b[39m…\n",
      "$ LTO                \u001b[3m\u001b[90m<dbl>\u001b[39m\u001b[23m 5\u001b[90m, \u001b[39m10\u001b[90m, \u001b[39m7\u001b[90m, \u001b[39m11\u001b[90m, \u001b[39m5\u001b[90m, \u001b[39m9\u001b[90m, \u001b[39m5\u001b[90m, \u001b[39m10\u001b[90m, \u001b[39m6\u001b[90m, \u001b[39m8\u001b[90m, \u001b[39m5\u001b[90m, \u001b[39m9\u001b[90m, \u001b[39m8\u001b[90m, \u001b[39m13\u001b[90m, \u001b[39m7\u001b[90m, \u001b[39m4\u001b[90m,\u001b[39m…\n",
      "$ DTO                \u001b[3m\u001b[90m<dbl>\u001b[39m\u001b[23m 5\u001b[90m, \u001b[39m6\u001b[90m, \u001b[39m5\u001b[90m, \u001b[39m5\u001b[90m, \u001b[39m5\u001b[90m, \u001b[39m4\u001b[90m, \u001b[39m4\u001b[90m, \u001b[39m6\u001b[90m, \u001b[39m8\u001b[90m, \u001b[39m7\u001b[90m, \u001b[39m14\u001b[90m, \u001b[39m3\u001b[90m, \u001b[39m6\u001b[90m, \u001b[39m6\u001b[90m, \u001b[39m5\u001b[90m, \u001b[39m5\u001b[90m, \u001b[39m11…\n",
      "$ BLK2               \u001b[3m\u001b[90m<dbl>\u001b[39m\u001b[23m 0\u001b[90m, \u001b[39m0\u001b[90m, \u001b[39m0\u001b[90m, \u001b[39m0\u001b[90m, \u001b[39m1\u001b[90m, \u001b[39m3\u001b[90m, \u001b[39m3\u001b[90m, \u001b[39m3\u001b[90m, \u001b[39m1\u001b[90m, \u001b[39m2\u001b[90m, \u001b[39m1\u001b[90m, \u001b[39m0\u001b[90m, \u001b[39m2\u001b[90m, \u001b[39m2\u001b[90m, \u001b[39m3\u001b[90m, \u001b[39m4\u001b[90m, \u001b[39m1\u001b[90m, \u001b[39m…\n",
      "$ BLK3               \u001b[3m\u001b[90m<dbl>\u001b[39m\u001b[23m 0\u001b[90m, \u001b[39m0\u001b[90m, \u001b[39m0\u001b[90m, \u001b[39m0\u001b[90m, \u001b[39m0\u001b[90m, \u001b[39m0\u001b[90m, \u001b[39m0\u001b[90m, \u001b[39m0\u001b[90m, \u001b[39m0\u001b[90m, \u001b[39m1\u001b[90m, \u001b[39m0\u001b[90m, \u001b[39m0\u001b[90m, \u001b[39m0\u001b[90m, \u001b[39m0\u001b[90m, \u001b[39m0\u001b[90m, \u001b[39m0\u001b[90m, \u001b[39m1\u001b[90m, \u001b[39m…\n",
      "$ OR_RIM             \u001b[3m\u001b[90m<dbl>\u001b[39m\u001b[23m 2\u001b[90m, \u001b[39m1\u001b[90m, \u001b[39m0\u001b[90m, \u001b[39m1\u001b[90m, \u001b[39m0\u001b[90m, \u001b[39m1\u001b[90m, \u001b[39m0\u001b[90m, \u001b[39m1\u001b[90m, \u001b[39m0\u001b[90m, \u001b[39m3\u001b[90m, \u001b[39m1\u001b[90m, \u001b[39m2\u001b[90m, \u001b[39m2\u001b[90m, \u001b[39m1\u001b[90m, \u001b[39m1\u001b[90m, \u001b[39m0\u001b[90m, \u001b[39m0\u001b[90m, \u001b[39m…\n",
      "$ `TM OR_RIM`        \u001b[3m\u001b[90m<dbl>\u001b[39m\u001b[23m 0\u001b[90m, \u001b[39m0\u001b[90m, \u001b[39m0\u001b[90m, \u001b[39m0\u001b[90m, \u001b[39m0\u001b[90m, \u001b[39m0\u001b[90m, \u001b[39m0\u001b[90m, \u001b[39m0\u001b[90m, \u001b[39m0\u001b[90m, \u001b[39m0\u001b[90m, \u001b[39m0\u001b[90m, \u001b[39m0\u001b[90m, \u001b[39m1\u001b[90m, \u001b[39m0\u001b[90m, \u001b[39m0\u001b[90m, \u001b[39m0\u001b[90m, \u001b[39m1\u001b[90m, \u001b[39m…\n",
      "$ OR_PAINT           \u001b[3m\u001b[90m<dbl>\u001b[39m\u001b[23m 7\u001b[90m, \u001b[39m3\u001b[90m, \u001b[39m3\u001b[90m, \u001b[39m1\u001b[90m, \u001b[39m5\u001b[90m, \u001b[39m3\u001b[90m, \u001b[39m0\u001b[90m, \u001b[39m3\u001b[90m, \u001b[39m1\u001b[90m, \u001b[39m2\u001b[90m, \u001b[39m3\u001b[90m, \u001b[39m1\u001b[90m, \u001b[39m1\u001b[90m, \u001b[39m2\u001b[90m, \u001b[39m6\u001b[90m, \u001b[39m1\u001b[90m, \u001b[39m3\u001b[90m, \u001b[39m…\n",
      "$ `TM OR_PAINT`      \u001b[3m\u001b[90m<dbl>\u001b[39m\u001b[23m 0\u001b[90m, \u001b[39m0\u001b[90m, \u001b[39m3\u001b[90m, \u001b[39m1\u001b[90m, \u001b[39m1\u001b[90m, \u001b[39m0\u001b[90m, \u001b[39m0\u001b[90m, \u001b[39m1\u001b[90m, \u001b[39m0\u001b[90m, \u001b[39m1\u001b[90m, \u001b[39m0\u001b[90m, \u001b[39m0\u001b[90m, \u001b[39m0\u001b[90m, \u001b[39m0\u001b[90m, \u001b[39m2\u001b[90m, \u001b[39m2\u001b[90m, \u001b[39m0\u001b[90m, \u001b[39m…\n",
      "$ OR_NP2             \u001b[3m\u001b[90m<dbl>\u001b[39m\u001b[23m 1\u001b[90m, \u001b[39m0\u001b[90m, \u001b[39m0\u001b[90m, \u001b[39m1\u001b[90m, \u001b[39m1\u001b[90m, \u001b[39m1\u001b[90m, \u001b[39m0\u001b[90m, \u001b[39m1\u001b[90m, \u001b[39m2\u001b[90m, \u001b[39m0\u001b[90m, \u001b[39m0\u001b[90m, \u001b[39m0\u001b[90m, \u001b[39m0\u001b[90m, \u001b[39m2\u001b[90m, \u001b[39m1\u001b[90m, \u001b[39m0\u001b[90m, \u001b[39m0\u001b[90m, \u001b[39m…\n",
      "$ `TM OR_NP2`        \u001b[3m\u001b[90m<dbl>\u001b[39m\u001b[23m 1\u001b[90m, \u001b[39m0\u001b[90m, \u001b[39m0\u001b[90m, \u001b[39m0\u001b[90m, \u001b[39m0\u001b[90m, \u001b[39m0\u001b[90m, \u001b[39m0\u001b[90m, \u001b[39m0\u001b[90m, \u001b[39m0\u001b[90m, \u001b[39m0\u001b[90m, \u001b[39m0\u001b[90m, \u001b[39m0\u001b[90m, \u001b[39m0\u001b[90m, \u001b[39m0\u001b[90m, \u001b[39m0\u001b[90m, \u001b[39m0\u001b[90m, \u001b[39m0\u001b[90m, \u001b[39m…\n",
      "$ OR_3C              \u001b[3m\u001b[90m<dbl>\u001b[39m\u001b[23m 0\u001b[90m, \u001b[39m0\u001b[90m, \u001b[39m1\u001b[90m, \u001b[39m1\u001b[90m, \u001b[39m0\u001b[90m, \u001b[39m0\u001b[90m, \u001b[39m0\u001b[90m, \u001b[39m2\u001b[90m, \u001b[39m0\u001b[90m, \u001b[39m0\u001b[90m, \u001b[39m0\u001b[90m, \u001b[39m0\u001b[90m, \u001b[39m2\u001b[90m, \u001b[39m0\u001b[90m, \u001b[39m0\u001b[90m, \u001b[39m0\u001b[90m, \u001b[39m0\u001b[90m, \u001b[39m…\n",
      "$ `TM OR_3C`         \u001b[3m\u001b[90m<dbl>\u001b[39m\u001b[23m 0\u001b[90m, \u001b[39m0\u001b[90m, \u001b[39m0\u001b[90m, \u001b[39m0\u001b[90m, \u001b[39m0\u001b[90m, \u001b[39m0\u001b[90m, \u001b[39m0\u001b[90m, \u001b[39m1\u001b[90m, \u001b[39m0\u001b[90m, \u001b[39m0\u001b[90m, \u001b[39m1\u001b[90m, \u001b[39m0\u001b[90m, \u001b[39m0\u001b[90m, \u001b[39m0\u001b[90m, \u001b[39m0\u001b[90m, \u001b[39m0\u001b[90m, \u001b[39m0\u001b[90m, \u001b[39m…\n",
      "$ OR_3L              \u001b[3m\u001b[90m<dbl>\u001b[39m\u001b[23m 4\u001b[90m, \u001b[39m4\u001b[90m, \u001b[39m6\u001b[90m, \u001b[39m1\u001b[90m, \u001b[39m0\u001b[90m, \u001b[39m4\u001b[90m, \u001b[39m2\u001b[90m, \u001b[39m9\u001b[90m, \u001b[39m5\u001b[90m, \u001b[39m1\u001b[90m, \u001b[39m3\u001b[90m, \u001b[39m1\u001b[90m, \u001b[39m2\u001b[90m, \u001b[39m2\u001b[90m, \u001b[39m10\u001b[90m, \u001b[39m5\u001b[90m, \u001b[39m5\u001b[90m,\u001b[39m…\n",
      "$ `TM OR_3L`         \u001b[3m\u001b[90m<dbl>\u001b[39m\u001b[23m 1\u001b[90m, \u001b[39m0\u001b[90m, \u001b[39m2\u001b[90m, \u001b[39m1\u001b[90m, \u001b[39m2\u001b[90m, \u001b[39m0\u001b[90m, \u001b[39m1\u001b[90m, \u001b[39m2\u001b[90m, \u001b[39m1\u001b[90m, \u001b[39m0\u001b[90m, \u001b[39m0\u001b[90m, \u001b[39m0\u001b[90m, \u001b[39m0\u001b[90m, \u001b[39m0\u001b[90m, \u001b[39m0\u001b[90m, \u001b[39m1\u001b[90m, \u001b[39m2\u001b[90m, \u001b[39m…\n",
      "$ OR_FT              \u001b[3m\u001b[90m<dbl>\u001b[39m\u001b[23m 1\u001b[90m, \u001b[39m0\u001b[90m, \u001b[39m0\u001b[90m, \u001b[39m0\u001b[90m, \u001b[39m0\u001b[90m, \u001b[39m0\u001b[90m, \u001b[39m0\u001b[90m, \u001b[39m0\u001b[90m, \u001b[39m1\u001b[90m, \u001b[39m1\u001b[90m, \u001b[39m1\u001b[90m, \u001b[39m0\u001b[90m, \u001b[39m0\u001b[90m, \u001b[39m0\u001b[90m, \u001b[39m1\u001b[90m, \u001b[39m0\u001b[90m, \u001b[39m0\u001b[90m, \u001b[39m…\n",
      "$ `TM OR_FT`         \u001b[3m\u001b[90m<dbl>\u001b[39m\u001b[23m 0\u001b[90m, \u001b[39m0\u001b[90m, \u001b[39m0\u001b[90m, \u001b[39m0\u001b[90m, \u001b[39m0\u001b[90m, \u001b[39m0\u001b[90m, \u001b[39m0\u001b[90m, \u001b[39m0\u001b[90m, \u001b[39m0\u001b[90m, \u001b[39m0\u001b[90m, \u001b[39m0\u001b[90m, \u001b[39m0\u001b[90m, \u001b[39m0\u001b[90m, \u001b[39m0\u001b[90m, \u001b[39m0\u001b[90m, \u001b[39m0\u001b[90m, \u001b[39m0\u001b[90m, \u001b[39m…\n",
      "$ DR_RIM             \u001b[3m\u001b[90m<dbl>\u001b[39m\u001b[23m 0\u001b[90m, \u001b[39m0\u001b[90m, \u001b[39m0\u001b[90m, \u001b[39m0\u001b[90m, \u001b[39m0\u001b[90m, \u001b[39m1\u001b[90m, \u001b[39m1\u001b[90m, \u001b[39m2\u001b[90m, \u001b[39m2\u001b[90m, \u001b[39m2\u001b[90m, \u001b[39m2\u001b[90m, \u001b[39m3\u001b[90m, \u001b[39m3\u001b[90m, \u001b[39m4\u001b[90m, \u001b[39m1\u001b[90m, \u001b[39m0\u001b[90m, \u001b[39m2\u001b[90m, \u001b[39m…\n",
      "$ `TM DR_RIM`        \u001b[3m\u001b[90m<dbl>\u001b[39m\u001b[23m 0\u001b[90m, \u001b[39m0\u001b[90m, \u001b[39m0\u001b[90m, \u001b[39m1\u001b[90m, \u001b[39m0\u001b[90m, \u001b[39m0\u001b[90m, \u001b[39m0\u001b[90m, \u001b[39m0\u001b[90m, \u001b[39m0\u001b[90m, \u001b[39m0\u001b[90m, \u001b[39m0\u001b[90m, \u001b[39m0\u001b[90m, \u001b[39m0\u001b[90m, \u001b[39m0\u001b[90m, \u001b[39m0\u001b[90m, \u001b[39m0\u001b[90m, \u001b[39m0\u001b[90m, \u001b[39m…\n",
      "$ DR_PAINT           \u001b[3m\u001b[90m<dbl>\u001b[39m\u001b[23m 5\u001b[90m, \u001b[39m6\u001b[90m, \u001b[39m6\u001b[90m, \u001b[39m6\u001b[90m, \u001b[39m5\u001b[90m, \u001b[39m6\u001b[90m, \u001b[39m4\u001b[90m, \u001b[39m7\u001b[90m, \u001b[39m9\u001b[90m, \u001b[39m8\u001b[90m, \u001b[39m4\u001b[90m, \u001b[39m7\u001b[90m, \u001b[39m4\u001b[90m, \u001b[39m6\u001b[90m, \u001b[39m8\u001b[90m, \u001b[39m9\u001b[90m, \u001b[39m4\u001b[90m, \u001b[39m…\n",
      "$ `TM DR_PAINT`      \u001b[3m\u001b[90m<dbl>\u001b[39m\u001b[23m 0\u001b[90m, \u001b[39m3\u001b[90m, \u001b[39m1\u001b[90m, \u001b[39m0\u001b[90m, \u001b[39m0\u001b[90m, \u001b[39m1\u001b[90m, \u001b[39m0\u001b[90m, \u001b[39m0\u001b[90m, \u001b[39m1\u001b[90m, \u001b[39m0\u001b[90m, \u001b[39m1\u001b[90m, \u001b[39m0\u001b[90m, \u001b[39m0\u001b[90m, \u001b[39m0\u001b[90m, \u001b[39m0\u001b[90m, \u001b[39m1\u001b[90m, \u001b[39m0\u001b[90m, \u001b[39m…\n",
      "$ DR_NP2             \u001b[3m\u001b[90m<dbl>\u001b[39m\u001b[23m 1\u001b[90m, \u001b[39m1\u001b[90m, \u001b[39m2\u001b[90m, \u001b[39m2\u001b[90m, \u001b[39m0\u001b[90m, \u001b[39m3\u001b[90m, \u001b[39m2\u001b[90m, \u001b[39m5\u001b[90m, \u001b[39m3\u001b[90m, \u001b[39m1\u001b[90m, \u001b[39m6\u001b[90m, \u001b[39m3\u001b[90m, \u001b[39m3\u001b[90m, \u001b[39m1\u001b[90m, \u001b[39m4\u001b[90m, \u001b[39m7\u001b[90m, \u001b[39m3\u001b[90m, \u001b[39m…\n",
      "$ `TM DR_NP2`        \u001b[3m\u001b[90m<dbl>\u001b[39m\u001b[23m 1\u001b[90m, \u001b[39m0\u001b[90m, \u001b[39m0\u001b[90m, \u001b[39m0\u001b[90m, \u001b[39m0\u001b[90m, \u001b[39m0\u001b[90m, \u001b[39m0\u001b[90m, \u001b[39m0\u001b[90m, \u001b[39m0\u001b[90m, \u001b[39m1\u001b[90m, \u001b[39m0\u001b[90m, \u001b[39m1\u001b[90m, \u001b[39m0\u001b[90m, \u001b[39m0\u001b[90m, \u001b[39m0\u001b[90m, \u001b[39m0\u001b[90m, \u001b[39m1\u001b[90m, \u001b[39m…\n",
      "$ DR_3C              \u001b[3m\u001b[90m<dbl>\u001b[39m\u001b[23m 2\u001b[90m, \u001b[39m0\u001b[90m, \u001b[39m1\u001b[90m, \u001b[39m3\u001b[90m, \u001b[39m0\u001b[90m, \u001b[39m3\u001b[90m, \u001b[39m2\u001b[90m, \u001b[39m2\u001b[90m, \u001b[39m0\u001b[90m, \u001b[39m0\u001b[90m, \u001b[39m3\u001b[90m, \u001b[39m1\u001b[90m, \u001b[39m0\u001b[90m, \u001b[39m1\u001b[90m, \u001b[39m0\u001b[90m, \u001b[39m0\u001b[90m, \u001b[39m2\u001b[90m, \u001b[39m…\n",
      "$ `TM DR_3C`         \u001b[3m\u001b[90m<dbl>\u001b[39m\u001b[23m 0\u001b[90m, \u001b[39m0\u001b[90m, \u001b[39m0\u001b[90m, \u001b[39m0\u001b[90m, \u001b[39m0\u001b[90m, \u001b[39m0\u001b[90m, \u001b[39m0\u001b[90m, \u001b[39m0\u001b[90m, \u001b[39m0\u001b[90m, \u001b[39m0\u001b[90m, \u001b[39m0\u001b[90m, \u001b[39m0\u001b[90m, \u001b[39m0\u001b[90m, \u001b[39m0\u001b[90m, \u001b[39m0\u001b[90m, \u001b[39m0\u001b[90m, \u001b[39m0\u001b[90m, \u001b[39m…\n",
      "$ DR_3L              \u001b[3m\u001b[90m<dbl>\u001b[39m\u001b[23m 10\u001b[90m, \u001b[39m10\u001b[90m, \u001b[39m8\u001b[90m, \u001b[39m4\u001b[90m, \u001b[39m8\u001b[90m, \u001b[39m11\u001b[90m, \u001b[39m4\u001b[90m, \u001b[39m9\u001b[90m, \u001b[39m5\u001b[90m, \u001b[39m9\u001b[90m, \u001b[39m12\u001b[90m, \u001b[39m3\u001b[90m, \u001b[39m9\u001b[90m, \u001b[39m11\u001b[90m, \u001b[39m18\u001b[90m, \u001b[39m…\n",
      "$ `TM DR_3L`         \u001b[3m\u001b[90m<dbl>\u001b[39m\u001b[23m 0\u001b[90m, \u001b[39m1\u001b[90m, \u001b[39m0\u001b[90m, \u001b[39m1\u001b[90m, \u001b[39m1\u001b[90m, \u001b[39m1\u001b[90m, \u001b[39m0\u001b[90m, \u001b[39m3\u001b[90m, \u001b[39m1\u001b[90m, \u001b[39m0\u001b[90m, \u001b[39m1\u001b[90m, \u001b[39m2\u001b[90m, \u001b[39m2\u001b[90m, \u001b[39m1\u001b[90m, \u001b[39m0\u001b[90m, \u001b[39m2\u001b[90m, \u001b[39m0\u001b[90m, \u001b[39m…\n",
      "$ DR_FT              \u001b[3m\u001b[90m<dbl>\u001b[39m\u001b[23m 4\u001b[90m, \u001b[39m1\u001b[90m, \u001b[39m1\u001b[90m, \u001b[39m2\u001b[90m, \u001b[39m2\u001b[90m, \u001b[39m0\u001b[90m, \u001b[39m0\u001b[90m, \u001b[39m1\u001b[90m, \u001b[39m1\u001b[90m, \u001b[39m1\u001b[90m, \u001b[39m2\u001b[90m, \u001b[39m2\u001b[90m, \u001b[39m0\u001b[90m, \u001b[39m1\u001b[90m, \u001b[39m0\u001b[90m, \u001b[39m0\u001b[90m, \u001b[39m0\u001b[90m, \u001b[39m…\n",
      "$ `TM DR_FT`         \u001b[3m\u001b[90m<dbl>\u001b[39m\u001b[23m 0\u001b[90m, \u001b[39m0\u001b[90m, \u001b[39m0\u001b[90m, \u001b[39m0\u001b[90m, \u001b[39m0\u001b[90m, \u001b[39m0\u001b[90m, \u001b[39m0\u001b[90m, \u001b[39m0\u001b[90m, \u001b[39m0\u001b[90m, \u001b[39m0\u001b[90m, \u001b[39m0\u001b[90m, \u001b[39m0\u001b[90m, \u001b[39m1\u001b[90m, \u001b[39m0\u001b[90m, \u001b[39m0\u001b[90m, \u001b[39m0\u001b[90m, \u001b[39m0\u001b[90m, \u001b[39m…\n",
      "$ FTM_T              \u001b[3m\u001b[90m<dbl>\u001b[39m\u001b[23m 0\u001b[90m, \u001b[39m0\u001b[90m, \u001b[39m0\u001b[90m, \u001b[39m0\u001b[90m, \u001b[39m0\u001b[90m, \u001b[39m0\u001b[90m, \u001b[39m0\u001b[90m, \u001b[39m0\u001b[90m, \u001b[39m1\u001b[90m, \u001b[39m1\u001b[90m, \u001b[39m1\u001b[90m, \u001b[39m0\u001b[90m, \u001b[39m0\u001b[90m, \u001b[39m0\u001b[90m, \u001b[39m1\u001b[90m, \u001b[39m0\u001b[90m, \u001b[39m1\u001b[90m, \u001b[39m…\n",
      "$ FTA_T              \u001b[3m\u001b[90m<dbl>\u001b[39m\u001b[23m 0\u001b[90m, \u001b[39m0\u001b[90m, \u001b[39m0\u001b[90m, \u001b[39m0\u001b[90m, \u001b[39m0\u001b[90m, \u001b[39m0\u001b[90m, \u001b[39m0\u001b[90m, \u001b[39m0\u001b[90m, \u001b[39m1\u001b[90m, \u001b[39m1\u001b[90m, \u001b[39m1\u001b[90m, \u001b[39m0\u001b[90m, \u001b[39m0\u001b[90m, \u001b[39m0\u001b[90m, \u001b[39m1\u001b[90m, \u001b[39m0\u001b[90m, \u001b[39m1\u001b[90m, \u001b[39m…\n",
      "$ FTM_1              \u001b[3m\u001b[90m<dbl>\u001b[39m\u001b[23m 1\u001b[90m, \u001b[39m1\u001b[90m, \u001b[39m2\u001b[90m, \u001b[39m2\u001b[90m, \u001b[39m1\u001b[90m, \u001b[39m1\u001b[90m, \u001b[39m2\u001b[90m, \u001b[39m0\u001b[90m, \u001b[39m2\u001b[90m, \u001b[39m4\u001b[90m, \u001b[39m0\u001b[90m, \u001b[39m1\u001b[90m, \u001b[39m2\u001b[90m, \u001b[39m1\u001b[90m, \u001b[39m1\u001b[90m, \u001b[39m1\u001b[90m, \u001b[39m1\u001b[90m, \u001b[39m…\n",
      "$ FTA_1              \u001b[3m\u001b[90m<dbl>\u001b[39m\u001b[23m 1\u001b[90m, \u001b[39m1\u001b[90m, \u001b[39m2\u001b[90m, \u001b[39m2\u001b[90m, \u001b[39m1\u001b[90m, \u001b[39m2\u001b[90m, \u001b[39m2\u001b[90m, \u001b[39m0\u001b[90m, \u001b[39m2\u001b[90m, \u001b[39m4\u001b[90m, \u001b[39m0\u001b[90m, \u001b[39m1\u001b[90m, \u001b[39m2\u001b[90m, \u001b[39m1\u001b[90m, \u001b[39m1\u001b[90m, \u001b[39m1\u001b[90m, \u001b[39m1\u001b[90m, \u001b[39m…\n",
      "$ FTM_2              \u001b[3m\u001b[90m<dbl>\u001b[39m\u001b[23m 10\u001b[90m, \u001b[39m5\u001b[90m, \u001b[39m13\u001b[90m, \u001b[39m12\u001b[90m, \u001b[39m1\u001b[90m, \u001b[39m8\u001b[90m, \u001b[39m10\u001b[90m, \u001b[39m7\u001b[90m, \u001b[39m6\u001b[90m, \u001b[39m6\u001b[90m, \u001b[39m9\u001b[90m, \u001b[39m6\u001b[90m, \u001b[39m3\u001b[90m, \u001b[39m15\u001b[90m, \u001b[39m11\u001b[90m, \u001b[39m…\n",
      "$ FTA_2              \u001b[3m\u001b[90m<dbl>\u001b[39m\u001b[23m 12\u001b[90m, \u001b[39m10\u001b[90m, \u001b[39m18\u001b[90m, \u001b[39m16\u001b[90m, \u001b[39m2\u001b[90m, \u001b[39m10\u001b[90m, \u001b[39m14\u001b[90m, \u001b[39m10\u001b[90m, \u001b[39m8\u001b[90m, \u001b[39m10\u001b[90m, \u001b[39m14\u001b[90m, \u001b[39m10\u001b[90m, \u001b[39m4\u001b[90m, \u001b[39m18…\n",
      "$ `FT 0/2`           \u001b[3m\u001b[90m<dbl>\u001b[39m\u001b[23m 0\u001b[90m, \u001b[39m1\u001b[90m, \u001b[39m0\u001b[90m, \u001b[39m1\u001b[90m, \u001b[39m0\u001b[90m, \u001b[39m0\u001b[90m, \u001b[39m1\u001b[90m, \u001b[39m1\u001b[90m, \u001b[39m0\u001b[90m, \u001b[39m1\u001b[90m, \u001b[39m0\u001b[90m, \u001b[39m0\u001b[90m, \u001b[39m0\u001b[90m, \u001b[39m0\u001b[90m, \u001b[39m0\u001b[90m, \u001b[39m0\u001b[90m, \u001b[39m0\u001b[90m, \u001b[39m…\n",
      "$ FTM_3              \u001b[3m\u001b[90m<dbl>\u001b[39m\u001b[23m 0\u001b[90m, \u001b[39m6\u001b[90m, \u001b[39m0\u001b[90m, \u001b[39m0\u001b[90m, \u001b[39m1\u001b[90m, \u001b[39m0\u001b[90m, \u001b[39m3\u001b[90m, \u001b[39m0\u001b[90m, \u001b[39m0\u001b[90m, \u001b[39m2\u001b[90m, \u001b[39m3\u001b[90m, \u001b[39m0\u001b[90m, \u001b[39m0\u001b[90m, \u001b[39m0\u001b[90m, \u001b[39m0\u001b[90m, \u001b[39m2\u001b[90m, \u001b[39m1\u001b[90m, \u001b[39m…\n",
      "$ FTA_3              \u001b[3m\u001b[90m<dbl>\u001b[39m\u001b[23m 0\u001b[90m, \u001b[39m9\u001b[90m, \u001b[39m0\u001b[90m, \u001b[39m0\u001b[90m, \u001b[39m3\u001b[90m, \u001b[39m0\u001b[90m, \u001b[39m3\u001b[90m, \u001b[39m0\u001b[90m, \u001b[39m0\u001b[90m, \u001b[39m3\u001b[90m, \u001b[39m3\u001b[90m, \u001b[39m0\u001b[90m, \u001b[39m0\u001b[90m, \u001b[39m0\u001b[90m, \u001b[39m0\u001b[90m, \u001b[39m3\u001b[90m, \u001b[39m3\u001b[90m, \u001b[39m…\n",
      "$ `FT 0/3`           \u001b[3m\u001b[90m<dbl>\u001b[39m\u001b[23m 0\u001b[90m, \u001b[39m0\u001b[90m, \u001b[39m0\u001b[90m, \u001b[39m0\u001b[90m, \u001b[39m0\u001b[90m, \u001b[39m0\u001b[90m, \u001b[39m0\u001b[90m, \u001b[39m0\u001b[90m, \u001b[39m0\u001b[90m, \u001b[39m0\u001b[90m, \u001b[39m0\u001b[90m, \u001b[39m0\u001b[90m, \u001b[39m0\u001b[90m, \u001b[39m0\u001b[90m, \u001b[39m0\u001b[90m, \u001b[39m0\u001b[90m, \u001b[39m0\u001b[90m, \u001b[39m…\n",
      "$ RIM_M              \u001b[3m\u001b[90m<dbl>\u001b[39m\u001b[23m 4\u001b[90m, \u001b[39m7\u001b[90m, \u001b[39m9\u001b[90m, \u001b[39m6\u001b[90m, \u001b[39m4\u001b[90m, \u001b[39m10\u001b[90m, \u001b[39m1\u001b[90m, \u001b[39m9\u001b[90m, \u001b[39m8\u001b[90m, \u001b[39m5\u001b[90m, \u001b[39m12\u001b[90m, \u001b[39m10\u001b[90m, \u001b[39m12\u001b[90m, \u001b[39m10\u001b[90m, \u001b[39m11\u001b[90m, \u001b[39m…\n",
      "$ RIM_A              \u001b[3m\u001b[90m<dbl>\u001b[39m\u001b[23m 6\u001b[90m, \u001b[39m8\u001b[90m, \u001b[39m10\u001b[90m, \u001b[39m7\u001b[90m, \u001b[39m5\u001b[90m, \u001b[39m11\u001b[90m, \u001b[39m3\u001b[90m, \u001b[39m11\u001b[90m, \u001b[39m10\u001b[90m, \u001b[39m10\u001b[90m, \u001b[39m16\u001b[90m, \u001b[39m14\u001b[90m, \u001b[39m19\u001b[90m, \u001b[39m14\u001b[90m, \u001b[39m…\n",
      "$ PAINT_M            \u001b[3m\u001b[90m<dbl>\u001b[39m\u001b[23m 10\u001b[90m, \u001b[39m6\u001b[90m, \u001b[39m15\u001b[90m, \u001b[39m18\u001b[90m, \u001b[39m16\u001b[90m, \u001b[39m20\u001b[90m, \u001b[39m12\u001b[90m, \u001b[39m9\u001b[90m, \u001b[39m13\u001b[90m, \u001b[39m11\u001b[90m, \u001b[39m4\u001b[90m, \u001b[39m3\u001b[90m, \u001b[39m5\u001b[90m, \u001b[39m3\u001b[90m, \u001b[39m1…\n",
      "$ PAINT_A            \u001b[3m\u001b[90m<dbl>\u001b[39m\u001b[23m 26\u001b[90m, \u001b[39m15\u001b[90m, \u001b[39m28\u001b[90m, \u001b[39m27\u001b[90m, \u001b[39m29\u001b[90m, \u001b[39m28\u001b[90m, \u001b[39m19\u001b[90m, \u001b[39m17\u001b[90m, \u001b[39m22\u001b[90m, \u001b[39m24\u001b[90m, \u001b[39m14\u001b[90m, \u001b[39m9\u001b[90m, \u001b[39m12\u001b[90m, \u001b[39m…\n",
      "$ MID_M              \u001b[3m\u001b[90m<dbl>\u001b[39m\u001b[23m 2\u001b[90m, \u001b[39m4\u001b[90m, \u001b[39m3\u001b[90m, \u001b[39m2\u001b[90m, \u001b[39m2\u001b[90m, \u001b[39m2\u001b[90m, \u001b[39m3\u001b[90m, \u001b[39m5\u001b[90m, \u001b[39m2\u001b[90m, \u001b[39m2\u001b[90m, \u001b[39m2\u001b[90m, \u001b[39m5\u001b[90m, \u001b[39m2\u001b[90m, \u001b[39m3\u001b[90m, \u001b[39m2\u001b[90m, \u001b[39m1\u001b[90m, \u001b[39m5\u001b[90m, \u001b[39m…\n",
      "$ MID_A              \u001b[3m\u001b[90m<dbl>\u001b[39m\u001b[23m 5\u001b[90m, \u001b[39m6\u001b[90m, \u001b[39m5\u001b[90m, \u001b[39m5\u001b[90m, \u001b[39m6\u001b[90m, \u001b[39m3\u001b[90m, \u001b[39m8\u001b[90m, \u001b[39m8\u001b[90m, \u001b[39m7\u001b[90m, \u001b[39m5\u001b[90m, \u001b[39m6\u001b[90m, \u001b[39m11\u001b[90m, \u001b[39m4\u001b[90m, \u001b[39m9\u001b[90m, \u001b[39m10\u001b[90m, \u001b[39m5\u001b[90m, \u001b[39m1…\n",
      "$ `3C_M`             \u001b[3m\u001b[90m<dbl>\u001b[39m\u001b[23m 1\u001b[90m, \u001b[39m2\u001b[90m, \u001b[39m0\u001b[90m, \u001b[39m0\u001b[90m, \u001b[39m3\u001b[90m, \u001b[39m2\u001b[90m, \u001b[39m0\u001b[90m, \u001b[39m0\u001b[90m, \u001b[39m0\u001b[90m, \u001b[39m0\u001b[90m, \u001b[39m4\u001b[90m, \u001b[39m2\u001b[90m, \u001b[39m1\u001b[90m, \u001b[39m1\u001b[90m, \u001b[39m0\u001b[90m, \u001b[39m1\u001b[90m, \u001b[39m1\u001b[90m, \u001b[39m…\n",
      "$ `3C_A`             \u001b[3m\u001b[90m<dbl>\u001b[39m\u001b[23m 1\u001b[90m, \u001b[39m4\u001b[90m, \u001b[39m4\u001b[90m, \u001b[39m2\u001b[90m, \u001b[39m6\u001b[90m, \u001b[39m2\u001b[90m, \u001b[39m2\u001b[90m, \u001b[39m5\u001b[90m, \u001b[39m0\u001b[90m, \u001b[39m0\u001b[90m, \u001b[39m6\u001b[90m, \u001b[39m5\u001b[90m, \u001b[39m4\u001b[90m, \u001b[39m1\u001b[90m, \u001b[39m0\u001b[90m, \u001b[39m1\u001b[90m, \u001b[39m2\u001b[90m, \u001b[39m…\n",
      "$ `3L_M`             \u001b[3m\u001b[90m<dbl>\u001b[39m\u001b[23m 16\u001b[90m, \u001b[39m7\u001b[90m, \u001b[39m9\u001b[90m, \u001b[39m5\u001b[90m, \u001b[39m6\u001b[90m, \u001b[39m4\u001b[90m, \u001b[39m7\u001b[90m, \u001b[39m9\u001b[90m, \u001b[39m8\u001b[90m, \u001b[39m11\u001b[90m, \u001b[39m7\u001b[90m, \u001b[39m12\u001b[90m, \u001b[39m14\u001b[90m, \u001b[39m9\u001b[90m, \u001b[39m5\u001b[90m, \u001b[39m14…\n",
      "$ `3L_A`             \u001b[3m\u001b[90m<dbl>\u001b[39m\u001b[23m 33\u001b[90m, \u001b[39m21\u001b[90m, \u001b[39m22\u001b[90m, \u001b[39m15\u001b[90m, \u001b[39m21\u001b[90m, \u001b[39m18\u001b[90m, \u001b[39m22\u001b[90m, \u001b[39m26\u001b[90m, \u001b[39m24\u001b[90m, \u001b[39m19\u001b[90m, \u001b[39m20\u001b[90m, \u001b[39m26\u001b[90m, \u001b[39m28\u001b[90m,\u001b[39m…\n",
      "$ `3H_M`             \u001b[3m\u001b[90m<dbl>\u001b[39m\u001b[23m 0\u001b[90m, \u001b[39m0\u001b[90m, \u001b[39m0\u001b[90m, \u001b[39m0\u001b[90m, \u001b[39m0\u001b[90m, \u001b[39m0\u001b[90m, \u001b[39m0\u001b[90m, \u001b[39m0\u001b[90m, \u001b[39m0\u001b[90m, \u001b[39m0\u001b[90m, \u001b[39m0\u001b[90m, \u001b[39m0\u001b[90m, \u001b[39m0\u001b[90m, \u001b[39m0\u001b[90m, \u001b[39m0\u001b[90m, \u001b[39m0\u001b[90m, \u001b[39m0\u001b[90m, \u001b[39m…\n",
      "$ `3H_A`             \u001b[3m\u001b[90m<dbl>\u001b[39m\u001b[23m 0\u001b[90m, \u001b[39m0\u001b[90m, \u001b[39m0\u001b[90m, \u001b[39m0\u001b[90m, \u001b[39m0\u001b[90m, \u001b[39m0\u001b[90m, \u001b[39m0\u001b[90m, \u001b[39m0\u001b[90m, \u001b[39m1\u001b[90m, \u001b[39m0\u001b[90m, \u001b[39m0\u001b[90m, \u001b[39m0\u001b[90m, \u001b[39m0\u001b[90m, \u001b[39m0\u001b[90m, \u001b[39m0\u001b[90m, \u001b[39m0\u001b[90m, \u001b[39m0\u001b[90m, \u001b[39m…\n"
     ]
    }
   ],
   "source": [
    "teams <- shortnames(teams)\n",
    "glimpse(teams)"
   ]
  },
  {
   "cell_type": "code",
   "execution_count": 90,
   "metadata": {
    "vscode": {
     "languageId": "r"
    }
   },
   "outputs": [
    {
     "name": "stdout",
     "output_type": "stream",
     "text": [
      "Rows: 7,883\n",
      "Columns: 85\n",
      "$ `TM TAG`       \u001b[3m\u001b[90m<chr>\u001b[39m\u001b[23m \"CZB\"\u001b[90m, \u001b[39m\"CZB\"\u001b[90m, \u001b[39m\"CZB\"\u001b[90m, \u001b[39m\"CZB\"\u001b[90m, \u001b[39m\"CZB\"\u001b[90m, \u001b[39m\"CZB\"\u001b[90m, \u001b[39m\"CZB\"\u001b[90m, \u001b[39m\"CZB\"\u001b[90m,\u001b[39m…\n",
      "$ NAME           \u001b[3m\u001b[90m<chr>\u001b[39m\u001b[23m \"Adam Hanga\"\u001b[90m, \u001b[39m\"Branko Lazic\"\u001b[90m, \u001b[39m\"Dalibor Ilic\"\u001b[90m, \u001b[39m\"Luka Mit…\n",
      "$ ROLE           \u001b[3m\u001b[90m<chr>\u001b[39m\u001b[23m \"F\"\u001b[90m, \u001b[39m\"SG\"\u001b[90m, \u001b[39m\"F\"\u001b[90m, \u001b[39m\"PF\"\u001b[90m, \u001b[39m\"PF\"\u001b[90m, \u001b[39m\"C\"\u001b[90m, \u001b[39m\"PG\"\u001b[90m, \u001b[39m\"SG\"\u001b[90m, \u001b[39m\"C\"\u001b[90m, \u001b[39m\"F/PF…\n",
      "$ NAT            \u001b[3m\u001b[90m<chr>\u001b[39m\u001b[23m \"HUN\"\u001b[90m, \u001b[39m\"SRB\"\u001b[90m, \u001b[39m\"BIH\"\u001b[90m, \u001b[39m\"SRB\"\u001b[90m, \u001b[39m\"SRB\"\u001b[90m, \u001b[39m\"USA\"\u001b[90m, \u001b[39m\"SRB\"\u001b[90m, \u001b[39m\"SRB\"\u001b[90m,\u001b[39m…\n",
      "$ HEIGHT         \u001b[3m\u001b[90m<chr>\u001b[39m\u001b[23m \"201\"\u001b[90m, \u001b[39m\"195\"\u001b[90m, \u001b[39m\"206\"\u001b[90m, \u001b[39m\"206\"\u001b[90m, \u001b[39m\"203\"\u001b[90m, \u001b[39m\"213\"\u001b[90m, \u001b[39m\"195\"\u001b[90m, \u001b[39m\"191\"\u001b[90m,\u001b[39m…\n",
      "$ AGE            \u001b[3m\u001b[90m<dbl>\u001b[39m\u001b[23m 35\u001b[90m, \u001b[39m35\u001b[90m, \u001b[39m24\u001b[90m, \u001b[39m31\u001b[90m, \u001b[39m38\u001b[90m, \u001b[39m30\u001b[90m, \u001b[39m37\u001b[90m, \u001b[39m33\u001b[90m, \u001b[39m34\u001b[90m, \u001b[39m32\u001b[90m, \u001b[39m33\u001b[90m, \u001b[39m28\u001b[90m, \u001b[39m30\u001b[90m, \u001b[39m35\u001b[90m,\u001b[39m…\n",
      "$ ROUND          \u001b[3m\u001b[90m<dbl>\u001b[39m\u001b[23m 1\u001b[90m, \u001b[39m1\u001b[90m, \u001b[39m1\u001b[90m, \u001b[39m1\u001b[90m, \u001b[39m1\u001b[90m, \u001b[39m1\u001b[90m, \u001b[39m1\u001b[90m, \u001b[39m1\u001b[90m, \u001b[39m1\u001b[90m, \u001b[39m1\u001b[90m, \u001b[39m1\u001b[90m, \u001b[39m1\u001b[90m, \u001b[39m1\u001b[90m, \u001b[39m1\u001b[90m, \u001b[39m1\u001b[90m, \u001b[39m1\u001b[90m, \u001b[39m1\u001b[90m, \u001b[39m1\u001b[90m, \u001b[39m1…\n",
      "$ `TM NAME`      \u001b[3m\u001b[90m<chr>\u001b[39m\u001b[23m \"Crvena Zvezda\"\u001b[90m, \u001b[39m\"Crvena Zvezda\"\u001b[90m, \u001b[39m\"Crvena Zvezda\"\u001b[90m, \u001b[39m\"Crv…\n",
      "$ `OPP NAME`     \u001b[3m\u001b[90m<chr>\u001b[39m\u001b[23m \"ASVEL\"\u001b[90m, \u001b[39m\"ASVEL\"\u001b[90m, \u001b[39m\"ASVEL\"\u001b[90m, \u001b[39m\"ASVEL\"\u001b[90m, \u001b[39m\"ASVEL\"\u001b[90m, \u001b[39m\"ASVEL\"\u001b[90m, \u001b[39m\"…\n",
      "$ DATE           \u001b[3m\u001b[90m<chr>\u001b[39m\u001b[23m \"05.10.2023\"\u001b[90m, \u001b[39m\"05.10.2023\"\u001b[90m, \u001b[39m\"05.10.2023\"\u001b[90m, \u001b[39m\"05.10.2023\"\u001b[90m,\u001b[39m…\n",
      "$ `H/A`          \u001b[3m\u001b[90m<chr>\u001b[39m\u001b[23m \"H\"\u001b[90m, \u001b[39m\"H\"\u001b[90m, \u001b[39m\"H\"\u001b[90m, \u001b[39m\"H\"\u001b[90m, \u001b[39m\"H\"\u001b[90m, \u001b[39m\"H\"\u001b[90m, \u001b[39m\"H\"\u001b[90m, \u001b[39m\"H\"\u001b[90m, \u001b[39m\"H\"\u001b[90m, \u001b[39m\"H\"\u001b[90m, \u001b[39m\"H\"\u001b[90m, \u001b[39m…\n",
      "$ `W/L`          \u001b[3m\u001b[90m<chr>\u001b[39m\u001b[23m \"W\"\u001b[90m, \u001b[39m\"W\"\u001b[90m, \u001b[39m\"W\"\u001b[90m, \u001b[39m\"W\"\u001b[90m, \u001b[39m\"W\"\u001b[90m, \u001b[39m\"W\"\u001b[90m, \u001b[39m\"W\"\u001b[90m, \u001b[39m\"W\"\u001b[90m, \u001b[39m\"W\"\u001b[90m, \u001b[39m\"W\"\u001b[90m, \u001b[39m\"W\"\u001b[90m, \u001b[39m…\n",
      "$ MIN            \u001b[3m\u001b[90m<dbl>\u001b[39m\u001b[23m 22\u001b[90m, \u001b[39m13\u001b[90m, \u001b[39m15\u001b[90m, \u001b[39m22\u001b[90m, \u001b[39m18\u001b[90m, \u001b[39m13\u001b[90m, \u001b[39m15\u001b[90m, \u001b[39m17\u001b[90m, \u001b[39m12\u001b[90m, \u001b[39m28\u001b[90m, \u001b[39m21\u001b[90m, \u001b[39m5\u001b[90m, \u001b[39m0\u001b[90m, \u001b[39m0\u001b[90m, \u001b[39m16…\n",
      "$ PTS            \u001b[3m\u001b[90m<dbl>\u001b[39m\u001b[23m 7\u001b[90m, \u001b[39m6\u001b[90m, \u001b[39m5\u001b[90m, \u001b[39m9\u001b[90m, \u001b[39m14\u001b[90m, \u001b[39m0\u001b[90m, \u001b[39m3\u001b[90m, \u001b[39m12\u001b[90m, \u001b[39m0\u001b[90m, \u001b[39m17\u001b[90m, \u001b[39m21\u001b[90m, \u001b[39m0\u001b[90m, \u001b[39m0\u001b[90m, \u001b[39m0\u001b[90m, \u001b[39m2\u001b[90m, \u001b[39m18\u001b[90m, \u001b[39m7\u001b[90m,\u001b[39m…\n",
      "$ `2PTM`         \u001b[3m\u001b[90m<dbl>\u001b[39m\u001b[23m 1\u001b[90m, \u001b[39m0\u001b[90m, \u001b[39m1\u001b[90m, \u001b[39m3\u001b[90m, \u001b[39m4\u001b[90m, \u001b[39m0\u001b[90m, \u001b[39m0\u001b[90m, \u001b[39m3\u001b[90m, \u001b[39m0\u001b[90m, \u001b[39m2\u001b[90m, \u001b[39m2\u001b[90m, \u001b[39m0\u001b[90m, \u001b[39m0\u001b[90m, \u001b[39m0\u001b[90m, \u001b[39m1\u001b[90m, \u001b[39m5\u001b[90m, \u001b[39m3\u001b[90m, \u001b[39m0\u001b[90m, \u001b[39m3…\n",
      "$ `2PTA`         \u001b[3m\u001b[90m<dbl>\u001b[39m\u001b[23m 6\u001b[90m, \u001b[39m0\u001b[90m, \u001b[39m5\u001b[90m, \u001b[39m3\u001b[90m, \u001b[39m4\u001b[90m, \u001b[39m1\u001b[90m, \u001b[39m3\u001b[90m, \u001b[39m6\u001b[90m, \u001b[39m2\u001b[90m, \u001b[39m4\u001b[90m, \u001b[39m3\u001b[90m, \u001b[39m0\u001b[90m, \u001b[39m0\u001b[90m, \u001b[39m0\u001b[90m, \u001b[39m1\u001b[90m, \u001b[39m7\u001b[90m, \u001b[39m6\u001b[90m, \u001b[39m1\u001b[90m, \u001b[39m3…\n",
      "$ `2PT%`         \u001b[3m\u001b[90m<chr>\u001b[39m\u001b[23m \"0,166666667\"\u001b[90m, \u001b[39m\"-\"\u001b[90m, \u001b[39m\"0,2\"\u001b[90m, \u001b[39m\"1\"\u001b[90m, \u001b[39m\"1\"\u001b[90m, \u001b[39m\"0\"\u001b[90m, \u001b[39m\"0\"\u001b[90m, \u001b[39m\"0,5\"\u001b[90m, \u001b[39m\"…\n",
      "$ `3PTM`         \u001b[3m\u001b[90m<dbl>\u001b[39m\u001b[23m 1\u001b[90m, \u001b[39m2\u001b[90m, \u001b[39m1\u001b[90m, \u001b[39m0\u001b[90m, \u001b[39m2\u001b[90m, \u001b[39m0\u001b[90m, \u001b[39m1\u001b[90m, \u001b[39m1\u001b[90m, \u001b[39m0\u001b[90m, \u001b[39m4\u001b[90m, \u001b[39m5\u001b[90m, \u001b[39m0\u001b[90m, \u001b[39m0\u001b[90m, \u001b[39m0\u001b[90m, \u001b[39m0\u001b[90m, \u001b[39m2\u001b[90m, \u001b[39m0\u001b[90m, \u001b[39m0\u001b[90m, \u001b[39m2…\n",
      "$ `3PTA`         \u001b[3m\u001b[90m<dbl>\u001b[39m\u001b[23m 5\u001b[90m, \u001b[39m2\u001b[90m, \u001b[39m2\u001b[90m, \u001b[39m0\u001b[90m, \u001b[39m2\u001b[90m, \u001b[39m3\u001b[90m, \u001b[39m3\u001b[90m, \u001b[39m2\u001b[90m, \u001b[39m0\u001b[90m, \u001b[39m7\u001b[90m, \u001b[39m8\u001b[90m, \u001b[39m0\u001b[90m, \u001b[39m0\u001b[90m, \u001b[39m0\u001b[90m, \u001b[39m3\u001b[90m, \u001b[39m5\u001b[90m, \u001b[39m0\u001b[90m, \u001b[39m1\u001b[90m, \u001b[39m5…\n",
      "$ `3PT%`         \u001b[3m\u001b[90m<chr>\u001b[39m\u001b[23m \"0,2\"\u001b[90m, \u001b[39m\"1\"\u001b[90m, \u001b[39m\"0,5\"\u001b[90m, \u001b[39m\"-\"\u001b[90m, \u001b[39m\"1\"\u001b[90m, \u001b[39m\"0\"\u001b[90m, \u001b[39m\"0,333333333\"\u001b[90m, \u001b[39m\"0,5\"\u001b[90m,\u001b[39m…\n",
      "$ FGM            \u001b[3m\u001b[90m<dbl>\u001b[39m\u001b[23m 2\u001b[90m, \u001b[39m2\u001b[90m, \u001b[39m2\u001b[90m, \u001b[39m3\u001b[90m, \u001b[39m6\u001b[90m, \u001b[39m0\u001b[90m, \u001b[39m1\u001b[90m, \u001b[39m4\u001b[90m, \u001b[39m0\u001b[90m, \u001b[39m6\u001b[90m, \u001b[39m7\u001b[90m, \u001b[39m0\u001b[90m, \u001b[39m0\u001b[90m, \u001b[39m0\u001b[90m, \u001b[39m1\u001b[90m, \u001b[39m7\u001b[90m, \u001b[39m3\u001b[90m, \u001b[39m0\u001b[90m, \u001b[39m5…\n",
      "$ FGA            \u001b[3m\u001b[90m<dbl>\u001b[39m\u001b[23m 11\u001b[90m, \u001b[39m2\u001b[90m, \u001b[39m7\u001b[90m, \u001b[39m3\u001b[90m, \u001b[39m6\u001b[90m, \u001b[39m4\u001b[90m, \u001b[39m6\u001b[90m, \u001b[39m8\u001b[90m, \u001b[39m2\u001b[90m, \u001b[39m11\u001b[90m, \u001b[39m11\u001b[90m, \u001b[39m0\u001b[90m, \u001b[39m0\u001b[90m, \u001b[39m0\u001b[90m, \u001b[39m4\u001b[90m, \u001b[39m12\u001b[90m, \u001b[39m6\u001b[90m, \u001b[39m…\n",
      "$ `FG%`          \u001b[3m\u001b[90m<chr>\u001b[39m\u001b[23m \"0,181818182\"\u001b[90m, \u001b[39m\"1\"\u001b[90m, \u001b[39m\"0,285714286\"\u001b[90m, \u001b[39m\"1\"\u001b[90m, \u001b[39m\"1\"\u001b[90m, \u001b[39m\"0\"\u001b[90m, \u001b[39m\"0,16…\n",
      "$ FTM            \u001b[3m\u001b[90m<dbl>\u001b[39m\u001b[23m 2\u001b[90m, \u001b[39m0\u001b[90m, \u001b[39m0\u001b[90m, \u001b[39m3\u001b[90m, \u001b[39m0\u001b[90m, \u001b[39m0\u001b[90m, \u001b[39m0\u001b[90m, \u001b[39m3\u001b[90m, \u001b[39m0\u001b[90m, \u001b[39m1\u001b[90m, \u001b[39m2\u001b[90m, \u001b[39m0\u001b[90m, \u001b[39m0\u001b[90m, \u001b[39m0\u001b[90m, \u001b[39m0\u001b[90m, \u001b[39m2\u001b[90m, \u001b[39m1\u001b[90m, \u001b[39m0\u001b[90m, \u001b[39m1…\n",
      "$ FTA            \u001b[3m\u001b[90m<dbl>\u001b[39m\u001b[23m 2\u001b[90m, \u001b[39m0\u001b[90m, \u001b[39m0\u001b[90m, \u001b[39m4\u001b[90m, \u001b[39m0\u001b[90m, \u001b[39m0\u001b[90m, \u001b[39m0\u001b[90m, \u001b[39m3\u001b[90m, \u001b[39m0\u001b[90m, \u001b[39m2\u001b[90m, \u001b[39m2\u001b[90m, \u001b[39m0\u001b[90m, \u001b[39m0\u001b[90m, \u001b[39m0\u001b[90m, \u001b[39m0\u001b[90m, \u001b[39m5\u001b[90m, \u001b[39m2\u001b[90m, \u001b[39m0\u001b[90m, \u001b[39m3…\n",
      "$ `FT%`          \u001b[3m\u001b[90m<chr>\u001b[39m\u001b[23m \"1\"\u001b[90m, \u001b[39m\"-\"\u001b[90m, \u001b[39m\"-\"\u001b[90m, \u001b[39m\"0,75\"\u001b[90m, \u001b[39m\"-\"\u001b[90m, \u001b[39m\"-\"\u001b[90m, \u001b[39m\"-\"\u001b[90m, \u001b[39m\"1\"\u001b[90m, \u001b[39m\"-\"\u001b[90m, \u001b[39m\"0,5\"\u001b[90m, \u001b[39m…\n",
      "$ OR             \u001b[3m\u001b[90m<dbl>\u001b[39m\u001b[23m 1\u001b[90m, \u001b[39m1\u001b[90m, \u001b[39m5\u001b[90m, \u001b[39m1\u001b[90m, \u001b[39m1\u001b[90m, \u001b[39m2\u001b[90m, \u001b[39m0\u001b[90m, \u001b[39m0\u001b[90m, \u001b[39m3\u001b[90m, \u001b[39m1\u001b[90m, \u001b[39m0\u001b[90m, \u001b[39m0\u001b[90m, \u001b[39m0\u001b[90m, \u001b[39m0\u001b[90m, \u001b[39m0\u001b[90m, \u001b[39m4\u001b[90m, \u001b[39m1\u001b[90m, \u001b[39m1\u001b[90m, \u001b[39m1…\n",
      "$ DR             \u001b[3m\u001b[90m<dbl>\u001b[39m\u001b[23m 3\u001b[90m, \u001b[39m1\u001b[90m, \u001b[39m0\u001b[90m, \u001b[39m0\u001b[90m, \u001b[39m0\u001b[90m, \u001b[39m3\u001b[90m, \u001b[39m3\u001b[90m, \u001b[39m3\u001b[90m, \u001b[39m1\u001b[90m, \u001b[39m4\u001b[90m, \u001b[39m3\u001b[90m, \u001b[39m1\u001b[90m, \u001b[39m0\u001b[90m, \u001b[39m0\u001b[90m, \u001b[39m4\u001b[90m, \u001b[39m2\u001b[90m, \u001b[39m0\u001b[90m, \u001b[39m3\u001b[90m, \u001b[39m1…\n",
      "$ TR             \u001b[3m\u001b[90m<dbl>\u001b[39m\u001b[23m 4\u001b[90m, \u001b[39m2\u001b[90m, \u001b[39m5\u001b[90m, \u001b[39m1\u001b[90m, \u001b[39m1\u001b[90m, \u001b[39m5\u001b[90m, \u001b[39m3\u001b[90m, \u001b[39m3\u001b[90m, \u001b[39m4\u001b[90m, \u001b[39m5\u001b[90m, \u001b[39m3\u001b[90m, \u001b[39m1\u001b[90m, \u001b[39m0\u001b[90m, \u001b[39m0\u001b[90m, \u001b[39m4\u001b[90m, \u001b[39m6\u001b[90m, \u001b[39m1\u001b[90m, \u001b[39m4\u001b[90m, \u001b[39m2…\n",
      "$ AST            \u001b[3m\u001b[90m<dbl>\u001b[39m\u001b[23m 3\u001b[90m, \u001b[39m0\u001b[90m, \u001b[39m0\u001b[90m, \u001b[39m2\u001b[90m, \u001b[39m0\u001b[90m, \u001b[39m0\u001b[90m, \u001b[39m2\u001b[90m, \u001b[39m3\u001b[90m, \u001b[39m4\u001b[90m, \u001b[39m4\u001b[90m, \u001b[39m1\u001b[90m, \u001b[39m0\u001b[90m, \u001b[39m0\u001b[90m, \u001b[39m0\u001b[90m, \u001b[39m0\u001b[90m, \u001b[39m1\u001b[90m, \u001b[39m0\u001b[90m, \u001b[39m1\u001b[90m, \u001b[39m1…\n",
      "$ TO             \u001b[3m\u001b[90m<dbl>\u001b[39m\u001b[23m 1\u001b[90m, \u001b[39m0\u001b[90m, \u001b[39m0\u001b[90m, \u001b[39m0\u001b[90m, \u001b[39m1\u001b[90m, \u001b[39m2\u001b[90m, \u001b[39m1\u001b[90m, \u001b[39m2\u001b[90m, \u001b[39m0\u001b[90m, \u001b[39m0\u001b[90m, \u001b[39m2\u001b[90m, \u001b[39m0\u001b[90m, \u001b[39m0\u001b[90m, \u001b[39m0\u001b[90m, \u001b[39m1\u001b[90m, \u001b[39m1\u001b[90m, \u001b[39m2\u001b[90m, \u001b[39m1\u001b[90m, \u001b[39m0…\n",
      "$ ST             \u001b[3m\u001b[90m<dbl>\u001b[39m\u001b[23m 2\u001b[90m, \u001b[39m0\u001b[90m, \u001b[39m0\u001b[90m, \u001b[39m1\u001b[90m, \u001b[39m0\u001b[90m, \u001b[39m1\u001b[90m, \u001b[39m1\u001b[90m, \u001b[39m1\u001b[90m, \u001b[39m0\u001b[90m, \u001b[39m2\u001b[90m, \u001b[39m2\u001b[90m, \u001b[39m0\u001b[90m, \u001b[39m0\u001b[90m, \u001b[39m0\u001b[90m, \u001b[39m1\u001b[90m, \u001b[39m0\u001b[90m, \u001b[39m0\u001b[90m, \u001b[39m0\u001b[90m, \u001b[39m0…\n",
      "$ BLK            \u001b[3m\u001b[90m<dbl>\u001b[39m\u001b[23m 1\u001b[90m, \u001b[39m0\u001b[90m, \u001b[39m0\u001b[90m, \u001b[39m0\u001b[90m, \u001b[39m0\u001b[90m, \u001b[39m0\u001b[90m, \u001b[39m0\u001b[90m, \u001b[39m0\u001b[90m, \u001b[39m1\u001b[90m, \u001b[39m0\u001b[90m, \u001b[39m0\u001b[90m, \u001b[39m0\u001b[90m, \u001b[39m0\u001b[90m, \u001b[39m0\u001b[90m, \u001b[39m0\u001b[90m, \u001b[39m0\u001b[90m, \u001b[39m1\u001b[90m, \u001b[39m1\u001b[90m, \u001b[39m0…\n",
      "$ BLKA           \u001b[3m\u001b[90m<dbl>\u001b[39m\u001b[23m 0\u001b[90m, \u001b[39m0\u001b[90m, \u001b[39m2\u001b[90m, \u001b[39m0\u001b[90m, \u001b[39m0\u001b[90m, \u001b[39m0\u001b[90m, \u001b[39m0\u001b[90m, \u001b[39m0\u001b[90m, \u001b[39m1\u001b[90m, \u001b[39m0\u001b[90m, \u001b[39m0\u001b[90m, \u001b[39m0\u001b[90m, \u001b[39m0\u001b[90m, \u001b[39m0\u001b[90m, \u001b[39m0\u001b[90m, \u001b[39m0\u001b[90m, \u001b[39m1\u001b[90m, \u001b[39m0\u001b[90m, \u001b[39m0…\n",
      "$ PF             \u001b[3m\u001b[90m<dbl>\u001b[39m\u001b[23m 1\u001b[90m, \u001b[39m0\u001b[90m, \u001b[39m1\u001b[90m, \u001b[39m2\u001b[90m, \u001b[39m5\u001b[90m, \u001b[39m1\u001b[90m, \u001b[39m4\u001b[90m, \u001b[39m1\u001b[90m, \u001b[39m1\u001b[90m, \u001b[39m3\u001b[90m, \u001b[39m2\u001b[90m, \u001b[39m0\u001b[90m, \u001b[39m0\u001b[90m, \u001b[39m0\u001b[90m, \u001b[39m3\u001b[90m, \u001b[39m1\u001b[90m, \u001b[39m2\u001b[90m, \u001b[39m2\u001b[90m, \u001b[39m0…\n",
      "$ DF             \u001b[3m\u001b[90m<dbl>\u001b[39m\u001b[23m 3\u001b[90m, \u001b[39m0\u001b[90m, \u001b[39m1\u001b[90m, \u001b[39m4\u001b[90m, \u001b[39m1\u001b[90m, \u001b[39m0\u001b[90m, \u001b[39m0\u001b[90m, \u001b[39m3\u001b[90m, \u001b[39m0\u001b[90m, \u001b[39m1\u001b[90m, \u001b[39m1\u001b[90m, \u001b[39m0\u001b[90m, \u001b[39m0\u001b[90m, \u001b[39m0\u001b[90m, \u001b[39m1\u001b[90m, \u001b[39m4\u001b[90m, \u001b[39m2\u001b[90m, \u001b[39m0\u001b[90m, \u001b[39m1…\n",
      "$ VAL            \u001b[3m\u001b[90m<dbl>\u001b[39m\u001b[23m 9\u001b[90m, \u001b[39m8\u001b[90m, \u001b[39m3\u001b[90m, \u001b[39m14\u001b[90m, \u001b[39m10\u001b[90m, \u001b[39m-1\u001b[90m, \u001b[39m-1\u001b[90m, \u001b[39m15\u001b[90m, \u001b[39m5\u001b[90m, \u001b[39m20\u001b[90m, \u001b[39m20\u001b[90m, \u001b[39m1\u001b[90m, \u001b[39m0\u001b[90m, \u001b[39m0\u001b[90m, \u001b[39m1\u001b[90m, \u001b[39m19\u001b[90m,\u001b[39m…\n",
      "$ `+ / -`        \u001b[3m\u001b[90m<dbl>\u001b[39m\u001b[23m 5\u001b[90m, \u001b[39m7\u001b[90m, \u001b[39m0\u001b[90m, \u001b[39m20\u001b[90m, \u001b[39m5\u001b[90m, \u001b[39m5\u001b[90m, \u001b[39m7\u001b[90m, \u001b[39m4\u001b[90m, \u001b[39m12\u001b[90m, \u001b[39m21\u001b[90m, \u001b[39m19\u001b[90m, \u001b[39m0\u001b[90m, \u001b[39m0\u001b[90m, \u001b[39m0\u001b[90m, \u001b[39m-1\u001b[90m, \u001b[39m-16\u001b[90m, \u001b[39m…\n",
      "$ POSS           \u001b[3m\u001b[90m<dbl>\u001b[39m\u001b[23m 13\u001b[90m, \u001b[39m2\u001b[90m, \u001b[39m7\u001b[90m, \u001b[39m5\u001b[90m, \u001b[39m7\u001b[90m, \u001b[39m6\u001b[90m, \u001b[39m7\u001b[90m, \u001b[39m11\u001b[90m, \u001b[39m2\u001b[90m, \u001b[39m12\u001b[90m, \u001b[39m14\u001b[90m, \u001b[39m0\u001b[90m, \u001b[39m0\u001b[90m, \u001b[39m0\u001b[90m, \u001b[39m5\u001b[90m, \u001b[39m15\u001b[90m, \u001b[39m9\u001b[90m,\u001b[39m…\n",
      "$ ASTED_2FG      \u001b[3m\u001b[90m<dbl>\u001b[39m\u001b[23m 0\u001b[90m, \u001b[39m0\u001b[90m, \u001b[39m0\u001b[90m, \u001b[39m2\u001b[90m, \u001b[39m2\u001b[90m, \u001b[39m0\u001b[90m, \u001b[39m0\u001b[90m, \u001b[39m1\u001b[90m, \u001b[39m0\u001b[90m, \u001b[39m1\u001b[90m, \u001b[39m0\u001b[90m, \u001b[39m0\u001b[90m, \u001b[39m0\u001b[90m, \u001b[39m0\u001b[90m, \u001b[39m0\u001b[90m, \u001b[39m2\u001b[90m, \u001b[39m3\u001b[90m, \u001b[39m0\u001b[90m, \u001b[39m1…\n",
      "$ ASTED_3FG      \u001b[3m\u001b[90m<dbl>\u001b[39m\u001b[23m 0\u001b[90m, \u001b[39m1\u001b[90m, \u001b[39m1\u001b[90m, \u001b[39m0\u001b[90m, \u001b[39m2\u001b[90m, \u001b[39m0\u001b[90m, \u001b[39m1\u001b[90m, \u001b[39m0\u001b[90m, \u001b[39m0\u001b[90m, \u001b[39m4\u001b[90m, \u001b[39m1\u001b[90m, \u001b[39m0\u001b[90m, \u001b[39m0\u001b[90m, \u001b[39m0\u001b[90m, \u001b[39m0\u001b[90m, \u001b[39m2\u001b[90m, \u001b[39m0\u001b[90m, \u001b[39m0\u001b[90m, \u001b[39m1…\n",
      "$ ASTED_FT       \u001b[3m\u001b[90m<dbl>\u001b[39m\u001b[23m 0\u001b[90m, \u001b[39m0\u001b[90m, \u001b[39m0\u001b[90m, \u001b[39m0\u001b[90m, \u001b[39m0\u001b[90m, \u001b[39m0\u001b[90m, \u001b[39m0\u001b[90m, \u001b[39m1\u001b[90m, \u001b[39m0\u001b[90m, \u001b[39m1\u001b[90m, \u001b[39m0\u001b[90m, \u001b[39m0\u001b[90m, \u001b[39m0\u001b[90m, \u001b[39m0\u001b[90m, \u001b[39m0\u001b[90m, \u001b[39m1\u001b[90m, \u001b[39m1\u001b[90m, \u001b[39m0\u001b[90m, \u001b[39m1…\n",
      "$ `ASTED_FT PTS` \u001b[3m\u001b[90m<dbl>\u001b[39m\u001b[23m 0\u001b[90m, \u001b[39m0\u001b[90m, \u001b[39m0\u001b[90m, \u001b[39m0\u001b[90m, \u001b[39m0\u001b[90m, \u001b[39m0\u001b[90m, \u001b[39m0\u001b[90m, \u001b[39m2\u001b[90m, \u001b[39m0\u001b[90m, \u001b[39m0\u001b[90m, \u001b[39m0\u001b[90m, \u001b[39m0\u001b[90m, \u001b[39m0\u001b[90m, \u001b[39m0\u001b[90m, \u001b[39m0\u001b[90m, \u001b[39m2\u001b[90m, \u001b[39m0\u001b[90m, \u001b[39m0\u001b[90m, \u001b[39m1…\n",
      "$ `AST (2P)`     \u001b[3m\u001b[90m<dbl>\u001b[39m\u001b[23m 1\u001b[90m, \u001b[39m0\u001b[90m, \u001b[39m0\u001b[90m, \u001b[39m2\u001b[90m, \u001b[39m0\u001b[90m, \u001b[39m0\u001b[90m, \u001b[39m1\u001b[90m, \u001b[39m0\u001b[90m, \u001b[39m0\u001b[90m, \u001b[39m1\u001b[90m, \u001b[39m1\u001b[90m, \u001b[39m0\u001b[90m, \u001b[39m0\u001b[90m, \u001b[39m0\u001b[90m, \u001b[39m0\u001b[90m, \u001b[39m0\u001b[90m, \u001b[39m0\u001b[90m, \u001b[39m1\u001b[90m, \u001b[39m0…\n",
      "$ `AST (3P)`     \u001b[3m\u001b[90m<dbl>\u001b[39m\u001b[23m 1\u001b[90m, \u001b[39m0\u001b[90m, \u001b[39m0\u001b[90m, \u001b[39m0\u001b[90m, \u001b[39m0\u001b[90m, \u001b[39m0\u001b[90m, \u001b[39m1\u001b[90m, \u001b[39m2\u001b[90m, \u001b[39m3\u001b[90m, \u001b[39m3\u001b[90m, \u001b[39m0\u001b[90m, \u001b[39m0\u001b[90m, \u001b[39m0\u001b[90m, \u001b[39m0\u001b[90m, \u001b[39m0\u001b[90m, \u001b[39m1\u001b[90m, \u001b[39m0\u001b[90m, \u001b[39m0\u001b[90m, \u001b[39m1…\n",
      "$ `AST (FT)`     \u001b[3m\u001b[90m<dbl>\u001b[39m\u001b[23m 1\u001b[90m, \u001b[39m0\u001b[90m, \u001b[39m0\u001b[90m, \u001b[39m0\u001b[90m, \u001b[39m0\u001b[90m, \u001b[39m0\u001b[90m, \u001b[39m0\u001b[90m, \u001b[39m1\u001b[90m, \u001b[39m0\u001b[90m, \u001b[39m0\u001b[90m, \u001b[39m0\u001b[90m, \u001b[39m0\u001b[90m, \u001b[39m0\u001b[90m, \u001b[39m0\u001b[90m, \u001b[39m0\u001b[90m, \u001b[39m0\u001b[90m, \u001b[39m0\u001b[90m, \u001b[39m0\u001b[90m, \u001b[39m0…\n",
      "$ `AST PTS (FT)` \u001b[3m\u001b[90m<dbl>\u001b[39m\u001b[23m 2\u001b[90m, \u001b[39m0\u001b[90m, \u001b[39m0\u001b[90m, \u001b[39m0\u001b[90m, \u001b[39m0\u001b[90m, \u001b[39m0\u001b[90m, \u001b[39m0\u001b[90m, \u001b[39m0\u001b[90m, \u001b[39m0\u001b[90m, \u001b[39m0\u001b[90m, \u001b[39m0\u001b[90m, \u001b[39m0\u001b[90m, \u001b[39m0\u001b[90m, \u001b[39m0\u001b[90m, \u001b[39m0\u001b[90m, \u001b[39m0\u001b[90m, \u001b[39m0\u001b[90m, \u001b[39m0\u001b[90m, \u001b[39m0…\n",
      "$ LTO            \u001b[3m\u001b[90m<dbl>\u001b[39m\u001b[23m 1\u001b[90m, \u001b[39m0\u001b[90m, \u001b[39m0\u001b[90m, \u001b[39m0\u001b[90m, \u001b[39m0\u001b[90m, \u001b[39m0\u001b[90m, \u001b[39m1\u001b[90m, \u001b[39m2\u001b[90m, \u001b[39m0\u001b[90m, \u001b[39m0\u001b[90m, \u001b[39m1\u001b[90m, \u001b[39m0\u001b[90m, \u001b[39m0\u001b[90m, \u001b[39m0\u001b[90m, \u001b[39m0\u001b[90m, \u001b[39m1\u001b[90m, \u001b[39m1\u001b[90m, \u001b[39m0\u001b[90m, \u001b[39m0…\n",
      "$ DTO            \u001b[3m\u001b[90m<dbl>\u001b[39m\u001b[23m 0\u001b[90m, \u001b[39m0\u001b[90m, \u001b[39m0\u001b[90m, \u001b[39m0\u001b[90m, \u001b[39m1\u001b[90m, \u001b[39m2\u001b[90m, \u001b[39m0\u001b[90m, \u001b[39m0\u001b[90m, \u001b[39m0\u001b[90m, \u001b[39m0\u001b[90m, \u001b[39m1\u001b[90m, \u001b[39m0\u001b[90m, \u001b[39m0\u001b[90m, \u001b[39m0\u001b[90m, \u001b[39m1\u001b[90m, \u001b[39m0\u001b[90m, \u001b[39m1\u001b[90m, \u001b[39m1\u001b[90m, \u001b[39m0…\n",
      "$ BLK2           \u001b[3m\u001b[90m<dbl>\u001b[39m\u001b[23m 0\u001b[90m, \u001b[39m0\u001b[90m, \u001b[39m0\u001b[90m, \u001b[39m0\u001b[90m, \u001b[39m0\u001b[90m, \u001b[39m0\u001b[90m, \u001b[39m0\u001b[90m, \u001b[39m0\u001b[90m, \u001b[39m0\u001b[90m, \u001b[39m0\u001b[90m, \u001b[39m0\u001b[90m, \u001b[39m0\u001b[90m, \u001b[39m0\u001b[90m, \u001b[39m0\u001b[90m, \u001b[39m0\u001b[90m, \u001b[39m0\u001b[90m, \u001b[39m0\u001b[90m, \u001b[39m0\u001b[90m, \u001b[39m0…\n",
      "$ BLK3           \u001b[3m\u001b[90m<dbl>\u001b[39m\u001b[23m 0\u001b[90m, \u001b[39m0\u001b[90m, \u001b[39m0\u001b[90m, \u001b[39m0\u001b[90m, \u001b[39m0\u001b[90m, \u001b[39m0\u001b[90m, \u001b[39m0\u001b[90m, \u001b[39m0\u001b[90m, \u001b[39m0\u001b[90m, \u001b[39m0\u001b[90m, \u001b[39m0\u001b[90m, \u001b[39m0\u001b[90m, \u001b[39m0\u001b[90m, \u001b[39m0\u001b[90m, \u001b[39m0\u001b[90m, \u001b[39m0\u001b[90m, \u001b[39m0\u001b[90m, \u001b[39m0\u001b[90m, \u001b[39m0…\n",
      "$ OR_RIM         \u001b[3m\u001b[90m<dbl>\u001b[39m\u001b[23m 0\u001b[90m, \u001b[39m0\u001b[90m, \u001b[39m0\u001b[90m, \u001b[39m0\u001b[90m, \u001b[39m0\u001b[90m, \u001b[39m0\u001b[90m, \u001b[39m0\u001b[90m, \u001b[39m0\u001b[90m, \u001b[39m2\u001b[90m, \u001b[39m0\u001b[90m, \u001b[39m0\u001b[90m, \u001b[39m0\u001b[90m, \u001b[39m0\u001b[90m, \u001b[39m0\u001b[90m, \u001b[39m0\u001b[90m, \u001b[39m1\u001b[90m, \u001b[39m0\u001b[90m, \u001b[39m0\u001b[90m, \u001b[39m0…\n",
      "$ OR_PAINT       \u001b[3m\u001b[90m<dbl>\u001b[39m\u001b[23m 1\u001b[90m, \u001b[39m0\u001b[90m, \u001b[39m4\u001b[90m, \u001b[39m0\u001b[90m, \u001b[39m0\u001b[90m, \u001b[39m2\u001b[90m, \u001b[39m0\u001b[90m, \u001b[39m0\u001b[90m, \u001b[39m0\u001b[90m, \u001b[39m0\u001b[90m, \u001b[39m0\u001b[90m, \u001b[39m0\u001b[90m, \u001b[39m0\u001b[90m, \u001b[39m0\u001b[90m, \u001b[39m0\u001b[90m, \u001b[39m2\u001b[90m, \u001b[39m0\u001b[90m, \u001b[39m1\u001b[90m, \u001b[39m0…\n",
      "$ OR_NP2         \u001b[3m\u001b[90m<dbl>\u001b[39m\u001b[23m 0\u001b[90m, \u001b[39m0\u001b[90m, \u001b[39m0\u001b[90m, \u001b[39m0\u001b[90m, \u001b[39m0\u001b[90m, \u001b[39m0\u001b[90m, \u001b[39m0\u001b[90m, \u001b[39m0\u001b[90m, \u001b[39m1\u001b[90m, \u001b[39m0\u001b[90m, \u001b[39m0\u001b[90m, \u001b[39m0\u001b[90m, \u001b[39m0\u001b[90m, \u001b[39m0\u001b[90m, \u001b[39m0\u001b[90m, \u001b[39m0\u001b[90m, \u001b[39m0\u001b[90m, \u001b[39m0\u001b[90m, \u001b[39m0…\n",
      "$ OR_3C          \u001b[3m\u001b[90m<dbl>\u001b[39m\u001b[23m 0\u001b[90m, \u001b[39m0\u001b[90m, \u001b[39m0\u001b[90m, \u001b[39m0\u001b[90m, \u001b[39m0\u001b[90m, \u001b[39m0\u001b[90m, \u001b[39m0\u001b[90m, \u001b[39m0\u001b[90m, \u001b[39m0\u001b[90m, \u001b[39m0\u001b[90m, \u001b[39m0\u001b[90m, \u001b[39m0\u001b[90m, \u001b[39m0\u001b[90m, \u001b[39m0\u001b[90m, \u001b[39m0\u001b[90m, \u001b[39m0\u001b[90m, \u001b[39m0\u001b[90m, \u001b[39m0\u001b[90m, \u001b[39m0…\n",
      "$ OR_3L          \u001b[3m\u001b[90m<dbl>\u001b[39m\u001b[23m 0\u001b[90m, \u001b[39m1\u001b[90m, \u001b[39m1\u001b[90m, \u001b[39m1\u001b[90m, \u001b[39m0\u001b[90m, \u001b[39m0\u001b[90m, \u001b[39m0\u001b[90m, \u001b[39m0\u001b[90m, \u001b[39m0\u001b[90m, \u001b[39m1\u001b[90m, \u001b[39m0\u001b[90m, \u001b[39m0\u001b[90m, \u001b[39m0\u001b[90m, \u001b[39m0\u001b[90m, \u001b[39m0\u001b[90m, \u001b[39m1\u001b[90m, \u001b[39m1\u001b[90m, \u001b[39m0\u001b[90m, \u001b[39m1…\n",
      "$ OR_FT          \u001b[3m\u001b[90m<dbl>\u001b[39m\u001b[23m 0\u001b[90m, \u001b[39m0\u001b[90m, \u001b[39m0\u001b[90m, \u001b[39m0\u001b[90m, \u001b[39m1\u001b[90m, \u001b[39m0\u001b[90m, \u001b[39m0\u001b[90m, \u001b[39m0\u001b[90m, \u001b[39m0\u001b[90m, \u001b[39m0\u001b[90m, \u001b[39m0\u001b[90m, \u001b[39m0\u001b[90m, \u001b[39m0\u001b[90m, \u001b[39m0\u001b[90m, \u001b[39m0\u001b[90m, \u001b[39m0\u001b[90m, \u001b[39m0\u001b[90m, \u001b[39m0\u001b[90m, \u001b[39m0…\n",
      "$ DR_RIM         \u001b[3m\u001b[90m<dbl>\u001b[39m\u001b[23m 0\u001b[90m, \u001b[39m0\u001b[90m, \u001b[39m0\u001b[90m, \u001b[39m0\u001b[90m, \u001b[39m0\u001b[90m, \u001b[39m0\u001b[90m, \u001b[39m0\u001b[90m, \u001b[39m0\u001b[90m, \u001b[39m0\u001b[90m, \u001b[39m0\u001b[90m, \u001b[39m0\u001b[90m, \u001b[39m0\u001b[90m, \u001b[39m0\u001b[90m, \u001b[39m0\u001b[90m, \u001b[39m0\u001b[90m, \u001b[39m0\u001b[90m, \u001b[39m0\u001b[90m, \u001b[39m0\u001b[90m, \u001b[39m0…\n",
      "$ DR_PAINT       \u001b[3m\u001b[90m<dbl>\u001b[39m\u001b[23m 0\u001b[90m, \u001b[39m0\u001b[90m, \u001b[39m0\u001b[90m, \u001b[39m0\u001b[90m, \u001b[39m0\u001b[90m, \u001b[39m2\u001b[90m, \u001b[39m0\u001b[90m, \u001b[39m1\u001b[90m, \u001b[39m1\u001b[90m, \u001b[39m0\u001b[90m, \u001b[39m1\u001b[90m, \u001b[39m0\u001b[90m, \u001b[39m0\u001b[90m, \u001b[39m0\u001b[90m, \u001b[39m0\u001b[90m, \u001b[39m1\u001b[90m, \u001b[39m0\u001b[90m, \u001b[39m2\u001b[90m, \u001b[39m1…\n",
      "$ DR_NP2         \u001b[3m\u001b[90m<dbl>\u001b[39m\u001b[23m 0\u001b[90m, \u001b[39m1\u001b[90m, \u001b[39m0\u001b[90m, \u001b[39m0\u001b[90m, \u001b[39m0\u001b[90m, \u001b[39m0\u001b[90m, \u001b[39m0\u001b[90m, \u001b[39m0\u001b[90m, \u001b[39m0\u001b[90m, \u001b[39m0\u001b[90m, \u001b[39m0\u001b[90m, \u001b[39m0\u001b[90m, \u001b[39m0\u001b[90m, \u001b[39m0\u001b[90m, \u001b[39m0\u001b[90m, \u001b[39m0\u001b[90m, \u001b[39m0\u001b[90m, \u001b[39m1\u001b[90m, \u001b[39m0…\n",
      "$ DR_3C          \u001b[3m\u001b[90m<dbl>\u001b[39m\u001b[23m 0\u001b[90m, \u001b[39m0\u001b[90m, \u001b[39m0\u001b[90m, \u001b[39m0\u001b[90m, \u001b[39m0\u001b[90m, \u001b[39m0\u001b[90m, \u001b[39m1\u001b[90m, \u001b[39m0\u001b[90m, \u001b[39m0\u001b[90m, \u001b[39m1\u001b[90m, \u001b[39m0\u001b[90m, \u001b[39m0\u001b[90m, \u001b[39m0\u001b[90m, \u001b[39m0\u001b[90m, \u001b[39m0\u001b[90m, \u001b[39m0\u001b[90m, \u001b[39m0\u001b[90m, \u001b[39m0\u001b[90m, \u001b[39m0…\n",
      "$ DR_3L          \u001b[3m\u001b[90m<dbl>\u001b[39m\u001b[23m 2\u001b[90m, \u001b[39m0\u001b[90m, \u001b[39m0\u001b[90m, \u001b[39m0\u001b[90m, \u001b[39m0\u001b[90m, \u001b[39m1\u001b[90m, \u001b[39m2\u001b[90m, \u001b[39m2\u001b[90m, \u001b[39m0\u001b[90m, \u001b[39m2\u001b[90m, \u001b[39m1\u001b[90m, \u001b[39m0\u001b[90m, \u001b[39m0\u001b[90m, \u001b[39m0\u001b[90m, \u001b[39m4\u001b[90m, \u001b[39m0\u001b[90m, \u001b[39m0\u001b[90m, \u001b[39m0\u001b[90m, \u001b[39m0…\n",
      "$ DR_FT          \u001b[3m\u001b[90m<dbl>\u001b[39m\u001b[23m 1\u001b[90m, \u001b[39m0\u001b[90m, \u001b[39m0\u001b[90m, \u001b[39m0\u001b[90m, \u001b[39m0\u001b[90m, \u001b[39m0\u001b[90m, \u001b[39m0\u001b[90m, \u001b[39m0\u001b[90m, \u001b[39m0\u001b[90m, \u001b[39m1\u001b[90m, \u001b[39m1\u001b[90m, \u001b[39m1\u001b[90m, \u001b[39m0\u001b[90m, \u001b[39m0\u001b[90m, \u001b[39m0\u001b[90m, \u001b[39m1\u001b[90m, \u001b[39m0\u001b[90m, \u001b[39m0\u001b[90m, \u001b[39m0…\n",
      "$ FTM_T          \u001b[3m\u001b[90m<dbl>\u001b[39m\u001b[23m 0\u001b[90m, \u001b[39m0\u001b[90m, \u001b[39m0\u001b[90m, \u001b[39m0\u001b[90m, \u001b[39m0\u001b[90m, \u001b[39m0\u001b[90m, \u001b[39m0\u001b[90m, \u001b[39m0\u001b[90m, \u001b[39m0\u001b[90m, \u001b[39m0\u001b[90m, \u001b[39m0\u001b[90m, \u001b[39m0\u001b[90m, \u001b[39m0\u001b[90m, \u001b[39m0\u001b[90m, \u001b[39m0\u001b[90m, \u001b[39m0\u001b[90m, \u001b[39m0\u001b[90m, \u001b[39m0\u001b[90m, \u001b[39m0…\n",
      "$ FTA_T          \u001b[3m\u001b[90m<dbl>\u001b[39m\u001b[23m 0\u001b[90m, \u001b[39m0\u001b[90m, \u001b[39m0\u001b[90m, \u001b[39m0\u001b[90m, \u001b[39m0\u001b[90m, \u001b[39m0\u001b[90m, \u001b[39m0\u001b[90m, \u001b[39m0\u001b[90m, \u001b[39m0\u001b[90m, \u001b[39m0\u001b[90m, \u001b[39m0\u001b[90m, \u001b[39m0\u001b[90m, \u001b[39m0\u001b[90m, \u001b[39m0\u001b[90m, \u001b[39m0\u001b[90m, \u001b[39m0\u001b[90m, \u001b[39m0\u001b[90m, \u001b[39m0\u001b[90m, \u001b[39m0…\n",
      "$ FTM_1          \u001b[3m\u001b[90m<dbl>\u001b[39m\u001b[23m 0\u001b[90m, \u001b[39m0\u001b[90m, \u001b[39m0\u001b[90m, \u001b[39m0\u001b[90m, \u001b[39m0\u001b[90m, \u001b[39m0\u001b[90m, \u001b[39m0\u001b[90m, \u001b[39m1\u001b[90m, \u001b[39m0\u001b[90m, \u001b[39m0\u001b[90m, \u001b[39m0\u001b[90m, \u001b[39m0\u001b[90m, \u001b[39m0\u001b[90m, \u001b[39m0\u001b[90m, \u001b[39m0\u001b[90m, \u001b[39m0\u001b[90m, \u001b[39m0\u001b[90m, \u001b[39m0\u001b[90m, \u001b[39m0…\n",
      "$ FTA_1          \u001b[3m\u001b[90m<dbl>\u001b[39m\u001b[23m 0\u001b[90m, \u001b[39m0\u001b[90m, \u001b[39m0\u001b[90m, \u001b[39m0\u001b[90m, \u001b[39m0\u001b[90m, \u001b[39m0\u001b[90m, \u001b[39m0\u001b[90m, \u001b[39m1\u001b[90m, \u001b[39m0\u001b[90m, \u001b[39m0\u001b[90m, \u001b[39m0\u001b[90m, \u001b[39m0\u001b[90m, \u001b[39m0\u001b[90m, \u001b[39m0\u001b[90m, \u001b[39m0\u001b[90m, \u001b[39m0\u001b[90m, \u001b[39m0\u001b[90m, \u001b[39m0\u001b[90m, \u001b[39m0…\n",
      "$ FTM_2          \u001b[3m\u001b[90m<dbl>\u001b[39m\u001b[23m 2\u001b[90m, \u001b[39m0\u001b[90m, \u001b[39m0\u001b[90m, \u001b[39m3\u001b[90m, \u001b[39m0\u001b[90m, \u001b[39m0\u001b[90m, \u001b[39m0\u001b[90m, \u001b[39m2\u001b[90m, \u001b[39m0\u001b[90m, \u001b[39m1\u001b[90m, \u001b[39m2\u001b[90m, \u001b[39m0\u001b[90m, \u001b[39m0\u001b[90m, \u001b[39m0\u001b[90m, \u001b[39m0\u001b[90m, \u001b[39m2\u001b[90m, \u001b[39m1\u001b[90m, \u001b[39m0\u001b[90m, \u001b[39m0…\n",
      "$ FTA_2          \u001b[3m\u001b[90m<dbl>\u001b[39m\u001b[23m 2\u001b[90m, \u001b[39m0\u001b[90m, \u001b[39m0\u001b[90m, \u001b[39m4\u001b[90m, \u001b[39m0\u001b[90m, \u001b[39m0\u001b[90m, \u001b[39m0\u001b[90m, \u001b[39m2\u001b[90m, \u001b[39m0\u001b[90m, \u001b[39m2\u001b[90m, \u001b[39m2\u001b[90m, \u001b[39m0\u001b[90m, \u001b[39m0\u001b[90m, \u001b[39m0\u001b[90m, \u001b[39m0\u001b[90m, \u001b[39m4\u001b[90m, \u001b[39m2\u001b[90m, \u001b[39m0\u001b[90m, \u001b[39m0…\n",
      "$ `FT 0/2`       \u001b[3m\u001b[90m<dbl>\u001b[39m\u001b[23m 0\u001b[90m, \u001b[39m0\u001b[90m, \u001b[39m0\u001b[90m, \u001b[39m0\u001b[90m, \u001b[39m0\u001b[90m, \u001b[39m0\u001b[90m, \u001b[39m0\u001b[90m, \u001b[39m0\u001b[90m, \u001b[39m0\u001b[90m, \u001b[39m0\u001b[90m, \u001b[39m0\u001b[90m, \u001b[39m0\u001b[90m, \u001b[39m0\u001b[90m, \u001b[39m0\u001b[90m, \u001b[39m0\u001b[90m, \u001b[39m0\u001b[90m, \u001b[39m0\u001b[90m, \u001b[39m0\u001b[90m, \u001b[39m0…\n",
      "$ FTM_3          \u001b[3m\u001b[90m<dbl>\u001b[39m\u001b[23m 0\u001b[90m, \u001b[39m0\u001b[90m, \u001b[39m0\u001b[90m, \u001b[39m0\u001b[90m, \u001b[39m0\u001b[90m, \u001b[39m0\u001b[90m, \u001b[39m0\u001b[90m, \u001b[39m0\u001b[90m, \u001b[39m0\u001b[90m, \u001b[39m0\u001b[90m, \u001b[39m0\u001b[90m, \u001b[39m0\u001b[90m, \u001b[39m0\u001b[90m, \u001b[39m0\u001b[90m, \u001b[39m0\u001b[90m, \u001b[39m0\u001b[90m, \u001b[39m0\u001b[90m, \u001b[39m0\u001b[90m, \u001b[39m1…\n",
      "$ FTA_3          \u001b[3m\u001b[90m<dbl>\u001b[39m\u001b[23m 0\u001b[90m, \u001b[39m0\u001b[90m, \u001b[39m0\u001b[90m, \u001b[39m0\u001b[90m, \u001b[39m0\u001b[90m, \u001b[39m0\u001b[90m, \u001b[39m0\u001b[90m, \u001b[39m0\u001b[90m, \u001b[39m0\u001b[90m, \u001b[39m0\u001b[90m, \u001b[39m0\u001b[90m, \u001b[39m0\u001b[90m, \u001b[39m0\u001b[90m, \u001b[39m0\u001b[90m, \u001b[39m0\u001b[90m, \u001b[39m0\u001b[90m, \u001b[39m0\u001b[90m, \u001b[39m0\u001b[90m, \u001b[39m3…\n",
      "$ `FT 0/3`       \u001b[3m\u001b[90m<dbl>\u001b[39m\u001b[23m 0\u001b[90m, \u001b[39m0\u001b[90m, \u001b[39m0\u001b[90m, \u001b[39m0\u001b[90m, \u001b[39m0\u001b[90m, \u001b[39m0\u001b[90m, \u001b[39m0\u001b[90m, \u001b[39m0\u001b[90m, \u001b[39m0\u001b[90m, \u001b[39m0\u001b[90m, \u001b[39m0\u001b[90m, \u001b[39m0\u001b[90m, \u001b[39m0\u001b[90m, \u001b[39m0\u001b[90m, \u001b[39m0\u001b[90m, \u001b[39m0\u001b[90m, \u001b[39m0\u001b[90m, \u001b[39m0\u001b[90m, \u001b[39m0…\n",
      "$ RIM_M          \u001b[3m\u001b[90m<dbl>\u001b[39m\u001b[23m 0\u001b[90m, \u001b[39m0\u001b[90m, \u001b[39m0\u001b[90m, \u001b[39m1\u001b[90m, \u001b[39m2\u001b[90m, \u001b[39m0\u001b[90m, \u001b[39m0\u001b[90m, \u001b[39m1\u001b[90m, \u001b[39m0\u001b[90m, \u001b[39m0\u001b[90m, \u001b[39m0\u001b[90m, \u001b[39m0\u001b[90m, \u001b[39m0\u001b[90m, \u001b[39m0\u001b[90m, \u001b[39m1\u001b[90m, \u001b[39m1\u001b[90m, \u001b[39m3\u001b[90m, \u001b[39m0\u001b[90m, \u001b[39m1…\n",
      "$ RIM_A          \u001b[3m\u001b[90m<dbl>\u001b[39m\u001b[23m 0\u001b[90m, \u001b[39m0\u001b[90m, \u001b[39m0\u001b[90m, \u001b[39m1\u001b[90m, \u001b[39m2\u001b[90m, \u001b[39m0\u001b[90m, \u001b[39m0\u001b[90m, \u001b[39m2\u001b[90m, \u001b[39m1\u001b[90m, \u001b[39m0\u001b[90m, \u001b[39m0\u001b[90m, \u001b[39m0\u001b[90m, \u001b[39m0\u001b[90m, \u001b[39m0\u001b[90m, \u001b[39m1\u001b[90m, \u001b[39m1\u001b[90m, \u001b[39m3\u001b[90m, \u001b[39m0\u001b[90m, \u001b[39m1…\n",
      "$ PAINT_M        \u001b[3m\u001b[90m<dbl>\u001b[39m\u001b[23m 1\u001b[90m, \u001b[39m0\u001b[90m, \u001b[39m1\u001b[90m, \u001b[39m2\u001b[90m, \u001b[39m1\u001b[90m, \u001b[39m0\u001b[90m, \u001b[39m0\u001b[90m, \u001b[39m2\u001b[90m, \u001b[39m0\u001b[90m, \u001b[39m1\u001b[90m, \u001b[39m2\u001b[90m, \u001b[39m0\u001b[90m, \u001b[39m0\u001b[90m, \u001b[39m0\u001b[90m, \u001b[39m0\u001b[90m, \u001b[39m3\u001b[90m, \u001b[39m0\u001b[90m, \u001b[39m0\u001b[90m, \u001b[39m1…\n",
      "$ PAINT_A        \u001b[3m\u001b[90m<dbl>\u001b[39m\u001b[23m 5\u001b[90m, \u001b[39m0\u001b[90m, \u001b[39m5\u001b[90m, \u001b[39m2\u001b[90m, \u001b[39m1\u001b[90m, \u001b[39m1\u001b[90m, \u001b[39m1\u001b[90m, \u001b[39m4\u001b[90m, \u001b[39m1\u001b[90m, \u001b[39m3\u001b[90m, \u001b[39m3\u001b[90m, \u001b[39m0\u001b[90m, \u001b[39m0\u001b[90m, \u001b[39m0\u001b[90m, \u001b[39m0\u001b[90m, \u001b[39m4\u001b[90m, \u001b[39m3\u001b[90m, \u001b[39m1\u001b[90m, \u001b[39m1…\n",
      "$ MID_M          \u001b[3m\u001b[90m<dbl>\u001b[39m\u001b[23m 0\u001b[90m, \u001b[39m0\u001b[90m, \u001b[39m0\u001b[90m, \u001b[39m0\u001b[90m, \u001b[39m1\u001b[90m, \u001b[39m0\u001b[90m, \u001b[39m0\u001b[90m, \u001b[39m0\u001b[90m, \u001b[39m0\u001b[90m, \u001b[39m1\u001b[90m, \u001b[39m0\u001b[90m, \u001b[39m0\u001b[90m, \u001b[39m0\u001b[90m, \u001b[39m0\u001b[90m, \u001b[39m0\u001b[90m, \u001b[39m1\u001b[90m, \u001b[39m0\u001b[90m, \u001b[39m0\u001b[90m, \u001b[39m1…\n",
      "$ MID_A          \u001b[3m\u001b[90m<dbl>\u001b[39m\u001b[23m 1\u001b[90m, \u001b[39m0\u001b[90m, \u001b[39m0\u001b[90m, \u001b[39m0\u001b[90m, \u001b[39m1\u001b[90m, \u001b[39m0\u001b[90m, \u001b[39m2\u001b[90m, \u001b[39m0\u001b[90m, \u001b[39m0\u001b[90m, \u001b[39m1\u001b[90m, \u001b[39m0\u001b[90m, \u001b[39m0\u001b[90m, \u001b[39m0\u001b[90m, \u001b[39m0\u001b[90m, \u001b[39m0\u001b[90m, \u001b[39m2\u001b[90m, \u001b[39m0\u001b[90m, \u001b[39m0\u001b[90m, \u001b[39m1…\n",
      "$ `3C_M`         \u001b[3m\u001b[90m<dbl>\u001b[39m\u001b[23m 0\u001b[90m, \u001b[39m0\u001b[90m, \u001b[39m1\u001b[90m, \u001b[39m0\u001b[90m, \u001b[39m0\u001b[90m, \u001b[39m0\u001b[90m, \u001b[39m0\u001b[90m, \u001b[39m0\u001b[90m, \u001b[39m0\u001b[90m, \u001b[39m0\u001b[90m, \u001b[39m0\u001b[90m, \u001b[39m0\u001b[90m, \u001b[39m0\u001b[90m, \u001b[39m0\u001b[90m, \u001b[39m0\u001b[90m, \u001b[39m0\u001b[90m, \u001b[39m0\u001b[90m, \u001b[39m0\u001b[90m, \u001b[39m0…\n",
      "$ `3C_A`         \u001b[3m\u001b[90m<dbl>\u001b[39m\u001b[23m 0\u001b[90m, \u001b[39m0\u001b[90m, \u001b[39m1\u001b[90m, \u001b[39m0\u001b[90m, \u001b[39m0\u001b[90m, \u001b[39m0\u001b[90m, \u001b[39m0\u001b[90m, \u001b[39m0\u001b[90m, \u001b[39m0\u001b[90m, \u001b[39m0\u001b[90m, \u001b[39m0\u001b[90m, \u001b[39m0\u001b[90m, \u001b[39m0\u001b[90m, \u001b[39m0\u001b[90m, \u001b[39m1\u001b[90m, \u001b[39m0\u001b[90m, \u001b[39m0\u001b[90m, \u001b[39m0\u001b[90m, \u001b[39m1…\n",
      "$ `3L_M`         \u001b[3m\u001b[90m<dbl>\u001b[39m\u001b[23m 1\u001b[90m, \u001b[39m2\u001b[90m, \u001b[39m0\u001b[90m, \u001b[39m0\u001b[90m, \u001b[39m2\u001b[90m, \u001b[39m0\u001b[90m, \u001b[39m1\u001b[90m, \u001b[39m1\u001b[90m, \u001b[39m0\u001b[90m, \u001b[39m4\u001b[90m, \u001b[39m5\u001b[90m, \u001b[39m0\u001b[90m, \u001b[39m0\u001b[90m, \u001b[39m0\u001b[90m, \u001b[39m0\u001b[90m, \u001b[39m2\u001b[90m, \u001b[39m0\u001b[90m, \u001b[39m0\u001b[90m, \u001b[39m2…\n",
      "$ `3L_A`         \u001b[3m\u001b[90m<dbl>\u001b[39m\u001b[23m 5\u001b[90m, \u001b[39m2\u001b[90m, \u001b[39m1\u001b[90m, \u001b[39m0\u001b[90m, \u001b[39m2\u001b[90m, \u001b[39m3\u001b[90m, \u001b[39m3\u001b[90m, \u001b[39m2\u001b[90m, \u001b[39m0\u001b[90m, \u001b[39m7\u001b[90m, \u001b[39m8\u001b[90m, \u001b[39m0\u001b[90m, \u001b[39m0\u001b[90m, \u001b[39m0\u001b[90m, \u001b[39m2\u001b[90m, \u001b[39m5\u001b[90m, \u001b[39m0\u001b[90m, \u001b[39m1\u001b[90m, \u001b[39m4…\n",
      "$ `3H_M`         \u001b[3m\u001b[90m<dbl>\u001b[39m\u001b[23m 0\u001b[90m, \u001b[39m0\u001b[90m, \u001b[39m0\u001b[90m, \u001b[39m0\u001b[90m, \u001b[39m0\u001b[90m, \u001b[39m0\u001b[90m, \u001b[39m0\u001b[90m, \u001b[39m0\u001b[90m, \u001b[39m0\u001b[90m, \u001b[39m0\u001b[90m, \u001b[39m0\u001b[90m, \u001b[39m0\u001b[90m, \u001b[39m0\u001b[90m, \u001b[39m0\u001b[90m, \u001b[39m0\u001b[90m, \u001b[39m0\u001b[90m, \u001b[39m0\u001b[90m, \u001b[39m0\u001b[90m, \u001b[39m0…\n",
      "$ `3H_A`         \u001b[3m\u001b[90m<dbl>\u001b[39m\u001b[23m 0\u001b[90m, \u001b[39m0\u001b[90m, \u001b[39m0\u001b[90m, \u001b[39m0\u001b[90m, \u001b[39m0\u001b[90m, \u001b[39m0\u001b[90m, \u001b[39m0\u001b[90m, \u001b[39m0\u001b[90m, \u001b[39m0\u001b[90m, \u001b[39m0\u001b[90m, \u001b[39m0\u001b[90m, \u001b[39m0\u001b[90m, \u001b[39m0\u001b[90m, \u001b[39m0\u001b[90m, \u001b[39m0\u001b[90m, \u001b[39m0\u001b[90m, \u001b[39m0\u001b[90m, \u001b[39m0\u001b[90m, \u001b[39m0…\n"
     ]
    }
   ],
   "source": [
    "players <- shortnames(players)\n",
    "glimpse(players)"
   ]
  },
  {
   "cell_type": "code",
   "execution_count": 91,
   "metadata": {
    "vscode": {
     "languageId": "r"
    }
   },
   "outputs": [
    {
     "name": "stdout",
     "output_type": "stream",
     "text": [
      "Rows: 1,324\n",
      "Columns: 133\n",
      "$ ROUND              \u001b[3m\u001b[90m<int>\u001b[39m\u001b[23m 1\u001b[90m, \u001b[39m1\u001b[90m, \u001b[39m1\u001b[90m, \u001b[39m1\u001b[90m, \u001b[39m1\u001b[90m, \u001b[39m1\u001b[90m, \u001b[39m1\u001b[90m, \u001b[39m1\u001b[90m, \u001b[39m1\u001b[90m, \u001b[39m1\u001b[90m, \u001b[39m1\u001b[90m, \u001b[39m1\u001b[90m, \u001b[39m1\u001b[90m, \u001b[39m1\u001b[90m, \u001b[39m1\u001b[90m, \u001b[39m1\u001b[90m, \u001b[39m1\u001b[90m, \u001b[39m…\n",
      "$ `TM TAG`           \u001b[3m\u001b[90m<chr>\u001b[39m\u001b[23m \"CZB\"\u001b[90m, \u001b[39m\"ASV\"\u001b[90m, \u001b[39m\"MTA\"\u001b[90m, \u001b[39m\"PAR\"\u001b[90m, \u001b[39m\"EFE\"\u001b[90m, \u001b[39m\"FCB\"\u001b[90m, \u001b[39m\"BER\"\u001b[90m, \u001b[39m\"B…\n",
      "$ `OPP TAG`          \u001b[3m\u001b[90m<chr>\u001b[39m\u001b[23m \"ASV\"\u001b[90m, \u001b[39m\"CZB\"\u001b[90m, \u001b[39m\"PAR\"\u001b[90m, \u001b[39m\"MTA\"\u001b[90m, \u001b[39m\"FCB\"\u001b[90m, \u001b[39m\"EFE\"\u001b[90m, \u001b[39m\"BAY\"\u001b[90m, \u001b[39m\"B…\n",
      "$ `TM NAME`          \u001b[3m\u001b[90m<chr>\u001b[39m\u001b[23m \"Crvena Zvezda\"\u001b[90m, \u001b[39m\"ASVEL\"\u001b[90m, \u001b[39m\"Maccabi Tel Aviv\"\u001b[90m, \u001b[39m\"Part…\n",
      "$ `OPP NAME`         \u001b[3m\u001b[90m<chr>\u001b[39m\u001b[23m \"ASVEL\"\u001b[90m, \u001b[39m\"Crvena Zvezda\"\u001b[90m, \u001b[39m\"Partizan\"\u001b[90m, \u001b[39m\"Maccabi Tel …\n",
      "$ DATE               \u001b[3m\u001b[90m<chr>\u001b[39m\u001b[23m \"05.10.2023\"\u001b[90m, \u001b[39m\"05.10.2023\"\u001b[90m, \u001b[39m\"05.10.2023\"\u001b[90m, \u001b[39m\"05.10.20…\n",
      "$ `H/A`              \u001b[3m\u001b[90m<chr>\u001b[39m\u001b[23m \"H\"\u001b[90m, \u001b[39m\"A\"\u001b[90m, \u001b[39m\"H\"\u001b[90m, \u001b[39m\"A\"\u001b[90m, \u001b[39m\"A\"\u001b[90m, \u001b[39m\"H\"\u001b[90m, \u001b[39m\"A\"\u001b[90m, \u001b[39m\"H\"\u001b[90m, \u001b[39m\"H\"\u001b[90m, \u001b[39m\"A\"\u001b[90m, \u001b[39m\"…\n",
      "$ `W/L`              \u001b[3m\u001b[90m<chr>\u001b[39m\u001b[23m \"W\"\u001b[90m, \u001b[39m\"L\"\u001b[90m, \u001b[39m\"W\"\u001b[90m, \u001b[39m\"L\"\u001b[90m, \u001b[39m\"L\"\u001b[90m, \u001b[39m\"W\"\u001b[90m, \u001b[39m\"L\"\u001b[90m, \u001b[39m\"W\"\u001b[90m, \u001b[39m\"L\"\u001b[90m, \u001b[39m\"W\"\u001b[90m, \u001b[39m\"…\n",
      "$ MIN                \u001b[3m\u001b[90m<int>\u001b[39m\u001b[23m 200\u001b[90m, \u001b[39m200\u001b[90m, \u001b[39m200\u001b[90m, \u001b[39m200\u001b[90m, \u001b[39m200\u001b[90m, \u001b[39m200\u001b[90m, \u001b[39m200\u001b[90m, \u001b[39m200\u001b[90m, \u001b[39m200\u001b[90m, \u001b[39m200\u001b[90m, \u001b[39m2…\n",
      "$ PTS                \u001b[3m\u001b[90m<int>\u001b[39m\u001b[23m 94\u001b[90m, \u001b[39m73\u001b[90m, \u001b[39m96\u001b[90m, \u001b[39m81\u001b[90m, \u001b[39m74\u001b[90m, \u001b[39m91\u001b[90m, \u001b[39m68\u001b[90m, \u001b[39m80\u001b[90m, \u001b[39m79\u001b[90m, \u001b[39m82\u001b[90m, \u001b[39m82\u001b[90m, \u001b[39m85\u001b[90m, \u001b[39m88\u001b[90m,\u001b[39m…\n",
      "$ `2PTM`             \u001b[3m\u001b[90m<int>\u001b[39m\u001b[23m 16\u001b[90m, \u001b[39m17\u001b[90m, \u001b[39m27\u001b[90m, \u001b[39m26\u001b[90m, \u001b[39m22\u001b[90m, \u001b[39m32\u001b[90m, \u001b[39m16\u001b[90m, \u001b[39m23\u001b[90m, \u001b[39m23\u001b[90m, \u001b[39m18\u001b[90m, \u001b[39m18\u001b[90m, \u001b[39m18\u001b[90m, \u001b[39m19\u001b[90m,\u001b[39m…\n",
      "$ `2PTA`             \u001b[3m\u001b[90m<int>\u001b[39m\u001b[23m 37\u001b[90m, \u001b[39m29\u001b[90m, \u001b[39m43\u001b[90m, \u001b[39m39\u001b[90m, \u001b[39m40\u001b[90m, \u001b[39m42\u001b[90m, \u001b[39m30\u001b[90m, \u001b[39m36\u001b[90m, \u001b[39m39\u001b[90m, \u001b[39m39\u001b[90m, \u001b[39m36\u001b[90m, \u001b[39m34\u001b[90m, \u001b[39m35\u001b[90m,\u001b[39m…\n",
      "$ `2PT%`             \u001b[3m\u001b[90m<dbl>\u001b[39m\u001b[23m 0.43\u001b[90m, \u001b[39m0.59\u001b[90m, \u001b[39m0.63\u001b[90m, \u001b[39m0.67\u001b[90m, \u001b[39m0.55\u001b[90m, \u001b[39m0.76\u001b[90m, \u001b[39m0.53\u001b[90m, \u001b[39m0.64\u001b[90m, \u001b[39m0.5…\n",
      "$ `3PTM`             \u001b[3m\u001b[90m<int>\u001b[39m\u001b[23m 17\u001b[90m, \u001b[39m9\u001b[90m, \u001b[39m9\u001b[90m, \u001b[39m5\u001b[90m, \u001b[39m9\u001b[90m, \u001b[39m6\u001b[90m, \u001b[39m7\u001b[90m, \u001b[39m9\u001b[90m, \u001b[39m8\u001b[90m, \u001b[39m11\u001b[90m, \u001b[39m11\u001b[90m, \u001b[39m14\u001b[90m, \u001b[39m15\u001b[90m, \u001b[39m10\u001b[90m, \u001b[39m5\u001b[90m, \u001b[39m…\n",
      "$ `3PTA`             \u001b[3m\u001b[90m<int>\u001b[39m\u001b[23m 34\u001b[90m, \u001b[39m25\u001b[90m, \u001b[39m26\u001b[90m, \u001b[39m17\u001b[90m, \u001b[39m27\u001b[90m, \u001b[39m20\u001b[90m, \u001b[39m24\u001b[90m, \u001b[39m31\u001b[90m, \u001b[39m25\u001b[90m, \u001b[39m19\u001b[90m, \u001b[39m26\u001b[90m, \u001b[39m31\u001b[90m, \u001b[39m32\u001b[90m,\u001b[39m…\n",
      "$ `3PT%`             \u001b[3m\u001b[90m<dbl>\u001b[39m\u001b[23m 0.50\u001b[90m, \u001b[39m0.36\u001b[90m, \u001b[39m0.35\u001b[90m, \u001b[39m0.29\u001b[90m, \u001b[39m0.33\u001b[90m, \u001b[39m0.30\u001b[90m, \u001b[39m0.29\u001b[90m, \u001b[39m0.29\u001b[90m, \u001b[39m0.3…\n",
      "$ FGM                \u001b[3m\u001b[90m<int>\u001b[39m\u001b[23m 33\u001b[90m, \u001b[39m26\u001b[90m, \u001b[39m36\u001b[90m, \u001b[39m31\u001b[90m, \u001b[39m31\u001b[90m, \u001b[39m38\u001b[90m, \u001b[39m23\u001b[90m, \u001b[39m32\u001b[90m, \u001b[39m31\u001b[90m, \u001b[39m29\u001b[90m, \u001b[39m29\u001b[90m, \u001b[39m32\u001b[90m, \u001b[39m34\u001b[90m,\u001b[39m…\n",
      "$ FGA                \u001b[3m\u001b[90m<int>\u001b[39m\u001b[23m 71\u001b[90m, \u001b[39m54\u001b[90m, \u001b[39m69\u001b[90m, \u001b[39m56\u001b[90m, \u001b[39m67\u001b[90m, \u001b[39m62\u001b[90m, \u001b[39m54\u001b[90m, \u001b[39m67\u001b[90m, \u001b[39m64\u001b[90m, \u001b[39m58\u001b[90m, \u001b[39m62\u001b[90m, \u001b[39m65\u001b[90m, \u001b[39m67\u001b[90m,\u001b[39m…\n",
      "$ `FG%`              \u001b[3m\u001b[90m<dbl>\u001b[39m\u001b[23m 0.46\u001b[90m, \u001b[39m0.48\u001b[90m, \u001b[39m0.52\u001b[90m, \u001b[39m0.55\u001b[90m, \u001b[39m0.46\u001b[90m, \u001b[39m0.61\u001b[90m, \u001b[39m0.43\u001b[90m, \u001b[39m0.48\u001b[90m, \u001b[39m0.4…\n",
      "$ FTM                \u001b[3m\u001b[90m<int>\u001b[39m\u001b[23m 11\u001b[90m, \u001b[39m12\u001b[90m, \u001b[39m15\u001b[90m, \u001b[39m14\u001b[90m, \u001b[39m3\u001b[90m, \u001b[39m9\u001b[90m, \u001b[39m15\u001b[90m, \u001b[39m7\u001b[90m, \u001b[39m9\u001b[90m, \u001b[39m13\u001b[90m, \u001b[39m13\u001b[90m, \u001b[39m7\u001b[90m, \u001b[39m5\u001b[90m, \u001b[39m16\u001b[90m, \u001b[39m1…\n",
      "$ FTA                \u001b[3m\u001b[90m<int>\u001b[39m\u001b[23m 13\u001b[90m, \u001b[39m21\u001b[90m, \u001b[39m20\u001b[90m, \u001b[39m18\u001b[90m, \u001b[39m6\u001b[90m, \u001b[39m12\u001b[90m, \u001b[39m19\u001b[90m, \u001b[39m10\u001b[90m, \u001b[39m11\u001b[90m, \u001b[39m18\u001b[90m, \u001b[39m18\u001b[90m, \u001b[39m11\u001b[90m, \u001b[39m6\u001b[90m, \u001b[39m1…\n",
      "$ `FT%`              \u001b[3m\u001b[90m<dbl>\u001b[39m\u001b[23m 0.85\u001b[90m, \u001b[39m0.57\u001b[90m, \u001b[39m0.75\u001b[90m, \u001b[39m0.78\u001b[90m, \u001b[39m0.50\u001b[90m, \u001b[39m0.75\u001b[90m, \u001b[39m0.79\u001b[90m, \u001b[39m0.70\u001b[90m, \u001b[39m0.8…\n",
      "$ OR                 \u001b[3m\u001b[90m<int>\u001b[39m\u001b[23m 17\u001b[90m, \u001b[39m9\u001b[90m, \u001b[39m15\u001b[90m, \u001b[39m7\u001b[90m, \u001b[39m9\u001b[90m, \u001b[39m9\u001b[90m, \u001b[39m3\u001b[90m, \u001b[39m20\u001b[90m, \u001b[39m10\u001b[90m, \u001b[39m8\u001b[90m, \u001b[39m10\u001b[90m, \u001b[39m4\u001b[90m, \u001b[39m8\u001b[90m, \u001b[39m7\u001b[90m, \u001b[39m21\u001b[90m, \u001b[39m…\n",
      "$ DR                 \u001b[3m\u001b[90m<int>\u001b[39m\u001b[23m 23\u001b[90m, \u001b[39m22\u001b[90m, \u001b[39m19\u001b[90m, \u001b[39m19\u001b[90m, \u001b[39m16\u001b[90m, \u001b[39m26\u001b[90m, \u001b[39m14\u001b[90m, \u001b[39m29\u001b[90m, \u001b[39m22\u001b[90m, \u001b[39m22\u001b[90m, \u001b[39m31\u001b[90m, \u001b[39m23\u001b[90m, \u001b[39m22\u001b[90m,\u001b[39m…\n",
      "$ TR                 \u001b[3m\u001b[90m<int>\u001b[39m\u001b[23m 40\u001b[90m, \u001b[39m31\u001b[90m, \u001b[39m34\u001b[90m, \u001b[39m26\u001b[90m, \u001b[39m25\u001b[90m, \u001b[39m35\u001b[90m, \u001b[39m17\u001b[90m, \u001b[39m49\u001b[90m, \u001b[39m32\u001b[90m, \u001b[39m30\u001b[90m, \u001b[39m41\u001b[90m, \u001b[39m27\u001b[90m, \u001b[39m30\u001b[90m,\u001b[39m…\n",
      "$ AST                \u001b[3m\u001b[90m<int>\u001b[39m\u001b[23m 19\u001b[90m, \u001b[39m17\u001b[90m, \u001b[39m31\u001b[90m, \u001b[39m18\u001b[90m, \u001b[39m24\u001b[90m, \u001b[39m21\u001b[90m, \u001b[39m14\u001b[90m, \u001b[39m12\u001b[90m, \u001b[39m21\u001b[90m, \u001b[39m11\u001b[90m, \u001b[39m18\u001b[90m, \u001b[39m15\u001b[90m, \u001b[39m20\u001b[90m,\u001b[39m…\n",
      "$ TO                 \u001b[3m\u001b[90m<int>\u001b[39m\u001b[23m 10\u001b[90m, \u001b[39m16\u001b[90m, \u001b[39m12\u001b[90m, \u001b[39m16\u001b[90m, \u001b[39m10\u001b[90m, \u001b[39m13\u001b[90m, \u001b[39m9\u001b[90m, \u001b[39m16\u001b[90m, \u001b[39m14\u001b[90m, \u001b[39m15\u001b[90m, \u001b[39m19\u001b[90m, \u001b[39m12\u001b[90m, \u001b[39m14\u001b[90m, \u001b[39m…\n",
      "$ ST                 \u001b[3m\u001b[90m<int>\u001b[39m\u001b[23m 10\u001b[90m, \u001b[39m5\u001b[90m, \u001b[39m11\u001b[90m, \u001b[39m7\u001b[90m, \u001b[39m9\u001b[90m, \u001b[39m5\u001b[90m, \u001b[39m10\u001b[90m, \u001b[39m5\u001b[90m, \u001b[39m8\u001b[90m, \u001b[39m6\u001b[90m, \u001b[39m9\u001b[90m, \u001b[39m5\u001b[90m, \u001b[39m13\u001b[90m, \u001b[39m8\u001b[90m, \u001b[39m4\u001b[90m, \u001b[39m7\u001b[90m,\u001b[39m…\n",
      "$ BLK                \u001b[3m\u001b[90m<int>\u001b[39m\u001b[23m 2\u001b[90m, \u001b[39m3\u001b[90m, \u001b[39m2\u001b[90m, \u001b[39m2\u001b[90m, \u001b[39m1\u001b[90m, \u001b[39m3\u001b[90m, \u001b[39m3\u001b[90m, \u001b[39m3\u001b[90m, \u001b[39m1\u001b[90m, \u001b[39m3\u001b[90m, \u001b[39m3\u001b[90m, \u001b[39m1\u001b[90m, \u001b[39m2\u001b[90m, \u001b[39m2\u001b[90m, \u001b[39m3\u001b[90m, \u001b[39m4\u001b[90m, \u001b[39m2\u001b[90m, \u001b[39m…\n",
      "$ BLKA               \u001b[3m\u001b[90m<int>\u001b[39m\u001b[23m 3\u001b[90m, \u001b[39m2\u001b[90m, \u001b[39m2\u001b[90m, \u001b[39m2\u001b[90m, \u001b[39m3\u001b[90m, \u001b[39m1\u001b[90m, \u001b[39m3\u001b[90m, \u001b[39m3\u001b[90m, \u001b[39m3\u001b[90m, \u001b[39m1\u001b[90m, \u001b[39m1\u001b[90m, \u001b[39m3\u001b[90m, \u001b[39m2\u001b[90m, \u001b[39m2\u001b[90m, \u001b[39m4\u001b[90m, \u001b[39m3\u001b[90m, \u001b[39m4\u001b[90m, \u001b[39m…\n",
      "$ PF                 \u001b[3m\u001b[90m<int>\u001b[39m\u001b[23m 21\u001b[90m, \u001b[39m14\u001b[90m, \u001b[39m19\u001b[90m, \u001b[39m18\u001b[90m, \u001b[39m15\u001b[90m, \u001b[39m15\u001b[90m, \u001b[39m17\u001b[90m, \u001b[39m21\u001b[90m, \u001b[39m18\u001b[90m, \u001b[39m19\u001b[90m, \u001b[39m16\u001b[90m, \u001b[39m23\u001b[90m, \u001b[39m20\u001b[90m,\u001b[39m…\n",
      "$ DF                 \u001b[3m\u001b[90m<int>\u001b[39m\u001b[23m 14\u001b[90m, \u001b[39m21\u001b[90m, \u001b[39m18\u001b[90m, \u001b[39m19\u001b[90m, \u001b[39m15\u001b[90m, \u001b[39m15\u001b[90m, \u001b[39m21\u001b[90m, \u001b[39m17\u001b[90m, \u001b[39m19\u001b[90m, \u001b[39m17\u001b[90m, \u001b[39m22\u001b[90m, \u001b[39m16\u001b[90m, \u001b[39m17\u001b[90m,\u001b[39m…\n",
      "$ VAL                \u001b[3m\u001b[90m<int>\u001b[39m\u001b[23m 105\u001b[90m, \u001b[39m81\u001b[90m, \u001b[39m121\u001b[90m, \u001b[39m88\u001b[90m, \u001b[39m81\u001b[90m, \u001b[39m114\u001b[90m, \u001b[39m69\u001b[90m, \u001b[39m88\u001b[90m, \u001b[39m90\u001b[90m, \u001b[39m80\u001b[90m, \u001b[39m101\u001b[90m, \u001b[39m74\u001b[90m,\u001b[39m…\n",
      "$ `+ / -`            \u001b[3m\u001b[90m<int>\u001b[39m\u001b[23m 21\u001b[90m, \u001b[39m-21\u001b[90m, \u001b[39m15\u001b[90m, \u001b[39m-15\u001b[90m, \u001b[39m-17\u001b[90m, \u001b[39m17\u001b[90m, \u001b[39m-12\u001b[90m, \u001b[39m12\u001b[90m, \u001b[39m-3\u001b[90m, \u001b[39m3\u001b[90m, \u001b[39m-3\u001b[90m, \u001b[39m3\u001b[90m, \u001b[39m1…\n",
      "$ POSS               \u001b[3m\u001b[90m<int>\u001b[39m\u001b[23m 70\u001b[90m, \u001b[39m69\u001b[90m, \u001b[39m75\u001b[90m, \u001b[39m73\u001b[90m, \u001b[39m70\u001b[90m, \u001b[39m71\u001b[90m, \u001b[39m68\u001b[90m, \u001b[39m68\u001b[90m, \u001b[39m72\u001b[90m, \u001b[39m71\u001b[90m, \u001b[39m79\u001b[90m, \u001b[39m78\u001b[90m, \u001b[39m75\u001b[90m,\u001b[39m…\n",
      "$ `SHOOTING CHANCES` \u001b[3m\u001b[90m<dbl>\u001b[39m\u001b[23m 87\u001b[90m, \u001b[39m78\u001b[90m, \u001b[39m90\u001b[90m, \u001b[39m80\u001b[90m, \u001b[39m79\u001b[90m, \u001b[39m80\u001b[90m, \u001b[39m71\u001b[90m, \u001b[39m88\u001b[90m, \u001b[39m82\u001b[90m, \u001b[39m79\u001b[90m, \u001b[39m89\u001b[90m, \u001b[39m82\u001b[90m, \u001b[39m83\u001b[90m,\u001b[39m…\n",
      "$ `OFF PPP`          \u001b[3m\u001b[90m<dbl>\u001b[39m\u001b[23m 1.08\u001b[90m, \u001b[39m0.94\u001b[90m, \u001b[39m1.07\u001b[90m, \u001b[39m1.01\u001b[90m, \u001b[39m0.94\u001b[90m, \u001b[39m1.14\u001b[90m, \u001b[39m0.96\u001b[90m, \u001b[39m0.91\u001b[90m, \u001b[39m0.9…\n",
      "$ `DEF PPP`          \u001b[3m\u001b[90m<dbl>\u001b[39m\u001b[23m 0.94\u001b[90m, \u001b[39m1.08\u001b[90m, \u001b[39m1.01\u001b[90m, \u001b[39m1.07\u001b[90m, \u001b[39m1.14\u001b[90m, \u001b[39m0.94\u001b[90m, \u001b[39m0.91\u001b[90m, \u001b[39m0.96\u001b[90m, \u001b[39m1.0…\n",
      "$ `OFF RTG`          \u001b[3m\u001b[90m<dbl>\u001b[39m\u001b[23m 134.3\u001b[90m, \u001b[39m105.8\u001b[90m, \u001b[39m128.0\u001b[90m, \u001b[39m111.0\u001b[90m, \u001b[39m105.7\u001b[90m, \u001b[39m128.2\u001b[90m, \u001b[39m100.0\u001b[90m, \u001b[39m11…\n",
      "$ `DEF RTG`          \u001b[3m\u001b[90m<dbl>\u001b[39m\u001b[23m 105.8\u001b[90m, \u001b[39m134.3\u001b[90m, \u001b[39m111.0\u001b[90m, \u001b[39m128.0\u001b[90m, \u001b[39m128.2\u001b[90m, \u001b[39m105.7\u001b[90m, \u001b[39m117.6\u001b[90m, \u001b[39m10…\n",
      "$ `NET RTG`          \u001b[3m\u001b[90m<dbl>\u001b[39m\u001b[23m 28.5\u001b[90m, \u001b[39m-28.5\u001b[90m, \u001b[39m17.0\u001b[90m, \u001b[39m-17.0\u001b[90m, \u001b[39m-22.5\u001b[90m, \u001b[39m22.5\u001b[90m, \u001b[39m-17.6\u001b[90m, \u001b[39m17.6\u001b[90m,\u001b[39m…\n",
      "$ `eFG%`             \u001b[3m\u001b[90m<dbl>\u001b[39m\u001b[23m 0.58\u001b[90m, \u001b[39m0.56\u001b[90m, \u001b[39m0.59\u001b[90m, \u001b[39m0.60\u001b[90m, \u001b[39m0.53\u001b[90m, \u001b[39m0.66\u001b[90m, \u001b[39m0.49\u001b[90m, \u001b[39m0.54\u001b[90m, \u001b[39m0.5…\n",
      "$ `TS%`              \u001b[3m\u001b[90m<dbl>\u001b[39m\u001b[23m 0.61\u001b[90m, \u001b[39m0.59\u001b[90m, \u001b[39m0.62\u001b[90m, \u001b[39m0.63\u001b[90m, \u001b[39m0.54\u001b[90m, \u001b[39m0.68\u001b[90m, \u001b[39m0.55\u001b[90m, \u001b[39m0.56\u001b[90m, \u001b[39m0.5…\n",
      "$ `RIM FREQ`         \u001b[3m\u001b[90m<dbl>\u001b[39m\u001b[23m 0.07\u001b[90m, \u001b[39m0.10\u001b[90m, \u001b[39m0.11\u001b[90m, \u001b[39m0.09\u001b[90m, \u001b[39m0.06\u001b[90m, \u001b[39m0.14\u001b[90m, \u001b[39m0.04\u001b[90m, \u001b[39m0.13\u001b[90m, \u001b[39m0.1…\n",
      "$ `RIM PPS`          \u001b[3m\u001b[90m<dbl>\u001b[39m\u001b[23m 1.33\u001b[90m, \u001b[39m1.75\u001b[90m, \u001b[39m1.80\u001b[90m, \u001b[39m1.71\u001b[90m, \u001b[39m1.60\u001b[90m, \u001b[39m1.82\u001b[90m, \u001b[39m0.67\u001b[90m, \u001b[39m1.64\u001b[90m, \u001b[39m1.6…\n",
      "$ `PAINT FREQ`       \u001b[3m\u001b[90m<dbl>\u001b[39m\u001b[23m 0.30\u001b[90m, \u001b[39m0.19\u001b[90m, \u001b[39m0.31\u001b[90m, \u001b[39m0.34\u001b[90m, \u001b[39m0.37\u001b[90m, \u001b[39m0.35\u001b[90m, \u001b[39m0.27\u001b[90m, \u001b[39m0.19\u001b[90m, \u001b[39m0.2…\n",
      "$ `PAINT PPS`        \u001b[3m\u001b[90m<dbl>\u001b[39m\u001b[23m 0.77\u001b[90m, \u001b[39m0.80\u001b[90m, \u001b[39m1.07\u001b[90m, \u001b[39m1.33\u001b[90m, \u001b[39m1.10\u001b[90m, \u001b[39m1.43\u001b[90m, \u001b[39m1.26\u001b[90m, \u001b[39m1.06\u001b[90m, \u001b[39m1.1…\n",
      "$ `MID FREQ`         \u001b[3m\u001b[90m<dbl>\u001b[39m\u001b[23m 0.06\u001b[90m, \u001b[39m0.08\u001b[90m, \u001b[39m0.06\u001b[90m, \u001b[39m0.06\u001b[90m, \u001b[39m0.08\u001b[90m, \u001b[39m0.04\u001b[90m, \u001b[39m0.11\u001b[90m, \u001b[39m0.09\u001b[90m, \u001b[39m0.0…\n",
      "$ `MID PPS`          \u001b[3m\u001b[90m<dbl>\u001b[39m\u001b[23m 0.80\u001b[90m, \u001b[39m1.33\u001b[90m, \u001b[39m1.20\u001b[90m, \u001b[39m0.80\u001b[90m, \u001b[39m0.67\u001b[90m, \u001b[39m1.33\u001b[90m, \u001b[39m0.75\u001b[90m, \u001b[39m1.25\u001b[90m, \u001b[39m0.5…\n",
      "$ `C3 FREQ`          \u001b[3m\u001b[90m<dbl>\u001b[39m\u001b[23m 0.01\u001b[90m, \u001b[39m0.05\u001b[90m, \u001b[39m0.04\u001b[90m, \u001b[39m0.03\u001b[90m, \u001b[39m0.08\u001b[90m, \u001b[39m0.03\u001b[90m, \u001b[39m0.03\u001b[90m, \u001b[39m0.06\u001b[90m, \u001b[39m0.0…\n",
      "$ `C3 PPS`           \u001b[3m\u001b[90m<dbl>\u001b[39m\u001b[23m 3.00\u001b[90m, \u001b[39m1.50\u001b[90m, \u001b[39m0.00\u001b[90m, \u001b[39m0.00\u001b[90m, \u001b[39m1.50\u001b[90m, \u001b[39m3.00\u001b[90m, \u001b[39m0.00\u001b[90m, \u001b[39m0.00\u001b[90m, \u001b[39m\u001b[31mNA\u001b[39m\u001b[90m,\u001b[39m…\n",
      "$ `L3 FREQ`          \u001b[3m\u001b[90m<dbl>\u001b[39m\u001b[23m 0.38\u001b[90m, \u001b[39m0.27\u001b[90m, \u001b[39m0.24\u001b[90m, \u001b[39m0.19\u001b[90m, \u001b[39m0.27\u001b[90m, \u001b[39m0.23\u001b[90m, \u001b[39m0.31\u001b[90m, \u001b[39m0.30\u001b[90m, \u001b[39m0.2…\n",
      "$ `L3 PPS`           \u001b[3m\u001b[90m<dbl>\u001b[39m\u001b[23m 1.45\u001b[90m, \u001b[39m1.00\u001b[90m, \u001b[39m1.23\u001b[90m, \u001b[39m1.00\u001b[90m, \u001b[39m0.86\u001b[90m, \u001b[39m0.67\u001b[90m, \u001b[39m0.95\u001b[90m, \u001b[39m1.04\u001b[90m, \u001b[39m1.0…\n",
      "$ `FT Ratio`         \u001b[3m\u001b[90m<dbl>\u001b[39m\u001b[23m 0.07\u001b[90m, \u001b[39m0.10\u001b[90m, \u001b[39m0.10\u001b[90m, \u001b[39m0.10\u001b[90m, \u001b[39m0.03\u001b[90m, \u001b[39m0.06\u001b[90m, \u001b[39m0.11\u001b[90m, \u001b[39m0.06\u001b[90m, \u001b[39m0.0…\n",
      "$ `TO%`              \u001b[3m\u001b[90m<dbl>\u001b[39m\u001b[23m 0.11\u001b[90m, \u001b[39m0.21\u001b[90m, \u001b[39m0.13\u001b[90m, \u001b[39m0.20\u001b[90m, \u001b[39m0.13\u001b[90m, \u001b[39m0.16\u001b[90m, \u001b[39m0.13\u001b[90m, \u001b[39m0.18\u001b[90m, \u001b[39m0.1…\n",
      "$ `LTO%`             \u001b[3m\u001b[90m<dbl>\u001b[39m\u001b[23m 0.06\u001b[90m, \u001b[39m0.13\u001b[90m, \u001b[39m0.08\u001b[90m, \u001b[39m0.14\u001b[90m, \u001b[39m0.06\u001b[90m, \u001b[39m0.11\u001b[90m, \u001b[39m0.07\u001b[90m, \u001b[39m0.11\u001b[90m, \u001b[39m0.0…\n",
      "$ `DTO%`             \u001b[3m\u001b[90m<dbl>\u001b[39m\u001b[23m 0.06\u001b[90m, \u001b[39m0.08\u001b[90m, \u001b[39m0.06\u001b[90m, \u001b[39m0.06\u001b[90m, \u001b[39m0.06\u001b[90m, \u001b[39m0.05\u001b[90m, \u001b[39m0.06\u001b[90m, \u001b[39m0.07\u001b[90m, \u001b[39m0.1…\n",
      "$ `AST%`             \u001b[3m\u001b[90m<dbl>\u001b[39m\u001b[23m 0.46\u001b[90m, \u001b[39m0.52\u001b[90m, \u001b[39m0.69\u001b[90m, \u001b[39m0.47\u001b[90m, \u001b[39m0.73\u001b[90m, \u001b[39m0.49\u001b[90m, \u001b[39m0.47\u001b[90m, \u001b[39m0.33\u001b[90m, \u001b[39m0.6…\n",
      "$ `AST% (2P)`        \u001b[3m\u001b[90m<dbl>\u001b[39m\u001b[23m 0.38\u001b[90m, \u001b[39m0.41\u001b[90m, \u001b[39m0.74\u001b[90m, \u001b[39m0.42\u001b[90m, \u001b[39m0.68\u001b[90m, \u001b[39m0.53\u001b[90m, \u001b[39m0.50\u001b[90m, \u001b[39m0.22\u001b[90m, \u001b[39m0.5…\n",
      "$ `AST% (3P)`        \u001b[3m\u001b[90m<dbl>\u001b[39m\u001b[23m 0.59\u001b[90m, \u001b[39m0.78\u001b[90m, \u001b[39m0.56\u001b[90m, \u001b[39m0.80\u001b[90m, \u001b[39m0.89\u001b[90m, \u001b[39m0.67\u001b[90m, \u001b[39m0.71\u001b[90m, \u001b[39m0.67\u001b[90m, \u001b[39m1.0…\n",
      "$ `AST% (FT)`        \u001b[3m\u001b[90m<dbl>\u001b[39m\u001b[23m 0.33\u001b[90m, \u001b[39m0.43\u001b[90m, \u001b[39m0.67\u001b[90m, \u001b[39m0.43\u001b[90m, \u001b[39m0.50\u001b[90m, \u001b[39m0.00\u001b[90m, \u001b[39m0.14\u001b[90m, \u001b[39m0.25\u001b[90m, \u001b[39m0.2…\n",
      "$ `AST Ratio`        \u001b[3m\u001b[90m<dbl>\u001b[39m\u001b[23m 0.22\u001b[90m, \u001b[39m0.22\u001b[90m, \u001b[39m0.34\u001b[90m, \u001b[39m0.23\u001b[90m, \u001b[39m0.30\u001b[90m, \u001b[39m0.26\u001b[90m, \u001b[39m0.20\u001b[90m, \u001b[39m0.14\u001b[90m, \u001b[39m0.2…\n",
      "$ `AST/TO`           \u001b[3m\u001b[90m<dbl>\u001b[39m\u001b[23m 1.90\u001b[90m, \u001b[39m1.06\u001b[90m, \u001b[39m2.58\u001b[90m, \u001b[39m1.13\u001b[90m, \u001b[39m2.40\u001b[90m, \u001b[39m1.62\u001b[90m, \u001b[39m1.56\u001b[90m, \u001b[39m0.75\u001b[90m, \u001b[39m1.5…\n",
      "$ `OR%`              \u001b[3m\u001b[90m<dbl>\u001b[39m\u001b[23m 0.44\u001b[90m, \u001b[39m0.28\u001b[90m, \u001b[39m0.44\u001b[90m, \u001b[39m0.27\u001b[90m, \u001b[39m0.26\u001b[90m, \u001b[39m0.36\u001b[90m, \u001b[39m0.09\u001b[90m, \u001b[39m0.59\u001b[90m, \u001b[39m0.3…\n",
      "$ `OR% (after 2P)`   \u001b[3m\u001b[90m<dbl>\u001b[39m\u001b[23m 0.52\u001b[90m, \u001b[39m0.36\u001b[90m, \u001b[39m0.40\u001b[90m, \u001b[39m0.31\u001b[90m, \u001b[39m0.39\u001b[90m, \u001b[39m0.50\u001b[90m, \u001b[39m0.00\u001b[90m, \u001b[39m0.46\u001b[90m, \u001b[39m0.2…\n",
      "$ `OR% (after 3P)`   \u001b[3m\u001b[90m<dbl>\u001b[39m\u001b[23m 0.31\u001b[90m, \u001b[39m0.25\u001b[90m, \u001b[39m0.53\u001b[90m, \u001b[39m0.25\u001b[90m, \u001b[39m0.12\u001b[90m, \u001b[39m0.31\u001b[90m, \u001b[39m0.18\u001b[90m, \u001b[39m0.70\u001b[90m, \u001b[39m0.4…\n",
      "$ `OR% (after FT)`   \u001b[3m\u001b[90m<dbl>\u001b[39m\u001b[23m 0.50\u001b[90m, \u001b[39m0.00\u001b[90m, \u001b[39m0.00\u001b[90m, \u001b[39m0.00\u001b[90m, \u001b[39m\u001b[31mNA\u001b[39m\u001b[90m, \u001b[39m0.00\u001b[90m, \u001b[39m0.00\u001b[90m, \u001b[39m\u001b[31mNA\u001b[39m\u001b[90m, \u001b[39m0.50\u001b[90m, \u001b[39m0…\n",
      "$ `DR%`              \u001b[3m\u001b[90m<dbl>\u001b[39m\u001b[23m 0.72\u001b[90m, \u001b[39m0.56\u001b[90m, \u001b[39m0.73\u001b[90m, \u001b[39m0.56\u001b[90m, \u001b[39m0.64\u001b[90m, \u001b[39m0.74\u001b[90m, \u001b[39m0.41\u001b[90m, \u001b[39m0.91\u001b[90m, \u001b[39m0.7…\n",
      "$ `DR% (after 2P)`   \u001b[3m\u001b[90m<dbl>\u001b[39m\u001b[23m 0.64\u001b[90m, \u001b[39m0.48\u001b[90m, \u001b[39m0.69\u001b[90m, \u001b[39m0.60\u001b[90m, \u001b[39m0.50\u001b[90m, \u001b[39m0.61\u001b[90m, \u001b[39m0.54\u001b[90m, \u001b[39m1.00\u001b[90m, \u001b[39m0.7…\n",
      "$ `DR% (after 3P)`   \u001b[3m\u001b[90m<dbl>\u001b[39m\u001b[23m 0.75\u001b[90m, \u001b[39m0.69\u001b[90m, \u001b[39m0.75\u001b[90m, \u001b[39m0.47\u001b[90m, \u001b[39m0.69\u001b[90m, \u001b[39m0.88\u001b[90m, \u001b[39m0.30\u001b[90m, \u001b[39m0.82\u001b[90m, \u001b[39m0.8…\n",
      "$ `DR% (after FT)`   \u001b[3m\u001b[90m<dbl>\u001b[39m\u001b[23m 1.00\u001b[90m, \u001b[39m0.50\u001b[90m, \u001b[39m1.00\u001b[90m, \u001b[39m1.00\u001b[90m, \u001b[39m1.00\u001b[90m, \u001b[39m\u001b[31mNA\u001b[39m\u001b[90m, \u001b[39m\u001b[31mNA\u001b[39m\u001b[90m, \u001b[39m1.00\u001b[90m, \u001b[39m0.50\u001b[90m, \u001b[39m0…\n",
      "$ `TR%`              \u001b[3m\u001b[90m<dbl>\u001b[39m\u001b[23m 0.56\u001b[90m, \u001b[39m0.44\u001b[90m, \u001b[39m0.57\u001b[90m, \u001b[39m0.43\u001b[90m, \u001b[39m0.42\u001b[90m, \u001b[39m0.58\u001b[90m, \u001b[39m0.26\u001b[90m, \u001b[39m0.74\u001b[90m, \u001b[39m0.5…\n",
      "$ `ST%`              \u001b[3m\u001b[90m<dbl>\u001b[39m\u001b[23m 0.14\u001b[90m, \u001b[39m0.07\u001b[90m, \u001b[39m0.15\u001b[90m, \u001b[39m0.09\u001b[90m, \u001b[39m0.13\u001b[90m, \u001b[39m0.07\u001b[90m, \u001b[39m0.15\u001b[90m, \u001b[39m0.07\u001b[90m, \u001b[39m0.1…\n",
      "$ `BLK%`             \u001b[3m\u001b[90m<dbl>\u001b[39m\u001b[23m 0.04\u001b[90m, \u001b[39m0.04\u001b[90m, \u001b[39m0.04\u001b[90m, \u001b[39m0.03\u001b[90m, \u001b[39m0.02\u001b[90m, \u001b[39m0.04\u001b[90m, \u001b[39m0.04\u001b[90m, \u001b[39m0.06\u001b[90m, \u001b[39m0.0…\n",
      "$ `BLK% (2P)`        \u001b[3m\u001b[90m<dbl>\u001b[39m\u001b[23m 0.00\u001b[90m, \u001b[39m0.00\u001b[90m, \u001b[39m0.00\u001b[90m, \u001b[39m0.00\u001b[90m, \u001b[39m0.02\u001b[90m, \u001b[39m0.08\u001b[90m, \u001b[39m0.08\u001b[90m, \u001b[39m0.10\u001b[90m, \u001b[39m0.0…\n",
      "$ `BLK% (3P)`        \u001b[3m\u001b[90m<dbl>\u001b[39m\u001b[23m 0.00\u001b[90m, \u001b[39m0.00\u001b[90m, \u001b[39m0.00\u001b[90m, \u001b[39m0.00\u001b[90m, \u001b[39m0.00\u001b[90m, \u001b[39m0.00\u001b[90m, \u001b[39m0.00\u001b[90m, \u001b[39m0.00\u001b[90m, \u001b[39m0.0…\n",
      "$ KILLS              \u001b[3m\u001b[90m<int>\u001b[39m\u001b[23m 4\u001b[90m, \u001b[39m3\u001b[90m, \u001b[39m5\u001b[90m, \u001b[39m4\u001b[90m, \u001b[39m1\u001b[90m, \u001b[39m5\u001b[90m, \u001b[39m5\u001b[90m, \u001b[39m7\u001b[90m, \u001b[39m6\u001b[90m, \u001b[39m5\u001b[90m, \u001b[39m5\u001b[90m, \u001b[39m6\u001b[90m, \u001b[39m7\u001b[90m, \u001b[39m8\u001b[90m, \u001b[39m8\u001b[90m, \u001b[39m7\u001b[90m, \u001b[39m5\u001b[90m, \u001b[39m…\n",
      "$ `PSF FREQ`         \u001b[3m\u001b[90m<dbl>\u001b[39m\u001b[23m 0.43\u001b[90m, \u001b[39m1.00\u001b[90m, \u001b[39m1.00\u001b[90m, \u001b[39m1.00\u001b[90m, \u001b[39m0.00\u001b[90m, \u001b[39m0.00\u001b[90m, \u001b[39m0.00\u001b[90m, \u001b[39m0.00\u001b[90m, \u001b[39m1.0…\n",
      "$ `DSF FREQ`         \u001b[3m\u001b[90m<dbl>\u001b[39m\u001b[23m 0.50\u001b[90m, \u001b[39m0.00\u001b[90m, \u001b[39m1.00\u001b[90m, \u001b[39m1.00\u001b[90m, \u001b[39m0.00\u001b[90m, \u001b[39m0.00\u001b[90m, \u001b[39m0.00\u001b[90m, \u001b[39m0.00\u001b[90m, \u001b[39m0.0…\n",
      "$ ASTED_2FG          \u001b[3m\u001b[90m<int>\u001b[39m\u001b[23m 6\u001b[90m, \u001b[39m7\u001b[90m, \u001b[39m20\u001b[90m, \u001b[39m11\u001b[90m, \u001b[39m15\u001b[90m, \u001b[39m17\u001b[90m, \u001b[39m8\u001b[90m, \u001b[39m5\u001b[90m, \u001b[39m12\u001b[90m, \u001b[39m5\u001b[90m, \u001b[39m8\u001b[90m, \u001b[39m7\u001b[90m, \u001b[39m12\u001b[90m, \u001b[39m6\u001b[90m, \u001b[39m12\u001b[90m,\u001b[39m…\n",
      "$ ASTED_3FG          \u001b[3m\u001b[90m<int>\u001b[39m\u001b[23m 10\u001b[90m, \u001b[39m7\u001b[90m, \u001b[39m5\u001b[90m, \u001b[39m4\u001b[90m, \u001b[39m8\u001b[90m, \u001b[39m4\u001b[90m, \u001b[39m5\u001b[90m, \u001b[39m6\u001b[90m, \u001b[39m8\u001b[90m, \u001b[39m6\u001b[90m, \u001b[39m10\u001b[90m, \u001b[39m8\u001b[90m, \u001b[39m8\u001b[90m, \u001b[39m7\u001b[90m, \u001b[39m5\u001b[90m, \u001b[39m10\u001b[90m, \u001b[39m…\n",
      "$ ASTED_FT           \u001b[3m\u001b[90m<int>\u001b[39m\u001b[23m 2\u001b[90m, \u001b[39m3\u001b[90m, \u001b[39m6\u001b[90m, \u001b[39m3\u001b[90m, \u001b[39m1\u001b[90m, \u001b[39m0\u001b[90m, \u001b[39m1\u001b[90m, \u001b[39m1\u001b[90m, \u001b[39m1\u001b[90m, \u001b[39m0\u001b[90m, \u001b[39m0\u001b[90m, \u001b[39m0\u001b[90m, \u001b[39m0\u001b[90m, \u001b[39m2\u001b[90m, \u001b[39m1\u001b[90m, \u001b[39m2\u001b[90m, \u001b[39m0\u001b[90m, \u001b[39m…\n",
      "$ `ASTED_FT PTS`     \u001b[3m\u001b[90m<int>\u001b[39m\u001b[23m 2\u001b[90m, \u001b[39m3\u001b[90m, \u001b[39m10\u001b[90m, \u001b[39m6\u001b[90m, \u001b[39m1\u001b[90m, \u001b[39m0\u001b[90m, \u001b[39m2\u001b[90m, \u001b[39m2\u001b[90m, \u001b[39m0\u001b[90m, \u001b[39m0\u001b[90m, \u001b[39m0\u001b[90m, \u001b[39m0\u001b[90m, \u001b[39m0\u001b[90m, \u001b[39m4\u001b[90m, \u001b[39m2\u001b[90m, \u001b[39m4\u001b[90m, \u001b[39m0\u001b[90m,\u001b[39m…\n",
      "$ LTO                \u001b[3m\u001b[90m<int>\u001b[39m\u001b[23m 5\u001b[90m, \u001b[39m10\u001b[90m, \u001b[39m7\u001b[90m, \u001b[39m11\u001b[90m, \u001b[39m5\u001b[90m, \u001b[39m9\u001b[90m, \u001b[39m5\u001b[90m, \u001b[39m10\u001b[90m, \u001b[39m6\u001b[90m, \u001b[39m8\u001b[90m, \u001b[39m5\u001b[90m, \u001b[39m9\u001b[90m, \u001b[39m8\u001b[90m, \u001b[39m13\u001b[90m, \u001b[39m7\u001b[90m, \u001b[39m4\u001b[90m,\u001b[39m…\n",
      "$ DTO                \u001b[3m\u001b[90m<int>\u001b[39m\u001b[23m 5\u001b[90m, \u001b[39m6\u001b[90m, \u001b[39m5\u001b[90m, \u001b[39m5\u001b[90m, \u001b[39m5\u001b[90m, \u001b[39m4\u001b[90m, \u001b[39m4\u001b[90m, \u001b[39m6\u001b[90m, \u001b[39m8\u001b[90m, \u001b[39m7\u001b[90m, \u001b[39m14\u001b[90m, \u001b[39m3\u001b[90m, \u001b[39m6\u001b[90m, \u001b[39m6\u001b[90m, \u001b[39m5\u001b[90m, \u001b[39m5\u001b[90m, \u001b[39m11…\n",
      "$ BLK2               \u001b[3m\u001b[90m<int>\u001b[39m\u001b[23m 0\u001b[90m, \u001b[39m0\u001b[90m, \u001b[39m0\u001b[90m, \u001b[39m0\u001b[90m, \u001b[39m1\u001b[90m, \u001b[39m3\u001b[90m, \u001b[39m3\u001b[90m, \u001b[39m3\u001b[90m, \u001b[39m1\u001b[90m, \u001b[39m2\u001b[90m, \u001b[39m1\u001b[90m, \u001b[39m0\u001b[90m, \u001b[39m2\u001b[90m, \u001b[39m2\u001b[90m, \u001b[39m3\u001b[90m, \u001b[39m4\u001b[90m, \u001b[39m1\u001b[90m, \u001b[39m…\n",
      "$ BLK3               \u001b[3m\u001b[90m<int>\u001b[39m\u001b[23m 0\u001b[90m, \u001b[39m0\u001b[90m, \u001b[39m0\u001b[90m, \u001b[39m0\u001b[90m, \u001b[39m0\u001b[90m, \u001b[39m0\u001b[90m, \u001b[39m0\u001b[90m, \u001b[39m0\u001b[90m, \u001b[39m0\u001b[90m, \u001b[39m1\u001b[90m, \u001b[39m0\u001b[90m, \u001b[39m0\u001b[90m, \u001b[39m0\u001b[90m, \u001b[39m0\u001b[90m, \u001b[39m0\u001b[90m, \u001b[39m0\u001b[90m, \u001b[39m1\u001b[90m, \u001b[39m…\n",
      "$ OR_RIM             \u001b[3m\u001b[90m<int>\u001b[39m\u001b[23m 2\u001b[90m, \u001b[39m1\u001b[90m, \u001b[39m0\u001b[90m, \u001b[39m1\u001b[90m, \u001b[39m0\u001b[90m, \u001b[39m1\u001b[90m, \u001b[39m0\u001b[90m, \u001b[39m1\u001b[90m, \u001b[39m0\u001b[90m, \u001b[39m3\u001b[90m, \u001b[39m1\u001b[90m, \u001b[39m2\u001b[90m, \u001b[39m2\u001b[90m, \u001b[39m1\u001b[90m, \u001b[39m1\u001b[90m, \u001b[39m0\u001b[90m, \u001b[39m0\u001b[90m, \u001b[39m…\n",
      "$ `TM OR_RIM`        \u001b[3m\u001b[90m<int>\u001b[39m\u001b[23m 0\u001b[90m, \u001b[39m0\u001b[90m, \u001b[39m0\u001b[90m, \u001b[39m0\u001b[90m, \u001b[39m0\u001b[90m, \u001b[39m0\u001b[90m, \u001b[39m0\u001b[90m, \u001b[39m0\u001b[90m, \u001b[39m0\u001b[90m, \u001b[39m0\u001b[90m, \u001b[39m0\u001b[90m, \u001b[39m0\u001b[90m, \u001b[39m1\u001b[90m, \u001b[39m0\u001b[90m, \u001b[39m0\u001b[90m, \u001b[39m0\u001b[90m, \u001b[39m1\u001b[90m, \u001b[39m…\n",
      "$ OR_PAINT           \u001b[3m\u001b[90m<int>\u001b[39m\u001b[23m 7\u001b[90m, \u001b[39m3\u001b[90m, \u001b[39m3\u001b[90m, \u001b[39m1\u001b[90m, \u001b[39m5\u001b[90m, \u001b[39m3\u001b[90m, \u001b[39m0\u001b[90m, \u001b[39m3\u001b[90m, \u001b[39m1\u001b[90m, \u001b[39m2\u001b[90m, \u001b[39m3\u001b[90m, \u001b[39m1\u001b[90m, \u001b[39m1\u001b[90m, \u001b[39m2\u001b[90m, \u001b[39m6\u001b[90m, \u001b[39m1\u001b[90m, \u001b[39m3\u001b[90m, \u001b[39m…\n",
      "$ `TM OR_PAINT`      \u001b[3m\u001b[90m<int>\u001b[39m\u001b[23m 0\u001b[90m, \u001b[39m0\u001b[90m, \u001b[39m3\u001b[90m, \u001b[39m1\u001b[90m, \u001b[39m1\u001b[90m, \u001b[39m0\u001b[90m, \u001b[39m0\u001b[90m, \u001b[39m1\u001b[90m, \u001b[39m0\u001b[90m, \u001b[39m1\u001b[90m, \u001b[39m0\u001b[90m, \u001b[39m0\u001b[90m, \u001b[39m0\u001b[90m, \u001b[39m0\u001b[90m, \u001b[39m2\u001b[90m, \u001b[39m2\u001b[90m, \u001b[39m0\u001b[90m, \u001b[39m…\n",
      "$ OR_NP2             \u001b[3m\u001b[90m<int>\u001b[39m\u001b[23m 1\u001b[90m, \u001b[39m0\u001b[90m, \u001b[39m0\u001b[90m, \u001b[39m1\u001b[90m, \u001b[39m1\u001b[90m, \u001b[39m1\u001b[90m, \u001b[39m0\u001b[90m, \u001b[39m1\u001b[90m, \u001b[39m2\u001b[90m, \u001b[39m0\u001b[90m, \u001b[39m0\u001b[90m, \u001b[39m0\u001b[90m, \u001b[39m0\u001b[90m, \u001b[39m2\u001b[90m, \u001b[39m1\u001b[90m, \u001b[39m0\u001b[90m, \u001b[39m0\u001b[90m, \u001b[39m…\n",
      "$ `TM OR_NP2`        \u001b[3m\u001b[90m<int>\u001b[39m\u001b[23m 1\u001b[90m, \u001b[39m0\u001b[90m, \u001b[39m0\u001b[90m, \u001b[39m0\u001b[90m, \u001b[39m0\u001b[90m, \u001b[39m0\u001b[90m, \u001b[39m0\u001b[90m, \u001b[39m0\u001b[90m, \u001b[39m0\u001b[90m, \u001b[39m0\u001b[90m, \u001b[39m0\u001b[90m, \u001b[39m0\u001b[90m, \u001b[39m0\u001b[90m, \u001b[39m0\u001b[90m, \u001b[39m0\u001b[90m, \u001b[39m0\u001b[90m, \u001b[39m0\u001b[90m, \u001b[39m…\n",
      "$ OR_3C              \u001b[3m\u001b[90m<int>\u001b[39m\u001b[23m 0\u001b[90m, \u001b[39m0\u001b[90m, \u001b[39m1\u001b[90m, \u001b[39m1\u001b[90m, \u001b[39m0\u001b[90m, \u001b[39m0\u001b[90m, \u001b[39m0\u001b[90m, \u001b[39m2\u001b[90m, \u001b[39m0\u001b[90m, \u001b[39m0\u001b[90m, \u001b[39m0\u001b[90m, \u001b[39m0\u001b[90m, \u001b[39m2\u001b[90m, \u001b[39m0\u001b[90m, \u001b[39m0\u001b[90m, \u001b[39m0\u001b[90m, \u001b[39m0\u001b[90m, \u001b[39m…\n",
      "$ `TM OR_3C`         \u001b[3m\u001b[90m<int>\u001b[39m\u001b[23m 0\u001b[90m, \u001b[39m0\u001b[90m, \u001b[39m0\u001b[90m, \u001b[39m0\u001b[90m, \u001b[39m0\u001b[90m, \u001b[39m0\u001b[90m, \u001b[39m0\u001b[90m, \u001b[39m1\u001b[90m, \u001b[39m0\u001b[90m, \u001b[39m0\u001b[90m, \u001b[39m1\u001b[90m, \u001b[39m0\u001b[90m, \u001b[39m0\u001b[90m, \u001b[39m0\u001b[90m, \u001b[39m0\u001b[90m, \u001b[39m0\u001b[90m, \u001b[39m0\u001b[90m, \u001b[39m…\n",
      "$ OR_3L              \u001b[3m\u001b[90m<int>\u001b[39m\u001b[23m 4\u001b[90m, \u001b[39m4\u001b[90m, \u001b[39m6\u001b[90m, \u001b[39m1\u001b[90m, \u001b[39m0\u001b[90m, \u001b[39m4\u001b[90m, \u001b[39m2\u001b[90m, \u001b[39m9\u001b[90m, \u001b[39m5\u001b[90m, \u001b[39m1\u001b[90m, \u001b[39m3\u001b[90m, \u001b[39m1\u001b[90m, \u001b[39m2\u001b[90m, \u001b[39m2\u001b[90m, \u001b[39m10\u001b[90m, \u001b[39m5\u001b[90m, \u001b[39m5\u001b[90m,\u001b[39m…\n",
      "$ `TM OR_3L`         \u001b[3m\u001b[90m<int>\u001b[39m\u001b[23m 1\u001b[90m, \u001b[39m0\u001b[90m, \u001b[39m2\u001b[90m, \u001b[39m1\u001b[90m, \u001b[39m2\u001b[90m, \u001b[39m0\u001b[90m, \u001b[39m1\u001b[90m, \u001b[39m2\u001b[90m, \u001b[39m1\u001b[90m, \u001b[39m0\u001b[90m, \u001b[39m0\u001b[90m, \u001b[39m0\u001b[90m, \u001b[39m0\u001b[90m, \u001b[39m0\u001b[90m, \u001b[39m0\u001b[90m, \u001b[39m1\u001b[90m, \u001b[39m2\u001b[90m, \u001b[39m…\n",
      "$ OR_FT              \u001b[3m\u001b[90m<int>\u001b[39m\u001b[23m 1\u001b[90m, \u001b[39m0\u001b[90m, \u001b[39m0\u001b[90m, \u001b[39m0\u001b[90m, \u001b[39m0\u001b[90m, \u001b[39m0\u001b[90m, \u001b[39m0\u001b[90m, \u001b[39m0\u001b[90m, \u001b[39m1\u001b[90m, \u001b[39m1\u001b[90m, \u001b[39m1\u001b[90m, \u001b[39m0\u001b[90m, \u001b[39m0\u001b[90m, \u001b[39m0\u001b[90m, \u001b[39m1\u001b[90m, \u001b[39m0\u001b[90m, \u001b[39m0\u001b[90m, \u001b[39m…\n",
      "$ `TM OR_FT`         \u001b[3m\u001b[90m<int>\u001b[39m\u001b[23m 0\u001b[90m, \u001b[39m0\u001b[90m, \u001b[39m0\u001b[90m, \u001b[39m0\u001b[90m, \u001b[39m0\u001b[90m, \u001b[39m0\u001b[90m, \u001b[39m0\u001b[90m, \u001b[39m0\u001b[90m, \u001b[39m0\u001b[90m, \u001b[39m0\u001b[90m, \u001b[39m0\u001b[90m, \u001b[39m0\u001b[90m, \u001b[39m0\u001b[90m, \u001b[39m0\u001b[90m, \u001b[39m0\u001b[90m, \u001b[39m0\u001b[90m, \u001b[39m0\u001b[90m, \u001b[39m…\n",
      "$ DR_RIM             \u001b[3m\u001b[90m<int>\u001b[39m\u001b[23m 0\u001b[90m, \u001b[39m0\u001b[90m, \u001b[39m0\u001b[90m, \u001b[39m0\u001b[90m, \u001b[39m0\u001b[90m, \u001b[39m1\u001b[90m, \u001b[39m1\u001b[90m, \u001b[39m2\u001b[90m, \u001b[39m2\u001b[90m, \u001b[39m2\u001b[90m, \u001b[39m2\u001b[90m, \u001b[39m3\u001b[90m, \u001b[39m3\u001b[90m, \u001b[39m4\u001b[90m, \u001b[39m1\u001b[90m, \u001b[39m0\u001b[90m, \u001b[39m2\u001b[90m, \u001b[39m…\n",
      "$ `TM DR_RIM`        \u001b[3m\u001b[90m<int>\u001b[39m\u001b[23m 0\u001b[90m, \u001b[39m0\u001b[90m, \u001b[39m0\u001b[90m, \u001b[39m1\u001b[90m, \u001b[39m0\u001b[90m, \u001b[39m0\u001b[90m, \u001b[39m0\u001b[90m, \u001b[39m0\u001b[90m, \u001b[39m0\u001b[90m, \u001b[39m0\u001b[90m, \u001b[39m0\u001b[90m, \u001b[39m0\u001b[90m, \u001b[39m0\u001b[90m, \u001b[39m0\u001b[90m, \u001b[39m0\u001b[90m, \u001b[39m0\u001b[90m, \u001b[39m0\u001b[90m, \u001b[39m…\n",
      "$ DR_PAINT           \u001b[3m\u001b[90m<int>\u001b[39m\u001b[23m 5\u001b[90m, \u001b[39m6\u001b[90m, \u001b[39m6\u001b[90m, \u001b[39m6\u001b[90m, \u001b[39m5\u001b[90m, \u001b[39m6\u001b[90m, \u001b[39m4\u001b[90m, \u001b[39m7\u001b[90m, \u001b[39m9\u001b[90m, \u001b[39m8\u001b[90m, \u001b[39m4\u001b[90m, \u001b[39m7\u001b[90m, \u001b[39m4\u001b[90m, \u001b[39m6\u001b[90m, \u001b[39m8\u001b[90m, \u001b[39m9\u001b[90m, \u001b[39m4\u001b[90m, \u001b[39m…\n",
      "$ `TM DR_PAINT`      \u001b[3m\u001b[90m<int>\u001b[39m\u001b[23m 0\u001b[90m, \u001b[39m3\u001b[90m, \u001b[39m1\u001b[90m, \u001b[39m0\u001b[90m, \u001b[39m0\u001b[90m, \u001b[39m1\u001b[90m, \u001b[39m0\u001b[90m, \u001b[39m0\u001b[90m, \u001b[39m1\u001b[90m, \u001b[39m0\u001b[90m, \u001b[39m1\u001b[90m, \u001b[39m0\u001b[90m, \u001b[39m0\u001b[90m, \u001b[39m0\u001b[90m, \u001b[39m0\u001b[90m, \u001b[39m1\u001b[90m, \u001b[39m0\u001b[90m, \u001b[39m…\n",
      "$ DR_NP2             \u001b[3m\u001b[90m<int>\u001b[39m\u001b[23m 1\u001b[90m, \u001b[39m1\u001b[90m, \u001b[39m2\u001b[90m, \u001b[39m2\u001b[90m, \u001b[39m0\u001b[90m, \u001b[39m3\u001b[90m, \u001b[39m2\u001b[90m, \u001b[39m5\u001b[90m, \u001b[39m3\u001b[90m, \u001b[39m1\u001b[90m, \u001b[39m6\u001b[90m, \u001b[39m3\u001b[90m, \u001b[39m3\u001b[90m, \u001b[39m1\u001b[90m, \u001b[39m4\u001b[90m, \u001b[39m7\u001b[90m, \u001b[39m3\u001b[90m, \u001b[39m…\n",
      "$ `TM DR_NP2`        \u001b[3m\u001b[90m<int>\u001b[39m\u001b[23m 1\u001b[90m, \u001b[39m0\u001b[90m, \u001b[39m0\u001b[90m, \u001b[39m0\u001b[90m, \u001b[39m0\u001b[90m, \u001b[39m0\u001b[90m, \u001b[39m0\u001b[90m, \u001b[39m0\u001b[90m, \u001b[39m0\u001b[90m, \u001b[39m1\u001b[90m, \u001b[39m0\u001b[90m, \u001b[39m1\u001b[90m, \u001b[39m0\u001b[90m, \u001b[39m0\u001b[90m, \u001b[39m0\u001b[90m, \u001b[39m0\u001b[90m, \u001b[39m1\u001b[90m, \u001b[39m…\n",
      "$ DR_3C              \u001b[3m\u001b[90m<int>\u001b[39m\u001b[23m 2\u001b[90m, \u001b[39m0\u001b[90m, \u001b[39m1\u001b[90m, \u001b[39m3\u001b[90m, \u001b[39m0\u001b[90m, \u001b[39m3\u001b[90m, \u001b[39m2\u001b[90m, \u001b[39m2\u001b[90m, \u001b[39m0\u001b[90m, \u001b[39m0\u001b[90m, \u001b[39m3\u001b[90m, \u001b[39m1\u001b[90m, \u001b[39m0\u001b[90m, \u001b[39m1\u001b[90m, \u001b[39m0\u001b[90m, \u001b[39m0\u001b[90m, \u001b[39m2\u001b[90m, \u001b[39m…\n",
      "$ `TM DR_3C`         \u001b[3m\u001b[90m<int>\u001b[39m\u001b[23m 0\u001b[90m, \u001b[39m0\u001b[90m, \u001b[39m0\u001b[90m, \u001b[39m0\u001b[90m, \u001b[39m0\u001b[90m, \u001b[39m0\u001b[90m, \u001b[39m0\u001b[90m, \u001b[39m0\u001b[90m, \u001b[39m0\u001b[90m, \u001b[39m0\u001b[90m, \u001b[39m0\u001b[90m, \u001b[39m0\u001b[90m, \u001b[39m0\u001b[90m, \u001b[39m0\u001b[90m, \u001b[39m0\u001b[90m, \u001b[39m0\u001b[90m, \u001b[39m0\u001b[90m, \u001b[39m…\n",
      "$ DR_3L              \u001b[3m\u001b[90m<int>\u001b[39m\u001b[23m 10\u001b[90m, \u001b[39m10\u001b[90m, \u001b[39m8\u001b[90m, \u001b[39m4\u001b[90m, \u001b[39m8\u001b[90m, \u001b[39m11\u001b[90m, \u001b[39m4\u001b[90m, \u001b[39m9\u001b[90m, \u001b[39m5\u001b[90m, \u001b[39m9\u001b[90m, \u001b[39m12\u001b[90m, \u001b[39m3\u001b[90m, \u001b[39m9\u001b[90m, \u001b[39m11\u001b[90m, \u001b[39m18\u001b[90m, \u001b[39m…\n",
      "$ `TM DR_3L`         \u001b[3m\u001b[90m<int>\u001b[39m\u001b[23m 0\u001b[90m, \u001b[39m1\u001b[90m, \u001b[39m0\u001b[90m, \u001b[39m1\u001b[90m, \u001b[39m1\u001b[90m, \u001b[39m1\u001b[90m, \u001b[39m0\u001b[90m, \u001b[39m3\u001b[90m, \u001b[39m1\u001b[90m, \u001b[39m0\u001b[90m, \u001b[39m1\u001b[90m, \u001b[39m2\u001b[90m, \u001b[39m2\u001b[90m, \u001b[39m1\u001b[90m, \u001b[39m0\u001b[90m, \u001b[39m2\u001b[90m, \u001b[39m0\u001b[90m, \u001b[39m…\n",
      "$ DR_FT              \u001b[3m\u001b[90m<int>\u001b[39m\u001b[23m 4\u001b[90m, \u001b[39m1\u001b[90m, \u001b[39m1\u001b[90m, \u001b[39m2\u001b[90m, \u001b[39m2\u001b[90m, \u001b[39m0\u001b[90m, \u001b[39m0\u001b[90m, \u001b[39m1\u001b[90m, \u001b[39m1\u001b[90m, \u001b[39m1\u001b[90m, \u001b[39m2\u001b[90m, \u001b[39m2\u001b[90m, \u001b[39m0\u001b[90m, \u001b[39m1\u001b[90m, \u001b[39m0\u001b[90m, \u001b[39m0\u001b[90m, \u001b[39m0\u001b[90m, \u001b[39m…\n",
      "$ `TM DR_FT`         \u001b[3m\u001b[90m<int>\u001b[39m\u001b[23m 0\u001b[90m, \u001b[39m0\u001b[90m, \u001b[39m0\u001b[90m, \u001b[39m0\u001b[90m, \u001b[39m0\u001b[90m, \u001b[39m0\u001b[90m, \u001b[39m0\u001b[90m, \u001b[39m0\u001b[90m, \u001b[39m0\u001b[90m, \u001b[39m0\u001b[90m, \u001b[39m0\u001b[90m, \u001b[39m0\u001b[90m, \u001b[39m1\u001b[90m, \u001b[39m0\u001b[90m, \u001b[39m0\u001b[90m, \u001b[39m0\u001b[90m, \u001b[39m0\u001b[90m, \u001b[39m…\n",
      "$ FTM_T              \u001b[3m\u001b[90m<int>\u001b[39m\u001b[23m 0\u001b[90m, \u001b[39m0\u001b[90m, \u001b[39m0\u001b[90m, \u001b[39m0\u001b[90m, \u001b[39m0\u001b[90m, \u001b[39m0\u001b[90m, \u001b[39m0\u001b[90m, \u001b[39m0\u001b[90m, \u001b[39m1\u001b[90m, \u001b[39m1\u001b[90m, \u001b[39m1\u001b[90m, \u001b[39m0\u001b[90m, \u001b[39m0\u001b[90m, \u001b[39m0\u001b[90m, \u001b[39m1\u001b[90m, \u001b[39m0\u001b[90m, \u001b[39m1\u001b[90m, \u001b[39m…\n",
      "$ FTA_T              \u001b[3m\u001b[90m<int>\u001b[39m\u001b[23m 0\u001b[90m, \u001b[39m0\u001b[90m, \u001b[39m0\u001b[90m, \u001b[39m0\u001b[90m, \u001b[39m0\u001b[90m, \u001b[39m0\u001b[90m, \u001b[39m0\u001b[90m, \u001b[39m0\u001b[90m, \u001b[39m1\u001b[90m, \u001b[39m1\u001b[90m, \u001b[39m1\u001b[90m, \u001b[39m0\u001b[90m, \u001b[39m0\u001b[90m, \u001b[39m0\u001b[90m, \u001b[39m1\u001b[90m, \u001b[39m0\u001b[90m, \u001b[39m1\u001b[90m, \u001b[39m…\n",
      "$ FTM_1              \u001b[3m\u001b[90m<int>\u001b[39m\u001b[23m 1\u001b[90m, \u001b[39m1\u001b[90m, \u001b[39m2\u001b[90m, \u001b[39m2\u001b[90m, \u001b[39m1\u001b[90m, \u001b[39m1\u001b[90m, \u001b[39m2\u001b[90m, \u001b[39m0\u001b[90m, \u001b[39m2\u001b[90m, \u001b[39m4\u001b[90m, \u001b[39m0\u001b[90m, \u001b[39m1\u001b[90m, \u001b[39m2\u001b[90m, \u001b[39m1\u001b[90m, \u001b[39m1\u001b[90m, \u001b[39m1\u001b[90m, \u001b[39m1\u001b[90m, \u001b[39m…\n",
      "$ FTA_1              \u001b[3m\u001b[90m<int>\u001b[39m\u001b[23m 1\u001b[90m, \u001b[39m1\u001b[90m, \u001b[39m2\u001b[90m, \u001b[39m2\u001b[90m, \u001b[39m1\u001b[90m, \u001b[39m2\u001b[90m, \u001b[39m2\u001b[90m, \u001b[39m0\u001b[90m, \u001b[39m2\u001b[90m, \u001b[39m4\u001b[90m, \u001b[39m0\u001b[90m, \u001b[39m1\u001b[90m, \u001b[39m2\u001b[90m, \u001b[39m1\u001b[90m, \u001b[39m1\u001b[90m, \u001b[39m1\u001b[90m, \u001b[39m1\u001b[90m, \u001b[39m…\n",
      "$ FTM_2              \u001b[3m\u001b[90m<int>\u001b[39m\u001b[23m 10\u001b[90m, \u001b[39m5\u001b[90m, \u001b[39m13\u001b[90m, \u001b[39m12\u001b[90m, \u001b[39m1\u001b[90m, \u001b[39m8\u001b[90m, \u001b[39m10\u001b[90m, \u001b[39m7\u001b[90m, \u001b[39m6\u001b[90m, \u001b[39m6\u001b[90m, \u001b[39m9\u001b[90m, \u001b[39m6\u001b[90m, \u001b[39m3\u001b[90m, \u001b[39m15\u001b[90m, \u001b[39m11\u001b[90m, \u001b[39m…\n",
      "$ FTA_2              \u001b[3m\u001b[90m<int>\u001b[39m\u001b[23m 12\u001b[90m, \u001b[39m10\u001b[90m, \u001b[39m18\u001b[90m, \u001b[39m16\u001b[90m, \u001b[39m2\u001b[90m, \u001b[39m10\u001b[90m, \u001b[39m14\u001b[90m, \u001b[39m10\u001b[90m, \u001b[39m8\u001b[90m, \u001b[39m10\u001b[90m, \u001b[39m14\u001b[90m, \u001b[39m10\u001b[90m, \u001b[39m4\u001b[90m, \u001b[39m18…\n",
      "$ `FT 0/2`           \u001b[3m\u001b[90m<int>\u001b[39m\u001b[23m 0\u001b[90m, \u001b[39m1\u001b[90m, \u001b[39m0\u001b[90m, \u001b[39m1\u001b[90m, \u001b[39m0\u001b[90m, \u001b[39m0\u001b[90m, \u001b[39m1\u001b[90m, \u001b[39m1\u001b[90m, \u001b[39m0\u001b[90m, \u001b[39m1\u001b[90m, \u001b[39m0\u001b[90m, \u001b[39m0\u001b[90m, \u001b[39m0\u001b[90m, \u001b[39m0\u001b[90m, \u001b[39m0\u001b[90m, \u001b[39m0\u001b[90m, \u001b[39m0\u001b[90m, \u001b[39m…\n",
      "$ FTM_3              \u001b[3m\u001b[90m<int>\u001b[39m\u001b[23m 0\u001b[90m, \u001b[39m6\u001b[90m, \u001b[39m0\u001b[90m, \u001b[39m0\u001b[90m, \u001b[39m1\u001b[90m, \u001b[39m0\u001b[90m, \u001b[39m3\u001b[90m, \u001b[39m0\u001b[90m, \u001b[39m0\u001b[90m, \u001b[39m2\u001b[90m, \u001b[39m3\u001b[90m, \u001b[39m0\u001b[90m, \u001b[39m0\u001b[90m, \u001b[39m0\u001b[90m, \u001b[39m0\u001b[90m, \u001b[39m2\u001b[90m, \u001b[39m1\u001b[90m, \u001b[39m…\n",
      "$ FTA_3              \u001b[3m\u001b[90m<int>\u001b[39m\u001b[23m 0\u001b[90m, \u001b[39m9\u001b[90m, \u001b[39m0\u001b[90m, \u001b[39m0\u001b[90m, \u001b[39m3\u001b[90m, \u001b[39m0\u001b[90m, \u001b[39m3\u001b[90m, \u001b[39m0\u001b[90m, \u001b[39m0\u001b[90m, \u001b[39m3\u001b[90m, \u001b[39m3\u001b[90m, \u001b[39m0\u001b[90m, \u001b[39m0\u001b[90m, \u001b[39m0\u001b[90m, \u001b[39m0\u001b[90m, \u001b[39m3\u001b[90m, \u001b[39m3\u001b[90m, \u001b[39m…\n",
      "$ `FT 0/3`           \u001b[3m\u001b[90m<int>\u001b[39m\u001b[23m 0\u001b[90m, \u001b[39m0\u001b[90m, \u001b[39m0\u001b[90m, \u001b[39m0\u001b[90m, \u001b[39m0\u001b[90m, \u001b[39m0\u001b[90m, \u001b[39m0\u001b[90m, \u001b[39m0\u001b[90m, \u001b[39m0\u001b[90m, \u001b[39m0\u001b[90m, \u001b[39m0\u001b[90m, \u001b[39m0\u001b[90m, \u001b[39m0\u001b[90m, \u001b[39m0\u001b[90m, \u001b[39m0\u001b[90m, \u001b[39m0\u001b[90m, \u001b[39m0\u001b[90m, \u001b[39m…\n",
      "$ RIM_M              \u001b[3m\u001b[90m<int>\u001b[39m\u001b[23m 4\u001b[90m, \u001b[39m7\u001b[90m, \u001b[39m9\u001b[90m, \u001b[39m6\u001b[90m, \u001b[39m4\u001b[90m, \u001b[39m10\u001b[90m, \u001b[39m1\u001b[90m, \u001b[39m9\u001b[90m, \u001b[39m8\u001b[90m, \u001b[39m5\u001b[90m, \u001b[39m12\u001b[90m, \u001b[39m10\u001b[90m, \u001b[39m12\u001b[90m, \u001b[39m10\u001b[90m, \u001b[39m11\u001b[90m, \u001b[39m…\n",
      "$ RIM_A              \u001b[3m\u001b[90m<int>\u001b[39m\u001b[23m 6\u001b[90m, \u001b[39m8\u001b[90m, \u001b[39m10\u001b[90m, \u001b[39m7\u001b[90m, \u001b[39m5\u001b[90m, \u001b[39m11\u001b[90m, \u001b[39m3\u001b[90m, \u001b[39m11\u001b[90m, \u001b[39m10\u001b[90m, \u001b[39m10\u001b[90m, \u001b[39m16\u001b[90m, \u001b[39m14\u001b[90m, \u001b[39m19\u001b[90m, \u001b[39m14\u001b[90m, \u001b[39m…\n",
      "$ PAINT_M            \u001b[3m\u001b[90m<int>\u001b[39m\u001b[23m 10\u001b[90m, \u001b[39m6\u001b[90m, \u001b[39m15\u001b[90m, \u001b[39m18\u001b[90m, \u001b[39m16\u001b[90m, \u001b[39m20\u001b[90m, \u001b[39m12\u001b[90m, \u001b[39m9\u001b[90m, \u001b[39m13\u001b[90m, \u001b[39m11\u001b[90m, \u001b[39m4\u001b[90m, \u001b[39m3\u001b[90m, \u001b[39m5\u001b[90m, \u001b[39m3\u001b[90m, \u001b[39m1…\n",
      "$ PAINT_A            \u001b[3m\u001b[90m<int>\u001b[39m\u001b[23m 26\u001b[90m, \u001b[39m15\u001b[90m, \u001b[39m28\u001b[90m, \u001b[39m27\u001b[90m, \u001b[39m29\u001b[90m, \u001b[39m28\u001b[90m, \u001b[39m19\u001b[90m, \u001b[39m17\u001b[90m, \u001b[39m22\u001b[90m, \u001b[39m24\u001b[90m, \u001b[39m14\u001b[90m, \u001b[39m9\u001b[90m, \u001b[39m12\u001b[90m, \u001b[39m…\n",
      "$ MID_M              \u001b[3m\u001b[90m<int>\u001b[39m\u001b[23m 2\u001b[90m, \u001b[39m4\u001b[90m, \u001b[39m3\u001b[90m, \u001b[39m2\u001b[90m, \u001b[39m2\u001b[90m, \u001b[39m2\u001b[90m, \u001b[39m3\u001b[90m, \u001b[39m5\u001b[90m, \u001b[39m2\u001b[90m, \u001b[39m2\u001b[90m, \u001b[39m2\u001b[90m, \u001b[39m5\u001b[90m, \u001b[39m2\u001b[90m, \u001b[39m3\u001b[90m, \u001b[39m2\u001b[90m, \u001b[39m1\u001b[90m, \u001b[39m5\u001b[90m, \u001b[39m…\n",
      "$ MID_A              \u001b[3m\u001b[90m<int>\u001b[39m\u001b[23m 5\u001b[90m, \u001b[39m6\u001b[90m, \u001b[39m5\u001b[90m, \u001b[39m5\u001b[90m, \u001b[39m6\u001b[90m, \u001b[39m3\u001b[90m, \u001b[39m8\u001b[90m, \u001b[39m8\u001b[90m, \u001b[39m7\u001b[90m, \u001b[39m5\u001b[90m, \u001b[39m6\u001b[90m, \u001b[39m11\u001b[90m, \u001b[39m4\u001b[90m, \u001b[39m9\u001b[90m, \u001b[39m10\u001b[90m, \u001b[39m5\u001b[90m, \u001b[39m1…\n",
      "$ `3C_M`             \u001b[3m\u001b[90m<int>\u001b[39m\u001b[23m 1\u001b[90m, \u001b[39m2\u001b[90m, \u001b[39m0\u001b[90m, \u001b[39m0\u001b[90m, \u001b[39m3\u001b[90m, \u001b[39m2\u001b[90m, \u001b[39m0\u001b[90m, \u001b[39m0\u001b[90m, \u001b[39m0\u001b[90m, \u001b[39m0\u001b[90m, \u001b[39m4\u001b[90m, \u001b[39m2\u001b[90m, \u001b[39m1\u001b[90m, \u001b[39m1\u001b[90m, \u001b[39m0\u001b[90m, \u001b[39m1\u001b[90m, \u001b[39m1\u001b[90m, \u001b[39m…\n",
      "$ `3C_A`             \u001b[3m\u001b[90m<int>\u001b[39m\u001b[23m 1\u001b[90m, \u001b[39m4\u001b[90m, \u001b[39m4\u001b[90m, \u001b[39m2\u001b[90m, \u001b[39m6\u001b[90m, \u001b[39m2\u001b[90m, \u001b[39m2\u001b[90m, \u001b[39m5\u001b[90m, \u001b[39m0\u001b[90m, \u001b[39m0\u001b[90m, \u001b[39m6\u001b[90m, \u001b[39m5\u001b[90m, \u001b[39m4\u001b[90m, \u001b[39m1\u001b[90m, \u001b[39m0\u001b[90m, \u001b[39m1\u001b[90m, \u001b[39m2\u001b[90m, \u001b[39m…\n",
      "$ `3L_M`             \u001b[3m\u001b[90m<int>\u001b[39m\u001b[23m 16\u001b[90m, \u001b[39m7\u001b[90m, \u001b[39m9\u001b[90m, \u001b[39m5\u001b[90m, \u001b[39m6\u001b[90m, \u001b[39m4\u001b[90m, \u001b[39m7\u001b[90m, \u001b[39m9\u001b[90m, \u001b[39m8\u001b[90m, \u001b[39m11\u001b[90m, \u001b[39m7\u001b[90m, \u001b[39m12\u001b[90m, \u001b[39m14\u001b[90m, \u001b[39m9\u001b[90m, \u001b[39m5\u001b[90m, \u001b[39m14…\n",
      "$ `3L_A`             \u001b[3m\u001b[90m<int>\u001b[39m\u001b[23m 33\u001b[90m, \u001b[39m21\u001b[90m, \u001b[39m22\u001b[90m, \u001b[39m15\u001b[90m, \u001b[39m21\u001b[90m, \u001b[39m18\u001b[90m, \u001b[39m22\u001b[90m, \u001b[39m26\u001b[90m, \u001b[39m24\u001b[90m, \u001b[39m19\u001b[90m, \u001b[39m20\u001b[90m, \u001b[39m26\u001b[90m, \u001b[39m28\u001b[90m,\u001b[39m…\n",
      "$ `3H_M`             \u001b[3m\u001b[90m<int>\u001b[39m\u001b[23m 0\u001b[90m, \u001b[39m0\u001b[90m, \u001b[39m0\u001b[90m, \u001b[39m0\u001b[90m, \u001b[39m0\u001b[90m, \u001b[39m0\u001b[90m, \u001b[39m0\u001b[90m, \u001b[39m0\u001b[90m, \u001b[39m0\u001b[90m, \u001b[39m0\u001b[90m, \u001b[39m0\u001b[90m, \u001b[39m0\u001b[90m, \u001b[39m0\u001b[90m, \u001b[39m0\u001b[90m, \u001b[39m0\u001b[90m, \u001b[39m0\u001b[90m, \u001b[39m0\u001b[90m, \u001b[39m…\n",
      "$ `3H_A`             \u001b[3m\u001b[90m<int>\u001b[39m\u001b[23m 0\u001b[90m, \u001b[39m0\u001b[90m, \u001b[39m0\u001b[90m, \u001b[39m0\u001b[90m, \u001b[39m0\u001b[90m, \u001b[39m0\u001b[90m, \u001b[39m0\u001b[90m, \u001b[39m0\u001b[90m, \u001b[39m1\u001b[90m, \u001b[39m0\u001b[90m, \u001b[39m0\u001b[90m, \u001b[39m0\u001b[90m, \u001b[39m0\u001b[90m, \u001b[39m0\u001b[90m, \u001b[39m0\u001b[90m, \u001b[39m0\u001b[90m, \u001b[39m0\u001b[90m, \u001b[39m…\n"
     ]
    }
   ],
   "source": [
    "teams <- convert(teams)\n",
    "glimpse(teams)"
   ]
  },
  {
   "cell_type": "code",
   "execution_count": 92,
   "metadata": {
    "vscode": {
     "languageId": "r"
    }
   },
   "outputs": [
    {
     "name": "stdout",
     "output_type": "stream",
     "text": [
      "Rows: 7,883\n",
      "Columns: 85\n",
      "$ `TM TAG`       \u001b[3m\u001b[90m<chr>\u001b[39m\u001b[23m \"CZB\"\u001b[90m, \u001b[39m\"CZB\"\u001b[90m, \u001b[39m\"CZB\"\u001b[90m, \u001b[39m\"CZB\"\u001b[90m, \u001b[39m\"CZB\"\u001b[90m, \u001b[39m\"CZB\"\u001b[90m, \u001b[39m\"CZB\"\u001b[90m, \u001b[39m\"CZB\"\u001b[90m,\u001b[39m…\n",
      "$ NAME           \u001b[3m\u001b[90m<chr>\u001b[39m\u001b[23m \"Adam Hanga\"\u001b[90m, \u001b[39m\"Branko Lazic\"\u001b[90m, \u001b[39m\"Dalibor Ilic\"\u001b[90m, \u001b[39m\"Luka Mit…\n",
      "$ ROLE           \u001b[3m\u001b[90m<chr>\u001b[39m\u001b[23m \"F\"\u001b[90m, \u001b[39m\"SG\"\u001b[90m, \u001b[39m\"F\"\u001b[90m, \u001b[39m\"PF\"\u001b[90m, \u001b[39m\"PF\"\u001b[90m, \u001b[39m\"C\"\u001b[90m, \u001b[39m\"PG\"\u001b[90m, \u001b[39m\"SG\"\u001b[90m, \u001b[39m\"C\"\u001b[90m, \u001b[39m\"F/PF…\n",
      "$ NAT            \u001b[3m\u001b[90m<chr>\u001b[39m\u001b[23m \"HUN\"\u001b[90m, \u001b[39m\"SRB\"\u001b[90m, \u001b[39m\"BIH\"\u001b[90m, \u001b[39m\"SRB\"\u001b[90m, \u001b[39m\"SRB\"\u001b[90m, \u001b[39m\"USA\"\u001b[90m, \u001b[39m\"SRB\"\u001b[90m, \u001b[39m\"SRB\"\u001b[90m,\u001b[39m…\n",
      "$ HEIGHT         \u001b[3m\u001b[90m<chr>\u001b[39m\u001b[23m \"201\"\u001b[90m, \u001b[39m\"195\"\u001b[90m, \u001b[39m\"206\"\u001b[90m, \u001b[39m\"206\"\u001b[90m, \u001b[39m\"203\"\u001b[90m, \u001b[39m\"213\"\u001b[90m, \u001b[39m\"195\"\u001b[90m, \u001b[39m\"191\"\u001b[90m,\u001b[39m…\n",
      "$ AGE            \u001b[3m\u001b[90m<int>\u001b[39m\u001b[23m 35\u001b[90m, \u001b[39m35\u001b[90m, \u001b[39m24\u001b[90m, \u001b[39m31\u001b[90m, \u001b[39m38\u001b[90m, \u001b[39m30\u001b[90m, \u001b[39m37\u001b[90m, \u001b[39m33\u001b[90m, \u001b[39m34\u001b[90m, \u001b[39m32\u001b[90m, \u001b[39m33\u001b[90m, \u001b[39m28\u001b[90m, \u001b[39m30\u001b[90m, \u001b[39m35\u001b[90m,\u001b[39m…\n",
      "$ ROUND          \u001b[3m\u001b[90m<int>\u001b[39m\u001b[23m 1\u001b[90m, \u001b[39m1\u001b[90m, \u001b[39m1\u001b[90m, \u001b[39m1\u001b[90m, \u001b[39m1\u001b[90m, \u001b[39m1\u001b[90m, \u001b[39m1\u001b[90m, \u001b[39m1\u001b[90m, \u001b[39m1\u001b[90m, \u001b[39m1\u001b[90m, \u001b[39m1\u001b[90m, \u001b[39m1\u001b[90m, \u001b[39m1\u001b[90m, \u001b[39m1\u001b[90m, \u001b[39m1\u001b[90m, \u001b[39m1\u001b[90m, \u001b[39m1\u001b[90m, \u001b[39m1\u001b[90m, \u001b[39m1…\n",
      "$ `TM NAME`      \u001b[3m\u001b[90m<chr>\u001b[39m\u001b[23m \"Crvena Zvezda\"\u001b[90m, \u001b[39m\"Crvena Zvezda\"\u001b[90m, \u001b[39m\"Crvena Zvezda\"\u001b[90m, \u001b[39m\"Crv…\n",
      "$ `OPP NAME`     \u001b[3m\u001b[90m<chr>\u001b[39m\u001b[23m \"ASVEL\"\u001b[90m, \u001b[39m\"ASVEL\"\u001b[90m, \u001b[39m\"ASVEL\"\u001b[90m, \u001b[39m\"ASVEL\"\u001b[90m, \u001b[39m\"ASVEL\"\u001b[90m, \u001b[39m\"ASVEL\"\u001b[90m, \u001b[39m\"…\n",
      "$ DATE           \u001b[3m\u001b[90m<chr>\u001b[39m\u001b[23m \"05.10.2023\"\u001b[90m, \u001b[39m\"05.10.2023\"\u001b[90m, \u001b[39m\"05.10.2023\"\u001b[90m, \u001b[39m\"05.10.2023\"\u001b[90m,\u001b[39m…\n",
      "$ `H/A`          \u001b[3m\u001b[90m<chr>\u001b[39m\u001b[23m \"H\"\u001b[90m, \u001b[39m\"H\"\u001b[90m, \u001b[39m\"H\"\u001b[90m, \u001b[39m\"H\"\u001b[90m, \u001b[39m\"H\"\u001b[90m, \u001b[39m\"H\"\u001b[90m, \u001b[39m\"H\"\u001b[90m, \u001b[39m\"H\"\u001b[90m, \u001b[39m\"H\"\u001b[90m, \u001b[39m\"H\"\u001b[90m, \u001b[39m\"H\"\u001b[90m, \u001b[39m…\n",
      "$ `W/L`          \u001b[3m\u001b[90m<chr>\u001b[39m\u001b[23m \"W\"\u001b[90m, \u001b[39m\"W\"\u001b[90m, \u001b[39m\"W\"\u001b[90m, \u001b[39m\"W\"\u001b[90m, \u001b[39m\"W\"\u001b[90m, \u001b[39m\"W\"\u001b[90m, \u001b[39m\"W\"\u001b[90m, \u001b[39m\"W\"\u001b[90m, \u001b[39m\"W\"\u001b[90m, \u001b[39m\"W\"\u001b[90m, \u001b[39m\"W\"\u001b[90m, \u001b[39m…\n",
      "$ MIN            \u001b[3m\u001b[90m<int>\u001b[39m\u001b[23m 22\u001b[90m, \u001b[39m13\u001b[90m, \u001b[39m15\u001b[90m, \u001b[39m22\u001b[90m, \u001b[39m18\u001b[90m, \u001b[39m13\u001b[90m, \u001b[39m15\u001b[90m, \u001b[39m17\u001b[90m, \u001b[39m12\u001b[90m, \u001b[39m28\u001b[90m, \u001b[39m21\u001b[90m, \u001b[39m5\u001b[90m, \u001b[39m0\u001b[90m, \u001b[39m0\u001b[90m, \u001b[39m16…\n",
      "$ PTS            \u001b[3m\u001b[90m<int>\u001b[39m\u001b[23m 7\u001b[90m, \u001b[39m6\u001b[90m, \u001b[39m5\u001b[90m, \u001b[39m9\u001b[90m, \u001b[39m14\u001b[90m, \u001b[39m0\u001b[90m, \u001b[39m3\u001b[90m, \u001b[39m12\u001b[90m, \u001b[39m0\u001b[90m, \u001b[39m17\u001b[90m, \u001b[39m21\u001b[90m, \u001b[39m0\u001b[90m, \u001b[39m0\u001b[90m, \u001b[39m0\u001b[90m, \u001b[39m2\u001b[90m, \u001b[39m18\u001b[90m, \u001b[39m7\u001b[90m,\u001b[39m…\n",
      "$ `2PTM`         \u001b[3m\u001b[90m<int>\u001b[39m\u001b[23m 1\u001b[90m, \u001b[39m0\u001b[90m, \u001b[39m1\u001b[90m, \u001b[39m3\u001b[90m, \u001b[39m4\u001b[90m, \u001b[39m0\u001b[90m, \u001b[39m0\u001b[90m, \u001b[39m3\u001b[90m, \u001b[39m0\u001b[90m, \u001b[39m2\u001b[90m, \u001b[39m2\u001b[90m, \u001b[39m0\u001b[90m, \u001b[39m0\u001b[90m, \u001b[39m0\u001b[90m, \u001b[39m1\u001b[90m, \u001b[39m5\u001b[90m, \u001b[39m3\u001b[90m, \u001b[39m0\u001b[90m, \u001b[39m3…\n",
      "$ `2PTA`         \u001b[3m\u001b[90m<int>\u001b[39m\u001b[23m 6\u001b[90m, \u001b[39m0\u001b[90m, \u001b[39m5\u001b[90m, \u001b[39m3\u001b[90m, \u001b[39m4\u001b[90m, \u001b[39m1\u001b[90m, \u001b[39m3\u001b[90m, \u001b[39m6\u001b[90m, \u001b[39m2\u001b[90m, \u001b[39m4\u001b[90m, \u001b[39m3\u001b[90m, \u001b[39m0\u001b[90m, \u001b[39m0\u001b[90m, \u001b[39m0\u001b[90m, \u001b[39m1\u001b[90m, \u001b[39m7\u001b[90m, \u001b[39m6\u001b[90m, \u001b[39m1\u001b[90m, \u001b[39m3…\n",
      "$ `2PT%`         \u001b[3m\u001b[90m<dbl>\u001b[39m\u001b[23m 0.1666667\u001b[90m, \u001b[39m\u001b[31mNA\u001b[39m\u001b[90m, \u001b[39m0.2000000\u001b[90m, \u001b[39m1.0000000\u001b[90m, \u001b[39m1.0000000\u001b[90m, \u001b[39m0.00000…\n",
      "$ `3PTM`         \u001b[3m\u001b[90m<int>\u001b[39m\u001b[23m 1\u001b[90m, \u001b[39m2\u001b[90m, \u001b[39m1\u001b[90m, \u001b[39m0\u001b[90m, \u001b[39m2\u001b[90m, \u001b[39m0\u001b[90m, \u001b[39m1\u001b[90m, \u001b[39m1\u001b[90m, \u001b[39m0\u001b[90m, \u001b[39m4\u001b[90m, \u001b[39m5\u001b[90m, \u001b[39m0\u001b[90m, \u001b[39m0\u001b[90m, \u001b[39m0\u001b[90m, \u001b[39m0\u001b[90m, \u001b[39m2\u001b[90m, \u001b[39m0\u001b[90m, \u001b[39m0\u001b[90m, \u001b[39m2…\n",
      "$ `3PTA`         \u001b[3m\u001b[90m<int>\u001b[39m\u001b[23m 5\u001b[90m, \u001b[39m2\u001b[90m, \u001b[39m2\u001b[90m, \u001b[39m0\u001b[90m, \u001b[39m2\u001b[90m, \u001b[39m3\u001b[90m, \u001b[39m3\u001b[90m, \u001b[39m2\u001b[90m, \u001b[39m0\u001b[90m, \u001b[39m7\u001b[90m, \u001b[39m8\u001b[90m, \u001b[39m0\u001b[90m, \u001b[39m0\u001b[90m, \u001b[39m0\u001b[90m, \u001b[39m3\u001b[90m, \u001b[39m5\u001b[90m, \u001b[39m0\u001b[90m, \u001b[39m1\u001b[90m, \u001b[39m5…\n",
      "$ `3PT%`         \u001b[3m\u001b[90m<dbl>\u001b[39m\u001b[23m 0.2000000\u001b[90m, \u001b[39m1.0000000\u001b[90m, \u001b[39m0.5000000\u001b[90m, \u001b[39m\u001b[31mNA\u001b[39m\u001b[90m, \u001b[39m1.0000000\u001b[90m, \u001b[39m0.00000…\n",
      "$ FGM            \u001b[3m\u001b[90m<int>\u001b[39m\u001b[23m 2\u001b[90m, \u001b[39m2\u001b[90m, \u001b[39m2\u001b[90m, \u001b[39m3\u001b[90m, \u001b[39m6\u001b[90m, \u001b[39m0\u001b[90m, \u001b[39m1\u001b[90m, \u001b[39m4\u001b[90m, \u001b[39m0\u001b[90m, \u001b[39m6\u001b[90m, \u001b[39m7\u001b[90m, \u001b[39m0\u001b[90m, \u001b[39m0\u001b[90m, \u001b[39m0\u001b[90m, \u001b[39m1\u001b[90m, \u001b[39m7\u001b[90m, \u001b[39m3\u001b[90m, \u001b[39m0\u001b[90m, \u001b[39m5…\n",
      "$ FGA            \u001b[3m\u001b[90m<int>\u001b[39m\u001b[23m 11\u001b[90m, \u001b[39m2\u001b[90m, \u001b[39m7\u001b[90m, \u001b[39m3\u001b[90m, \u001b[39m6\u001b[90m, \u001b[39m4\u001b[90m, \u001b[39m6\u001b[90m, \u001b[39m8\u001b[90m, \u001b[39m2\u001b[90m, \u001b[39m11\u001b[90m, \u001b[39m11\u001b[90m, \u001b[39m0\u001b[90m, \u001b[39m0\u001b[90m, \u001b[39m0\u001b[90m, \u001b[39m4\u001b[90m, \u001b[39m12\u001b[90m, \u001b[39m6\u001b[90m, \u001b[39m…\n",
      "$ `FG%`          \u001b[3m\u001b[90m<dbl>\u001b[39m\u001b[23m 0.1818182\u001b[90m, \u001b[39m1.0000000\u001b[90m, \u001b[39m0.2857143\u001b[90m, \u001b[39m1.0000000\u001b[90m, \u001b[39m1.0000000\u001b[90m, \u001b[39m…\n",
      "$ FTM            \u001b[3m\u001b[90m<int>\u001b[39m\u001b[23m 2\u001b[90m, \u001b[39m0\u001b[90m, \u001b[39m0\u001b[90m, \u001b[39m3\u001b[90m, \u001b[39m0\u001b[90m, \u001b[39m0\u001b[90m, \u001b[39m0\u001b[90m, \u001b[39m3\u001b[90m, \u001b[39m0\u001b[90m, \u001b[39m1\u001b[90m, \u001b[39m2\u001b[90m, \u001b[39m0\u001b[90m, \u001b[39m0\u001b[90m, \u001b[39m0\u001b[90m, \u001b[39m0\u001b[90m, \u001b[39m2\u001b[90m, \u001b[39m1\u001b[90m, \u001b[39m0\u001b[90m, \u001b[39m1…\n",
      "$ FTA            \u001b[3m\u001b[90m<int>\u001b[39m\u001b[23m 2\u001b[90m, \u001b[39m0\u001b[90m, \u001b[39m0\u001b[90m, \u001b[39m4\u001b[90m, \u001b[39m0\u001b[90m, \u001b[39m0\u001b[90m, \u001b[39m0\u001b[90m, \u001b[39m3\u001b[90m, \u001b[39m0\u001b[90m, \u001b[39m2\u001b[90m, \u001b[39m2\u001b[90m, \u001b[39m0\u001b[90m, \u001b[39m0\u001b[90m, \u001b[39m0\u001b[90m, \u001b[39m0\u001b[90m, \u001b[39m5\u001b[90m, \u001b[39m2\u001b[90m, \u001b[39m0\u001b[90m, \u001b[39m3…\n",
      "$ `FT%`          \u001b[3m\u001b[90m<dbl>\u001b[39m\u001b[23m 1.0000000\u001b[90m, \u001b[39m\u001b[31mNA\u001b[39m\u001b[90m, \u001b[39m\u001b[31mNA\u001b[39m\u001b[90m, \u001b[39m0.7500000\u001b[90m, \u001b[39m\u001b[31mNA\u001b[39m\u001b[90m, \u001b[39m\u001b[31mNA\u001b[39m\u001b[90m, \u001b[39m\u001b[31mNA\u001b[39m\u001b[90m, \u001b[39m1.0000000\u001b[90m, \u001b[39m\u001b[31mNA\u001b[39m…\n",
      "$ OR             \u001b[3m\u001b[90m<int>\u001b[39m\u001b[23m 1\u001b[90m, \u001b[39m1\u001b[90m, \u001b[39m5\u001b[90m, \u001b[39m1\u001b[90m, \u001b[39m1\u001b[90m, \u001b[39m2\u001b[90m, \u001b[39m0\u001b[90m, \u001b[39m0\u001b[90m, \u001b[39m3\u001b[90m, \u001b[39m1\u001b[90m, \u001b[39m0\u001b[90m, \u001b[39m0\u001b[90m, \u001b[39m0\u001b[90m, \u001b[39m0\u001b[90m, \u001b[39m0\u001b[90m, \u001b[39m4\u001b[90m, \u001b[39m1\u001b[90m, \u001b[39m1\u001b[90m, \u001b[39m1…\n",
      "$ DR             \u001b[3m\u001b[90m<int>\u001b[39m\u001b[23m 3\u001b[90m, \u001b[39m1\u001b[90m, \u001b[39m0\u001b[90m, \u001b[39m0\u001b[90m, \u001b[39m0\u001b[90m, \u001b[39m3\u001b[90m, \u001b[39m3\u001b[90m, \u001b[39m3\u001b[90m, \u001b[39m1\u001b[90m, \u001b[39m4\u001b[90m, \u001b[39m3\u001b[90m, \u001b[39m1\u001b[90m, \u001b[39m0\u001b[90m, \u001b[39m0\u001b[90m, \u001b[39m4\u001b[90m, \u001b[39m2\u001b[90m, \u001b[39m0\u001b[90m, \u001b[39m3\u001b[90m, \u001b[39m1…\n",
      "$ TR             \u001b[3m\u001b[90m<int>\u001b[39m\u001b[23m 4\u001b[90m, \u001b[39m2\u001b[90m, \u001b[39m5\u001b[90m, \u001b[39m1\u001b[90m, \u001b[39m1\u001b[90m, \u001b[39m5\u001b[90m, \u001b[39m3\u001b[90m, \u001b[39m3\u001b[90m, \u001b[39m4\u001b[90m, \u001b[39m5\u001b[90m, \u001b[39m3\u001b[90m, \u001b[39m1\u001b[90m, \u001b[39m0\u001b[90m, \u001b[39m0\u001b[90m, \u001b[39m4\u001b[90m, \u001b[39m6\u001b[90m, \u001b[39m1\u001b[90m, \u001b[39m4\u001b[90m, \u001b[39m2…\n",
      "$ AST            \u001b[3m\u001b[90m<int>\u001b[39m\u001b[23m 3\u001b[90m, \u001b[39m0\u001b[90m, \u001b[39m0\u001b[90m, \u001b[39m2\u001b[90m, \u001b[39m0\u001b[90m, \u001b[39m0\u001b[90m, \u001b[39m2\u001b[90m, \u001b[39m3\u001b[90m, \u001b[39m4\u001b[90m, \u001b[39m4\u001b[90m, \u001b[39m1\u001b[90m, \u001b[39m0\u001b[90m, \u001b[39m0\u001b[90m, \u001b[39m0\u001b[90m, \u001b[39m0\u001b[90m, \u001b[39m1\u001b[90m, \u001b[39m0\u001b[90m, \u001b[39m1\u001b[90m, \u001b[39m1…\n",
      "$ TO             \u001b[3m\u001b[90m<int>\u001b[39m\u001b[23m 1\u001b[90m, \u001b[39m0\u001b[90m, \u001b[39m0\u001b[90m, \u001b[39m0\u001b[90m, \u001b[39m1\u001b[90m, \u001b[39m2\u001b[90m, \u001b[39m1\u001b[90m, \u001b[39m2\u001b[90m, \u001b[39m0\u001b[90m, \u001b[39m0\u001b[90m, \u001b[39m2\u001b[90m, \u001b[39m0\u001b[90m, \u001b[39m0\u001b[90m, \u001b[39m0\u001b[90m, \u001b[39m1\u001b[90m, \u001b[39m1\u001b[90m, \u001b[39m2\u001b[90m, \u001b[39m1\u001b[90m, \u001b[39m0…\n",
      "$ ST             \u001b[3m\u001b[90m<int>\u001b[39m\u001b[23m 2\u001b[90m, \u001b[39m0\u001b[90m, \u001b[39m0\u001b[90m, \u001b[39m1\u001b[90m, \u001b[39m0\u001b[90m, \u001b[39m1\u001b[90m, \u001b[39m1\u001b[90m, \u001b[39m1\u001b[90m, \u001b[39m0\u001b[90m, \u001b[39m2\u001b[90m, \u001b[39m2\u001b[90m, \u001b[39m0\u001b[90m, \u001b[39m0\u001b[90m, \u001b[39m0\u001b[90m, \u001b[39m1\u001b[90m, \u001b[39m0\u001b[90m, \u001b[39m0\u001b[90m, \u001b[39m0\u001b[90m, \u001b[39m0…\n",
      "$ BLK            \u001b[3m\u001b[90m<int>\u001b[39m\u001b[23m 1\u001b[90m, \u001b[39m0\u001b[90m, \u001b[39m0\u001b[90m, \u001b[39m0\u001b[90m, \u001b[39m0\u001b[90m, \u001b[39m0\u001b[90m, \u001b[39m0\u001b[90m, \u001b[39m0\u001b[90m, \u001b[39m1\u001b[90m, \u001b[39m0\u001b[90m, \u001b[39m0\u001b[90m, \u001b[39m0\u001b[90m, \u001b[39m0\u001b[90m, \u001b[39m0\u001b[90m, \u001b[39m0\u001b[90m, \u001b[39m0\u001b[90m, \u001b[39m1\u001b[90m, \u001b[39m1\u001b[90m, \u001b[39m0…\n",
      "$ BLKA           \u001b[3m\u001b[90m<int>\u001b[39m\u001b[23m 0\u001b[90m, \u001b[39m0\u001b[90m, \u001b[39m2\u001b[90m, \u001b[39m0\u001b[90m, \u001b[39m0\u001b[90m, \u001b[39m0\u001b[90m, \u001b[39m0\u001b[90m, \u001b[39m0\u001b[90m, \u001b[39m1\u001b[90m, \u001b[39m0\u001b[90m, \u001b[39m0\u001b[90m, \u001b[39m0\u001b[90m, \u001b[39m0\u001b[90m, \u001b[39m0\u001b[90m, \u001b[39m0\u001b[90m, \u001b[39m0\u001b[90m, \u001b[39m1\u001b[90m, \u001b[39m0\u001b[90m, \u001b[39m0…\n",
      "$ PF             \u001b[3m\u001b[90m<int>\u001b[39m\u001b[23m 1\u001b[90m, \u001b[39m0\u001b[90m, \u001b[39m1\u001b[90m, \u001b[39m2\u001b[90m, \u001b[39m5\u001b[90m, \u001b[39m1\u001b[90m, \u001b[39m4\u001b[90m, \u001b[39m1\u001b[90m, \u001b[39m1\u001b[90m, \u001b[39m3\u001b[90m, \u001b[39m2\u001b[90m, \u001b[39m0\u001b[90m, \u001b[39m0\u001b[90m, \u001b[39m0\u001b[90m, \u001b[39m3\u001b[90m, \u001b[39m1\u001b[90m, \u001b[39m2\u001b[90m, \u001b[39m2\u001b[90m, \u001b[39m0…\n",
      "$ DF             \u001b[3m\u001b[90m<int>\u001b[39m\u001b[23m 3\u001b[90m, \u001b[39m0\u001b[90m, \u001b[39m1\u001b[90m, \u001b[39m4\u001b[90m, \u001b[39m1\u001b[90m, \u001b[39m0\u001b[90m, \u001b[39m0\u001b[90m, \u001b[39m3\u001b[90m, \u001b[39m0\u001b[90m, \u001b[39m1\u001b[90m, \u001b[39m1\u001b[90m, \u001b[39m0\u001b[90m, \u001b[39m0\u001b[90m, \u001b[39m0\u001b[90m, \u001b[39m1\u001b[90m, \u001b[39m4\u001b[90m, \u001b[39m2\u001b[90m, \u001b[39m0\u001b[90m, \u001b[39m1…\n",
      "$ VAL            \u001b[3m\u001b[90m<int>\u001b[39m\u001b[23m 9\u001b[90m, \u001b[39m8\u001b[90m, \u001b[39m3\u001b[90m, \u001b[39m14\u001b[90m, \u001b[39m10\u001b[90m, \u001b[39m-1\u001b[90m, \u001b[39m-1\u001b[90m, \u001b[39m15\u001b[90m, \u001b[39m5\u001b[90m, \u001b[39m20\u001b[90m, \u001b[39m20\u001b[90m, \u001b[39m1\u001b[90m, \u001b[39m0\u001b[90m, \u001b[39m0\u001b[90m, \u001b[39m1\u001b[90m, \u001b[39m19\u001b[90m,\u001b[39m…\n",
      "$ `+ / -`        \u001b[3m\u001b[90m<int>\u001b[39m\u001b[23m 5\u001b[90m, \u001b[39m7\u001b[90m, \u001b[39m0\u001b[90m, \u001b[39m20\u001b[90m, \u001b[39m5\u001b[90m, \u001b[39m5\u001b[90m, \u001b[39m7\u001b[90m, \u001b[39m4\u001b[90m, \u001b[39m12\u001b[90m, \u001b[39m21\u001b[90m, \u001b[39m19\u001b[90m, \u001b[39m0\u001b[90m, \u001b[39m0\u001b[90m, \u001b[39m0\u001b[90m, \u001b[39m-1\u001b[90m, \u001b[39m-16\u001b[90m, \u001b[39m…\n",
      "$ POSS           \u001b[3m\u001b[90m<int>\u001b[39m\u001b[23m 13\u001b[90m, \u001b[39m2\u001b[90m, \u001b[39m7\u001b[90m, \u001b[39m5\u001b[90m, \u001b[39m7\u001b[90m, \u001b[39m6\u001b[90m, \u001b[39m7\u001b[90m, \u001b[39m11\u001b[90m, \u001b[39m2\u001b[90m, \u001b[39m12\u001b[90m, \u001b[39m14\u001b[90m, \u001b[39m0\u001b[90m, \u001b[39m0\u001b[90m, \u001b[39m0\u001b[90m, \u001b[39m5\u001b[90m, \u001b[39m15\u001b[90m, \u001b[39m9\u001b[90m,\u001b[39m…\n",
      "$ ASTED_2FG      \u001b[3m\u001b[90m<int>\u001b[39m\u001b[23m 0\u001b[90m, \u001b[39m0\u001b[90m, \u001b[39m0\u001b[90m, \u001b[39m2\u001b[90m, \u001b[39m2\u001b[90m, \u001b[39m0\u001b[90m, \u001b[39m0\u001b[90m, \u001b[39m1\u001b[90m, \u001b[39m0\u001b[90m, \u001b[39m1\u001b[90m, \u001b[39m0\u001b[90m, \u001b[39m0\u001b[90m, \u001b[39m0\u001b[90m, \u001b[39m0\u001b[90m, \u001b[39m0\u001b[90m, \u001b[39m2\u001b[90m, \u001b[39m3\u001b[90m, \u001b[39m0\u001b[90m, \u001b[39m1…\n",
      "$ ASTED_3FG      \u001b[3m\u001b[90m<int>\u001b[39m\u001b[23m 0\u001b[90m, \u001b[39m1\u001b[90m, \u001b[39m1\u001b[90m, \u001b[39m0\u001b[90m, \u001b[39m2\u001b[90m, \u001b[39m0\u001b[90m, \u001b[39m1\u001b[90m, \u001b[39m0\u001b[90m, \u001b[39m0\u001b[90m, \u001b[39m4\u001b[90m, \u001b[39m1\u001b[90m, \u001b[39m0\u001b[90m, \u001b[39m0\u001b[90m, \u001b[39m0\u001b[90m, \u001b[39m0\u001b[90m, \u001b[39m2\u001b[90m, \u001b[39m0\u001b[90m, \u001b[39m0\u001b[90m, \u001b[39m1…\n",
      "$ ASTED_FT       \u001b[3m\u001b[90m<int>\u001b[39m\u001b[23m 0\u001b[90m, \u001b[39m0\u001b[90m, \u001b[39m0\u001b[90m, \u001b[39m0\u001b[90m, \u001b[39m0\u001b[90m, \u001b[39m0\u001b[90m, \u001b[39m0\u001b[90m, \u001b[39m1\u001b[90m, \u001b[39m0\u001b[90m, \u001b[39m1\u001b[90m, \u001b[39m0\u001b[90m, \u001b[39m0\u001b[90m, \u001b[39m0\u001b[90m, \u001b[39m0\u001b[90m, \u001b[39m0\u001b[90m, \u001b[39m1\u001b[90m, \u001b[39m1\u001b[90m, \u001b[39m0\u001b[90m, \u001b[39m1…\n",
      "$ `ASTED_FT PTS` \u001b[3m\u001b[90m<int>\u001b[39m\u001b[23m 0\u001b[90m, \u001b[39m0\u001b[90m, \u001b[39m0\u001b[90m, \u001b[39m0\u001b[90m, \u001b[39m0\u001b[90m, \u001b[39m0\u001b[90m, \u001b[39m0\u001b[90m, \u001b[39m2\u001b[90m, \u001b[39m0\u001b[90m, \u001b[39m0\u001b[90m, \u001b[39m0\u001b[90m, \u001b[39m0\u001b[90m, \u001b[39m0\u001b[90m, \u001b[39m0\u001b[90m, \u001b[39m0\u001b[90m, \u001b[39m2\u001b[90m, \u001b[39m0\u001b[90m, \u001b[39m0\u001b[90m, \u001b[39m1…\n",
      "$ `AST (2P)`     \u001b[3m\u001b[90m<int>\u001b[39m\u001b[23m 1\u001b[90m, \u001b[39m0\u001b[90m, \u001b[39m0\u001b[90m, \u001b[39m2\u001b[90m, \u001b[39m0\u001b[90m, \u001b[39m0\u001b[90m, \u001b[39m1\u001b[90m, \u001b[39m0\u001b[90m, \u001b[39m0\u001b[90m, \u001b[39m1\u001b[90m, \u001b[39m1\u001b[90m, \u001b[39m0\u001b[90m, \u001b[39m0\u001b[90m, \u001b[39m0\u001b[90m, \u001b[39m0\u001b[90m, \u001b[39m0\u001b[90m, \u001b[39m0\u001b[90m, \u001b[39m1\u001b[90m, \u001b[39m0…\n",
      "$ `AST (3P)`     \u001b[3m\u001b[90m<int>\u001b[39m\u001b[23m 1\u001b[90m, \u001b[39m0\u001b[90m, \u001b[39m0\u001b[90m, \u001b[39m0\u001b[90m, \u001b[39m0\u001b[90m, \u001b[39m0\u001b[90m, \u001b[39m1\u001b[90m, \u001b[39m2\u001b[90m, \u001b[39m3\u001b[90m, \u001b[39m3\u001b[90m, \u001b[39m0\u001b[90m, \u001b[39m0\u001b[90m, \u001b[39m0\u001b[90m, \u001b[39m0\u001b[90m, \u001b[39m0\u001b[90m, \u001b[39m1\u001b[90m, \u001b[39m0\u001b[90m, \u001b[39m0\u001b[90m, \u001b[39m1…\n",
      "$ `AST (FT)`     \u001b[3m\u001b[90m<int>\u001b[39m\u001b[23m 1\u001b[90m, \u001b[39m0\u001b[90m, \u001b[39m0\u001b[90m, \u001b[39m0\u001b[90m, \u001b[39m0\u001b[90m, \u001b[39m0\u001b[90m, \u001b[39m0\u001b[90m, \u001b[39m1\u001b[90m, \u001b[39m0\u001b[90m, \u001b[39m0\u001b[90m, \u001b[39m0\u001b[90m, \u001b[39m0\u001b[90m, \u001b[39m0\u001b[90m, \u001b[39m0\u001b[90m, \u001b[39m0\u001b[90m, \u001b[39m0\u001b[90m, \u001b[39m0\u001b[90m, \u001b[39m0\u001b[90m, \u001b[39m0…\n",
      "$ `AST PTS (FT)` \u001b[3m\u001b[90m<int>\u001b[39m\u001b[23m 2\u001b[90m, \u001b[39m0\u001b[90m, \u001b[39m0\u001b[90m, \u001b[39m0\u001b[90m, \u001b[39m0\u001b[90m, \u001b[39m0\u001b[90m, \u001b[39m0\u001b[90m, \u001b[39m0\u001b[90m, \u001b[39m0\u001b[90m, \u001b[39m0\u001b[90m, \u001b[39m0\u001b[90m, \u001b[39m0\u001b[90m, \u001b[39m0\u001b[90m, \u001b[39m0\u001b[90m, \u001b[39m0\u001b[90m, \u001b[39m0\u001b[90m, \u001b[39m0\u001b[90m, \u001b[39m0\u001b[90m, \u001b[39m0…\n",
      "$ LTO            \u001b[3m\u001b[90m<int>\u001b[39m\u001b[23m 1\u001b[90m, \u001b[39m0\u001b[90m, \u001b[39m0\u001b[90m, \u001b[39m0\u001b[90m, \u001b[39m0\u001b[90m, \u001b[39m0\u001b[90m, \u001b[39m1\u001b[90m, \u001b[39m2\u001b[90m, \u001b[39m0\u001b[90m, \u001b[39m0\u001b[90m, \u001b[39m1\u001b[90m, \u001b[39m0\u001b[90m, \u001b[39m0\u001b[90m, \u001b[39m0\u001b[90m, \u001b[39m0\u001b[90m, \u001b[39m1\u001b[90m, \u001b[39m1\u001b[90m, \u001b[39m0\u001b[90m, \u001b[39m0…\n",
      "$ DTO            \u001b[3m\u001b[90m<int>\u001b[39m\u001b[23m 0\u001b[90m, \u001b[39m0\u001b[90m, \u001b[39m0\u001b[90m, \u001b[39m0\u001b[90m, \u001b[39m1\u001b[90m, \u001b[39m2\u001b[90m, \u001b[39m0\u001b[90m, \u001b[39m0\u001b[90m, \u001b[39m0\u001b[90m, \u001b[39m0\u001b[90m, \u001b[39m1\u001b[90m, \u001b[39m0\u001b[90m, \u001b[39m0\u001b[90m, \u001b[39m0\u001b[90m, \u001b[39m1\u001b[90m, \u001b[39m0\u001b[90m, \u001b[39m1\u001b[90m, \u001b[39m1\u001b[90m, \u001b[39m0…\n",
      "$ BLK2           \u001b[3m\u001b[90m<int>\u001b[39m\u001b[23m 0\u001b[90m, \u001b[39m0\u001b[90m, \u001b[39m0\u001b[90m, \u001b[39m0\u001b[90m, \u001b[39m0\u001b[90m, \u001b[39m0\u001b[90m, \u001b[39m0\u001b[90m, \u001b[39m0\u001b[90m, \u001b[39m0\u001b[90m, \u001b[39m0\u001b[90m, \u001b[39m0\u001b[90m, \u001b[39m0\u001b[90m, \u001b[39m0\u001b[90m, \u001b[39m0\u001b[90m, \u001b[39m0\u001b[90m, \u001b[39m0\u001b[90m, \u001b[39m0\u001b[90m, \u001b[39m0\u001b[90m, \u001b[39m0…\n",
      "$ BLK3           \u001b[3m\u001b[90m<int>\u001b[39m\u001b[23m 0\u001b[90m, \u001b[39m0\u001b[90m, \u001b[39m0\u001b[90m, \u001b[39m0\u001b[90m, \u001b[39m0\u001b[90m, \u001b[39m0\u001b[90m, \u001b[39m0\u001b[90m, \u001b[39m0\u001b[90m, \u001b[39m0\u001b[90m, \u001b[39m0\u001b[90m, \u001b[39m0\u001b[90m, \u001b[39m0\u001b[90m, \u001b[39m0\u001b[90m, \u001b[39m0\u001b[90m, \u001b[39m0\u001b[90m, \u001b[39m0\u001b[90m, \u001b[39m0\u001b[90m, \u001b[39m0\u001b[90m, \u001b[39m0…\n",
      "$ OR_RIM         \u001b[3m\u001b[90m<int>\u001b[39m\u001b[23m 0\u001b[90m, \u001b[39m0\u001b[90m, \u001b[39m0\u001b[90m, \u001b[39m0\u001b[90m, \u001b[39m0\u001b[90m, \u001b[39m0\u001b[90m, \u001b[39m0\u001b[90m, \u001b[39m0\u001b[90m, \u001b[39m2\u001b[90m, \u001b[39m0\u001b[90m, \u001b[39m0\u001b[90m, \u001b[39m0\u001b[90m, \u001b[39m0\u001b[90m, \u001b[39m0\u001b[90m, \u001b[39m0\u001b[90m, \u001b[39m1\u001b[90m, \u001b[39m0\u001b[90m, \u001b[39m0\u001b[90m, \u001b[39m0…\n",
      "$ OR_PAINT       \u001b[3m\u001b[90m<int>\u001b[39m\u001b[23m 1\u001b[90m, \u001b[39m0\u001b[90m, \u001b[39m4\u001b[90m, \u001b[39m0\u001b[90m, \u001b[39m0\u001b[90m, \u001b[39m2\u001b[90m, \u001b[39m0\u001b[90m, \u001b[39m0\u001b[90m, \u001b[39m0\u001b[90m, \u001b[39m0\u001b[90m, \u001b[39m0\u001b[90m, \u001b[39m0\u001b[90m, \u001b[39m0\u001b[90m, \u001b[39m0\u001b[90m, \u001b[39m0\u001b[90m, \u001b[39m2\u001b[90m, \u001b[39m0\u001b[90m, \u001b[39m1\u001b[90m, \u001b[39m0…\n",
      "$ OR_NP2         \u001b[3m\u001b[90m<int>\u001b[39m\u001b[23m 0\u001b[90m, \u001b[39m0\u001b[90m, \u001b[39m0\u001b[90m, \u001b[39m0\u001b[90m, \u001b[39m0\u001b[90m, \u001b[39m0\u001b[90m, \u001b[39m0\u001b[90m, \u001b[39m0\u001b[90m, \u001b[39m1\u001b[90m, \u001b[39m0\u001b[90m, \u001b[39m0\u001b[90m, \u001b[39m0\u001b[90m, \u001b[39m0\u001b[90m, \u001b[39m0\u001b[90m, \u001b[39m0\u001b[90m, \u001b[39m0\u001b[90m, \u001b[39m0\u001b[90m, \u001b[39m0\u001b[90m, \u001b[39m0…\n",
      "$ OR_3C          \u001b[3m\u001b[90m<int>\u001b[39m\u001b[23m 0\u001b[90m, \u001b[39m0\u001b[90m, \u001b[39m0\u001b[90m, \u001b[39m0\u001b[90m, \u001b[39m0\u001b[90m, \u001b[39m0\u001b[90m, \u001b[39m0\u001b[90m, \u001b[39m0\u001b[90m, \u001b[39m0\u001b[90m, \u001b[39m0\u001b[90m, \u001b[39m0\u001b[90m, \u001b[39m0\u001b[90m, \u001b[39m0\u001b[90m, \u001b[39m0\u001b[90m, \u001b[39m0\u001b[90m, \u001b[39m0\u001b[90m, \u001b[39m0\u001b[90m, \u001b[39m0\u001b[90m, \u001b[39m0…\n",
      "$ OR_3L          \u001b[3m\u001b[90m<int>\u001b[39m\u001b[23m 0\u001b[90m, \u001b[39m1\u001b[90m, \u001b[39m1\u001b[90m, \u001b[39m1\u001b[90m, \u001b[39m0\u001b[90m, \u001b[39m0\u001b[90m, \u001b[39m0\u001b[90m, \u001b[39m0\u001b[90m, \u001b[39m0\u001b[90m, \u001b[39m1\u001b[90m, \u001b[39m0\u001b[90m, \u001b[39m0\u001b[90m, \u001b[39m0\u001b[90m, \u001b[39m0\u001b[90m, \u001b[39m0\u001b[90m, \u001b[39m1\u001b[90m, \u001b[39m1\u001b[90m, \u001b[39m0\u001b[90m, \u001b[39m1…\n",
      "$ OR_FT          \u001b[3m\u001b[90m<int>\u001b[39m\u001b[23m 0\u001b[90m, \u001b[39m0\u001b[90m, \u001b[39m0\u001b[90m, \u001b[39m0\u001b[90m, \u001b[39m1\u001b[90m, \u001b[39m0\u001b[90m, \u001b[39m0\u001b[90m, \u001b[39m0\u001b[90m, \u001b[39m0\u001b[90m, \u001b[39m0\u001b[90m, \u001b[39m0\u001b[90m, \u001b[39m0\u001b[90m, \u001b[39m0\u001b[90m, \u001b[39m0\u001b[90m, \u001b[39m0\u001b[90m, \u001b[39m0\u001b[90m, \u001b[39m0\u001b[90m, \u001b[39m0\u001b[90m, \u001b[39m0…\n",
      "$ DR_RIM         \u001b[3m\u001b[90m<int>\u001b[39m\u001b[23m 0\u001b[90m, \u001b[39m0\u001b[90m, \u001b[39m0\u001b[90m, \u001b[39m0\u001b[90m, \u001b[39m0\u001b[90m, \u001b[39m0\u001b[90m, \u001b[39m0\u001b[90m, \u001b[39m0\u001b[90m, \u001b[39m0\u001b[90m, \u001b[39m0\u001b[90m, \u001b[39m0\u001b[90m, \u001b[39m0\u001b[90m, \u001b[39m0\u001b[90m, \u001b[39m0\u001b[90m, \u001b[39m0\u001b[90m, \u001b[39m0\u001b[90m, \u001b[39m0\u001b[90m, \u001b[39m0\u001b[90m, \u001b[39m0…\n",
      "$ DR_PAINT       \u001b[3m\u001b[90m<int>\u001b[39m\u001b[23m 0\u001b[90m, \u001b[39m0\u001b[90m, \u001b[39m0\u001b[90m, \u001b[39m0\u001b[90m, \u001b[39m0\u001b[90m, \u001b[39m2\u001b[90m, \u001b[39m0\u001b[90m, \u001b[39m1\u001b[90m, \u001b[39m1\u001b[90m, \u001b[39m0\u001b[90m, \u001b[39m1\u001b[90m, \u001b[39m0\u001b[90m, \u001b[39m0\u001b[90m, \u001b[39m0\u001b[90m, \u001b[39m0\u001b[90m, \u001b[39m1\u001b[90m, \u001b[39m0\u001b[90m, \u001b[39m2\u001b[90m, \u001b[39m1…\n",
      "$ DR_NP2         \u001b[3m\u001b[90m<int>\u001b[39m\u001b[23m 0\u001b[90m, \u001b[39m1\u001b[90m, \u001b[39m0\u001b[90m, \u001b[39m0\u001b[90m, \u001b[39m0\u001b[90m, \u001b[39m0\u001b[90m, \u001b[39m0\u001b[90m, \u001b[39m0\u001b[90m, \u001b[39m0\u001b[90m, \u001b[39m0\u001b[90m, \u001b[39m0\u001b[90m, \u001b[39m0\u001b[90m, \u001b[39m0\u001b[90m, \u001b[39m0\u001b[90m, \u001b[39m0\u001b[90m, \u001b[39m0\u001b[90m, \u001b[39m0\u001b[90m, \u001b[39m1\u001b[90m, \u001b[39m0…\n",
      "$ DR_3C          \u001b[3m\u001b[90m<int>\u001b[39m\u001b[23m 0\u001b[90m, \u001b[39m0\u001b[90m, \u001b[39m0\u001b[90m, \u001b[39m0\u001b[90m, \u001b[39m0\u001b[90m, \u001b[39m0\u001b[90m, \u001b[39m1\u001b[90m, \u001b[39m0\u001b[90m, \u001b[39m0\u001b[90m, \u001b[39m1\u001b[90m, \u001b[39m0\u001b[90m, \u001b[39m0\u001b[90m, \u001b[39m0\u001b[90m, \u001b[39m0\u001b[90m, \u001b[39m0\u001b[90m, \u001b[39m0\u001b[90m, \u001b[39m0\u001b[90m, \u001b[39m0\u001b[90m, \u001b[39m0…\n",
      "$ DR_3L          \u001b[3m\u001b[90m<int>\u001b[39m\u001b[23m 2\u001b[90m, \u001b[39m0\u001b[90m, \u001b[39m0\u001b[90m, \u001b[39m0\u001b[90m, \u001b[39m0\u001b[90m, \u001b[39m1\u001b[90m, \u001b[39m2\u001b[90m, \u001b[39m2\u001b[90m, \u001b[39m0\u001b[90m, \u001b[39m2\u001b[90m, \u001b[39m1\u001b[90m, \u001b[39m0\u001b[90m, \u001b[39m0\u001b[90m, \u001b[39m0\u001b[90m, \u001b[39m4\u001b[90m, \u001b[39m0\u001b[90m, \u001b[39m0\u001b[90m, \u001b[39m0\u001b[90m, \u001b[39m0…\n",
      "$ DR_FT          \u001b[3m\u001b[90m<int>\u001b[39m\u001b[23m 1\u001b[90m, \u001b[39m0\u001b[90m, \u001b[39m0\u001b[90m, \u001b[39m0\u001b[90m, \u001b[39m0\u001b[90m, \u001b[39m0\u001b[90m, \u001b[39m0\u001b[90m, \u001b[39m0\u001b[90m, \u001b[39m0\u001b[90m, \u001b[39m1\u001b[90m, \u001b[39m1\u001b[90m, \u001b[39m1\u001b[90m, \u001b[39m0\u001b[90m, \u001b[39m0\u001b[90m, \u001b[39m0\u001b[90m, \u001b[39m1\u001b[90m, \u001b[39m0\u001b[90m, \u001b[39m0\u001b[90m, \u001b[39m0…\n",
      "$ FTM_T          \u001b[3m\u001b[90m<int>\u001b[39m\u001b[23m 0\u001b[90m, \u001b[39m0\u001b[90m, \u001b[39m0\u001b[90m, \u001b[39m0\u001b[90m, \u001b[39m0\u001b[90m, \u001b[39m0\u001b[90m, \u001b[39m0\u001b[90m, \u001b[39m0\u001b[90m, \u001b[39m0\u001b[90m, \u001b[39m0\u001b[90m, \u001b[39m0\u001b[90m, \u001b[39m0\u001b[90m, \u001b[39m0\u001b[90m, \u001b[39m0\u001b[90m, \u001b[39m0\u001b[90m, \u001b[39m0\u001b[90m, \u001b[39m0\u001b[90m, \u001b[39m0\u001b[90m, \u001b[39m0…\n",
      "$ FTA_T          \u001b[3m\u001b[90m<int>\u001b[39m\u001b[23m 0\u001b[90m, \u001b[39m0\u001b[90m, \u001b[39m0\u001b[90m, \u001b[39m0\u001b[90m, \u001b[39m0\u001b[90m, \u001b[39m0\u001b[90m, \u001b[39m0\u001b[90m, \u001b[39m0\u001b[90m, \u001b[39m0\u001b[90m, \u001b[39m0\u001b[90m, \u001b[39m0\u001b[90m, \u001b[39m0\u001b[90m, \u001b[39m0\u001b[90m, \u001b[39m0\u001b[90m, \u001b[39m0\u001b[90m, \u001b[39m0\u001b[90m, \u001b[39m0\u001b[90m, \u001b[39m0\u001b[90m, \u001b[39m0…\n",
      "$ FTM_1          \u001b[3m\u001b[90m<int>\u001b[39m\u001b[23m 0\u001b[90m, \u001b[39m0\u001b[90m, \u001b[39m0\u001b[90m, \u001b[39m0\u001b[90m, \u001b[39m0\u001b[90m, \u001b[39m0\u001b[90m, \u001b[39m0\u001b[90m, \u001b[39m1\u001b[90m, \u001b[39m0\u001b[90m, \u001b[39m0\u001b[90m, \u001b[39m0\u001b[90m, \u001b[39m0\u001b[90m, \u001b[39m0\u001b[90m, \u001b[39m0\u001b[90m, \u001b[39m0\u001b[90m, \u001b[39m0\u001b[90m, \u001b[39m0\u001b[90m, \u001b[39m0\u001b[90m, \u001b[39m0…\n",
      "$ FTA_1          \u001b[3m\u001b[90m<int>\u001b[39m\u001b[23m 0\u001b[90m, \u001b[39m0\u001b[90m, \u001b[39m0\u001b[90m, \u001b[39m0\u001b[90m, \u001b[39m0\u001b[90m, \u001b[39m0\u001b[90m, \u001b[39m0\u001b[90m, \u001b[39m1\u001b[90m, \u001b[39m0\u001b[90m, \u001b[39m0\u001b[90m, \u001b[39m0\u001b[90m, \u001b[39m0\u001b[90m, \u001b[39m0\u001b[90m, \u001b[39m0\u001b[90m, \u001b[39m0\u001b[90m, \u001b[39m0\u001b[90m, \u001b[39m0\u001b[90m, \u001b[39m0\u001b[90m, \u001b[39m0…\n",
      "$ FTM_2          \u001b[3m\u001b[90m<int>\u001b[39m\u001b[23m 2\u001b[90m, \u001b[39m0\u001b[90m, \u001b[39m0\u001b[90m, \u001b[39m3\u001b[90m, \u001b[39m0\u001b[90m, \u001b[39m0\u001b[90m, \u001b[39m0\u001b[90m, \u001b[39m2\u001b[90m, \u001b[39m0\u001b[90m, \u001b[39m1\u001b[90m, \u001b[39m2\u001b[90m, \u001b[39m0\u001b[90m, \u001b[39m0\u001b[90m, \u001b[39m0\u001b[90m, \u001b[39m0\u001b[90m, \u001b[39m2\u001b[90m, \u001b[39m1\u001b[90m, \u001b[39m0\u001b[90m, \u001b[39m0…\n",
      "$ FTA_2          \u001b[3m\u001b[90m<int>\u001b[39m\u001b[23m 2\u001b[90m, \u001b[39m0\u001b[90m, \u001b[39m0\u001b[90m, \u001b[39m4\u001b[90m, \u001b[39m0\u001b[90m, \u001b[39m0\u001b[90m, \u001b[39m0\u001b[90m, \u001b[39m2\u001b[90m, \u001b[39m0\u001b[90m, \u001b[39m2\u001b[90m, \u001b[39m2\u001b[90m, \u001b[39m0\u001b[90m, \u001b[39m0\u001b[90m, \u001b[39m0\u001b[90m, \u001b[39m0\u001b[90m, \u001b[39m4\u001b[90m, \u001b[39m2\u001b[90m, \u001b[39m0\u001b[90m, \u001b[39m0…\n",
      "$ `FT 0/2`       \u001b[3m\u001b[90m<int>\u001b[39m\u001b[23m 0\u001b[90m, \u001b[39m0\u001b[90m, \u001b[39m0\u001b[90m, \u001b[39m0\u001b[90m, \u001b[39m0\u001b[90m, \u001b[39m0\u001b[90m, \u001b[39m0\u001b[90m, \u001b[39m0\u001b[90m, \u001b[39m0\u001b[90m, \u001b[39m0\u001b[90m, \u001b[39m0\u001b[90m, \u001b[39m0\u001b[90m, \u001b[39m0\u001b[90m, \u001b[39m0\u001b[90m, \u001b[39m0\u001b[90m, \u001b[39m0\u001b[90m, \u001b[39m0\u001b[90m, \u001b[39m0\u001b[90m, \u001b[39m0…\n",
      "$ FTM_3          \u001b[3m\u001b[90m<int>\u001b[39m\u001b[23m 0\u001b[90m, \u001b[39m0\u001b[90m, \u001b[39m0\u001b[90m, \u001b[39m0\u001b[90m, \u001b[39m0\u001b[90m, \u001b[39m0\u001b[90m, \u001b[39m0\u001b[90m, \u001b[39m0\u001b[90m, \u001b[39m0\u001b[90m, \u001b[39m0\u001b[90m, \u001b[39m0\u001b[90m, \u001b[39m0\u001b[90m, \u001b[39m0\u001b[90m, \u001b[39m0\u001b[90m, \u001b[39m0\u001b[90m, \u001b[39m0\u001b[90m, \u001b[39m0\u001b[90m, \u001b[39m0\u001b[90m, \u001b[39m1…\n",
      "$ FTA_3          \u001b[3m\u001b[90m<int>\u001b[39m\u001b[23m 0\u001b[90m, \u001b[39m0\u001b[90m, \u001b[39m0\u001b[90m, \u001b[39m0\u001b[90m, \u001b[39m0\u001b[90m, \u001b[39m0\u001b[90m, \u001b[39m0\u001b[90m, \u001b[39m0\u001b[90m, \u001b[39m0\u001b[90m, \u001b[39m0\u001b[90m, \u001b[39m0\u001b[90m, \u001b[39m0\u001b[90m, \u001b[39m0\u001b[90m, \u001b[39m0\u001b[90m, \u001b[39m0\u001b[90m, \u001b[39m0\u001b[90m, \u001b[39m0\u001b[90m, \u001b[39m0\u001b[90m, \u001b[39m3…\n",
      "$ `FT 0/3`       \u001b[3m\u001b[90m<int>\u001b[39m\u001b[23m 0\u001b[90m, \u001b[39m0\u001b[90m, \u001b[39m0\u001b[90m, \u001b[39m0\u001b[90m, \u001b[39m0\u001b[90m, \u001b[39m0\u001b[90m, \u001b[39m0\u001b[90m, \u001b[39m0\u001b[90m, \u001b[39m0\u001b[90m, \u001b[39m0\u001b[90m, \u001b[39m0\u001b[90m, \u001b[39m0\u001b[90m, \u001b[39m0\u001b[90m, \u001b[39m0\u001b[90m, \u001b[39m0\u001b[90m, \u001b[39m0\u001b[90m, \u001b[39m0\u001b[90m, \u001b[39m0\u001b[90m, \u001b[39m0…\n",
      "$ RIM_M          \u001b[3m\u001b[90m<int>\u001b[39m\u001b[23m 0\u001b[90m, \u001b[39m0\u001b[90m, \u001b[39m0\u001b[90m, \u001b[39m1\u001b[90m, \u001b[39m2\u001b[90m, \u001b[39m0\u001b[90m, \u001b[39m0\u001b[90m, \u001b[39m1\u001b[90m, \u001b[39m0\u001b[90m, \u001b[39m0\u001b[90m, \u001b[39m0\u001b[90m, \u001b[39m0\u001b[90m, \u001b[39m0\u001b[90m, \u001b[39m0\u001b[90m, \u001b[39m1\u001b[90m, \u001b[39m1\u001b[90m, \u001b[39m3\u001b[90m, \u001b[39m0\u001b[90m, \u001b[39m1…\n",
      "$ RIM_A          \u001b[3m\u001b[90m<int>\u001b[39m\u001b[23m 0\u001b[90m, \u001b[39m0\u001b[90m, \u001b[39m0\u001b[90m, \u001b[39m1\u001b[90m, \u001b[39m2\u001b[90m, \u001b[39m0\u001b[90m, \u001b[39m0\u001b[90m, \u001b[39m2\u001b[90m, \u001b[39m1\u001b[90m, \u001b[39m0\u001b[90m, \u001b[39m0\u001b[90m, \u001b[39m0\u001b[90m, \u001b[39m0\u001b[90m, \u001b[39m0\u001b[90m, \u001b[39m1\u001b[90m, \u001b[39m1\u001b[90m, \u001b[39m3\u001b[90m, \u001b[39m0\u001b[90m, \u001b[39m1…\n",
      "$ PAINT_M        \u001b[3m\u001b[90m<int>\u001b[39m\u001b[23m 1\u001b[90m, \u001b[39m0\u001b[90m, \u001b[39m1\u001b[90m, \u001b[39m2\u001b[90m, \u001b[39m1\u001b[90m, \u001b[39m0\u001b[90m, \u001b[39m0\u001b[90m, \u001b[39m2\u001b[90m, \u001b[39m0\u001b[90m, \u001b[39m1\u001b[90m, \u001b[39m2\u001b[90m, \u001b[39m0\u001b[90m, \u001b[39m0\u001b[90m, \u001b[39m0\u001b[90m, \u001b[39m0\u001b[90m, \u001b[39m3\u001b[90m, \u001b[39m0\u001b[90m, \u001b[39m0\u001b[90m, \u001b[39m1…\n",
      "$ PAINT_A        \u001b[3m\u001b[90m<int>\u001b[39m\u001b[23m 5\u001b[90m, \u001b[39m0\u001b[90m, \u001b[39m5\u001b[90m, \u001b[39m2\u001b[90m, \u001b[39m1\u001b[90m, \u001b[39m1\u001b[90m, \u001b[39m1\u001b[90m, \u001b[39m4\u001b[90m, \u001b[39m1\u001b[90m, \u001b[39m3\u001b[90m, \u001b[39m3\u001b[90m, \u001b[39m0\u001b[90m, \u001b[39m0\u001b[90m, \u001b[39m0\u001b[90m, \u001b[39m0\u001b[90m, \u001b[39m4\u001b[90m, \u001b[39m3\u001b[90m, \u001b[39m1\u001b[90m, \u001b[39m1…\n",
      "$ MID_M          \u001b[3m\u001b[90m<int>\u001b[39m\u001b[23m 0\u001b[90m, \u001b[39m0\u001b[90m, \u001b[39m0\u001b[90m, \u001b[39m0\u001b[90m, \u001b[39m1\u001b[90m, \u001b[39m0\u001b[90m, \u001b[39m0\u001b[90m, \u001b[39m0\u001b[90m, \u001b[39m0\u001b[90m, \u001b[39m1\u001b[90m, \u001b[39m0\u001b[90m, \u001b[39m0\u001b[90m, \u001b[39m0\u001b[90m, \u001b[39m0\u001b[90m, \u001b[39m0\u001b[90m, \u001b[39m1\u001b[90m, \u001b[39m0\u001b[90m, \u001b[39m0\u001b[90m, \u001b[39m1…\n",
      "$ MID_A          \u001b[3m\u001b[90m<int>\u001b[39m\u001b[23m 1\u001b[90m, \u001b[39m0\u001b[90m, \u001b[39m0\u001b[90m, \u001b[39m0\u001b[90m, \u001b[39m1\u001b[90m, \u001b[39m0\u001b[90m, \u001b[39m2\u001b[90m, \u001b[39m0\u001b[90m, \u001b[39m0\u001b[90m, \u001b[39m1\u001b[90m, \u001b[39m0\u001b[90m, \u001b[39m0\u001b[90m, \u001b[39m0\u001b[90m, \u001b[39m0\u001b[90m, \u001b[39m0\u001b[90m, \u001b[39m2\u001b[90m, \u001b[39m0\u001b[90m, \u001b[39m0\u001b[90m, \u001b[39m1…\n",
      "$ `3C_M`         \u001b[3m\u001b[90m<int>\u001b[39m\u001b[23m 0\u001b[90m, \u001b[39m0\u001b[90m, \u001b[39m1\u001b[90m, \u001b[39m0\u001b[90m, \u001b[39m0\u001b[90m, \u001b[39m0\u001b[90m, \u001b[39m0\u001b[90m, \u001b[39m0\u001b[90m, \u001b[39m0\u001b[90m, \u001b[39m0\u001b[90m, \u001b[39m0\u001b[90m, \u001b[39m0\u001b[90m, \u001b[39m0\u001b[90m, \u001b[39m0\u001b[90m, \u001b[39m0\u001b[90m, \u001b[39m0\u001b[90m, \u001b[39m0\u001b[90m, \u001b[39m0\u001b[90m, \u001b[39m0…\n",
      "$ `3C_A`         \u001b[3m\u001b[90m<int>\u001b[39m\u001b[23m 0\u001b[90m, \u001b[39m0\u001b[90m, \u001b[39m1\u001b[90m, \u001b[39m0\u001b[90m, \u001b[39m0\u001b[90m, \u001b[39m0\u001b[90m, \u001b[39m0\u001b[90m, \u001b[39m0\u001b[90m, \u001b[39m0\u001b[90m, \u001b[39m0\u001b[90m, \u001b[39m0\u001b[90m, \u001b[39m0\u001b[90m, \u001b[39m0\u001b[90m, \u001b[39m0\u001b[90m, \u001b[39m1\u001b[90m, \u001b[39m0\u001b[90m, \u001b[39m0\u001b[90m, \u001b[39m0\u001b[90m, \u001b[39m1…\n",
      "$ `3L_M`         \u001b[3m\u001b[90m<int>\u001b[39m\u001b[23m 1\u001b[90m, \u001b[39m2\u001b[90m, \u001b[39m0\u001b[90m, \u001b[39m0\u001b[90m, \u001b[39m2\u001b[90m, \u001b[39m0\u001b[90m, \u001b[39m1\u001b[90m, \u001b[39m1\u001b[90m, \u001b[39m0\u001b[90m, \u001b[39m4\u001b[90m, \u001b[39m5\u001b[90m, \u001b[39m0\u001b[90m, \u001b[39m0\u001b[90m, \u001b[39m0\u001b[90m, \u001b[39m0\u001b[90m, \u001b[39m2\u001b[90m, \u001b[39m0\u001b[90m, \u001b[39m0\u001b[90m, \u001b[39m2…\n",
      "$ `3L_A`         \u001b[3m\u001b[90m<int>\u001b[39m\u001b[23m 5\u001b[90m, \u001b[39m2\u001b[90m, \u001b[39m1\u001b[90m, \u001b[39m0\u001b[90m, \u001b[39m2\u001b[90m, \u001b[39m3\u001b[90m, \u001b[39m3\u001b[90m, \u001b[39m2\u001b[90m, \u001b[39m0\u001b[90m, \u001b[39m7\u001b[90m, \u001b[39m8\u001b[90m, \u001b[39m0\u001b[90m, \u001b[39m0\u001b[90m, \u001b[39m0\u001b[90m, \u001b[39m2\u001b[90m, \u001b[39m5\u001b[90m, \u001b[39m0\u001b[90m, \u001b[39m1\u001b[90m, \u001b[39m4…\n",
      "$ `3H_M`         \u001b[3m\u001b[90m<int>\u001b[39m\u001b[23m 0\u001b[90m, \u001b[39m0\u001b[90m, \u001b[39m0\u001b[90m, \u001b[39m0\u001b[90m, \u001b[39m0\u001b[90m, \u001b[39m0\u001b[90m, \u001b[39m0\u001b[90m, \u001b[39m0\u001b[90m, \u001b[39m0\u001b[90m, \u001b[39m0\u001b[90m, \u001b[39m0\u001b[90m, \u001b[39m0\u001b[90m, \u001b[39m0\u001b[90m, \u001b[39m0\u001b[90m, \u001b[39m0\u001b[90m, \u001b[39m0\u001b[90m, \u001b[39m0\u001b[90m, \u001b[39m0\u001b[90m, \u001b[39m0…\n",
      "$ `3H_A`         \u001b[3m\u001b[90m<int>\u001b[39m\u001b[23m 0\u001b[90m, \u001b[39m0\u001b[90m, \u001b[39m0\u001b[90m, \u001b[39m0\u001b[90m, \u001b[39m0\u001b[90m, \u001b[39m0\u001b[90m, \u001b[39m0\u001b[90m, \u001b[39m0\u001b[90m, \u001b[39m0\u001b[90m, \u001b[39m0\u001b[90m, \u001b[39m0\u001b[90m, \u001b[39m0\u001b[90m, \u001b[39m0\u001b[90m, \u001b[39m0\u001b[90m, \u001b[39m0\u001b[90m, \u001b[39m0\u001b[90m, \u001b[39m0\u001b[90m, \u001b[39m0\u001b[90m, \u001b[39m0…\n"
     ]
    }
   ],
   "source": [
    "players <- convert(players)\n",
    "glimpse(players)"
   ]
  },
  {
   "cell_type": "code",
   "execution_count": 93,
   "metadata": {
    "vscode": {
     "languageId": "r"
    }
   },
   "outputs": [],
   "source": [
    "# Podział danych na poszczególne etapy rozgrywek\n",
    "# Dla zespołów\n",
    "teams_regular_raw <- teams %>% filter(ROUND <= 34)\n",
    "teams_playin_raw <- teams %>% filter(ROUND >= 35 & ROUND <= 36)\n",
    "teams_playoff_raw <- teams %>% filter(ROUND >= 37 & ROUND <= 41)\n",
    "teams_final4_raw  <- teams %>% filter(ROUND >= 42 & ROUND <= 43)\n",
    "\n",
    "# Dla zawodników\n",
    "players_regular <- players %>% filter(ROUND <= 34)\n",
    "players_playin  <- players %>% filter(ROUND >= 35 & ROUND <= 36)\n",
    "players_playoff <- players %>% filter(ROUND >= 37 & ROUND <= 41)\n",
    "players_final4  <- players %>% filter(ROUND >= 42 & ROUND <= 43)"
   ]
  },
  {
   "cell_type": "code",
   "execution_count": 94,
   "metadata": {
    "vscode": {
     "languageId": "r"
    }
   },
   "outputs": [
    {
     "name": "stdout",
     "output_type": "stream",
     "text": [
      "\u001b[90m# A tibble: 12 × 133\u001b[39m\n",
      "   ROUND `TM TAG` `OPP TAG` `TM NAME`   `OPP NAME` DATE  `H/A` `W/L`   MIN   PTS\n",
      "   \u001b[3m\u001b[90m<int>\u001b[39m\u001b[23m \u001b[3m\u001b[90m<chr>\u001b[39m\u001b[23m    \u001b[3m\u001b[90m<chr>\u001b[39m\u001b[23m     \u001b[3m\u001b[90m<chr>\u001b[39m\u001b[23m       \u001b[3m\u001b[90m<chr>\u001b[39m\u001b[23m      \u001b[3m\u001b[90m<chr>\u001b[39m\u001b[23m \u001b[3m\u001b[90m<chr>\u001b[39m\u001b[23m \u001b[3m\u001b[90m<chr>\u001b[39m\u001b[23m \u001b[3m\u001b[90m<int>\u001b[39m\u001b[23m \u001b[3m\u001b[90m<int>\u001b[39m\u001b[23m\n",
      "\u001b[90m 1\u001b[39m    35 BAS      MTA       Baskonia    Maccabi T… 16.0… A     L       200    85\n",
      "\u001b[90m 2\u001b[39m    35 MTA      BAS       Maccabi Te… Baskonia   16.0… H     W       200   113\n",
      "\u001b[90m 3\u001b[39m    35 EFE      VIR       Efes        Virtus Bo… 16.0… H     L       200    64\n",
      "\u001b[90m 4\u001b[39m    35 VIR      EFE       Virtus Bol… Efes       16.0… A     W       200    67\n",
      "\u001b[90m 5\u001b[39m    35 BAS      MTA       Maccabi Te… Baskonia   16.0… A     L       200   113\n",
      "\u001b[90m 6\u001b[39m    35 MTA      BAS       Baskonia    Maccabi T… 16.0… H     W       200    85\n",
      "\u001b[90m 7\u001b[39m    35 EFE      VIR       Virtus Bol… Efes       16.0… H     L       200    67\n",
      "\u001b[90m 8\u001b[39m    35 VIR      EFE       Efes        Virtus Bo… 16.0… A     W       200    64\n",
      "\u001b[90m 9\u001b[39m    36 BAS      VIR       Baskonia    Virtus Bo… 19.0… H     W       200    89\n",
      "\u001b[90m10\u001b[39m    36 VIR      BAS       Virtus Bol… Baskonia   19.0… A     L       200    77\n",
      "\u001b[90m11\u001b[39m    36 BAS      VIR       Virtus Bol… Baskonia   19.0… H     W       200    77\n",
      "\u001b[90m12\u001b[39m    36 VIR      BAS       Baskonia    Virtus Bo… 19.0… A     L       200    89\n",
      "\u001b[90m# ℹ 123 more variables: `2PTM` <int>, `2PTA` <int>, `2PT%` <dbl>, `3PTM` <int>,\u001b[39m\n",
      "\u001b[90m#   `3PTA` <int>, `3PT%` <dbl>, FGM <int>, FGA <int>, `FG%` <dbl>, FTM <int>,\u001b[39m\n",
      "\u001b[90m#   FTA <int>, `FT%` <dbl>, OR <int>, DR <int>, TR <int>, AST <int>, TO <int>,\u001b[39m\n",
      "\u001b[90m#   ST <int>, BLK <int>, BLKA <int>, PF <int>, DF <int>, VAL <int>,\u001b[39m\n",
      "\u001b[90m#   `+ / -` <int>, POSS <int>, `SHOOTING CHANCES` <dbl>, `OFF PPP` <dbl>,\u001b[39m\n",
      "\u001b[90m#   `DEF PPP` <dbl>, `OFF RTG` <dbl>, `DEF RTG` <dbl>, `NET RTG` <dbl>,\u001b[39m\n",
      "\u001b[90m#   `eFG%` <dbl>, `TS%` <dbl>, `RIM FREQ` <dbl>, `RIM PPS` <dbl>, …\u001b[39m\n"
     ]
    }
   ],
   "source": [
    "print(teams_playin_raw)\n",
    "\n",
    "#Poniżej widać, że pojawiają się błędy w postaci niepotrzebnych recordów\n",
    "#Należy usunąć wiersze, gdzie TM TAG jest niezgodny z TM NAME \n",
    "#np. 5 `TM TAG` = BAS, `TM NAME` = Maccabi Playtika Tel Aviv"
   ]
  },
  {
   "cell_type": "markdown",
   "metadata": {},
   "source": [
    "**Czyszczenie danych teams**"
   ]
  },
  {
   "cell_type": "code",
   "execution_count": 95,
   "metadata": {
    "vscode": {
     "languageId": "r"
    }
   },
   "outputs": [
    {
     "name": "stdout",
     "output_type": "stream",
     "text": [
      "\u001b[90m# A tibble: 18 × 2\u001b[39m\n",
      "   `TM TAG` `TM NAME`       \n",
      "   \u001b[3m\u001b[90m<chr>\u001b[39m\u001b[23m    \u001b[3m\u001b[90m<chr>\u001b[39m\u001b[23m           \n",
      "\u001b[90m 1\u001b[39m CZB      Crvena Zvezda   \n",
      "\u001b[90m 2\u001b[39m ASV      ASVEL           \n",
      "\u001b[90m 3\u001b[39m MTA      Maccabi Tel Aviv\n",
      "\u001b[90m 4\u001b[39m PAR      Partizan        \n",
      "\u001b[90m 5\u001b[39m EFE      Efes            \n",
      "\u001b[90m 6\u001b[39m FCB      Barcelona       \n",
      "\u001b[90m 7\u001b[39m BER      ALBA            \n",
      "\u001b[90m 8\u001b[39m BAY      Bayern          \n",
      "\u001b[90m 9\u001b[39m VIR      Virtus Bologna  \n",
      "\u001b[90m10\u001b[39m ZAL      Zalgiris        \n",
      "\u001b[90m11\u001b[39m MIL      Olimpia Milan   \n",
      "\u001b[90m12\u001b[39m FEN      Fenerbahce      \n",
      "\u001b[90m13\u001b[39m OLY      Olympiacos      \n",
      "\u001b[90m14\u001b[39m PAN      Panathinaikos   \n",
      "\u001b[90m15\u001b[39m BAS      Baskonia        \n",
      "\u001b[90m16\u001b[39m RMB      Real Madrid     \n",
      "\u001b[90m17\u001b[39m ASM      Monaco          \n",
      "\u001b[90m18\u001b[39m VAL      Valencia        \n"
     ]
    }
   ],
   "source": [
    "tag_name_map <- tibble(\n",
    "  `TM TAG` = c(\"CZB\", \"ASV\", \"MTA\", \"PAR\", \"EFE\", \"FCB\", \"BER\", \"BAY\",\n",
    "               \"VIR\", \"ZAL\", \"MIL\", \"FEN\", \"OLY\", \"PAN\", \"BAS\", \"RMB\",\n",
    "               \"ASM\", \"VAL\"),\n",
    "  `TM NAME` = c(\"Crvena Zvezda\",\n",
    "                \"ASVEL\",\n",
    "                \"Maccabi Tel Aviv\",\n",
    "                \"Partizan\",\n",
    "                \"Efes\",\n",
    "                \"Barcelona\",\n",
    "                \"ALBA\",\n",
    "                \"Bayern\",\n",
    "                \"Virtus Bologna\",\n",
    "                \"Zalgiris\",\n",
    "                \"Olimpia Milan\",\n",
    "                \"Fenerbahce\",\n",
    "                \"Olympiacos\",\n",
    "                \"Panathinaikos\",\n",
    "                \"Baskonia\",\n",
    "                \"Real Madrid\",\n",
    "                \"Monaco\",\n",
    "                \"Valencia\")\n",
    ")\n",
    "\n",
    "print(tag_name_map)"
   ]
  },
  {
   "cell_type": "code",
   "execution_count": 96,
   "metadata": {
    "vscode": {
     "languageId": "r"
    }
   },
   "outputs": [],
   "source": [
    "clean_names_tbox <- function(teams, tag_map) {\n",
    "  teams %>%\n",
    "    left_join(tag_map, by = \"TM TAG\") %>%   # Dopasowanie poprawnej nazwy\n",
    "    filter(`TM NAME.x` == `TM NAME.y`) %>%  # Zachowanie tylko poprawnych nazw\n",
    "    select(-`TM NAME.y`) %>%                # Usuwanie pomocniczej kolumny\n",
    "    rename(`TM NAME` = `TM NAME.x`)         # Przywracanie oryginalnej nazwy\n",
    "}\n"
   ]
  },
  {
   "cell_type": "code",
   "execution_count": 97,
   "metadata": {
    "vscode": {
     "languageId": "r"
    }
   },
   "outputs": [],
   "source": [
    "scale_minutes <- function(teams) {\n",
    "  teams %>%\n",
    "    mutate(`MIN` = as.integer(`MIN` / 5))   # Podzielenie liczby min przez 5\n",
    "}"
   ]
  },
  {
   "cell_type": "code",
   "execution_count": 98,
   "metadata": {
    "vscode": {
     "languageId": "r"
    }
   },
   "outputs": [],
   "source": [
    "teams_regular <- scale_minutes(\n",
    "  clean_names_tbox(teams_regular_raw, tag_name_map))\n",
    "\n",
    "teams_playin <- scale_minutes(clean_names_tbox(teams_playin_raw, tag_name_map))\n",
    "\n",
    "teams_playoff <- scale_minutes(\n",
    "  clean_names_tbox(teams_playoff_raw, tag_name_map))\n",
    "  \n",
    "teams_final4 <- scale_minutes(clean_names_tbox(teams_final4_raw, tag_name_map))"
   ]
  },
  {
   "cell_type": "code",
   "execution_count": 99,
   "metadata": {
    "vscode": {
     "languageId": "r"
    }
   },
   "outputs": [
    {
     "name": "stdout",
     "output_type": "stream",
     "text": [
      "\u001b[90m# A tibble: 6 × 133\u001b[39m\n",
      "  ROUND `TM TAG` `OPP TAG` `TM NAME`    `OPP NAME` DATE  `H/A` `W/L`   MIN   PTS\n",
      "  \u001b[3m\u001b[90m<int>\u001b[39m\u001b[23m \u001b[3m\u001b[90m<chr>\u001b[39m\u001b[23m    \u001b[3m\u001b[90m<chr>\u001b[39m\u001b[23m     \u001b[3m\u001b[90m<chr>\u001b[39m\u001b[23m        \u001b[3m\u001b[90m<chr>\u001b[39m\u001b[23m      \u001b[3m\u001b[90m<chr>\u001b[39m\u001b[23m \u001b[3m\u001b[90m<chr>\u001b[39m\u001b[23m \u001b[3m\u001b[90m<chr>\u001b[39m\u001b[23m \u001b[3m\u001b[90m<int>\u001b[39m\u001b[23m \u001b[3m\u001b[90m<int>\u001b[39m\u001b[23m\n",
      "\u001b[90m1\u001b[39m    35 BAS      MTA       Baskonia     Maccabi T… 16.0… A     L        40    85\n",
      "\u001b[90m2\u001b[39m    35 MTA      BAS       Maccabi Tel… Baskonia   16.0… H     W        40   113\n",
      "\u001b[90m3\u001b[39m    35 EFE      VIR       Efes         Virtus Bo… 16.0… H     L        40    64\n",
      "\u001b[90m4\u001b[39m    35 VIR      EFE       Virtus Bolo… Efes       16.0… A     W        40    67\n",
      "\u001b[90m5\u001b[39m    36 BAS      VIR       Baskonia     Virtus Bo… 19.0… H     W        40    89\n",
      "\u001b[90m6\u001b[39m    36 VIR      BAS       Virtus Bolo… Baskonia   19.0… A     L        40    77\n",
      "\u001b[90m# ℹ 123 more variables: `2PTM` <int>, `2PTA` <int>, `2PT%` <dbl>, `3PTM` <int>,\u001b[39m\n",
      "\u001b[90m#   `3PTA` <int>, `3PT%` <dbl>, FGM <int>, FGA <int>, `FG%` <dbl>, FTM <int>,\u001b[39m\n",
      "\u001b[90m#   FTA <int>, `FT%` <dbl>, OR <int>, DR <int>, TR <int>, AST <int>, TO <int>,\u001b[39m\n",
      "\u001b[90m#   ST <int>, BLK <int>, BLKA <int>, PF <int>, DF <int>, VAL <int>,\u001b[39m\n",
      "\u001b[90m#   `+ / -` <int>, POSS <int>, `SHOOTING CHANCES` <dbl>, `OFF PPP` <dbl>,\u001b[39m\n",
      "\u001b[90m#   `DEF PPP` <dbl>, `OFF RTG` <dbl>, `DEF RTG` <dbl>, `NET RTG` <dbl>,\u001b[39m\n",
      "\u001b[90m#   `eFG%` <dbl>, `TS%` <dbl>, `RIM FREQ` <dbl>, `RIM PPS` <dbl>, …\u001b[39m\n"
     ]
    }
   ],
   "source": [
    "print(teams_playin)"
   ]
  },
  {
   "cell_type": "markdown",
   "metadata": {},
   "source": [
    "**Czyszczenie danych opponents** "
   ]
  },
  {
   "cell_type": "code",
   "execution_count": 100,
   "metadata": {
    "vscode": {
     "languageId": "r"
    }
   },
   "outputs": [],
   "source": [
    "clean_names_obox <- function(opponents, tag_map) {\n",
    "  opponents %>%\n",
    "    left_join(tag_map, by = \"TM TAG\") %>%\n",
    "    filter(`TM NAME.x` != `TM NAME.y`) %>%  #przeciwny warunek do Tbox\n",
    "    select(-`TM NAME.y`) %>%\n",
    "    rename(`TM NAME` = `TM NAME.x`)\n",
    "}"
   ]
  },
  {
   "cell_type": "code",
   "execution_count": 101,
   "metadata": {
    "vscode": {
     "languageId": "r"
    }
   },
   "outputs": [],
   "source": [
    "opp_regular <- scale_minutes(clean_names_obox(teams_regular_raw, tag_name_map))\n",
    "opp_playin <- scale_minutes(clean_names_obox(teams_playin_raw, tag_name_map))\n",
    "opp_playoff <- scale_minutes(clean_names_obox(teams_playoff_raw, tag_name_map))\n",
    "opp_final4 <- scale_minutes(clean_names_obox(teams_final4_raw, tag_name_map))"
   ]
  },
  {
   "cell_type": "code",
   "execution_count": 102,
   "metadata": {
    "vscode": {
     "languageId": "r"
    }
   },
   "outputs": [
    {
     "name": "stdout",
     "output_type": "stream",
     "text": [
      "\u001b[90m# A tibble: 612 × 133\u001b[39m\n",
      "   ROUND `TM TAG` `OPP TAG` `TM NAME`   `OPP NAME` DATE  `H/A` `W/L`   MIN   PTS\n",
      "   \u001b[3m\u001b[90m<int>\u001b[39m\u001b[23m \u001b[3m\u001b[90m<chr>\u001b[39m\u001b[23m    \u001b[3m\u001b[90m<chr>\u001b[39m\u001b[23m     \u001b[3m\u001b[90m<chr>\u001b[39m\u001b[23m       \u001b[3m\u001b[90m<chr>\u001b[39m\u001b[23m      \u001b[3m\u001b[90m<chr>\u001b[39m\u001b[23m \u001b[3m\u001b[90m<chr>\u001b[39m\u001b[23m \u001b[3m\u001b[90m<chr>\u001b[39m\u001b[23m \u001b[3m\u001b[90m<int>\u001b[39m\u001b[23m \u001b[3m\u001b[90m<int>\u001b[39m\u001b[23m\n",
      "\u001b[90m 1\u001b[39m     1 CZB      ASV       ASVEL       Crvena Zv… 05.1… H     W        40    73\n",
      "\u001b[90m 2\u001b[39m     1 ASV      CZB       Crvena Zve… ASVEL      05.1… A     L        40    94\n",
      "\u001b[90m 3\u001b[39m     1 MTA      PAR       Partizan    Maccabi T… 05.1… H     W        40    81\n",
      "\u001b[90m 4\u001b[39m     1 PAR      MTA       Maccabi Te… Partizan   05.1… A     L        40    96\n",
      "\u001b[90m 5\u001b[39m     1 EFE      FCB       Barcelona   Efes       05.1… A     L        40    91\n",
      "\u001b[90m 6\u001b[39m     1 FCB      EFE       Efes        Barcelona  05.1… H     W        40    74\n",
      "\u001b[90m 7\u001b[39m     1 BER      BAY       Bayern      ALBA       05.1… A     L        40    80\n",
      "\u001b[90m 8\u001b[39m     1 BAY      BER       ALBA        Bayern     05.1… H     W        40    68\n",
      "\u001b[90m 9\u001b[39m     1 VIR      ZAL       Zalgiris    Virtus Bo… 05.1… H     L        40    82\n",
      "\u001b[90m10\u001b[39m     1 ZAL      VIR       Virtus Bol… Zalgiris   05.1… A     W        40    79\n",
      "\u001b[90m# ℹ 602 more rows\u001b[39m\n",
      "\u001b[90m# ℹ 123 more variables: `2PTM` <int>, `2PTA` <int>, `2PT%` <dbl>, `3PTM` <int>,\u001b[39m\n",
      "\u001b[90m#   `3PTA` <int>, `3PT%` <dbl>, FGM <int>, FGA <int>, `FG%` <dbl>, FTM <int>,\u001b[39m\n",
      "\u001b[90m#   FTA <int>, `FT%` <dbl>, OR <int>, DR <int>, TR <int>, AST <int>, TO <int>,\u001b[39m\n",
      "\u001b[90m#   ST <int>, BLK <int>, BLKA <int>, PF <int>, DF <int>, VAL <int>,\u001b[39m\n",
      "\u001b[90m#   `+ / -` <int>, POSS <int>, `SHOOTING CHANCES` <dbl>, `OFF PPP` <dbl>,\u001b[39m\n",
      "\u001b[90m#   `DEF PPP` <dbl>, `OFF RTG` <dbl>, `DEF RTG` <dbl>, `NET RTG` <dbl>, …\u001b[39m\n"
     ]
    }
   ],
   "source": [
    "print(opp_regular)"
   ]
  },
  {
   "cell_type": "markdown",
   "metadata": {},
   "source": [
    "**Czyszczenie danych players**"
   ]
  },
  {
   "cell_type": "code",
   "execution_count": 103,
   "metadata": {
    "vscode": {
     "languageId": "r"
    }
   },
   "outputs": [],
   "source": [
    "delete_0min <- function(players) {\n",
    "  players[players$MIN != 0, ]\n",
    "}"
   ]
  },
  {
   "cell_type": "code",
   "execution_count": 104,
   "metadata": {
    "vscode": {
     "languageId": "r"
    }
   },
   "outputs": [
    {
     "name": "stdout",
     "output_type": "stream",
     "text": [
      "Rows: 72\n",
      "Columns: 85\n",
      "$ `TM TAG`       \u001b[3m\u001b[90m<chr>\u001b[39m\u001b[23m \"BAS\"\u001b[90m, \u001b[39m\"BAS\"\u001b[90m, \u001b[39m\"BAS\"\u001b[90m, \u001b[39m\"BAS\"\u001b[90m, \u001b[39m\"BAS\"\u001b[90m, \u001b[39m\"BAS\"\u001b[90m, \u001b[39m\"BAS\"\u001b[90m, \u001b[39m\"BAS\"\u001b[90m,\u001b[39m…\n",
      "$ NAME           \u001b[3m\u001b[90m<chr>\u001b[39m\u001b[23m \"Chima Moneke\"\u001b[90m, \u001b[39m\"Chris Chiozza\"\u001b[90m, \u001b[39m\"Codi Miller McIntyre\"…\n",
      "$ ROLE           \u001b[3m\u001b[90m<chr>\u001b[39m\u001b[23m \"PF\"\u001b[90m, \u001b[39m\"PG\"\u001b[90m, \u001b[39m\"PG\"\u001b[90m, \u001b[39m\"F\"\u001b[90m, \u001b[39m\"PG/SG\"\u001b[90m, \u001b[39m\"C\"\u001b[90m, \u001b[39m\"PG\"\u001b[90m, \u001b[39m\"PF/C\"\u001b[90m, \u001b[39m\"F\"\u001b[90m,\u001b[39m…\n",
      "$ NAT            \u001b[3m\u001b[90m<chr>\u001b[39m\u001b[23m \"NGR\"\u001b[90m, \u001b[39m\"USA\"\u001b[90m, \u001b[39m\"USA\"\u001b[90m, \u001b[39m\"ESP\"\u001b[90m, \u001b[39m\"MKD\"\u001b[90m, \u001b[39m\"EST\"\u001b[90m, \u001b[39m\"USA\"\u001b[90m, \u001b[39m\"USA\"\u001b[90m,\u001b[39m…\n",
      "$ HEIGHT         \u001b[3m\u001b[90m<chr>\u001b[39m\u001b[23m \"198\"\u001b[90m, \u001b[39m\"180\"\u001b[90m, \u001b[39m\"191\"\u001b[90m, \u001b[39m\"203\"\u001b[90m, \u001b[39m\"182\"\u001b[90m, \u001b[39m\"209\"\u001b[90m, \u001b[39m\"178\"\u001b[90m, \u001b[39m\"210\"\u001b[90m,\u001b[39m…\n",
      "$ AGE            \u001b[3m\u001b[90m<int>\u001b[39m\u001b[23m 29\u001b[90m, \u001b[39m29\u001b[90m, \u001b[39m30\u001b[90m, \u001b[39m31\u001b[90m, \u001b[39m35\u001b[90m, \u001b[39m28\u001b[90m, \u001b[39m25\u001b[90m, \u001b[39m31\u001b[90m, \u001b[39m23\u001b[90m, \u001b[39m25\u001b[90m, \u001b[39m26\u001b[90m, \u001b[39m27\u001b[90m, \u001b[39m30\u001b[90m, \u001b[39m28\u001b[90m,\u001b[39m…\n",
      "$ ROUND          \u001b[3m\u001b[90m<int>\u001b[39m\u001b[23m 35\u001b[90m, \u001b[39m35\u001b[90m, \u001b[39m35\u001b[90m, \u001b[39m35\u001b[90m, \u001b[39m35\u001b[90m, \u001b[39m35\u001b[90m, \u001b[39m35\u001b[90m, \u001b[39m35\u001b[90m, \u001b[39m35\u001b[90m, \u001b[39m35\u001b[90m, \u001b[39m35\u001b[90m, \u001b[39m35\u001b[90m, \u001b[39m35\u001b[90m, \u001b[39m35\u001b[90m,\u001b[39m…\n",
      "$ `TM NAME`      \u001b[3m\u001b[90m<chr>\u001b[39m\u001b[23m \"Baskonia\"\u001b[90m, \u001b[39m\"Baskonia\"\u001b[90m, \u001b[39m\"Baskonia\"\u001b[90m, \u001b[39m\"Baskonia\"\u001b[90m, \u001b[39m\"Baskon…\n",
      "$ `OPP NAME`     \u001b[3m\u001b[90m<chr>\u001b[39m\u001b[23m \"Maccabi Tel Aviv\"\u001b[90m, \u001b[39m\"Maccabi Tel Aviv\"\u001b[90m, \u001b[39m\"Maccabi Tel Av…\n",
      "$ DATE           \u001b[3m\u001b[90m<chr>\u001b[39m\u001b[23m \"16.04.2024\"\u001b[90m, \u001b[39m\"16.04.2024\"\u001b[90m, \u001b[39m\"16.04.2024\"\u001b[90m, \u001b[39m\"16.04.2024\"\u001b[90m,\u001b[39m…\n",
      "$ `H/A`          \u001b[3m\u001b[90m<chr>\u001b[39m\u001b[23m \"A\"\u001b[90m, \u001b[39m\"A\"\u001b[90m, \u001b[39m\"A\"\u001b[90m, \u001b[39m\"A\"\u001b[90m, \u001b[39m\"A\"\u001b[90m, \u001b[39m\"A\"\u001b[90m, \u001b[39m\"A\"\u001b[90m, \u001b[39m\"A\"\u001b[90m, \u001b[39m\"A\"\u001b[90m, \u001b[39m\"A\"\u001b[90m, \u001b[39m\"A\"\u001b[90m, \u001b[39m…\n",
      "$ `W/L`          \u001b[3m\u001b[90m<chr>\u001b[39m\u001b[23m \"L\"\u001b[90m, \u001b[39m\"L\"\u001b[90m, \u001b[39m\"L\"\u001b[90m, \u001b[39m\"L\"\u001b[90m, \u001b[39m\"L\"\u001b[90m, \u001b[39m\"L\"\u001b[90m, \u001b[39m\"L\"\u001b[90m, \u001b[39m\"L\"\u001b[90m, \u001b[39m\"L\"\u001b[90m, \u001b[39m\"L\"\u001b[90m, \u001b[39m\"L\"\u001b[90m, \u001b[39m…\n",
      "$ MIN            \u001b[3m\u001b[90m<int>\u001b[39m\u001b[23m 9\u001b[90m, \u001b[39m7\u001b[90m, \u001b[39m31\u001b[90m, \u001b[39m6\u001b[90m, \u001b[39m8\u001b[90m, \u001b[39m26\u001b[90m, \u001b[39m28\u001b[90m, \u001b[39m14\u001b[90m, \u001b[39m17\u001b[90m, \u001b[39m1\u001b[90m, \u001b[39m34\u001b[90m, \u001b[39m20\u001b[90m, \u001b[39m18\u001b[90m, \u001b[39m25\u001b[90m, \u001b[39m14\u001b[90m, \u001b[39m…\n",
      "$ PTS            \u001b[3m\u001b[90m<int>\u001b[39m\u001b[23m 0\u001b[90m, \u001b[39m0\u001b[90m, \u001b[39m32\u001b[90m, \u001b[39m0\u001b[90m, \u001b[39m2\u001b[90m, \u001b[39m6\u001b[90m, \u001b[39m14\u001b[90m, \u001b[39m5\u001b[90m, \u001b[39m10\u001b[90m, \u001b[39m0\u001b[90m, \u001b[39m11\u001b[90m, \u001b[39m5\u001b[90m, \u001b[39m11\u001b[90m, \u001b[39m14\u001b[90m, \u001b[39m3\u001b[90m, \u001b[39m8\u001b[90m, \u001b[39m8…\n",
      "$ `2PTM`         \u001b[3m\u001b[90m<int>\u001b[39m\u001b[23m 0\u001b[90m, \u001b[39m0\u001b[90m, \u001b[39m11\u001b[90m, \u001b[39m0\u001b[90m, \u001b[39m1\u001b[90m, \u001b[39m2\u001b[90m, \u001b[39m1\u001b[90m, \u001b[39m1\u001b[90m, \u001b[39m2\u001b[90m, \u001b[39m0\u001b[90m, \u001b[39m4\u001b[90m, \u001b[39m1\u001b[90m, \u001b[39m1\u001b[90m, \u001b[39m4\u001b[90m, \u001b[39m0\u001b[90m, \u001b[39m3\u001b[90m, \u001b[39m3\u001b[90m, \u001b[39m0\u001b[90m, \u001b[39m…\n",
      "$ `2PTA`         \u001b[3m\u001b[90m<int>\u001b[39m\u001b[23m 1\u001b[90m, \u001b[39m0\u001b[90m, \u001b[39m13\u001b[90m, \u001b[39m0\u001b[90m, \u001b[39m1\u001b[90m, \u001b[39m3\u001b[90m, \u001b[39m6\u001b[90m, \u001b[39m1\u001b[90m, \u001b[39m3\u001b[90m, \u001b[39m0\u001b[90m, \u001b[39m5\u001b[90m, \u001b[39m1\u001b[90m, \u001b[39m3\u001b[90m, \u001b[39m8\u001b[90m, \u001b[39m0\u001b[90m, \u001b[39m4\u001b[90m, \u001b[39m3\u001b[90m, \u001b[39m1\u001b[90m, \u001b[39m…\n",
      "$ `2PT%`         \u001b[3m\u001b[90m<dbl>\u001b[39m\u001b[23m 0.0000000\u001b[90m, \u001b[39m\u001b[31mNA\u001b[39m\u001b[90m, \u001b[39m0.8461538\u001b[90m, \u001b[39m\u001b[31mNA\u001b[39m\u001b[90m, \u001b[39m1.0000000\u001b[90m, \u001b[39m0.6666667\u001b[90m, \u001b[39m0.1…\n",
      "$ `3PTM`         \u001b[3m\u001b[90m<int>\u001b[39m\u001b[23m 0\u001b[90m, \u001b[39m0\u001b[90m, \u001b[39m2\u001b[90m, \u001b[39m0\u001b[90m, \u001b[39m0\u001b[90m, \u001b[39m0\u001b[90m, \u001b[39m4\u001b[90m, \u001b[39m1\u001b[90m, \u001b[39m2\u001b[90m, \u001b[39m0\u001b[90m, \u001b[39m1\u001b[90m, \u001b[39m1\u001b[90m, \u001b[39m2\u001b[90m, \u001b[39m2\u001b[90m, \u001b[39m1\u001b[90m, \u001b[39m0\u001b[90m, \u001b[39m0\u001b[90m, \u001b[39m0\u001b[90m, \u001b[39m0…\n",
      "$ `3PTA`         \u001b[3m\u001b[90m<int>\u001b[39m\u001b[23m 1\u001b[90m, \u001b[39m0\u001b[90m, \u001b[39m4\u001b[90m, \u001b[39m1\u001b[90m, \u001b[39m0\u001b[90m, \u001b[39m0\u001b[90m, \u001b[39m8\u001b[90m, \u001b[39m3\u001b[90m, \u001b[39m4\u001b[90m, \u001b[39m0\u001b[90m, \u001b[39m4\u001b[90m, \u001b[39m4\u001b[90m, \u001b[39m3\u001b[90m, \u001b[39m4\u001b[90m, \u001b[39m2\u001b[90m, \u001b[39m5\u001b[90m, \u001b[39m0\u001b[90m, \u001b[39m2\u001b[90m, \u001b[39m0…\n",
      "$ `3PT%`         \u001b[3m\u001b[90m<dbl>\u001b[39m\u001b[23m 0.0000000\u001b[90m, \u001b[39m\u001b[31mNA\u001b[39m\u001b[90m, \u001b[39m0.5000000\u001b[90m, \u001b[39m0.0000000\u001b[90m, \u001b[39m\u001b[31mNA\u001b[39m\u001b[90m, \u001b[39m\u001b[31mNA\u001b[39m\u001b[90m, \u001b[39m0.5000000\u001b[90m,\u001b[39m…\n",
      "$ FGM            \u001b[3m\u001b[90m<int>\u001b[39m\u001b[23m 0\u001b[90m, \u001b[39m0\u001b[90m, \u001b[39m13\u001b[90m, \u001b[39m0\u001b[90m, \u001b[39m1\u001b[90m, \u001b[39m2\u001b[90m, \u001b[39m5\u001b[90m, \u001b[39m2\u001b[90m, \u001b[39m4\u001b[90m, \u001b[39m0\u001b[90m, \u001b[39m5\u001b[90m, \u001b[39m2\u001b[90m, \u001b[39m3\u001b[90m, \u001b[39m6\u001b[90m, \u001b[39m1\u001b[90m, \u001b[39m3\u001b[90m, \u001b[39m3\u001b[90m, \u001b[39m0\u001b[90m, \u001b[39m…\n",
      "$ FGA            \u001b[3m\u001b[90m<int>\u001b[39m\u001b[23m 2\u001b[90m, \u001b[39m0\u001b[90m, \u001b[39m17\u001b[90m, \u001b[39m1\u001b[90m, \u001b[39m1\u001b[90m, \u001b[39m3\u001b[90m, \u001b[39m14\u001b[90m, \u001b[39m4\u001b[90m, \u001b[39m7\u001b[90m, \u001b[39m0\u001b[90m, \u001b[39m9\u001b[90m, \u001b[39m5\u001b[90m, \u001b[39m6\u001b[90m, \u001b[39m12\u001b[90m, \u001b[39m2\u001b[90m, \u001b[39m9\u001b[90m, \u001b[39m3\u001b[90m, \u001b[39m3…\n",
      "$ `FG%`          \u001b[3m\u001b[90m<dbl>\u001b[39m\u001b[23m 0.0000000\u001b[90m, \u001b[39m\u001b[31mNA\u001b[39m\u001b[90m, \u001b[39m0.7647059\u001b[90m, \u001b[39m0.0000000\u001b[90m, \u001b[39m1.0000000\u001b[90m, \u001b[39m0.66666…\n",
      "$ FTM            \u001b[3m\u001b[90m<int>\u001b[39m\u001b[23m 0\u001b[90m, \u001b[39m0\u001b[90m, \u001b[39m4\u001b[90m, \u001b[39m0\u001b[90m, \u001b[39m0\u001b[90m, \u001b[39m2\u001b[90m, \u001b[39m0\u001b[90m, \u001b[39m0\u001b[90m, \u001b[39m0\u001b[90m, \u001b[39m0\u001b[90m, \u001b[39m0\u001b[90m, \u001b[39m0\u001b[90m, \u001b[39m3\u001b[90m, \u001b[39m0\u001b[90m, \u001b[39m0\u001b[90m, \u001b[39m2\u001b[90m, \u001b[39m2\u001b[90m, \u001b[39m0\u001b[90m, \u001b[39m0…\n",
      "$ FTA            \u001b[3m\u001b[90m<int>\u001b[39m\u001b[23m 0\u001b[90m, \u001b[39m0\u001b[90m, \u001b[39m5\u001b[90m, \u001b[39m0\u001b[90m, \u001b[39m0\u001b[90m, \u001b[39m6\u001b[90m, \u001b[39m0\u001b[90m, \u001b[39m0\u001b[90m, \u001b[39m0\u001b[90m, \u001b[39m0\u001b[90m, \u001b[39m0\u001b[90m, \u001b[39m0\u001b[90m, \u001b[39m4\u001b[90m, \u001b[39m0\u001b[90m, \u001b[39m0\u001b[90m, \u001b[39m2\u001b[90m, \u001b[39m3\u001b[90m, \u001b[39m0\u001b[90m, \u001b[39m0…\n",
      "$ `FT%`          \u001b[3m\u001b[90m<dbl>\u001b[39m\u001b[23m \u001b[31mNA\u001b[39m\u001b[90m, \u001b[39m\u001b[31mNA\u001b[39m\u001b[90m, \u001b[39m0.8000000\u001b[90m, \u001b[39m\u001b[31mNA\u001b[39m\u001b[90m, \u001b[39m\u001b[31mNA\u001b[39m\u001b[90m, \u001b[39m0.3333333\u001b[90m, \u001b[39m\u001b[31mNA\u001b[39m\u001b[90m, \u001b[39m\u001b[31mNA\u001b[39m\u001b[90m, \u001b[39m\u001b[31mNA\u001b[39m\u001b[90m, \u001b[39m\u001b[31mNA\u001b[39m\u001b[90m, \u001b[39m\u001b[31mN\u001b[39m…\n",
      "$ OR             \u001b[3m\u001b[90m<int>\u001b[39m\u001b[23m 0\u001b[90m, \u001b[39m0\u001b[90m, \u001b[39m2\u001b[90m, \u001b[39m0\u001b[90m, \u001b[39m0\u001b[90m, \u001b[39m4\u001b[90m, \u001b[39m0\u001b[90m, \u001b[39m0\u001b[90m, \u001b[39m0\u001b[90m, \u001b[39m0\u001b[90m, \u001b[39m2\u001b[90m, \u001b[39m1\u001b[90m, \u001b[39m1\u001b[90m, \u001b[39m1\u001b[90m, \u001b[39m0\u001b[90m, \u001b[39m3\u001b[90m, \u001b[39m4\u001b[90m, \u001b[39m0\u001b[90m, \u001b[39m2…\n",
      "$ DR             \u001b[3m\u001b[90m<int>\u001b[39m\u001b[23m 2\u001b[90m, \u001b[39m0\u001b[90m, \u001b[39m6\u001b[90m, \u001b[39m0\u001b[90m, \u001b[39m0\u001b[90m, \u001b[39m2\u001b[90m, \u001b[39m0\u001b[90m, \u001b[39m1\u001b[90m, \u001b[39m1\u001b[90m, \u001b[39m0\u001b[90m, \u001b[39m5\u001b[90m, \u001b[39m0\u001b[90m, \u001b[39m0\u001b[90m, \u001b[39m2\u001b[90m, \u001b[39m1\u001b[90m, \u001b[39m3\u001b[90m, \u001b[39m2\u001b[90m, \u001b[39m1\u001b[90m, \u001b[39m5…\n",
      "$ TR             \u001b[3m\u001b[90m<int>\u001b[39m\u001b[23m 2\u001b[90m, \u001b[39m0\u001b[90m, \u001b[39m8\u001b[90m, \u001b[39m0\u001b[90m, \u001b[39m0\u001b[90m, \u001b[39m6\u001b[90m, \u001b[39m0\u001b[90m, \u001b[39m1\u001b[90m, \u001b[39m1\u001b[90m, \u001b[39m0\u001b[90m, \u001b[39m7\u001b[90m, \u001b[39m1\u001b[90m, \u001b[39m1\u001b[90m, \u001b[39m3\u001b[90m, \u001b[39m1\u001b[90m, \u001b[39m6\u001b[90m, \u001b[39m6\u001b[90m, \u001b[39m1\u001b[90m, \u001b[39m7…\n",
      "$ AST            \u001b[3m\u001b[90m<int>\u001b[39m\u001b[23m 0\u001b[90m, \u001b[39m1\u001b[90m, \u001b[39m7\u001b[90m, \u001b[39m0\u001b[90m, \u001b[39m3\u001b[90m, \u001b[39m2\u001b[90m, \u001b[39m2\u001b[90m, \u001b[39m3\u001b[90m, \u001b[39m1\u001b[90m, \u001b[39m0\u001b[90m, \u001b[39m3\u001b[90m, \u001b[39m0\u001b[90m, \u001b[39m0\u001b[90m, \u001b[39m1\u001b[90m, \u001b[39m2\u001b[90m, \u001b[39m1\u001b[90m, \u001b[39m2\u001b[90m, \u001b[39m0\u001b[90m, \u001b[39m1…\n",
      "$ TO             \u001b[3m\u001b[90m<int>\u001b[39m\u001b[23m 1\u001b[90m, \u001b[39m0\u001b[90m, \u001b[39m5\u001b[90m, \u001b[39m0\u001b[90m, \u001b[39m0\u001b[90m, \u001b[39m0\u001b[90m, \u001b[39m4\u001b[90m, \u001b[39m0\u001b[90m, \u001b[39m1\u001b[90m, \u001b[39m0\u001b[90m, \u001b[39m0\u001b[90m, \u001b[39m1\u001b[90m, \u001b[39m0\u001b[90m, \u001b[39m1\u001b[90m, \u001b[39m0\u001b[90m, \u001b[39m0\u001b[90m, \u001b[39m0\u001b[90m, \u001b[39m1\u001b[90m, \u001b[39m0…\n",
      "$ ST             \u001b[3m\u001b[90m<int>\u001b[39m\u001b[23m 0\u001b[90m, \u001b[39m0\u001b[90m, \u001b[39m2\u001b[90m, \u001b[39m0\u001b[90m, \u001b[39m0\u001b[90m, \u001b[39m1\u001b[90m, \u001b[39m1\u001b[90m, \u001b[39m1\u001b[90m, \u001b[39m1\u001b[90m, \u001b[39m0\u001b[90m, \u001b[39m1\u001b[90m, \u001b[39m0\u001b[90m, \u001b[39m1\u001b[90m, \u001b[39m3\u001b[90m, \u001b[39m1\u001b[90m, \u001b[39m1\u001b[90m, \u001b[39m0\u001b[90m, \u001b[39m0\u001b[90m, \u001b[39m0…\n",
      "$ BLK            \u001b[3m\u001b[90m<int>\u001b[39m\u001b[23m 0\u001b[90m, \u001b[39m1\u001b[90m, \u001b[39m1\u001b[90m, \u001b[39m0\u001b[90m, \u001b[39m0\u001b[90m, \u001b[39m0\u001b[90m, \u001b[39m0\u001b[90m, \u001b[39m0\u001b[90m, \u001b[39m0\u001b[90m, \u001b[39m0\u001b[90m, \u001b[39m1\u001b[90m, \u001b[39m0\u001b[90m, \u001b[39m0\u001b[90m, \u001b[39m1\u001b[90m, \u001b[39m0\u001b[90m, \u001b[39m1\u001b[90m, \u001b[39m0\u001b[90m, \u001b[39m0\u001b[90m, \u001b[39m1…\n",
      "$ BLKA           \u001b[3m\u001b[90m<int>\u001b[39m\u001b[23m 0\u001b[90m, \u001b[39m0\u001b[90m, \u001b[39m0\u001b[90m, \u001b[39m0\u001b[90m, \u001b[39m0\u001b[90m, \u001b[39m1\u001b[90m, \u001b[39m2\u001b[90m, \u001b[39m0\u001b[90m, \u001b[39m0\u001b[90m, \u001b[39m0\u001b[90m, \u001b[39m0\u001b[90m, \u001b[39m0\u001b[90m, \u001b[39m0\u001b[90m, \u001b[39m1\u001b[90m, \u001b[39m0\u001b[90m, \u001b[39m1\u001b[90m, \u001b[39m0\u001b[90m, \u001b[39m0\u001b[90m, \u001b[39m0…\n",
      "$ PF             \u001b[3m\u001b[90m<int>\u001b[39m\u001b[23m 0\u001b[90m, \u001b[39m1\u001b[90m, \u001b[39m1\u001b[90m, \u001b[39m0\u001b[90m, \u001b[39m0\u001b[90m, \u001b[39m2\u001b[90m, \u001b[39m2\u001b[90m, \u001b[39m3\u001b[90m, \u001b[39m2\u001b[90m, \u001b[39m0\u001b[90m, \u001b[39m2\u001b[90m, \u001b[39m1\u001b[90m, \u001b[39m2\u001b[90m, \u001b[39m2\u001b[90m, \u001b[39m3\u001b[90m, \u001b[39m2\u001b[90m, \u001b[39m1\u001b[90m, \u001b[39m0\u001b[90m, \u001b[39m1…\n",
      "$ DF             \u001b[3m\u001b[90m<int>\u001b[39m\u001b[23m 1\u001b[90m, \u001b[39m0\u001b[90m, \u001b[39m6\u001b[90m, \u001b[39m0\u001b[90m, \u001b[39m0\u001b[90m, \u001b[39m6\u001b[90m, \u001b[39m1\u001b[90m, \u001b[39m1\u001b[90m, \u001b[39m0\u001b[90m, \u001b[39m0\u001b[90m, \u001b[39m0\u001b[90m, \u001b[39m1\u001b[90m, \u001b[39m3\u001b[90m, \u001b[39m1\u001b[90m, \u001b[39m0\u001b[90m, \u001b[39m1\u001b[90m, \u001b[39m2\u001b[90m, \u001b[39m0\u001b[90m, \u001b[39m2…\n",
      "$ VAL            \u001b[3m\u001b[90m<int>\u001b[39m\u001b[23m 0\u001b[90m, \u001b[39m1\u001b[90m, \u001b[39m45\u001b[90m, \u001b[39m-1\u001b[90m, \u001b[39m5\u001b[90m, \u001b[39m13\u001b[90m, \u001b[39m1\u001b[90m, \u001b[39m6\u001b[90m, \u001b[39m7\u001b[90m, \u001b[39m0\u001b[90m, \u001b[39m17\u001b[90m, \u001b[39m2\u001b[90m, \u001b[39m10\u001b[90m, \u001b[39m13\u001b[90m, \u001b[39m3\u001b[90m, \u001b[39m9\u001b[90m, \u001b[39m1…\n",
      "$ `+ / -`        \u001b[3m\u001b[90m<int>\u001b[39m\u001b[23m -8\u001b[90m, \u001b[39m-7\u001b[90m, \u001b[39m-15\u001b[90m, \u001b[39m-3\u001b[90m, \u001b[39m-1\u001b[90m, \u001b[39m-11\u001b[90m, \u001b[39m-19\u001b[90m, \u001b[39m-17\u001b[90m, \u001b[39m-7\u001b[90m, \u001b[39m2\u001b[90m, \u001b[39m-23\u001b[90m, \u001b[39m-31\u001b[90m, \u001b[39m14…\n",
      "$ POSS           \u001b[3m\u001b[90m<int>\u001b[39m\u001b[23m 3\u001b[90m, \u001b[39m0\u001b[90m, \u001b[39m24\u001b[90m, \u001b[39m1\u001b[90m, \u001b[39m1\u001b[90m, \u001b[39m6\u001b[90m, \u001b[39m18\u001b[90m, \u001b[39m4\u001b[90m, \u001b[39m8\u001b[90m, \u001b[39m0\u001b[90m, \u001b[39m9\u001b[90m, \u001b[39m6\u001b[90m, \u001b[39m8\u001b[90m, \u001b[39m13\u001b[90m, \u001b[39m2\u001b[90m, \u001b[39m10\u001b[90m, \u001b[39m4\u001b[90m, \u001b[39m…\n",
      "$ ASTED_2FG      \u001b[3m\u001b[90m<int>\u001b[39m\u001b[23m 0\u001b[90m, \u001b[39m0\u001b[90m, \u001b[39m1\u001b[90m, \u001b[39m0\u001b[90m, \u001b[39m1\u001b[90m, \u001b[39m2\u001b[90m, \u001b[39m1\u001b[90m, \u001b[39m1\u001b[90m, \u001b[39m1\u001b[90m, \u001b[39m0\u001b[90m, \u001b[39m3\u001b[90m, \u001b[39m0\u001b[90m, \u001b[39m0\u001b[90m, \u001b[39m3\u001b[90m, \u001b[39m0\u001b[90m, \u001b[39m2\u001b[90m, \u001b[39m2\u001b[90m, \u001b[39m0\u001b[90m, \u001b[39m2…\n",
      "$ ASTED_3FG      \u001b[3m\u001b[90m<int>\u001b[39m\u001b[23m 0\u001b[90m, \u001b[39m0\u001b[90m, \u001b[39m2\u001b[90m, \u001b[39m0\u001b[90m, \u001b[39m0\u001b[90m, \u001b[39m0\u001b[90m, \u001b[39m3\u001b[90m, \u001b[39m1\u001b[90m, \u001b[39m2\u001b[90m, \u001b[39m0\u001b[90m, \u001b[39m1\u001b[90m, \u001b[39m1\u001b[90m, \u001b[39m1\u001b[90m, \u001b[39m2\u001b[90m, \u001b[39m1\u001b[90m, \u001b[39m0\u001b[90m, \u001b[39m0\u001b[90m, \u001b[39m0\u001b[90m, \u001b[39m0…\n",
      "$ ASTED_FT       \u001b[3m\u001b[90m<int>\u001b[39m\u001b[23m 0\u001b[90m, \u001b[39m0\u001b[90m, \u001b[39m0\u001b[90m, \u001b[39m0\u001b[90m, \u001b[39m0\u001b[90m, \u001b[39m2\u001b[90m, \u001b[39m0\u001b[90m, \u001b[39m0\u001b[90m, \u001b[39m0\u001b[90m, \u001b[39m0\u001b[90m, \u001b[39m0\u001b[90m, \u001b[39m0\u001b[90m, \u001b[39m2\u001b[90m, \u001b[39m0\u001b[90m, \u001b[39m0\u001b[90m, \u001b[39m0\u001b[90m, \u001b[39m1\u001b[90m, \u001b[39m0\u001b[90m, \u001b[39m0…\n",
      "$ `ASTED_FT PTS` \u001b[3m\u001b[90m<int>\u001b[39m\u001b[23m 0\u001b[90m, \u001b[39m0\u001b[90m, \u001b[39m0\u001b[90m, \u001b[39m0\u001b[90m, \u001b[39m0\u001b[90m, \u001b[39m4\u001b[90m, \u001b[39m0\u001b[90m, \u001b[39m0\u001b[90m, \u001b[39m0\u001b[90m, \u001b[39m0\u001b[90m, \u001b[39m0\u001b[90m, \u001b[39m0\u001b[90m, \u001b[39m2\u001b[90m, \u001b[39m0\u001b[90m, \u001b[39m0\u001b[90m, \u001b[39m0\u001b[90m, \u001b[39m2\u001b[90m, \u001b[39m0\u001b[90m, \u001b[39m0…\n",
      "$ `AST (2P)`     \u001b[3m\u001b[90m<int>\u001b[39m\u001b[23m 0\u001b[90m, \u001b[39m0\u001b[90m, \u001b[39m4\u001b[90m, \u001b[39m0\u001b[90m, \u001b[39m1\u001b[90m, \u001b[39m1\u001b[90m, \u001b[39m0\u001b[90m, \u001b[39m2\u001b[90m, \u001b[39m0\u001b[90m, \u001b[39m0\u001b[90m, \u001b[39m2\u001b[90m, \u001b[39m0\u001b[90m, \u001b[39m0\u001b[90m, \u001b[39m1\u001b[90m, \u001b[39m1\u001b[90m, \u001b[39m0\u001b[90m, \u001b[39m0\u001b[90m, \u001b[39m0\u001b[90m, \u001b[39m0…\n",
      "$ `AST (3P)`     \u001b[3m\u001b[90m<int>\u001b[39m\u001b[23m 0\u001b[90m, \u001b[39m1\u001b[90m, \u001b[39m2\u001b[90m, \u001b[39m0\u001b[90m, \u001b[39m2\u001b[90m, \u001b[39m1\u001b[90m, \u001b[39m1\u001b[90m, \u001b[39m1\u001b[90m, \u001b[39m1\u001b[90m, \u001b[39m0\u001b[90m, \u001b[39m1\u001b[90m, \u001b[39m0\u001b[90m, \u001b[39m0\u001b[90m, \u001b[39m0\u001b[90m, \u001b[39m1\u001b[90m, \u001b[39m0\u001b[90m, \u001b[39m2\u001b[90m, \u001b[39m0\u001b[90m, \u001b[39m1…\n",
      "$ `AST (FT)`     \u001b[3m\u001b[90m<int>\u001b[39m\u001b[23m 0\u001b[90m, \u001b[39m0\u001b[90m, \u001b[39m1\u001b[90m, \u001b[39m0\u001b[90m, \u001b[39m0\u001b[90m, \u001b[39m0\u001b[90m, \u001b[39m1\u001b[90m, \u001b[39m0\u001b[90m, \u001b[39m0\u001b[90m, \u001b[39m0\u001b[90m, \u001b[39m0\u001b[90m, \u001b[39m0\u001b[90m, \u001b[39m0\u001b[90m, \u001b[39m0\u001b[90m, \u001b[39m0\u001b[90m, \u001b[39m1\u001b[90m, \u001b[39m0\u001b[90m, \u001b[39m0\u001b[90m, \u001b[39m0…\n",
      "$ `AST PTS (FT)` \u001b[3m\u001b[90m<int>\u001b[39m\u001b[23m 0\u001b[90m, \u001b[39m0\u001b[90m, \u001b[39m2\u001b[90m, \u001b[39m0\u001b[90m, \u001b[39m0\u001b[90m, \u001b[39m0\u001b[90m, \u001b[39m2\u001b[90m, \u001b[39m0\u001b[90m, \u001b[39m0\u001b[90m, \u001b[39m0\u001b[90m, \u001b[39m0\u001b[90m, \u001b[39m0\u001b[90m, \u001b[39m0\u001b[90m, \u001b[39m0\u001b[90m, \u001b[39m0\u001b[90m, \u001b[39m2\u001b[90m, \u001b[39m0\u001b[90m, \u001b[39m0\u001b[90m, \u001b[39m0…\n",
      "$ LTO            \u001b[3m\u001b[90m<int>\u001b[39m\u001b[23m 0\u001b[90m, \u001b[39m0\u001b[90m, \u001b[39m4\u001b[90m, \u001b[39m0\u001b[90m, \u001b[39m0\u001b[90m, \u001b[39m0\u001b[90m, \u001b[39m1\u001b[90m, \u001b[39m0\u001b[90m, \u001b[39m1\u001b[90m, \u001b[39m0\u001b[90m, \u001b[39m0\u001b[90m, \u001b[39m1\u001b[90m, \u001b[39m0\u001b[90m, \u001b[39m1\u001b[90m, \u001b[39m0\u001b[90m, \u001b[39m0\u001b[90m, \u001b[39m0\u001b[90m, \u001b[39m0\u001b[90m, \u001b[39m0…\n",
      "$ DTO            \u001b[3m\u001b[90m<int>\u001b[39m\u001b[23m 1\u001b[90m, \u001b[39m0\u001b[90m, \u001b[39m1\u001b[90m, \u001b[39m0\u001b[90m, \u001b[39m0\u001b[90m, \u001b[39m0\u001b[90m, \u001b[39m3\u001b[90m, \u001b[39m0\u001b[90m, \u001b[39m0\u001b[90m, \u001b[39m0\u001b[90m, \u001b[39m0\u001b[90m, \u001b[39m0\u001b[90m, \u001b[39m0\u001b[90m, \u001b[39m0\u001b[90m, \u001b[39m0\u001b[90m, \u001b[39m0\u001b[90m, \u001b[39m0\u001b[90m, \u001b[39m1\u001b[90m, \u001b[39m0…\n",
      "$ BLK2           \u001b[3m\u001b[90m<int>\u001b[39m\u001b[23m 0\u001b[90m, \u001b[39m1\u001b[90m, \u001b[39m1\u001b[90m, \u001b[39m0\u001b[90m, \u001b[39m0\u001b[90m, \u001b[39m0\u001b[90m, \u001b[39m0\u001b[90m, \u001b[39m0\u001b[90m, \u001b[39m0\u001b[90m, \u001b[39m0\u001b[90m, \u001b[39m1\u001b[90m, \u001b[39m0\u001b[90m, \u001b[39m0\u001b[90m, \u001b[39m1\u001b[90m, \u001b[39m0\u001b[90m, \u001b[39m1\u001b[90m, \u001b[39m0\u001b[90m, \u001b[39m0\u001b[90m, \u001b[39m1…\n",
      "$ BLK3           \u001b[3m\u001b[90m<int>\u001b[39m\u001b[23m 0\u001b[90m, \u001b[39m0\u001b[90m, \u001b[39m0\u001b[90m, \u001b[39m0\u001b[90m, \u001b[39m0\u001b[90m, \u001b[39m0\u001b[90m, \u001b[39m0\u001b[90m, \u001b[39m0\u001b[90m, \u001b[39m0\u001b[90m, \u001b[39m0\u001b[90m, \u001b[39m0\u001b[90m, \u001b[39m0\u001b[90m, \u001b[39m0\u001b[90m, \u001b[39m0\u001b[90m, \u001b[39m0\u001b[90m, \u001b[39m0\u001b[90m, \u001b[39m0\u001b[90m, \u001b[39m0\u001b[90m, \u001b[39m0…\n",
      "$ OR_RIM         \u001b[3m\u001b[90m<int>\u001b[39m\u001b[23m 0\u001b[90m, \u001b[39m0\u001b[90m, \u001b[39m0\u001b[90m, \u001b[39m0\u001b[90m, \u001b[39m0\u001b[90m, \u001b[39m0\u001b[90m, \u001b[39m0\u001b[90m, \u001b[39m0\u001b[90m, \u001b[39m0\u001b[90m, \u001b[39m0\u001b[90m, \u001b[39m0\u001b[90m, \u001b[39m1\u001b[90m, \u001b[39m0\u001b[90m, \u001b[39m0\u001b[90m, \u001b[39m0\u001b[90m, \u001b[39m1\u001b[90m, \u001b[39m0\u001b[90m, \u001b[39m0\u001b[90m, \u001b[39m0…\n",
      "$ OR_PAINT       \u001b[3m\u001b[90m<int>\u001b[39m\u001b[23m 0\u001b[90m, \u001b[39m0\u001b[90m, \u001b[39m0\u001b[90m, \u001b[39m0\u001b[90m, \u001b[39m0\u001b[90m, \u001b[39m1\u001b[90m, \u001b[39m0\u001b[90m, \u001b[39m0\u001b[90m, \u001b[39m0\u001b[90m, \u001b[39m0\u001b[90m, \u001b[39m0\u001b[90m, \u001b[39m0\u001b[90m, \u001b[39m0\u001b[90m, \u001b[39m0\u001b[90m, \u001b[39m0\u001b[90m, \u001b[39m0\u001b[90m, \u001b[39m0\u001b[90m, \u001b[39m0\u001b[90m, \u001b[39m1…\n",
      "$ OR_NP2         \u001b[3m\u001b[90m<int>\u001b[39m\u001b[23m 0\u001b[90m, \u001b[39m0\u001b[90m, \u001b[39m1\u001b[90m, \u001b[39m0\u001b[90m, \u001b[39m0\u001b[90m, \u001b[39m0\u001b[90m, \u001b[39m0\u001b[90m, \u001b[39m0\u001b[90m, \u001b[39m0\u001b[90m, \u001b[39m0\u001b[90m, \u001b[39m0\u001b[90m, \u001b[39m0\u001b[90m, \u001b[39m1\u001b[90m, \u001b[39m1\u001b[90m, \u001b[39m0\u001b[90m, \u001b[39m0\u001b[90m, \u001b[39m1\u001b[90m, \u001b[39m0\u001b[90m, \u001b[39m1…\n",
      "$ OR_3C          \u001b[3m\u001b[90m<int>\u001b[39m\u001b[23m 0\u001b[90m, \u001b[39m0\u001b[90m, \u001b[39m0\u001b[90m, \u001b[39m0\u001b[90m, \u001b[39m0\u001b[90m, \u001b[39m1\u001b[90m, \u001b[39m0\u001b[90m, \u001b[39m0\u001b[90m, \u001b[39m0\u001b[90m, \u001b[39m0\u001b[90m, \u001b[39m0\u001b[90m, \u001b[39m0\u001b[90m, \u001b[39m0\u001b[90m, \u001b[39m0\u001b[90m, \u001b[39m0\u001b[90m, \u001b[39m0\u001b[90m, \u001b[39m0\u001b[90m, \u001b[39m0\u001b[90m, \u001b[39m0…\n",
      "$ OR_3L          \u001b[3m\u001b[90m<int>\u001b[39m\u001b[23m 0\u001b[90m, \u001b[39m0\u001b[90m, \u001b[39m1\u001b[90m, \u001b[39m0\u001b[90m, \u001b[39m0\u001b[90m, \u001b[39m2\u001b[90m, \u001b[39m0\u001b[90m, \u001b[39m0\u001b[90m, \u001b[39m0\u001b[90m, \u001b[39m0\u001b[90m, \u001b[39m2\u001b[90m, \u001b[39m0\u001b[90m, \u001b[39m0\u001b[90m, \u001b[39m0\u001b[90m, \u001b[39m0\u001b[90m, \u001b[39m2\u001b[90m, \u001b[39m2\u001b[90m, \u001b[39m0\u001b[90m, \u001b[39m0…\n",
      "$ OR_FT          \u001b[3m\u001b[90m<int>\u001b[39m\u001b[23m 0\u001b[90m, \u001b[39m0\u001b[90m, \u001b[39m0\u001b[90m, \u001b[39m0\u001b[90m, \u001b[39m0\u001b[90m, \u001b[39m0\u001b[90m, \u001b[39m0\u001b[90m, \u001b[39m0\u001b[90m, \u001b[39m0\u001b[90m, \u001b[39m0\u001b[90m, \u001b[39m0\u001b[90m, \u001b[39m0\u001b[90m, \u001b[39m0\u001b[90m, \u001b[39m0\u001b[90m, \u001b[39m0\u001b[90m, \u001b[39m0\u001b[90m, \u001b[39m1\u001b[90m, \u001b[39m0\u001b[90m, \u001b[39m0…\n",
      "$ DR_RIM         \u001b[3m\u001b[90m<int>\u001b[39m\u001b[23m 0\u001b[90m, \u001b[39m0\u001b[90m, \u001b[39m1\u001b[90m, \u001b[39m0\u001b[90m, \u001b[39m0\u001b[90m, \u001b[39m0\u001b[90m, \u001b[39m0\u001b[90m, \u001b[39m0\u001b[90m, \u001b[39m0\u001b[90m, \u001b[39m0\u001b[90m, \u001b[39m0\u001b[90m, \u001b[39m0\u001b[90m, \u001b[39m0\u001b[90m, \u001b[39m0\u001b[90m, \u001b[39m0\u001b[90m, \u001b[39m1\u001b[90m, \u001b[39m0\u001b[90m, \u001b[39m0\u001b[90m, \u001b[39m0…\n",
      "$ DR_PAINT       \u001b[3m\u001b[90m<int>\u001b[39m\u001b[23m 2\u001b[90m, \u001b[39m0\u001b[90m, \u001b[39m0\u001b[90m, \u001b[39m0\u001b[90m, \u001b[39m0\u001b[90m, \u001b[39m1\u001b[90m, \u001b[39m0\u001b[90m, \u001b[39m0\u001b[90m, \u001b[39m0\u001b[90m, \u001b[39m0\u001b[90m, \u001b[39m0\u001b[90m, \u001b[39m0\u001b[90m, \u001b[39m0\u001b[90m, \u001b[39m0\u001b[90m, \u001b[39m0\u001b[90m, \u001b[39m2\u001b[90m, \u001b[39m0\u001b[90m, \u001b[39m1\u001b[90m, \u001b[39m2…\n",
      "$ DR_NP2         \u001b[3m\u001b[90m<int>\u001b[39m\u001b[23m 0\u001b[90m, \u001b[39m0\u001b[90m, \u001b[39m0\u001b[90m, \u001b[39m0\u001b[90m, \u001b[39m0\u001b[90m, \u001b[39m1\u001b[90m, \u001b[39m0\u001b[90m, \u001b[39m0\u001b[90m, \u001b[39m0\u001b[90m, \u001b[39m0\u001b[90m, \u001b[39m0\u001b[90m, \u001b[39m0\u001b[90m, \u001b[39m0\u001b[90m, \u001b[39m0\u001b[90m, \u001b[39m0\u001b[90m, \u001b[39m0\u001b[90m, \u001b[39m0\u001b[90m, \u001b[39m0\u001b[90m, \u001b[39m1…\n",
      "$ DR_3C          \u001b[3m\u001b[90m<int>\u001b[39m\u001b[23m 0\u001b[90m, \u001b[39m0\u001b[90m, \u001b[39m0\u001b[90m, \u001b[39m0\u001b[90m, \u001b[39m0\u001b[90m, \u001b[39m0\u001b[90m, \u001b[39m0\u001b[90m, \u001b[39m0\u001b[90m, \u001b[39m0\u001b[90m, \u001b[39m0\u001b[90m, \u001b[39m1\u001b[90m, \u001b[39m0\u001b[90m, \u001b[39m0\u001b[90m, \u001b[39m1\u001b[90m, \u001b[39m0\u001b[90m, \u001b[39m0\u001b[90m, \u001b[39m0\u001b[90m, \u001b[39m0\u001b[90m, \u001b[39m0…\n",
      "$ DR_3L          \u001b[3m\u001b[90m<int>\u001b[39m\u001b[23m 0\u001b[90m, \u001b[39m0\u001b[90m, \u001b[39m5\u001b[90m, \u001b[39m0\u001b[90m, \u001b[39m0\u001b[90m, \u001b[39m0\u001b[90m, \u001b[39m0\u001b[90m, \u001b[39m0\u001b[90m, \u001b[39m1\u001b[90m, \u001b[39m0\u001b[90m, \u001b[39m4\u001b[90m, \u001b[39m0\u001b[90m, \u001b[39m0\u001b[90m, \u001b[39m1\u001b[90m, \u001b[39m1\u001b[90m, \u001b[39m0\u001b[90m, \u001b[39m1\u001b[90m, \u001b[39m0\u001b[90m, \u001b[39m1…\n",
      "$ DR_FT          \u001b[3m\u001b[90m<int>\u001b[39m\u001b[23m 0\u001b[90m, \u001b[39m0\u001b[90m, \u001b[39m0\u001b[90m, \u001b[39m0\u001b[90m, \u001b[39m0\u001b[90m, \u001b[39m0\u001b[90m, \u001b[39m0\u001b[90m, \u001b[39m1\u001b[90m, \u001b[39m0\u001b[90m, \u001b[39m0\u001b[90m, \u001b[39m0\u001b[90m, \u001b[39m0\u001b[90m, \u001b[39m0\u001b[90m, \u001b[39m0\u001b[90m, \u001b[39m0\u001b[90m, \u001b[39m0\u001b[90m, \u001b[39m1\u001b[90m, \u001b[39m0\u001b[90m, \u001b[39m1…\n",
      "$ FTM_T          \u001b[3m\u001b[90m<int>\u001b[39m\u001b[23m 0\u001b[90m, \u001b[39m0\u001b[90m, \u001b[39m0\u001b[90m, \u001b[39m0\u001b[90m, \u001b[39m0\u001b[90m, \u001b[39m0\u001b[90m, \u001b[39m0\u001b[90m, \u001b[39m0\u001b[90m, \u001b[39m0\u001b[90m, \u001b[39m0\u001b[90m, \u001b[39m0\u001b[90m, \u001b[39m0\u001b[90m, \u001b[39m0\u001b[90m, \u001b[39m0\u001b[90m, \u001b[39m0\u001b[90m, \u001b[39m0\u001b[90m, \u001b[39m0\u001b[90m, \u001b[39m0\u001b[90m, \u001b[39m0…\n",
      "$ FTA_T          \u001b[3m\u001b[90m<int>\u001b[39m\u001b[23m 0\u001b[90m, \u001b[39m0\u001b[90m, \u001b[39m0\u001b[90m, \u001b[39m0\u001b[90m, \u001b[39m0\u001b[90m, \u001b[39m0\u001b[90m, \u001b[39m0\u001b[90m, \u001b[39m0\u001b[90m, \u001b[39m0\u001b[90m, \u001b[39m0\u001b[90m, \u001b[39m0\u001b[90m, \u001b[39m0\u001b[90m, \u001b[39m0\u001b[90m, \u001b[39m0\u001b[90m, \u001b[39m0\u001b[90m, \u001b[39m0\u001b[90m, \u001b[39m0\u001b[90m, \u001b[39m0\u001b[90m, \u001b[39m0…\n",
      "$ FTM_1          \u001b[3m\u001b[90m<int>\u001b[39m\u001b[23m 0\u001b[90m, \u001b[39m0\u001b[90m, \u001b[39m1\u001b[90m, \u001b[39m0\u001b[90m, \u001b[39m0\u001b[90m, \u001b[39m0\u001b[90m, \u001b[39m0\u001b[90m, \u001b[39m0\u001b[90m, \u001b[39m0\u001b[90m, \u001b[39m0\u001b[90m, \u001b[39m0\u001b[90m, \u001b[39m0\u001b[90m, \u001b[39m0\u001b[90m, \u001b[39m0\u001b[90m, \u001b[39m0\u001b[90m, \u001b[39m0\u001b[90m, \u001b[39m0\u001b[90m, \u001b[39m0\u001b[90m, \u001b[39m0…\n",
      "$ FTA_1          \u001b[3m\u001b[90m<int>\u001b[39m\u001b[23m 0\u001b[90m, \u001b[39m0\u001b[90m, \u001b[39m1\u001b[90m, \u001b[39m0\u001b[90m, \u001b[39m0\u001b[90m, \u001b[39m0\u001b[90m, \u001b[39m0\u001b[90m, \u001b[39m0\u001b[90m, \u001b[39m0\u001b[90m, \u001b[39m0\u001b[90m, \u001b[39m0\u001b[90m, \u001b[39m0\u001b[90m, \u001b[39m0\u001b[90m, \u001b[39m0\u001b[90m, \u001b[39m0\u001b[90m, \u001b[39m0\u001b[90m, \u001b[39m1\u001b[90m, \u001b[39m0\u001b[90m, \u001b[39m0…\n",
      "$ FTM_2          \u001b[3m\u001b[90m<int>\u001b[39m\u001b[23m 0\u001b[90m, \u001b[39m0\u001b[90m, \u001b[39m3\u001b[90m, \u001b[39m0\u001b[90m, \u001b[39m0\u001b[90m, \u001b[39m2\u001b[90m, \u001b[39m0\u001b[90m, \u001b[39m0\u001b[90m, \u001b[39m0\u001b[90m, \u001b[39m0\u001b[90m, \u001b[39m0\u001b[90m, \u001b[39m0\u001b[90m, \u001b[39m3\u001b[90m, \u001b[39m0\u001b[90m, \u001b[39m0\u001b[90m, \u001b[39m2\u001b[90m, \u001b[39m2\u001b[90m, \u001b[39m0\u001b[90m, \u001b[39m0…\n",
      "$ FTA_2          \u001b[3m\u001b[90m<int>\u001b[39m\u001b[23m 0\u001b[90m, \u001b[39m0\u001b[90m, \u001b[39m4\u001b[90m, \u001b[39m0\u001b[90m, \u001b[39m0\u001b[90m, \u001b[39m6\u001b[90m, \u001b[39m0\u001b[90m, \u001b[39m0\u001b[90m, \u001b[39m0\u001b[90m, \u001b[39m0\u001b[90m, \u001b[39m0\u001b[90m, \u001b[39m0\u001b[90m, \u001b[39m4\u001b[90m, \u001b[39m0\u001b[90m, \u001b[39m0\u001b[90m, \u001b[39m2\u001b[90m, \u001b[39m2\u001b[90m, \u001b[39m0\u001b[90m, \u001b[39m0…\n",
      "$ `FT 0/2`       \u001b[3m\u001b[90m<int>\u001b[39m\u001b[23m 0\u001b[90m, \u001b[39m0\u001b[90m, \u001b[39m0\u001b[90m, \u001b[39m0\u001b[90m, \u001b[39m0\u001b[90m, \u001b[39m1\u001b[90m, \u001b[39m0\u001b[90m, \u001b[39m0\u001b[90m, \u001b[39m0\u001b[90m, \u001b[39m0\u001b[90m, \u001b[39m0\u001b[90m, \u001b[39m0\u001b[90m, \u001b[39m0\u001b[90m, \u001b[39m0\u001b[90m, \u001b[39m0\u001b[90m, \u001b[39m0\u001b[90m, \u001b[39m0\u001b[90m, \u001b[39m0\u001b[90m, \u001b[39m0…\n",
      "$ FTM_3          \u001b[3m\u001b[90m<int>\u001b[39m\u001b[23m 0\u001b[90m, \u001b[39m0\u001b[90m, \u001b[39m0\u001b[90m, \u001b[39m0\u001b[90m, \u001b[39m0\u001b[90m, \u001b[39m0\u001b[90m, \u001b[39m0\u001b[90m, \u001b[39m0\u001b[90m, \u001b[39m0\u001b[90m, \u001b[39m0\u001b[90m, \u001b[39m0\u001b[90m, \u001b[39m0\u001b[90m, \u001b[39m0\u001b[90m, \u001b[39m0\u001b[90m, \u001b[39m0\u001b[90m, \u001b[39m0\u001b[90m, \u001b[39m0\u001b[90m, \u001b[39m0\u001b[90m, \u001b[39m0…\n",
      "$ FTA_3          \u001b[3m\u001b[90m<int>\u001b[39m\u001b[23m 0\u001b[90m, \u001b[39m0\u001b[90m, \u001b[39m0\u001b[90m, \u001b[39m0\u001b[90m, \u001b[39m0\u001b[90m, \u001b[39m0\u001b[90m, \u001b[39m0\u001b[90m, \u001b[39m0\u001b[90m, \u001b[39m0\u001b[90m, \u001b[39m0\u001b[90m, \u001b[39m0\u001b[90m, \u001b[39m0\u001b[90m, \u001b[39m0\u001b[90m, \u001b[39m0\u001b[90m, \u001b[39m0\u001b[90m, \u001b[39m0\u001b[90m, \u001b[39m0\u001b[90m, \u001b[39m0\u001b[90m, \u001b[39m0…\n",
      "$ `FT 0/3`       \u001b[3m\u001b[90m<int>\u001b[39m\u001b[23m 0\u001b[90m, \u001b[39m0\u001b[90m, \u001b[39m0\u001b[90m, \u001b[39m0\u001b[90m, \u001b[39m0\u001b[90m, \u001b[39m0\u001b[90m, \u001b[39m0\u001b[90m, \u001b[39m0\u001b[90m, \u001b[39m0\u001b[90m, \u001b[39m0\u001b[90m, \u001b[39m0\u001b[90m, \u001b[39m0\u001b[90m, \u001b[39m0\u001b[90m, \u001b[39m0\u001b[90m, \u001b[39m0\u001b[90m, \u001b[39m0\u001b[90m, \u001b[39m0\u001b[90m, \u001b[39m0\u001b[90m, \u001b[39m0…\n",
      "$ RIM_M          \u001b[3m\u001b[90m<int>\u001b[39m\u001b[23m 0\u001b[90m, \u001b[39m0\u001b[90m, \u001b[39m7\u001b[90m, \u001b[39m0\u001b[90m, \u001b[39m1\u001b[90m, \u001b[39m1\u001b[90m, \u001b[39m1\u001b[90m, \u001b[39m1\u001b[90m, \u001b[39m1\u001b[90m, \u001b[39m0\u001b[90m, \u001b[39m3\u001b[90m, \u001b[39m1\u001b[90m, \u001b[39m1\u001b[90m, \u001b[39m0\u001b[90m, \u001b[39m0\u001b[90m, \u001b[39m2\u001b[90m, \u001b[39m1\u001b[90m, \u001b[39m0\u001b[90m, \u001b[39m1…\n",
      "$ RIM_A          \u001b[3m\u001b[90m<int>\u001b[39m\u001b[23m 1\u001b[90m, \u001b[39m0\u001b[90m, \u001b[39m7\u001b[90m, \u001b[39m0\u001b[90m, \u001b[39m1\u001b[90m, \u001b[39m1\u001b[90m, \u001b[39m2\u001b[90m, \u001b[39m1\u001b[90m, \u001b[39m1\u001b[90m, \u001b[39m0\u001b[90m, \u001b[39m4\u001b[90m, \u001b[39m1\u001b[90m, \u001b[39m2\u001b[90m, \u001b[39m2\u001b[90m, \u001b[39m0\u001b[90m, \u001b[39m3\u001b[90m, \u001b[39m1\u001b[90m, \u001b[39m0\u001b[90m, \u001b[39m1…\n",
      "$ PAINT_M        \u001b[3m\u001b[90m<int>\u001b[39m\u001b[23m 0\u001b[90m, \u001b[39m0\u001b[90m, \u001b[39m1\u001b[90m, \u001b[39m0\u001b[90m, \u001b[39m0\u001b[90m, \u001b[39m1\u001b[90m, \u001b[39m0\u001b[90m, \u001b[39m0\u001b[90m, \u001b[39m1\u001b[90m, \u001b[39m0\u001b[90m, \u001b[39m1\u001b[90m, \u001b[39m0\u001b[90m, \u001b[39m0\u001b[90m, \u001b[39m3\u001b[90m, \u001b[39m0\u001b[90m, \u001b[39m1\u001b[90m, \u001b[39m2\u001b[90m, \u001b[39m0\u001b[90m, \u001b[39m1…\n",
      "$ PAINT_A        \u001b[3m\u001b[90m<int>\u001b[39m\u001b[23m 0\u001b[90m, \u001b[39m0\u001b[90m, \u001b[39m3\u001b[90m, \u001b[39m0\u001b[90m, \u001b[39m0\u001b[90m, \u001b[39m2\u001b[90m, \u001b[39m3\u001b[90m, \u001b[39m0\u001b[90m, \u001b[39m1\u001b[90m, \u001b[39m0\u001b[90m, \u001b[39m1\u001b[90m, \u001b[39m0\u001b[90m, \u001b[39m0\u001b[90m, \u001b[39m5\u001b[90m, \u001b[39m0\u001b[90m, \u001b[39m1\u001b[90m, \u001b[39m2\u001b[90m, \u001b[39m0\u001b[90m, \u001b[39m2…\n",
      "$ MID_M          \u001b[3m\u001b[90m<int>\u001b[39m\u001b[23m 0\u001b[90m, \u001b[39m0\u001b[90m, \u001b[39m3\u001b[90m, \u001b[39m0\u001b[90m, \u001b[39m0\u001b[90m, \u001b[39m0\u001b[90m, \u001b[39m0\u001b[90m, \u001b[39m0\u001b[90m, \u001b[39m0\u001b[90m, \u001b[39m0\u001b[90m, \u001b[39m0\u001b[90m, \u001b[39m0\u001b[90m, \u001b[39m0\u001b[90m, \u001b[39m1\u001b[90m, \u001b[39m0\u001b[90m, \u001b[39m0\u001b[90m, \u001b[39m0\u001b[90m, \u001b[39m0\u001b[90m, \u001b[39m0…\n",
      "$ MID_A          \u001b[3m\u001b[90m<int>\u001b[39m\u001b[23m 0\u001b[90m, \u001b[39m0\u001b[90m, \u001b[39m3\u001b[90m, \u001b[39m0\u001b[90m, \u001b[39m0\u001b[90m, \u001b[39m0\u001b[90m, \u001b[39m1\u001b[90m, \u001b[39m0\u001b[90m, \u001b[39m1\u001b[90m, \u001b[39m0\u001b[90m, \u001b[39m0\u001b[90m, \u001b[39m0\u001b[90m, \u001b[39m1\u001b[90m, \u001b[39m1\u001b[90m, \u001b[39m0\u001b[90m, \u001b[39m0\u001b[90m, \u001b[39m0\u001b[90m, \u001b[39m1\u001b[90m, \u001b[39m0…\n",
      "$ `3C_M`         \u001b[3m\u001b[90m<int>\u001b[39m\u001b[23m 0\u001b[90m, \u001b[39m0\u001b[90m, \u001b[39m0\u001b[90m, \u001b[39m0\u001b[90m, \u001b[39m0\u001b[90m, \u001b[39m0\u001b[90m, \u001b[39m1\u001b[90m, \u001b[39m0\u001b[90m, \u001b[39m2\u001b[90m, \u001b[39m0\u001b[90m, \u001b[39m0\u001b[90m, \u001b[39m0\u001b[90m, \u001b[39m1\u001b[90m, \u001b[39m1\u001b[90m, \u001b[39m0\u001b[90m, \u001b[39m0\u001b[90m, \u001b[39m0\u001b[90m, \u001b[39m0\u001b[90m, \u001b[39m0…\n",
      "$ `3C_A`         \u001b[3m\u001b[90m<int>\u001b[39m\u001b[23m 0\u001b[90m, \u001b[39m0\u001b[90m, \u001b[39m0\u001b[90m, \u001b[39m1\u001b[90m, \u001b[39m0\u001b[90m, \u001b[39m0\u001b[90m, \u001b[39m1\u001b[90m, \u001b[39m0\u001b[90m, \u001b[39m2\u001b[90m, \u001b[39m0\u001b[90m, \u001b[39m0\u001b[90m, \u001b[39m1\u001b[90m, \u001b[39m1\u001b[90m, \u001b[39m1\u001b[90m, \u001b[39m0\u001b[90m, \u001b[39m1\u001b[90m, \u001b[39m0\u001b[90m, \u001b[39m0\u001b[90m, \u001b[39m0…\n",
      "$ `3L_M`         \u001b[3m\u001b[90m<int>\u001b[39m\u001b[23m 0\u001b[90m, \u001b[39m0\u001b[90m, \u001b[39m2\u001b[90m, \u001b[39m0\u001b[90m, \u001b[39m0\u001b[90m, \u001b[39m0\u001b[90m, \u001b[39m3\u001b[90m, \u001b[39m1\u001b[90m, \u001b[39m0\u001b[90m, \u001b[39m0\u001b[90m, \u001b[39m1\u001b[90m, \u001b[39m1\u001b[90m, \u001b[39m1\u001b[90m, \u001b[39m1\u001b[90m, \u001b[39m1\u001b[90m, \u001b[39m0\u001b[90m, \u001b[39m0\u001b[90m, \u001b[39m0\u001b[90m, \u001b[39m0…\n",
      "$ `3L_A`         \u001b[3m\u001b[90m<int>\u001b[39m\u001b[23m 1\u001b[90m, \u001b[39m0\u001b[90m, \u001b[39m4\u001b[90m, \u001b[39m0\u001b[90m, \u001b[39m0\u001b[90m, \u001b[39m0\u001b[90m, \u001b[39m7\u001b[90m, \u001b[39m3\u001b[90m, \u001b[39m2\u001b[90m, \u001b[39m0\u001b[90m, \u001b[39m4\u001b[90m, \u001b[39m3\u001b[90m, \u001b[39m2\u001b[90m, \u001b[39m3\u001b[90m, \u001b[39m2\u001b[90m, \u001b[39m4\u001b[90m, \u001b[39m0\u001b[90m, \u001b[39m2\u001b[90m, \u001b[39m0…\n",
      "$ `3H_M`         \u001b[3m\u001b[90m<int>\u001b[39m\u001b[23m 0\u001b[90m, \u001b[39m0\u001b[90m, \u001b[39m0\u001b[90m, \u001b[39m0\u001b[90m, \u001b[39m0\u001b[90m, \u001b[39m0\u001b[90m, \u001b[39m0\u001b[90m, \u001b[39m0\u001b[90m, \u001b[39m0\u001b[90m, \u001b[39m0\u001b[90m, \u001b[39m0\u001b[90m, \u001b[39m0\u001b[90m, \u001b[39m0\u001b[90m, \u001b[39m0\u001b[90m, \u001b[39m0\u001b[90m, \u001b[39m0\u001b[90m, \u001b[39m0\u001b[90m, \u001b[39m0\u001b[90m, \u001b[39m0…\n",
      "$ `3H_A`         \u001b[3m\u001b[90m<int>\u001b[39m\u001b[23m 0\u001b[90m, \u001b[39m0\u001b[90m, \u001b[39m0\u001b[90m, \u001b[39m0\u001b[90m, \u001b[39m0\u001b[90m, \u001b[39m0\u001b[90m, \u001b[39m0\u001b[90m, \u001b[39m0\u001b[90m, \u001b[39m0\u001b[90m, \u001b[39m0\u001b[90m, \u001b[39m0\u001b[90m, \u001b[39m0\u001b[90m, \u001b[39m0\u001b[90m, \u001b[39m0\u001b[90m, \u001b[39m0\u001b[90m, \u001b[39m0\u001b[90m, \u001b[39m0\u001b[90m, \u001b[39m0\u001b[90m, \u001b[39m0…\n"
     ]
    }
   ],
   "source": [
    "glimpse(players_playin)"
   ]
  },
  {
   "cell_type": "code",
   "execution_count": 105,
   "metadata": {
    "vscode": {
     "languageId": "r"
    }
   },
   "outputs": [],
   "source": [
    "players_regular <- delete_0min(players_regular)\n",
    "players_playin <- delete_0min(players_playin)\n",
    "players_playoff <- delete_0min(players_playoff)\n",
    "players_final4 <- delete_0min(players_final4)"
   ]
  },
  {
   "cell_type": "code",
   "execution_count": 106,
   "metadata": {
    "vscode": {
     "languageId": "r"
    }
   },
   "outputs": [
    {
     "name": "stdout",
     "output_type": "stream",
     "text": [
      "Rows: 65\n",
      "Columns: 85\n",
      "$ `TM TAG`       \u001b[3m\u001b[90m<chr>\u001b[39m\u001b[23m \"BAS\"\u001b[90m, \u001b[39m\"BAS\"\u001b[90m, \u001b[39m\"BAS\"\u001b[90m, \u001b[39m\"BAS\"\u001b[90m, \u001b[39m\"BAS\"\u001b[90m, \u001b[39m\"BAS\"\u001b[90m, \u001b[39m\"BAS\"\u001b[90m, \u001b[39m\"BAS\"\u001b[90m,\u001b[39m…\n",
      "$ NAME           \u001b[3m\u001b[90m<chr>\u001b[39m\u001b[23m \"Chima Moneke\"\u001b[90m, \u001b[39m\"Chris Chiozza\"\u001b[90m, \u001b[39m\"Codi Miller McIntyre\"…\n",
      "$ ROLE           \u001b[3m\u001b[90m<chr>\u001b[39m\u001b[23m \"PF\"\u001b[90m, \u001b[39m\"PG\"\u001b[90m, \u001b[39m\"PG\"\u001b[90m, \u001b[39m\"F\"\u001b[90m, \u001b[39m\"PG/SG\"\u001b[90m, \u001b[39m\"C\"\u001b[90m, \u001b[39m\"PG\"\u001b[90m, \u001b[39m\"PF/C\"\u001b[90m, \u001b[39m\"F\"\u001b[90m,\u001b[39m…\n",
      "$ NAT            \u001b[3m\u001b[90m<chr>\u001b[39m\u001b[23m \"NGR\"\u001b[90m, \u001b[39m\"USA\"\u001b[90m, \u001b[39m\"USA\"\u001b[90m, \u001b[39m\"ESP\"\u001b[90m, \u001b[39m\"MKD\"\u001b[90m, \u001b[39m\"EST\"\u001b[90m, \u001b[39m\"USA\"\u001b[90m, \u001b[39m\"USA\"\u001b[90m,\u001b[39m…\n",
      "$ HEIGHT         \u001b[3m\u001b[90m<chr>\u001b[39m\u001b[23m \"198\"\u001b[90m, \u001b[39m\"180\"\u001b[90m, \u001b[39m\"191\"\u001b[90m, \u001b[39m\"203\"\u001b[90m, \u001b[39m\"182\"\u001b[90m, \u001b[39m\"209\"\u001b[90m, \u001b[39m\"178\"\u001b[90m, \u001b[39m\"210\"\u001b[90m,\u001b[39m…\n",
      "$ AGE            \u001b[3m\u001b[90m<int>\u001b[39m\u001b[23m 29\u001b[90m, \u001b[39m29\u001b[90m, \u001b[39m30\u001b[90m, \u001b[39m31\u001b[90m, \u001b[39m35\u001b[90m, \u001b[39m28\u001b[90m, \u001b[39m25\u001b[90m, \u001b[39m31\u001b[90m, \u001b[39m23\u001b[90m, \u001b[39m25\u001b[90m, \u001b[39m26\u001b[90m, \u001b[39m27\u001b[90m, \u001b[39m30\u001b[90m, \u001b[39m28\u001b[90m,\u001b[39m…\n",
      "$ ROUND          \u001b[3m\u001b[90m<int>\u001b[39m\u001b[23m 35\u001b[90m, \u001b[39m35\u001b[90m, \u001b[39m35\u001b[90m, \u001b[39m35\u001b[90m, \u001b[39m35\u001b[90m, \u001b[39m35\u001b[90m, \u001b[39m35\u001b[90m, \u001b[39m35\u001b[90m, \u001b[39m35\u001b[90m, \u001b[39m35\u001b[90m, \u001b[39m35\u001b[90m, \u001b[39m35\u001b[90m, \u001b[39m35\u001b[90m, \u001b[39m35\u001b[90m,\u001b[39m…\n",
      "$ `TM NAME`      \u001b[3m\u001b[90m<chr>\u001b[39m\u001b[23m \"Baskonia\"\u001b[90m, \u001b[39m\"Baskonia\"\u001b[90m, \u001b[39m\"Baskonia\"\u001b[90m, \u001b[39m\"Baskonia\"\u001b[90m, \u001b[39m\"Baskon…\n",
      "$ `OPP NAME`     \u001b[3m\u001b[90m<chr>\u001b[39m\u001b[23m \"Maccabi Tel Aviv\"\u001b[90m, \u001b[39m\"Maccabi Tel Aviv\"\u001b[90m, \u001b[39m\"Maccabi Tel Av…\n",
      "$ DATE           \u001b[3m\u001b[90m<chr>\u001b[39m\u001b[23m \"16.04.2024\"\u001b[90m, \u001b[39m\"16.04.2024\"\u001b[90m, \u001b[39m\"16.04.2024\"\u001b[90m, \u001b[39m\"16.04.2024\"\u001b[90m,\u001b[39m…\n",
      "$ `H/A`          \u001b[3m\u001b[90m<chr>\u001b[39m\u001b[23m \"A\"\u001b[90m, \u001b[39m\"A\"\u001b[90m, \u001b[39m\"A\"\u001b[90m, \u001b[39m\"A\"\u001b[90m, \u001b[39m\"A\"\u001b[90m, \u001b[39m\"A\"\u001b[90m, \u001b[39m\"A\"\u001b[90m, \u001b[39m\"A\"\u001b[90m, \u001b[39m\"A\"\u001b[90m, \u001b[39m\"A\"\u001b[90m, \u001b[39m\"A\"\u001b[90m, \u001b[39m…\n",
      "$ `W/L`          \u001b[3m\u001b[90m<chr>\u001b[39m\u001b[23m \"L\"\u001b[90m, \u001b[39m\"L\"\u001b[90m, \u001b[39m\"L\"\u001b[90m, \u001b[39m\"L\"\u001b[90m, \u001b[39m\"L\"\u001b[90m, \u001b[39m\"L\"\u001b[90m, \u001b[39m\"L\"\u001b[90m, \u001b[39m\"L\"\u001b[90m, \u001b[39m\"L\"\u001b[90m, \u001b[39m\"L\"\u001b[90m, \u001b[39m\"L\"\u001b[90m, \u001b[39m…\n",
      "$ MIN            \u001b[3m\u001b[90m<int>\u001b[39m\u001b[23m 9\u001b[90m, \u001b[39m7\u001b[90m, \u001b[39m31\u001b[90m, \u001b[39m6\u001b[90m, \u001b[39m8\u001b[90m, \u001b[39m26\u001b[90m, \u001b[39m28\u001b[90m, \u001b[39m14\u001b[90m, \u001b[39m17\u001b[90m, \u001b[39m1\u001b[90m, \u001b[39m34\u001b[90m, \u001b[39m20\u001b[90m, \u001b[39m18\u001b[90m, \u001b[39m25\u001b[90m, \u001b[39m14\u001b[90m, \u001b[39m…\n",
      "$ PTS            \u001b[3m\u001b[90m<int>\u001b[39m\u001b[23m 0\u001b[90m, \u001b[39m0\u001b[90m, \u001b[39m32\u001b[90m, \u001b[39m0\u001b[90m, \u001b[39m2\u001b[90m, \u001b[39m6\u001b[90m, \u001b[39m14\u001b[90m, \u001b[39m5\u001b[90m, \u001b[39m10\u001b[90m, \u001b[39m0\u001b[90m, \u001b[39m11\u001b[90m, \u001b[39m5\u001b[90m, \u001b[39m11\u001b[90m, \u001b[39m14\u001b[90m, \u001b[39m3\u001b[90m, \u001b[39m8\u001b[90m, \u001b[39m8…\n",
      "$ `2PTM`         \u001b[3m\u001b[90m<int>\u001b[39m\u001b[23m 0\u001b[90m, \u001b[39m0\u001b[90m, \u001b[39m11\u001b[90m, \u001b[39m0\u001b[90m, \u001b[39m1\u001b[90m, \u001b[39m2\u001b[90m, \u001b[39m1\u001b[90m, \u001b[39m1\u001b[90m, \u001b[39m2\u001b[90m, \u001b[39m0\u001b[90m, \u001b[39m4\u001b[90m, \u001b[39m1\u001b[90m, \u001b[39m1\u001b[90m, \u001b[39m4\u001b[90m, \u001b[39m0\u001b[90m, \u001b[39m3\u001b[90m, \u001b[39m3\u001b[90m, \u001b[39m0\u001b[90m, \u001b[39m…\n",
      "$ `2PTA`         \u001b[3m\u001b[90m<int>\u001b[39m\u001b[23m 1\u001b[90m, \u001b[39m0\u001b[90m, \u001b[39m13\u001b[90m, \u001b[39m0\u001b[90m, \u001b[39m1\u001b[90m, \u001b[39m3\u001b[90m, \u001b[39m6\u001b[90m, \u001b[39m1\u001b[90m, \u001b[39m3\u001b[90m, \u001b[39m0\u001b[90m, \u001b[39m5\u001b[90m, \u001b[39m1\u001b[90m, \u001b[39m3\u001b[90m, \u001b[39m8\u001b[90m, \u001b[39m0\u001b[90m, \u001b[39m4\u001b[90m, \u001b[39m3\u001b[90m, \u001b[39m1\u001b[90m, \u001b[39m…\n",
      "$ `2PT%`         \u001b[3m\u001b[90m<dbl>\u001b[39m\u001b[23m 0.0000000\u001b[90m, \u001b[39m\u001b[31mNA\u001b[39m\u001b[90m, \u001b[39m0.8461538\u001b[90m, \u001b[39m\u001b[31mNA\u001b[39m\u001b[90m, \u001b[39m1.0000000\u001b[90m, \u001b[39m0.6666667\u001b[90m, \u001b[39m0.1…\n",
      "$ `3PTM`         \u001b[3m\u001b[90m<int>\u001b[39m\u001b[23m 0\u001b[90m, \u001b[39m0\u001b[90m, \u001b[39m2\u001b[90m, \u001b[39m0\u001b[90m, \u001b[39m0\u001b[90m, \u001b[39m0\u001b[90m, \u001b[39m4\u001b[90m, \u001b[39m1\u001b[90m, \u001b[39m2\u001b[90m, \u001b[39m0\u001b[90m, \u001b[39m1\u001b[90m, \u001b[39m1\u001b[90m, \u001b[39m2\u001b[90m, \u001b[39m2\u001b[90m, \u001b[39m1\u001b[90m, \u001b[39m0\u001b[90m, \u001b[39m0\u001b[90m, \u001b[39m0\u001b[90m, \u001b[39m0…\n",
      "$ `3PTA`         \u001b[3m\u001b[90m<int>\u001b[39m\u001b[23m 1\u001b[90m, \u001b[39m0\u001b[90m, \u001b[39m4\u001b[90m, \u001b[39m1\u001b[90m, \u001b[39m0\u001b[90m, \u001b[39m0\u001b[90m, \u001b[39m8\u001b[90m, \u001b[39m3\u001b[90m, \u001b[39m4\u001b[90m, \u001b[39m0\u001b[90m, \u001b[39m4\u001b[90m, \u001b[39m4\u001b[90m, \u001b[39m3\u001b[90m, \u001b[39m4\u001b[90m, \u001b[39m2\u001b[90m, \u001b[39m5\u001b[90m, \u001b[39m0\u001b[90m, \u001b[39m2\u001b[90m, \u001b[39m0…\n",
      "$ `3PT%`         \u001b[3m\u001b[90m<dbl>\u001b[39m\u001b[23m 0.0000000\u001b[90m, \u001b[39m\u001b[31mNA\u001b[39m\u001b[90m, \u001b[39m0.5000000\u001b[90m, \u001b[39m0.0000000\u001b[90m, \u001b[39m\u001b[31mNA\u001b[39m\u001b[90m, \u001b[39m\u001b[31mNA\u001b[39m\u001b[90m, \u001b[39m0.5000000\u001b[90m,\u001b[39m…\n",
      "$ FGM            \u001b[3m\u001b[90m<int>\u001b[39m\u001b[23m 0\u001b[90m, \u001b[39m0\u001b[90m, \u001b[39m13\u001b[90m, \u001b[39m0\u001b[90m, \u001b[39m1\u001b[90m, \u001b[39m2\u001b[90m, \u001b[39m5\u001b[90m, \u001b[39m2\u001b[90m, \u001b[39m4\u001b[90m, \u001b[39m0\u001b[90m, \u001b[39m5\u001b[90m, \u001b[39m2\u001b[90m, \u001b[39m3\u001b[90m, \u001b[39m6\u001b[90m, \u001b[39m1\u001b[90m, \u001b[39m3\u001b[90m, \u001b[39m3\u001b[90m, \u001b[39m0\u001b[90m, \u001b[39m…\n",
      "$ FGA            \u001b[3m\u001b[90m<int>\u001b[39m\u001b[23m 2\u001b[90m, \u001b[39m0\u001b[90m, \u001b[39m17\u001b[90m, \u001b[39m1\u001b[90m, \u001b[39m1\u001b[90m, \u001b[39m3\u001b[90m, \u001b[39m14\u001b[90m, \u001b[39m4\u001b[90m, \u001b[39m7\u001b[90m, \u001b[39m0\u001b[90m, \u001b[39m9\u001b[90m, \u001b[39m5\u001b[90m, \u001b[39m6\u001b[90m, \u001b[39m12\u001b[90m, \u001b[39m2\u001b[90m, \u001b[39m9\u001b[90m, \u001b[39m3\u001b[90m, \u001b[39m3…\n",
      "$ `FG%`          \u001b[3m\u001b[90m<dbl>\u001b[39m\u001b[23m 0.0000000\u001b[90m, \u001b[39m\u001b[31mNA\u001b[39m\u001b[90m, \u001b[39m0.7647059\u001b[90m, \u001b[39m0.0000000\u001b[90m, \u001b[39m1.0000000\u001b[90m, \u001b[39m0.66666…\n",
      "$ FTM            \u001b[3m\u001b[90m<int>\u001b[39m\u001b[23m 0\u001b[90m, \u001b[39m0\u001b[90m, \u001b[39m4\u001b[90m, \u001b[39m0\u001b[90m, \u001b[39m0\u001b[90m, \u001b[39m2\u001b[90m, \u001b[39m0\u001b[90m, \u001b[39m0\u001b[90m, \u001b[39m0\u001b[90m, \u001b[39m0\u001b[90m, \u001b[39m0\u001b[90m, \u001b[39m0\u001b[90m, \u001b[39m3\u001b[90m, \u001b[39m0\u001b[90m, \u001b[39m0\u001b[90m, \u001b[39m2\u001b[90m, \u001b[39m2\u001b[90m, \u001b[39m0\u001b[90m, \u001b[39m0…\n",
      "$ FTA            \u001b[3m\u001b[90m<int>\u001b[39m\u001b[23m 0\u001b[90m, \u001b[39m0\u001b[90m, \u001b[39m5\u001b[90m, \u001b[39m0\u001b[90m, \u001b[39m0\u001b[90m, \u001b[39m6\u001b[90m, \u001b[39m0\u001b[90m, \u001b[39m0\u001b[90m, \u001b[39m0\u001b[90m, \u001b[39m0\u001b[90m, \u001b[39m0\u001b[90m, \u001b[39m0\u001b[90m, \u001b[39m4\u001b[90m, \u001b[39m0\u001b[90m, \u001b[39m0\u001b[90m, \u001b[39m2\u001b[90m, \u001b[39m3\u001b[90m, \u001b[39m0\u001b[90m, \u001b[39m0…\n",
      "$ `FT%`          \u001b[3m\u001b[90m<dbl>\u001b[39m\u001b[23m \u001b[31mNA\u001b[39m\u001b[90m, \u001b[39m\u001b[31mNA\u001b[39m\u001b[90m, \u001b[39m0.8000000\u001b[90m, \u001b[39m\u001b[31mNA\u001b[39m\u001b[90m, \u001b[39m\u001b[31mNA\u001b[39m\u001b[90m, \u001b[39m0.3333333\u001b[90m, \u001b[39m\u001b[31mNA\u001b[39m\u001b[90m, \u001b[39m\u001b[31mNA\u001b[39m\u001b[90m, \u001b[39m\u001b[31mNA\u001b[39m\u001b[90m, \u001b[39m\u001b[31mNA\u001b[39m\u001b[90m, \u001b[39m\u001b[31mN\u001b[39m…\n",
      "$ OR             \u001b[3m\u001b[90m<int>\u001b[39m\u001b[23m 0\u001b[90m, \u001b[39m0\u001b[90m, \u001b[39m2\u001b[90m, \u001b[39m0\u001b[90m, \u001b[39m0\u001b[90m, \u001b[39m4\u001b[90m, \u001b[39m0\u001b[90m, \u001b[39m0\u001b[90m, \u001b[39m0\u001b[90m, \u001b[39m0\u001b[90m, \u001b[39m2\u001b[90m, \u001b[39m1\u001b[90m, \u001b[39m1\u001b[90m, \u001b[39m1\u001b[90m, \u001b[39m0\u001b[90m, \u001b[39m3\u001b[90m, \u001b[39m4\u001b[90m, \u001b[39m0\u001b[90m, \u001b[39m2…\n",
      "$ DR             \u001b[3m\u001b[90m<int>\u001b[39m\u001b[23m 2\u001b[90m, \u001b[39m0\u001b[90m, \u001b[39m6\u001b[90m, \u001b[39m0\u001b[90m, \u001b[39m0\u001b[90m, \u001b[39m2\u001b[90m, \u001b[39m0\u001b[90m, \u001b[39m1\u001b[90m, \u001b[39m1\u001b[90m, \u001b[39m0\u001b[90m, \u001b[39m5\u001b[90m, \u001b[39m0\u001b[90m, \u001b[39m0\u001b[90m, \u001b[39m2\u001b[90m, \u001b[39m1\u001b[90m, \u001b[39m3\u001b[90m, \u001b[39m2\u001b[90m, \u001b[39m1\u001b[90m, \u001b[39m5…\n",
      "$ TR             \u001b[3m\u001b[90m<int>\u001b[39m\u001b[23m 2\u001b[90m, \u001b[39m0\u001b[90m, \u001b[39m8\u001b[90m, \u001b[39m0\u001b[90m, \u001b[39m0\u001b[90m, \u001b[39m6\u001b[90m, \u001b[39m0\u001b[90m, \u001b[39m1\u001b[90m, \u001b[39m1\u001b[90m, \u001b[39m0\u001b[90m, \u001b[39m7\u001b[90m, \u001b[39m1\u001b[90m, \u001b[39m1\u001b[90m, \u001b[39m3\u001b[90m, \u001b[39m1\u001b[90m, \u001b[39m6\u001b[90m, \u001b[39m6\u001b[90m, \u001b[39m1\u001b[90m, \u001b[39m7…\n",
      "$ AST            \u001b[3m\u001b[90m<int>\u001b[39m\u001b[23m 0\u001b[90m, \u001b[39m1\u001b[90m, \u001b[39m7\u001b[90m, \u001b[39m0\u001b[90m, \u001b[39m3\u001b[90m, \u001b[39m2\u001b[90m, \u001b[39m2\u001b[90m, \u001b[39m3\u001b[90m, \u001b[39m1\u001b[90m, \u001b[39m0\u001b[90m, \u001b[39m3\u001b[90m, \u001b[39m0\u001b[90m, \u001b[39m0\u001b[90m, \u001b[39m1\u001b[90m, \u001b[39m2\u001b[90m, \u001b[39m1\u001b[90m, \u001b[39m2\u001b[90m, \u001b[39m0\u001b[90m, \u001b[39m1…\n",
      "$ TO             \u001b[3m\u001b[90m<int>\u001b[39m\u001b[23m 1\u001b[90m, \u001b[39m0\u001b[90m, \u001b[39m5\u001b[90m, \u001b[39m0\u001b[90m, \u001b[39m0\u001b[90m, \u001b[39m0\u001b[90m, \u001b[39m4\u001b[90m, \u001b[39m0\u001b[90m, \u001b[39m1\u001b[90m, \u001b[39m0\u001b[90m, \u001b[39m0\u001b[90m, \u001b[39m1\u001b[90m, \u001b[39m0\u001b[90m, \u001b[39m1\u001b[90m, \u001b[39m0\u001b[90m, \u001b[39m0\u001b[90m, \u001b[39m0\u001b[90m, \u001b[39m1\u001b[90m, \u001b[39m0…\n",
      "$ ST             \u001b[3m\u001b[90m<int>\u001b[39m\u001b[23m 0\u001b[90m, \u001b[39m0\u001b[90m, \u001b[39m2\u001b[90m, \u001b[39m0\u001b[90m, \u001b[39m0\u001b[90m, \u001b[39m1\u001b[90m, \u001b[39m1\u001b[90m, \u001b[39m1\u001b[90m, \u001b[39m1\u001b[90m, \u001b[39m0\u001b[90m, \u001b[39m1\u001b[90m, \u001b[39m0\u001b[90m, \u001b[39m1\u001b[90m, \u001b[39m3\u001b[90m, \u001b[39m1\u001b[90m, \u001b[39m1\u001b[90m, \u001b[39m0\u001b[90m, \u001b[39m0\u001b[90m, \u001b[39m0…\n",
      "$ BLK            \u001b[3m\u001b[90m<int>\u001b[39m\u001b[23m 0\u001b[90m, \u001b[39m1\u001b[90m, \u001b[39m1\u001b[90m, \u001b[39m0\u001b[90m, \u001b[39m0\u001b[90m, \u001b[39m0\u001b[90m, \u001b[39m0\u001b[90m, \u001b[39m0\u001b[90m, \u001b[39m0\u001b[90m, \u001b[39m0\u001b[90m, \u001b[39m1\u001b[90m, \u001b[39m0\u001b[90m, \u001b[39m0\u001b[90m, \u001b[39m1\u001b[90m, \u001b[39m0\u001b[90m, \u001b[39m1\u001b[90m, \u001b[39m0\u001b[90m, \u001b[39m0\u001b[90m, \u001b[39m1…\n",
      "$ BLKA           \u001b[3m\u001b[90m<int>\u001b[39m\u001b[23m 0\u001b[90m, \u001b[39m0\u001b[90m, \u001b[39m0\u001b[90m, \u001b[39m0\u001b[90m, \u001b[39m0\u001b[90m, \u001b[39m1\u001b[90m, \u001b[39m2\u001b[90m, \u001b[39m0\u001b[90m, \u001b[39m0\u001b[90m, \u001b[39m0\u001b[90m, \u001b[39m0\u001b[90m, \u001b[39m0\u001b[90m, \u001b[39m0\u001b[90m, \u001b[39m1\u001b[90m, \u001b[39m0\u001b[90m, \u001b[39m1\u001b[90m, \u001b[39m0\u001b[90m, \u001b[39m0\u001b[90m, \u001b[39m0…\n",
      "$ PF             \u001b[3m\u001b[90m<int>\u001b[39m\u001b[23m 0\u001b[90m, \u001b[39m1\u001b[90m, \u001b[39m1\u001b[90m, \u001b[39m0\u001b[90m, \u001b[39m0\u001b[90m, \u001b[39m2\u001b[90m, \u001b[39m2\u001b[90m, \u001b[39m3\u001b[90m, \u001b[39m2\u001b[90m, \u001b[39m0\u001b[90m, \u001b[39m2\u001b[90m, \u001b[39m1\u001b[90m, \u001b[39m2\u001b[90m, \u001b[39m2\u001b[90m, \u001b[39m3\u001b[90m, \u001b[39m2\u001b[90m, \u001b[39m1\u001b[90m, \u001b[39m0\u001b[90m, \u001b[39m1…\n",
      "$ DF             \u001b[3m\u001b[90m<int>\u001b[39m\u001b[23m 1\u001b[90m, \u001b[39m0\u001b[90m, \u001b[39m6\u001b[90m, \u001b[39m0\u001b[90m, \u001b[39m0\u001b[90m, \u001b[39m6\u001b[90m, \u001b[39m1\u001b[90m, \u001b[39m1\u001b[90m, \u001b[39m0\u001b[90m, \u001b[39m0\u001b[90m, \u001b[39m0\u001b[90m, \u001b[39m1\u001b[90m, \u001b[39m3\u001b[90m, \u001b[39m1\u001b[90m, \u001b[39m0\u001b[90m, \u001b[39m1\u001b[90m, \u001b[39m2\u001b[90m, \u001b[39m0\u001b[90m, \u001b[39m2…\n",
      "$ VAL            \u001b[3m\u001b[90m<int>\u001b[39m\u001b[23m 0\u001b[90m, \u001b[39m1\u001b[90m, \u001b[39m45\u001b[90m, \u001b[39m-1\u001b[90m, \u001b[39m5\u001b[90m, \u001b[39m13\u001b[90m, \u001b[39m1\u001b[90m, \u001b[39m6\u001b[90m, \u001b[39m7\u001b[90m, \u001b[39m0\u001b[90m, \u001b[39m17\u001b[90m, \u001b[39m2\u001b[90m, \u001b[39m10\u001b[90m, \u001b[39m13\u001b[90m, \u001b[39m3\u001b[90m, \u001b[39m9\u001b[90m, \u001b[39m1…\n",
      "$ `+ / -`        \u001b[3m\u001b[90m<int>\u001b[39m\u001b[23m -8\u001b[90m, \u001b[39m-7\u001b[90m, \u001b[39m-15\u001b[90m, \u001b[39m-3\u001b[90m, \u001b[39m-1\u001b[90m, \u001b[39m-11\u001b[90m, \u001b[39m-19\u001b[90m, \u001b[39m-17\u001b[90m, \u001b[39m-7\u001b[90m, \u001b[39m2\u001b[90m, \u001b[39m-23\u001b[90m, \u001b[39m-31\u001b[90m, \u001b[39m14…\n",
      "$ POSS           \u001b[3m\u001b[90m<int>\u001b[39m\u001b[23m 3\u001b[90m, \u001b[39m0\u001b[90m, \u001b[39m24\u001b[90m, \u001b[39m1\u001b[90m, \u001b[39m1\u001b[90m, \u001b[39m6\u001b[90m, \u001b[39m18\u001b[90m, \u001b[39m4\u001b[90m, \u001b[39m8\u001b[90m, \u001b[39m0\u001b[90m, \u001b[39m9\u001b[90m, \u001b[39m6\u001b[90m, \u001b[39m8\u001b[90m, \u001b[39m13\u001b[90m, \u001b[39m2\u001b[90m, \u001b[39m10\u001b[90m, \u001b[39m4\u001b[90m, \u001b[39m…\n",
      "$ ASTED_2FG      \u001b[3m\u001b[90m<int>\u001b[39m\u001b[23m 0\u001b[90m, \u001b[39m0\u001b[90m, \u001b[39m1\u001b[90m, \u001b[39m0\u001b[90m, \u001b[39m1\u001b[90m, \u001b[39m2\u001b[90m, \u001b[39m1\u001b[90m, \u001b[39m1\u001b[90m, \u001b[39m1\u001b[90m, \u001b[39m0\u001b[90m, \u001b[39m3\u001b[90m, \u001b[39m0\u001b[90m, \u001b[39m0\u001b[90m, \u001b[39m3\u001b[90m, \u001b[39m0\u001b[90m, \u001b[39m2\u001b[90m, \u001b[39m2\u001b[90m, \u001b[39m0\u001b[90m, \u001b[39m2…\n",
      "$ ASTED_3FG      \u001b[3m\u001b[90m<int>\u001b[39m\u001b[23m 0\u001b[90m, \u001b[39m0\u001b[90m, \u001b[39m2\u001b[90m, \u001b[39m0\u001b[90m, \u001b[39m0\u001b[90m, \u001b[39m0\u001b[90m, \u001b[39m3\u001b[90m, \u001b[39m1\u001b[90m, \u001b[39m2\u001b[90m, \u001b[39m0\u001b[90m, \u001b[39m1\u001b[90m, \u001b[39m1\u001b[90m, \u001b[39m1\u001b[90m, \u001b[39m2\u001b[90m, \u001b[39m1\u001b[90m, \u001b[39m0\u001b[90m, \u001b[39m0\u001b[90m, \u001b[39m0\u001b[90m, \u001b[39m0…\n",
      "$ ASTED_FT       \u001b[3m\u001b[90m<int>\u001b[39m\u001b[23m 0\u001b[90m, \u001b[39m0\u001b[90m, \u001b[39m0\u001b[90m, \u001b[39m0\u001b[90m, \u001b[39m0\u001b[90m, \u001b[39m2\u001b[90m, \u001b[39m0\u001b[90m, \u001b[39m0\u001b[90m, \u001b[39m0\u001b[90m, \u001b[39m0\u001b[90m, \u001b[39m0\u001b[90m, \u001b[39m0\u001b[90m, \u001b[39m2\u001b[90m, \u001b[39m0\u001b[90m, \u001b[39m0\u001b[90m, \u001b[39m0\u001b[90m, \u001b[39m1\u001b[90m, \u001b[39m0\u001b[90m, \u001b[39m0…\n",
      "$ `ASTED_FT PTS` \u001b[3m\u001b[90m<int>\u001b[39m\u001b[23m 0\u001b[90m, \u001b[39m0\u001b[90m, \u001b[39m0\u001b[90m, \u001b[39m0\u001b[90m, \u001b[39m0\u001b[90m, \u001b[39m4\u001b[90m, \u001b[39m0\u001b[90m, \u001b[39m0\u001b[90m, \u001b[39m0\u001b[90m, \u001b[39m0\u001b[90m, \u001b[39m0\u001b[90m, \u001b[39m0\u001b[90m, \u001b[39m2\u001b[90m, \u001b[39m0\u001b[90m, \u001b[39m0\u001b[90m, \u001b[39m0\u001b[90m, \u001b[39m2\u001b[90m, \u001b[39m0\u001b[90m, \u001b[39m0…\n",
      "$ `AST (2P)`     \u001b[3m\u001b[90m<int>\u001b[39m\u001b[23m 0\u001b[90m, \u001b[39m0\u001b[90m, \u001b[39m4\u001b[90m, \u001b[39m0\u001b[90m, \u001b[39m1\u001b[90m, \u001b[39m1\u001b[90m, \u001b[39m0\u001b[90m, \u001b[39m2\u001b[90m, \u001b[39m0\u001b[90m, \u001b[39m0\u001b[90m, \u001b[39m2\u001b[90m, \u001b[39m0\u001b[90m, \u001b[39m0\u001b[90m, \u001b[39m1\u001b[90m, \u001b[39m1\u001b[90m, \u001b[39m0\u001b[90m, \u001b[39m0\u001b[90m, \u001b[39m0\u001b[90m, \u001b[39m0…\n",
      "$ `AST (3P)`     \u001b[3m\u001b[90m<int>\u001b[39m\u001b[23m 0\u001b[90m, \u001b[39m1\u001b[90m, \u001b[39m2\u001b[90m, \u001b[39m0\u001b[90m, \u001b[39m2\u001b[90m, \u001b[39m1\u001b[90m, \u001b[39m1\u001b[90m, \u001b[39m1\u001b[90m, \u001b[39m1\u001b[90m, \u001b[39m0\u001b[90m, \u001b[39m1\u001b[90m, \u001b[39m0\u001b[90m, \u001b[39m0\u001b[90m, \u001b[39m0\u001b[90m, \u001b[39m1\u001b[90m, \u001b[39m0\u001b[90m, \u001b[39m2\u001b[90m, \u001b[39m0\u001b[90m, \u001b[39m1…\n",
      "$ `AST (FT)`     \u001b[3m\u001b[90m<int>\u001b[39m\u001b[23m 0\u001b[90m, \u001b[39m0\u001b[90m, \u001b[39m1\u001b[90m, \u001b[39m0\u001b[90m, \u001b[39m0\u001b[90m, \u001b[39m0\u001b[90m, \u001b[39m1\u001b[90m, \u001b[39m0\u001b[90m, \u001b[39m0\u001b[90m, \u001b[39m0\u001b[90m, \u001b[39m0\u001b[90m, \u001b[39m0\u001b[90m, \u001b[39m0\u001b[90m, \u001b[39m0\u001b[90m, \u001b[39m0\u001b[90m, \u001b[39m1\u001b[90m, \u001b[39m0\u001b[90m, \u001b[39m0\u001b[90m, \u001b[39m0…\n",
      "$ `AST PTS (FT)` \u001b[3m\u001b[90m<int>\u001b[39m\u001b[23m 0\u001b[90m, \u001b[39m0\u001b[90m, \u001b[39m2\u001b[90m, \u001b[39m0\u001b[90m, \u001b[39m0\u001b[90m, \u001b[39m0\u001b[90m, \u001b[39m2\u001b[90m, \u001b[39m0\u001b[90m, \u001b[39m0\u001b[90m, \u001b[39m0\u001b[90m, \u001b[39m0\u001b[90m, \u001b[39m0\u001b[90m, \u001b[39m0\u001b[90m, \u001b[39m0\u001b[90m, \u001b[39m0\u001b[90m, \u001b[39m2\u001b[90m, \u001b[39m0\u001b[90m, \u001b[39m0\u001b[90m, \u001b[39m0…\n",
      "$ LTO            \u001b[3m\u001b[90m<int>\u001b[39m\u001b[23m 0\u001b[90m, \u001b[39m0\u001b[90m, \u001b[39m4\u001b[90m, \u001b[39m0\u001b[90m, \u001b[39m0\u001b[90m, \u001b[39m0\u001b[90m, \u001b[39m1\u001b[90m, \u001b[39m0\u001b[90m, \u001b[39m1\u001b[90m, \u001b[39m0\u001b[90m, \u001b[39m0\u001b[90m, \u001b[39m1\u001b[90m, \u001b[39m0\u001b[90m, \u001b[39m1\u001b[90m, \u001b[39m0\u001b[90m, \u001b[39m0\u001b[90m, \u001b[39m0\u001b[90m, \u001b[39m0\u001b[90m, \u001b[39m0…\n",
      "$ DTO            \u001b[3m\u001b[90m<int>\u001b[39m\u001b[23m 1\u001b[90m, \u001b[39m0\u001b[90m, \u001b[39m1\u001b[90m, \u001b[39m0\u001b[90m, \u001b[39m0\u001b[90m, \u001b[39m0\u001b[90m, \u001b[39m3\u001b[90m, \u001b[39m0\u001b[90m, \u001b[39m0\u001b[90m, \u001b[39m0\u001b[90m, \u001b[39m0\u001b[90m, \u001b[39m0\u001b[90m, \u001b[39m0\u001b[90m, \u001b[39m0\u001b[90m, \u001b[39m0\u001b[90m, \u001b[39m0\u001b[90m, \u001b[39m0\u001b[90m, \u001b[39m1\u001b[90m, \u001b[39m0…\n",
      "$ BLK2           \u001b[3m\u001b[90m<int>\u001b[39m\u001b[23m 0\u001b[90m, \u001b[39m1\u001b[90m, \u001b[39m1\u001b[90m, \u001b[39m0\u001b[90m, \u001b[39m0\u001b[90m, \u001b[39m0\u001b[90m, \u001b[39m0\u001b[90m, \u001b[39m0\u001b[90m, \u001b[39m0\u001b[90m, \u001b[39m0\u001b[90m, \u001b[39m1\u001b[90m, \u001b[39m0\u001b[90m, \u001b[39m0\u001b[90m, \u001b[39m1\u001b[90m, \u001b[39m0\u001b[90m, \u001b[39m1\u001b[90m, \u001b[39m0\u001b[90m, \u001b[39m0\u001b[90m, \u001b[39m1…\n",
      "$ BLK3           \u001b[3m\u001b[90m<int>\u001b[39m\u001b[23m 0\u001b[90m, \u001b[39m0\u001b[90m, \u001b[39m0\u001b[90m, \u001b[39m0\u001b[90m, \u001b[39m0\u001b[90m, \u001b[39m0\u001b[90m, \u001b[39m0\u001b[90m, \u001b[39m0\u001b[90m, \u001b[39m0\u001b[90m, \u001b[39m0\u001b[90m, \u001b[39m0\u001b[90m, \u001b[39m0\u001b[90m, \u001b[39m0\u001b[90m, \u001b[39m0\u001b[90m, \u001b[39m0\u001b[90m, \u001b[39m0\u001b[90m, \u001b[39m0\u001b[90m, \u001b[39m0\u001b[90m, \u001b[39m0…\n",
      "$ OR_RIM         \u001b[3m\u001b[90m<int>\u001b[39m\u001b[23m 0\u001b[90m, \u001b[39m0\u001b[90m, \u001b[39m0\u001b[90m, \u001b[39m0\u001b[90m, \u001b[39m0\u001b[90m, \u001b[39m0\u001b[90m, \u001b[39m0\u001b[90m, \u001b[39m0\u001b[90m, \u001b[39m0\u001b[90m, \u001b[39m0\u001b[90m, \u001b[39m0\u001b[90m, \u001b[39m1\u001b[90m, \u001b[39m0\u001b[90m, \u001b[39m0\u001b[90m, \u001b[39m0\u001b[90m, \u001b[39m1\u001b[90m, \u001b[39m0\u001b[90m, \u001b[39m0\u001b[90m, \u001b[39m0…\n",
      "$ OR_PAINT       \u001b[3m\u001b[90m<int>\u001b[39m\u001b[23m 0\u001b[90m, \u001b[39m0\u001b[90m, \u001b[39m0\u001b[90m, \u001b[39m0\u001b[90m, \u001b[39m0\u001b[90m, \u001b[39m1\u001b[90m, \u001b[39m0\u001b[90m, \u001b[39m0\u001b[90m, \u001b[39m0\u001b[90m, \u001b[39m0\u001b[90m, \u001b[39m0\u001b[90m, \u001b[39m0\u001b[90m, \u001b[39m0\u001b[90m, \u001b[39m0\u001b[90m, \u001b[39m0\u001b[90m, \u001b[39m0\u001b[90m, \u001b[39m0\u001b[90m, \u001b[39m0\u001b[90m, \u001b[39m1…\n",
      "$ OR_NP2         \u001b[3m\u001b[90m<int>\u001b[39m\u001b[23m 0\u001b[90m, \u001b[39m0\u001b[90m, \u001b[39m1\u001b[90m, \u001b[39m0\u001b[90m, \u001b[39m0\u001b[90m, \u001b[39m0\u001b[90m, \u001b[39m0\u001b[90m, \u001b[39m0\u001b[90m, \u001b[39m0\u001b[90m, \u001b[39m0\u001b[90m, \u001b[39m0\u001b[90m, \u001b[39m0\u001b[90m, \u001b[39m1\u001b[90m, \u001b[39m1\u001b[90m, \u001b[39m0\u001b[90m, \u001b[39m0\u001b[90m, \u001b[39m1\u001b[90m, \u001b[39m0\u001b[90m, \u001b[39m1…\n",
      "$ OR_3C          \u001b[3m\u001b[90m<int>\u001b[39m\u001b[23m 0\u001b[90m, \u001b[39m0\u001b[90m, \u001b[39m0\u001b[90m, \u001b[39m0\u001b[90m, \u001b[39m0\u001b[90m, \u001b[39m1\u001b[90m, \u001b[39m0\u001b[90m, \u001b[39m0\u001b[90m, \u001b[39m0\u001b[90m, \u001b[39m0\u001b[90m, \u001b[39m0\u001b[90m, \u001b[39m0\u001b[90m, \u001b[39m0\u001b[90m, \u001b[39m0\u001b[90m, \u001b[39m0\u001b[90m, \u001b[39m0\u001b[90m, \u001b[39m0\u001b[90m, \u001b[39m0\u001b[90m, \u001b[39m0…\n",
      "$ OR_3L          \u001b[3m\u001b[90m<int>\u001b[39m\u001b[23m 0\u001b[90m, \u001b[39m0\u001b[90m, \u001b[39m1\u001b[90m, \u001b[39m0\u001b[90m, \u001b[39m0\u001b[90m, \u001b[39m2\u001b[90m, \u001b[39m0\u001b[90m, \u001b[39m0\u001b[90m, \u001b[39m0\u001b[90m, \u001b[39m0\u001b[90m, \u001b[39m2\u001b[90m, \u001b[39m0\u001b[90m, \u001b[39m0\u001b[90m, \u001b[39m0\u001b[90m, \u001b[39m0\u001b[90m, \u001b[39m2\u001b[90m, \u001b[39m2\u001b[90m, \u001b[39m0\u001b[90m, \u001b[39m0…\n",
      "$ OR_FT          \u001b[3m\u001b[90m<int>\u001b[39m\u001b[23m 0\u001b[90m, \u001b[39m0\u001b[90m, \u001b[39m0\u001b[90m, \u001b[39m0\u001b[90m, \u001b[39m0\u001b[90m, \u001b[39m0\u001b[90m, \u001b[39m0\u001b[90m, \u001b[39m0\u001b[90m, \u001b[39m0\u001b[90m, \u001b[39m0\u001b[90m, \u001b[39m0\u001b[90m, \u001b[39m0\u001b[90m, \u001b[39m0\u001b[90m, \u001b[39m0\u001b[90m, \u001b[39m0\u001b[90m, \u001b[39m0\u001b[90m, \u001b[39m1\u001b[90m, \u001b[39m0\u001b[90m, \u001b[39m0…\n",
      "$ DR_RIM         \u001b[3m\u001b[90m<int>\u001b[39m\u001b[23m 0\u001b[90m, \u001b[39m0\u001b[90m, \u001b[39m1\u001b[90m, \u001b[39m0\u001b[90m, \u001b[39m0\u001b[90m, \u001b[39m0\u001b[90m, \u001b[39m0\u001b[90m, \u001b[39m0\u001b[90m, \u001b[39m0\u001b[90m, \u001b[39m0\u001b[90m, \u001b[39m0\u001b[90m, \u001b[39m0\u001b[90m, \u001b[39m0\u001b[90m, \u001b[39m0\u001b[90m, \u001b[39m0\u001b[90m, \u001b[39m1\u001b[90m, \u001b[39m0\u001b[90m, \u001b[39m0\u001b[90m, \u001b[39m0…\n",
      "$ DR_PAINT       \u001b[3m\u001b[90m<int>\u001b[39m\u001b[23m 2\u001b[90m, \u001b[39m0\u001b[90m, \u001b[39m0\u001b[90m, \u001b[39m0\u001b[90m, \u001b[39m0\u001b[90m, \u001b[39m1\u001b[90m, \u001b[39m0\u001b[90m, \u001b[39m0\u001b[90m, \u001b[39m0\u001b[90m, \u001b[39m0\u001b[90m, \u001b[39m0\u001b[90m, \u001b[39m0\u001b[90m, \u001b[39m0\u001b[90m, \u001b[39m0\u001b[90m, \u001b[39m0\u001b[90m, \u001b[39m2\u001b[90m, \u001b[39m0\u001b[90m, \u001b[39m1\u001b[90m, \u001b[39m2…\n",
      "$ DR_NP2         \u001b[3m\u001b[90m<int>\u001b[39m\u001b[23m 0\u001b[90m, \u001b[39m0\u001b[90m, \u001b[39m0\u001b[90m, \u001b[39m0\u001b[90m, \u001b[39m0\u001b[90m, \u001b[39m1\u001b[90m, \u001b[39m0\u001b[90m, \u001b[39m0\u001b[90m, \u001b[39m0\u001b[90m, \u001b[39m0\u001b[90m, \u001b[39m0\u001b[90m, \u001b[39m0\u001b[90m, \u001b[39m0\u001b[90m, \u001b[39m0\u001b[90m, \u001b[39m0\u001b[90m, \u001b[39m0\u001b[90m, \u001b[39m0\u001b[90m, \u001b[39m0\u001b[90m, \u001b[39m1…\n",
      "$ DR_3C          \u001b[3m\u001b[90m<int>\u001b[39m\u001b[23m 0\u001b[90m, \u001b[39m0\u001b[90m, \u001b[39m0\u001b[90m, \u001b[39m0\u001b[90m, \u001b[39m0\u001b[90m, \u001b[39m0\u001b[90m, \u001b[39m0\u001b[90m, \u001b[39m0\u001b[90m, \u001b[39m0\u001b[90m, \u001b[39m0\u001b[90m, \u001b[39m1\u001b[90m, \u001b[39m0\u001b[90m, \u001b[39m0\u001b[90m, \u001b[39m1\u001b[90m, \u001b[39m0\u001b[90m, \u001b[39m0\u001b[90m, \u001b[39m0\u001b[90m, \u001b[39m0\u001b[90m, \u001b[39m0…\n",
      "$ DR_3L          \u001b[3m\u001b[90m<int>\u001b[39m\u001b[23m 0\u001b[90m, \u001b[39m0\u001b[90m, \u001b[39m5\u001b[90m, \u001b[39m0\u001b[90m, \u001b[39m0\u001b[90m, \u001b[39m0\u001b[90m, \u001b[39m0\u001b[90m, \u001b[39m0\u001b[90m, \u001b[39m1\u001b[90m, \u001b[39m0\u001b[90m, \u001b[39m4\u001b[90m, \u001b[39m0\u001b[90m, \u001b[39m0\u001b[90m, \u001b[39m1\u001b[90m, \u001b[39m1\u001b[90m, \u001b[39m0\u001b[90m, \u001b[39m1\u001b[90m, \u001b[39m0\u001b[90m, \u001b[39m1…\n",
      "$ DR_FT          \u001b[3m\u001b[90m<int>\u001b[39m\u001b[23m 0\u001b[90m, \u001b[39m0\u001b[90m, \u001b[39m0\u001b[90m, \u001b[39m0\u001b[90m, \u001b[39m0\u001b[90m, \u001b[39m0\u001b[90m, \u001b[39m0\u001b[90m, \u001b[39m1\u001b[90m, \u001b[39m0\u001b[90m, \u001b[39m0\u001b[90m, \u001b[39m0\u001b[90m, \u001b[39m0\u001b[90m, \u001b[39m0\u001b[90m, \u001b[39m0\u001b[90m, \u001b[39m0\u001b[90m, \u001b[39m0\u001b[90m, \u001b[39m1\u001b[90m, \u001b[39m0\u001b[90m, \u001b[39m1…\n",
      "$ FTM_T          \u001b[3m\u001b[90m<int>\u001b[39m\u001b[23m 0\u001b[90m, \u001b[39m0\u001b[90m, \u001b[39m0\u001b[90m, \u001b[39m0\u001b[90m, \u001b[39m0\u001b[90m, \u001b[39m0\u001b[90m, \u001b[39m0\u001b[90m, \u001b[39m0\u001b[90m, \u001b[39m0\u001b[90m, \u001b[39m0\u001b[90m, \u001b[39m0\u001b[90m, \u001b[39m0\u001b[90m, \u001b[39m0\u001b[90m, \u001b[39m0\u001b[90m, \u001b[39m0\u001b[90m, \u001b[39m0\u001b[90m, \u001b[39m0\u001b[90m, \u001b[39m0\u001b[90m, \u001b[39m0…\n",
      "$ FTA_T          \u001b[3m\u001b[90m<int>\u001b[39m\u001b[23m 0\u001b[90m, \u001b[39m0\u001b[90m, \u001b[39m0\u001b[90m, \u001b[39m0\u001b[90m, \u001b[39m0\u001b[90m, \u001b[39m0\u001b[90m, \u001b[39m0\u001b[90m, \u001b[39m0\u001b[90m, \u001b[39m0\u001b[90m, \u001b[39m0\u001b[90m, \u001b[39m0\u001b[90m, \u001b[39m0\u001b[90m, \u001b[39m0\u001b[90m, \u001b[39m0\u001b[90m, \u001b[39m0\u001b[90m, \u001b[39m0\u001b[90m, \u001b[39m0\u001b[90m, \u001b[39m0\u001b[90m, \u001b[39m0…\n",
      "$ FTM_1          \u001b[3m\u001b[90m<int>\u001b[39m\u001b[23m 0\u001b[90m, \u001b[39m0\u001b[90m, \u001b[39m1\u001b[90m, \u001b[39m0\u001b[90m, \u001b[39m0\u001b[90m, \u001b[39m0\u001b[90m, \u001b[39m0\u001b[90m, \u001b[39m0\u001b[90m, \u001b[39m0\u001b[90m, \u001b[39m0\u001b[90m, \u001b[39m0\u001b[90m, \u001b[39m0\u001b[90m, \u001b[39m0\u001b[90m, \u001b[39m0\u001b[90m, \u001b[39m0\u001b[90m, \u001b[39m0\u001b[90m, \u001b[39m0\u001b[90m, \u001b[39m0\u001b[90m, \u001b[39m0…\n",
      "$ FTA_1          \u001b[3m\u001b[90m<int>\u001b[39m\u001b[23m 0\u001b[90m, \u001b[39m0\u001b[90m, \u001b[39m1\u001b[90m, \u001b[39m0\u001b[90m, \u001b[39m0\u001b[90m, \u001b[39m0\u001b[90m, \u001b[39m0\u001b[90m, \u001b[39m0\u001b[90m, \u001b[39m0\u001b[90m, \u001b[39m0\u001b[90m, \u001b[39m0\u001b[90m, \u001b[39m0\u001b[90m, \u001b[39m0\u001b[90m, \u001b[39m0\u001b[90m, \u001b[39m0\u001b[90m, \u001b[39m0\u001b[90m, \u001b[39m1\u001b[90m, \u001b[39m0\u001b[90m, \u001b[39m0…\n",
      "$ FTM_2          \u001b[3m\u001b[90m<int>\u001b[39m\u001b[23m 0\u001b[90m, \u001b[39m0\u001b[90m, \u001b[39m3\u001b[90m, \u001b[39m0\u001b[90m, \u001b[39m0\u001b[90m, \u001b[39m2\u001b[90m, \u001b[39m0\u001b[90m, \u001b[39m0\u001b[90m, \u001b[39m0\u001b[90m, \u001b[39m0\u001b[90m, \u001b[39m0\u001b[90m, \u001b[39m0\u001b[90m, \u001b[39m3\u001b[90m, \u001b[39m0\u001b[90m, \u001b[39m0\u001b[90m, \u001b[39m2\u001b[90m, \u001b[39m2\u001b[90m, \u001b[39m0\u001b[90m, \u001b[39m0…\n",
      "$ FTA_2          \u001b[3m\u001b[90m<int>\u001b[39m\u001b[23m 0\u001b[90m, \u001b[39m0\u001b[90m, \u001b[39m4\u001b[90m, \u001b[39m0\u001b[90m, \u001b[39m0\u001b[90m, \u001b[39m6\u001b[90m, \u001b[39m0\u001b[90m, \u001b[39m0\u001b[90m, \u001b[39m0\u001b[90m, \u001b[39m0\u001b[90m, \u001b[39m0\u001b[90m, \u001b[39m0\u001b[90m, \u001b[39m4\u001b[90m, \u001b[39m0\u001b[90m, \u001b[39m0\u001b[90m, \u001b[39m2\u001b[90m, \u001b[39m2\u001b[90m, \u001b[39m0\u001b[90m, \u001b[39m0…\n",
      "$ `FT 0/2`       \u001b[3m\u001b[90m<int>\u001b[39m\u001b[23m 0\u001b[90m, \u001b[39m0\u001b[90m, \u001b[39m0\u001b[90m, \u001b[39m0\u001b[90m, \u001b[39m0\u001b[90m, \u001b[39m1\u001b[90m, \u001b[39m0\u001b[90m, \u001b[39m0\u001b[90m, \u001b[39m0\u001b[90m, \u001b[39m0\u001b[90m, \u001b[39m0\u001b[90m, \u001b[39m0\u001b[90m, \u001b[39m0\u001b[90m, \u001b[39m0\u001b[90m, \u001b[39m0\u001b[90m, \u001b[39m0\u001b[90m, \u001b[39m0\u001b[90m, \u001b[39m0\u001b[90m, \u001b[39m0…\n",
      "$ FTM_3          \u001b[3m\u001b[90m<int>\u001b[39m\u001b[23m 0\u001b[90m, \u001b[39m0\u001b[90m, \u001b[39m0\u001b[90m, \u001b[39m0\u001b[90m, \u001b[39m0\u001b[90m, \u001b[39m0\u001b[90m, \u001b[39m0\u001b[90m, \u001b[39m0\u001b[90m, \u001b[39m0\u001b[90m, \u001b[39m0\u001b[90m, \u001b[39m0\u001b[90m, \u001b[39m0\u001b[90m, \u001b[39m0\u001b[90m, \u001b[39m0\u001b[90m, \u001b[39m0\u001b[90m, \u001b[39m0\u001b[90m, \u001b[39m0\u001b[90m, \u001b[39m0\u001b[90m, \u001b[39m0…\n",
      "$ FTA_3          \u001b[3m\u001b[90m<int>\u001b[39m\u001b[23m 0\u001b[90m, \u001b[39m0\u001b[90m, \u001b[39m0\u001b[90m, \u001b[39m0\u001b[90m, \u001b[39m0\u001b[90m, \u001b[39m0\u001b[90m, \u001b[39m0\u001b[90m, \u001b[39m0\u001b[90m, \u001b[39m0\u001b[90m, \u001b[39m0\u001b[90m, \u001b[39m0\u001b[90m, \u001b[39m0\u001b[90m, \u001b[39m0\u001b[90m, \u001b[39m0\u001b[90m, \u001b[39m0\u001b[90m, \u001b[39m0\u001b[90m, \u001b[39m0\u001b[90m, \u001b[39m0\u001b[90m, \u001b[39m0…\n",
      "$ `FT 0/3`       \u001b[3m\u001b[90m<int>\u001b[39m\u001b[23m 0\u001b[90m, \u001b[39m0\u001b[90m, \u001b[39m0\u001b[90m, \u001b[39m0\u001b[90m, \u001b[39m0\u001b[90m, \u001b[39m0\u001b[90m, \u001b[39m0\u001b[90m, \u001b[39m0\u001b[90m, \u001b[39m0\u001b[90m, \u001b[39m0\u001b[90m, \u001b[39m0\u001b[90m, \u001b[39m0\u001b[90m, \u001b[39m0\u001b[90m, \u001b[39m0\u001b[90m, \u001b[39m0\u001b[90m, \u001b[39m0\u001b[90m, \u001b[39m0\u001b[90m, \u001b[39m0\u001b[90m, \u001b[39m0…\n",
      "$ RIM_M          \u001b[3m\u001b[90m<int>\u001b[39m\u001b[23m 0\u001b[90m, \u001b[39m0\u001b[90m, \u001b[39m7\u001b[90m, \u001b[39m0\u001b[90m, \u001b[39m1\u001b[90m, \u001b[39m1\u001b[90m, \u001b[39m1\u001b[90m, \u001b[39m1\u001b[90m, \u001b[39m1\u001b[90m, \u001b[39m0\u001b[90m, \u001b[39m3\u001b[90m, \u001b[39m1\u001b[90m, \u001b[39m1\u001b[90m, \u001b[39m0\u001b[90m, \u001b[39m0\u001b[90m, \u001b[39m2\u001b[90m, \u001b[39m1\u001b[90m, \u001b[39m0\u001b[90m, \u001b[39m1…\n",
      "$ RIM_A          \u001b[3m\u001b[90m<int>\u001b[39m\u001b[23m 1\u001b[90m, \u001b[39m0\u001b[90m, \u001b[39m7\u001b[90m, \u001b[39m0\u001b[90m, \u001b[39m1\u001b[90m, \u001b[39m1\u001b[90m, \u001b[39m2\u001b[90m, \u001b[39m1\u001b[90m, \u001b[39m1\u001b[90m, \u001b[39m0\u001b[90m, \u001b[39m4\u001b[90m, \u001b[39m1\u001b[90m, \u001b[39m2\u001b[90m, \u001b[39m2\u001b[90m, \u001b[39m0\u001b[90m, \u001b[39m3\u001b[90m, \u001b[39m1\u001b[90m, \u001b[39m0\u001b[90m, \u001b[39m1…\n",
      "$ PAINT_M        \u001b[3m\u001b[90m<int>\u001b[39m\u001b[23m 0\u001b[90m, \u001b[39m0\u001b[90m, \u001b[39m1\u001b[90m, \u001b[39m0\u001b[90m, \u001b[39m0\u001b[90m, \u001b[39m1\u001b[90m, \u001b[39m0\u001b[90m, \u001b[39m0\u001b[90m, \u001b[39m1\u001b[90m, \u001b[39m0\u001b[90m, \u001b[39m1\u001b[90m, \u001b[39m0\u001b[90m, \u001b[39m0\u001b[90m, \u001b[39m3\u001b[90m, \u001b[39m0\u001b[90m, \u001b[39m1\u001b[90m, \u001b[39m2\u001b[90m, \u001b[39m0\u001b[90m, \u001b[39m1…\n",
      "$ PAINT_A        \u001b[3m\u001b[90m<int>\u001b[39m\u001b[23m 0\u001b[90m, \u001b[39m0\u001b[90m, \u001b[39m3\u001b[90m, \u001b[39m0\u001b[90m, \u001b[39m0\u001b[90m, \u001b[39m2\u001b[90m, \u001b[39m3\u001b[90m, \u001b[39m0\u001b[90m, \u001b[39m1\u001b[90m, \u001b[39m0\u001b[90m, \u001b[39m1\u001b[90m, \u001b[39m0\u001b[90m, \u001b[39m0\u001b[90m, \u001b[39m5\u001b[90m, \u001b[39m0\u001b[90m, \u001b[39m1\u001b[90m, \u001b[39m2\u001b[90m, \u001b[39m0\u001b[90m, \u001b[39m2…\n",
      "$ MID_M          \u001b[3m\u001b[90m<int>\u001b[39m\u001b[23m 0\u001b[90m, \u001b[39m0\u001b[90m, \u001b[39m3\u001b[90m, \u001b[39m0\u001b[90m, \u001b[39m0\u001b[90m, \u001b[39m0\u001b[90m, \u001b[39m0\u001b[90m, \u001b[39m0\u001b[90m, \u001b[39m0\u001b[90m, \u001b[39m0\u001b[90m, \u001b[39m0\u001b[90m, \u001b[39m0\u001b[90m, \u001b[39m0\u001b[90m, \u001b[39m1\u001b[90m, \u001b[39m0\u001b[90m, \u001b[39m0\u001b[90m, \u001b[39m0\u001b[90m, \u001b[39m0\u001b[90m, \u001b[39m0…\n",
      "$ MID_A          \u001b[3m\u001b[90m<int>\u001b[39m\u001b[23m 0\u001b[90m, \u001b[39m0\u001b[90m, \u001b[39m3\u001b[90m, \u001b[39m0\u001b[90m, \u001b[39m0\u001b[90m, \u001b[39m0\u001b[90m, \u001b[39m1\u001b[90m, \u001b[39m0\u001b[90m, \u001b[39m1\u001b[90m, \u001b[39m0\u001b[90m, \u001b[39m0\u001b[90m, \u001b[39m0\u001b[90m, \u001b[39m1\u001b[90m, \u001b[39m1\u001b[90m, \u001b[39m0\u001b[90m, \u001b[39m0\u001b[90m, \u001b[39m0\u001b[90m, \u001b[39m1\u001b[90m, \u001b[39m0…\n",
      "$ `3C_M`         \u001b[3m\u001b[90m<int>\u001b[39m\u001b[23m 0\u001b[90m, \u001b[39m0\u001b[90m, \u001b[39m0\u001b[90m, \u001b[39m0\u001b[90m, \u001b[39m0\u001b[90m, \u001b[39m0\u001b[90m, \u001b[39m1\u001b[90m, \u001b[39m0\u001b[90m, \u001b[39m2\u001b[90m, \u001b[39m0\u001b[90m, \u001b[39m0\u001b[90m, \u001b[39m0\u001b[90m, \u001b[39m1\u001b[90m, \u001b[39m1\u001b[90m, \u001b[39m0\u001b[90m, \u001b[39m0\u001b[90m, \u001b[39m0\u001b[90m, \u001b[39m0\u001b[90m, \u001b[39m0…\n",
      "$ `3C_A`         \u001b[3m\u001b[90m<int>\u001b[39m\u001b[23m 0\u001b[90m, \u001b[39m0\u001b[90m, \u001b[39m0\u001b[90m, \u001b[39m1\u001b[90m, \u001b[39m0\u001b[90m, \u001b[39m0\u001b[90m, \u001b[39m1\u001b[90m, \u001b[39m0\u001b[90m, \u001b[39m2\u001b[90m, \u001b[39m0\u001b[90m, \u001b[39m0\u001b[90m, \u001b[39m1\u001b[90m, \u001b[39m1\u001b[90m, \u001b[39m1\u001b[90m, \u001b[39m0\u001b[90m, \u001b[39m1\u001b[90m, \u001b[39m0\u001b[90m, \u001b[39m0\u001b[90m, \u001b[39m0…\n",
      "$ `3L_M`         \u001b[3m\u001b[90m<int>\u001b[39m\u001b[23m 0\u001b[90m, \u001b[39m0\u001b[90m, \u001b[39m2\u001b[90m, \u001b[39m0\u001b[90m, \u001b[39m0\u001b[90m, \u001b[39m0\u001b[90m, \u001b[39m3\u001b[90m, \u001b[39m1\u001b[90m, \u001b[39m0\u001b[90m, \u001b[39m0\u001b[90m, \u001b[39m1\u001b[90m, \u001b[39m1\u001b[90m, \u001b[39m1\u001b[90m, \u001b[39m1\u001b[90m, \u001b[39m1\u001b[90m, \u001b[39m0\u001b[90m, \u001b[39m0\u001b[90m, \u001b[39m0\u001b[90m, \u001b[39m0…\n",
      "$ `3L_A`         \u001b[3m\u001b[90m<int>\u001b[39m\u001b[23m 1\u001b[90m, \u001b[39m0\u001b[90m, \u001b[39m4\u001b[90m, \u001b[39m0\u001b[90m, \u001b[39m0\u001b[90m, \u001b[39m0\u001b[90m, \u001b[39m7\u001b[90m, \u001b[39m3\u001b[90m, \u001b[39m2\u001b[90m, \u001b[39m0\u001b[90m, \u001b[39m4\u001b[90m, \u001b[39m3\u001b[90m, \u001b[39m2\u001b[90m, \u001b[39m3\u001b[90m, \u001b[39m2\u001b[90m, \u001b[39m4\u001b[90m, \u001b[39m0\u001b[90m, \u001b[39m2\u001b[90m, \u001b[39m0…\n",
      "$ `3H_M`         \u001b[3m\u001b[90m<int>\u001b[39m\u001b[23m 0\u001b[90m, \u001b[39m0\u001b[90m, \u001b[39m0\u001b[90m, \u001b[39m0\u001b[90m, \u001b[39m0\u001b[90m, \u001b[39m0\u001b[90m, \u001b[39m0\u001b[90m, \u001b[39m0\u001b[90m, \u001b[39m0\u001b[90m, \u001b[39m0\u001b[90m, \u001b[39m0\u001b[90m, \u001b[39m0\u001b[90m, \u001b[39m0\u001b[90m, \u001b[39m0\u001b[90m, \u001b[39m0\u001b[90m, \u001b[39m0\u001b[90m, \u001b[39m0\u001b[90m, \u001b[39m0\u001b[90m, \u001b[39m0…\n",
      "$ `3H_A`         \u001b[3m\u001b[90m<int>\u001b[39m\u001b[23m 0\u001b[90m, \u001b[39m0\u001b[90m, \u001b[39m0\u001b[90m, \u001b[39m0\u001b[90m, \u001b[39m0\u001b[90m, \u001b[39m0\u001b[90m, \u001b[39m0\u001b[90m, \u001b[39m0\u001b[90m, \u001b[39m0\u001b[90m, \u001b[39m0\u001b[90m, \u001b[39m0\u001b[90m, \u001b[39m0\u001b[90m, \u001b[39m0\u001b[90m, \u001b[39m0\u001b[90m, \u001b[39m0\u001b[90m, \u001b[39m0\u001b[90m, \u001b[39m0\u001b[90m, \u001b[39m0\u001b[90m, \u001b[39m0…\n"
     ]
    }
   ],
   "source": [
    "glimpse(players_playin)"
   ]
  },
  {
   "cell_type": "markdown",
   "metadata": {},
   "source": [
    "**Usunięcie nieużywanych zmiennych** "
   ]
  },
  {
   "cell_type": "code",
   "execution_count": 107,
   "metadata": {
    "vscode": {
     "languageId": "r"
    }
   },
   "outputs": [],
   "source": [
    "rm(players)\n",
    "rm(teams)"
   ]
  },
  {
   "cell_type": "markdown",
   "metadata": {},
   "source": [
    "**Sumowanie i uśrednianie danych**"
   ]
  },
  {
   "cell_type": "code",
   "execution_count": 108,
   "metadata": {
    "vscode": {
     "languageId": "r"
    }
   },
   "outputs": [],
   "source": [
    "# Sumowanie statystyk zespołów\n",
    "sum_teams <- function(teams) {\n",
    "  teams %>%\n",
    "    group_by(`TM NAME`, `TM TAG`) %>%\n",
    "    summarise(GP = n(),  # Dodanie liczby gier\n",
    "    across(where(is.numeric) & !c(ROUND), ~sum(.x, na.rm = TRUE))) %>%\n",
    "    select(where(is.character) | where(is.integer))\n",
    "}"
   ]
  },
  {
   "cell_type": "code",
   "execution_count": 109,
   "metadata": {
    "vscode": {
     "languageId": "r"
    }
   },
   "outputs": [
    {
     "name": "stderr",
     "output_type": "stream",
     "text": [
      "\u001b[1m\u001b[22m`summarise()` has grouped output by 'TM NAME'. You can override using the\n",
      "`.groups` argument.\n",
      "\u001b[1m\u001b[22m`summarise()` has grouped output by 'TM NAME'. You can override using the\n",
      "`.groups` argument.\n",
      "\u001b[1m\u001b[22m`summarise()` has grouped output by 'TM NAME'. You can override using the\n",
      "`.groups` argument.\n",
      "\u001b[1m\u001b[22m`summarise()` has grouped output by 'TM NAME'. You can override using the\n",
      "`.groups` argument.\n"
     ]
    }
   ],
   "source": [
    "teams_regular_sum <- sum_teams(teams_regular)\n",
    "teams_playin_sum <- sum_teams(teams_playin)\n",
    "teams_playoff_sum <- sum_teams(teams_playoff)\n",
    "teams_final4_sum <- sum_teams(teams_final4)"
   ]
  },
  {
   "cell_type": "code",
   "execution_count": 110,
   "metadata": {
    "vscode": {
     "languageId": "r"
    }
   },
   "outputs": [
    {
     "name": "stdout",
     "output_type": "stream",
     "text": [
      "Rows: 18\n",
      "Columns: 81\n",
      "Groups: TM NAME [18]\n",
      "$ `TM NAME`      \u001b[3m\u001b[90m<chr>\u001b[39m\u001b[23m \"ALBA\"\u001b[90m, \u001b[39m\"ASVEL\"\u001b[90m, \u001b[39m\"Barcelona\"\u001b[90m, \u001b[39m\"Baskonia\"\u001b[90m, \u001b[39m\"Bayern\"\u001b[90m, \u001b[39m\"Cr…\n",
      "$ `TM TAG`       \u001b[3m\u001b[90m<chr>\u001b[39m\u001b[23m \"BER\"\u001b[90m, \u001b[39m\"ASV\"\u001b[90m, \u001b[39m\"FCB\"\u001b[90m, \u001b[39m\"BAS\"\u001b[90m, \u001b[39m\"BAY\"\u001b[90m, \u001b[39m\"CZB\"\u001b[90m, \u001b[39m\"EFE\"\u001b[90m, \u001b[39m\"FEN\"\u001b[90m,\u001b[39m…\n",
      "$ GP             \u001b[3m\u001b[90m<int>\u001b[39m\u001b[23m 34\u001b[90m, \u001b[39m34\u001b[90m, \u001b[39m34\u001b[90m, \u001b[39m34\u001b[90m, \u001b[39m34\u001b[90m, \u001b[39m34\u001b[90m, \u001b[39m34\u001b[90m, \u001b[39m34\u001b[90m, \u001b[39m34\u001b[90m, \u001b[39m34\u001b[90m, \u001b[39m34\u001b[90m, \u001b[39m34\u001b[90m, \u001b[39m34\u001b[90m, \u001b[39m34\u001b[90m,\u001b[39m…\n",
      "$ MIN            \u001b[3m\u001b[90m<int>\u001b[39m\u001b[23m 1360\u001b[90m, \u001b[39m1370\u001b[90m, \u001b[39m1360\u001b[90m, \u001b[39m1365\u001b[90m, \u001b[39m1385\u001b[90m, \u001b[39m1360\u001b[90m, \u001b[39m1385\u001b[90m, \u001b[39m1380\u001b[90m, \u001b[39m1365\u001b[90m, \u001b[39m1…\n",
      "$ PTS            \u001b[3m\u001b[90m<int>\u001b[39m\u001b[23m 2591\u001b[90m, \u001b[39m2674\u001b[90m, \u001b[39m2812\u001b[90m, \u001b[39m2864\u001b[90m, \u001b[39m2674\u001b[90m, \u001b[39m2764\u001b[90m, \u001b[39m2928\u001b[90m, \u001b[39m2894\u001b[90m, \u001b[39m2983\u001b[90m, \u001b[39m2…\n",
      "$ `2PTM`         \u001b[3m\u001b[90m<int>\u001b[39m\u001b[23m 641\u001b[90m, \u001b[39m744\u001b[90m, \u001b[39m759\u001b[90m, \u001b[39m664\u001b[90m, \u001b[39m649\u001b[90m, \u001b[39m680\u001b[90m, \u001b[39m735\u001b[90m, \u001b[39m649\u001b[90m, \u001b[39m781\u001b[90m, \u001b[39m743\u001b[90m, \u001b[39m615\u001b[90m, \u001b[39m…\n",
      "$ `2PTA`         \u001b[3m\u001b[90m<int>\u001b[39m\u001b[23m 1261\u001b[90m, \u001b[39m1389\u001b[90m, \u001b[39m1352\u001b[90m, \u001b[39m1197\u001b[90m, \u001b[39m1215\u001b[90m, \u001b[39m1239\u001b[90m, \u001b[39m1309\u001b[90m, \u001b[39m1151\u001b[90m, \u001b[39m1464\u001b[90m, \u001b[39m1…\n",
      "$ `3PTM`         \u001b[3m\u001b[90m<int>\u001b[39m\u001b[23m 302\u001b[90m, \u001b[39m244\u001b[90m, \u001b[39m292\u001b[90m, \u001b[39m353\u001b[90m, \u001b[39m336\u001b[90m, \u001b[39m314\u001b[90m, \u001b[39m339\u001b[90m, \u001b[39m382\u001b[90m, \u001b[39m295\u001b[90m, \u001b[39m269\u001b[90m, \u001b[39m341\u001b[90m, \u001b[39m…\n",
      "$ `3PTA`         \u001b[3m\u001b[90m<int>\u001b[39m\u001b[23m 860\u001b[90m, \u001b[39m723\u001b[90m, \u001b[39m798\u001b[90m, \u001b[39m963\u001b[90m, \u001b[39m938\u001b[90m, \u001b[39m920\u001b[90m, \u001b[39m911\u001b[90m, \u001b[39m976\u001b[90m, \u001b[39m810\u001b[90m, \u001b[39m763\u001b[90m, \u001b[39m930\u001b[90m, \u001b[39m…\n",
      "$ FGM            \u001b[3m\u001b[90m<int>\u001b[39m\u001b[23m 943\u001b[90m, \u001b[39m988\u001b[90m, \u001b[39m1051\u001b[90m, \u001b[39m1017\u001b[90m, \u001b[39m985\u001b[90m, \u001b[39m994\u001b[90m, \u001b[39m1074\u001b[90m, \u001b[39m1031\u001b[90m, \u001b[39m1076\u001b[90m, \u001b[39m1012\u001b[90m,\u001b[39m…\n",
      "$ FGA            \u001b[3m\u001b[90m<int>\u001b[39m\u001b[23m 2121\u001b[90m, \u001b[39m2112\u001b[90m, \u001b[39m2150\u001b[90m, \u001b[39m2160\u001b[90m, \u001b[39m2153\u001b[90m, \u001b[39m2159\u001b[90m, \u001b[39m2220\u001b[90m, \u001b[39m2127\u001b[90m, \u001b[39m2274\u001b[90m, \u001b[39m2…\n",
      "$ FTM            \u001b[3m\u001b[90m<int>\u001b[39m\u001b[23m 403\u001b[90m, \u001b[39m454\u001b[90m, \u001b[39m418\u001b[90m, \u001b[39m477\u001b[90m, \u001b[39m368\u001b[90m, \u001b[39m462\u001b[90m, \u001b[39m441\u001b[90m, \u001b[39m450\u001b[90m, \u001b[39m536\u001b[90m, \u001b[39m492\u001b[90m, \u001b[39m406\u001b[90m, \u001b[39m…\n",
      "$ FTA            \u001b[3m\u001b[90m<int>\u001b[39m\u001b[23m 509\u001b[90m, \u001b[39m587\u001b[90m, \u001b[39m571\u001b[90m, \u001b[39m626\u001b[90m, \u001b[39m461\u001b[90m, \u001b[39m600\u001b[90m, \u001b[39m542\u001b[90m, \u001b[39m560\u001b[90m, \u001b[39m687\u001b[90m, \u001b[39m664\u001b[90m, \u001b[39m523\u001b[90m, \u001b[39m…\n",
      "$ OR             \u001b[3m\u001b[90m<int>\u001b[39m\u001b[23m 368\u001b[90m, \u001b[39m350\u001b[90m, \u001b[39m384\u001b[90m, \u001b[39m351\u001b[90m, \u001b[39m364\u001b[90m, \u001b[39m403\u001b[90m, \u001b[39m345\u001b[90m, \u001b[39m344\u001b[90m, \u001b[39m443\u001b[90m, \u001b[39m383\u001b[90m, \u001b[39m302\u001b[90m, \u001b[39m…\n",
      "$ DR             \u001b[3m\u001b[90m<int>\u001b[39m\u001b[23m 735\u001b[90m, \u001b[39m805\u001b[90m, \u001b[39m840\u001b[90m, \u001b[39m847\u001b[90m, \u001b[39m840\u001b[90m, \u001b[39m777\u001b[90m, \u001b[39m754\u001b[90m, \u001b[39m790\u001b[90m, \u001b[39m782\u001b[90m, \u001b[39m782\u001b[90m, \u001b[39m791\u001b[90m, \u001b[39m…\n",
      "$ TR             \u001b[3m\u001b[90m<int>\u001b[39m\u001b[23m 1103\u001b[90m, \u001b[39m1155\u001b[90m, \u001b[39m1224\u001b[90m, \u001b[39m1198\u001b[90m, \u001b[39m1204\u001b[90m, \u001b[39m1180\u001b[90m, \u001b[39m1099\u001b[90m, \u001b[39m1134\u001b[90m, \u001b[39m1225\u001b[90m, \u001b[39m1…\n",
      "$ AST            \u001b[3m\u001b[90m<int>\u001b[39m\u001b[23m 560\u001b[90m, \u001b[39m605\u001b[90m, \u001b[39m659\u001b[90m, \u001b[39m640\u001b[90m, \u001b[39m547\u001b[90m, \u001b[39m629\u001b[90m, \u001b[39m610\u001b[90m, \u001b[39m616\u001b[90m, \u001b[39m666\u001b[90m, \u001b[39m547\u001b[90m, \u001b[39m554\u001b[90m, \u001b[39m…\n",
      "$ TO             \u001b[3m\u001b[90m<int>\u001b[39m\u001b[23m 513\u001b[90m, \u001b[39m440\u001b[90m, \u001b[39m433\u001b[90m, \u001b[39m423\u001b[90m, \u001b[39m443\u001b[90m, \u001b[39m411\u001b[90m, \u001b[39m351\u001b[90m, \u001b[39m408\u001b[90m, \u001b[39m418\u001b[90m, \u001b[39m340\u001b[90m, \u001b[39m423\u001b[90m, \u001b[39m…\n",
      "$ ST             \u001b[3m\u001b[90m<int>\u001b[39m\u001b[23m 238\u001b[90m, \u001b[39m205\u001b[90m, \u001b[39m210\u001b[90m, \u001b[39m185\u001b[90m, \u001b[39m206\u001b[90m, \u001b[39m224\u001b[90m, \u001b[39m237\u001b[90m, \u001b[39m196\u001b[90m, \u001b[39m249\u001b[90m, \u001b[39m236\u001b[90m, \u001b[39m238\u001b[90m, \u001b[39m…\n",
      "$ BLK            \u001b[3m\u001b[90m<int>\u001b[39m\u001b[23m 73\u001b[90m, \u001b[39m55\u001b[90m, \u001b[39m83\u001b[90m, \u001b[39m79\u001b[90m, \u001b[39m89\u001b[90m, \u001b[39m84\u001b[90m, \u001b[39m105\u001b[90m, \u001b[39m82\u001b[90m, \u001b[39m106\u001b[90m, \u001b[39m61\u001b[90m, \u001b[39m72\u001b[90m, \u001b[39m96\u001b[90m, \u001b[39m92\u001b[90m, \u001b[39m7…\n",
      "$ BLKA           \u001b[3m\u001b[90m<int>\u001b[39m\u001b[23m 119\u001b[90m, \u001b[39m112\u001b[90m, \u001b[39m66\u001b[90m, \u001b[39m110\u001b[90m, \u001b[39m84\u001b[90m, \u001b[39m93\u001b[90m, \u001b[39m68\u001b[90m, \u001b[39m57\u001b[90m, \u001b[39m75\u001b[90m, \u001b[39m80\u001b[90m, \u001b[39m59\u001b[90m, \u001b[39m83\u001b[90m, \u001b[39m85\u001b[90m, \u001b[39m…\n",
      "$ PF             \u001b[3m\u001b[90m<int>\u001b[39m\u001b[23m 623\u001b[90m, \u001b[39m626\u001b[90m, \u001b[39m666\u001b[90m, \u001b[39m621\u001b[90m, \u001b[39m702\u001b[90m, \u001b[39m733\u001b[90m, \u001b[39m629\u001b[90m, \u001b[39m734\u001b[90m, \u001b[39m684\u001b[90m, \u001b[39m662\u001b[90m, \u001b[39m665\u001b[90m, \u001b[39m…\n",
      "$ DF             \u001b[3m\u001b[90m<int>\u001b[39m\u001b[23m 618\u001b[90m, \u001b[39m658\u001b[90m, \u001b[39m642\u001b[90m, \u001b[39m651\u001b[90m, \u001b[39m639\u001b[90m, \u001b[39m676\u001b[90m, \u001b[39m628\u001b[90m, \u001b[39m674\u001b[90m, \u001b[39m671\u001b[90m, \u001b[39m737\u001b[90m, \u001b[39m645\u001b[90m, \u001b[39m…\n",
      "$ VAL            \u001b[3m\u001b[90m<int>\u001b[39m\u001b[23m 2644\u001b[90m, \u001b[39m2917\u001b[90m, \u001b[39m3213\u001b[90m, \u001b[39m3171\u001b[90m, \u001b[39m2869\u001b[90m, \u001b[39m3017\u001b[90m, \u001b[39m3312\u001b[90m, \u001b[39m3191\u001b[90m, \u001b[39m3374\u001b[90m, \u001b[39m3…\n",
      "$ `+ / -`        \u001b[3m\u001b[90m<int>\u001b[39m\u001b[23m -353\u001b[90m, \u001b[39m-214\u001b[90m, \u001b[39m120\u001b[90m, \u001b[39m-21\u001b[90m, \u001b[39m-116\u001b[90m, \u001b[39m-52\u001b[90m, \u001b[39m16\u001b[90m, \u001b[39m143\u001b[90m, \u001b[39m35\u001b[90m, \u001b[39m97\u001b[90m, \u001b[39m4\u001b[90m, \u001b[39m13…\n",
      "$ POSS           \u001b[3m\u001b[90m<int>\u001b[39m\u001b[23m 2479\u001b[90m, \u001b[39m2445\u001b[90m, \u001b[39m2443\u001b[90m, \u001b[39m2485\u001b[90m, \u001b[39m2424\u001b[90m, \u001b[39m2425\u001b[90m, \u001b[39m2447\u001b[90m, \u001b[39m2430\u001b[90m, \u001b[39m2539\u001b[90m, \u001b[39m2…\n",
      "$ KILLS          \u001b[3m\u001b[90m<int>\u001b[39m\u001b[23m 139\u001b[90m, \u001b[39m157\u001b[90m, \u001b[39m161\u001b[90m, \u001b[39m165\u001b[90m, \u001b[39m162\u001b[90m, \u001b[39m134\u001b[90m, \u001b[39m144\u001b[90m, \u001b[39m142\u001b[90m, \u001b[39m147\u001b[90m, \u001b[39m179\u001b[90m, \u001b[39m160\u001b[90m, \u001b[39m…\n",
      "$ ASTED_2FG      \u001b[3m\u001b[90m<int>\u001b[39m\u001b[23m 283\u001b[90m, \u001b[39m364\u001b[90m, \u001b[39m364\u001b[90m, \u001b[39m310\u001b[90m, \u001b[39m258\u001b[90m, \u001b[39m353\u001b[90m, \u001b[39m312\u001b[90m, \u001b[39m304\u001b[90m, \u001b[39m370\u001b[90m, \u001b[39m334\u001b[90m, \u001b[39m260\u001b[90m, \u001b[39m…\n",
      "$ ASTED_3FG      \u001b[3m\u001b[90m<int>\u001b[39m\u001b[23m 230\u001b[90m, \u001b[39m188\u001b[90m, \u001b[39m224\u001b[90m, \u001b[39m265\u001b[90m, \u001b[39m245\u001b[90m, \u001b[39m211\u001b[90m, \u001b[39m258\u001b[90m, \u001b[39m274\u001b[90m, \u001b[39m217\u001b[90m, \u001b[39m172\u001b[90m, \u001b[39m250\u001b[90m, \u001b[39m…\n",
      "$ ASTED_FT       \u001b[3m\u001b[90m<int>\u001b[39m\u001b[23m 47\u001b[90m, \u001b[39m52\u001b[90m, \u001b[39m68\u001b[90m, \u001b[39m65\u001b[90m, \u001b[39m43\u001b[90m, \u001b[39m64\u001b[90m, \u001b[39m40\u001b[90m, \u001b[39m39\u001b[90m, \u001b[39m78\u001b[90m, \u001b[39m40\u001b[90m, \u001b[39m44\u001b[90m, \u001b[39m61\u001b[90m, \u001b[39m70\u001b[90m, \u001b[39m51\u001b[90m,\u001b[39m…\n",
      "$ `ASTED_FT PTS` \u001b[3m\u001b[90m<int>\u001b[39m\u001b[23m 84\u001b[90m, \u001b[39m83\u001b[90m, \u001b[39m111\u001b[90m, \u001b[39m120\u001b[90m, \u001b[39m80\u001b[90m, \u001b[39m98\u001b[90m, \u001b[39m74\u001b[90m, \u001b[39m62\u001b[90m, \u001b[39m125\u001b[90m, \u001b[39m64\u001b[90m, \u001b[39m74\u001b[90m, \u001b[39m103\u001b[90m, \u001b[39m120…\n",
      "$ LTO            \u001b[3m\u001b[90m<int>\u001b[39m\u001b[23m 285\u001b[90m, \u001b[39m242\u001b[90m, \u001b[39m227\u001b[90m, \u001b[39m230\u001b[90m, \u001b[39m226\u001b[90m, \u001b[39m220\u001b[90m, \u001b[39m185\u001b[90m, \u001b[39m202\u001b[90m, \u001b[39m225\u001b[90m, \u001b[39m178\u001b[90m, \u001b[39m214\u001b[90m, \u001b[39m…\n",
      "$ DTO            \u001b[3m\u001b[90m<int>\u001b[39m\u001b[23m 228\u001b[90m, \u001b[39m198\u001b[90m, \u001b[39m206\u001b[90m, \u001b[39m193\u001b[90m, \u001b[39m217\u001b[90m, \u001b[39m191\u001b[90m, \u001b[39m166\u001b[90m, \u001b[39m206\u001b[90m, \u001b[39m193\u001b[90m, \u001b[39m162\u001b[90m, \u001b[39m209\u001b[90m, \u001b[39m…\n",
      "$ BLK2           \u001b[3m\u001b[90m<int>\u001b[39m\u001b[23m 60\u001b[90m, \u001b[39m46\u001b[90m, \u001b[39m69\u001b[90m, \u001b[39m66\u001b[90m, \u001b[39m84\u001b[90m, \u001b[39m35\u001b[90m, \u001b[39m64\u001b[90m, \u001b[39m49\u001b[90m, \u001b[39m62\u001b[90m, \u001b[39m52\u001b[90m, \u001b[39m62\u001b[90m, \u001b[39m80\u001b[90m, \u001b[39m80\u001b[90m, \u001b[39m64\u001b[90m,\u001b[39m…\n",
      "$ BLK3           \u001b[3m\u001b[90m<int>\u001b[39m\u001b[23m 3\u001b[90m, \u001b[39m3\u001b[90m, \u001b[39m7\u001b[90m, \u001b[39m7\u001b[90m, \u001b[39m2\u001b[90m, \u001b[39m3\u001b[90m, \u001b[39m6\u001b[90m, \u001b[39m3\u001b[90m, \u001b[39m4\u001b[90m, \u001b[39m4\u001b[90m, \u001b[39m3\u001b[90m, \u001b[39m11\u001b[90m, \u001b[39m4\u001b[90m, \u001b[39m7\u001b[90m, \u001b[39m9\u001b[90m, \u001b[39m7\u001b[90m, \u001b[39m5\u001b[90m, \u001b[39m4\n",
      "$ OR_RIM         \u001b[3m\u001b[90m<int>\u001b[39m\u001b[23m 30\u001b[90m, \u001b[39m34\u001b[90m, \u001b[39m28\u001b[90m, \u001b[39m20\u001b[90m, \u001b[39m23\u001b[90m, \u001b[39m23\u001b[90m, \u001b[39m30\u001b[90m, \u001b[39m23\u001b[90m, \u001b[39m22\u001b[90m, \u001b[39m24\u001b[90m, \u001b[39m22\u001b[90m, \u001b[39m32\u001b[90m, \u001b[39m27\u001b[90m, \u001b[39m22\u001b[90m,\u001b[39m…\n",
      "$ `TM OR_RIM`    \u001b[3m\u001b[90m<int>\u001b[39m\u001b[23m 9\u001b[90m, \u001b[39m15\u001b[90m, \u001b[39m5\u001b[90m, \u001b[39m4\u001b[90m, \u001b[39m5\u001b[90m, \u001b[39m6\u001b[90m, \u001b[39m8\u001b[90m, \u001b[39m7\u001b[90m, \u001b[39m2\u001b[90m, \u001b[39m6\u001b[90m, \u001b[39m3\u001b[90m, \u001b[39m10\u001b[90m, \u001b[39m6\u001b[90m, \u001b[39m3\u001b[90m, \u001b[39m4\u001b[90m, \u001b[39m12\u001b[90m, \u001b[39m2\u001b[90m, \u001b[39m5\n",
      "$ OR_PAINT       \u001b[3m\u001b[90m<int>\u001b[39m\u001b[23m 107\u001b[90m, \u001b[39m107\u001b[90m, \u001b[39m112\u001b[90m, \u001b[39m91\u001b[90m, \u001b[39m88\u001b[90m, \u001b[39m122\u001b[90m, \u001b[39m106\u001b[90m, \u001b[39m79\u001b[90m, \u001b[39m139\u001b[90m, \u001b[39m112\u001b[90m, \u001b[39m72\u001b[90m, \u001b[39m83\u001b[90m, \u001b[39m…\n",
      "$ `TM OR_PAINT`  \u001b[3m\u001b[90m<int>\u001b[39m\u001b[23m 15\u001b[90m, \u001b[39m18\u001b[90m, \u001b[39m20\u001b[90m, \u001b[39m27\u001b[90m, \u001b[39m16\u001b[90m, \u001b[39m25\u001b[90m, \u001b[39m18\u001b[90m, \u001b[39m11\u001b[90m, \u001b[39m27\u001b[90m, \u001b[39m16\u001b[90m, \u001b[39m10\u001b[90m, \u001b[39m17\u001b[90m, \u001b[39m20\u001b[90m, \u001b[39m11\u001b[90m,\u001b[39m…\n",
      "$ OR_NP2         \u001b[3m\u001b[90m<int>\u001b[39m\u001b[23m 36\u001b[90m, \u001b[39m30\u001b[90m, \u001b[39m38\u001b[90m, \u001b[39m24\u001b[90m, \u001b[39m45\u001b[90m, \u001b[39m30\u001b[90m, \u001b[39m33\u001b[90m, \u001b[39m19\u001b[90m, \u001b[39m38\u001b[90m, \u001b[39m54\u001b[90m, \u001b[39m25\u001b[90m, \u001b[39m26\u001b[90m, \u001b[39m30\u001b[90m, \u001b[39m32\u001b[90m,\u001b[39m…\n",
      "$ `TM OR_NP2`    \u001b[3m\u001b[90m<int>\u001b[39m\u001b[23m 7\u001b[90m, \u001b[39m5\u001b[90m, \u001b[39m1\u001b[90m, \u001b[39m5\u001b[90m, \u001b[39m6\u001b[90m, \u001b[39m3\u001b[90m, \u001b[39m2\u001b[90m, \u001b[39m3\u001b[90m, \u001b[39m12\u001b[90m, \u001b[39m9\u001b[90m, \u001b[39m8\u001b[90m, \u001b[39m6\u001b[90m, \u001b[39m6\u001b[90m, \u001b[39m4\u001b[90m, \u001b[39m1\u001b[90m, \u001b[39m4\u001b[90m, \u001b[39m7\u001b[90m, \u001b[39m5\n",
      "$ OR_3C          \u001b[3m\u001b[90m<int>\u001b[39m\u001b[23m 12\u001b[90m, \u001b[39m12\u001b[90m, \u001b[39m9\u001b[90m, \u001b[39m9\u001b[90m, \u001b[39m23\u001b[90m, \u001b[39m18\u001b[90m, \u001b[39m15\u001b[90m, \u001b[39m14\u001b[90m, \u001b[39m17\u001b[90m, \u001b[39m8\u001b[90m, \u001b[39m12\u001b[90m, \u001b[39m23\u001b[90m, \u001b[39m15\u001b[90m, \u001b[39m16\u001b[90m, \u001b[39m11…\n",
      "$ `TM OR_3C`     \u001b[3m\u001b[90m<int>\u001b[39m\u001b[23m 1\u001b[90m, \u001b[39m7\u001b[90m, \u001b[39m6\u001b[90m, \u001b[39m1\u001b[90m, \u001b[39m3\u001b[90m, \u001b[39m3\u001b[90m, \u001b[39m1\u001b[90m, \u001b[39m2\u001b[90m, \u001b[39m2\u001b[90m, \u001b[39m3\u001b[90m, \u001b[39m3\u001b[90m, \u001b[39m2\u001b[90m, \u001b[39m3\u001b[90m, \u001b[39m3\u001b[90m, \u001b[39m1\u001b[90m, \u001b[39m1\u001b[90m, \u001b[39m2\u001b[90m, \u001b[39m1\n",
      "$ OR_3L          \u001b[3m\u001b[90m<int>\u001b[39m\u001b[23m 118\u001b[90m, \u001b[39m95\u001b[90m, \u001b[39m129\u001b[90m, \u001b[39m134\u001b[90m, \u001b[39m133\u001b[90m, \u001b[39m141\u001b[90m, \u001b[39m100\u001b[90m, \u001b[39m146\u001b[90m, \u001b[39m144\u001b[90m, \u001b[39m117\u001b[90m, \u001b[39m106\u001b[90m, \u001b[39m9…\n",
      "$ `TM OR_3L`     \u001b[3m\u001b[90m<int>\u001b[39m\u001b[23m 21\u001b[90m, \u001b[39m17\u001b[90m, \u001b[39m22\u001b[90m, \u001b[39m22\u001b[90m, \u001b[39m16\u001b[90m, \u001b[39m19\u001b[90m, \u001b[39m14\u001b[90m, \u001b[39m23\u001b[90m, \u001b[39m24\u001b[90m, \u001b[39m17\u001b[90m, \u001b[39m22\u001b[90m, \u001b[39m14\u001b[90m, \u001b[39m26\u001b[90m, \u001b[39m18\u001b[90m,\u001b[39m…\n",
      "$ OR_FT          \u001b[3m\u001b[90m<int>\u001b[39m\u001b[23m 7\u001b[90m, \u001b[39m5\u001b[90m, \u001b[39m10\u001b[90m, \u001b[39m9\u001b[90m, \u001b[39m6\u001b[90m, \u001b[39m10\u001b[90m, \u001b[39m6\u001b[90m, \u001b[39m5\u001b[90m, \u001b[39m14\u001b[90m, \u001b[39m8\u001b[90m, \u001b[39m14\u001b[90m, \u001b[39m5\u001b[90m, \u001b[39m12\u001b[90m, \u001b[39m3\u001b[90m, \u001b[39m10\u001b[90m, \u001b[39m8\u001b[90m, \u001b[39m7…\n",
      "$ `TM OR_FT`     \u001b[3m\u001b[90m<int>\u001b[39m\u001b[23m 1\u001b[90m, \u001b[39m1\u001b[90m, \u001b[39m1\u001b[90m, \u001b[39m1\u001b[90m, \u001b[39m0\u001b[90m, \u001b[39m3\u001b[90m, \u001b[39m1\u001b[90m, \u001b[39m2\u001b[90m, \u001b[39m1\u001b[90m, \u001b[39m6\u001b[90m, \u001b[39m2\u001b[90m, \u001b[39m2\u001b[90m, \u001b[39m1\u001b[90m, \u001b[39m3\u001b[90m, \u001b[39m2\u001b[90m, \u001b[39m3\u001b[90m, \u001b[39m3\u001b[90m, \u001b[39m2\n",
      "$ DR_RIM         \u001b[3m\u001b[90m<int>\u001b[39m\u001b[23m 45\u001b[90m, \u001b[39m49\u001b[90m, \u001b[39m41\u001b[90m, \u001b[39m34\u001b[90m, \u001b[39m32\u001b[90m, \u001b[39m37\u001b[90m, \u001b[39m38\u001b[90m, \u001b[39m45\u001b[90m, \u001b[39m40\u001b[90m, \u001b[39m37\u001b[90m, \u001b[39m62\u001b[90m, \u001b[39m60\u001b[90m, \u001b[39m74\u001b[90m, \u001b[39m38\u001b[90m,\u001b[39m…\n",
      "$ `TM DR_RIM`    \u001b[3m\u001b[90m<int>\u001b[39m\u001b[23m 4\u001b[90m, \u001b[39m1\u001b[90m, \u001b[39m4\u001b[90m, \u001b[39m2\u001b[90m, \u001b[39m5\u001b[90m, \u001b[39m6\u001b[90m, \u001b[39m3\u001b[90m, \u001b[39m4\u001b[90m, \u001b[39m4\u001b[90m, \u001b[39m0\u001b[90m, \u001b[39m8\u001b[90m, \u001b[39m3\u001b[90m, \u001b[39m9\u001b[90m, \u001b[39m4\u001b[90m, \u001b[39m1\u001b[90m, \u001b[39m5\u001b[90m, \u001b[39m4\u001b[90m, \u001b[39m3\n",
      "$ DR_PAINT       \u001b[3m\u001b[90m<int>\u001b[39m\u001b[23m 187\u001b[90m, \u001b[39m198\u001b[90m, \u001b[39m237\u001b[90m, \u001b[39m263\u001b[90m, \u001b[39m232\u001b[90m, \u001b[39m195\u001b[90m, \u001b[39m223\u001b[90m, \u001b[39m230\u001b[90m, \u001b[39m177\u001b[90m, \u001b[39m191\u001b[90m, \u001b[39m188\u001b[90m, \u001b[39m…\n",
      "$ `TM DR_PAINT`  \u001b[3m\u001b[90m<int>\u001b[39m\u001b[23m 10\u001b[90m, \u001b[39m16\u001b[90m, \u001b[39m13\u001b[90m, \u001b[39m16\u001b[90m, \u001b[39m11\u001b[90m, \u001b[39m14\u001b[90m, \u001b[39m8\u001b[90m, \u001b[39m14\u001b[90m, \u001b[39m10\u001b[90m, \u001b[39m13\u001b[90m, \u001b[39m12\u001b[90m, \u001b[39m15\u001b[90m, \u001b[39m14\u001b[90m, \u001b[39m12\u001b[90m, \u001b[39m…\n",
      "$ DR_NP2         \u001b[3m\u001b[90m<int>\u001b[39m\u001b[23m 88\u001b[90m, \u001b[39m104\u001b[90m, \u001b[39m105\u001b[90m, \u001b[39m106\u001b[90m, \u001b[39m118\u001b[90m, \u001b[39m98\u001b[90m, \u001b[39m87\u001b[90m, \u001b[39m109\u001b[90m, \u001b[39m92\u001b[90m, \u001b[39m103\u001b[90m, \u001b[39m118\u001b[90m, \u001b[39m110\u001b[90m,\u001b[39m…\n",
      "$ `TM DR_NP2`    \u001b[3m\u001b[90m<int>\u001b[39m\u001b[23m 6\u001b[90m, \u001b[39m2\u001b[90m, \u001b[39m6\u001b[90m, \u001b[39m5\u001b[90m, \u001b[39m3\u001b[90m, \u001b[39m9\u001b[90m, \u001b[39m3\u001b[90m, \u001b[39m12\u001b[90m, \u001b[39m4\u001b[90m, \u001b[39m6\u001b[90m, \u001b[39m6\u001b[90m, \u001b[39m10\u001b[90m, \u001b[39m5\u001b[90m, \u001b[39m3\u001b[90m, \u001b[39m11\u001b[90m, \u001b[39m7\u001b[90m, \u001b[39m4\u001b[90m, \u001b[39m6\n",
      "$ DR_3C          \u001b[3m\u001b[90m<int>\u001b[39m\u001b[23m 56\u001b[90m, \u001b[39m45\u001b[90m, \u001b[39m36\u001b[90m, \u001b[39m20\u001b[90m, \u001b[39m43\u001b[90m, \u001b[39m45\u001b[90m, \u001b[39m43\u001b[90m, \u001b[39m31\u001b[90m, \u001b[39m36\u001b[90m, \u001b[39m26\u001b[90m, \u001b[39m28\u001b[90m, \u001b[39m46\u001b[90m, \u001b[39m43\u001b[90m, \u001b[39m47\u001b[90m,\u001b[39m…\n",
      "$ `TM DR_3C`     \u001b[3m\u001b[90m<int>\u001b[39m\u001b[23m 4\u001b[90m, \u001b[39m2\u001b[90m, \u001b[39m1\u001b[90m, \u001b[39m1\u001b[90m, \u001b[39m4\u001b[90m, \u001b[39m2\u001b[90m, \u001b[39m2\u001b[90m, \u001b[39m5\u001b[90m, \u001b[39m6\u001b[90m, \u001b[39m2\u001b[90m, \u001b[39m3\u001b[90m, \u001b[39m3\u001b[90m, \u001b[39m1\u001b[90m, \u001b[39m3\u001b[90m, \u001b[39m2\u001b[90m, \u001b[39m3\u001b[90m, \u001b[39m0\u001b[90m, \u001b[39m6\n",
      "$ DR_3L          \u001b[3m\u001b[90m<int>\u001b[39m\u001b[23m 265\u001b[90m, \u001b[39m306\u001b[90m, \u001b[39m307\u001b[90m, \u001b[39m328\u001b[90m, \u001b[39m322\u001b[90m, \u001b[39m289\u001b[90m, \u001b[39m278\u001b[90m, \u001b[39m250\u001b[90m, \u001b[39m329\u001b[90m, \u001b[39m331\u001b[90m, \u001b[39m287\u001b[90m, \u001b[39m…\n",
      "$ `TM DR_3L`     \u001b[3m\u001b[90m<int>\u001b[39m\u001b[23m 12\u001b[90m, \u001b[39m30\u001b[90m, \u001b[39m26\u001b[90m, \u001b[39m27\u001b[90m, \u001b[39m22\u001b[90m, \u001b[39m28\u001b[90m, \u001b[39m22\u001b[90m, \u001b[39m25\u001b[90m, \u001b[39m24\u001b[90m, \u001b[39m17\u001b[90m, \u001b[39m23\u001b[90m, \u001b[39m34\u001b[90m, \u001b[39m37\u001b[90m, \u001b[39m48\u001b[90m,\u001b[39m…\n",
      "$ DR_FT          \u001b[3m\u001b[90m<int>\u001b[39m\u001b[23m 43\u001b[90m, \u001b[39m46\u001b[90m, \u001b[39m49\u001b[90m, \u001b[39m39\u001b[90m, \u001b[39m41\u001b[90m, \u001b[39m49\u001b[90m, \u001b[39m38\u001b[90m, \u001b[39m50\u001b[90m, \u001b[39m49\u001b[90m, \u001b[39m46\u001b[90m, \u001b[39m53\u001b[90m, \u001b[39m28\u001b[90m, \u001b[39m43\u001b[90m, \u001b[39m51\u001b[90m,\u001b[39m…\n",
      "$ `TM DR_FT`     \u001b[3m\u001b[90m<int>\u001b[39m\u001b[23m 5\u001b[90m, \u001b[39m4\u001b[90m, \u001b[39m5\u001b[90m, \u001b[39m2\u001b[90m, \u001b[39m4\u001b[90m, \u001b[39m2\u001b[90m, \u001b[39m3\u001b[90m, \u001b[39m5\u001b[90m, \u001b[39m4\u001b[90m, \u001b[39m4\u001b[90m, \u001b[39m2\u001b[90m, \u001b[39m3\u001b[90m, \u001b[39m5\u001b[90m, \u001b[39m3\u001b[90m, \u001b[39m4\u001b[90m, \u001b[39m4\u001b[90m, \u001b[39m7\u001b[90m, \u001b[39m4\n",
      "$ FTM_T          \u001b[3m\u001b[90m<int>\u001b[39m\u001b[23m 7\u001b[90m, \u001b[39m7\u001b[90m, \u001b[39m9\u001b[90m, \u001b[39m12\u001b[90m, \u001b[39m1\u001b[90m, \u001b[39m7\u001b[90m, \u001b[39m15\u001b[90m, \u001b[39m2\u001b[90m, \u001b[39m11\u001b[90m, \u001b[39m13\u001b[90m, \u001b[39m16\u001b[90m, \u001b[39m19\u001b[90m, \u001b[39m19\u001b[90m, \u001b[39m14\u001b[90m, \u001b[39m12\u001b[90m, \u001b[39m8…\n",
      "$ FTA_T          \u001b[3m\u001b[90m<int>\u001b[39m\u001b[23m 8\u001b[90m, \u001b[39m7\u001b[90m, \u001b[39m11\u001b[90m, \u001b[39m14\u001b[90m, \u001b[39m1\u001b[90m, \u001b[39m7\u001b[90m, \u001b[39m18\u001b[90m, \u001b[39m6\u001b[90m, \u001b[39m13\u001b[90m, \u001b[39m15\u001b[90m, \u001b[39m22\u001b[90m, \u001b[39m25\u001b[90m, \u001b[39m20\u001b[90m, \u001b[39m18\u001b[90m, \u001b[39m18\u001b[90m, \u001b[39m…\n",
      "$ FTM_1          \u001b[3m\u001b[90m<int>\u001b[39m\u001b[23m 42\u001b[90m, \u001b[39m48\u001b[90m, \u001b[39m43\u001b[90m, \u001b[39m49\u001b[90m, \u001b[39m42\u001b[90m, \u001b[39m43\u001b[90m, \u001b[39m52\u001b[90m, \u001b[39m42\u001b[90m, \u001b[39m54\u001b[90m, \u001b[39m44\u001b[90m, \u001b[39m40\u001b[90m, \u001b[39m43\u001b[90m, \u001b[39m54\u001b[90m, \u001b[39m53\u001b[90m,\u001b[39m…\n",
      "$ FTA_1          \u001b[3m\u001b[90m<int>\u001b[39m\u001b[23m 52\u001b[90m, \u001b[39m62\u001b[90m, \u001b[39m61\u001b[90m, \u001b[39m66\u001b[90m, \u001b[39m58\u001b[90m, \u001b[39m55\u001b[90m, \u001b[39m67\u001b[90m, \u001b[39m59\u001b[90m, \u001b[39m73\u001b[90m, \u001b[39m59\u001b[90m, \u001b[39m50\u001b[90m, \u001b[39m63\u001b[90m, \u001b[39m70\u001b[90m, \u001b[39m66\u001b[90m,\u001b[39m…\n",
      "$ FTM_2          \u001b[3m\u001b[90m<int>\u001b[39m\u001b[23m 330\u001b[90m, \u001b[39m344\u001b[90m, \u001b[39m358\u001b[90m, \u001b[39m345\u001b[90m, \u001b[39m301\u001b[90m, \u001b[39m392\u001b[90m, \u001b[39m356\u001b[90m, \u001b[39m377\u001b[90m, \u001b[39m437\u001b[90m, \u001b[39m391\u001b[90m, \u001b[39m334\u001b[90m, \u001b[39m…\n",
      "$ FTA_2          \u001b[3m\u001b[90m<int>\u001b[39m\u001b[23m 418\u001b[90m, \u001b[39m453\u001b[90m, \u001b[39m484\u001b[90m, \u001b[39m455\u001b[90m, \u001b[39m375\u001b[90m, \u001b[39m514\u001b[90m, \u001b[39m436\u001b[90m, \u001b[39m464\u001b[90m, \u001b[39m558\u001b[90m, \u001b[39m536\u001b[90m, \u001b[39m432\u001b[90m, \u001b[39m…\n",
      "$ `FT 0/2`       \u001b[3m\u001b[90m<int>\u001b[39m\u001b[23m 13\u001b[90m, \u001b[39m19\u001b[90m, \u001b[39m22\u001b[90m, \u001b[39m10\u001b[90m, \u001b[39m9\u001b[90m, \u001b[39m18\u001b[90m, \u001b[39m11\u001b[90m, \u001b[39m9\u001b[90m, \u001b[39m19\u001b[90m, \u001b[39m24\u001b[90m, \u001b[39m14\u001b[90m, \u001b[39m22\u001b[90m, \u001b[39m22\u001b[90m, \u001b[39m8\u001b[90m, \u001b[39m13…\n",
      "$ FTM_3          \u001b[3m\u001b[90m<int>\u001b[39m\u001b[23m 24\u001b[90m, \u001b[39m53\u001b[90m, \u001b[39m6\u001b[90m, \u001b[39m67\u001b[90m, \u001b[39m24\u001b[90m, \u001b[39m17\u001b[90m, \u001b[39m14\u001b[90m, \u001b[39m28\u001b[90m, \u001b[39m30\u001b[90m, \u001b[39m41\u001b[90m, \u001b[39m15\u001b[90m, \u001b[39m15\u001b[90m, \u001b[39m8\u001b[90m, \u001b[39m31\u001b[90m, \u001b[39m1…\n",
      "$ FTA_3          \u001b[3m\u001b[90m<int>\u001b[39m\u001b[23m 30\u001b[90m, \u001b[39m60\u001b[90m, \u001b[39m12\u001b[90m, \u001b[39m84\u001b[90m, \u001b[39m27\u001b[90m, \u001b[39m21\u001b[90m, \u001b[39m16\u001b[90m, \u001b[39m30\u001b[90m, \u001b[39m36\u001b[90m, \u001b[39m51\u001b[90m, \u001b[39m18\u001b[90m, \u001b[39m16\u001b[90m, \u001b[39m9\u001b[90m, \u001b[39m33\u001b[90m, \u001b[39m…\n",
      "$ `FT 0/3`       \u001b[3m\u001b[90m<int>\u001b[39m\u001b[23m 0\u001b[90m, \u001b[39m0\u001b[90m, \u001b[39m0\u001b[90m, \u001b[39m0\u001b[90m, \u001b[39m0\u001b[90m, \u001b[39m0\u001b[90m, \u001b[39m0\u001b[90m, \u001b[39m0\u001b[90m, \u001b[39m0\u001b[90m, \u001b[39m1\u001b[90m, \u001b[39m0\u001b[90m, \u001b[39m0\u001b[90m, \u001b[39m0\u001b[90m, \u001b[39m0\u001b[90m, \u001b[39m0\u001b[90m, \u001b[39m0\u001b[90m, \u001b[39m0\u001b[90m, \u001b[39m0\n",
      "$ RIM_M          \u001b[3m\u001b[90m<int>\u001b[39m\u001b[23m 290\u001b[90m, \u001b[39m320\u001b[90m, \u001b[39m250\u001b[90m, \u001b[39m266\u001b[90m, \u001b[39m222\u001b[90m, \u001b[39m257\u001b[90m, \u001b[39m320\u001b[90m, \u001b[39m280\u001b[90m, \u001b[39m286\u001b[90m, \u001b[39m219\u001b[90m, \u001b[39m296\u001b[90m, \u001b[39m…\n",
      "$ RIM_A          \u001b[3m\u001b[90m<int>\u001b[39m\u001b[23m 408\u001b[90m, \u001b[39m453\u001b[90m, \u001b[39m320\u001b[90m, \u001b[39m325\u001b[90m, \u001b[39m294\u001b[90m, \u001b[39m329\u001b[90m, \u001b[39m410\u001b[90m, \u001b[39m352\u001b[90m, \u001b[39m364\u001b[90m, \u001b[39m288\u001b[90m, \u001b[39m376\u001b[90m, \u001b[39m…\n",
      "$ PAINT_M        \u001b[3m\u001b[90m<int>\u001b[39m\u001b[23m 252\u001b[90m, \u001b[39m306\u001b[90m, \u001b[39m401\u001b[90m, \u001b[39m317\u001b[90m, \u001b[39m293\u001b[90m, \u001b[39m382\u001b[90m, \u001b[39m328\u001b[90m, \u001b[39m284\u001b[90m, \u001b[39m376\u001b[90m, \u001b[39m389\u001b[90m, \u001b[39m221\u001b[90m, \u001b[39m…\n",
      "$ PAINT_A        \u001b[3m\u001b[90m<int>\u001b[39m\u001b[23m 597\u001b[90m, \u001b[39m663\u001b[90m, \u001b[39m786\u001b[90m, \u001b[39m664\u001b[90m, \u001b[39m608\u001b[90m, \u001b[39m775\u001b[90m, \u001b[39m673\u001b[90m, \u001b[39m588\u001b[90m, \u001b[39m806\u001b[90m, \u001b[39m774\u001b[90m, \u001b[39m478\u001b[90m, \u001b[39m…\n",
      "$ MID_M          \u001b[3m\u001b[90m<int>\u001b[39m\u001b[23m 99\u001b[90m, \u001b[39m118\u001b[90m, \u001b[39m108\u001b[90m, \u001b[39m81\u001b[90m, \u001b[39m134\u001b[90m, \u001b[39m41\u001b[90m, \u001b[39m87\u001b[90m, \u001b[39m85\u001b[90m, \u001b[39m119\u001b[90m, \u001b[39m134\u001b[90m, \u001b[39m98\u001b[90m, \u001b[39m65\u001b[90m, \u001b[39m10…\n",
      "$ MID_A          \u001b[3m\u001b[90m<int>\u001b[39m\u001b[23m 256\u001b[90m, \u001b[39m273\u001b[90m, \u001b[39m246\u001b[90m, \u001b[39m208\u001b[90m, \u001b[39m313\u001b[90m, \u001b[39m135\u001b[90m, \u001b[39m226\u001b[90m, \u001b[39m211\u001b[90m, \u001b[39m294\u001b[90m, \u001b[39m340\u001b[90m, \u001b[39m262\u001b[90m, \u001b[39m…\n",
      "$ `3C_M`         \u001b[3m\u001b[90m<int>\u001b[39m\u001b[23m 46\u001b[90m, \u001b[39m51\u001b[90m, \u001b[39m37\u001b[90m, \u001b[39m37\u001b[90m, \u001b[39m49\u001b[90m, \u001b[39m48\u001b[90m, \u001b[39m65\u001b[90m, \u001b[39m60\u001b[90m, \u001b[39m46\u001b[90m, \u001b[39m10\u001b[90m, \u001b[39m40\u001b[90m, \u001b[39m68\u001b[90m, \u001b[39m57\u001b[90m, \u001b[39m37\u001b[90m,\u001b[39m…\n",
      "$ `3C_A`         \u001b[3m\u001b[90m<int>\u001b[39m\u001b[23m 98\u001b[90m, \u001b[39m115\u001b[90m, \u001b[39m84\u001b[90m, \u001b[39m70\u001b[90m, \u001b[39m125\u001b[90m, \u001b[39m120\u001b[90m, \u001b[39m139\u001b[90m, \u001b[39m134\u001b[90m, \u001b[39m113\u001b[90m, \u001b[39m33\u001b[90m, \u001b[39m100\u001b[90m, \u001b[39m152\u001b[90m,\u001b[39m…\n",
      "$ `3L_M`         \u001b[3m\u001b[90m<int>\u001b[39m\u001b[23m 256\u001b[90m, \u001b[39m192\u001b[90m, \u001b[39m255\u001b[90m, \u001b[39m316\u001b[90m, \u001b[39m287\u001b[90m, \u001b[39m266\u001b[90m, \u001b[39m273\u001b[90m, \u001b[39m321\u001b[90m, \u001b[39m248\u001b[90m, \u001b[39m259\u001b[90m, \u001b[39m301\u001b[90m, \u001b[39m…\n",
      "$ `3L_A`         \u001b[3m\u001b[90m<int>\u001b[39m\u001b[23m 755\u001b[90m, \u001b[39m601\u001b[90m, \u001b[39m708\u001b[90m, \u001b[39m882\u001b[90m, \u001b[39m802\u001b[90m, \u001b[39m794\u001b[90m, \u001b[39m770\u001b[90m, \u001b[39m832\u001b[90m, \u001b[39m685\u001b[90m, \u001b[39m726\u001b[90m, \u001b[39m821\u001b[90m, \u001b[39m…\n",
      "$ `3H_M`         \u001b[3m\u001b[90m<int>\u001b[39m\u001b[23m 0\u001b[90m, \u001b[39m1\u001b[90m, \u001b[39m0\u001b[90m, \u001b[39m0\u001b[90m, \u001b[39m0\u001b[90m, \u001b[39m0\u001b[90m, \u001b[39m1\u001b[90m, \u001b[39m0\u001b[90m, \u001b[39m1\u001b[90m, \u001b[39m0\u001b[90m, \u001b[39m0\u001b[90m, \u001b[39m0\u001b[90m, \u001b[39m0\u001b[90m, \u001b[39m0\u001b[90m, \u001b[39m0\u001b[90m, \u001b[39m0\u001b[90m, \u001b[39m0\u001b[90m, \u001b[39m0\n",
      "$ `3H_A`         \u001b[3m\u001b[90m<int>\u001b[39m\u001b[23m 4\u001b[90m, \u001b[39m7\u001b[90m, \u001b[39m5\u001b[90m, \u001b[39m10\u001b[90m, \u001b[39m11\u001b[90m, \u001b[39m5\u001b[90m, \u001b[39m2\u001b[90m, \u001b[39m9\u001b[90m, \u001b[39m11\u001b[90m, \u001b[39m3\u001b[90m, \u001b[39m9\u001b[90m, \u001b[39m7\u001b[90m, \u001b[39m6\u001b[90m, \u001b[39m7\u001b[90m, \u001b[39m8\u001b[90m, \u001b[39m7\u001b[90m, \u001b[39m10\u001b[90m, \u001b[39m8\n"
     ]
    }
   ],
   "source": [
    "glimpse(teams_regular_sum)"
   ]
  },
  {
   "cell_type": "code",
   "execution_count": 111,
   "metadata": {
    "vscode": {
     "languageId": "r"
    }
   },
   "outputs": [],
   "source": [
    "# Sumowanie statystyk oponentów\n",
    "sum_opp <- function(opp) {\n",
    "  opp %>%\n",
    "    group_by(`OPP NAME`, `TM TAG`) %>%\n",
    "    summarise(GP = n(),  # Dodanie liczby gier\n",
    "    across(where(is.numeric) & !c(ROUND), ~sum(.x, na.rm = TRUE))) %>%\n",
    "    select(where(is.character) | where(is.integer))\n",
    "}"
   ]
  },
  {
   "cell_type": "code",
   "execution_count": 112,
   "metadata": {
    "vscode": {
     "languageId": "r"
    }
   },
   "outputs": [
    {
     "name": "stderr",
     "output_type": "stream",
     "text": [
      "\u001b[1m\u001b[22m`summarise()` has grouped output by 'OPP NAME'. You can override using the\n",
      "`.groups` argument.\n",
      "\u001b[1m\u001b[22m`summarise()` has grouped output by 'OPP NAME'. You can override using the\n",
      "`.groups` argument.\n",
      "\u001b[1m\u001b[22m`summarise()` has grouped output by 'OPP NAME'. You can override using the\n",
      "`.groups` argument.\n",
      "\u001b[1m\u001b[22m`summarise()` has grouped output by 'OPP NAME'. You can override using the\n",
      "`.groups` argument.\n"
     ]
    }
   ],
   "source": [
    "opp_regular_sum <- sum_opp(opp_regular)\n",
    "opp_playin_sum <- sum_opp(opp_playin)\n",
    "opp_playoff_sum <- sum_opp(opp_playoff)\n",
    "opp_final4_sum <- sum_opp(opp_final4)"
   ]
  },
  {
   "cell_type": "code",
   "execution_count": 113,
   "metadata": {
    "vscode": {
     "languageId": "r"
    }
   },
   "outputs": [
    {
     "name": "stdout",
     "output_type": "stream",
     "text": [
      "Rows: 18\n",
      "Columns: 81\n",
      "Groups: OPP NAME [18]\n",
      "$ `OPP NAME`     \u001b[3m\u001b[90m<chr>\u001b[39m\u001b[23m \"ALBA\"\u001b[90m, \u001b[39m\"ASVEL\"\u001b[90m, \u001b[39m\"Barcelona\"\u001b[90m, \u001b[39m\"Baskonia\"\u001b[90m, \u001b[39m\"Bayern\"\u001b[90m, \u001b[39m\"Cr…\n",
      "$ `TM TAG`       \u001b[3m\u001b[90m<chr>\u001b[39m\u001b[23m \"BER\"\u001b[90m, \u001b[39m\"ASV\"\u001b[90m, \u001b[39m\"FCB\"\u001b[90m, \u001b[39m\"BAS\"\u001b[90m, \u001b[39m\"BAY\"\u001b[90m, \u001b[39m\"CZB\"\u001b[90m, \u001b[39m\"EFE\"\u001b[90m, \u001b[39m\"FEN\"\u001b[90m,\u001b[39m…\n",
      "$ GP             \u001b[3m\u001b[90m<int>\u001b[39m\u001b[23m 34\u001b[90m, \u001b[39m34\u001b[90m, \u001b[39m34\u001b[90m, \u001b[39m34\u001b[90m, \u001b[39m34\u001b[90m, \u001b[39m34\u001b[90m, \u001b[39m34\u001b[90m, \u001b[39m34\u001b[90m, \u001b[39m34\u001b[90m, \u001b[39m34\u001b[90m, \u001b[39m34\u001b[90m, \u001b[39m34\u001b[90m, \u001b[39m34\u001b[90m, \u001b[39m34\u001b[90m,\u001b[39m…\n",
      "$ MIN            \u001b[3m\u001b[90m<int>\u001b[39m\u001b[23m 1360\u001b[90m, \u001b[39m1370\u001b[90m, \u001b[39m1360\u001b[90m, \u001b[39m1365\u001b[90m, \u001b[39m1385\u001b[90m, \u001b[39m1360\u001b[90m, \u001b[39m1385\u001b[90m, \u001b[39m1380\u001b[90m, \u001b[39m1365\u001b[90m, \u001b[39m1…\n",
      "$ PTS            \u001b[3m\u001b[90m<int>\u001b[39m\u001b[23m 2944\u001b[90m, \u001b[39m2888\u001b[90m, \u001b[39m2692\u001b[90m, \u001b[39m2885\u001b[90m, \u001b[39m2790\u001b[90m, \u001b[39m2816\u001b[90m, \u001b[39m2912\u001b[90m, \u001b[39m2751\u001b[90m, \u001b[39m2948\u001b[90m, \u001b[39m2…\n",
      "$ `2PTM`         \u001b[3m\u001b[90m<int>\u001b[39m\u001b[23m 738\u001b[90m, \u001b[39m688\u001b[90m, \u001b[39m709\u001b[90m, \u001b[39m715\u001b[90m, \u001b[39m690\u001b[90m, \u001b[39m648\u001b[90m, \u001b[39m717\u001b[90m, \u001b[39m740\u001b[90m, \u001b[39m731\u001b[90m, \u001b[39m623\u001b[90m, \u001b[39m655\u001b[90m, \u001b[39m…\n",
      "$ `2PTA`         \u001b[3m\u001b[90m<int>\u001b[39m\u001b[23m 1277\u001b[90m, \u001b[39m1231\u001b[90m, \u001b[39m1335\u001b[90m, \u001b[39m1332\u001b[90m, \u001b[39m1282\u001b[90m, \u001b[39m1204\u001b[90m, \u001b[39m1268\u001b[90m, \u001b[39m1366\u001b[90m, \u001b[39m1265\u001b[90m, \u001b[39m1…\n",
      "$ `3PTM`         \u001b[3m\u001b[90m<int>\u001b[39m\u001b[23m 348\u001b[90m, \u001b[39m358\u001b[90m, \u001b[39m290\u001b[90m, \u001b[39m339\u001b[90m, \u001b[39m304\u001b[90m, \u001b[39m343\u001b[90m, \u001b[39m339\u001b[90m, \u001b[39m255\u001b[90m, \u001b[39m338\u001b[90m, \u001b[39m337\u001b[90m, \u001b[39m300\u001b[90m, \u001b[39m…\n",
      "$ `3PTA`         \u001b[3m\u001b[90m<int>\u001b[39m\u001b[23m 892\u001b[90m, \u001b[39m943\u001b[90m, \u001b[39m843\u001b[90m, \u001b[39m911\u001b[90m, \u001b[39m840\u001b[90m, \u001b[39m877\u001b[90m, \u001b[39m872\u001b[90m, \u001b[39m733\u001b[90m, \u001b[39m935\u001b[90m, \u001b[39m907\u001b[90m, \u001b[39m810\u001b[90m, \u001b[39m…\n",
      "$ FGM            \u001b[3m\u001b[90m<int>\u001b[39m\u001b[23m 1086\u001b[90m, \u001b[39m1046\u001b[90m, \u001b[39m999\u001b[90m, \u001b[39m1054\u001b[90m, \u001b[39m994\u001b[90m, \u001b[39m991\u001b[90m, \u001b[39m1056\u001b[90m, \u001b[39m995\u001b[90m, \u001b[39m1069\u001b[90m, \u001b[39m960\u001b[90m, \u001b[39m…\n",
      "$ FGA            \u001b[3m\u001b[90m<int>\u001b[39m\u001b[23m 2169\u001b[90m, \u001b[39m2174\u001b[90m, \u001b[39m2178\u001b[90m, \u001b[39m2243\u001b[90m, \u001b[39m2122\u001b[90m, \u001b[39m2081\u001b[90m, \u001b[39m2140\u001b[90m, \u001b[39m2099\u001b[90m, \u001b[39m2200\u001b[90m, \u001b[39m2…\n",
      "$ FTM            \u001b[3m\u001b[90m<int>\u001b[39m\u001b[23m 424\u001b[90m, \u001b[39m438\u001b[90m, \u001b[39m404\u001b[90m, \u001b[39m438\u001b[90m, \u001b[39m498\u001b[90m, \u001b[39m491\u001b[90m, \u001b[39m461\u001b[90m, \u001b[39m506\u001b[90m, \u001b[39m472\u001b[90m, \u001b[39m431\u001b[90m, \u001b[39m445\u001b[90m, \u001b[39m…\n",
      "$ FTA            \u001b[3m\u001b[90m<int>\u001b[39m\u001b[23m 562\u001b[90m, \u001b[39m565\u001b[90m, \u001b[39m537\u001b[90m, \u001b[39m550\u001b[90m, \u001b[39m625\u001b[90m, \u001b[39m638\u001b[90m, \u001b[39m587\u001b[90m, \u001b[39m646\u001b[90m, \u001b[39m622\u001b[90m, \u001b[39m560\u001b[90m, \u001b[39m567\u001b[90m, \u001b[39m…\n",
      "$ OR             \u001b[3m\u001b[90m<int>\u001b[39m\u001b[23m 374\u001b[90m, \u001b[39m354\u001b[90m, \u001b[39m369\u001b[90m, \u001b[39m357\u001b[90m, \u001b[39m307\u001b[90m, \u001b[39m354\u001b[90m, \u001b[39m349\u001b[90m, \u001b[39m353\u001b[90m, \u001b[39m375\u001b[90m, \u001b[39m354\u001b[90m, \u001b[39m314\u001b[90m, \u001b[39m…\n",
      "$ DR             \u001b[3m\u001b[90m<int>\u001b[39m\u001b[23m 831\u001b[90m, \u001b[39m814\u001b[90m, \u001b[39m768\u001b[90m, \u001b[39m832\u001b[90m, \u001b[39m810\u001b[90m, \u001b[39m799\u001b[90m, \u001b[39m815\u001b[90m, \u001b[39m765\u001b[90m, \u001b[39m799\u001b[90m, \u001b[39m811\u001b[90m, \u001b[39m808\u001b[90m, \u001b[39m…\n",
      "$ TR             \u001b[3m\u001b[90m<int>\u001b[39m\u001b[23m 1205\u001b[90m, \u001b[39m1168\u001b[90m, \u001b[39m1137\u001b[90m, \u001b[39m1189\u001b[90m, \u001b[39m1117\u001b[90m, \u001b[39m1153\u001b[90m, \u001b[39m1164\u001b[90m, \u001b[39m1118\u001b[90m, \u001b[39m1174\u001b[90m, \u001b[39m1…\n",
      "$ AST            \u001b[3m\u001b[90m<int>\u001b[39m\u001b[23m 674\u001b[90m, \u001b[39m641\u001b[90m, \u001b[39m573\u001b[90m, \u001b[39m653\u001b[90m, \u001b[39m538\u001b[90m, \u001b[39m644\u001b[90m, \u001b[39m650\u001b[90m, \u001b[39m553\u001b[90m, \u001b[39m658\u001b[90m, \u001b[39m598\u001b[90m, \u001b[39m562\u001b[90m, \u001b[39m…\n",
      "$ TO             \u001b[3m\u001b[90m<int>\u001b[39m\u001b[23m 452\u001b[90m, \u001b[39m393\u001b[90m, \u001b[39m416\u001b[90m, \u001b[39m366\u001b[90m, \u001b[39m371\u001b[90m, \u001b[39m415\u001b[90m, \u001b[39m415\u001b[90m, \u001b[39m410\u001b[90m, \u001b[39m461\u001b[90m, \u001b[39m459\u001b[90m, \u001b[39m429\u001b[90m, \u001b[39m…\n",
      "$ ST             \u001b[3m\u001b[90m<int>\u001b[39m\u001b[23m 286\u001b[90m, \u001b[39m243\u001b[90m, \u001b[39m227\u001b[90m, \u001b[39m230\u001b[90m, \u001b[39m226\u001b[90m, \u001b[39m220\u001b[90m, \u001b[39m185\u001b[90m, \u001b[39m202\u001b[90m, \u001b[39m225\u001b[90m, \u001b[39m178\u001b[90m, \u001b[39m214\u001b[90m, \u001b[39m…\n",
      "$ BLK            \u001b[3m\u001b[90m<int>\u001b[39m\u001b[23m 120\u001b[90m, \u001b[39m112\u001b[90m, \u001b[39m67\u001b[90m, \u001b[39m110\u001b[90m, \u001b[39m84\u001b[90m, \u001b[39m93\u001b[90m, \u001b[39m68\u001b[90m, \u001b[39m57\u001b[90m, \u001b[39m75\u001b[90m, \u001b[39m80\u001b[90m, \u001b[39m59\u001b[90m, \u001b[39m83\u001b[90m, \u001b[39m85\u001b[90m, \u001b[39m…\n",
      "$ BLKA           \u001b[3m\u001b[90m<int>\u001b[39m\u001b[23m 73\u001b[90m, \u001b[39m55\u001b[90m, \u001b[39m83\u001b[90m, \u001b[39m79\u001b[90m, \u001b[39m89\u001b[90m, \u001b[39m84\u001b[90m, \u001b[39m105\u001b[90m, \u001b[39m81\u001b[90m, \u001b[39m106\u001b[90m, \u001b[39m60\u001b[90m, \u001b[39m72\u001b[90m, \u001b[39m96\u001b[90m, \u001b[39m92\u001b[90m, \u001b[39m7…\n",
      "$ PF             \u001b[3m\u001b[90m<int>\u001b[39m\u001b[23m 625\u001b[90m, \u001b[39m661\u001b[90m, \u001b[39m650\u001b[90m, \u001b[39m661\u001b[90m, \u001b[39m642\u001b[90m, \u001b[39m681\u001b[90m, \u001b[39m640\u001b[90m, \u001b[39m682\u001b[90m, \u001b[39m676\u001b[90m, \u001b[39m742\u001b[90m, \u001b[39m660\u001b[90m, \u001b[39m…\n",
      "$ DF             \u001b[3m\u001b[90m<int>\u001b[39m\u001b[23m 617\u001b[90m, \u001b[39m622\u001b[90m, \u001b[39m653\u001b[90m, \u001b[39m615\u001b[90m, \u001b[39m694\u001b[90m, \u001b[39m719\u001b[90m, \u001b[39m626\u001b[90m, \u001b[39m723\u001b[90m, \u001b[39m669\u001b[90m, \u001b[39m647\u001b[90m, \u001b[39m660\u001b[90m, \u001b[39m…\n",
      "$ VAL            \u001b[3m\u001b[90m<int>\u001b[39m\u001b[23m 3475\u001b[90m, \u001b[39m3310\u001b[90m, \u001b[39m2888\u001b[90m, \u001b[39m3275\u001b[90m, \u001b[39m3092\u001b[90m, \u001b[39m3228\u001b[90m, \u001b[39m3235\u001b[90m, \u001b[39m2987\u001b[90m, \u001b[39m3225\u001b[90m, \u001b[39m2…\n",
      "$ `+ / -`        \u001b[3m\u001b[90m<int>\u001b[39m\u001b[23m 353\u001b[90m, \u001b[39m214\u001b[90m, \u001b[39m-120\u001b[90m, \u001b[39m21\u001b[90m, \u001b[39m116\u001b[90m, \u001b[39m52\u001b[90m, \u001b[39m-16\u001b[90m, \u001b[39m-143\u001b[90m, \u001b[39m-35\u001b[90m, \u001b[39m-95\u001b[90m, \u001b[39m-4\u001b[90m, \u001b[39m-…\n",
      "$ POSS           \u001b[3m\u001b[90m<int>\u001b[39m\u001b[23m 2486\u001b[90m, \u001b[39m2443\u001b[90m, \u001b[39m2434\u001b[90m, \u001b[39m2479\u001b[90m, \u001b[39m2440\u001b[90m, \u001b[39m2416\u001b[90m, \u001b[39m2459\u001b[90m, \u001b[39m2426\u001b[90m, \u001b[39m2542\u001b[90m, \u001b[39m2…\n",
      "$ KILLS          \u001b[3m\u001b[90m<int>\u001b[39m\u001b[23m 198\u001b[90m, \u001b[39m169\u001b[90m, \u001b[39m151\u001b[90m, \u001b[39m158\u001b[90m, \u001b[39m170\u001b[90m, \u001b[39m151\u001b[90m, \u001b[39m151\u001b[90m, \u001b[39m143\u001b[90m, \u001b[39m130\u001b[90m, \u001b[39m141\u001b[90m, \u001b[39m167\u001b[90m, \u001b[39m…\n",
      "$ ASTED_2FG      \u001b[3m\u001b[90m<int>\u001b[39m\u001b[23m 334\u001b[90m, \u001b[39m321\u001b[90m, \u001b[39m331\u001b[90m, \u001b[39m325\u001b[90m, \u001b[39m278\u001b[90m, \u001b[39m316\u001b[90m, \u001b[39m323\u001b[90m, \u001b[39m320\u001b[90m, \u001b[39m337\u001b[90m, \u001b[39m266\u001b[90m, \u001b[39m301\u001b[90m, \u001b[39m…\n",
      "$ ASTED_3FG      \u001b[3m\u001b[90m<int>\u001b[39m\u001b[23m 276\u001b[90m, \u001b[39m262\u001b[90m, \u001b[39m202\u001b[90m, \u001b[39m269\u001b[90m, \u001b[39m211\u001b[90m, \u001b[39m261\u001b[90m, \u001b[39m261\u001b[90m, \u001b[39m179\u001b[90m, \u001b[39m258\u001b[90m, \u001b[39m268\u001b[90m, \u001b[39m210\u001b[90m, \u001b[39m…\n",
      "$ ASTED_FT       \u001b[3m\u001b[90m<int>\u001b[39m\u001b[23m 64\u001b[90m, \u001b[39m57\u001b[90m, \u001b[39m40\u001b[90m, \u001b[39m59\u001b[90m, \u001b[39m47\u001b[90m, \u001b[39m67\u001b[90m, \u001b[39m64\u001b[90m, \u001b[39m51\u001b[90m, \u001b[39m61\u001b[90m, \u001b[39m64\u001b[90m, \u001b[39m51\u001b[90m, \u001b[39m45\u001b[90m, \u001b[39m39\u001b[90m, \u001b[39m67\u001b[90m,\u001b[39m…\n",
      "$ `ASTED_FT PTS` \u001b[3m\u001b[90m<int>\u001b[39m\u001b[23m 112\u001b[90m, \u001b[39m99\u001b[90m, \u001b[39m71\u001b[90m, \u001b[39m105\u001b[90m, \u001b[39m89\u001b[90m, \u001b[39m122\u001b[90m, \u001b[39m108\u001b[90m, \u001b[39m88\u001b[90m, \u001b[39m103\u001b[90m, \u001b[39m105\u001b[90m, \u001b[39m86\u001b[90m, \u001b[39m79\u001b[90m, \u001b[39m6…\n",
      "$ LTO            \u001b[3m\u001b[90m<int>\u001b[39m\u001b[23m 239\u001b[90m, \u001b[39m204\u001b[90m, \u001b[39m210\u001b[90m, \u001b[39m185\u001b[90m, \u001b[39m205\u001b[90m, \u001b[39m224\u001b[90m, \u001b[39m236\u001b[90m, \u001b[39m196\u001b[90m, \u001b[39m249\u001b[90m, \u001b[39m236\u001b[90m, \u001b[39m238\u001b[90m, \u001b[39m…\n",
      "$ DTO            \u001b[3m\u001b[90m<int>\u001b[39m\u001b[23m 213\u001b[90m, \u001b[39m189\u001b[90m, \u001b[39m206\u001b[90m, \u001b[39m181\u001b[90m, \u001b[39m166\u001b[90m, \u001b[39m191\u001b[90m, \u001b[39m179\u001b[90m, \u001b[39m214\u001b[90m, \u001b[39m212\u001b[90m, \u001b[39m223\u001b[90m, \u001b[39m191\u001b[90m, \u001b[39m…\n",
      "$ BLK2           \u001b[3m\u001b[90m<int>\u001b[39m\u001b[23m 95\u001b[90m, \u001b[39m100\u001b[90m, \u001b[39m48\u001b[90m, \u001b[39m91\u001b[90m, \u001b[39m64\u001b[90m, \u001b[39m34\u001b[90m, \u001b[39m52\u001b[90m, \u001b[39m40\u001b[90m, \u001b[39m40\u001b[90m, \u001b[39m66\u001b[90m, \u001b[39m49\u001b[90m, \u001b[39m72\u001b[90m, \u001b[39m71\u001b[90m, \u001b[39m43…\n",
      "$ BLK3           \u001b[3m\u001b[90m<int>\u001b[39m\u001b[23m 12\u001b[90m, \u001b[39m7\u001b[90m, \u001b[39m4\u001b[90m, \u001b[39m7\u001b[90m, \u001b[39m12\u001b[90m, \u001b[39m5\u001b[90m, \u001b[39m2\u001b[90m, \u001b[39m2\u001b[90m, \u001b[39m3\u001b[90m, \u001b[39m4\u001b[90m, \u001b[39m5\u001b[90m, \u001b[39m5\u001b[90m, \u001b[39m3\u001b[90m, \u001b[39m5\u001b[90m, \u001b[39m1\u001b[90m, \u001b[39m4\u001b[90m, \u001b[39m6\u001b[90m, \u001b[39m5\n",
      "$ OR_RIM         \u001b[3m\u001b[90m<int>\u001b[39m\u001b[23m 34\u001b[90m, \u001b[39m32\u001b[90m, \u001b[39m16\u001b[90m, \u001b[39m16\u001b[90m, \u001b[39m22\u001b[90m, \u001b[39m21\u001b[90m, \u001b[39m26\u001b[90m, \u001b[39m28\u001b[90m, \u001b[39m30\u001b[90m, \u001b[39m15\u001b[90m, \u001b[39m26\u001b[90m, \u001b[39m18\u001b[90m, \u001b[39m44\u001b[90m, \u001b[39m26\u001b[90m,\u001b[39m…\n",
      "$ `TM OR_RIM`    \u001b[3m\u001b[90m<int>\u001b[39m\u001b[23m 7\u001b[90m, \u001b[39m7\u001b[90m, \u001b[39m9\u001b[90m, \u001b[39m0\u001b[90m, \u001b[39m5\u001b[90m, \u001b[39m6\u001b[90m, \u001b[39m7\u001b[90m, \u001b[39m4\u001b[90m, \u001b[39m7\u001b[90m, \u001b[39m1\u001b[90m, \u001b[39m6\u001b[90m, \u001b[39m7\u001b[90m, \u001b[39m11\u001b[90m, \u001b[39m6\u001b[90m, \u001b[39m6\u001b[90m, \u001b[39m11\u001b[90m, \u001b[39m3\u001b[90m, \u001b[39m9\n",
      "$ OR_PAINT       \u001b[3m\u001b[90m<int>\u001b[39m\u001b[23m 97\u001b[90m, \u001b[39m83\u001b[90m, \u001b[39m114\u001b[90m, \u001b[39m108\u001b[90m, \u001b[39m98\u001b[90m, \u001b[39m93\u001b[90m, \u001b[39m100\u001b[90m, \u001b[39m100\u001b[90m, \u001b[39m96\u001b[90m, \u001b[39m90\u001b[90m, \u001b[39m72\u001b[90m, \u001b[39m91\u001b[90m, \u001b[39m98\u001b[90m,\u001b[39m…\n",
      "$ `TM OR_PAINT`  \u001b[3m\u001b[90m<int>\u001b[39m\u001b[23m 15\u001b[90m, \u001b[39m9\u001b[90m, \u001b[39m23\u001b[90m, \u001b[39m20\u001b[90m, \u001b[39m18\u001b[90m, \u001b[39m22\u001b[90m, \u001b[39m17\u001b[90m, \u001b[39m13\u001b[90m, \u001b[39m22\u001b[90m, \u001b[39m20\u001b[90m, \u001b[39m12\u001b[90m, \u001b[39m25\u001b[90m, \u001b[39m14\u001b[90m, \u001b[39m17\u001b[90m, \u001b[39m…\n",
      "$ OR_NP2         \u001b[3m\u001b[90m<int>\u001b[39m\u001b[23m 35\u001b[90m, \u001b[39m27\u001b[90m, \u001b[39m36\u001b[90m, \u001b[39m31\u001b[90m, \u001b[39m31\u001b[90m, \u001b[39m38\u001b[90m, \u001b[39m22\u001b[90m, \u001b[39m38\u001b[90m, \u001b[39m35\u001b[90m, \u001b[39m36\u001b[90m, \u001b[39m33\u001b[90m, \u001b[39m33\u001b[90m, \u001b[39m25\u001b[90m, \u001b[39m29\u001b[90m,\u001b[39m…\n",
      "$ `TM OR_NP2`    \u001b[3m\u001b[90m<int>\u001b[39m\u001b[23m 3\u001b[90m, \u001b[39m5\u001b[90m, \u001b[39m8\u001b[90m, \u001b[39m3\u001b[90m, \u001b[39m6\u001b[90m, \u001b[39m5\u001b[90m, \u001b[39m4\u001b[90m, \u001b[39m10\u001b[90m, \u001b[39m4\u001b[90m, \u001b[39m4\u001b[90m, \u001b[39m8\u001b[90m, \u001b[39m4\u001b[90m, \u001b[39m4\u001b[90m, \u001b[39m7\u001b[90m, \u001b[39m7\u001b[90m, \u001b[39m8\u001b[90m, \u001b[39m3\u001b[90m, \u001b[39m1\n",
      "$ OR_3C          \u001b[3m\u001b[90m<int>\u001b[39m\u001b[23m 16\u001b[90m, \u001b[39m15\u001b[90m, \u001b[39m17\u001b[90m, \u001b[39m11\u001b[90m, \u001b[39m7\u001b[90m, \u001b[39m13\u001b[90m, \u001b[39m19\u001b[90m, \u001b[39m9\u001b[90m, \u001b[39m15\u001b[90m, \u001b[39m13\u001b[90m, \u001b[39m12\u001b[90m, \u001b[39m23\u001b[90m, \u001b[39m23\u001b[90m, \u001b[39m20\u001b[90m, \u001b[39m5…\n",
      "$ `TM OR_3C`     \u001b[3m\u001b[90m<int>\u001b[39m\u001b[23m 2\u001b[90m, \u001b[39m6\u001b[90m, \u001b[39m3\u001b[90m, \u001b[39m1\u001b[90m, \u001b[39m1\u001b[90m, \u001b[39m1\u001b[90m, \u001b[39m1\u001b[90m, \u001b[39m1\u001b[90m, \u001b[39m3\u001b[90m, \u001b[39m1\u001b[90m, \u001b[39m4\u001b[90m, \u001b[39m2\u001b[90m, \u001b[39m4\u001b[90m, \u001b[39m5\u001b[90m, \u001b[39m2\u001b[90m, \u001b[39m2\u001b[90m, \u001b[39m1\u001b[90m, \u001b[39m5\n",
      "$ OR_3L          \u001b[3m\u001b[90m<int>\u001b[39m\u001b[23m 125\u001b[90m, \u001b[39m130\u001b[90m, \u001b[39m113\u001b[90m, \u001b[39m144\u001b[90m, \u001b[39m92\u001b[90m, \u001b[39m122\u001b[90m, \u001b[39m117\u001b[90m, \u001b[39m108\u001b[90m, \u001b[39m121\u001b[90m, \u001b[39m130\u001b[90m, \u001b[39m106\u001b[90m, \u001b[39m1…\n",
      "$ `TM OR_3L`     \u001b[3m\u001b[90m<int>\u001b[39m\u001b[23m 25\u001b[90m, \u001b[39m30\u001b[90m, \u001b[39m20\u001b[90m, \u001b[39m17\u001b[90m, \u001b[39m13\u001b[90m, \u001b[39m16\u001b[90m, \u001b[39m17\u001b[90m, \u001b[39m14\u001b[90m, \u001b[39m28\u001b[90m, \u001b[39m29\u001b[90m, \u001b[39m24\u001b[90m, \u001b[39m12\u001b[90m, \u001b[39m12\u001b[90m, \u001b[39m23\u001b[90m,\u001b[39m…\n",
      "$ OR_FT          \u001b[3m\u001b[90m<int>\u001b[39m\u001b[23m 10\u001b[90m, \u001b[39m6\u001b[90m, \u001b[39m7\u001b[90m, \u001b[39m6\u001b[90m, \u001b[39m4\u001b[90m, \u001b[39m10\u001b[90m, \u001b[39m11\u001b[90m, \u001b[39m12\u001b[90m, \u001b[39m11\u001b[90m, \u001b[39m8\u001b[90m, \u001b[39m8\u001b[90m, \u001b[39m2\u001b[90m, \u001b[39m13\u001b[90m, \u001b[39m7\u001b[90m, \u001b[39m7\u001b[90m, \u001b[39m8\u001b[90m, \u001b[39m1…\n",
      "$ `TM OR_FT`     \u001b[3m\u001b[90m<int>\u001b[39m\u001b[23m 2\u001b[90m, \u001b[39m2\u001b[90m, \u001b[39m2\u001b[90m, \u001b[39m0\u001b[90m, \u001b[39m4\u001b[90m, \u001b[39m3\u001b[90m, \u001b[39m3\u001b[90m, \u001b[39m1\u001b[90m, \u001b[39m2\u001b[90m, \u001b[39m1\u001b[90m, \u001b[39m2\u001b[90m, \u001b[39m2\u001b[90m, \u001b[39m0\u001b[90m, \u001b[39m3\u001b[90m, \u001b[39m0\u001b[90m, \u001b[39m5\u001b[90m, \u001b[39m2\u001b[90m, \u001b[39m1\n",
      "$ DR_RIM         \u001b[3m\u001b[90m<int>\u001b[39m\u001b[23m 71\u001b[90m, \u001b[39m77\u001b[90m, \u001b[39m35\u001b[90m, \u001b[39m32\u001b[90m, \u001b[39m37\u001b[90m, \u001b[39m38\u001b[90m, \u001b[39m45\u001b[90m, \u001b[39m40\u001b[90m, \u001b[39m46\u001b[90m, \u001b[39m33\u001b[90m, \u001b[39m53\u001b[90m, \u001b[39m45\u001b[90m, \u001b[39m54\u001b[90m, \u001b[39m42\u001b[90m,\u001b[39m…\n",
      "$ `TM DR_RIM`    \u001b[3m\u001b[90m<int>\u001b[39m\u001b[23m 7\u001b[90m, \u001b[39m6\u001b[90m, \u001b[39m1\u001b[90m, \u001b[39m3\u001b[90m, \u001b[39m5\u001b[90m, \u001b[39m3\u001b[90m, \u001b[39m5\u001b[90m, \u001b[39m1\u001b[90m, \u001b[39m7\u001b[90m, \u001b[39m4\u001b[90m, \u001b[39m1\u001b[90m, \u001b[39m2\u001b[90m, \u001b[39m12\u001b[90m, \u001b[39m2\u001b[90m, \u001b[39m3\u001b[90m, \u001b[39m5\u001b[90m, \u001b[39m0\u001b[90m, \u001b[39m3\n",
      "$ DR_PAINT       \u001b[3m\u001b[90m<int>\u001b[39m\u001b[23m 202\u001b[90m, \u001b[39m211\u001b[90m, \u001b[39m228\u001b[90m, \u001b[39m214\u001b[90m, \u001b[39m198\u001b[90m, \u001b[39m229\u001b[90m, \u001b[39m204\u001b[90m, \u001b[39m196\u001b[90m, \u001b[39m242\u001b[90m, \u001b[39m237\u001b[90m, \u001b[39m163\u001b[90m, \u001b[39m…\n",
      "$ `TM DR_PAINT`  \u001b[3m\u001b[90m<int>\u001b[39m\u001b[23m 13\u001b[90m, \u001b[39m15\u001b[90m, \u001b[39m15\u001b[90m, \u001b[39m13\u001b[90m, \u001b[39m9\u001b[90m, \u001b[39m14\u001b[90m, \u001b[39m9\u001b[90m, \u001b[39m10\u001b[90m, \u001b[39m16\u001b[90m, \u001b[39m15\u001b[90m, \u001b[39m7\u001b[90m, \u001b[39m10\u001b[90m, \u001b[39m12\u001b[90m, \u001b[39m6\u001b[90m, \u001b[39m12\u001b[90m,\u001b[39m…\n",
      "$ DR_NP2         \u001b[3m\u001b[90m<int>\u001b[39m\u001b[23m 99\u001b[90m, \u001b[39m111\u001b[90m, \u001b[39m94\u001b[90m, \u001b[39m85\u001b[90m, \u001b[39m118\u001b[90m, \u001b[39m56\u001b[90m, \u001b[39m89\u001b[90m, \u001b[39m97\u001b[90m, \u001b[39m112\u001b[90m, \u001b[39m132\u001b[90m, \u001b[39m119\u001b[90m, \u001b[39m69\u001b[90m, \u001b[39m84…\n",
      "$ `TM DR_NP2`    \u001b[3m\u001b[90m<int>\u001b[39m\u001b[23m 10\u001b[90m, \u001b[39m4\u001b[90m, \u001b[39m3\u001b[90m, \u001b[39m7\u001b[90m, \u001b[39m9\u001b[90m, \u001b[39m1\u001b[90m, \u001b[39m7\u001b[90m, \u001b[39m2\u001b[90m, \u001b[39m9\u001b[90m, \u001b[39m8\u001b[90m, \u001b[39m7\u001b[90m, \u001b[39m4\u001b[90m, \u001b[39m9\u001b[90m, \u001b[39m6\u001b[90m, \u001b[39m0\u001b[90m, \u001b[39m6\u001b[90m, \u001b[39m11\u001b[90m, \u001b[39m5\n",
      "$ DR_3C          \u001b[3m\u001b[90m<int>\u001b[39m\u001b[23m 34\u001b[90m, \u001b[39m38\u001b[90m, \u001b[39m27\u001b[90m, \u001b[39m23\u001b[90m, \u001b[39m47\u001b[90m, \u001b[39m45\u001b[90m, \u001b[39m54\u001b[90m, \u001b[39m53\u001b[90m, \u001b[39m46\u001b[90m, \u001b[39m10\u001b[90m, \u001b[39m40\u001b[90m, \u001b[39m54\u001b[90m, \u001b[39m41\u001b[90m, \u001b[39m31\u001b[90m,\u001b[39m…\n",
      "$ `TM DR_3C`     \u001b[3m\u001b[90m<int>\u001b[39m\u001b[23m 4\u001b[90m, \u001b[39m5\u001b[90m, \u001b[39m3\u001b[90m, \u001b[39m0\u001b[90m, \u001b[39m3\u001b[90m, \u001b[39m4\u001b[90m, \u001b[39m1\u001b[90m, \u001b[39m5\u001b[90m, \u001b[39m2\u001b[90m, \u001b[39m1\u001b[90m, \u001b[39m3\u001b[90m, \u001b[39m4\u001b[90m, \u001b[39m1\u001b[90m, \u001b[39m3\u001b[90m, \u001b[39m2\u001b[90m, \u001b[39m4\u001b[90m, \u001b[39m4\u001b[90m, \u001b[39m1\n",
      "$ DR_3L          \u001b[3m\u001b[90m<int>\u001b[39m\u001b[23m 306\u001b[90m, \u001b[39m263\u001b[90m, \u001b[39m275\u001b[90m, \u001b[39m364\u001b[90m, \u001b[39m309\u001b[90m, \u001b[39m323\u001b[90m, \u001b[39m333\u001b[90m, \u001b[39m288\u001b[90m, \u001b[39m233\u001b[90m, \u001b[39m284\u001b[90m, \u001b[39m340\u001b[90m, \u001b[39m…\n",
      "$ `TM DR_3L`     \u001b[3m\u001b[90m<int>\u001b[39m\u001b[23m 40\u001b[90m, \u001b[39m22\u001b[90m, \u001b[39m20\u001b[90m, \u001b[39m34\u001b[90m, \u001b[39m34\u001b[90m, \u001b[39m26\u001b[90m, \u001b[39m27\u001b[90m, \u001b[39m29\u001b[90m, \u001b[39m28\u001b[90m, \u001b[39m21\u001b[90m, \u001b[39m29\u001b[90m, \u001b[39m29\u001b[90m, \u001b[39m24\u001b[90m, \u001b[39m16\u001b[90m,\u001b[39m…\n",
      "$ DR_FT          \u001b[3m\u001b[90m<int>\u001b[39m\u001b[23m 35\u001b[90m, \u001b[39m57\u001b[90m, \u001b[39m54\u001b[90m, \u001b[39m46\u001b[90m, \u001b[39m33\u001b[90m, \u001b[39m51\u001b[90m, \u001b[39m38\u001b[90m, \u001b[39m34\u001b[90m, \u001b[39m46\u001b[90m, \u001b[39m56\u001b[90m, \u001b[39m35\u001b[90m, \u001b[39m68\u001b[90m, \u001b[39m63\u001b[90m, \u001b[39m50\u001b[90m,\u001b[39m…\n",
      "$ `TM DR_FT`     \u001b[3m\u001b[90m<int>\u001b[39m\u001b[23m 7\u001b[90m, \u001b[39m2\u001b[90m, \u001b[39m10\u001b[90m, \u001b[39m3\u001b[90m, \u001b[39m3\u001b[90m, \u001b[39m4\u001b[90m, \u001b[39m0\u001b[90m, \u001b[39m2\u001b[90m, \u001b[39m8\u001b[90m, \u001b[39m7\u001b[90m, \u001b[39m4\u001b[90m, \u001b[39m1\u001b[90m, \u001b[39m4\u001b[90m, \u001b[39m1\u001b[90m, \u001b[39m2\u001b[90m, \u001b[39m4\u001b[90m, \u001b[39m4\u001b[90m, \u001b[39m4\n",
      "$ FTM_T          \u001b[3m\u001b[90m<int>\u001b[39m\u001b[23m 6\u001b[90m, \u001b[39m12\u001b[90m, \u001b[39m21\u001b[90m, \u001b[39m7\u001b[90m, \u001b[39m10\u001b[90m, \u001b[39m14\u001b[90m, \u001b[39m8\u001b[90m, \u001b[39m13\u001b[90m, \u001b[39m21\u001b[90m, \u001b[39m14\u001b[90m, \u001b[39m5\u001b[90m, \u001b[39m4\u001b[90m, \u001b[39m12\u001b[90m, \u001b[39m7\u001b[90m, \u001b[39m14\u001b[90m, \u001b[39m1…\n",
      "$ FTA_T          \u001b[3m\u001b[90m<int>\u001b[39m\u001b[23m 7\u001b[90m, \u001b[39m13\u001b[90m, \u001b[39m25\u001b[90m, \u001b[39m7\u001b[90m, \u001b[39m12\u001b[90m, \u001b[39m17\u001b[90m, \u001b[39m11\u001b[90m, \u001b[39m14\u001b[90m, \u001b[39m28\u001b[90m, \u001b[39m15\u001b[90m, \u001b[39m8\u001b[90m, \u001b[39m6\u001b[90m, \u001b[39m13\u001b[90m, \u001b[39m8\u001b[90m, \u001b[39m19\u001b[90m, \u001b[39m…\n",
      "$ FTM_1          \u001b[3m\u001b[90m<int>\u001b[39m\u001b[23m 47\u001b[90m, \u001b[39m57\u001b[90m, \u001b[39m44\u001b[90m, \u001b[39m51\u001b[90m, \u001b[39m53\u001b[90m, \u001b[39m41\u001b[90m, \u001b[39m35\u001b[90m, \u001b[39m50\u001b[90m, \u001b[39m43\u001b[90m, \u001b[39m37\u001b[90m, \u001b[39m44\u001b[90m, \u001b[39m53\u001b[90m, \u001b[39m43\u001b[90m, \u001b[39m48\u001b[90m,\u001b[39m…\n",
      "$ FTA_1          \u001b[3m\u001b[90m<int>\u001b[39m\u001b[23m 56\u001b[90m, \u001b[39m72\u001b[90m, \u001b[39m66\u001b[90m, \u001b[39m69\u001b[90m, \u001b[39m72\u001b[90m, \u001b[39m53\u001b[90m, \u001b[39m51\u001b[90m, \u001b[39m68\u001b[90m, \u001b[39m54\u001b[90m, \u001b[39m52\u001b[90m, \u001b[39m58\u001b[90m, \u001b[39m60\u001b[90m, \u001b[39m59\u001b[90m, \u001b[39m59\u001b[90m,\u001b[39m…\n",
      "$ FTM_2          \u001b[3m\u001b[90m<int>\u001b[39m\u001b[23m 346\u001b[90m, \u001b[39m341\u001b[90m, \u001b[39m308\u001b[90m, \u001b[39m349\u001b[90m, \u001b[39m396\u001b[90m, \u001b[39m404\u001b[90m, \u001b[39m385\u001b[90m, \u001b[39m407\u001b[90m, \u001b[39m373\u001b[90m, \u001b[39m352\u001b[90m, \u001b[39m375\u001b[90m, \u001b[39m…\n",
      "$ FTA_2          \u001b[3m\u001b[90m<int>\u001b[39m\u001b[23m 466\u001b[90m, \u001b[39m447\u001b[90m, \u001b[39m406\u001b[90m, \u001b[39m438\u001b[90m, \u001b[39m497\u001b[90m, \u001b[39m526\u001b[90m, \u001b[39m486\u001b[90m, \u001b[39m524\u001b[90m, \u001b[39m500\u001b[90m, \u001b[39m460\u001b[90m, \u001b[39m476\u001b[90m, \u001b[39m…\n",
      "$ `FT 0/2`       \u001b[3m\u001b[90m<int>\u001b[39m\u001b[23m 22\u001b[90m, \u001b[39m21\u001b[90m, \u001b[39m10\u001b[90m, \u001b[39m12\u001b[90m, \u001b[39m14\u001b[90m, \u001b[39m20\u001b[90m, \u001b[39m8\u001b[90m, \u001b[39m12\u001b[90m, \u001b[39m10\u001b[90m, \u001b[39m14\u001b[90m, \u001b[39m13\u001b[90m, \u001b[39m6\u001b[90m, \u001b[39m16\u001b[90m, \u001b[39m15\u001b[90m, \u001b[39m1…\n",
      "$ FTM_3          \u001b[3m\u001b[90m<int>\u001b[39m\u001b[23m 20\u001b[90m, \u001b[39m23\u001b[90m, \u001b[39m30\u001b[90m, \u001b[39m30\u001b[90m, \u001b[39m37\u001b[90m, \u001b[39m28\u001b[90m, \u001b[39m31\u001b[90m, \u001b[39m35\u001b[90m, \u001b[39m34\u001b[90m, \u001b[39m26\u001b[90m, \u001b[39m21\u001b[90m, \u001b[39m35\u001b[90m, \u001b[39m24\u001b[90m, \u001b[39m22\u001b[90m,\u001b[39m…\n",
      "$ FTA_3          \u001b[3m\u001b[90m<int>\u001b[39m\u001b[23m 27\u001b[90m, \u001b[39m27\u001b[90m, \u001b[39m36\u001b[90m, \u001b[39m33\u001b[90m, \u001b[39m42\u001b[90m, \u001b[39m35\u001b[90m, \u001b[39m36\u001b[90m, \u001b[39m39\u001b[90m, \u001b[39m39\u001b[90m, \u001b[39m30\u001b[90m, \u001b[39m24\u001b[90m, \u001b[39m42\u001b[90m, \u001b[39m30\u001b[90m, \u001b[39m27\u001b[90m,\u001b[39m…\n",
      "$ `FT 0/3`       \u001b[3m\u001b[90m<int>\u001b[39m\u001b[23m 1\u001b[90m, \u001b[39m0\u001b[90m, \u001b[39m0\u001b[90m, \u001b[39m0\u001b[90m, \u001b[39m0\u001b[90m, \u001b[39m0\u001b[90m, \u001b[39m0\u001b[90m, \u001b[39m0\u001b[90m, \u001b[39m0\u001b[90m, \u001b[39m0\u001b[90m, \u001b[39m0\u001b[90m, \u001b[39m0\u001b[90m, \u001b[39m0\u001b[90m, \u001b[39m0\u001b[90m, \u001b[39m0\u001b[90m, \u001b[39m0\u001b[90m, \u001b[39m0\u001b[90m, \u001b[39m0\n",
      "$ RIM_M          \u001b[3m\u001b[90m<int>\u001b[39m\u001b[23m 319\u001b[90m, \u001b[39m295\u001b[90m, \u001b[39m262\u001b[90m, \u001b[39m274\u001b[90m, \u001b[39m225\u001b[90m, \u001b[39m239\u001b[90m, \u001b[39m321\u001b[90m, \u001b[39m301\u001b[90m, \u001b[39m293\u001b[90m, \u001b[39m169\u001b[90m, \u001b[39m299\u001b[90m, \u001b[39m…\n",
      "$ RIM_A          \u001b[3m\u001b[90m<int>\u001b[39m\u001b[23m 413\u001b[90m, \u001b[39m384\u001b[90m, \u001b[39m333\u001b[90m, \u001b[39m329\u001b[90m, \u001b[39m291\u001b[90m, \u001b[39m311\u001b[90m, \u001b[39m396\u001b[90m, \u001b[39m385\u001b[90m, \u001b[39m374\u001b[90m, \u001b[39m221\u001b[90m, \u001b[39m402\u001b[90m, \u001b[39m…\n",
      "$ PAINT_M        \u001b[3m\u001b[90m<int>\u001b[39m\u001b[23m 322\u001b[90m, \u001b[39m290\u001b[90m, \u001b[39m353\u001b[90m, \u001b[39m344\u001b[90m, \u001b[39m344\u001b[90m, \u001b[39m297\u001b[90m, \u001b[39m298\u001b[90m, \u001b[39m321\u001b[90m, \u001b[39m348\u001b[90m, \u001b[39m370\u001b[90m, \u001b[39m274\u001b[90m, \u001b[39m…\n",
      "$ PAINT_A        \u001b[3m\u001b[90m<int>\u001b[39m\u001b[23m 633\u001b[90m, \u001b[39m602\u001b[90m, \u001b[39m745\u001b[90m, \u001b[39m755\u001b[90m, \u001b[39m708\u001b[90m, \u001b[39m627\u001b[90m, \u001b[39m655\u001b[90m, \u001b[39m688\u001b[90m, \u001b[39m660\u001b[90m, \u001b[39m688\u001b[90m, \u001b[39m563\u001b[90m, \u001b[39m…\n",
      "$ MID_M          \u001b[3m\u001b[90m<int>\u001b[39m\u001b[23m 97\u001b[90m, \u001b[39m103\u001b[90m, \u001b[39m94\u001b[90m, \u001b[39m97\u001b[90m, \u001b[39m121\u001b[90m, \u001b[39m112\u001b[90m, \u001b[39m98\u001b[90m, \u001b[39m118\u001b[90m, \u001b[39m90\u001b[90m, \u001b[39m84\u001b[90m, \u001b[39m82\u001b[90m, \u001b[39m108\u001b[90m, \u001b[39m78…\n",
      "$ MID_A          \u001b[3m\u001b[90m<int>\u001b[39m\u001b[23m 231\u001b[90m, \u001b[39m245\u001b[90m, \u001b[39m257\u001b[90m, \u001b[39m248\u001b[90m, \u001b[39m283\u001b[90m, \u001b[39m266\u001b[90m, \u001b[39m217\u001b[90m, \u001b[39m293\u001b[90m, \u001b[39m231\u001b[90m, \u001b[39m238\u001b[90m, \u001b[39m250\u001b[90m, \u001b[39m…\n",
      "$ `3C_M`         \u001b[3m\u001b[90m<int>\u001b[39m\u001b[23m 55\u001b[90m, \u001b[39m58\u001b[90m, \u001b[39m43\u001b[90m, \u001b[39m40\u001b[90m, \u001b[39m39\u001b[90m, \u001b[39m55\u001b[90m, \u001b[39m57\u001b[90m, \u001b[39m44\u001b[90m, \u001b[39m35\u001b[90m, \u001b[39m36\u001b[90m, \u001b[39m45\u001b[90m, \u001b[39m51\u001b[90m, \u001b[39m43\u001b[90m, \u001b[39m52\u001b[90m,\u001b[39m…\n",
      "$ `3C_A`         \u001b[3m\u001b[90m<int>\u001b[39m\u001b[23m 134\u001b[90m, \u001b[39m128\u001b[90m, \u001b[39m101\u001b[90m, \u001b[39m73\u001b[90m, \u001b[39m98\u001b[90m, \u001b[39m116\u001b[90m, \u001b[39m123\u001b[90m, \u001b[39m94\u001b[90m, \u001b[39m97\u001b[90m, \u001b[39m78\u001b[90m, \u001b[39m93\u001b[90m, \u001b[39m126\u001b[90m, \u001b[39m1…\n",
      "$ `3L_M`         \u001b[3m\u001b[90m<int>\u001b[39m\u001b[23m 293\u001b[90m, \u001b[39m299\u001b[90m, \u001b[39m247\u001b[90m, \u001b[39m299\u001b[90m, \u001b[39m265\u001b[90m, \u001b[39m287\u001b[90m, \u001b[39m282\u001b[90m, \u001b[39m211\u001b[90m, \u001b[39m303\u001b[90m, \u001b[39m300\u001b[90m, \u001b[39m255\u001b[90m, \u001b[39m…\n",
      "$ `3L_A`         \u001b[3m\u001b[90m<int>\u001b[39m\u001b[23m 749\u001b[90m, \u001b[39m807\u001b[90m, \u001b[39m735\u001b[90m, \u001b[39m833\u001b[90m, \u001b[39m734\u001b[90m, \u001b[39m755\u001b[90m, \u001b[39m738\u001b[90m, \u001b[39m631\u001b[90m, \u001b[39m822\u001b[90m, \u001b[39m825\u001b[90m, \u001b[39m712\u001b[90m, \u001b[39m…\n",
      "$ `3H_M`         \u001b[3m\u001b[90m<int>\u001b[39m\u001b[23m 0\u001b[90m, \u001b[39m1\u001b[90m, \u001b[39m0\u001b[90m, \u001b[39m0\u001b[90m, \u001b[39m0\u001b[90m, \u001b[39m1\u001b[90m, \u001b[39m0\u001b[90m, \u001b[39m0\u001b[90m, \u001b[39m0\u001b[90m, \u001b[39m1\u001b[90m, \u001b[39m0\u001b[90m, \u001b[39m0\u001b[90m, \u001b[39m0\u001b[90m, \u001b[39m0\u001b[90m, \u001b[39m0\u001b[90m, \u001b[39m0\u001b[90m, \u001b[39m0\u001b[90m, \u001b[39m0\n",
      "$ `3H_A`         \u001b[3m\u001b[90m<int>\u001b[39m\u001b[23m 9\u001b[90m, \u001b[39m8\u001b[90m, \u001b[39m4\u001b[90m, \u001b[39m5\u001b[90m, \u001b[39m8\u001b[90m, \u001b[39m6\u001b[90m, \u001b[39m11\u001b[90m, \u001b[39m8\u001b[90m, \u001b[39m16\u001b[90m, \u001b[39m3\u001b[90m, \u001b[39m4\u001b[90m, \u001b[39m7\u001b[90m, \u001b[39m10\u001b[90m, \u001b[39m11\u001b[90m, \u001b[39m4\u001b[90m, \u001b[39m7\u001b[90m, \u001b[39m4\u001b[90m, \u001b[39m4\n"
     ]
    }
   ],
   "source": [
    "glimpse(opp_regular_sum)"
   ]
  },
  {
   "cell_type": "code",
   "execution_count": 114,
   "metadata": {
    "vscode": {
     "languageId": "r"
    }
   },
   "outputs": [],
   "source": [
    "#Sumowanie statystyk graczy \n",
    "sum_players <- function(players) {\n",
    "    players %>% \n",
    "      group_by(NAME) %>% \n",
    "      summarise(\n",
    "      AGE = first(AGE), # Zachowanie pierwszej wartości wieku\n",
    "      `TM NAME` = first(`TM NAME`), # zachowanie nazwy zespołu\n",
    "      GP = n(),  # Dodanie liczby gier\n",
    "      across(where(is.numeric) &\n",
    "               !c(AGE) & !c(ROUND), ~sum(.x, na.rm = TRUE)))  %>%\n",
    "    #pominięcie sumowanych procentów \n",
    "    select(where(is.character) | where(is.integer))\n",
    "}\n",
    "\n"
   ]
  },
  {
   "cell_type": "code",
   "execution_count": 115,
   "metadata": {
    "vscode": {
     "languageId": "r"
    }
   },
   "outputs": [],
   "source": [
    "players_regular_sum <- sum_players(players_regular)\n",
    "players_playin_sum <- sum_players(players_playin)\n",
    "players_playoff_sum <- sum_players(players_playoff)\n",
    "players_final4_sum <- sum_players(players_final4)"
   ]
  },
  {
   "cell_type": "code",
   "execution_count": 116,
   "metadata": {
    "vscode": {
     "languageId": "r"
    }
   },
   "outputs": [
    {
     "name": "stdout",
     "output_type": "stream",
     "text": [
      "Rows: 289\n",
      "Columns: 73\n",
      "$ NAME           \u001b[3m\u001b[90m<chr>\u001b[39m\u001b[23m \"Achille Polonara\"\u001b[90m, \u001b[39m\"Adam Hanga\"\u001b[90m, \u001b[39m\"Alberto Abalde\"\u001b[90m, \u001b[39m\"Al…\n",
      "$ `TM NAME`      \u001b[3m\u001b[90m<chr>\u001b[39m\u001b[23m \"Virtus Bologna\"\u001b[90m, \u001b[39m\"Crvena Zvezda\"\u001b[90m, \u001b[39m\"Real Madrid\"\u001b[90m, \u001b[39m\"Olym…\n",
      "$ AGE            \u001b[3m\u001b[90m<int>\u001b[39m\u001b[23m 33\u001b[90m, \u001b[39m35\u001b[90m, \u001b[39m29\u001b[90m, \u001b[39m29\u001b[90m, \u001b[39m30\u001b[90m, \u001b[39m24\u001b[90m, \u001b[39m24\u001b[90m, \u001b[39m25\u001b[90m, \u001b[39m31\u001b[90m, \u001b[39m31\u001b[90m, \u001b[39m19\u001b[90m, \u001b[39m27\u001b[90m, \u001b[39m27\u001b[90m, \u001b[39m28\u001b[90m,\u001b[39m…\n",
      "$ GP             \u001b[3m\u001b[90m<int>\u001b[39m\u001b[23m 19\u001b[90m, \u001b[39m26\u001b[90m, \u001b[39m22\u001b[90m, \u001b[39m33\u001b[90m, \u001b[39m24\u001b[90m, \u001b[39m23\u001b[90m, \u001b[39m31\u001b[90m, \u001b[39m32\u001b[90m, \u001b[39m22\u001b[90m, \u001b[39m30\u001b[90m, \u001b[39m1\u001b[90m, \u001b[39m33\u001b[90m, \u001b[39m10\u001b[90m, \u001b[39m22\u001b[90m, \u001b[39m…\n",
      "$ MIN            \u001b[3m\u001b[90m<int>\u001b[39m\u001b[23m 230\u001b[90m, \u001b[39m522\u001b[90m, \u001b[39m295\u001b[90m, \u001b[39m858\u001b[90m, \u001b[39m450\u001b[90m, \u001b[39m174\u001b[90m, \u001b[39m491\u001b[90m, \u001b[39m547\u001b[90m, \u001b[39m368\u001b[90m, \u001b[39m387\u001b[90m, \u001b[39m1\u001b[90m, \u001b[39m88…\n",
      "$ PTS            \u001b[3m\u001b[90m<int>\u001b[39m\u001b[23m 55\u001b[90m, \u001b[39m207\u001b[90m, \u001b[39m79\u001b[90m, \u001b[39m442\u001b[90m, \u001b[39m245\u001b[90m, \u001b[39m68\u001b[90m, \u001b[39m172\u001b[90m, \u001b[39m127\u001b[90m, \u001b[39m145\u001b[90m, \u001b[39m158\u001b[90m, \u001b[39m3\u001b[90m, \u001b[39m346\u001b[90m, \u001b[39m…\n",
      "$ `2PTM`         \u001b[3m\u001b[90m<int>\u001b[39m\u001b[23m 12\u001b[90m, \u001b[39m42\u001b[90m, \u001b[39m9\u001b[90m, \u001b[39m96\u001b[90m, \u001b[39m68\u001b[90m, \u001b[39m22\u001b[90m, \u001b[39m52\u001b[90m, \u001b[39m16\u001b[90m, \u001b[39m15\u001b[90m, \u001b[39m66\u001b[90m, \u001b[39m0\u001b[90m, \u001b[39m88\u001b[90m, \u001b[39m14\u001b[90m, \u001b[39m7\u001b[90m, \u001b[39m58…\n",
      "$ `2PTA`         \u001b[3m\u001b[90m<int>\u001b[39m\u001b[23m 26\u001b[90m, \u001b[39m89\u001b[90m, \u001b[39m18\u001b[90m, \u001b[39m163\u001b[90m, \u001b[39m101\u001b[90m, \u001b[39m35\u001b[90m, \u001b[39m81\u001b[90m, \u001b[39m34\u001b[90m, \u001b[39m25\u001b[90m, \u001b[39m107\u001b[90m, \u001b[39m1\u001b[90m, \u001b[39m175\u001b[90m, \u001b[39m21\u001b[90m, \u001b[39m…\n",
      "$ `3PTM`         \u001b[3m\u001b[90m<int>\u001b[39m\u001b[23m 10\u001b[90m, \u001b[39m33\u001b[90m, \u001b[39m18\u001b[90m, \u001b[39m61\u001b[90m, \u001b[39m26\u001b[90m, \u001b[39m1\u001b[90m, \u001b[39m12\u001b[90m, \u001b[39m24\u001b[90m, \u001b[39m33\u001b[90m, \u001b[39m1\u001b[90m, \u001b[39m1\u001b[90m, \u001b[39m36\u001b[90m, \u001b[39m6\u001b[90m, \u001b[39m47\u001b[90m, \u001b[39m0\u001b[90m, \u001b[39m…\n",
      "$ `3PTA`         \u001b[3m\u001b[90m<int>\u001b[39m\u001b[23m 24\u001b[90m, \u001b[39m99\u001b[90m, \u001b[39m45\u001b[90m, \u001b[39m119\u001b[90m, \u001b[39m88\u001b[90m, \u001b[39m9\u001b[90m, \u001b[39m26\u001b[90m, \u001b[39m69\u001b[90m, \u001b[39m73\u001b[90m, \u001b[39m5\u001b[90m, \u001b[39m1\u001b[90m, \u001b[39m86\u001b[90m, \u001b[39m15\u001b[90m, \u001b[39m115\u001b[90m, \u001b[39m…\n",
      "$ FGM            \u001b[3m\u001b[90m<int>\u001b[39m\u001b[23m 22\u001b[90m, \u001b[39m75\u001b[90m, \u001b[39m27\u001b[90m, \u001b[39m157\u001b[90m, \u001b[39m94\u001b[90m, \u001b[39m23\u001b[90m, \u001b[39m64\u001b[90m, \u001b[39m40\u001b[90m, \u001b[39m48\u001b[90m, \u001b[39m67\u001b[90m, \u001b[39m1\u001b[90m, \u001b[39m124\u001b[90m, \u001b[39m20\u001b[90m, \u001b[39m54…\n",
      "$ FGA            \u001b[3m\u001b[90m<int>\u001b[39m\u001b[23m 50\u001b[90m, \u001b[39m188\u001b[90m, \u001b[39m63\u001b[90m, \u001b[39m282\u001b[90m, \u001b[39m189\u001b[90m, \u001b[39m44\u001b[90m, \u001b[39m107\u001b[90m, \u001b[39m103\u001b[90m, \u001b[39m98\u001b[90m, \u001b[39m112\u001b[90m, \u001b[39m2\u001b[90m, \u001b[39m261\u001b[90m, \u001b[39m3…\n",
      "$ FTM            \u001b[3m\u001b[90m<int>\u001b[39m\u001b[23m 1\u001b[90m, \u001b[39m24\u001b[90m, \u001b[39m7\u001b[90m, \u001b[39m67\u001b[90m, \u001b[39m31\u001b[90m, \u001b[39m21\u001b[90m, \u001b[39m32\u001b[90m, \u001b[39m23\u001b[90m, \u001b[39m16\u001b[90m, \u001b[39m23\u001b[90m, \u001b[39m0\u001b[90m, \u001b[39m62\u001b[90m, \u001b[39m4\u001b[90m, \u001b[39m11\u001b[90m, \u001b[39m20\u001b[90m,\u001b[39m…\n",
      "$ FTA            \u001b[3m\u001b[90m<int>\u001b[39m\u001b[23m 3\u001b[90m, \u001b[39m45\u001b[90m, \u001b[39m8\u001b[90m, \u001b[39m76\u001b[90m, \u001b[39m40\u001b[90m, \u001b[39m30\u001b[90m, \u001b[39m44\u001b[90m, \u001b[39m31\u001b[90m, \u001b[39m18\u001b[90m, \u001b[39m29\u001b[90m, \u001b[39m0\u001b[90m, \u001b[39m85\u001b[90m, \u001b[39m5\u001b[90m, \u001b[39m14\u001b[90m, \u001b[39m34\u001b[90m,\u001b[39m…\n",
      "$ OR             \u001b[3m\u001b[90m<int>\u001b[39m\u001b[23m 18\u001b[90m, \u001b[39m14\u001b[90m, \u001b[39m6\u001b[90m, \u001b[39m38\u001b[90m, \u001b[39m8\u001b[90m, \u001b[39m13\u001b[90m, \u001b[39m32\u001b[90m, \u001b[39m13\u001b[90m, \u001b[39m14\u001b[90m, \u001b[39m35\u001b[90m, \u001b[39m0\u001b[90m, \u001b[39m40\u001b[90m, \u001b[39m14\u001b[90m, \u001b[39m5\u001b[90m, \u001b[39m30\u001b[90m,\u001b[39m…\n",
      "$ DR             \u001b[3m\u001b[90m<int>\u001b[39m\u001b[23m 29\u001b[90m, \u001b[39m62\u001b[90m, \u001b[39m39\u001b[90m, \u001b[39m122\u001b[90m, \u001b[39m34\u001b[90m, \u001b[39m16\u001b[90m, \u001b[39m36\u001b[90m, \u001b[39m46\u001b[90m, \u001b[39m30\u001b[90m, \u001b[39m45\u001b[90m, \u001b[39m0\u001b[90m, \u001b[39m98\u001b[90m, \u001b[39m18\u001b[90m, \u001b[39m28\u001b[90m,\u001b[39m…\n",
      "$ TR             \u001b[3m\u001b[90m<int>\u001b[39m\u001b[23m 47\u001b[90m, \u001b[39m76\u001b[90m, \u001b[39m45\u001b[90m, \u001b[39m160\u001b[90m, \u001b[39m42\u001b[90m, \u001b[39m29\u001b[90m, \u001b[39m68\u001b[90m, \u001b[39m59\u001b[90m, \u001b[39m44\u001b[90m, \u001b[39m80\u001b[90m, \u001b[39m0\u001b[90m, \u001b[39m138\u001b[90m, \u001b[39m32\u001b[90m, \u001b[39m33…\n",
      "$ AST            \u001b[3m\u001b[90m<int>\u001b[39m\u001b[23m 23\u001b[90m, \u001b[39m62\u001b[90m, \u001b[39m16\u001b[90m, \u001b[39m51\u001b[90m, \u001b[39m44\u001b[90m, \u001b[39m7\u001b[90m, \u001b[39m18\u001b[90m, \u001b[39m99\u001b[90m, \u001b[39m8\u001b[90m, \u001b[39m4\u001b[90m, \u001b[39m1\u001b[90m, \u001b[39m60\u001b[90m, \u001b[39m5\u001b[90m, \u001b[39m15\u001b[90m, \u001b[39m17\u001b[90m, \u001b[39m…\n",
      "$ TO             \u001b[3m\u001b[90m<int>\u001b[39m\u001b[23m 9\u001b[90m, \u001b[39m34\u001b[90m, \u001b[39m5\u001b[90m, \u001b[39m40\u001b[90m, \u001b[39m32\u001b[90m, \u001b[39m6\u001b[90m, \u001b[39m21\u001b[90m, \u001b[39m33\u001b[90m, \u001b[39m13\u001b[90m, \u001b[39m29\u001b[90m, \u001b[39m0\u001b[90m, \u001b[39m40\u001b[90m, \u001b[39m2\u001b[90m, \u001b[39m10\u001b[90m, \u001b[39m17\u001b[90m, \u001b[39m…\n",
      "$ ST             \u001b[3m\u001b[90m<int>\u001b[39m\u001b[23m 9\u001b[90m, \u001b[39m25\u001b[90m, \u001b[39m10\u001b[90m, \u001b[39m17\u001b[90m, \u001b[39m17\u001b[90m, \u001b[39m6\u001b[90m, \u001b[39m18\u001b[90m, \u001b[39m26\u001b[90m, \u001b[39m11\u001b[90m, \u001b[39m10\u001b[90m, \u001b[39m0\u001b[90m, \u001b[39m39\u001b[90m, \u001b[39m2\u001b[90m, \u001b[39m4\u001b[90m, \u001b[39m9\u001b[90m, \u001b[39m3…\n",
      "$ BLK            \u001b[3m\u001b[90m<int>\u001b[39m\u001b[23m 7\u001b[90m, \u001b[39m8\u001b[90m, \u001b[39m1\u001b[90m, \u001b[39m4\u001b[90m, \u001b[39m4\u001b[90m, \u001b[39m10\u001b[90m, \u001b[39m12\u001b[90m, \u001b[39m4\u001b[90m, \u001b[39m7\u001b[90m, \u001b[39m11\u001b[90m, \u001b[39m0\u001b[90m, \u001b[39m11\u001b[90m, \u001b[39m8\u001b[90m, \u001b[39m0\u001b[90m, \u001b[39m10\u001b[90m, \u001b[39m16\u001b[90m, \u001b[39m2…\n",
      "$ BLKA           \u001b[3m\u001b[90m<int>\u001b[39m\u001b[23m 1\u001b[90m, \u001b[39m5\u001b[90m, \u001b[39m2\u001b[90m, \u001b[39m11\u001b[90m, \u001b[39m6\u001b[90m, \u001b[39m3\u001b[90m, \u001b[39m2\u001b[90m, \u001b[39m3\u001b[90m, \u001b[39m0\u001b[90m, \u001b[39m7\u001b[90m, \u001b[39m0\u001b[90m, \u001b[39m13\u001b[90m, \u001b[39m1\u001b[90m, \u001b[39m2\u001b[90m, \u001b[39m3\u001b[90m, \u001b[39m6\u001b[90m, \u001b[39m5\u001b[90m, \u001b[39m0\u001b[90m,\u001b[39m…\n",
      "$ PF             \u001b[3m\u001b[90m<int>\u001b[39m\u001b[23m 27\u001b[90m, \u001b[39m51\u001b[90m, \u001b[39m25\u001b[90m, \u001b[39m76\u001b[90m, \u001b[39m43\u001b[90m, \u001b[39m36\u001b[90m, \u001b[39m69\u001b[90m, \u001b[39m86\u001b[90m, \u001b[39m47\u001b[90m, \u001b[39m74\u001b[90m, \u001b[39m0\u001b[90m, \u001b[39m86\u001b[90m, \u001b[39m22\u001b[90m, \u001b[39m25\u001b[90m, \u001b[39m…\n",
      "$ DF             \u001b[3m\u001b[90m<int>\u001b[39m\u001b[23m 14\u001b[90m, \u001b[39m59\u001b[90m, \u001b[39m9\u001b[90m, \u001b[39m73\u001b[90m, \u001b[39m43\u001b[90m, \u001b[39m28\u001b[90m, \u001b[39m53\u001b[90m, \u001b[39m44\u001b[90m, \u001b[39m37\u001b[90m, \u001b[39m39\u001b[90m, \u001b[39m0\u001b[90m, \u001b[39m93\u001b[90m, \u001b[39m9\u001b[90m, \u001b[39m19\u001b[90m, \u001b[39m42…\n",
      "$ VAL            \u001b[3m\u001b[90m<int>\u001b[39m\u001b[23m 88\u001b[90m, \u001b[39m213\u001b[90m, \u001b[39m91\u001b[90m, \u001b[39m486\u001b[90m, \u001b[39m210\u001b[90m, \u001b[39m73\u001b[90m, \u001b[39m194\u001b[90m, \u001b[39m166\u001b[90m, \u001b[39m140\u001b[90m, \u001b[39m141\u001b[90m, \u001b[39m3\u001b[90m, \u001b[39m388\u001b[90m, \u001b[39m…\n",
      "$ `+ / -`        \u001b[3m\u001b[90m<int>\u001b[39m\u001b[23m 4\u001b[90m, \u001b[39m-37\u001b[90m, \u001b[39m45\u001b[90m, \u001b[39m111\u001b[90m, \u001b[39m46\u001b[90m, \u001b[39m-12\u001b[90m, \u001b[39m-63\u001b[90m, \u001b[39m-7\u001b[90m, \u001b[39m52\u001b[90m, \u001b[39m7\u001b[90m, \u001b[39m6\u001b[90m, \u001b[39m65\u001b[90m, \u001b[39m33\u001b[90m, \u001b[39m-2…\n",
      "$ POSS           \u001b[3m\u001b[90m<int>\u001b[39m\u001b[23m 60\u001b[90m, \u001b[39m243\u001b[90m, \u001b[39m72\u001b[90m, \u001b[39m349\u001b[90m, \u001b[39m238\u001b[90m, \u001b[39m62\u001b[90m, \u001b[39m147\u001b[90m, \u001b[39m150\u001b[90m, \u001b[39m118\u001b[90m, \u001b[39m152\u001b[90m, \u001b[39m2\u001b[90m, \u001b[39m339\u001b[90m, \u001b[39m…\n",
      "$ ASTED_2FG      \u001b[3m\u001b[90m<int>\u001b[39m\u001b[23m 5\u001b[90m, \u001b[39m13\u001b[90m, \u001b[39m2\u001b[90m, \u001b[39m73\u001b[90m, \u001b[39m18\u001b[90m, \u001b[39m19\u001b[90m, \u001b[39m24\u001b[90m, \u001b[39m4\u001b[90m, \u001b[39m3\u001b[90m, \u001b[39m49\u001b[90m, \u001b[39m0\u001b[90m, \u001b[39m36\u001b[90m, \u001b[39m9\u001b[90m, \u001b[39m0\u001b[90m, \u001b[39m46\u001b[90m, \u001b[39m24…\n",
      "$ ASTED_3FG      \u001b[3m\u001b[90m<int>\u001b[39m\u001b[23m 10\u001b[90m, \u001b[39m20\u001b[90m, \u001b[39m13\u001b[90m, \u001b[39m60\u001b[90m, \u001b[39m14\u001b[90m, \u001b[39m1\u001b[90m, \u001b[39m12\u001b[90m, \u001b[39m24\u001b[90m, \u001b[39m31\u001b[90m, \u001b[39m1\u001b[90m, \u001b[39m1\u001b[90m, \u001b[39m32\u001b[90m, \u001b[39m5\u001b[90m, \u001b[39m37\u001b[90m, \u001b[39m0\u001b[90m, \u001b[39m…\n",
      "$ ASTED_FT       \u001b[3m\u001b[90m<int>\u001b[39m\u001b[23m 1\u001b[90m, \u001b[39m4\u001b[90m, \u001b[39m0\u001b[90m, \u001b[39m13\u001b[90m, \u001b[39m0\u001b[90m, \u001b[39m8\u001b[90m, \u001b[39m6\u001b[90m, \u001b[39m1\u001b[90m, \u001b[39m2\u001b[90m, \u001b[39m6\u001b[90m, \u001b[39m0\u001b[90m, \u001b[39m5\u001b[90m, \u001b[39m1\u001b[90m, \u001b[39m2\u001b[90m, \u001b[39m4\u001b[90m, \u001b[39m4\u001b[90m, \u001b[39m2\u001b[90m, \u001b[39m2\u001b[90m, \u001b[39m…\n",
      "$ `ASTED_FT PTS` \u001b[3m\u001b[90m<int>\u001b[39m\u001b[23m 2\u001b[90m, \u001b[39m4\u001b[90m, \u001b[39m0\u001b[90m, \u001b[39m23\u001b[90m, \u001b[39m0\u001b[90m, \u001b[39m16\u001b[90m, \u001b[39m6\u001b[90m, \u001b[39m2\u001b[90m, \u001b[39m4\u001b[90m, \u001b[39m12\u001b[90m, \u001b[39m0\u001b[90m, \u001b[39m10\u001b[90m, \u001b[39m0\u001b[90m, \u001b[39m6\u001b[90m, \u001b[39m6\u001b[90m, \u001b[39m2\u001b[90m, \u001b[39m4\u001b[90m, \u001b[39m…\n",
      "$ `AST (2P)`     \u001b[3m\u001b[90m<int>\u001b[39m\u001b[23m 8\u001b[90m, \u001b[39m35\u001b[90m, \u001b[39m9\u001b[90m, \u001b[39m29\u001b[90m, \u001b[39m17\u001b[90m, \u001b[39m3\u001b[90m, \u001b[39m9\u001b[90m, \u001b[39m53\u001b[90m, \u001b[39m4\u001b[90m, \u001b[39m1\u001b[90m, \u001b[39m0\u001b[90m, \u001b[39m29\u001b[90m, \u001b[39m3\u001b[90m, \u001b[39m7\u001b[90m, \u001b[39m6\u001b[90m, \u001b[39m13\u001b[90m, \u001b[39m1…\n",
      "$ `AST (3P)`     \u001b[3m\u001b[90m<int>\u001b[39m\u001b[23m 12\u001b[90m, \u001b[39m17\u001b[90m, \u001b[39m5\u001b[90m, \u001b[39m19\u001b[90m, \u001b[39m22\u001b[90m, \u001b[39m4\u001b[90m, \u001b[39m8\u001b[90m, \u001b[39m38\u001b[90m, \u001b[39m4\u001b[90m, \u001b[39m2\u001b[90m, \u001b[39m1\u001b[90m, \u001b[39m20\u001b[90m, \u001b[39m2\u001b[90m, \u001b[39m7\u001b[90m, \u001b[39m9\u001b[90m, \u001b[39m7\u001b[90m, \u001b[39m4…\n",
      "$ `AST (FT)`     \u001b[3m\u001b[90m<int>\u001b[39m\u001b[23m 3\u001b[90m, \u001b[39m10\u001b[90m, \u001b[39m2\u001b[90m, \u001b[39m2\u001b[90m, \u001b[39m5\u001b[90m, \u001b[39m0\u001b[90m, \u001b[39m1\u001b[90m, \u001b[39m8\u001b[90m, \u001b[39m0\u001b[90m, \u001b[39m1\u001b[90m, \u001b[39m0\u001b[90m, \u001b[39m11\u001b[90m, \u001b[39m0\u001b[90m, \u001b[39m1\u001b[90m, \u001b[39m2\u001b[90m, \u001b[39m2\u001b[90m, \u001b[39m3\u001b[90m, \u001b[39m0\u001b[90m,\u001b[39m…\n",
      "$ `AST PTS (FT)` \u001b[3m\u001b[90m<int>\u001b[39m\u001b[23m 4\u001b[90m, \u001b[39m14\u001b[90m, \u001b[39m4\u001b[90m, \u001b[39m4\u001b[90m, \u001b[39m10\u001b[90m, \u001b[39m0\u001b[90m, \u001b[39m2\u001b[90m, \u001b[39m10\u001b[90m, \u001b[39m0\u001b[90m, \u001b[39m2\u001b[90m, \u001b[39m0\u001b[90m, \u001b[39m20\u001b[90m, \u001b[39m0\u001b[90m, \u001b[39m2\u001b[90m, \u001b[39m2\u001b[90m, \u001b[39m4\u001b[90m, \u001b[39m6\u001b[90m, \u001b[39m…\n",
      "$ LTO            \u001b[3m\u001b[90m<int>\u001b[39m\u001b[23m 3\u001b[90m, \u001b[39m20\u001b[90m, \u001b[39m2\u001b[90m, \u001b[39m28\u001b[90m, \u001b[39m19\u001b[90m, \u001b[39m0\u001b[90m, \u001b[39m13\u001b[90m, \u001b[39m23\u001b[90m, \u001b[39m7\u001b[90m, \u001b[39m10\u001b[90m, \u001b[39m0\u001b[90m, \u001b[39m23\u001b[90m, \u001b[39m1\u001b[90m, \u001b[39m7\u001b[90m, \u001b[39m6\u001b[90m, \u001b[39m8\u001b[90m, \u001b[39m…\n",
      "$ DTO            \u001b[3m\u001b[90m<int>\u001b[39m\u001b[23m 6\u001b[90m, \u001b[39m14\u001b[90m, \u001b[39m3\u001b[90m, \u001b[39m12\u001b[90m, \u001b[39m13\u001b[90m, \u001b[39m6\u001b[90m, \u001b[39m8\u001b[90m, \u001b[39m10\u001b[90m, \u001b[39m6\u001b[90m, \u001b[39m19\u001b[90m, \u001b[39m0\u001b[90m, \u001b[39m17\u001b[90m, \u001b[39m1\u001b[90m, \u001b[39m3\u001b[90m, \u001b[39m11\u001b[90m, \u001b[39m6\u001b[90m, \u001b[39m…\n",
      "$ BLK2           \u001b[3m\u001b[90m<int>\u001b[39m\u001b[23m 6\u001b[90m, \u001b[39m3\u001b[90m, \u001b[39m1\u001b[90m, \u001b[39m3\u001b[90m, \u001b[39m2\u001b[90m, \u001b[39m9\u001b[90m, \u001b[39m10\u001b[90m, \u001b[39m4\u001b[90m, \u001b[39m5\u001b[90m, \u001b[39m11\u001b[90m, \u001b[39m0\u001b[90m, \u001b[39m9\u001b[90m, \u001b[39m6\u001b[90m, \u001b[39m0\u001b[90m, \u001b[39m9\u001b[90m, \u001b[39m8\u001b[90m, \u001b[39m2\u001b[90m, \u001b[39m0\u001b[90m,\u001b[39m…\n",
      "$ BLK3           \u001b[3m\u001b[90m<int>\u001b[39m\u001b[23m 0\u001b[90m, \u001b[39m0\u001b[90m, \u001b[39m0\u001b[90m, \u001b[39m0\u001b[90m, \u001b[39m2\u001b[90m, \u001b[39m0\u001b[90m, \u001b[39m1\u001b[90m, \u001b[39m0\u001b[90m, \u001b[39m1\u001b[90m, \u001b[39m0\u001b[90m, \u001b[39m0\u001b[90m, \u001b[39m2\u001b[90m, \u001b[39m0\u001b[90m, \u001b[39m0\u001b[90m, \u001b[39m0\u001b[90m, \u001b[39m1\u001b[90m, \u001b[39m0\u001b[90m, \u001b[39m0\u001b[90m, \u001b[39m0…\n",
      "$ OR_RIM         \u001b[3m\u001b[90m<int>\u001b[39m\u001b[23m 2\u001b[90m, \u001b[39m0\u001b[90m, \u001b[39m1\u001b[90m, \u001b[39m5\u001b[90m, \u001b[39m2\u001b[90m, \u001b[39m1\u001b[90m, \u001b[39m3\u001b[90m, \u001b[39m1\u001b[90m, \u001b[39m1\u001b[90m, \u001b[39m3\u001b[90m, \u001b[39m0\u001b[90m, \u001b[39m3\u001b[90m, \u001b[39m0\u001b[90m, \u001b[39m0\u001b[90m, \u001b[39m2\u001b[90m, \u001b[39m3\u001b[90m, \u001b[39m1\u001b[90m, \u001b[39m0\u001b[90m, \u001b[39m2…\n",
      "$ OR_PAINT       \u001b[3m\u001b[90m<int>\u001b[39m\u001b[23m 4\u001b[90m, \u001b[39m7\u001b[90m, \u001b[39m1\u001b[90m, \u001b[39m7\u001b[90m, \u001b[39m1\u001b[90m, \u001b[39m6\u001b[90m, \u001b[39m13\u001b[90m, \u001b[39m1\u001b[90m, \u001b[39m3\u001b[90m, \u001b[39m16\u001b[90m, \u001b[39m0\u001b[90m, \u001b[39m16\u001b[90m, \u001b[39m4\u001b[90m, \u001b[39m3\u001b[90m, \u001b[39m12\u001b[90m, \u001b[39m8\u001b[90m, \u001b[39m4\u001b[90m, \u001b[39m…\n",
      "$ OR_NP2         \u001b[3m\u001b[90m<int>\u001b[39m\u001b[23m 2\u001b[90m, \u001b[39m1\u001b[90m, \u001b[39m0\u001b[90m, \u001b[39m2\u001b[90m, \u001b[39m0\u001b[90m, \u001b[39m1\u001b[90m, \u001b[39m5\u001b[90m, \u001b[39m4\u001b[90m, \u001b[39m2\u001b[90m, \u001b[39m6\u001b[90m, \u001b[39m0\u001b[90m, \u001b[39m5\u001b[90m, \u001b[39m1\u001b[90m, \u001b[39m0\u001b[90m, \u001b[39m5\u001b[90m, \u001b[39m4\u001b[90m, \u001b[39m3\u001b[90m, \u001b[39m1\u001b[90m, \u001b[39m3…\n",
      "$ OR_3C          \u001b[3m\u001b[90m<int>\u001b[39m\u001b[23m 3\u001b[90m, \u001b[39m1\u001b[90m, \u001b[39m0\u001b[90m, \u001b[39m5\u001b[90m, \u001b[39m1\u001b[90m, \u001b[39m0\u001b[90m, \u001b[39m0\u001b[90m, \u001b[39m0\u001b[90m, \u001b[39m1\u001b[90m, \u001b[39m1\u001b[90m, \u001b[39m0\u001b[90m, \u001b[39m1\u001b[90m, \u001b[39m1\u001b[90m, \u001b[39m0\u001b[90m, \u001b[39m1\u001b[90m, \u001b[39m0\u001b[90m, \u001b[39m0\u001b[90m, \u001b[39m0\u001b[90m, \u001b[39m0…\n",
      "$ OR_3L          \u001b[3m\u001b[90m<int>\u001b[39m\u001b[23m 5\u001b[90m, \u001b[39m4\u001b[90m, \u001b[39m4\u001b[90m, \u001b[39m17\u001b[90m, \u001b[39m4\u001b[90m, \u001b[39m5\u001b[90m, \u001b[39m11\u001b[90m, \u001b[39m6\u001b[90m, \u001b[39m7\u001b[90m, \u001b[39m9\u001b[90m, \u001b[39m0\u001b[90m, \u001b[39m14\u001b[90m, \u001b[39m8\u001b[90m, \u001b[39m1\u001b[90m, \u001b[39m8\u001b[90m, \u001b[39m13\u001b[90m, \u001b[39m8\u001b[90m, \u001b[39m…\n",
      "$ OR_FT          \u001b[3m\u001b[90m<int>\u001b[39m\u001b[23m 2\u001b[90m, \u001b[39m1\u001b[90m, \u001b[39m0\u001b[90m, \u001b[39m2\u001b[90m, \u001b[39m0\u001b[90m, \u001b[39m0\u001b[90m, \u001b[39m0\u001b[90m, \u001b[39m1\u001b[90m, \u001b[39m0\u001b[90m, \u001b[39m0\u001b[90m, \u001b[39m0\u001b[90m, \u001b[39m1\u001b[90m, \u001b[39m0\u001b[90m, \u001b[39m1\u001b[90m, \u001b[39m2\u001b[90m, \u001b[39m4\u001b[90m, \u001b[39m1\u001b[90m, \u001b[39m0\u001b[90m, \u001b[39m0…\n",
      "$ DR_RIM         \u001b[3m\u001b[90m<int>\u001b[39m\u001b[23m 2\u001b[90m, \u001b[39m1\u001b[90m, \u001b[39m4\u001b[90m, \u001b[39m12\u001b[90m, \u001b[39m1\u001b[90m, \u001b[39m1\u001b[90m, \u001b[39m5\u001b[90m, \u001b[39m2\u001b[90m, \u001b[39m1\u001b[90m, \u001b[39m5\u001b[90m, \u001b[39m0\u001b[90m, \u001b[39m5\u001b[90m, \u001b[39m0\u001b[90m, \u001b[39m1\u001b[90m, \u001b[39m3\u001b[90m, \u001b[39m2\u001b[90m, \u001b[39m3\u001b[90m, \u001b[39m1\u001b[90m, \u001b[39m…\n",
      "$ DR_PAINT       \u001b[3m\u001b[90m<int>\u001b[39m\u001b[23m 10\u001b[90m, \u001b[39m10\u001b[90m, \u001b[39m9\u001b[90m, \u001b[39m31\u001b[90m, \u001b[39m8\u001b[90m, \u001b[39m1\u001b[90m, \u001b[39m16\u001b[90m, \u001b[39m14\u001b[90m, \u001b[39m10\u001b[90m, \u001b[39m17\u001b[90m, \u001b[39m0\u001b[90m, \u001b[39m27\u001b[90m, \u001b[39m9\u001b[90m, \u001b[39m9\u001b[90m, \u001b[39m22\u001b[90m, \u001b[39m5…\n",
      "$ DR_NP2         \u001b[3m\u001b[90m<int>\u001b[39m\u001b[23m 3\u001b[90m, \u001b[39m10\u001b[90m, \u001b[39m5\u001b[90m, \u001b[39m20\u001b[90m, \u001b[39m4\u001b[90m, \u001b[39m4\u001b[90m, \u001b[39m2\u001b[90m, \u001b[39m9\u001b[90m, \u001b[39m3\u001b[90m, \u001b[39m3\u001b[90m, \u001b[39m0\u001b[90m, \u001b[39m12\u001b[90m, \u001b[39m3\u001b[90m, \u001b[39m6\u001b[90m, \u001b[39m5\u001b[90m, \u001b[39m4\u001b[90m, \u001b[39m8\u001b[90m, \u001b[39m3…\n",
      "$ DR_3C          \u001b[3m\u001b[90m<int>\u001b[39m\u001b[23m 0\u001b[90m, \u001b[39m1\u001b[90m, \u001b[39m0\u001b[90m, \u001b[39m6\u001b[90m, \u001b[39m3\u001b[90m, \u001b[39m2\u001b[90m, \u001b[39m3\u001b[90m, \u001b[39m3\u001b[90m, \u001b[39m0\u001b[90m, \u001b[39m0\u001b[90m, \u001b[39m0\u001b[90m, \u001b[39m4\u001b[90m, \u001b[39m0\u001b[90m, \u001b[39m2\u001b[90m, \u001b[39m2\u001b[90m, \u001b[39m0\u001b[90m, \u001b[39m7\u001b[90m, \u001b[39m1\u001b[90m, \u001b[39m1…\n",
      "$ DR_3L          \u001b[3m\u001b[90m<int>\u001b[39m\u001b[23m 12\u001b[90m, \u001b[39m35\u001b[90m, \u001b[39m20\u001b[90m, \u001b[39m45\u001b[90m, \u001b[39m17\u001b[90m, \u001b[39m5\u001b[90m, \u001b[39m8\u001b[90m, \u001b[39m17\u001b[90m, \u001b[39m13\u001b[90m, \u001b[39m14\u001b[90m, \u001b[39m0\u001b[90m, \u001b[39m39\u001b[90m, \u001b[39m5\u001b[90m, \u001b[39m9\u001b[90m, \u001b[39m13\u001b[90m, \u001b[39m…\n",
      "$ DR_FT          \u001b[3m\u001b[90m<int>\u001b[39m\u001b[23m 2\u001b[90m, \u001b[39m5\u001b[90m, \u001b[39m1\u001b[90m, \u001b[39m8\u001b[90m, \u001b[39m1\u001b[90m, \u001b[39m3\u001b[90m, \u001b[39m2\u001b[90m, \u001b[39m1\u001b[90m, \u001b[39m3\u001b[90m, \u001b[39m6\u001b[90m, \u001b[39m0\u001b[90m, \u001b[39m10\u001b[90m, \u001b[39m1\u001b[90m, \u001b[39m1\u001b[90m, \u001b[39m1\u001b[90m, \u001b[39m0\u001b[90m, \u001b[39m6\u001b[90m, \u001b[39m1\u001b[90m, \u001b[39m…\n",
      "$ FTM_T          \u001b[3m\u001b[90m<int>\u001b[39m\u001b[23m 0\u001b[90m, \u001b[39m0\u001b[90m, \u001b[39m0\u001b[90m, \u001b[39m8\u001b[90m, \u001b[39m0\u001b[90m, \u001b[39m0\u001b[90m, \u001b[39m0\u001b[90m, \u001b[39m0\u001b[90m, \u001b[39m2\u001b[90m, \u001b[39m0\u001b[90m, \u001b[39m0\u001b[90m, \u001b[39m0\u001b[90m, \u001b[39m0\u001b[90m, \u001b[39m0\u001b[90m, \u001b[39m0\u001b[90m, \u001b[39m0\u001b[90m, \u001b[39m0\u001b[90m, \u001b[39m0\u001b[90m, \u001b[39m0…\n",
      "$ FTA_T          \u001b[3m\u001b[90m<int>\u001b[39m\u001b[23m 0\u001b[90m, \u001b[39m0\u001b[90m, \u001b[39m0\u001b[90m, \u001b[39m10\u001b[90m, \u001b[39m0\u001b[90m, \u001b[39m0\u001b[90m, \u001b[39m0\u001b[90m, \u001b[39m0\u001b[90m, \u001b[39m2\u001b[90m, \u001b[39m0\u001b[90m, \u001b[39m0\u001b[90m, \u001b[39m0\u001b[90m, \u001b[39m0\u001b[90m, \u001b[39m0\u001b[90m, \u001b[39m0\u001b[90m, \u001b[39m0\u001b[90m, \u001b[39m0\u001b[90m, \u001b[39m0\u001b[90m, \u001b[39m…\n",
      "$ FTM_1          \u001b[3m\u001b[90m<int>\u001b[39m\u001b[23m 0\u001b[90m, \u001b[39m2\u001b[90m, \u001b[39m0\u001b[90m, \u001b[39m11\u001b[90m, \u001b[39m4\u001b[90m, \u001b[39m3\u001b[90m, \u001b[39m6\u001b[90m, \u001b[39m2\u001b[90m, \u001b[39m2\u001b[90m, \u001b[39m6\u001b[90m, \u001b[39m0\u001b[90m, \u001b[39m8\u001b[90m, \u001b[39m1\u001b[90m, \u001b[39m0\u001b[90m, \u001b[39m2\u001b[90m, \u001b[39m5\u001b[90m, \u001b[39m2\u001b[90m, \u001b[39m0\u001b[90m, \u001b[39m…\n",
      "$ FTA_1          \u001b[3m\u001b[90m<int>\u001b[39m\u001b[23m 1\u001b[90m, \u001b[39m3\u001b[90m, \u001b[39m0\u001b[90m, \u001b[39m12\u001b[90m, \u001b[39m6\u001b[90m, \u001b[39m5\u001b[90m, \u001b[39m6\u001b[90m, \u001b[39m2\u001b[90m, \u001b[39m2\u001b[90m, \u001b[39m7\u001b[90m, \u001b[39m0\u001b[90m, \u001b[39m9\u001b[90m, \u001b[39m1\u001b[90m, \u001b[39m0\u001b[90m, \u001b[39m3\u001b[90m, \u001b[39m6\u001b[90m, \u001b[39m5\u001b[90m, \u001b[39m0\u001b[90m, \u001b[39m…\n",
      "$ FTM_2          \u001b[3m\u001b[90m<int>\u001b[39m\u001b[23m 1\u001b[90m, \u001b[39m22\u001b[90m, \u001b[39m7\u001b[90m, \u001b[39m44\u001b[90m, \u001b[39m27\u001b[90m, \u001b[39m17\u001b[90m, \u001b[39m26\u001b[90m, \u001b[39m19\u001b[90m, \u001b[39m12\u001b[90m, \u001b[39m17\u001b[90m, \u001b[39m0\u001b[90m, \u001b[39m54\u001b[90m, \u001b[39m3\u001b[90m, \u001b[39m5\u001b[90m, \u001b[39m18\u001b[90m, \u001b[39m…\n",
      "$ FTA_2          \u001b[3m\u001b[90m<int>\u001b[39m\u001b[23m 2\u001b[90m, \u001b[39m42\u001b[90m, \u001b[39m8\u001b[90m, \u001b[39m50\u001b[90m, \u001b[39m34\u001b[90m, \u001b[39m24\u001b[90m, \u001b[39m38\u001b[90m, \u001b[39m26\u001b[90m, \u001b[39m14\u001b[90m, \u001b[39m22\u001b[90m, \u001b[39m0\u001b[90m, \u001b[39m76\u001b[90m, \u001b[39m4\u001b[90m, \u001b[39m8\u001b[90m, \u001b[39m30\u001b[90m, \u001b[39m…\n",
      "$ `FT 0/2`       \u001b[3m\u001b[90m<int>\u001b[39m\u001b[23m 0\u001b[90m, \u001b[39m4\u001b[90m, \u001b[39m0\u001b[90m, \u001b[39m0\u001b[90m, \u001b[39m0\u001b[90m, \u001b[39m2\u001b[90m, \u001b[39m2\u001b[90m, \u001b[39m1\u001b[90m, \u001b[39m0\u001b[90m, \u001b[39m0\u001b[90m, \u001b[39m0\u001b[90m, \u001b[39m5\u001b[90m, \u001b[39m0\u001b[90m, \u001b[39m0\u001b[90m, \u001b[39m2\u001b[90m, \u001b[39m3\u001b[90m, \u001b[39m1\u001b[90m, \u001b[39m0\u001b[90m, \u001b[39m0…\n",
      "$ FTM_3          \u001b[3m\u001b[90m<int>\u001b[39m\u001b[23m 0\u001b[90m, \u001b[39m0\u001b[90m, \u001b[39m0\u001b[90m, \u001b[39m4\u001b[90m, \u001b[39m0\u001b[90m, \u001b[39m0\u001b[90m, \u001b[39m0\u001b[90m, \u001b[39m2\u001b[90m, \u001b[39m0\u001b[90m, \u001b[39m0\u001b[90m, \u001b[39m0\u001b[90m, \u001b[39m0\u001b[90m, \u001b[39m0\u001b[90m, \u001b[39m6\u001b[90m, \u001b[39m0\u001b[90m, \u001b[39m0\u001b[90m, \u001b[39m0\u001b[90m, \u001b[39m2\u001b[90m, \u001b[39m0…\n",
      "$ FTA_3          \u001b[3m\u001b[90m<int>\u001b[39m\u001b[23m 0\u001b[90m, \u001b[39m0\u001b[90m, \u001b[39m0\u001b[90m, \u001b[39m4\u001b[90m, \u001b[39m0\u001b[90m, \u001b[39m0\u001b[90m, \u001b[39m0\u001b[90m, \u001b[39m3\u001b[90m, \u001b[39m0\u001b[90m, \u001b[39m0\u001b[90m, \u001b[39m0\u001b[90m, \u001b[39m0\u001b[90m, \u001b[39m0\u001b[90m, \u001b[39m6\u001b[90m, \u001b[39m0\u001b[90m, \u001b[39m0\u001b[90m, \u001b[39m0\u001b[90m, \u001b[39m3\u001b[90m, \u001b[39m0…\n",
      "$ `FT 0/3`       \u001b[3m\u001b[90m<int>\u001b[39m\u001b[23m 0\u001b[90m, \u001b[39m0\u001b[90m, \u001b[39m0\u001b[90m, \u001b[39m0\u001b[90m, \u001b[39m0\u001b[90m, \u001b[39m0\u001b[90m, \u001b[39m0\u001b[90m, \u001b[39m0\u001b[90m, \u001b[39m0\u001b[90m, \u001b[39m0\u001b[90m, \u001b[39m0\u001b[90m, \u001b[39m0\u001b[90m, \u001b[39m0\u001b[90m, \u001b[39m0\u001b[90m, \u001b[39m0\u001b[90m, \u001b[39m0\u001b[90m, \u001b[39m0\u001b[90m, \u001b[39m0\u001b[90m, \u001b[39m0…\n",
      "$ RIM_M          \u001b[3m\u001b[90m<int>\u001b[39m\u001b[23m 4\u001b[90m, \u001b[39m11\u001b[90m, \u001b[39m2\u001b[90m, \u001b[39m45\u001b[90m, \u001b[39m33\u001b[90m, \u001b[39m15\u001b[90m, \u001b[39m35\u001b[90m, \u001b[39m1\u001b[90m, \u001b[39m4\u001b[90m, \u001b[39m51\u001b[90m, \u001b[39m0\u001b[90m, \u001b[39m31\u001b[90m, \u001b[39m5\u001b[90m, \u001b[39m2\u001b[90m, \u001b[39m27\u001b[90m, \u001b[39m29…\n",
      "$ RIM_A          \u001b[3m\u001b[90m<int>\u001b[39m\u001b[23m 6\u001b[90m, \u001b[39m14\u001b[90m, \u001b[39m3\u001b[90m, \u001b[39m56\u001b[90m, \u001b[39m42\u001b[90m, \u001b[39m19\u001b[90m, \u001b[39m42\u001b[90m, \u001b[39m2\u001b[90m, \u001b[39m5\u001b[90m, \u001b[39m63\u001b[90m, \u001b[39m0\u001b[90m, \u001b[39m46\u001b[90m, \u001b[39m6\u001b[90m, \u001b[39m3\u001b[90m, \u001b[39m34\u001b[90m, \u001b[39m35…\n",
      "$ PAINT_M        \u001b[3m\u001b[90m<int>\u001b[39m\u001b[23m 8\u001b[90m, \u001b[39m28\u001b[90m, \u001b[39m5\u001b[90m, \u001b[39m30\u001b[90m, \u001b[39m33\u001b[90m, \u001b[39m7\u001b[90m, \u001b[39m12\u001b[90m, \u001b[39m14\u001b[90m, \u001b[39m8\u001b[90m, \u001b[39m14\u001b[90m, \u001b[39m0\u001b[90m, \u001b[39m50\u001b[90m, \u001b[39m8\u001b[90m, \u001b[39m2\u001b[90m, \u001b[39m30\u001b[90m, \u001b[39m20…\n",
      "$ PAINT_A        \u001b[3m\u001b[90m<int>\u001b[39m\u001b[23m 20\u001b[90m, \u001b[39m65\u001b[90m, \u001b[39m12\u001b[90m, \u001b[39m55\u001b[90m, \u001b[39m53\u001b[90m, \u001b[39m14\u001b[90m, \u001b[39m29\u001b[90m, \u001b[39m27\u001b[90m, \u001b[39m15\u001b[90m, \u001b[39m38\u001b[90m, \u001b[39m1\u001b[90m, \u001b[39m102\u001b[90m, \u001b[39m14\u001b[90m, \u001b[39m8\u001b[90m, \u001b[39m…\n",
      "$ MID_M          \u001b[3m\u001b[90m<int>\u001b[39m\u001b[23m 0\u001b[90m, \u001b[39m3\u001b[90m, \u001b[39m2\u001b[90m, \u001b[39m21\u001b[90m, \u001b[39m2\u001b[90m, \u001b[39m0\u001b[90m, \u001b[39m5\u001b[90m, \u001b[39m1\u001b[90m, \u001b[39m3\u001b[90m, \u001b[39m1\u001b[90m, \u001b[39m0\u001b[90m, \u001b[39m7\u001b[90m, \u001b[39m1\u001b[90m, \u001b[39m3\u001b[90m, \u001b[39m1\u001b[90m, \u001b[39m1\u001b[90m, \u001b[39m1\u001b[90m, \u001b[39m1\u001b[90m, \u001b[39m…\n",
      "$ MID_A          \u001b[3m\u001b[90m<int>\u001b[39m\u001b[23m 0\u001b[90m, \u001b[39m10\u001b[90m, \u001b[39m3\u001b[90m, \u001b[39m52\u001b[90m, \u001b[39m6\u001b[90m, \u001b[39m2\u001b[90m, \u001b[39m10\u001b[90m, \u001b[39m5\u001b[90m, \u001b[39m5\u001b[90m, \u001b[39m6\u001b[90m, \u001b[39m0\u001b[90m, \u001b[39m27\u001b[90m, \u001b[39m1\u001b[90m, \u001b[39m5\u001b[90m, \u001b[39m2\u001b[90m, \u001b[39m7\u001b[90m, \u001b[39m3\u001b[90m, \u001b[39m…\n",
      "$ `3C_M`         \u001b[3m\u001b[90m<int>\u001b[39m\u001b[23m 1\u001b[90m, \u001b[39m4\u001b[90m, \u001b[39m0\u001b[90m, \u001b[39m14\u001b[90m, \u001b[39m0\u001b[90m, \u001b[39m0\u001b[90m, \u001b[39m1\u001b[90m, \u001b[39m1\u001b[90m, \u001b[39m2\u001b[90m, \u001b[39m1\u001b[90m, \u001b[39m0\u001b[90m, \u001b[39m0\u001b[90m, \u001b[39m2\u001b[90m, \u001b[39m5\u001b[90m, \u001b[39m0\u001b[90m, \u001b[39m4\u001b[90m, \u001b[39m2\u001b[90m, \u001b[39m2\u001b[90m, \u001b[39m…\n",
      "$ `3C_A`         \u001b[3m\u001b[90m<int>\u001b[39m\u001b[23m 3\u001b[90m, \u001b[39m5\u001b[90m, \u001b[39m1\u001b[90m, \u001b[39m22\u001b[90m, \u001b[39m5\u001b[90m, \u001b[39m0\u001b[90m, \u001b[39m1\u001b[90m, \u001b[39m4\u001b[90m, \u001b[39m6\u001b[90m, \u001b[39m2\u001b[90m, \u001b[39m0\u001b[90m, \u001b[39m5\u001b[90m, \u001b[39m3\u001b[90m, \u001b[39m9\u001b[90m, \u001b[39m0\u001b[90m, \u001b[39m18\u001b[90m, \u001b[39m8\u001b[90m, \u001b[39m7\u001b[90m,\u001b[39m…\n",
      "$ `3L_M`         \u001b[3m\u001b[90m<int>\u001b[39m\u001b[23m 9\u001b[90m, \u001b[39m29\u001b[90m, \u001b[39m18\u001b[90m, \u001b[39m47\u001b[90m, \u001b[39m26\u001b[90m, \u001b[39m1\u001b[90m, \u001b[39m11\u001b[90m, \u001b[39m23\u001b[90m, \u001b[39m31\u001b[90m, \u001b[39m0\u001b[90m, \u001b[39m1\u001b[90m, \u001b[39m36\u001b[90m, \u001b[39m4\u001b[90m, \u001b[39m42\u001b[90m, \u001b[39m0\u001b[90m, \u001b[39m8…\n",
      "$ `3L_A`         \u001b[3m\u001b[90m<int>\u001b[39m\u001b[23m 21\u001b[90m, \u001b[39m93\u001b[90m, \u001b[39m44\u001b[90m, \u001b[39m97\u001b[90m, \u001b[39m80\u001b[90m, \u001b[39m9\u001b[90m, \u001b[39m25\u001b[90m, \u001b[39m63\u001b[90m, \u001b[39m66\u001b[90m, \u001b[39m2\u001b[90m, \u001b[39m1\u001b[90m, \u001b[39m81\u001b[90m, \u001b[39m12\u001b[90m, \u001b[39m104\u001b[90m, \u001b[39m0…\n",
      "$ `3H_M`         \u001b[3m\u001b[90m<int>\u001b[39m\u001b[23m 0\u001b[90m, \u001b[39m0\u001b[90m, \u001b[39m0\u001b[90m, \u001b[39m0\u001b[90m, \u001b[39m0\u001b[90m, \u001b[39m0\u001b[90m, \u001b[39m0\u001b[90m, \u001b[39m0\u001b[90m, \u001b[39m0\u001b[90m, \u001b[39m0\u001b[90m, \u001b[39m0\u001b[90m, \u001b[39m0\u001b[90m, \u001b[39m0\u001b[90m, \u001b[39m0\u001b[90m, \u001b[39m0\u001b[90m, \u001b[39m0\u001b[90m, \u001b[39m0\u001b[90m, \u001b[39m0\u001b[90m, \u001b[39m0…\n",
      "$ `3H_A`         \u001b[3m\u001b[90m<int>\u001b[39m\u001b[23m 0\u001b[90m, \u001b[39m1\u001b[90m, \u001b[39m0\u001b[90m, \u001b[39m0\u001b[90m, \u001b[39m3\u001b[90m, \u001b[39m0\u001b[90m, \u001b[39m0\u001b[90m, \u001b[39m2\u001b[90m, \u001b[39m1\u001b[90m, \u001b[39m1\u001b[90m, \u001b[39m0\u001b[90m, \u001b[39m0\u001b[90m, \u001b[39m0\u001b[90m, \u001b[39m2\u001b[90m, \u001b[39m0\u001b[90m, \u001b[39m0\u001b[90m, \u001b[39m0\u001b[90m, \u001b[39m1\u001b[90m, \u001b[39m0…\n"
     ]
    }
   ],
   "source": [
    "glimpse(players_regular_sum)"
   ]
  },
  {
   "cell_type": "code",
   "execution_count": 117,
   "metadata": {
    "vscode": {
     "languageId": "r"
    }
   },
   "outputs": [],
   "source": [
    "# Średnia per 40 min \n",
    "# Argument wejściowy to teams_x_sum\n",
    "mean_teams <- function(teams) {\n",
    "  teams %>%\n",
    "    group_by(`TM NAME`) %>%\n",
    "    summarise(MIN = sum(MIN, na.rm = TRUE),\n",
    "              across(where(is.numeric) & !c(MIN), ~sum(.x, na.rm = TRUE))) %>%\n",
    "    mutate(across(where(is.numeric) & !c(MIN), ~.x / MIN * 40)) %>%\n",
    "    select(-MIN)\n",
    "}\n"
   ]
  },
  {
   "cell_type": "code",
   "execution_count": 118,
   "metadata": {
    "vscode": {
     "languageId": "r"
    }
   },
   "outputs": [],
   "source": [
    "teams_regular_mean <- mean_teams(teams_regular_sum)\n",
    "teams_playin_mean <- mean_teams(teams_playin_sum)\n",
    "teams_playoff_mean <- mean_teams(teams_playoff_sum)\n",
    "teams_final4_mean <- mean_teams(teams_final4_sum)"
   ]
  },
  {
   "cell_type": "code",
   "execution_count": 119,
   "metadata": {
    "vscode": {
     "languageId": "r"
    }
   },
   "outputs": [
    {
     "name": "stdout",
     "output_type": "stream",
     "text": [
      "Rows: 18\n",
      "Columns: 79\n",
      "$ `TM NAME`      \u001b[3m\u001b[90m<chr>\u001b[39m\u001b[23m \"ALBA\"\u001b[90m, \u001b[39m\"ASVEL\"\u001b[90m, \u001b[39m\"Barcelona\"\u001b[90m, \u001b[39m\"Baskonia\"\u001b[90m, \u001b[39m\"Bayern\"\u001b[90m, \u001b[39m\"Cr…\n",
      "$ GP             \u001b[3m\u001b[90m<dbl>\u001b[39m\u001b[23m 1.0000000\u001b[90m, \u001b[39m0.9927007\u001b[90m, \u001b[39m1.0000000\u001b[90m, \u001b[39m0.9963370\u001b[90m, \u001b[39m0.9819495\u001b[90m, \u001b[39m…\n",
      "$ PTS            \u001b[3m\u001b[90m<dbl>\u001b[39m\u001b[23m 76.20588\u001b[90m, \u001b[39m78.07299\u001b[90m, \u001b[39m82.70588\u001b[90m, \u001b[39m83.92674\u001b[90m, \u001b[39m77.22744\u001b[90m, \u001b[39m81.29…\n",
      "$ `2PTM`         \u001b[3m\u001b[90m<dbl>\u001b[39m\u001b[23m 18.85294\u001b[90m, \u001b[39m21.72263\u001b[90m, \u001b[39m22.32353\u001b[90m, \u001b[39m19.45788\u001b[90m, \u001b[39m18.74368\u001b[90m, \u001b[39m20.00…\n",
      "$ `2PTA`         \u001b[3m\u001b[90m<dbl>\u001b[39m\u001b[23m 37.08824\u001b[90m, \u001b[39m40.55474\u001b[90m, \u001b[39m39.76471\u001b[90m, \u001b[39m35.07692\u001b[90m, \u001b[39m35.09025\u001b[90m, \u001b[39m36.44…\n",
      "$ `3PTM`         \u001b[3m\u001b[90m<dbl>\u001b[39m\u001b[23m 8.882353\u001b[90m, \u001b[39m7.124088\u001b[90m, \u001b[39m8.588235\u001b[90m, \u001b[39m10.344322\u001b[90m, \u001b[39m9.703971\u001b[90m, \u001b[39m9.23…\n",
      "$ `3PTA`         \u001b[3m\u001b[90m<dbl>\u001b[39m\u001b[23m 25.29412\u001b[90m, \u001b[39m21.10949\u001b[90m, \u001b[39m23.47059\u001b[90m, \u001b[39m28.21978\u001b[90m, \u001b[39m27.09025\u001b[90m, \u001b[39m27.05…\n",
      "$ FGM            \u001b[3m\u001b[90m<dbl>\u001b[39m\u001b[23m 27.73529\u001b[90m, \u001b[39m28.84672\u001b[90m, \u001b[39m30.91176\u001b[90m, \u001b[39m29.80220\u001b[90m, \u001b[39m28.44765\u001b[90m, \u001b[39m29.23…\n",
      "$ FGA            \u001b[3m\u001b[90m<dbl>\u001b[39m\u001b[23m 62.38235\u001b[90m, \u001b[39m61.66423\u001b[90m, \u001b[39m63.23529\u001b[90m, \u001b[39m63.29670\u001b[90m, \u001b[39m62.18051\u001b[90m, \u001b[39m63.50…\n",
      "$ FTM            \u001b[3m\u001b[90m<dbl>\u001b[39m\u001b[23m 11.85294\u001b[90m, \u001b[39m13.25547\u001b[90m, \u001b[39m12.29412\u001b[90m, \u001b[39m13.97802\u001b[90m, \u001b[39m10.62816\u001b[90m, \u001b[39m13.58…\n",
      "$ FTA            \u001b[3m\u001b[90m<dbl>\u001b[39m\u001b[23m 14.97059\u001b[90m, \u001b[39m17.13869\u001b[90m, \u001b[39m16.79412\u001b[90m, \u001b[39m18.34432\u001b[90m, \u001b[39m13.31408\u001b[90m, \u001b[39m17.64…\n",
      "$ OR             \u001b[3m\u001b[90m<dbl>\u001b[39m\u001b[23m 10.823529\u001b[90m, \u001b[39m10.218978\u001b[90m, \u001b[39m11.294118\u001b[90m, \u001b[39m10.285714\u001b[90m, \u001b[39m10.512635\u001b[90m, \u001b[39m…\n",
      "$ DR             \u001b[3m\u001b[90m<dbl>\u001b[39m\u001b[23m 21.61765\u001b[90m, \u001b[39m23.50365\u001b[90m, \u001b[39m24.70588\u001b[90m, \u001b[39m24.82051\u001b[90m, \u001b[39m24.25993\u001b[90m, \u001b[39m22.85…\n",
      "$ TR             \u001b[3m\u001b[90m<dbl>\u001b[39m\u001b[23m 32.44118\u001b[90m, \u001b[39m33.72263\u001b[90m, \u001b[39m36.00000\u001b[90m, \u001b[39m35.10623\u001b[90m, \u001b[39m34.77256\u001b[90m, \u001b[39m34.70…\n",
      "$ AST            \u001b[3m\u001b[90m<dbl>\u001b[39m\u001b[23m 16.47059\u001b[90m, \u001b[39m17.66423\u001b[90m, \u001b[39m19.38235\u001b[90m, \u001b[39m18.75458\u001b[90m, \u001b[39m15.79783\u001b[90m, \u001b[39m18.50…\n",
      "$ TO             \u001b[3m\u001b[90m<dbl>\u001b[39m\u001b[23m 15.08824\u001b[90m, \u001b[39m12.84672\u001b[90m, \u001b[39m12.73529\u001b[90m, \u001b[39m12.39560\u001b[90m, \u001b[39m12.79422\u001b[90m, \u001b[39m12.08…\n",
      "$ ST             \u001b[3m\u001b[90m<dbl>\u001b[39m\u001b[23m 7.000000\u001b[90m, \u001b[39m5.985401\u001b[90m, \u001b[39m6.176471\u001b[90m, \u001b[39m5.421245\u001b[90m, \u001b[39m5.949458\u001b[90m, \u001b[39m6.588…\n",
      "$ BLK            \u001b[3m\u001b[90m<dbl>\u001b[39m\u001b[23m 2.147059\u001b[90m, \u001b[39m1.605839\u001b[90m, \u001b[39m2.441176\u001b[90m, \u001b[39m2.315018\u001b[90m, \u001b[39m2.570397\u001b[90m, \u001b[39m2.470…\n",
      "$ BLKA           \u001b[3m\u001b[90m<dbl>\u001b[39m\u001b[23m 3.500000\u001b[90m, \u001b[39m3.270073\u001b[90m, \u001b[39m1.941176\u001b[90m, \u001b[39m3.223443\u001b[90m, \u001b[39m2.425993\u001b[90m, \u001b[39m2.735…\n",
      "$ PF             \u001b[3m\u001b[90m<dbl>\u001b[39m\u001b[23m 18.32353\u001b[90m, \u001b[39m18.27737\u001b[90m, \u001b[39m19.58824\u001b[90m, \u001b[39m18.19780\u001b[90m, \u001b[39m20.27437\u001b[90m, \u001b[39m21.55…\n",
      "$ DF             \u001b[3m\u001b[90m<dbl>\u001b[39m\u001b[23m 18.17647\u001b[90m, \u001b[39m19.21168\u001b[90m, \u001b[39m18.88235\u001b[90m, \u001b[39m19.07692\u001b[90m, \u001b[39m18.45487\u001b[90m, \u001b[39m19.88…\n",
      "$ VAL            \u001b[3m\u001b[90m<dbl>\u001b[39m\u001b[23m 77.76471\u001b[90m, \u001b[39m85.16788\u001b[90m, \u001b[39m94.50000\u001b[90m, \u001b[39m92.92308\u001b[90m, \u001b[39m82.85921\u001b[90m, \u001b[39m88.73…\n",
      "$ `+ / -`        \u001b[3m\u001b[90m<dbl>\u001b[39m\u001b[23m -10.38235294\u001b[90m, \u001b[39m-6.24817518\u001b[90m, \u001b[39m3.52941176\u001b[90m, \u001b[39m-0.61538462\u001b[90m, \u001b[39m-3.…\n",
      "$ POSS           \u001b[3m\u001b[90m<dbl>\u001b[39m\u001b[23m 72.91176\u001b[90m, \u001b[39m71.38686\u001b[90m, \u001b[39m71.85294\u001b[90m, \u001b[39m72.82051\u001b[90m, \u001b[39m70.00722\u001b[90m, \u001b[39m71.32…\n",
      "$ KILLS          \u001b[3m\u001b[90m<dbl>\u001b[39m\u001b[23m 4.088235\u001b[90m, \u001b[39m4.583942\u001b[90m, \u001b[39m4.735294\u001b[90m, \u001b[39m4.835165\u001b[90m, \u001b[39m4.678700\u001b[90m, \u001b[39m3.941…\n",
      "$ ASTED_2FG      \u001b[3m\u001b[90m<dbl>\u001b[39m\u001b[23m 8.323529\u001b[90m, \u001b[39m10.627737\u001b[90m, \u001b[39m10.705882\u001b[90m, \u001b[39m9.084249\u001b[90m, \u001b[39m7.451264\u001b[90m, \u001b[39m10.…\n",
      "$ ASTED_3FG      \u001b[3m\u001b[90m<dbl>\u001b[39m\u001b[23m 6.764706\u001b[90m, \u001b[39m5.489051\u001b[90m, \u001b[39m6.588235\u001b[90m, \u001b[39m7.765568\u001b[90m, \u001b[39m7.075812\u001b[90m, \u001b[39m6.205…\n",
      "$ ASTED_FT       \u001b[3m\u001b[90m<dbl>\u001b[39m\u001b[23m 1.382353\u001b[90m, \u001b[39m1.518248\u001b[90m, \u001b[39m2.000000\u001b[90m, \u001b[39m1.904762\u001b[90m, \u001b[39m1.241877\u001b[90m, \u001b[39m1.882…\n",
      "$ `ASTED_FT PTS` \u001b[3m\u001b[90m<dbl>\u001b[39m\u001b[23m 2.470588\u001b[90m, \u001b[39m2.423358\u001b[90m, \u001b[39m3.264706\u001b[90m, \u001b[39m3.516484\u001b[90m, \u001b[39m2.310469\u001b[90m, \u001b[39m2.882…\n",
      "$ LTO            \u001b[3m\u001b[90m<dbl>\u001b[39m\u001b[23m 8.382353\u001b[90m, \u001b[39m7.065693\u001b[90m, \u001b[39m6.676471\u001b[90m, \u001b[39m6.739927\u001b[90m, \u001b[39m6.527076\u001b[90m, \u001b[39m6.470…\n",
      "$ DTO            \u001b[3m\u001b[90m<dbl>\u001b[39m\u001b[23m 6.705882\u001b[90m, \u001b[39m5.781022\u001b[90m, \u001b[39m6.058824\u001b[90m, \u001b[39m5.655678\u001b[90m, \u001b[39m6.267148\u001b[90m, \u001b[39m5.617…\n",
      "$ BLK2           \u001b[3m\u001b[90m<dbl>\u001b[39m\u001b[23m 1.764706\u001b[90m, \u001b[39m1.343066\u001b[90m, \u001b[39m2.029412\u001b[90m, \u001b[39m1.934066\u001b[90m, \u001b[39m2.425993\u001b[90m, \u001b[39m1.029…\n",
      "$ BLK3           \u001b[3m\u001b[90m<dbl>\u001b[39m\u001b[23m 0.08823529\u001b[90m, \u001b[39m0.08759124\u001b[90m, \u001b[39m0.20588235\u001b[90m, \u001b[39m0.20512821\u001b[90m, \u001b[39m0.05776…\n",
      "$ OR_RIM         \u001b[3m\u001b[90m<dbl>\u001b[39m\u001b[23m 0.8823529\u001b[90m, \u001b[39m0.9927007\u001b[90m, \u001b[39m0.8235294\u001b[90m, \u001b[39m0.5860806\u001b[90m, \u001b[39m0.6642599\u001b[90m, \u001b[39m…\n",
      "$ `TM OR_RIM`    \u001b[3m\u001b[90m<dbl>\u001b[39m\u001b[23m 0.26470588\u001b[90m, \u001b[39m0.43795620\u001b[90m, \u001b[39m0.14705882\u001b[90m, \u001b[39m0.11721612\u001b[90m, \u001b[39m0.14440…\n",
      "$ OR_PAINT       \u001b[3m\u001b[90m<dbl>\u001b[39m\u001b[23m 3.147059\u001b[90m, \u001b[39m3.124088\u001b[90m, \u001b[39m3.294118\u001b[90m, \u001b[39m2.666667\u001b[90m, \u001b[39m2.541516\u001b[90m, \u001b[39m3.588…\n",
      "$ `TM OR_PAINT`  \u001b[3m\u001b[90m<dbl>\u001b[39m\u001b[23m 0.4411765\u001b[90m, \u001b[39m0.5255474\u001b[90m, \u001b[39m0.5882353\u001b[90m, \u001b[39m0.7912088\u001b[90m, \u001b[39m0.4620939\u001b[90m, \u001b[39m…\n",
      "$ OR_NP2         \u001b[3m\u001b[90m<dbl>\u001b[39m\u001b[23m 1.0588235\u001b[90m, \u001b[39m0.8759124\u001b[90m, \u001b[39m1.1176471\u001b[90m, \u001b[39m0.7032967\u001b[90m, \u001b[39m1.2996390\u001b[90m, \u001b[39m…\n",
      "$ `TM OR_NP2`    \u001b[3m\u001b[90m<dbl>\u001b[39m\u001b[23m 0.20588235\u001b[90m, \u001b[39m0.14598540\u001b[90m, \u001b[39m0.02941176\u001b[90m, \u001b[39m0.14652015\u001b[90m, \u001b[39m0.17328…\n",
      "$ OR_3C          \u001b[3m\u001b[90m<dbl>\u001b[39m\u001b[23m 0.3529412\u001b[90m, \u001b[39m0.3503650\u001b[90m, \u001b[39m0.2647059\u001b[90m, \u001b[39m0.2637363\u001b[90m, \u001b[39m0.6642599\u001b[90m, \u001b[39m…\n",
      "$ `TM OR_3C`     \u001b[3m\u001b[90m<dbl>\u001b[39m\u001b[23m 0.02941176\u001b[90m, \u001b[39m0.20437956\u001b[90m, \u001b[39m0.17647059\u001b[90m, \u001b[39m0.02930403\u001b[90m, \u001b[39m0.08664…\n",
      "$ OR_3L          \u001b[3m\u001b[90m<dbl>\u001b[39m\u001b[23m 3.470588\u001b[90m, \u001b[39m2.773723\u001b[90m, \u001b[39m3.794118\u001b[90m, \u001b[39m3.926740\u001b[90m, \u001b[39m3.841155\u001b[90m, \u001b[39m4.147…\n",
      "$ `TM OR_3L`     \u001b[3m\u001b[90m<dbl>\u001b[39m\u001b[23m 0.6176471\u001b[90m, \u001b[39m0.4963504\u001b[90m, \u001b[39m0.6470588\u001b[90m, \u001b[39m0.6446886\u001b[90m, \u001b[39m0.4620939\u001b[90m, \u001b[39m…\n",
      "$ OR_FT          \u001b[3m\u001b[90m<dbl>\u001b[39m\u001b[23m 0.20588235\u001b[90m, \u001b[39m0.14598540\u001b[90m, \u001b[39m0.29411765\u001b[90m, \u001b[39m0.26373626\u001b[90m, \u001b[39m0.17328…\n",
      "$ `TM OR_FT`     \u001b[3m\u001b[90m<dbl>\u001b[39m\u001b[23m 0.02941176\u001b[90m, \u001b[39m0.02919708\u001b[90m, \u001b[39m0.02941176\u001b[90m, \u001b[39m0.02930403\u001b[90m, \u001b[39m0.00000…\n",
      "$ DR_RIM         \u001b[3m\u001b[90m<dbl>\u001b[39m\u001b[23m 1.3235294\u001b[90m, \u001b[39m1.4306569\u001b[90m, \u001b[39m1.2058824\u001b[90m, \u001b[39m0.9963370\u001b[90m, \u001b[39m0.9241877\u001b[90m, \u001b[39m…\n",
      "$ `TM DR_RIM`    \u001b[3m\u001b[90m<dbl>\u001b[39m\u001b[23m 0.11764706\u001b[90m, \u001b[39m0.02919708\u001b[90m, \u001b[39m0.11764706\u001b[90m, \u001b[39m0.05860806\u001b[90m, \u001b[39m0.14440…\n",
      "$ DR_PAINT       \u001b[3m\u001b[90m<dbl>\u001b[39m\u001b[23m 5.500000\u001b[90m, \u001b[39m5.781022\u001b[90m, \u001b[39m6.970588\u001b[90m, \u001b[39m7.706960\u001b[90m, \u001b[39m6.700361\u001b[90m, \u001b[39m5.735…\n",
      "$ `TM DR_PAINT`  \u001b[3m\u001b[90m<dbl>\u001b[39m\u001b[23m 0.2941176\u001b[90m, \u001b[39m0.4671533\u001b[90m, \u001b[39m0.3823529\u001b[90m, \u001b[39m0.4688645\u001b[90m, \u001b[39m0.3176895\u001b[90m, \u001b[39m…\n",
      "$ DR_NP2         \u001b[3m\u001b[90m<dbl>\u001b[39m\u001b[23m 2.588235\u001b[90m, \u001b[39m3.036496\u001b[90m, \u001b[39m3.088235\u001b[90m, \u001b[39m3.106227\u001b[90m, \u001b[39m3.407942\u001b[90m, \u001b[39m2.882…\n",
      "$ `TM DR_NP2`    \u001b[3m\u001b[90m<dbl>\u001b[39m\u001b[23m 0.17647059\u001b[90m, \u001b[39m0.05839416\u001b[90m, \u001b[39m0.17647059\u001b[90m, \u001b[39m0.14652015\u001b[90m, \u001b[39m0.08664…\n",
      "$ DR_3C          \u001b[3m\u001b[90m<dbl>\u001b[39m\u001b[23m 1.6470588\u001b[90m, \u001b[39m1.3138686\u001b[90m, \u001b[39m1.0588235\u001b[90m, \u001b[39m0.5860806\u001b[90m, \u001b[39m1.2418773\u001b[90m, \u001b[39m…\n",
      "$ `TM DR_3C`     \u001b[3m\u001b[90m<dbl>\u001b[39m\u001b[23m 0.11764706\u001b[90m, \u001b[39m0.05839416\u001b[90m, \u001b[39m0.02941176\u001b[90m, \u001b[39m0.02930403\u001b[90m, \u001b[39m0.11552…\n",
      "$ DR_3L          \u001b[3m\u001b[90m<dbl>\u001b[39m\u001b[23m 7.794118\u001b[90m, \u001b[39m8.934307\u001b[90m, \u001b[39m9.029412\u001b[90m, \u001b[39m9.611722\u001b[90m, \u001b[39m9.299639\u001b[90m, \u001b[39m8.500…\n",
      "$ `TM DR_3L`     \u001b[3m\u001b[90m<dbl>\u001b[39m\u001b[23m 0.3529412\u001b[90m, \u001b[39m0.8759124\u001b[90m, \u001b[39m0.7647059\u001b[90m, \u001b[39m0.7912088\u001b[90m, \u001b[39m0.6353791\u001b[90m, \u001b[39m…\n",
      "$ DR_FT          \u001b[3m\u001b[90m<dbl>\u001b[39m\u001b[23m 1.2647059\u001b[90m, \u001b[39m1.3430657\u001b[90m, \u001b[39m1.4411765\u001b[90m, \u001b[39m1.1428571\u001b[90m, \u001b[39m1.1841155\u001b[90m, \u001b[39m…\n",
      "$ `TM DR_FT`     \u001b[3m\u001b[90m<dbl>\u001b[39m\u001b[23m 0.14705882\u001b[90m, \u001b[39m0.11678832\u001b[90m, \u001b[39m0.14705882\u001b[90m, \u001b[39m0.05860806\u001b[90m, \u001b[39m0.11552…\n",
      "$ FTM_T          \u001b[3m\u001b[90m<dbl>\u001b[39m\u001b[23m 0.20588235\u001b[90m, \u001b[39m0.20437956\u001b[90m, \u001b[39m0.26470588\u001b[90m, \u001b[39m0.35164835\u001b[90m, \u001b[39m0.02888…\n",
      "$ FTA_T          \u001b[3m\u001b[90m<dbl>\u001b[39m\u001b[23m 0.23529412\u001b[90m, \u001b[39m0.20437956\u001b[90m, \u001b[39m0.32352941\u001b[90m, \u001b[39m0.41025641\u001b[90m, \u001b[39m0.02888…\n",
      "$ FTM_1          \u001b[3m\u001b[90m<dbl>\u001b[39m\u001b[23m 1.235294\u001b[90m, \u001b[39m1.401460\u001b[90m, \u001b[39m1.264706\u001b[90m, \u001b[39m1.435897\u001b[90m, \u001b[39m1.212996\u001b[90m, \u001b[39m1.264…\n",
      "$ FTA_1          \u001b[3m\u001b[90m<dbl>\u001b[39m\u001b[23m 1.529412\u001b[90m, \u001b[39m1.810219\u001b[90m, \u001b[39m1.794118\u001b[90m, \u001b[39m1.934066\u001b[90m, \u001b[39m1.675090\u001b[90m, \u001b[39m1.617…\n",
      "$ FTM_2          \u001b[3m\u001b[90m<dbl>\u001b[39m\u001b[23m 9.705882\u001b[90m, \u001b[39m10.043796\u001b[90m, \u001b[39m10.529412\u001b[90m, \u001b[39m10.109890\u001b[90m, \u001b[39m8.693141\u001b[90m, \u001b[39m11…\n",
      "$ FTA_2          \u001b[3m\u001b[90m<dbl>\u001b[39m\u001b[23m 12.29412\u001b[90m, \u001b[39m13.22628\u001b[90m, \u001b[39m14.23529\u001b[90m, \u001b[39m13.33333\u001b[90m, \u001b[39m10.83032\u001b[90m, \u001b[39m15.11…\n",
      "$ `FT 0/2`       \u001b[3m\u001b[90m<dbl>\u001b[39m\u001b[23m 0.3823529\u001b[90m, \u001b[39m0.5547445\u001b[90m, \u001b[39m0.6470588\u001b[90m, \u001b[39m0.2930403\u001b[90m, \u001b[39m0.2599278\u001b[90m, \u001b[39m…\n",
      "$ FTM_3          \u001b[3m\u001b[90m<dbl>\u001b[39m\u001b[23m 0.7058824\u001b[90m, \u001b[39m1.5474453\u001b[90m, \u001b[39m0.1764706\u001b[90m, \u001b[39m1.9633700\u001b[90m, \u001b[39m0.6931408\u001b[90m, \u001b[39m…\n",
      "$ FTA_3          \u001b[3m\u001b[90m<dbl>\u001b[39m\u001b[23m 0.8823529\u001b[90m, \u001b[39m1.7518248\u001b[90m, \u001b[39m0.3529412\u001b[90m, \u001b[39m2.4615385\u001b[90m, \u001b[39m0.7797834\u001b[90m, \u001b[39m…\n",
      "$ `FT 0/3`       \u001b[3m\u001b[90m<dbl>\u001b[39m\u001b[23m 0.00000000\u001b[90m, \u001b[39m0.00000000\u001b[90m, \u001b[39m0.00000000\u001b[90m, \u001b[39m0.00000000\u001b[90m, \u001b[39m0.00000…\n",
      "$ RIM_M          \u001b[3m\u001b[90m<dbl>\u001b[39m\u001b[23m 8.529412\u001b[90m, \u001b[39m9.343066\u001b[90m, \u001b[39m7.352941\u001b[90m, \u001b[39m7.794872\u001b[90m, \u001b[39m6.411552\u001b[90m, \u001b[39m7.558…\n",
      "$ RIM_A          \u001b[3m\u001b[90m<dbl>\u001b[39m\u001b[23m 12.000000\u001b[90m, \u001b[39m13.226277\u001b[90m, \u001b[39m9.411765\u001b[90m, \u001b[39m9.523810\u001b[90m, \u001b[39m8.490975\u001b[90m, \u001b[39m9.6…\n",
      "$ PAINT_M        \u001b[3m\u001b[90m<dbl>\u001b[39m\u001b[23m 7.411765\u001b[90m, \u001b[39m8.934307\u001b[90m, \u001b[39m11.794118\u001b[90m, \u001b[39m9.289377\u001b[90m, \u001b[39m8.462094\u001b[90m, \u001b[39m11.2…\n",
      "$ PAINT_A        \u001b[3m\u001b[90m<dbl>\u001b[39m\u001b[23m 17.55882\u001b[90m, \u001b[39m19.35766\u001b[90m, \u001b[39m23.11765\u001b[90m, \u001b[39m19.45788\u001b[90m, \u001b[39m17.55957\u001b[90m, \u001b[39m22.79…\n",
      "$ MID_M          \u001b[3m\u001b[90m<dbl>\u001b[39m\u001b[23m 2.911765\u001b[90m, \u001b[39m3.445255\u001b[90m, \u001b[39m3.176471\u001b[90m, \u001b[39m2.373626\u001b[90m, \u001b[39m3.870036\u001b[90m, \u001b[39m1.205…\n",
      "$ MID_A          \u001b[3m\u001b[90m<dbl>\u001b[39m\u001b[23m 7.529412\u001b[90m, \u001b[39m7.970803\u001b[90m, \u001b[39m7.235294\u001b[90m, \u001b[39m6.095238\u001b[90m, \u001b[39m9.039711\u001b[90m, \u001b[39m3.970…\n",
      "$ `3C_M`         \u001b[3m\u001b[90m<dbl>\u001b[39m\u001b[23m 1.3529412\u001b[90m, \u001b[39m1.4890511\u001b[90m, \u001b[39m1.0882353\u001b[90m, \u001b[39m1.0842491\u001b[90m, \u001b[39m1.4151625\u001b[90m, \u001b[39m…\n",
      "$ `3C_A`         \u001b[3m\u001b[90m<dbl>\u001b[39m\u001b[23m 2.882353\u001b[90m, \u001b[39m3.357664\u001b[90m, \u001b[39m2.470588\u001b[90m, \u001b[39m2.051282\u001b[90m, \u001b[39m3.610108\u001b[90m, \u001b[39m3.529…\n",
      "$ `3L_M`         \u001b[3m\u001b[90m<dbl>\u001b[39m\u001b[23m 7.529412\u001b[90m, \u001b[39m5.605839\u001b[90m, \u001b[39m7.500000\u001b[90m, \u001b[39m9.260073\u001b[90m, \u001b[39m8.288809\u001b[90m, \u001b[39m7.823…\n",
      "$ `3L_A`         \u001b[3m\u001b[90m<dbl>\u001b[39m\u001b[23m 22.20588\u001b[90m, \u001b[39m17.54745\u001b[90m, \u001b[39m20.82353\u001b[90m, \u001b[39m25.84615\u001b[90m, \u001b[39m23.16245\u001b[90m, \u001b[39m23.35…\n",
      "$ `3H_M`         \u001b[3m\u001b[90m<dbl>\u001b[39m\u001b[23m 0.00000000\u001b[90m, \u001b[39m0.02919708\u001b[90m, \u001b[39m0.00000000\u001b[90m, \u001b[39m0.00000000\u001b[90m, \u001b[39m0.00000…\n",
      "$ `3H_A`         \u001b[3m\u001b[90m<dbl>\u001b[39m\u001b[23m 0.11764706\u001b[90m, \u001b[39m0.20437956\u001b[90m, \u001b[39m0.14705882\u001b[90m, \u001b[39m0.29304029\u001b[90m, \u001b[39m0.31768…\n"
     ]
    }
   ],
   "source": [
    "glimpse(teams_regular_mean)"
   ]
  },
  {
   "cell_type": "code",
   "execution_count": 120,
   "metadata": {
    "vscode": {
     "languageId": "r"
    }
   },
   "outputs": [],
   "source": [
    "# Średnia per 40 min \n",
    "# Argument wejściowy to opp_x_sum\n",
    "mean_opp <- function(opp) {\n",
    "  opp %>%\n",
    "    group_by(`OPP NAME`) %>%\n",
    "    summarise(MIN = sum(MIN, na.rm = TRUE),\n",
    "              across(where(is.numeric) & !c(MIN), ~sum(.x, na.rm = TRUE))) %>%\n",
    "    mutate(across(where(is.numeric) & !c(MIN), ~.x / MIN * 40)) %>%\n",
    "    select(-MIN)\n",
    "}"
   ]
  },
  {
   "cell_type": "code",
   "execution_count": 121,
   "metadata": {
    "vscode": {
     "languageId": "r"
    }
   },
   "outputs": [],
   "source": [
    "opp_regular_mean <- mean_opp(opp_regular_sum)\n",
    "opp_playin_mean <- mean_opp(opp_playin_sum)\n",
    "opp_playoff_mean <- mean_opp(opp_playoff_sum)\n",
    "opp_final4_mean <- mean_opp(opp_final4_sum)"
   ]
  },
  {
   "cell_type": "code",
   "execution_count": 122,
   "metadata": {
    "vscode": {
     "languageId": "r"
    }
   },
   "outputs": [
    {
     "name": "stdout",
     "output_type": "stream",
     "text": [
      "Rows: 18\n",
      "Columns: 79\n",
      "$ `OPP NAME`     \u001b[3m\u001b[90m<chr>\u001b[39m\u001b[23m \"ALBA\"\u001b[90m, \u001b[39m\"ASVEL\"\u001b[90m, \u001b[39m\"Barcelona\"\u001b[90m, \u001b[39m\"Baskonia\"\u001b[90m, \u001b[39m\"Bayern\"\u001b[90m, \u001b[39m\"Cr…\n",
      "$ GP             \u001b[3m\u001b[90m<dbl>\u001b[39m\u001b[23m 1.0000000\u001b[90m, \u001b[39m0.9927007\u001b[90m, \u001b[39m1.0000000\u001b[90m, \u001b[39m0.9963370\u001b[90m, \u001b[39m0.9819495\u001b[90m, \u001b[39m…\n",
      "$ PTS            \u001b[3m\u001b[90m<dbl>\u001b[39m\u001b[23m 86.58824\u001b[90m, \u001b[39m84.32117\u001b[90m, \u001b[39m79.17647\u001b[90m, \u001b[39m84.54212\u001b[90m, \u001b[39m80.57762\u001b[90m, \u001b[39m82.82…\n",
      "$ `2PTM`         \u001b[3m\u001b[90m<dbl>\u001b[39m\u001b[23m 21.70588\u001b[90m, \u001b[39m20.08759\u001b[90m, \u001b[39m20.85294\u001b[90m, \u001b[39m20.95238\u001b[90m, \u001b[39m19.92780\u001b[90m, \u001b[39m19.05…\n",
      "$ `2PTA`         \u001b[3m\u001b[90m<dbl>\u001b[39m\u001b[23m 37.55882\u001b[90m, \u001b[39m35.94161\u001b[90m, \u001b[39m39.26471\u001b[90m, \u001b[39m39.03297\u001b[90m, \u001b[39m37.02527\u001b[90m, \u001b[39m35.41…\n",
      "$ `3PTM`         \u001b[3m\u001b[90m<dbl>\u001b[39m\u001b[23m 10.235294\u001b[90m, \u001b[39m10.452555\u001b[90m, \u001b[39m8.529412\u001b[90m, \u001b[39m9.934066\u001b[90m, \u001b[39m8.779783\u001b[90m, \u001b[39m10.…\n",
      "$ `3PTA`         \u001b[3m\u001b[90m<dbl>\u001b[39m\u001b[23m 26.23529\u001b[90m, \u001b[39m27.53285\u001b[90m, \u001b[39m24.79412\u001b[90m, \u001b[39m26.69597\u001b[90m, \u001b[39m24.25993\u001b[90m, \u001b[39m25.79…\n",
      "$ FGM            \u001b[3m\u001b[90m<dbl>\u001b[39m\u001b[23m 31.94118\u001b[90m, \u001b[39m30.54015\u001b[90m, \u001b[39m29.38235\u001b[90m, \u001b[39m30.88645\u001b[90m, \u001b[39m28.70758\u001b[90m, \u001b[39m29.14…\n",
      "$ FGA            \u001b[3m\u001b[90m<dbl>\u001b[39m\u001b[23m 63.79412\u001b[90m, \u001b[39m63.47445\u001b[90m, \u001b[39m64.05882\u001b[90m, \u001b[39m65.72894\u001b[90m, \u001b[39m61.28520\u001b[90m, \u001b[39m61.20…\n",
      "$ FTM            \u001b[3m\u001b[90m<dbl>\u001b[39m\u001b[23m 12.47059\u001b[90m, \u001b[39m12.78832\u001b[90m, \u001b[39m11.88235\u001b[90m, \u001b[39m12.83516\u001b[90m, \u001b[39m14.38267\u001b[90m, \u001b[39m14.44…\n",
      "$ FTA            \u001b[3m\u001b[90m<dbl>\u001b[39m\u001b[23m 16.52941\u001b[90m, \u001b[39m16.49635\u001b[90m, \u001b[39m15.79412\u001b[90m, \u001b[39m16.11722\u001b[90m, \u001b[39m18.05054\u001b[90m, \u001b[39m18.76…\n",
      "$ OR             \u001b[3m\u001b[90m<dbl>\u001b[39m\u001b[23m 11.000000\u001b[90m, \u001b[39m10.335766\u001b[90m, \u001b[39m10.852941\u001b[90m, \u001b[39m10.461538\u001b[90m, \u001b[39m8.866426\u001b[90m, \u001b[39m1…\n",
      "$ DR             \u001b[3m\u001b[90m<dbl>\u001b[39m\u001b[23m 24.44118\u001b[90m, \u001b[39m23.76642\u001b[90m, \u001b[39m22.58824\u001b[90m, \u001b[39m24.38095\u001b[90m, \u001b[39m23.39350\u001b[90m, \u001b[39m23.50…\n",
      "$ TR             \u001b[3m\u001b[90m<dbl>\u001b[39m\u001b[23m 35.44118\u001b[90m, \u001b[39m34.10219\u001b[90m, \u001b[39m33.44118\u001b[90m, \u001b[39m34.84249\u001b[90m, \u001b[39m32.25993\u001b[90m, \u001b[39m33.91…\n",
      "$ AST            \u001b[3m\u001b[90m<dbl>\u001b[39m\u001b[23m 19.82353\u001b[90m, \u001b[39m18.71533\u001b[90m, \u001b[39m16.85294\u001b[90m, \u001b[39m19.13553\u001b[90m, \u001b[39m15.53791\u001b[90m, \u001b[39m18.94…\n",
      "$ TO             \u001b[3m\u001b[90m<dbl>\u001b[39m\u001b[23m 13.29412\u001b[90m, \u001b[39m11.47445\u001b[90m, \u001b[39m12.23529\u001b[90m, \u001b[39m10.72527\u001b[90m, \u001b[39m10.71480\u001b[90m, \u001b[39m12.20…\n",
      "$ ST             \u001b[3m\u001b[90m<dbl>\u001b[39m\u001b[23m 8.411765\u001b[90m, \u001b[39m7.094891\u001b[90m, \u001b[39m6.676471\u001b[90m, \u001b[39m6.739927\u001b[90m, \u001b[39m6.527076\u001b[90m, \u001b[39m6.470…\n",
      "$ BLK            \u001b[3m\u001b[90m<dbl>\u001b[39m\u001b[23m 3.529412\u001b[90m, \u001b[39m3.270073\u001b[90m, \u001b[39m1.970588\u001b[90m, \u001b[39m3.223443\u001b[90m, \u001b[39m2.425993\u001b[90m, \u001b[39m2.735…\n",
      "$ BLKA           \u001b[3m\u001b[90m<dbl>\u001b[39m\u001b[23m 2.147059\u001b[90m, \u001b[39m1.605839\u001b[90m, \u001b[39m2.441176\u001b[90m, \u001b[39m2.315018\u001b[90m, \u001b[39m2.570397\u001b[90m, \u001b[39m2.470…\n",
      "$ PF             \u001b[3m\u001b[90m<dbl>\u001b[39m\u001b[23m 18.38235\u001b[90m, \u001b[39m19.29927\u001b[90m, \u001b[39m19.11765\u001b[90m, \u001b[39m19.36996\u001b[90m, \u001b[39m18.54152\u001b[90m, \u001b[39m20.02…\n",
      "$ DF             \u001b[3m\u001b[90m<dbl>\u001b[39m\u001b[23m 18.14706\u001b[90m, \u001b[39m18.16058\u001b[90m, \u001b[39m19.20588\u001b[90m, \u001b[39m18.02198\u001b[90m, \u001b[39m20.04332\u001b[90m, \u001b[39m21.14…\n",
      "$ VAL            \u001b[3m\u001b[90m<dbl>\u001b[39m\u001b[23m 102.20588\u001b[90m, \u001b[39m96.64234\u001b[90m, \u001b[39m84.94118\u001b[90m, \u001b[39m95.97070\u001b[90m, \u001b[39m89.29964\u001b[90m, \u001b[39m94.9…\n",
      "$ `+ / -`        \u001b[3m\u001b[90m<dbl>\u001b[39m\u001b[23m 10.38235294\u001b[90m, \u001b[39m6.24817518\u001b[90m, \u001b[39m-3.52941176\u001b[90m, \u001b[39m0.61538462\u001b[90m, \u001b[39m3.350…\n",
      "$ POSS           \u001b[3m\u001b[90m<dbl>\u001b[39m\u001b[23m 73.11765\u001b[90m, \u001b[39m71.32847\u001b[90m, \u001b[39m71.58824\u001b[90m, \u001b[39m72.64469\u001b[90m, \u001b[39m70.46931\u001b[90m, \u001b[39m71.05…\n",
      "$ KILLS          \u001b[3m\u001b[90m<dbl>\u001b[39m\u001b[23m 5.823529\u001b[90m, \u001b[39m4.934307\u001b[90m, \u001b[39m4.441176\u001b[90m, \u001b[39m4.630037\u001b[90m, \u001b[39m4.909747\u001b[90m, \u001b[39m4.441…\n",
      "$ ASTED_2FG      \u001b[3m\u001b[90m<dbl>\u001b[39m\u001b[23m 9.823529\u001b[90m, \u001b[39m9.372263\u001b[90m, \u001b[39m9.735294\u001b[90m, \u001b[39m9.523810\u001b[90m, \u001b[39m8.028881\u001b[90m, \u001b[39m9.294…\n",
      "$ ASTED_3FG      \u001b[3m\u001b[90m<dbl>\u001b[39m\u001b[23m 8.117647\u001b[90m, \u001b[39m7.649635\u001b[90m, \u001b[39m5.941176\u001b[90m, \u001b[39m7.882784\u001b[90m, \u001b[39m6.093863\u001b[90m, \u001b[39m7.676…\n",
      "$ ASTED_FT       \u001b[3m\u001b[90m<dbl>\u001b[39m\u001b[23m 1.882353\u001b[90m, \u001b[39m1.664234\u001b[90m, \u001b[39m1.176471\u001b[90m, \u001b[39m1.728938\u001b[90m, \u001b[39m1.357401\u001b[90m, \u001b[39m1.970…\n",
      "$ `ASTED_FT PTS` \u001b[3m\u001b[90m<dbl>\u001b[39m\u001b[23m 3.294118\u001b[90m, \u001b[39m2.890511\u001b[90m, \u001b[39m2.088235\u001b[90m, \u001b[39m3.076923\u001b[90m, \u001b[39m2.570397\u001b[90m, \u001b[39m3.588…\n",
      "$ LTO            \u001b[3m\u001b[90m<dbl>\u001b[39m\u001b[23m 7.029412\u001b[90m, \u001b[39m5.956204\u001b[90m, \u001b[39m6.176471\u001b[90m, \u001b[39m5.421245\u001b[90m, \u001b[39m5.920578\u001b[90m, \u001b[39m6.588…\n",
      "$ DTO            \u001b[3m\u001b[90m<dbl>\u001b[39m\u001b[23m 6.264706\u001b[90m, \u001b[39m5.518248\u001b[90m, \u001b[39m6.058824\u001b[90m, \u001b[39m5.304029\u001b[90m, \u001b[39m4.794224\u001b[90m, \u001b[39m5.617…\n",
      "$ BLK2           \u001b[3m\u001b[90m<dbl>\u001b[39m\u001b[23m 2.794118\u001b[90m, \u001b[39m2.919708\u001b[90m, \u001b[39m1.411765\u001b[90m, \u001b[39m2.666667\u001b[90m, \u001b[39m1.848375\u001b[90m, \u001b[39m1.000…\n",
      "$ BLK3           \u001b[3m\u001b[90m<dbl>\u001b[39m\u001b[23m 0.35294118\u001b[90m, \u001b[39m0.20437956\u001b[90m, \u001b[39m0.11764706\u001b[90m, \u001b[39m0.20512821\u001b[90m, \u001b[39m0.34657…\n",
      "$ OR_RIM         \u001b[3m\u001b[90m<dbl>\u001b[39m\u001b[23m 1.0000000\u001b[90m, \u001b[39m0.9343066\u001b[90m, \u001b[39m0.4705882\u001b[90m, \u001b[39m0.4688645\u001b[90m, \u001b[39m0.6353791\u001b[90m, \u001b[39m…\n",
      "$ `TM OR_RIM`    \u001b[3m\u001b[90m<dbl>\u001b[39m\u001b[23m 0.20588235\u001b[90m, \u001b[39m0.20437956\u001b[90m, \u001b[39m0.26470588\u001b[90m, \u001b[39m0.00000000\u001b[90m, \u001b[39m0.14440…\n",
      "$ OR_PAINT       \u001b[3m\u001b[90m<dbl>\u001b[39m\u001b[23m 2.852941\u001b[90m, \u001b[39m2.423358\u001b[90m, \u001b[39m3.352941\u001b[90m, \u001b[39m3.164835\u001b[90m, \u001b[39m2.830325\u001b[90m, \u001b[39m2.735…\n",
      "$ `TM OR_PAINT`  \u001b[3m\u001b[90m<dbl>\u001b[39m\u001b[23m 0.4411765\u001b[90m, \u001b[39m0.2627737\u001b[90m, \u001b[39m0.6764706\u001b[90m, \u001b[39m0.5860806\u001b[90m, \u001b[39m0.5198556\u001b[90m, \u001b[39m…\n",
      "$ OR_NP2         \u001b[3m\u001b[90m<dbl>\u001b[39m\u001b[23m 1.0294118\u001b[90m, \u001b[39m0.7883212\u001b[90m, \u001b[39m1.0588235\u001b[90m, \u001b[39m0.9084249\u001b[90m, \u001b[39m0.8953069\u001b[90m, \u001b[39m…\n",
      "$ `TM OR_NP2`    \u001b[3m\u001b[90m<dbl>\u001b[39m\u001b[23m 0.08823529\u001b[90m, \u001b[39m0.14598540\u001b[90m, \u001b[39m0.23529412\u001b[90m, \u001b[39m0.08791209\u001b[90m, \u001b[39m0.17328…\n",
      "$ OR_3C          \u001b[3m\u001b[90m<dbl>\u001b[39m\u001b[23m 0.4705882\u001b[90m, \u001b[39m0.4379562\u001b[90m, \u001b[39m0.5000000\u001b[90m, \u001b[39m0.3223443\u001b[90m, \u001b[39m0.2021661\u001b[90m, \u001b[39m…\n",
      "$ `TM OR_3C`     \u001b[3m\u001b[90m<dbl>\u001b[39m\u001b[23m 0.05882353\u001b[90m, \u001b[39m0.17518248\u001b[90m, \u001b[39m0.08823529\u001b[90m, \u001b[39m0.02930403\u001b[90m, \u001b[39m0.02888…\n",
      "$ OR_3L          \u001b[3m\u001b[90m<dbl>\u001b[39m\u001b[23m 3.676471\u001b[90m, \u001b[39m3.795620\u001b[90m, \u001b[39m3.323529\u001b[90m, \u001b[39m4.219780\u001b[90m, \u001b[39m2.657040\u001b[90m, \u001b[39m3.588…\n",
      "$ `TM OR_3L`     \u001b[3m\u001b[90m<dbl>\u001b[39m\u001b[23m 0.7352941\u001b[90m, \u001b[39m0.8759124\u001b[90m, \u001b[39m0.5882353\u001b[90m, \u001b[39m0.4981685\u001b[90m, \u001b[39m0.3754513\u001b[90m, \u001b[39m…\n",
      "$ OR_FT          \u001b[3m\u001b[90m<dbl>\u001b[39m\u001b[23m 0.29411765\u001b[90m, \u001b[39m0.17518248\u001b[90m, \u001b[39m0.20588235\u001b[90m, \u001b[39m0.17582418\u001b[90m, \u001b[39m0.11552…\n",
      "$ `TM OR_FT`     \u001b[3m\u001b[90m<dbl>\u001b[39m\u001b[23m 0.05882353\u001b[90m, \u001b[39m0.05839416\u001b[90m, \u001b[39m0.05882353\u001b[90m, \u001b[39m0.00000000\u001b[90m, \u001b[39m0.11552…\n",
      "$ DR_RIM         \u001b[3m\u001b[90m<dbl>\u001b[39m\u001b[23m 2.0882353\u001b[90m, \u001b[39m2.2481752\u001b[90m, \u001b[39m1.0294118\u001b[90m, \u001b[39m0.9377289\u001b[90m, \u001b[39m1.0685921\u001b[90m, \u001b[39m…\n",
      "$ `TM DR_RIM`    \u001b[3m\u001b[90m<dbl>\u001b[39m\u001b[23m 0.20588235\u001b[90m, \u001b[39m0.17518248\u001b[90m, \u001b[39m0.02941176\u001b[90m, \u001b[39m0.08791209\u001b[90m, \u001b[39m0.14440…\n",
      "$ DR_PAINT       \u001b[3m\u001b[90m<dbl>\u001b[39m\u001b[23m 5.941176\u001b[90m, \u001b[39m6.160584\u001b[90m, \u001b[39m6.705882\u001b[90m, \u001b[39m6.271062\u001b[90m, \u001b[39m5.718412\u001b[90m, \u001b[39m6.735…\n",
      "$ `TM DR_PAINT`  \u001b[3m\u001b[90m<dbl>\u001b[39m\u001b[23m 0.3823529\u001b[90m, \u001b[39m0.4379562\u001b[90m, \u001b[39m0.4411765\u001b[90m, \u001b[39m0.3809524\u001b[90m, \u001b[39m0.2599278\u001b[90m, \u001b[39m…\n",
      "$ DR_NP2         \u001b[3m\u001b[90m<dbl>\u001b[39m\u001b[23m 2.911765\u001b[90m, \u001b[39m3.240876\u001b[90m, \u001b[39m2.764706\u001b[90m, \u001b[39m2.490842\u001b[90m, \u001b[39m3.407942\u001b[90m, \u001b[39m1.647…\n",
      "$ `TM DR_NP2`    \u001b[3m\u001b[90m<dbl>\u001b[39m\u001b[23m 0.29411765\u001b[90m, \u001b[39m0.11678832\u001b[90m, \u001b[39m0.08823529\u001b[90m, \u001b[39m0.20512821\u001b[90m, \u001b[39m0.25992…\n",
      "$ DR_3C          \u001b[3m\u001b[90m<dbl>\u001b[39m\u001b[23m 1.0000000\u001b[90m, \u001b[39m1.1094891\u001b[90m, \u001b[39m0.7941176\u001b[90m, \u001b[39m0.6739927\u001b[90m, \u001b[39m1.3574007\u001b[90m, \u001b[39m…\n",
      "$ `TM DR_3C`     \u001b[3m\u001b[90m<dbl>\u001b[39m\u001b[23m 0.11764706\u001b[90m, \u001b[39m0.14598540\u001b[90m, \u001b[39m0.08823529\u001b[90m, \u001b[39m0.00000000\u001b[90m, \u001b[39m0.08664…\n",
      "$ DR_3L          \u001b[3m\u001b[90m<dbl>\u001b[39m\u001b[23m 9.000000\u001b[90m, \u001b[39m7.678832\u001b[90m, \u001b[39m8.088235\u001b[90m, \u001b[39m10.666667\u001b[90m, \u001b[39m8.924188\u001b[90m, \u001b[39m9.50…\n",
      "$ `TM DR_3L`     \u001b[3m\u001b[90m<dbl>\u001b[39m\u001b[23m 1.1764706\u001b[90m, \u001b[39m0.6423358\u001b[90m, \u001b[39m0.5882353\u001b[90m, \u001b[39m0.9963370\u001b[90m, \u001b[39m0.9819495\u001b[90m, \u001b[39m…\n",
      "$ DR_FT          \u001b[3m\u001b[90m<dbl>\u001b[39m\u001b[23m 1.0294118\u001b[90m, \u001b[39m1.6642336\u001b[90m, \u001b[39m1.5882353\u001b[90m, \u001b[39m1.3479853\u001b[90m, \u001b[39m0.9530686\u001b[90m, \u001b[39m…\n",
      "$ `TM DR_FT`     \u001b[3m\u001b[90m<dbl>\u001b[39m\u001b[23m 0.20588235\u001b[90m, \u001b[39m0.05839416\u001b[90m, \u001b[39m0.29411765\u001b[90m, \u001b[39m0.08791209\u001b[90m, \u001b[39m0.08664…\n",
      "$ FTM_T          \u001b[3m\u001b[90m<dbl>\u001b[39m\u001b[23m 0.1764706\u001b[90m, \u001b[39m0.3503650\u001b[90m, \u001b[39m0.6176471\u001b[90m, \u001b[39m0.2051282\u001b[90m, \u001b[39m0.2888087\u001b[90m, \u001b[39m…\n",
      "$ FTA_T          \u001b[3m\u001b[90m<dbl>\u001b[39m\u001b[23m 0.2058824\u001b[90m, \u001b[39m0.3795620\u001b[90m, \u001b[39m0.7352941\u001b[90m, \u001b[39m0.2051282\u001b[90m, \u001b[39m0.3465704\u001b[90m, \u001b[39m…\n",
      "$ FTM_1          \u001b[3m\u001b[90m<dbl>\u001b[39m\u001b[23m 1.382353\u001b[90m, \u001b[39m1.664234\u001b[90m, \u001b[39m1.294118\u001b[90m, \u001b[39m1.494505\u001b[90m, \u001b[39m1.530686\u001b[90m, \u001b[39m1.205…\n",
      "$ FTA_1          \u001b[3m\u001b[90m<dbl>\u001b[39m\u001b[23m 1.647059\u001b[90m, \u001b[39m2.102190\u001b[90m, \u001b[39m1.941176\u001b[90m, \u001b[39m2.021978\u001b[90m, \u001b[39m2.079422\u001b[90m, \u001b[39m1.558…\n",
      "$ FTM_2          \u001b[3m\u001b[90m<dbl>\u001b[39m\u001b[23m 10.176471\u001b[90m, \u001b[39m9.956204\u001b[90m, \u001b[39m9.058824\u001b[90m, \u001b[39m10.227106\u001b[90m, \u001b[39m11.436823\u001b[90m, \u001b[39m11…\n",
      "$ FTA_2          \u001b[3m\u001b[90m<dbl>\u001b[39m\u001b[23m 13.70588\u001b[90m, \u001b[39m13.05109\u001b[90m, \u001b[39m11.94118\u001b[90m, \u001b[39m12.83516\u001b[90m, \u001b[39m14.35379\u001b[90m, \u001b[39m15.47…\n",
      "$ `FT 0/2`       \u001b[3m\u001b[90m<dbl>\u001b[39m\u001b[23m 0.6470588\u001b[90m, \u001b[39m0.6131387\u001b[90m, \u001b[39m0.2941176\u001b[90m, \u001b[39m0.3516484\u001b[90m, \u001b[39m0.4043321\u001b[90m, \u001b[39m…\n",
      "$ FTM_3          \u001b[3m\u001b[90m<dbl>\u001b[39m\u001b[23m 0.5882353\u001b[90m, \u001b[39m0.6715328\u001b[90m, \u001b[39m0.8823529\u001b[90m, \u001b[39m0.8791209\u001b[90m, \u001b[39m1.0685921\u001b[90m, \u001b[39m…\n",
      "$ FTA_3          \u001b[3m\u001b[90m<dbl>\u001b[39m\u001b[23m 0.7941176\u001b[90m, \u001b[39m0.7883212\u001b[90m, \u001b[39m1.0588235\u001b[90m, \u001b[39m0.9670330\u001b[90m, \u001b[39m1.2129964\u001b[90m, \u001b[39m…\n",
      "$ `FT 0/3`       \u001b[3m\u001b[90m<dbl>\u001b[39m\u001b[23m 0.02941176\u001b[90m, \u001b[39m0.00000000\u001b[90m, \u001b[39m0.00000000\u001b[90m, \u001b[39m0.00000000\u001b[90m, \u001b[39m0.00000…\n",
      "$ RIM_M          \u001b[3m\u001b[90m<dbl>\u001b[39m\u001b[23m 9.382353\u001b[90m, \u001b[39m8.613139\u001b[90m, \u001b[39m7.705882\u001b[90m, \u001b[39m8.029304\u001b[90m, \u001b[39m6.498195\u001b[90m, \u001b[39m7.029…\n",
      "$ RIM_A          \u001b[3m\u001b[90m<dbl>\u001b[39m\u001b[23m 12.147059\u001b[90m, \u001b[39m11.211679\u001b[90m, \u001b[39m9.794118\u001b[90m, \u001b[39m9.641026\u001b[90m, \u001b[39m8.404332\u001b[90m, \u001b[39m9.1…\n",
      "$ PAINT_M        \u001b[3m\u001b[90m<dbl>\u001b[39m\u001b[23m 9.470588\u001b[90m, \u001b[39m8.467153\u001b[90m, \u001b[39m10.382353\u001b[90m, \u001b[39m10.080586\u001b[90m, \u001b[39m9.935018\u001b[90m, \u001b[39m8.7…\n",
      "$ PAINT_A        \u001b[3m\u001b[90m<dbl>\u001b[39m\u001b[23m 18.61765\u001b[90m, \u001b[39m17.57664\u001b[90m, \u001b[39m21.91176\u001b[90m, \u001b[39m22.12454\u001b[90m, \u001b[39m20.44765\u001b[90m, \u001b[39m18.44…\n",
      "$ MID_M          \u001b[3m\u001b[90m<dbl>\u001b[39m\u001b[23m 2.852941\u001b[90m, \u001b[39m3.007299\u001b[90m, \u001b[39m2.764706\u001b[90m, \u001b[39m2.842491\u001b[90m, \u001b[39m3.494585\u001b[90m, \u001b[39m3.294…\n",
      "$ MID_A          \u001b[3m\u001b[90m<dbl>\u001b[39m\u001b[23m 6.794118\u001b[90m, \u001b[39m7.153285\u001b[90m, \u001b[39m7.558824\u001b[90m, \u001b[39m7.267399\u001b[90m, \u001b[39m8.173285\u001b[90m, \u001b[39m7.823…\n",
      "$ `3C_M`         \u001b[3m\u001b[90m<dbl>\u001b[39m\u001b[23m 1.6176471\u001b[90m, \u001b[39m1.6934307\u001b[90m, \u001b[39m1.2647059\u001b[90m, \u001b[39m1.1721612\u001b[90m, \u001b[39m1.1263538\u001b[90m, \u001b[39m…\n",
      "$ `3C_A`         \u001b[3m\u001b[90m<dbl>\u001b[39m\u001b[23m 3.941176\u001b[90m, \u001b[39m3.737226\u001b[90m, \u001b[39m2.970588\u001b[90m, \u001b[39m2.139194\u001b[90m, \u001b[39m2.830325\u001b[90m, \u001b[39m3.411…\n",
      "$ `3L_M`         \u001b[3m\u001b[90m<dbl>\u001b[39m\u001b[23m 8.617647\u001b[90m, \u001b[39m8.729927\u001b[90m, \u001b[39m7.264706\u001b[90m, \u001b[39m8.761905\u001b[90m, \u001b[39m7.653430\u001b[90m, \u001b[39m8.441…\n",
      "$ `3L_A`         \u001b[3m\u001b[90m<dbl>\u001b[39m\u001b[23m 22.02941\u001b[90m, \u001b[39m23.56204\u001b[90m, \u001b[39m21.61765\u001b[90m, \u001b[39m24.41026\u001b[90m, \u001b[39m21.19856\u001b[90m, \u001b[39m22.20…\n",
      "$ `3H_M`         \u001b[3m\u001b[90m<dbl>\u001b[39m\u001b[23m 0.00000000\u001b[90m, \u001b[39m0.02919708\u001b[90m, \u001b[39m0.00000000\u001b[90m, \u001b[39m0.00000000\u001b[90m, \u001b[39m0.00000…\n",
      "$ `3H_A`         \u001b[3m\u001b[90m<dbl>\u001b[39m\u001b[23m 0.26470588\u001b[90m, \u001b[39m0.23357664\u001b[90m, \u001b[39m0.11764706\u001b[90m, \u001b[39m0.14652015\u001b[90m, \u001b[39m0.23104…\n"
     ]
    }
   ],
   "source": [
    "glimpse(opp_regular_mean)"
   ]
  },
  {
   "cell_type": "code",
   "execution_count": 123,
   "metadata": {
    "vscode": {
     "languageId": "r"
    }
   },
   "outputs": [],
   "source": [
    "# Średnia per games played\n",
    "# Argument wejściowy to players_x_sum\n",
    "mean_players <- function(players) {\n",
    "  players %>%\n",
    "    mutate(across(where(is.numeric) & !c(MIN, AGE, GP), ~.x / GP)) %>%\n",
    "    select(-MIN)\n",
    "}"
   ]
  },
  {
   "cell_type": "code",
   "execution_count": 124,
   "metadata": {
    "vscode": {
     "languageId": "r"
    }
   },
   "outputs": [],
   "source": [
    "players_regular_mean <- mean_players(players_regular_sum)\n",
    "players_playin_mean <- mean_players(players_playin_sum)\n",
    "players_playoff_mean <- mean_players(players_playoff_sum)\n",
    "players_final4_mean <- mean_players(players_final4_sum)"
   ]
  },
  {
   "cell_type": "code",
   "execution_count": 125,
   "metadata": {
    "vscode": {
     "languageId": "r"
    }
   },
   "outputs": [
    {
     "name": "stdout",
     "output_type": "stream",
     "text": [
      "Rows: 289\n",
      "Columns: 72\n",
      "$ NAME           \u001b[3m\u001b[90m<chr>\u001b[39m\u001b[23m \"Achille Polonara\"\u001b[90m, \u001b[39m\"Adam Hanga\"\u001b[90m, \u001b[39m\"Alberto Abalde\"\u001b[90m, \u001b[39m\"Al…\n",
      "$ `TM NAME`      \u001b[3m\u001b[90m<chr>\u001b[39m\u001b[23m \"Virtus Bologna\"\u001b[90m, \u001b[39m\"Crvena Zvezda\"\u001b[90m, \u001b[39m\"Real Madrid\"\u001b[90m, \u001b[39m\"Olym…\n",
      "$ AGE            \u001b[3m\u001b[90m<int>\u001b[39m\u001b[23m 33\u001b[90m, \u001b[39m35\u001b[90m, \u001b[39m29\u001b[90m, \u001b[39m29\u001b[90m, \u001b[39m30\u001b[90m, \u001b[39m24\u001b[90m, \u001b[39m24\u001b[90m, \u001b[39m25\u001b[90m, \u001b[39m31\u001b[90m, \u001b[39m31\u001b[90m, \u001b[39m19\u001b[90m, \u001b[39m27\u001b[90m, \u001b[39m27\u001b[90m, \u001b[39m28\u001b[90m,\u001b[39m…\n",
      "$ GP             \u001b[3m\u001b[90m<int>\u001b[39m\u001b[23m 19\u001b[90m, \u001b[39m26\u001b[90m, \u001b[39m22\u001b[90m, \u001b[39m33\u001b[90m, \u001b[39m24\u001b[90m, \u001b[39m23\u001b[90m, \u001b[39m31\u001b[90m, \u001b[39m32\u001b[90m, \u001b[39m22\u001b[90m, \u001b[39m30\u001b[90m, \u001b[39m1\u001b[90m, \u001b[39m33\u001b[90m, \u001b[39m10\u001b[90m, \u001b[39m22\u001b[90m, \u001b[39m…\n",
      "$ PTS            \u001b[3m\u001b[90m<dbl>\u001b[39m\u001b[23m 2.894737\u001b[90m, \u001b[39m7.961538\u001b[90m, \u001b[39m3.590909\u001b[90m, \u001b[39m13.393939\u001b[90m, \u001b[39m10.208333\u001b[90m, \u001b[39m2.9…\n",
      "$ `2PTM`         \u001b[3m\u001b[90m<dbl>\u001b[39m\u001b[23m 0.6315789\u001b[90m, \u001b[39m1.6153846\u001b[90m, \u001b[39m0.4090909\u001b[90m, \u001b[39m2.9090909\u001b[90m, \u001b[39m2.8333333\u001b[90m, \u001b[39m…\n",
      "$ `2PTA`         \u001b[3m\u001b[90m<dbl>\u001b[39m\u001b[23m 1.3684211\u001b[90m, \u001b[39m3.4230769\u001b[90m, \u001b[39m0.8181818\u001b[90m, \u001b[39m4.9393939\u001b[90m, \u001b[39m4.2083333\u001b[90m, \u001b[39m…\n",
      "$ `3PTM`         \u001b[3m\u001b[90m<dbl>\u001b[39m\u001b[23m 0.52631579\u001b[90m, \u001b[39m1.26923077\u001b[90m, \u001b[39m0.81818182\u001b[90m, \u001b[39m1.84848485\u001b[90m, \u001b[39m1.08333…\n",
      "$ `3PTA`         \u001b[3m\u001b[90m<dbl>\u001b[39m\u001b[23m 1.2631579\u001b[90m, \u001b[39m3.8076923\u001b[90m, \u001b[39m2.0454545\u001b[90m, \u001b[39m3.6060606\u001b[90m, \u001b[39m3.6666667\u001b[90m, \u001b[39m…\n",
      "$ FGM            \u001b[3m\u001b[90m<dbl>\u001b[39m\u001b[23m 1.157895\u001b[90m, \u001b[39m2.884615\u001b[90m, \u001b[39m1.227273\u001b[90m, \u001b[39m4.757576\u001b[90m, \u001b[39m3.916667\u001b[90m, \u001b[39m1.000…\n",
      "$ FGA            \u001b[3m\u001b[90m<dbl>\u001b[39m\u001b[23m 2.631579\u001b[90m, \u001b[39m7.230769\u001b[90m, \u001b[39m2.863636\u001b[90m, \u001b[39m8.545455\u001b[90m, \u001b[39m7.875000\u001b[90m, \u001b[39m1.913…\n",
      "$ FTM            \u001b[3m\u001b[90m<dbl>\u001b[39m\u001b[23m 0.05263158\u001b[90m, \u001b[39m0.92307692\u001b[90m, \u001b[39m0.31818182\u001b[90m, \u001b[39m2.03030303\u001b[90m, \u001b[39m1.29166…\n",
      "$ FTA            \u001b[3m\u001b[90m<dbl>\u001b[39m\u001b[23m 0.1578947\u001b[90m, \u001b[39m1.7307692\u001b[90m, \u001b[39m0.3636364\u001b[90m, \u001b[39m2.3030303\u001b[90m, \u001b[39m1.6666667\u001b[90m, \u001b[39m…\n",
      "$ OR             \u001b[3m\u001b[90m<dbl>\u001b[39m\u001b[23m 0.9473684\u001b[90m, \u001b[39m0.5384615\u001b[90m, \u001b[39m0.2727273\u001b[90m, \u001b[39m1.1515152\u001b[90m, \u001b[39m0.3333333\u001b[90m, \u001b[39m…\n",
      "$ DR             \u001b[3m\u001b[90m<dbl>\u001b[39m\u001b[23m 1.5263158\u001b[90m, \u001b[39m2.3846154\u001b[90m, \u001b[39m1.7727273\u001b[90m, \u001b[39m3.6969697\u001b[90m, \u001b[39m1.4166667\u001b[90m, \u001b[39m…\n",
      "$ TR             \u001b[3m\u001b[90m<dbl>\u001b[39m\u001b[23m 2.4736842\u001b[90m, \u001b[39m2.9230769\u001b[90m, \u001b[39m2.0454545\u001b[90m, \u001b[39m4.8484848\u001b[90m, \u001b[39m1.7500000\u001b[90m, \u001b[39m…\n",
      "$ AST            \u001b[3m\u001b[90m<dbl>\u001b[39m\u001b[23m 1.2105263\u001b[90m, \u001b[39m2.3846154\u001b[90m, \u001b[39m0.7272727\u001b[90m, \u001b[39m1.5454545\u001b[90m, \u001b[39m1.8333333\u001b[90m, \u001b[39m…\n",
      "$ TO             \u001b[3m\u001b[90m<dbl>\u001b[39m\u001b[23m 0.4736842\u001b[90m, \u001b[39m1.3076923\u001b[90m, \u001b[39m0.2272727\u001b[90m, \u001b[39m1.2121212\u001b[90m, \u001b[39m1.3333333\u001b[90m, \u001b[39m…\n",
      "$ ST             \u001b[3m\u001b[90m<dbl>\u001b[39m\u001b[23m 0.4736842\u001b[90m, \u001b[39m0.9615385\u001b[90m, \u001b[39m0.4545455\u001b[90m, \u001b[39m0.5151515\u001b[90m, \u001b[39m0.7083333\u001b[90m, \u001b[39m…\n",
      "$ BLK            \u001b[3m\u001b[90m<dbl>\u001b[39m\u001b[23m 0.36842105\u001b[90m, \u001b[39m0.30769231\u001b[90m, \u001b[39m0.04545455\u001b[90m, \u001b[39m0.12121212\u001b[90m, \u001b[39m0.16666…\n",
      "$ BLKA           \u001b[3m\u001b[90m<dbl>\u001b[39m\u001b[23m 0.05263158\u001b[90m, \u001b[39m0.19230769\u001b[90m, \u001b[39m0.09090909\u001b[90m, \u001b[39m0.33333333\u001b[90m, \u001b[39m0.25000…\n",
      "$ PF             \u001b[3m\u001b[90m<dbl>\u001b[39m\u001b[23m 1.421053\u001b[90m, \u001b[39m1.961538\u001b[90m, \u001b[39m1.136364\u001b[90m, \u001b[39m2.303030\u001b[90m, \u001b[39m1.791667\u001b[90m, \u001b[39m1.565…\n",
      "$ DF             \u001b[3m\u001b[90m<dbl>\u001b[39m\u001b[23m 0.7368421\u001b[90m, \u001b[39m2.2692308\u001b[90m, \u001b[39m0.4090909\u001b[90m, \u001b[39m2.2121212\u001b[90m, \u001b[39m1.7916667\u001b[90m, \u001b[39m…\n",
      "$ VAL            \u001b[3m\u001b[90m<dbl>\u001b[39m\u001b[23m 4.631579\u001b[90m, \u001b[39m8.192308\u001b[90m, \u001b[39m4.136364\u001b[90m, \u001b[39m14.727273\u001b[90m, \u001b[39m8.750000\u001b[90m, \u001b[39m3.17…\n",
      "$ `+ / -`        \u001b[3m\u001b[90m<dbl>\u001b[39m\u001b[23m 0.21052632\u001b[90m, \u001b[39m-1.42307692\u001b[90m, \u001b[39m2.04545455\u001b[90m, \u001b[39m3.36363636\u001b[90m, \u001b[39m1.9166…\n",
      "$ POSS           \u001b[3m\u001b[90m<dbl>\u001b[39m\u001b[23m 3.157895\u001b[90m, \u001b[39m9.346154\u001b[90m, \u001b[39m3.272727\u001b[90m, \u001b[39m10.575758\u001b[90m, \u001b[39m9.916667\u001b[90m, \u001b[39m2.69…\n",
      "$ ASTED_2FG      \u001b[3m\u001b[90m<dbl>\u001b[39m\u001b[23m 0.26315789\u001b[90m, \u001b[39m0.50000000\u001b[90m, \u001b[39m0.09090909\u001b[90m, \u001b[39m2.21212121\u001b[90m, \u001b[39m0.75000…\n",
      "$ ASTED_3FG      \u001b[3m\u001b[90m<dbl>\u001b[39m\u001b[23m 0.52631579\u001b[90m, \u001b[39m0.76923077\u001b[90m, \u001b[39m0.59090909\u001b[90m, \u001b[39m1.81818182\u001b[90m, \u001b[39m0.58333…\n",
      "$ ASTED_FT       \u001b[3m\u001b[90m<dbl>\u001b[39m\u001b[23m 0.05263158\u001b[90m, \u001b[39m0.15384615\u001b[90m, \u001b[39m0.00000000\u001b[90m, \u001b[39m0.39393939\u001b[90m, \u001b[39m0.00000…\n",
      "$ `ASTED_FT PTS` \u001b[3m\u001b[90m<dbl>\u001b[39m\u001b[23m 0.1052632\u001b[90m, \u001b[39m0.1538462\u001b[90m, \u001b[39m0.0000000\u001b[90m, \u001b[39m0.6969697\u001b[90m, \u001b[39m0.0000000\u001b[90m, \u001b[39m…\n",
      "$ `AST (2P)`     \u001b[3m\u001b[90m<dbl>\u001b[39m\u001b[23m 0.42105263\u001b[90m, \u001b[39m1.34615385\u001b[90m, \u001b[39m0.40909091\u001b[90m, \u001b[39m0.87878788\u001b[90m, \u001b[39m0.70833…\n",
      "$ `AST (3P)`     \u001b[3m\u001b[90m<dbl>\u001b[39m\u001b[23m 0.63157895\u001b[90m, \u001b[39m0.65384615\u001b[90m, \u001b[39m0.22727273\u001b[90m, \u001b[39m0.57575758\u001b[90m, \u001b[39m0.91666…\n",
      "$ `AST (FT)`     \u001b[3m\u001b[90m<dbl>\u001b[39m\u001b[23m 0.15789474\u001b[90m, \u001b[39m0.38461538\u001b[90m, \u001b[39m0.09090909\u001b[90m, \u001b[39m0.06060606\u001b[90m, \u001b[39m0.20833…\n",
      "$ `AST PTS (FT)` \u001b[3m\u001b[90m<dbl>\u001b[39m\u001b[23m 0.21052632\u001b[90m, \u001b[39m0.53846154\u001b[90m, \u001b[39m0.18181818\u001b[90m, \u001b[39m0.12121212\u001b[90m, \u001b[39m0.41666…\n",
      "$ LTO            \u001b[3m\u001b[90m<dbl>\u001b[39m\u001b[23m 0.15789474\u001b[90m, \u001b[39m0.76923077\u001b[90m, \u001b[39m0.09090909\u001b[90m, \u001b[39m0.84848485\u001b[90m, \u001b[39m0.79166…\n",
      "$ DTO            \u001b[3m\u001b[90m<dbl>\u001b[39m\u001b[23m 0.3157895\u001b[90m, \u001b[39m0.5384615\u001b[90m, \u001b[39m0.1363636\u001b[90m, \u001b[39m0.3636364\u001b[90m, \u001b[39m0.5416667\u001b[90m, \u001b[39m…\n",
      "$ BLK2           \u001b[3m\u001b[90m<dbl>\u001b[39m\u001b[23m 0.31578947\u001b[90m, \u001b[39m0.11538462\u001b[90m, \u001b[39m0.04545455\u001b[90m, \u001b[39m0.09090909\u001b[90m, \u001b[39m0.08333…\n",
      "$ BLK3           \u001b[3m\u001b[90m<dbl>\u001b[39m\u001b[23m 0.00000000\u001b[90m, \u001b[39m0.00000000\u001b[90m, \u001b[39m0.00000000\u001b[90m, \u001b[39m0.00000000\u001b[90m, \u001b[39m0.08333…\n",
      "$ OR_RIM         \u001b[3m\u001b[90m<dbl>\u001b[39m\u001b[23m 0.10526316\u001b[90m, \u001b[39m0.00000000\u001b[90m, \u001b[39m0.04545455\u001b[90m, \u001b[39m0.15151515\u001b[90m, \u001b[39m0.08333…\n",
      "$ OR_PAINT       \u001b[3m\u001b[90m<dbl>\u001b[39m\u001b[23m 0.21052632\u001b[90m, \u001b[39m0.26923077\u001b[90m, \u001b[39m0.04545455\u001b[90m, \u001b[39m0.21212121\u001b[90m, \u001b[39m0.04166…\n",
      "$ OR_NP2         \u001b[3m\u001b[90m<dbl>\u001b[39m\u001b[23m 0.10526316\u001b[90m, \u001b[39m0.03846154\u001b[90m, \u001b[39m0.00000000\u001b[90m, \u001b[39m0.06060606\u001b[90m, \u001b[39m0.00000…\n",
      "$ OR_3C          \u001b[3m\u001b[90m<dbl>\u001b[39m\u001b[23m 0.15789474\u001b[90m, \u001b[39m0.03846154\u001b[90m, \u001b[39m0.00000000\u001b[90m, \u001b[39m0.15151515\u001b[90m, \u001b[39m0.04166…\n",
      "$ OR_3L          \u001b[3m\u001b[90m<dbl>\u001b[39m\u001b[23m 0.26315789\u001b[90m, \u001b[39m0.15384615\u001b[90m, \u001b[39m0.18181818\u001b[90m, \u001b[39m0.51515152\u001b[90m, \u001b[39m0.16666…\n",
      "$ OR_FT          \u001b[3m\u001b[90m<dbl>\u001b[39m\u001b[23m 0.10526316\u001b[90m, \u001b[39m0.03846154\u001b[90m, \u001b[39m0.00000000\u001b[90m, \u001b[39m0.06060606\u001b[90m, \u001b[39m0.00000…\n",
      "$ DR_RIM         \u001b[3m\u001b[90m<dbl>\u001b[39m\u001b[23m 0.10526316\u001b[90m, \u001b[39m0.03846154\u001b[90m, \u001b[39m0.18181818\u001b[90m, \u001b[39m0.36363636\u001b[90m, \u001b[39m0.04166…\n",
      "$ DR_PAINT       \u001b[3m\u001b[90m<dbl>\u001b[39m\u001b[23m 0.52631579\u001b[90m, \u001b[39m0.38461538\u001b[90m, \u001b[39m0.40909091\u001b[90m, \u001b[39m0.93939394\u001b[90m, \u001b[39m0.33333…\n",
      "$ DR_NP2         \u001b[3m\u001b[90m<dbl>\u001b[39m\u001b[23m 0.15789474\u001b[90m, \u001b[39m0.38461538\u001b[90m, \u001b[39m0.22727273\u001b[90m, \u001b[39m0.60606061\u001b[90m, \u001b[39m0.16666…\n",
      "$ DR_3C          \u001b[3m\u001b[90m<dbl>\u001b[39m\u001b[23m 0.00000000\u001b[90m, \u001b[39m0.03846154\u001b[90m, \u001b[39m0.00000000\u001b[90m, \u001b[39m0.18181818\u001b[90m, \u001b[39m0.12500…\n",
      "$ DR_3L          \u001b[3m\u001b[90m<dbl>\u001b[39m\u001b[23m 0.6315789\u001b[90m, \u001b[39m1.3461538\u001b[90m, \u001b[39m0.9090909\u001b[90m, \u001b[39m1.3636364\u001b[90m, \u001b[39m0.7083333\u001b[90m, \u001b[39m…\n",
      "$ DR_FT          \u001b[3m\u001b[90m<dbl>\u001b[39m\u001b[23m 0.10526316\u001b[90m, \u001b[39m0.19230769\u001b[90m, \u001b[39m0.04545455\u001b[90m, \u001b[39m0.24242424\u001b[90m, \u001b[39m0.04166…\n",
      "$ FTM_T          \u001b[3m\u001b[90m<dbl>\u001b[39m\u001b[23m 0.00000000\u001b[90m, \u001b[39m0.00000000\u001b[90m, \u001b[39m0.00000000\u001b[90m, \u001b[39m0.24242424\u001b[90m, \u001b[39m0.00000…\n",
      "$ FTA_T          \u001b[3m\u001b[90m<dbl>\u001b[39m\u001b[23m 0.00000000\u001b[90m, \u001b[39m0.00000000\u001b[90m, \u001b[39m0.00000000\u001b[90m, \u001b[39m0.30303030\u001b[90m, \u001b[39m0.00000…\n",
      "$ FTM_1          \u001b[3m\u001b[90m<dbl>\u001b[39m\u001b[23m 0.00000000\u001b[90m, \u001b[39m0.07692308\u001b[90m, \u001b[39m0.00000000\u001b[90m, \u001b[39m0.33333333\u001b[90m, \u001b[39m0.16666…\n",
      "$ FTA_1          \u001b[3m\u001b[90m<dbl>\u001b[39m\u001b[23m 0.05263158\u001b[90m, \u001b[39m0.11538462\u001b[90m, \u001b[39m0.00000000\u001b[90m, \u001b[39m0.36363636\u001b[90m, \u001b[39m0.25000…\n",
      "$ FTM_2          \u001b[3m\u001b[90m<dbl>\u001b[39m\u001b[23m 0.05263158\u001b[90m, \u001b[39m0.84615385\u001b[90m, \u001b[39m0.31818182\u001b[90m, \u001b[39m1.33333333\u001b[90m, \u001b[39m1.12500…\n",
      "$ FTA_2          \u001b[3m\u001b[90m<dbl>\u001b[39m\u001b[23m 0.1052632\u001b[90m, \u001b[39m1.6153846\u001b[90m, \u001b[39m0.3636364\u001b[90m, \u001b[39m1.5151515\u001b[90m, \u001b[39m1.4166667\u001b[90m, \u001b[39m…\n",
      "$ `FT 0/2`       \u001b[3m\u001b[90m<dbl>\u001b[39m\u001b[23m 0.00000000\u001b[90m, \u001b[39m0.15384615\u001b[90m, \u001b[39m0.00000000\u001b[90m, \u001b[39m0.00000000\u001b[90m, \u001b[39m0.00000…\n",
      "$ FTM_3          \u001b[3m\u001b[90m<dbl>\u001b[39m\u001b[23m 0.00000000\u001b[90m, \u001b[39m0.00000000\u001b[90m, \u001b[39m0.00000000\u001b[90m, \u001b[39m0.12121212\u001b[90m, \u001b[39m0.00000…\n",
      "$ FTA_3          \u001b[3m\u001b[90m<dbl>\u001b[39m\u001b[23m 0.00000000\u001b[90m, \u001b[39m0.00000000\u001b[90m, \u001b[39m0.00000000\u001b[90m, \u001b[39m0.12121212\u001b[90m, \u001b[39m0.00000…\n",
      "$ `FT 0/3`       \u001b[3m\u001b[90m<dbl>\u001b[39m\u001b[23m 0\u001b[90m, \u001b[39m0\u001b[90m, \u001b[39m0\u001b[90m, \u001b[39m0\u001b[90m, \u001b[39m0\u001b[90m, \u001b[39m0\u001b[90m, \u001b[39m0\u001b[90m, \u001b[39m0\u001b[90m, \u001b[39m0\u001b[90m, \u001b[39m0\u001b[90m, \u001b[39m0\u001b[90m, \u001b[39m0\u001b[90m, \u001b[39m0\u001b[90m, \u001b[39m0\u001b[90m, \u001b[39m0\u001b[90m, \u001b[39m0\u001b[90m, \u001b[39m0\u001b[90m, \u001b[39m0\u001b[90m, \u001b[39m0…\n",
      "$ RIM_M          \u001b[3m\u001b[90m<dbl>\u001b[39m\u001b[23m 0.21052632\u001b[90m, \u001b[39m0.42307692\u001b[90m, \u001b[39m0.09090909\u001b[90m, \u001b[39m1.36363636\u001b[90m, \u001b[39m1.37500…\n",
      "$ RIM_A          \u001b[3m\u001b[90m<dbl>\u001b[39m\u001b[23m 0.3157895\u001b[90m, \u001b[39m0.5384615\u001b[90m, \u001b[39m0.1363636\u001b[90m, \u001b[39m1.6969697\u001b[90m, \u001b[39m1.7500000\u001b[90m, \u001b[39m…\n",
      "$ PAINT_M        \u001b[3m\u001b[90m<dbl>\u001b[39m\u001b[23m 0.42105263\u001b[90m, \u001b[39m1.07692308\u001b[90m, \u001b[39m0.22727273\u001b[90m, \u001b[39m0.90909091\u001b[90m, \u001b[39m1.37500…\n",
      "$ PAINT_A        \u001b[3m\u001b[90m<dbl>\u001b[39m\u001b[23m 1.0526316\u001b[90m, \u001b[39m2.5000000\u001b[90m, \u001b[39m0.5454545\u001b[90m, \u001b[39m1.6666667\u001b[90m, \u001b[39m2.2083333\u001b[90m, \u001b[39m…\n",
      "$ MID_M          \u001b[3m\u001b[90m<dbl>\u001b[39m\u001b[23m 0.00000000\u001b[90m, \u001b[39m0.11538462\u001b[90m, \u001b[39m0.09090909\u001b[90m, \u001b[39m0.63636364\u001b[90m, \u001b[39m0.08333…\n",
      "$ MID_A          \u001b[3m\u001b[90m<dbl>\u001b[39m\u001b[23m 0.00000000\u001b[90m, \u001b[39m0.38461538\u001b[90m, \u001b[39m0.13636364\u001b[90m, \u001b[39m1.57575758\u001b[90m, \u001b[39m0.25000…\n",
      "$ `3C_M`         \u001b[3m\u001b[90m<dbl>\u001b[39m\u001b[23m 0.05263158\u001b[90m, \u001b[39m0.15384615\u001b[90m, \u001b[39m0.00000000\u001b[90m, \u001b[39m0.42424242\u001b[90m, \u001b[39m0.00000…\n",
      "$ `3C_A`         \u001b[3m\u001b[90m<dbl>\u001b[39m\u001b[23m 0.15789474\u001b[90m, \u001b[39m0.19230769\u001b[90m, \u001b[39m0.04545455\u001b[90m, \u001b[39m0.66666667\u001b[90m, \u001b[39m0.20833…\n",
      "$ `3L_M`         \u001b[3m\u001b[90m<dbl>\u001b[39m\u001b[23m 0.47368421\u001b[90m, \u001b[39m1.11538462\u001b[90m, \u001b[39m0.81818182\u001b[90m, \u001b[39m1.42424242\u001b[90m, \u001b[39m1.08333…\n",
      "$ `3L_A`         \u001b[3m\u001b[90m<dbl>\u001b[39m\u001b[23m 1.10526316\u001b[90m, \u001b[39m3.57692308\u001b[90m, \u001b[39m2.00000000\u001b[90m, \u001b[39m2.93939394\u001b[90m, \u001b[39m3.33333…\n",
      "$ `3H_M`         \u001b[3m\u001b[90m<dbl>\u001b[39m\u001b[23m 0\u001b[90m, \u001b[39m0\u001b[90m, \u001b[39m0\u001b[90m, \u001b[39m0\u001b[90m, \u001b[39m0\u001b[90m, \u001b[39m0\u001b[90m, \u001b[39m0\u001b[90m, \u001b[39m0\u001b[90m, \u001b[39m0\u001b[90m, \u001b[39m0\u001b[90m, \u001b[39m0\u001b[90m, \u001b[39m0\u001b[90m, \u001b[39m0\u001b[90m, \u001b[39m0\u001b[90m, \u001b[39m0\u001b[90m, \u001b[39m0\u001b[90m, \u001b[39m0\u001b[90m, \u001b[39m0\u001b[90m, \u001b[39m0…\n",
      "$ `3H_A`         \u001b[3m\u001b[90m<dbl>\u001b[39m\u001b[23m 0.00000000\u001b[90m, \u001b[39m0.03846154\u001b[90m, \u001b[39m0.00000000\u001b[90m, \u001b[39m0.00000000\u001b[90m, \u001b[39m0.12500…\n"
     ]
    }
   ],
   "source": [
    "glimpse(players_regular_mean)"
   ]
  },
  {
   "cell_type": "markdown",
   "metadata": {},
   "source": [
    "**Stworzenie Tbox, Obox, Pbox oraz innych zmiennych na potrzeby biblioteki BasketballAnalyzeR**"
   ]
  },
  {
   "cell_type": "code",
   "execution_count": 126,
   "metadata": {
    "vscode": {
     "languageId": "r"
    }
   },
   "outputs": [],
   "source": [
    "create_pbox <- function(players_sum) {\n",
    "  players_sum %>%\n",
    "    rename(\n",
    "      Player = NAME,\n",
    "      Team = `TM NAME`,\n",
    "      P2M = `2PTM`,\n",
    "      P2A = `2PTA`,\n",
    "      P3M = `3PTM`,\n",
    "      P3A = `3PTA`,\n",
    "      OREB = OR,\n",
    "      DREB = DR,\n",
    "      TOV = TO,\n",
    "      STL = ST,\n",
    "      BLK = BLK,\n",
    "      PM = `+ / -`\n",
    "    ) %>%\n",
    "    mutate(\n",
    "      P2p = round(P2M / P2A * 100, 2),\n",
    "      P3p = round(P3M / P3A * 100, 2),\n",
    "      FTp = round(FTM / FTA * 100, 2)\n",
    "    ) %>%\n",
    "    select(\n",
    "      Player, Team, GP, MIN, PTS,\n",
    "      P2M, P2A, P2p, P3M, P3A, P3p,\n",
    "      FTM, FTA, FTp,\n",
    "      OREB, DREB, AST, TOV, STL, BLK,\n",
    "      PF, PM, \n",
    "      RIM_M, RIM_A, PAINT_M, PAINT_A, \n",
    "      MID_M, MID_A, `3C_M`, `3C_A`, \n",
    "      `3L_M`, `3L_A`, `3H_M`, `3H_A`\n",
    "    )\n",
    "}"
   ]
  },
  {
   "cell_type": "code",
   "execution_count": 127,
   "metadata": {
    "vscode": {
     "languageId": "r"
    }
   },
   "outputs": [],
   "source": [
    "pbox_regular <- create_pbox(players_regular_sum)\n",
    "pbox_playin <- create_pbox(players_playin_sum)\n",
    "pbox_playoff <- create_pbox(players_playoff_sum)\n",
    "pbox_final4 <- create_pbox(players_final4_sum)"
   ]
  },
  {
   "cell_type": "code",
   "execution_count": 128,
   "metadata": {
    "vscode": {
     "languageId": "r"
    }
   },
   "outputs": [
    {
     "name": "stdout",
     "output_type": "stream",
     "text": [
      "Rows: 289\n",
      "Columns: 34\n",
      "$ Player  \u001b[3m\u001b[90m<chr>\u001b[39m\u001b[23m \"Achille Polonara\"\u001b[90m, \u001b[39m\"Adam Hanga\"\u001b[90m, \u001b[39m\"Alberto Abalde\"\u001b[90m, \u001b[39m\"Alec Pete…\n",
      "$ Team    \u001b[3m\u001b[90m<chr>\u001b[39m\u001b[23m \"Virtus Bologna\"\u001b[90m, \u001b[39m\"Crvena Zvezda\"\u001b[90m, \u001b[39m\"Real Madrid\"\u001b[90m, \u001b[39m\"Olympiacos\"…\n",
      "$ GP      \u001b[3m\u001b[90m<int>\u001b[39m\u001b[23m 19\u001b[90m, \u001b[39m26\u001b[90m, \u001b[39m22\u001b[90m, \u001b[39m33\u001b[90m, \u001b[39m24\u001b[90m, \u001b[39m23\u001b[90m, \u001b[39m31\u001b[90m, \u001b[39m32\u001b[90m, \u001b[39m22\u001b[90m, \u001b[39m30\u001b[90m, \u001b[39m1\u001b[90m, \u001b[39m33\u001b[90m, \u001b[39m10\u001b[90m, \u001b[39m22\u001b[90m, \u001b[39m28\u001b[90m, \u001b[39m32\u001b[90m,\u001b[39m…\n",
      "$ MIN     \u001b[3m\u001b[90m<int>\u001b[39m\u001b[23m 230\u001b[90m, \u001b[39m522\u001b[90m, \u001b[39m295\u001b[90m, \u001b[39m858\u001b[90m, \u001b[39m450\u001b[90m, \u001b[39m174\u001b[90m, \u001b[39m491\u001b[90m, \u001b[39m547\u001b[90m, \u001b[39m368\u001b[90m, \u001b[39m387\u001b[90m, \u001b[39m1\u001b[90m, \u001b[39m889\u001b[90m, \u001b[39m165\u001b[90m,\u001b[39m…\n",
      "$ PTS     \u001b[3m\u001b[90m<int>\u001b[39m\u001b[23m 55\u001b[90m, \u001b[39m207\u001b[90m, \u001b[39m79\u001b[90m, \u001b[39m442\u001b[90m, \u001b[39m245\u001b[90m, \u001b[39m68\u001b[90m, \u001b[39m172\u001b[90m, \u001b[39m127\u001b[90m, \u001b[39m145\u001b[90m, \u001b[39m158\u001b[90m, \u001b[39m3\u001b[90m, \u001b[39m346\u001b[90m, \u001b[39m50\u001b[90m, \u001b[39m166…\n",
      "$ P2M     \u001b[3m\u001b[90m<int>\u001b[39m\u001b[23m 12\u001b[90m, \u001b[39m42\u001b[90m, \u001b[39m9\u001b[90m, \u001b[39m96\u001b[90m, \u001b[39m68\u001b[90m, \u001b[39m22\u001b[90m, \u001b[39m52\u001b[90m, \u001b[39m16\u001b[90m, \u001b[39m15\u001b[90m, \u001b[39m66\u001b[90m, \u001b[39m0\u001b[90m, \u001b[39m88\u001b[90m, \u001b[39m14\u001b[90m, \u001b[39m7\u001b[90m, \u001b[39m58\u001b[90m, \u001b[39m50\u001b[90m, \u001b[39m2…\n",
      "$ P2A     \u001b[3m\u001b[90m<int>\u001b[39m\u001b[23m 26\u001b[90m, \u001b[39m89\u001b[90m, \u001b[39m18\u001b[90m, \u001b[39m163\u001b[90m, \u001b[39m101\u001b[90m, \u001b[39m35\u001b[90m, \u001b[39m81\u001b[90m, \u001b[39m34\u001b[90m, \u001b[39m25\u001b[90m, \u001b[39m107\u001b[90m, \u001b[39m1\u001b[90m, \u001b[39m175\u001b[90m, \u001b[39m21\u001b[90m, \u001b[39m16\u001b[90m, \u001b[39m89\u001b[90m,\u001b[39m…\n",
      "$ P2p     \u001b[3m\u001b[90m<dbl>\u001b[39m\u001b[23m 46.15\u001b[90m, \u001b[39m47.19\u001b[90m, \u001b[39m50.00\u001b[90m, \u001b[39m58.90\u001b[90m, \u001b[39m67.33\u001b[90m, \u001b[39m62.86\u001b[90m, \u001b[39m64.20\u001b[90m, \u001b[39m47.06\u001b[90m, \u001b[39m60.00\u001b[90m,\u001b[39m…\n",
      "$ P3M     \u001b[3m\u001b[90m<int>\u001b[39m\u001b[23m 10\u001b[90m, \u001b[39m33\u001b[90m, \u001b[39m18\u001b[90m, \u001b[39m61\u001b[90m, \u001b[39m26\u001b[90m, \u001b[39m1\u001b[90m, \u001b[39m12\u001b[90m, \u001b[39m24\u001b[90m, \u001b[39m33\u001b[90m, \u001b[39m1\u001b[90m, \u001b[39m1\u001b[90m, \u001b[39m36\u001b[90m, \u001b[39m6\u001b[90m, \u001b[39m47\u001b[90m, \u001b[39m0\u001b[90m, \u001b[39m12\u001b[90m, \u001b[39m14\u001b[90m,\u001b[39m…\n",
      "$ P3A     \u001b[3m\u001b[90m<int>\u001b[39m\u001b[23m 24\u001b[90m, \u001b[39m99\u001b[90m, \u001b[39m45\u001b[90m, \u001b[39m119\u001b[90m, \u001b[39m88\u001b[90m, \u001b[39m9\u001b[90m, \u001b[39m26\u001b[90m, \u001b[39m69\u001b[90m, \u001b[39m73\u001b[90m, \u001b[39m5\u001b[90m, \u001b[39m1\u001b[90m, \u001b[39m86\u001b[90m, \u001b[39m15\u001b[90m, \u001b[39m115\u001b[90m, \u001b[39m0\u001b[90m, \u001b[39m44\u001b[90m, \u001b[39m…\n",
      "$ P3p     \u001b[3m\u001b[90m<dbl>\u001b[39m\u001b[23m 41.67\u001b[90m, \u001b[39m33.33\u001b[90m, \u001b[39m40.00\u001b[90m, \u001b[39m51.26\u001b[90m, \u001b[39m29.55\u001b[90m, \u001b[39m11.11\u001b[90m, \u001b[39m46.15\u001b[90m, \u001b[39m34.78\u001b[90m, \u001b[39m45.21\u001b[90m,\u001b[39m…\n",
      "$ FTM     \u001b[3m\u001b[90m<int>\u001b[39m\u001b[23m 1\u001b[90m, \u001b[39m24\u001b[90m, \u001b[39m7\u001b[90m, \u001b[39m67\u001b[90m, \u001b[39m31\u001b[90m, \u001b[39m21\u001b[90m, \u001b[39m32\u001b[90m, \u001b[39m23\u001b[90m, \u001b[39m16\u001b[90m, \u001b[39m23\u001b[90m, \u001b[39m0\u001b[90m, \u001b[39m62\u001b[90m, \u001b[39m4\u001b[90m, \u001b[39m11\u001b[90m, \u001b[39m20\u001b[90m, \u001b[39m35\u001b[90m, \u001b[39m19…\n",
      "$ FTA     \u001b[3m\u001b[90m<int>\u001b[39m\u001b[23m 3\u001b[90m, \u001b[39m45\u001b[90m, \u001b[39m8\u001b[90m, \u001b[39m76\u001b[90m, \u001b[39m40\u001b[90m, \u001b[39m30\u001b[90m, \u001b[39m44\u001b[90m, \u001b[39m31\u001b[90m, \u001b[39m18\u001b[90m, \u001b[39m29\u001b[90m, \u001b[39m0\u001b[90m, \u001b[39m85\u001b[90m, \u001b[39m5\u001b[90m, \u001b[39m14\u001b[90m, \u001b[39m34\u001b[90m, \u001b[39m52\u001b[90m, \u001b[39m27…\n",
      "$ FTp     \u001b[3m\u001b[90m<dbl>\u001b[39m\u001b[23m 33.33\u001b[90m, \u001b[39m53.33\u001b[90m, \u001b[39m87.50\u001b[90m, \u001b[39m88.16\u001b[90m, \u001b[39m77.50\u001b[90m, \u001b[39m70.00\u001b[90m, \u001b[39m72.73\u001b[90m, \u001b[39m74.19\u001b[90m, \u001b[39m88.89\u001b[90m,\u001b[39m…\n",
      "$ OREB    \u001b[3m\u001b[90m<int>\u001b[39m\u001b[23m 18\u001b[90m, \u001b[39m14\u001b[90m, \u001b[39m6\u001b[90m, \u001b[39m38\u001b[90m, \u001b[39m8\u001b[90m, \u001b[39m13\u001b[90m, \u001b[39m32\u001b[90m, \u001b[39m13\u001b[90m, \u001b[39m14\u001b[90m, \u001b[39m35\u001b[90m, \u001b[39m0\u001b[90m, \u001b[39m40\u001b[90m, \u001b[39m14\u001b[90m, \u001b[39m5\u001b[90m, \u001b[39m30\u001b[90m, \u001b[39m32\u001b[90m, \u001b[39m17…\n",
      "$ DREB    \u001b[3m\u001b[90m<int>\u001b[39m\u001b[23m 29\u001b[90m, \u001b[39m62\u001b[90m, \u001b[39m39\u001b[90m, \u001b[39m122\u001b[90m, \u001b[39m34\u001b[90m, \u001b[39m16\u001b[90m, \u001b[39m36\u001b[90m, \u001b[39m46\u001b[90m, \u001b[39m30\u001b[90m, \u001b[39m45\u001b[90m, \u001b[39m0\u001b[90m, \u001b[39m98\u001b[90m, \u001b[39m18\u001b[90m, \u001b[39m28\u001b[90m, \u001b[39m47\u001b[90m, \u001b[39m24…\n",
      "$ AST     \u001b[3m\u001b[90m<int>\u001b[39m\u001b[23m 23\u001b[90m, \u001b[39m62\u001b[90m, \u001b[39m16\u001b[90m, \u001b[39m51\u001b[90m, \u001b[39m44\u001b[90m, \u001b[39m7\u001b[90m, \u001b[39m18\u001b[90m, \u001b[39m99\u001b[90m, \u001b[39m8\u001b[90m, \u001b[39m4\u001b[90m, \u001b[39m1\u001b[90m, \u001b[39m60\u001b[90m, \u001b[39m5\u001b[90m, \u001b[39m15\u001b[90m, \u001b[39m17\u001b[90m, \u001b[39m26\u001b[90m, \u001b[39m20\u001b[90m,\u001b[39m…\n",
      "$ TOV     \u001b[3m\u001b[90m<int>\u001b[39m\u001b[23m 9\u001b[90m, \u001b[39m34\u001b[90m, \u001b[39m5\u001b[90m, \u001b[39m40\u001b[90m, \u001b[39m32\u001b[90m, \u001b[39m6\u001b[90m, \u001b[39m21\u001b[90m, \u001b[39m33\u001b[90m, \u001b[39m13\u001b[90m, \u001b[39m29\u001b[90m, \u001b[39m0\u001b[90m, \u001b[39m40\u001b[90m, \u001b[39m2\u001b[90m, \u001b[39m10\u001b[90m, \u001b[39m17\u001b[90m, \u001b[39m16\u001b[90m, \u001b[39m21\u001b[90m,\u001b[39m…\n",
      "$ STL     \u001b[3m\u001b[90m<int>\u001b[39m\u001b[23m 9\u001b[90m, \u001b[39m25\u001b[90m, \u001b[39m10\u001b[90m, \u001b[39m17\u001b[90m, \u001b[39m17\u001b[90m, \u001b[39m6\u001b[90m, \u001b[39m18\u001b[90m, \u001b[39m26\u001b[90m, \u001b[39m11\u001b[90m, \u001b[39m10\u001b[90m, \u001b[39m0\u001b[90m, \u001b[39m39\u001b[90m, \u001b[39m2\u001b[90m, \u001b[39m4\u001b[90m, \u001b[39m9\u001b[90m, \u001b[39m31\u001b[90m, \u001b[39m13\u001b[90m, \u001b[39m…\n",
      "$ BLK     \u001b[3m\u001b[90m<int>\u001b[39m\u001b[23m 7\u001b[90m, \u001b[39m8\u001b[90m, \u001b[39m1\u001b[90m, \u001b[39m4\u001b[90m, \u001b[39m4\u001b[90m, \u001b[39m10\u001b[90m, \u001b[39m12\u001b[90m, \u001b[39m4\u001b[90m, \u001b[39m7\u001b[90m, \u001b[39m11\u001b[90m, \u001b[39m0\u001b[90m, \u001b[39m11\u001b[90m, \u001b[39m8\u001b[90m, \u001b[39m0\u001b[90m, \u001b[39m10\u001b[90m, \u001b[39m16\u001b[90m, \u001b[39m2\u001b[90m, \u001b[39m0\u001b[90m, \u001b[39m2\u001b[90m,\u001b[39m…\n",
      "$ PF      \u001b[3m\u001b[90m<int>\u001b[39m\u001b[23m 27\u001b[90m, \u001b[39m51\u001b[90m, \u001b[39m25\u001b[90m, \u001b[39m76\u001b[90m, \u001b[39m43\u001b[90m, \u001b[39m36\u001b[90m, \u001b[39m69\u001b[90m, \u001b[39m86\u001b[90m, \u001b[39m47\u001b[90m, \u001b[39m74\u001b[90m, \u001b[39m0\u001b[90m, \u001b[39m86\u001b[90m, \u001b[39m22\u001b[90m, \u001b[39m25\u001b[90m, \u001b[39m37\u001b[90m, \u001b[39m83\u001b[90m,\u001b[39m…\n",
      "$ PM      \u001b[3m\u001b[90m<int>\u001b[39m\u001b[23m 4\u001b[90m, \u001b[39m-37\u001b[90m, \u001b[39m45\u001b[90m, \u001b[39m111\u001b[90m, \u001b[39m46\u001b[90m, \u001b[39m-12\u001b[90m, \u001b[39m-63\u001b[90m, \u001b[39m-7\u001b[90m, \u001b[39m52\u001b[90m, \u001b[39m7\u001b[90m, \u001b[39m6\u001b[90m, \u001b[39m65\u001b[90m, \u001b[39m33\u001b[90m, \u001b[39m-27\u001b[90m, \u001b[39m1\u001b[90m, \u001b[39m-…\n",
      "$ RIM_M   \u001b[3m\u001b[90m<int>\u001b[39m\u001b[23m 4\u001b[90m, \u001b[39m11\u001b[90m, \u001b[39m2\u001b[90m, \u001b[39m45\u001b[90m, \u001b[39m33\u001b[90m, \u001b[39m15\u001b[90m, \u001b[39m35\u001b[90m, \u001b[39m1\u001b[90m, \u001b[39m4\u001b[90m, \u001b[39m51\u001b[90m, \u001b[39m0\u001b[90m, \u001b[39m31\u001b[90m, \u001b[39m5\u001b[90m, \u001b[39m2\u001b[90m, \u001b[39m27\u001b[90m, \u001b[39m29\u001b[90m, \u001b[39m15\u001b[90m, \u001b[39m0…\n",
      "$ RIM_A   \u001b[3m\u001b[90m<int>\u001b[39m\u001b[23m 6\u001b[90m, \u001b[39m14\u001b[90m, \u001b[39m3\u001b[90m, \u001b[39m56\u001b[90m, \u001b[39m42\u001b[90m, \u001b[39m19\u001b[90m, \u001b[39m42\u001b[90m, \u001b[39m2\u001b[90m, \u001b[39m5\u001b[90m, \u001b[39m63\u001b[90m, \u001b[39m0\u001b[90m, \u001b[39m46\u001b[90m, \u001b[39m6\u001b[90m, \u001b[39m3\u001b[90m, \u001b[39m34\u001b[90m, \u001b[39m35\u001b[90m, \u001b[39m21\u001b[90m, \u001b[39m0…\n",
      "$ PAINT_M \u001b[3m\u001b[90m<int>\u001b[39m\u001b[23m 8\u001b[90m, \u001b[39m28\u001b[90m, \u001b[39m5\u001b[90m, \u001b[39m30\u001b[90m, \u001b[39m33\u001b[90m, \u001b[39m7\u001b[90m, \u001b[39m12\u001b[90m, \u001b[39m14\u001b[90m, \u001b[39m8\u001b[90m, \u001b[39m14\u001b[90m, \u001b[39m0\u001b[90m, \u001b[39m50\u001b[90m, \u001b[39m8\u001b[90m, \u001b[39m2\u001b[90m, \u001b[39m30\u001b[90m, \u001b[39m20\u001b[90m, \u001b[39m8\u001b[90m, \u001b[39m2\u001b[90m,\u001b[39m…\n",
      "$ PAINT_A \u001b[3m\u001b[90m<int>\u001b[39m\u001b[23m 20\u001b[90m, \u001b[39m65\u001b[90m, \u001b[39m12\u001b[90m, \u001b[39m55\u001b[90m, \u001b[39m53\u001b[90m, \u001b[39m14\u001b[90m, \u001b[39m29\u001b[90m, \u001b[39m27\u001b[90m, \u001b[39m15\u001b[90m, \u001b[39m38\u001b[90m, \u001b[39m1\u001b[90m, \u001b[39m102\u001b[90m, \u001b[39m14\u001b[90m, \u001b[39m8\u001b[90m, \u001b[39m53\u001b[90m, \u001b[39m48\u001b[90m,\u001b[39m…\n",
      "$ MID_M   \u001b[3m\u001b[90m<int>\u001b[39m\u001b[23m 0\u001b[90m, \u001b[39m3\u001b[90m, \u001b[39m2\u001b[90m, \u001b[39m21\u001b[90m, \u001b[39m2\u001b[90m, \u001b[39m0\u001b[90m, \u001b[39m5\u001b[90m, \u001b[39m1\u001b[90m, \u001b[39m3\u001b[90m, \u001b[39m1\u001b[90m, \u001b[39m0\u001b[90m, \u001b[39m7\u001b[90m, \u001b[39m1\u001b[90m, \u001b[39m3\u001b[90m, \u001b[39m1\u001b[90m, \u001b[39m1\u001b[90m, \u001b[39m1\u001b[90m, \u001b[39m1\u001b[90m, \u001b[39m1\u001b[90m, \u001b[39m0\u001b[90m, \u001b[39m0…\n",
      "$ MID_A   \u001b[3m\u001b[90m<int>\u001b[39m\u001b[23m 0\u001b[90m, \u001b[39m10\u001b[90m, \u001b[39m3\u001b[90m, \u001b[39m52\u001b[90m, \u001b[39m6\u001b[90m, \u001b[39m2\u001b[90m, \u001b[39m10\u001b[90m, \u001b[39m5\u001b[90m, \u001b[39m5\u001b[90m, \u001b[39m6\u001b[90m, \u001b[39m0\u001b[90m, \u001b[39m27\u001b[90m, \u001b[39m1\u001b[90m, \u001b[39m5\u001b[90m, \u001b[39m2\u001b[90m, \u001b[39m7\u001b[90m, \u001b[39m3\u001b[90m, \u001b[39m2\u001b[90m, \u001b[39m6\u001b[90m, \u001b[39m0…\n",
      "$ `3C_M`  \u001b[3m\u001b[90m<int>\u001b[39m\u001b[23m 1\u001b[90m, \u001b[39m4\u001b[90m, \u001b[39m0\u001b[90m, \u001b[39m14\u001b[90m, \u001b[39m0\u001b[90m, \u001b[39m0\u001b[90m, \u001b[39m1\u001b[90m, \u001b[39m1\u001b[90m, \u001b[39m2\u001b[90m, \u001b[39m1\u001b[90m, \u001b[39m0\u001b[90m, \u001b[39m0\u001b[90m, \u001b[39m2\u001b[90m, \u001b[39m5\u001b[90m, \u001b[39m0\u001b[90m, \u001b[39m4\u001b[90m, \u001b[39m2\u001b[90m, \u001b[39m2\u001b[90m, \u001b[39m5\u001b[90m, \u001b[39m0\u001b[90m, \u001b[39m0…\n",
      "$ `3C_A`  \u001b[3m\u001b[90m<int>\u001b[39m\u001b[23m 3\u001b[90m, \u001b[39m5\u001b[90m, \u001b[39m1\u001b[90m, \u001b[39m22\u001b[90m, \u001b[39m5\u001b[90m, \u001b[39m0\u001b[90m, \u001b[39m1\u001b[90m, \u001b[39m4\u001b[90m, \u001b[39m6\u001b[90m, \u001b[39m2\u001b[90m, \u001b[39m0\u001b[90m, \u001b[39m5\u001b[90m, \u001b[39m3\u001b[90m, \u001b[39m9\u001b[90m, \u001b[39m0\u001b[90m, \u001b[39m18\u001b[90m, \u001b[39m8\u001b[90m, \u001b[39m7\u001b[90m, \u001b[39m11\u001b[90m, \u001b[39m0\u001b[90m,\u001b[39m…\n",
      "$ `3L_M`  \u001b[3m\u001b[90m<int>\u001b[39m\u001b[23m 9\u001b[90m, \u001b[39m29\u001b[90m, \u001b[39m18\u001b[90m, \u001b[39m47\u001b[90m, \u001b[39m26\u001b[90m, \u001b[39m1\u001b[90m, \u001b[39m11\u001b[90m, \u001b[39m23\u001b[90m, \u001b[39m31\u001b[90m, \u001b[39m0\u001b[90m, \u001b[39m1\u001b[90m, \u001b[39m36\u001b[90m, \u001b[39m4\u001b[90m, \u001b[39m42\u001b[90m, \u001b[39m0\u001b[90m, \u001b[39m8\u001b[90m, \u001b[39m12\u001b[90m, \u001b[39m5…\n",
      "$ `3L_A`  \u001b[3m\u001b[90m<int>\u001b[39m\u001b[23m 21\u001b[90m, \u001b[39m93\u001b[90m, \u001b[39m44\u001b[90m, \u001b[39m97\u001b[90m, \u001b[39m80\u001b[90m, \u001b[39m9\u001b[90m, \u001b[39m25\u001b[90m, \u001b[39m63\u001b[90m, \u001b[39m66\u001b[90m, \u001b[39m2\u001b[90m, \u001b[39m1\u001b[90m, \u001b[39m81\u001b[90m, \u001b[39m12\u001b[90m, \u001b[39m104\u001b[90m, \u001b[39m0\u001b[90m, \u001b[39m24\u001b[90m, \u001b[39m2…\n",
      "$ `3H_M`  \u001b[3m\u001b[90m<int>\u001b[39m\u001b[23m 0\u001b[90m, \u001b[39m0\u001b[90m, \u001b[39m0\u001b[90m, \u001b[39m0\u001b[90m, \u001b[39m0\u001b[90m, \u001b[39m0\u001b[90m, \u001b[39m0\u001b[90m, \u001b[39m0\u001b[90m, \u001b[39m0\u001b[90m, \u001b[39m0\u001b[90m, \u001b[39m0\u001b[90m, \u001b[39m0\u001b[90m, \u001b[39m0\u001b[90m, \u001b[39m0\u001b[90m, \u001b[39m0\u001b[90m, \u001b[39m0\u001b[90m, \u001b[39m0\u001b[90m, \u001b[39m0\u001b[90m, \u001b[39m0\u001b[90m, \u001b[39m0\u001b[90m, \u001b[39m0\u001b[90m,\u001b[39m…\n",
      "$ `3H_A`  \u001b[3m\u001b[90m<int>\u001b[39m\u001b[23m 0\u001b[90m, \u001b[39m1\u001b[90m, \u001b[39m0\u001b[90m, \u001b[39m0\u001b[90m, \u001b[39m3\u001b[90m, \u001b[39m0\u001b[90m, \u001b[39m0\u001b[90m, \u001b[39m2\u001b[90m, \u001b[39m1\u001b[90m, \u001b[39m1\u001b[90m, \u001b[39m0\u001b[90m, \u001b[39m0\u001b[90m, \u001b[39m0\u001b[90m, \u001b[39m2\u001b[90m, \u001b[39m0\u001b[90m, \u001b[39m0\u001b[90m, \u001b[39m0\u001b[90m, \u001b[39m1\u001b[90m, \u001b[39m0\u001b[90m, \u001b[39m0\u001b[90m, \u001b[39m0\u001b[90m,\u001b[39m…\n"
     ]
    }
   ],
   "source": [
    "glimpse(pbox_regular)"
   ]
  },
  {
   "cell_type": "code",
   "execution_count": 129,
   "metadata": {
    "vscode": {
     "languageId": "r"
    }
   },
   "outputs": [],
   "source": [
    "create_tbox <- function(teams_sum) {\n",
    "  teams_sum %>%\n",
    "    rename(\n",
    "      Team = `TM NAME`,\n",
    "      Team_Tag = `TM TAG`,\n",
    "      P2M = `2PTM`,\n",
    "      P2A = `2PTA`,\n",
    "      P3M = `3PTM`,\n",
    "      P3A = `3PTA`,\n",
    "      OREB = OR,\n",
    "      DREB = DR,\n",
    "      TOV = TO,\n",
    "      STL = ST,\n",
    "      BLK = BLK,\n",
    "      PM = `+ / -`\n",
    "    ) %>%\n",
    "    mutate(\n",
    "      P2p = round(P2M / P2A * 100, 2),\n",
    "      P3p = round(P3M / P3A * 100, 2),\n",
    "      FTp = round(FTM / FTA * 100, 2),\n",
    "    ) %>%\n",
    "    select(\n",
    "      Team, Team_Tag, GP, MIN, PTS,\n",
    "      P2M, P2A, P2p,\n",
    "      P3M, P3A, P3p,\n",
    "      FTM, FTA, FTp,\n",
    "      OREB, DREB, AST, TOV, STL, BLK,\n",
    "      PF, PM, \n",
    "      RIM_M, RIM_A, PAINT_M, PAINT_A, \n",
    "      MID_M, MID_A, `3C_M`, `3C_A`, \n",
    "      `3L_M`, `3L_A`, `3H_M`, `3H_A`\n",
    "    )\n",
    "}"
   ]
  },
  {
   "cell_type": "code",
   "execution_count": 130,
   "metadata": {
    "vscode": {
     "languageId": "r"
    }
   },
   "outputs": [],
   "source": [
    "tbox_regular <- create_tbox(teams_regular_sum)\n",
    "tbox_playin <- create_tbox(teams_playin_sum)\n",
    "tbox_playoff <- create_tbox(teams_playoff_sum)\n",
    "tbox_final4 <- create_tbox(teams_final4_sum)"
   ]
  },
  {
   "cell_type": "code",
   "execution_count": 131,
   "metadata": {
    "vscode": {
     "languageId": "r"
    }
   },
   "outputs": [
    {
     "name": "stdout",
     "output_type": "stream",
     "text": [
      "Rows: 18\n",
      "Columns: 34\n",
      "Groups: Team [18]\n",
      "$ Team     \u001b[3m\u001b[90m<chr>\u001b[39m\u001b[23m \"ALBA\"\u001b[90m, \u001b[39m\"ASVEL\"\u001b[90m, \u001b[39m\"Barcelona\"\u001b[90m, \u001b[39m\"Baskonia\"\u001b[90m, \u001b[39m\"Bayern\"\u001b[90m, \u001b[39m\"Crvena Z…\n",
      "$ Team_Tag \u001b[3m\u001b[90m<chr>\u001b[39m\u001b[23m \"BER\"\u001b[90m, \u001b[39m\"ASV\"\u001b[90m, \u001b[39m\"FCB\"\u001b[90m, \u001b[39m\"BAS\"\u001b[90m, \u001b[39m\"BAY\"\u001b[90m, \u001b[39m\"CZB\"\u001b[90m, \u001b[39m\"EFE\"\u001b[90m, \u001b[39m\"FEN\"\u001b[90m, \u001b[39m\"MTA\"…\n",
      "$ GP       \u001b[3m\u001b[90m<int>\u001b[39m\u001b[23m 34\u001b[90m, \u001b[39m34\u001b[90m, \u001b[39m34\u001b[90m, \u001b[39m34\u001b[90m, \u001b[39m34\u001b[90m, \u001b[39m34\u001b[90m, \u001b[39m34\u001b[90m, \u001b[39m34\u001b[90m, \u001b[39m34\u001b[90m, \u001b[39m34\u001b[90m, \u001b[39m34\u001b[90m, \u001b[39m34\u001b[90m, \u001b[39m34\u001b[90m, \u001b[39m34\u001b[90m, \u001b[39m34\u001b[90m, \u001b[39m3…\n",
      "$ MIN      \u001b[3m\u001b[90m<int>\u001b[39m\u001b[23m 1360\u001b[90m, \u001b[39m1370\u001b[90m, \u001b[39m1360\u001b[90m, \u001b[39m1365\u001b[90m, \u001b[39m1385\u001b[90m, \u001b[39m1360\u001b[90m, \u001b[39m1385\u001b[90m, \u001b[39m1380\u001b[90m, \u001b[39m1365\u001b[90m, \u001b[39m1365\u001b[90m, \u001b[39m1…\n",
      "$ PTS      \u001b[3m\u001b[90m<int>\u001b[39m\u001b[23m 2591\u001b[90m, \u001b[39m2674\u001b[90m, \u001b[39m2812\u001b[90m, \u001b[39m2864\u001b[90m, \u001b[39m2674\u001b[90m, \u001b[39m2764\u001b[90m, \u001b[39m2928\u001b[90m, \u001b[39m2894\u001b[90m, \u001b[39m2983\u001b[90m, \u001b[39m2785\u001b[90m, \u001b[39m2…\n",
      "$ P2M      \u001b[3m\u001b[90m<int>\u001b[39m\u001b[23m 641\u001b[90m, \u001b[39m744\u001b[90m, \u001b[39m759\u001b[90m, \u001b[39m664\u001b[90m, \u001b[39m649\u001b[90m, \u001b[39m680\u001b[90m, \u001b[39m735\u001b[90m, \u001b[39m649\u001b[90m, \u001b[39m781\u001b[90m, \u001b[39m743\u001b[90m, \u001b[39m615\u001b[90m, \u001b[39m641\u001b[90m, \u001b[39m6…\n",
      "$ P2A      \u001b[3m\u001b[90m<int>\u001b[39m\u001b[23m 1261\u001b[90m, \u001b[39m1389\u001b[90m, \u001b[39m1352\u001b[90m, \u001b[39m1197\u001b[90m, \u001b[39m1215\u001b[90m, \u001b[39m1239\u001b[90m, \u001b[39m1309\u001b[90m, \u001b[39m1151\u001b[90m, \u001b[39m1464\u001b[90m, \u001b[39m1403\u001b[90m, \u001b[39m1…\n",
      "$ P2p      \u001b[3m\u001b[90m<dbl>\u001b[39m\u001b[23m 50.83\u001b[90m, \u001b[39m53.56\u001b[90m, \u001b[39m56.14\u001b[90m, \u001b[39m55.47\u001b[90m, \u001b[39m53.42\u001b[90m, \u001b[39m54.88\u001b[90m, \u001b[39m56.15\u001b[90m, \u001b[39m56.39\u001b[90m, \u001b[39m53.35…\n",
      "$ P3M      \u001b[3m\u001b[90m<int>\u001b[39m\u001b[23m 302\u001b[90m, \u001b[39m244\u001b[90m, \u001b[39m292\u001b[90m, \u001b[39m353\u001b[90m, \u001b[39m336\u001b[90m, \u001b[39m314\u001b[90m, \u001b[39m339\u001b[90m, \u001b[39m382\u001b[90m, \u001b[39m295\u001b[90m, \u001b[39m269\u001b[90m, \u001b[39m341\u001b[90m, \u001b[39m320\u001b[90m, \u001b[39m3…\n",
      "$ P3A      \u001b[3m\u001b[90m<int>\u001b[39m\u001b[23m 860\u001b[90m, \u001b[39m723\u001b[90m, \u001b[39m798\u001b[90m, \u001b[39m963\u001b[90m, \u001b[39m938\u001b[90m, \u001b[39m920\u001b[90m, \u001b[39m911\u001b[90m, \u001b[39m976\u001b[90m, \u001b[39m810\u001b[90m, \u001b[39m763\u001b[90m, \u001b[39m930\u001b[90m, \u001b[39m857\u001b[90m, \u001b[39m8…\n",
      "$ P3p      \u001b[3m\u001b[90m<dbl>\u001b[39m\u001b[23m 35.12\u001b[90m, \u001b[39m33.75\u001b[90m, \u001b[39m36.59\u001b[90m, \u001b[39m36.66\u001b[90m, \u001b[39m35.82\u001b[90m, \u001b[39m34.13\u001b[90m, \u001b[39m37.21\u001b[90m, \u001b[39m39.14\u001b[90m, \u001b[39m36.42…\n",
      "$ FTM      \u001b[3m\u001b[90m<int>\u001b[39m\u001b[23m 403\u001b[90m, \u001b[39m454\u001b[90m, \u001b[39m418\u001b[90m, \u001b[39m477\u001b[90m, \u001b[39m368\u001b[90m, \u001b[39m462\u001b[90m, \u001b[39m441\u001b[90m, \u001b[39m450\u001b[90m, \u001b[39m536\u001b[90m, \u001b[39m492\u001b[90m, \u001b[39m406\u001b[90m, \u001b[39m443\u001b[90m, \u001b[39m5…\n",
      "$ FTA      \u001b[3m\u001b[90m<int>\u001b[39m\u001b[23m 509\u001b[90m, \u001b[39m587\u001b[90m, \u001b[39m571\u001b[90m, \u001b[39m626\u001b[90m, \u001b[39m461\u001b[90m, \u001b[39m600\u001b[90m, \u001b[39m542\u001b[90m, \u001b[39m560\u001b[90m, \u001b[39m687\u001b[90m, \u001b[39m664\u001b[90m, \u001b[39m523\u001b[90m, \u001b[39m596\u001b[90m, \u001b[39m6…\n",
      "$ FTp      \u001b[3m\u001b[90m<dbl>\u001b[39m\u001b[23m 79.17\u001b[90m, \u001b[39m77.34\u001b[90m, \u001b[39m73.20\u001b[90m, \u001b[39m76.20\u001b[90m, \u001b[39m79.83\u001b[90m, \u001b[39m77.00\u001b[90m, \u001b[39m81.37\u001b[90m, \u001b[39m80.36\u001b[90m, \u001b[39m78.02…\n",
      "$ OREB     \u001b[3m\u001b[90m<int>\u001b[39m\u001b[23m 368\u001b[90m, \u001b[39m350\u001b[90m, \u001b[39m384\u001b[90m, \u001b[39m351\u001b[90m, \u001b[39m364\u001b[90m, \u001b[39m403\u001b[90m, \u001b[39m345\u001b[90m, \u001b[39m344\u001b[90m, \u001b[39m443\u001b[90m, \u001b[39m383\u001b[90m, \u001b[39m302\u001b[90m, \u001b[39m320\u001b[90m, \u001b[39m3…\n",
      "$ DREB     \u001b[3m\u001b[90m<int>\u001b[39m\u001b[23m 735\u001b[90m, \u001b[39m805\u001b[90m, \u001b[39m840\u001b[90m, \u001b[39m847\u001b[90m, \u001b[39m840\u001b[90m, \u001b[39m777\u001b[90m, \u001b[39m754\u001b[90m, \u001b[39m790\u001b[90m, \u001b[39m782\u001b[90m, \u001b[39m782\u001b[90m, \u001b[39m791\u001b[90m, \u001b[39m777\u001b[90m, \u001b[39m8…\n",
      "$ AST      \u001b[3m\u001b[90m<int>\u001b[39m\u001b[23m 560\u001b[90m, \u001b[39m605\u001b[90m, \u001b[39m659\u001b[90m, \u001b[39m640\u001b[90m, \u001b[39m547\u001b[90m, \u001b[39m629\u001b[90m, \u001b[39m610\u001b[90m, \u001b[39m616\u001b[90m, \u001b[39m666\u001b[90m, \u001b[39m547\u001b[90m, \u001b[39m554\u001b[90m, \u001b[39m657\u001b[90m, \u001b[39m5…\n",
      "$ TOV      \u001b[3m\u001b[90m<int>\u001b[39m\u001b[23m 513\u001b[90m, \u001b[39m440\u001b[90m, \u001b[39m433\u001b[90m, \u001b[39m423\u001b[90m, \u001b[39m443\u001b[90m, \u001b[39m411\u001b[90m, \u001b[39m351\u001b[90m, \u001b[39m408\u001b[90m, \u001b[39m418\u001b[90m, \u001b[39m340\u001b[90m, \u001b[39m423\u001b[90m, \u001b[39m386\u001b[90m, \u001b[39m4…\n",
      "$ STL      \u001b[3m\u001b[90m<int>\u001b[39m\u001b[23m 238\u001b[90m, \u001b[39m205\u001b[90m, \u001b[39m210\u001b[90m, \u001b[39m185\u001b[90m, \u001b[39m206\u001b[90m, \u001b[39m224\u001b[90m, \u001b[39m237\u001b[90m, \u001b[39m196\u001b[90m, \u001b[39m249\u001b[90m, \u001b[39m236\u001b[90m, \u001b[39m238\u001b[90m, \u001b[39m238\u001b[90m, \u001b[39m2…\n",
      "$ BLK      \u001b[3m\u001b[90m<int>\u001b[39m\u001b[23m 73\u001b[90m, \u001b[39m55\u001b[90m, \u001b[39m83\u001b[90m, \u001b[39m79\u001b[90m, \u001b[39m89\u001b[90m, \u001b[39m84\u001b[90m, \u001b[39m105\u001b[90m, \u001b[39m82\u001b[90m, \u001b[39m106\u001b[90m, \u001b[39m61\u001b[90m, \u001b[39m72\u001b[90m, \u001b[39m96\u001b[90m, \u001b[39m92\u001b[90m, \u001b[39m79\u001b[90m, \u001b[39m119…\n",
      "$ PF       \u001b[3m\u001b[90m<int>\u001b[39m\u001b[23m 623\u001b[90m, \u001b[39m626\u001b[90m, \u001b[39m666\u001b[90m, \u001b[39m621\u001b[90m, \u001b[39m702\u001b[90m, \u001b[39m733\u001b[90m, \u001b[39m629\u001b[90m, \u001b[39m734\u001b[90m, \u001b[39m684\u001b[90m, \u001b[39m662\u001b[90m, \u001b[39m665\u001b[90m, \u001b[39m636\u001b[90m, \u001b[39m5…\n",
      "$ PM       \u001b[3m\u001b[90m<int>\u001b[39m\u001b[23m -353\u001b[90m, \u001b[39m-214\u001b[90m, \u001b[39m120\u001b[90m, \u001b[39m-21\u001b[90m, \u001b[39m-116\u001b[90m, \u001b[39m-52\u001b[90m, \u001b[39m16\u001b[90m, \u001b[39m143\u001b[90m, \u001b[39m35\u001b[90m, \u001b[39m97\u001b[90m, \u001b[39m4\u001b[90m, \u001b[39m134\u001b[90m, \u001b[39m152…\n",
      "$ RIM_M    \u001b[3m\u001b[90m<int>\u001b[39m\u001b[23m 290\u001b[90m, \u001b[39m320\u001b[90m, \u001b[39m250\u001b[90m, \u001b[39m266\u001b[90m, \u001b[39m222\u001b[90m, \u001b[39m257\u001b[90m, \u001b[39m320\u001b[90m, \u001b[39m280\u001b[90m, \u001b[39m286\u001b[90m, \u001b[39m219\u001b[90m, \u001b[39m296\u001b[90m, \u001b[39m339\u001b[90m, \u001b[39m3…\n",
      "$ RIM_A    \u001b[3m\u001b[90m<int>\u001b[39m\u001b[23m 408\u001b[90m, \u001b[39m453\u001b[90m, \u001b[39m320\u001b[90m, \u001b[39m325\u001b[90m, \u001b[39m294\u001b[90m, \u001b[39m329\u001b[90m, \u001b[39m410\u001b[90m, \u001b[39m352\u001b[90m, \u001b[39m364\u001b[90m, \u001b[39m288\u001b[90m, \u001b[39m376\u001b[90m, \u001b[39m429\u001b[90m, \u001b[39m4…\n",
      "$ PAINT_M  \u001b[3m\u001b[90m<int>\u001b[39m\u001b[23m 252\u001b[90m, \u001b[39m306\u001b[90m, \u001b[39m401\u001b[90m, \u001b[39m317\u001b[90m, \u001b[39m293\u001b[90m, \u001b[39m382\u001b[90m, \u001b[39m328\u001b[90m, \u001b[39m284\u001b[90m, \u001b[39m376\u001b[90m, \u001b[39m389\u001b[90m, \u001b[39m221\u001b[90m, \u001b[39m237\u001b[90m, \u001b[39m2…\n",
      "$ PAINT_A  \u001b[3m\u001b[90m<int>\u001b[39m\u001b[23m 597\u001b[90m, \u001b[39m663\u001b[90m, \u001b[39m786\u001b[90m, \u001b[39m664\u001b[90m, \u001b[39m608\u001b[90m, \u001b[39m775\u001b[90m, \u001b[39m673\u001b[90m, \u001b[39m588\u001b[90m, \u001b[39m806\u001b[90m, \u001b[39m774\u001b[90m, \u001b[39m478\u001b[90m, \u001b[39m547\u001b[90m, \u001b[39m5…\n",
      "$ MID_M    \u001b[3m\u001b[90m<int>\u001b[39m\u001b[23m 99\u001b[90m, \u001b[39m118\u001b[90m, \u001b[39m108\u001b[90m, \u001b[39m81\u001b[90m, \u001b[39m134\u001b[90m, \u001b[39m41\u001b[90m, \u001b[39m87\u001b[90m, \u001b[39m85\u001b[90m, \u001b[39m119\u001b[90m, \u001b[39m134\u001b[90m, \u001b[39m98\u001b[90m, \u001b[39m65\u001b[90m, \u001b[39m102\u001b[90m, \u001b[39m130…\n",
      "$ MID_A    \u001b[3m\u001b[90m<int>\u001b[39m\u001b[23m 256\u001b[90m, \u001b[39m273\u001b[90m, \u001b[39m246\u001b[90m, \u001b[39m208\u001b[90m, \u001b[39m313\u001b[90m, \u001b[39m135\u001b[90m, \u001b[39m226\u001b[90m, \u001b[39m211\u001b[90m, \u001b[39m294\u001b[90m, \u001b[39m340\u001b[90m, \u001b[39m262\u001b[90m, \u001b[39m176\u001b[90m, \u001b[39m2…\n",
      "$ `3C_M`   \u001b[3m\u001b[90m<int>\u001b[39m\u001b[23m 46\u001b[90m, \u001b[39m51\u001b[90m, \u001b[39m37\u001b[90m, \u001b[39m37\u001b[90m, \u001b[39m49\u001b[90m, \u001b[39m48\u001b[90m, \u001b[39m65\u001b[90m, \u001b[39m60\u001b[90m, \u001b[39m46\u001b[90m, \u001b[39m10\u001b[90m, \u001b[39m40\u001b[90m, \u001b[39m68\u001b[90m, \u001b[39m57\u001b[90m, \u001b[39m37\u001b[90m, \u001b[39m35\u001b[90m, \u001b[39m4…\n",
      "$ `3C_A`   \u001b[3m\u001b[90m<int>\u001b[39m\u001b[23m 98\u001b[90m, \u001b[39m115\u001b[90m, \u001b[39m84\u001b[90m, \u001b[39m70\u001b[90m, \u001b[39m125\u001b[90m, \u001b[39m120\u001b[90m, \u001b[39m139\u001b[90m, \u001b[39m134\u001b[90m, \u001b[39m113\u001b[90m, \u001b[39m33\u001b[90m, \u001b[39m100\u001b[90m, \u001b[39m152\u001b[90m, \u001b[39m117\u001b[90m, \u001b[39m…\n",
      "$ `3L_M`   \u001b[3m\u001b[90m<int>\u001b[39m\u001b[23m 256\u001b[90m, \u001b[39m192\u001b[90m, \u001b[39m255\u001b[90m, \u001b[39m316\u001b[90m, \u001b[39m287\u001b[90m, \u001b[39m266\u001b[90m, \u001b[39m273\u001b[90m, \u001b[39m321\u001b[90m, \u001b[39m248\u001b[90m, \u001b[39m259\u001b[90m, \u001b[39m301\u001b[90m, \u001b[39m252\u001b[90m, \u001b[39m2…\n",
      "$ `3L_A`   \u001b[3m\u001b[90m<int>\u001b[39m\u001b[23m 755\u001b[90m, \u001b[39m601\u001b[90m, \u001b[39m708\u001b[90m, \u001b[39m882\u001b[90m, \u001b[39m802\u001b[90m, \u001b[39m794\u001b[90m, \u001b[39m770\u001b[90m, \u001b[39m832\u001b[90m, \u001b[39m685\u001b[90m, \u001b[39m726\u001b[90m, \u001b[39m821\u001b[90m, \u001b[39m698\u001b[90m, \u001b[39m6…\n",
      "$ `3H_M`   \u001b[3m\u001b[90m<int>\u001b[39m\u001b[23m 0\u001b[90m, \u001b[39m1\u001b[90m, \u001b[39m0\u001b[90m, \u001b[39m0\u001b[90m, \u001b[39m0\u001b[90m, \u001b[39m0\u001b[90m, \u001b[39m1\u001b[90m, \u001b[39m0\u001b[90m, \u001b[39m1\u001b[90m, \u001b[39m0\u001b[90m, \u001b[39m0\u001b[90m, \u001b[39m0\u001b[90m, \u001b[39m0\u001b[90m, \u001b[39m0\u001b[90m, \u001b[39m0\u001b[90m, \u001b[39m0\u001b[90m, \u001b[39m0\u001b[90m, \u001b[39m0\n",
      "$ `3H_A`   \u001b[3m\u001b[90m<int>\u001b[39m\u001b[23m 4\u001b[90m, \u001b[39m7\u001b[90m, \u001b[39m5\u001b[90m, \u001b[39m10\u001b[90m, \u001b[39m11\u001b[90m, \u001b[39m5\u001b[90m, \u001b[39m2\u001b[90m, \u001b[39m9\u001b[90m, \u001b[39m11\u001b[90m, \u001b[39m3\u001b[90m, \u001b[39m9\u001b[90m, \u001b[39m7\u001b[90m, \u001b[39m6\u001b[90m, \u001b[39m7\u001b[90m, \u001b[39m8\u001b[90m, \u001b[39m7\u001b[90m, \u001b[39m10\u001b[90m, \u001b[39m8\n"
     ]
    }
   ],
   "source": [
    "glimpse(tbox_regular)"
   ]
  },
  {
   "cell_type": "code",
   "execution_count": 132,
   "metadata": {
    "vscode": {
     "languageId": "r"
    }
   },
   "outputs": [],
   "source": [
    "create_obox <- function(opponents_sum) {\n",
    "  opponents_sum %>%\n",
    "    rename(\n",
    "      Team = `OPP NAME`,\n",
    "      Team_Tag = `TM TAG`,\n",
    "      P2M = `2PTM`,\n",
    "      P2A = `2PTA`,\n",
    "      P3M = `3PTM`,\n",
    "      P3A = `3PTA`,\n",
    "      OREB = OR,\n",
    "      DREB = DR,\n",
    "      TOV = TO,\n",
    "      STL = ST,\n",
    "      BLK = BLK,\n",
    "      PM = `+ / -`\n",
    "    ) %>%\n",
    "    mutate(\n",
    "      P2p = round(P2M / P2A * 100, 2),\n",
    "      P3p = round(P3M / P3A * 100, 2),\n",
    "      FTp = round(FTM / FTA * 100, 2),\n",
    "    ) %>%\n",
    "    select(\n",
    "      Team, Team_Tag, GP, MIN, PTS,\n",
    "      P2M, P2A, P2p,\n",
    "      P3M, P3A, P3p,\n",
    "      FTM, FTA, FTp,\n",
    "      OREB, DREB, AST, TOV, STL, BLK,\n",
    "      PF, PM, \n",
    "      RIM_M, RIM_A, PAINT_M, PAINT_A, \n",
    "      MID_M, MID_A, `3C_M`, `3C_A`, \n",
    "      `3L_M`, `3L_A`, `3H_M`, `3H_A`\n",
    "    )\n",
    "}\n"
   ]
  },
  {
   "cell_type": "code",
   "execution_count": 133,
   "metadata": {
    "vscode": {
     "languageId": "r"
    }
   },
   "outputs": [],
   "source": [
    "obox_regular <- create_obox(opp_regular_sum)\n",
    "obox_playin <- create_obox(opp_playin_sum)\n",
    "obox_playoff <- create_obox(opp_playoff_sum)\n",
    "obox_final4 <- create_obox(opp_final4_sum)"
   ]
  },
  {
   "cell_type": "code",
   "execution_count": 134,
   "metadata": {
    "vscode": {
     "languageId": "r"
    }
   },
   "outputs": [
    {
     "name": "stdout",
     "output_type": "stream",
     "text": [
      "Rows: 18\n",
      "Columns: 34\n",
      "Groups: Team [18]\n",
      "$ Team     \u001b[3m\u001b[90m<chr>\u001b[39m\u001b[23m \"ALBA\"\u001b[90m, \u001b[39m\"ASVEL\"\u001b[90m, \u001b[39m\"Barcelona\"\u001b[90m, \u001b[39m\"Baskonia\"\u001b[90m, \u001b[39m\"Bayern\"\u001b[90m, \u001b[39m\"Crvena Z…\n",
      "$ Team_Tag \u001b[3m\u001b[90m<chr>\u001b[39m\u001b[23m \"BER\"\u001b[90m, \u001b[39m\"ASV\"\u001b[90m, \u001b[39m\"FCB\"\u001b[90m, \u001b[39m\"BAS\"\u001b[90m, \u001b[39m\"BAY\"\u001b[90m, \u001b[39m\"CZB\"\u001b[90m, \u001b[39m\"EFE\"\u001b[90m, \u001b[39m\"FEN\"\u001b[90m, \u001b[39m\"MTA\"…\n",
      "$ GP       \u001b[3m\u001b[90m<int>\u001b[39m\u001b[23m 34\u001b[90m, \u001b[39m34\u001b[90m, \u001b[39m34\u001b[90m, \u001b[39m34\u001b[90m, \u001b[39m34\u001b[90m, \u001b[39m34\u001b[90m, \u001b[39m34\u001b[90m, \u001b[39m34\u001b[90m, \u001b[39m34\u001b[90m, \u001b[39m34\u001b[90m, \u001b[39m34\u001b[90m, \u001b[39m34\u001b[90m, \u001b[39m34\u001b[90m, \u001b[39m34\u001b[90m, \u001b[39m34\u001b[90m, \u001b[39m3…\n",
      "$ MIN      \u001b[3m\u001b[90m<int>\u001b[39m\u001b[23m 1360\u001b[90m, \u001b[39m1370\u001b[90m, \u001b[39m1360\u001b[90m, \u001b[39m1365\u001b[90m, \u001b[39m1385\u001b[90m, \u001b[39m1360\u001b[90m, \u001b[39m1385\u001b[90m, \u001b[39m1380\u001b[90m, \u001b[39m1365\u001b[90m, \u001b[39m1365\u001b[90m, \u001b[39m1…\n",
      "$ PTS      \u001b[3m\u001b[90m<int>\u001b[39m\u001b[23m 2944\u001b[90m, \u001b[39m2888\u001b[90m, \u001b[39m2692\u001b[90m, \u001b[39m2885\u001b[90m, \u001b[39m2790\u001b[90m, \u001b[39m2816\u001b[90m, \u001b[39m2912\u001b[90m, \u001b[39m2751\u001b[90m, \u001b[39m2948\u001b[90m, \u001b[39m2688\u001b[90m, \u001b[39m2…\n",
      "$ P2M      \u001b[3m\u001b[90m<int>\u001b[39m\u001b[23m 738\u001b[90m, \u001b[39m688\u001b[90m, \u001b[39m709\u001b[90m, \u001b[39m715\u001b[90m, \u001b[39m690\u001b[90m, \u001b[39m648\u001b[90m, \u001b[39m717\u001b[90m, \u001b[39m740\u001b[90m, \u001b[39m731\u001b[90m, \u001b[39m623\u001b[90m, \u001b[39m655\u001b[90m, \u001b[39m620\u001b[90m, \u001b[39m7…\n",
      "$ P2A      \u001b[3m\u001b[90m<int>\u001b[39m\u001b[23m 1277\u001b[90m, \u001b[39m1231\u001b[90m, \u001b[39m1335\u001b[90m, \u001b[39m1332\u001b[90m, \u001b[39m1282\u001b[90m, \u001b[39m1204\u001b[90m, \u001b[39m1268\u001b[90m, \u001b[39m1366\u001b[90m, \u001b[39m1265\u001b[90m, \u001b[39m1147\u001b[90m, \u001b[39m1…\n",
      "$ P2p      \u001b[3m\u001b[90m<dbl>\u001b[39m\u001b[23m 57.79\u001b[90m, \u001b[39m55.89\u001b[90m, \u001b[39m53.11\u001b[90m, \u001b[39m53.68\u001b[90m, \u001b[39m53.82\u001b[90m, \u001b[39m53.82\u001b[90m, \u001b[39m56.55\u001b[90m, \u001b[39m54.17\u001b[90m, \u001b[39m57.79…\n",
      "$ P3M      \u001b[3m\u001b[90m<int>\u001b[39m\u001b[23m 348\u001b[90m, \u001b[39m358\u001b[90m, \u001b[39m290\u001b[90m, \u001b[39m339\u001b[90m, \u001b[39m304\u001b[90m, \u001b[39m343\u001b[90m, \u001b[39m339\u001b[90m, \u001b[39m255\u001b[90m, \u001b[39m338\u001b[90m, \u001b[39m337\u001b[90m, \u001b[39m300\u001b[90m, \u001b[39m305\u001b[90m, \u001b[39m2…\n",
      "$ P3A      \u001b[3m\u001b[90m<int>\u001b[39m\u001b[23m 892\u001b[90m, \u001b[39m943\u001b[90m, \u001b[39m843\u001b[90m, \u001b[39m911\u001b[90m, \u001b[39m840\u001b[90m, \u001b[39m877\u001b[90m, \u001b[39m872\u001b[90m, \u001b[39m733\u001b[90m, \u001b[39m935\u001b[90m, \u001b[39m907\u001b[90m, \u001b[39m810\u001b[90m, \u001b[39m839\u001b[90m, \u001b[39m8…\n",
      "$ P3p      \u001b[3m\u001b[90m<dbl>\u001b[39m\u001b[23m 39.01\u001b[90m, \u001b[39m37.96\u001b[90m, \u001b[39m34.40\u001b[90m, \u001b[39m37.21\u001b[90m, \u001b[39m36.19\u001b[90m, \u001b[39m39.11\u001b[90m, \u001b[39m38.88\u001b[90m, \u001b[39m34.79\u001b[90m, \u001b[39m36.15…\n",
      "$ FTM      \u001b[3m\u001b[90m<int>\u001b[39m\u001b[23m 424\u001b[90m, \u001b[39m438\u001b[90m, \u001b[39m404\u001b[90m, \u001b[39m438\u001b[90m, \u001b[39m498\u001b[90m, \u001b[39m491\u001b[90m, \u001b[39m461\u001b[90m, \u001b[39m506\u001b[90m, \u001b[39m472\u001b[90m, \u001b[39m431\u001b[90m, \u001b[39m445\u001b[90m, \u001b[39m396\u001b[90m, \u001b[39m3…\n",
      "$ FTA      \u001b[3m\u001b[90m<int>\u001b[39m\u001b[23m 562\u001b[90m, \u001b[39m565\u001b[90m, \u001b[39m537\u001b[90m, \u001b[39m550\u001b[90m, \u001b[39m625\u001b[90m, \u001b[39m638\u001b[90m, \u001b[39m587\u001b[90m, \u001b[39m646\u001b[90m, \u001b[39m622\u001b[90m, \u001b[39m560\u001b[90m, \u001b[39m567\u001b[90m, \u001b[39m485\u001b[90m, \u001b[39m4…\n",
      "$ FTp      \u001b[3m\u001b[90m<dbl>\u001b[39m\u001b[23m 75.44\u001b[90m, \u001b[39m77.52\u001b[90m, \u001b[39m75.23\u001b[90m, \u001b[39m79.64\u001b[90m, \u001b[39m79.68\u001b[90m, \u001b[39m76.96\u001b[90m, \u001b[39m78.53\u001b[90m, \u001b[39m78.33\u001b[90m, \u001b[39m75.88…\n",
      "$ OREB     \u001b[3m\u001b[90m<int>\u001b[39m\u001b[23m 374\u001b[90m, \u001b[39m354\u001b[90m, \u001b[39m369\u001b[90m, \u001b[39m357\u001b[90m, \u001b[39m307\u001b[90m, \u001b[39m354\u001b[90m, \u001b[39m349\u001b[90m, \u001b[39m353\u001b[90m, \u001b[39m375\u001b[90m, \u001b[39m354\u001b[90m, \u001b[39m314\u001b[90m, \u001b[39m329\u001b[90m, \u001b[39m3…\n",
      "$ DREB     \u001b[3m\u001b[90m<int>\u001b[39m\u001b[23m 831\u001b[90m, \u001b[39m814\u001b[90m, \u001b[39m768\u001b[90m, \u001b[39m832\u001b[90m, \u001b[39m810\u001b[90m, \u001b[39m799\u001b[90m, \u001b[39m815\u001b[90m, \u001b[39m765\u001b[90m, \u001b[39m799\u001b[90m, \u001b[39m811\u001b[90m, \u001b[39m808\u001b[90m, \u001b[39m767\u001b[90m, \u001b[39m7…\n",
      "$ AST      \u001b[3m\u001b[90m<int>\u001b[39m\u001b[23m 674\u001b[90m, \u001b[39m641\u001b[90m, \u001b[39m573\u001b[90m, \u001b[39m653\u001b[90m, \u001b[39m538\u001b[90m, \u001b[39m644\u001b[90m, \u001b[39m650\u001b[90m, \u001b[39m553\u001b[90m, \u001b[39m658\u001b[90m, \u001b[39m598\u001b[90m, \u001b[39m562\u001b[90m, \u001b[39m569\u001b[90m, \u001b[39m5…\n",
      "$ TOV      \u001b[3m\u001b[90m<int>\u001b[39m\u001b[23m 452\u001b[90m, \u001b[39m393\u001b[90m, \u001b[39m416\u001b[90m, \u001b[39m366\u001b[90m, \u001b[39m371\u001b[90m, \u001b[39m415\u001b[90m, \u001b[39m415\u001b[90m, \u001b[39m410\u001b[90m, \u001b[39m461\u001b[90m, \u001b[39m459\u001b[90m, \u001b[39m429\u001b[90m, \u001b[39m430\u001b[90m, \u001b[39m4…\n",
      "$ STL      \u001b[3m\u001b[90m<int>\u001b[39m\u001b[23m 286\u001b[90m, \u001b[39m243\u001b[90m, \u001b[39m227\u001b[90m, \u001b[39m230\u001b[90m, \u001b[39m226\u001b[90m, \u001b[39m220\u001b[90m, \u001b[39m185\u001b[90m, \u001b[39m202\u001b[90m, \u001b[39m225\u001b[90m, \u001b[39m178\u001b[90m, \u001b[39m214\u001b[90m, \u001b[39m213\u001b[90m, \u001b[39m2…\n",
      "$ BLK      \u001b[3m\u001b[90m<int>\u001b[39m\u001b[23m 120\u001b[90m, \u001b[39m112\u001b[90m, \u001b[39m67\u001b[90m, \u001b[39m110\u001b[90m, \u001b[39m84\u001b[90m, \u001b[39m93\u001b[90m, \u001b[39m68\u001b[90m, \u001b[39m57\u001b[90m, \u001b[39m75\u001b[90m, \u001b[39m80\u001b[90m, \u001b[39m59\u001b[90m, \u001b[39m83\u001b[90m, \u001b[39m85\u001b[90m, \u001b[39m54\u001b[90m, \u001b[39m58…\n",
      "$ PF       \u001b[3m\u001b[90m<int>\u001b[39m\u001b[23m 625\u001b[90m, \u001b[39m661\u001b[90m, \u001b[39m650\u001b[90m, \u001b[39m661\u001b[90m, \u001b[39m642\u001b[90m, \u001b[39m681\u001b[90m, \u001b[39m640\u001b[90m, \u001b[39m682\u001b[90m, \u001b[39m676\u001b[90m, \u001b[39m742\u001b[90m, \u001b[39m660\u001b[90m, \u001b[39m674\u001b[90m, \u001b[39m7…\n",
      "$ PM       \u001b[3m\u001b[90m<int>\u001b[39m\u001b[23m 353\u001b[90m, \u001b[39m214\u001b[90m, \u001b[39m-120\u001b[90m, \u001b[39m21\u001b[90m, \u001b[39m116\u001b[90m, \u001b[39m52\u001b[90m, \u001b[39m-16\u001b[90m, \u001b[39m-143\u001b[90m, \u001b[39m-35\u001b[90m, \u001b[39m-95\u001b[90m, \u001b[39m-4\u001b[90m, \u001b[39m-134\u001b[90m, \u001b[39m-…\n",
      "$ RIM_M    \u001b[3m\u001b[90m<int>\u001b[39m\u001b[23m 319\u001b[90m, \u001b[39m295\u001b[90m, \u001b[39m262\u001b[90m, \u001b[39m274\u001b[90m, \u001b[39m225\u001b[90m, \u001b[39m239\u001b[90m, \u001b[39m321\u001b[90m, \u001b[39m301\u001b[90m, \u001b[39m293\u001b[90m, \u001b[39m169\u001b[90m, \u001b[39m299\u001b[90m, \u001b[39m275\u001b[90m, \u001b[39m3…\n",
      "$ RIM_A    \u001b[3m\u001b[90m<int>\u001b[39m\u001b[23m 413\u001b[90m, \u001b[39m384\u001b[90m, \u001b[39m333\u001b[90m, \u001b[39m329\u001b[90m, \u001b[39m291\u001b[90m, \u001b[39m311\u001b[90m, \u001b[39m396\u001b[90m, \u001b[39m385\u001b[90m, \u001b[39m374\u001b[90m, \u001b[39m221\u001b[90m, \u001b[39m402\u001b[90m, \u001b[39m363\u001b[90m, \u001b[39m5…\n",
      "$ PAINT_M  \u001b[3m\u001b[90m<int>\u001b[39m\u001b[23m 322\u001b[90m, \u001b[39m290\u001b[90m, \u001b[39m353\u001b[90m, \u001b[39m344\u001b[90m, \u001b[39m344\u001b[90m, \u001b[39m297\u001b[90m, \u001b[39m298\u001b[90m, \u001b[39m321\u001b[90m, \u001b[39m348\u001b[90m, \u001b[39m370\u001b[90m, \u001b[39m274\u001b[90m, \u001b[39m237\u001b[90m, \u001b[39m2…\n",
      "$ PAINT_A  \u001b[3m\u001b[90m<int>\u001b[39m\u001b[23m 633\u001b[90m, \u001b[39m602\u001b[90m, \u001b[39m745\u001b[90m, \u001b[39m755\u001b[90m, \u001b[39m708\u001b[90m, \u001b[39m627\u001b[90m, \u001b[39m655\u001b[90m, \u001b[39m688\u001b[90m, \u001b[39m660\u001b[90m, \u001b[39m688\u001b[90m, \u001b[39m563\u001b[90m, \u001b[39m550\u001b[90m, \u001b[39m5…\n",
      "$ MID_M    \u001b[3m\u001b[90m<int>\u001b[39m\u001b[23m 97\u001b[90m, \u001b[39m103\u001b[90m, \u001b[39m94\u001b[90m, \u001b[39m97\u001b[90m, \u001b[39m121\u001b[90m, \u001b[39m112\u001b[90m, \u001b[39m98\u001b[90m, \u001b[39m118\u001b[90m, \u001b[39m90\u001b[90m, \u001b[39m84\u001b[90m, \u001b[39m82\u001b[90m, \u001b[39m108\u001b[90m, \u001b[39m78\u001b[90m, \u001b[39m76\u001b[90m, \u001b[39m…\n",
      "$ MID_A    \u001b[3m\u001b[90m<int>\u001b[39m\u001b[23m 231\u001b[90m, \u001b[39m245\u001b[90m, \u001b[39m257\u001b[90m, \u001b[39m248\u001b[90m, \u001b[39m283\u001b[90m, \u001b[39m266\u001b[90m, \u001b[39m217\u001b[90m, \u001b[39m293\u001b[90m, \u001b[39m231\u001b[90m, \u001b[39m238\u001b[90m, \u001b[39m250\u001b[90m, \u001b[39m270\u001b[90m, \u001b[39m2…\n",
      "$ `3C_M`   \u001b[3m\u001b[90m<int>\u001b[39m\u001b[23m 55\u001b[90m, \u001b[39m58\u001b[90m, \u001b[39m43\u001b[90m, \u001b[39m40\u001b[90m, \u001b[39m39\u001b[90m, \u001b[39m55\u001b[90m, \u001b[39m57\u001b[90m, \u001b[39m44\u001b[90m, \u001b[39m35\u001b[90m, \u001b[39m36\u001b[90m, \u001b[39m45\u001b[90m, \u001b[39m51\u001b[90m, \u001b[39m43\u001b[90m, \u001b[39m52\u001b[90m, \u001b[39m14\u001b[90m, \u001b[39m5…\n",
      "$ `3C_A`   \u001b[3m\u001b[90m<int>\u001b[39m\u001b[23m 134\u001b[90m, \u001b[39m128\u001b[90m, \u001b[39m101\u001b[90m, \u001b[39m73\u001b[90m, \u001b[39m98\u001b[90m, \u001b[39m116\u001b[90m, \u001b[39m123\u001b[90m, \u001b[39m94\u001b[90m, \u001b[39m97\u001b[90m, \u001b[39m78\u001b[90m, \u001b[39m93\u001b[90m, \u001b[39m126\u001b[90m, \u001b[39m115\u001b[90m, \u001b[39m12…\n",
      "$ `3L_M`   \u001b[3m\u001b[90m<int>\u001b[39m\u001b[23m 293\u001b[90m, \u001b[39m299\u001b[90m, \u001b[39m247\u001b[90m, \u001b[39m299\u001b[90m, \u001b[39m265\u001b[90m, \u001b[39m287\u001b[90m, \u001b[39m282\u001b[90m, \u001b[39m211\u001b[90m, \u001b[39m303\u001b[90m, \u001b[39m300\u001b[90m, \u001b[39m255\u001b[90m, \u001b[39m254\u001b[90m, \u001b[39m2…\n",
      "$ `3L_A`   \u001b[3m\u001b[90m<int>\u001b[39m\u001b[23m 749\u001b[90m, \u001b[39m807\u001b[90m, \u001b[39m735\u001b[90m, \u001b[39m833\u001b[90m, \u001b[39m734\u001b[90m, \u001b[39m755\u001b[90m, \u001b[39m738\u001b[90m, \u001b[39m631\u001b[90m, \u001b[39m822\u001b[90m, \u001b[39m825\u001b[90m, \u001b[39m712\u001b[90m, \u001b[39m706\u001b[90m, \u001b[39m6…\n",
      "$ `3H_M`   \u001b[3m\u001b[90m<int>\u001b[39m\u001b[23m 0\u001b[90m, \u001b[39m1\u001b[90m, \u001b[39m0\u001b[90m, \u001b[39m0\u001b[90m, \u001b[39m0\u001b[90m, \u001b[39m1\u001b[90m, \u001b[39m0\u001b[90m, \u001b[39m0\u001b[90m, \u001b[39m0\u001b[90m, \u001b[39m1\u001b[90m, \u001b[39m0\u001b[90m, \u001b[39m0\u001b[90m, \u001b[39m0\u001b[90m, \u001b[39m0\u001b[90m, \u001b[39m0\u001b[90m, \u001b[39m0\u001b[90m, \u001b[39m0\u001b[90m, \u001b[39m0\n",
      "$ `3H_A`   \u001b[3m\u001b[90m<int>\u001b[39m\u001b[23m 9\u001b[90m, \u001b[39m8\u001b[90m, \u001b[39m4\u001b[90m, \u001b[39m5\u001b[90m, \u001b[39m8\u001b[90m, \u001b[39m6\u001b[90m, \u001b[39m11\u001b[90m, \u001b[39m8\u001b[90m, \u001b[39m16\u001b[90m, \u001b[39m3\u001b[90m, \u001b[39m4\u001b[90m, \u001b[39m7\u001b[90m, \u001b[39m10\u001b[90m, \u001b[39m11\u001b[90m, \u001b[39m4\u001b[90m, \u001b[39m7\u001b[90m, \u001b[39m4\u001b[90m, \u001b[39m4\n"
     ]
    }
   ],
   "source": [
    "glimpse(obox_regular)"
   ]
  },
  {
   "cell_type": "markdown",
   "metadata": {},
   "source": [
    "*Tworzenie Tadd*"
   ]
  },
  {
   "cell_type": "code",
   "execution_count": 135,
   "metadata": {
    "vscode": {
     "languageId": "r"
    }
   },
   "outputs": [],
   "source": [
    "tm_tag <- c(\"CZB\", \"ASV\", \"MTA\", \"PAR\", \"EFE\", \"FCB\", \"BER\", \"BAY\",\n",
    "            \"VIR\", \"ZAL\", \"MIL\", \"FEN\", \"OLY\", \"PAN\", \"BAS\", \"RMB\",\n",
    "            \"ASM\", \"VAL\")\n",
    "\n",
    "tm_name <- c(\"Crvena Zvezda Meridianbet Belgrade\",\n",
    "             \"LDLC ASVEL Villeurbanne\",\n",
    "             \"Maccabi Playtika Tel Aviv\",\n",
    "             \"Partizan Mozzart Bet Belgrade\",\n",
    "             \"Anadolu Efes Istanbul\",\n",
    "             \"FC Barcelona\",\n",
    "             \"ALBA Berlin\",\n",
    "             \"FC Bayern Munich\",\n",
    "             \"Virtus Segafredo Bologna\",\n",
    "             \"Zalgiris Kaunas\",\n",
    "             \"EA7 Emporio Armani Milan\",\n",
    "             \"Fenerbahce Beko Istanbul\",\n",
    "             \"Olympiacos Piraeus\",\n",
    "             \"Panathinaikos AKTOR Athens\",\n",
    "             \"Baskonia Vitoria-Gasteiz\",\n",
    "             \"Real Madrid\",\n",
    "             \"AS Monaco\",\n",
    "             \"Valencia Basket\")\n",
    "\n",
    "country_vec <- c(\n",
    "  \"Serbia\",    # CZB\n",
    "  \"France\",    # ASV\n",
    "  \"Israel\",    # MTA\n",
    "  \"Serbia\",    # PAR\n",
    "  \"Turkey\",    # EFE\n",
    "  \"Spain\",     # FCB\n",
    "  \"Germany\",   # BER\n",
    "  \"Germany\",   # BAY\n",
    "  \"Italy\",     # VIR\n",
    "  \"Lithuania\", # ZAL\n",
    "  \"Italy\",     # MIL\n",
    "  \"Turkey\",    # FEN\n",
    "  \"Greece\",    # OLY\n",
    "  \"Greece\",    # PAN\n",
    "  \"Spain\",     # BAS\n",
    "  \"Spain\",     # RMB\n",
    "  \"France\",    # ASM\n",
    "  \"Spain\"      # VAL\n",
    ")\n",
    "\n",
    "rank_vec <- c(\n",
    "  17, # CZB\n",
    "  16, # ASV \n",
    "   7, # MTA\n",
    "  11, # PAR\n",
    "   9, # EFE\n",
    "   4, # FCB\n",
    "  18, # BER\n",
    "  15, # BAY\n",
    "  10, # VIR\n",
    "  14, # ZAL\n",
    "  12, # MIL\n",
    "   6, # FEN\n",
    "   5, # OLY\n",
    "   2, # PAN\n",
    "   8, # BAS \n",
    "   1, # RMB\n",
    "   3, # ASM\n",
    "  13  # VAL\n",
    ")\n",
    "\n",
    "playoff_vec <- rank_vec <= 8\n",
    "\n"
   ]
  },
  {
   "cell_type": "code",
   "execution_count": 136,
   "metadata": {
    "vscode": {
     "languageId": "r"
    }
   },
   "outputs": [],
   "source": [
    "t_add <- data.frame(\n",
    "  Team    = tm_name,\n",
    "  team    = tm_tag,\n",
    "  Country = country_vec,\n",
    "  Rank    = rank_vec,\n",
    "  Playoff = rank_vec <= 8,\n",
    "  stringsAsFactors = FALSE\n",
    ")\n"
   ]
  },
  {
   "cell_type": "code",
   "execution_count": 137,
   "metadata": {
    "vscode": {
     "languageId": "r"
    }
   },
   "outputs": [
    {
     "name": "stdout",
     "output_type": "stream",
     "text": [
      "Rows: 18\n",
      "Columns: 5\n",
      "$ Team    \u001b[3m\u001b[90m<chr>\u001b[39m\u001b[23m \"Crvena Zvezda Meridianbet Belgrade\"\u001b[90m, \u001b[39m\"LDLC ASVEL Villeurbanne…\n",
      "$ team    \u001b[3m\u001b[90m<chr>\u001b[39m\u001b[23m \"CZB\"\u001b[90m, \u001b[39m\"ASV\"\u001b[90m, \u001b[39m\"MTA\"\u001b[90m, \u001b[39m\"PAR\"\u001b[90m, \u001b[39m\"EFE\"\u001b[90m, \u001b[39m\"FCB\"\u001b[90m, \u001b[39m\"BER\"\u001b[90m, \u001b[39m\"BAY\"\u001b[90m, \u001b[39m\"VIR\"\u001b[90m,\u001b[39m…\n",
      "$ Country \u001b[3m\u001b[90m<chr>\u001b[39m\u001b[23m \"Serbia\"\u001b[90m, \u001b[39m\"France\"\u001b[90m, \u001b[39m\"Israel\"\u001b[90m, \u001b[39m\"Serbia\"\u001b[90m, \u001b[39m\"Turkey\"\u001b[90m, \u001b[39m\"Spain\"\u001b[90m, \u001b[39m\"Ge…\n",
      "$ Rank    \u001b[3m\u001b[90m<dbl>\u001b[39m\u001b[23m 17\u001b[90m, \u001b[39m16\u001b[90m, \u001b[39m7\u001b[90m, \u001b[39m11\u001b[90m, \u001b[39m9\u001b[90m, \u001b[39m4\u001b[90m, \u001b[39m18\u001b[90m, \u001b[39m15\u001b[90m, \u001b[39m10\u001b[90m, \u001b[39m14\u001b[90m, \u001b[39m12\u001b[90m, \u001b[39m6\u001b[90m, \u001b[39m5\u001b[90m, \u001b[39m2\u001b[90m, \u001b[39m8\u001b[90m, \u001b[39m1\u001b[90m, \u001b[39m3\u001b[90m, \u001b[39m13\n",
      "$ Playoff \u001b[3m\u001b[90m<lgl>\u001b[39m\u001b[23m FALSE\u001b[90m, \u001b[39mFALSE\u001b[90m, \u001b[39mTRUE\u001b[90m, \u001b[39mFALSE\u001b[90m, \u001b[39mFALSE\u001b[90m, \u001b[39mTRUE\u001b[90m, \u001b[39mFALSE\u001b[90m, \u001b[39mFALSE\u001b[90m, \u001b[39mFALSE\u001b[90m, \u001b[39mF…\n"
     ]
    }
   ],
   "source": [
    "glimpse(t_add)"
   ]
  },
  {
   "cell_type": "markdown",
   "metadata": {},
   "source": [
    "*Tworzenie pbox_final4_detail*"
   ]
  },
  {
   "cell_type": "code",
   "execution_count": 138,
   "metadata": {
    "vscode": {
     "languageId": "r"
    }
   },
   "outputs": [],
   "source": [
    "create_pbox_detailed <- function(players_raw) {\n",
    "  players_raw %>%\n",
    "    rename(\n",
    "      Player   = NAME,\n",
    "      Team     = `TM NAME`,\n",
    "      Opponent = `OPP NAME`,\n",
    "      P2M      = `2PTM`,\n",
    "      P2A      = `2PTA`,\n",
    "      P3M      = `3PTM`,\n",
    "      P3A      = `3PTA`,\n",
    "      OREB     = OR,\n",
    "      DREB     = DR,\n",
    "      TOV      = TO,\n",
    "      STL      = ST,\n",
    "      BLK      = BLK,\n",
    "      PM       = `+ / -`\n",
    "    ) %>%\n",
    "    mutate(\n",
    "      P2p = round(P2M / P2A * 100, 2),\n",
    "      P3p = round(P3M / P3A * 100, 2),\n",
    "      FTp = round(FTM / FTA * 100, 2)\n",
    "    ) %>%\n",
    "    select(\n",
    "      Player, Team, Opponent, ROUND, MIN, PTS,\n",
    "      P2M, P2A, P2p, P3M, P3A, P3p,\n",
    "      FTM, FTA, FTp,\n",
    "      OREB, DREB, AST, TOV, STL, BLK,\n",
    "      PF, PM, \n",
    "      RIM_M, RIM_A, PAINT_M, PAINT_A, \n",
    "      MID_M, MID_A, `3C_M`, `3C_A`, \n",
    "      `3L_M`, `3L_A`, `3H_M`, `3H_A`\n",
    "    )\n",
    "}"
   ]
  },
  {
   "cell_type": "code",
   "execution_count": 139,
   "metadata": {
    "vscode": {
     "languageId": "r"
    }
   },
   "outputs": [
    {
     "data": {
      "text/html": [
       "<table class=\"dataframe\">\n",
       "<caption>A tibble: 88 × 35</caption>\n",
       "<thead>\n",
       "\t<tr><th scope=col>Player</th><th scope=col>Team</th><th scope=col>Opponent</th><th scope=col>ROUND</th><th scope=col>MIN</th><th scope=col>PTS</th><th scope=col>P2M</th><th scope=col>P2A</th><th scope=col>P2p</th><th scope=col>P3M</th><th scope=col>⋯</th><th scope=col>PAINT_M</th><th scope=col>PAINT_A</th><th scope=col>MID_M</th><th scope=col>MID_A</th><th scope=col>3C_M</th><th scope=col>3C_A</th><th scope=col>3L_M</th><th scope=col>3L_A</th><th scope=col>3H_M</th><th scope=col>3H_A</th></tr>\n",
       "\t<tr><th scope=col>&lt;chr&gt;</th><th scope=col>&lt;chr&gt;</th><th scope=col>&lt;chr&gt;</th><th scope=col>&lt;int&gt;</th><th scope=col>&lt;int&gt;</th><th scope=col>&lt;int&gt;</th><th scope=col>&lt;int&gt;</th><th scope=col>&lt;int&gt;</th><th scope=col>&lt;dbl&gt;</th><th scope=col>&lt;int&gt;</th><th scope=col>⋯</th><th scope=col>&lt;int&gt;</th><th scope=col>&lt;int&gt;</th><th scope=col>&lt;int&gt;</th><th scope=col>&lt;int&gt;</th><th scope=col>&lt;int&gt;</th><th scope=col>&lt;int&gt;</th><th scope=col>&lt;int&gt;</th><th scope=col>&lt;int&gt;</th><th scope=col>&lt;int&gt;</th><th scope=col>&lt;int&gt;</th></tr>\n",
       "</thead>\n",
       "<tbody>\n",
       "\t<tr><td>Dyshawn Pierre        </td><td>Fenerbahce   </td><td>Panathinaikos</td><td>42</td><td> 9</td><td> 0</td><td>0</td><td> 1</td><td>  0.00</td><td>0</td><td>⋯</td><td>0</td><td>1</td><td>0</td><td>0</td><td>0</td><td>0</td><td>0</td><td>1</td><td>0</td><td>1</td></tr>\n",
       "\t<tr><td>Georgios Papagiannis  </td><td>Fenerbahce   </td><td>Panathinaikos</td><td>42</td><td> 4</td><td> 3</td><td>0</td><td> 0</td><td>   NaN</td><td>1</td><td>⋯</td><td>0</td><td>0</td><td>0</td><td>0</td><td>0</td><td>0</td><td>1</td><td>2</td><td>0</td><td>0</td></tr>\n",
       "\t<tr><td>Johnathan Motley      </td><td>Fenerbahce   </td><td>Panathinaikos</td><td>42</td><td> 3</td><td> 0</td><td>0</td><td> 0</td><td>   NaN</td><td>0</td><td>⋯</td><td>0</td><td>0</td><td>0</td><td>0</td><td>0</td><td>0</td><td>0</td><td>0</td><td>0</td><td>0</td></tr>\n",
       "\t<tr><td>Marko Guduric         </td><td>Fenerbahce   </td><td>Panathinaikos</td><td>42</td><td>25</td><td>10</td><td>2</td><td> 5</td><td> 40.00</td><td>2</td><td>⋯</td><td>1</td><td>3</td><td>0</td><td>0</td><td>0</td><td>1</td><td>2</td><td>5</td><td>0</td><td>0</td></tr>\n",
       "\t<tr><td>Nathan Sestina        </td><td>Fenerbahce   </td><td>Panathinaikos</td><td>42</td><td>19</td><td>10</td><td>1</td><td> 1</td><td>100.00</td><td>2</td><td>⋯</td><td>0</td><td>0</td><td>1</td><td>1</td><td>0</td><td>0</td><td>2</td><td>5</td><td>0</td><td>0</td></tr>\n",
       "\t<tr><td>Nick Calathes         </td><td>Fenerbahce   </td><td>Panathinaikos</td><td>42</td><td>34</td><td> 5</td><td>1</td><td> 2</td><td> 50.00</td><td>1</td><td>⋯</td><td>0</td><td>1</td><td>0</td><td>0</td><td>0</td><td>0</td><td>1</td><td>3</td><td>0</td><td>0</td></tr>\n",
       "\t<tr><td>Nigel Hayes Davis     </td><td>Fenerbahce   </td><td>Panathinaikos</td><td>42</td><td>32</td><td>14</td><td>3</td><td> 4</td><td> 75.00</td><td>2</td><td>⋯</td><td>0</td><td>1</td><td>1</td><td>1</td><td>0</td><td>0</td><td>2</td><td>6</td><td>0</td><td>0</td></tr>\n",
       "\t<tr><td>Scottie Wilbekin      </td><td>Fenerbahce   </td><td>Panathinaikos</td><td>42</td><td>24</td><td> 2</td><td>1</td><td> 5</td><td> 20.00</td><td>0</td><td>⋯</td><td>1</td><td>3</td><td>0</td><td>2</td><td>0</td><td>1</td><td>0</td><td>4</td><td>0</td><td>0</td></tr>\n",
       "\t<tr><td>Sertac Sanli          </td><td>Fenerbahce   </td><td>Panathinaikos</td><td>42</td><td>21</td><td> 7</td><td>1</td><td> 3</td><td> 33.33</td><td>1</td><td>⋯</td><td>1</td><td>1</td><td>0</td><td>2</td><td>0</td><td>0</td><td>1</td><td>2</td><td>0</td><td>0</td></tr>\n",
       "\t<tr><td>Tarik Biberovic       </td><td>Fenerbahce   </td><td>Panathinaikos</td><td>42</td><td>18</td><td> 4</td><td>1</td><td> 2</td><td> 50.00</td><td>0</td><td>⋯</td><td>0</td><td>1</td><td>1</td><td>1</td><td>0</td><td>0</td><td>0</td><td>2</td><td>0</td><td>0</td></tr>\n",
       "\t<tr><td>Tyler Dorsey          </td><td>Fenerbahce   </td><td>Panathinaikos</td><td>42</td><td>10</td><td> 2</td><td>1</td><td> 1</td><td>100.00</td><td>0</td><td>⋯</td><td>0</td><td>0</td><td>1</td><td>1</td><td>0</td><td>1</td><td>0</td><td>1</td><td>0</td><td>0</td></tr>\n",
       "\t<tr><td>Ioannis Papapetrou    </td><td>Panathinaikos</td><td>Fenerbahce   </td><td>42</td><td>23</td><td> 9</td><td>2</td><td> 3</td><td> 66.67</td><td>1</td><td>⋯</td><td>1</td><td>1</td><td>0</td><td>1</td><td>1</td><td>1</td><td>0</td><td>1</td><td>0</td><td>0</td></tr>\n",
       "\t<tr><td>Jerian Grant          </td><td>Panathinaikos</td><td>Fenerbahce   </td><td>42</td><td>27</td><td>13</td><td>4</td><td> 6</td><td> 66.67</td><td>1</td><td>⋯</td><td>2</td><td>3</td><td>2</td><td>3</td><td>0</td><td>0</td><td>1</td><td>2</td><td>0</td><td>0</td></tr>\n",
       "\t<tr><td>Juancho Hernangomez   </td><td>Panathinaikos</td><td>Fenerbahce   </td><td>42</td><td> 7</td><td> 3</td><td>0</td><td> 0</td><td>   NaN</td><td>1</td><td>⋯</td><td>0</td><td>0</td><td>0</td><td>0</td><td>0</td><td>0</td><td>1</td><td>2</td><td>0</td><td>0</td></tr>\n",
       "\t<tr><td>Kendrick Nunn         </td><td>Panathinaikos</td><td>Fenerbahce   </td><td>42</td><td>35</td><td>14</td><td>2</td><td> 4</td><td> 50.00</td><td>3</td><td>⋯</td><td>2</td><td>4</td><td>0</td><td>0</td><td>1</td><td>1</td><td>2</td><td>5</td><td>0</td><td>0</td></tr>\n",
       "\t<tr><td>Konstantinos Mitoglou </td><td>Panathinaikos</td><td>Fenerbahce   </td><td>42</td><td>26</td><td> 2</td><td>1</td><td> 1</td><td>100.00</td><td>0</td><td>⋯</td><td>0</td><td>0</td><td>0</td><td>0</td><td>0</td><td>0</td><td>0</td><td>2</td><td>0</td><td>0</td></tr>\n",
       "\t<tr><td>Kostas Antetokounmpo  </td><td>Panathinaikos</td><td>Fenerbahce   </td><td>42</td><td> 7</td><td> 0</td><td>0</td><td> 1</td><td>  0.00</td><td>0</td><td>⋯</td><td>0</td><td>0</td><td>0</td><td>0</td><td>0</td><td>0</td><td>0</td><td>0</td><td>0</td><td>0</td></tr>\n",
       "\t<tr><td>Kostas Sloukas        </td><td>Panathinaikos</td><td>Fenerbahce   </td><td>42</td><td>18</td><td> 4</td><td>1</td><td> 2</td><td> 50.00</td><td>0</td><td>⋯</td><td>1</td><td>2</td><td>0</td><td>0</td><td>0</td><td>0</td><td>0</td><td>3</td><td>0</td><td>0</td></tr>\n",
       "\t<tr><td>Marius Grigonis       </td><td>Panathinaikos</td><td>Fenerbahce   </td><td>42</td><td>18</td><td> 6</td><td>3</td><td> 4</td><td> 75.00</td><td>0</td><td>⋯</td><td>2</td><td>3</td><td>1</td><td>1</td><td>0</td><td>0</td><td>0</td><td>1</td><td>0</td><td>0</td></tr>\n",
       "\t<tr><td>Mathias Lessort       </td><td>Panathinaikos</td><td>Fenerbahce   </td><td>42</td><td>32</td><td>17</td><td>6</td><td>10</td><td> 60.00</td><td>0</td><td>⋯</td><td>1</td><td>4</td><td>0</td><td>0</td><td>0</td><td>0</td><td>0</td><td>0</td><td>0</td><td>0</td></tr>\n",
       "\t<tr><td>Panagiotis Kalaitzakis</td><td>Panathinaikos</td><td>Fenerbahce   </td><td>42</td><td> 8</td><td> 5</td><td>0</td><td> 0</td><td>   NaN</td><td>1</td><td>⋯</td><td>0</td><td>0</td><td>0</td><td>0</td><td>0</td><td>0</td><td>1</td><td>1</td><td>0</td><td>0</td></tr>\n",
       "\t<tr><td>Alec Peters           </td><td>Olympiacos   </td><td>Real Madrid  </td><td>42</td><td>29</td><td>23</td><td>3</td><td> 6</td><td> 50.00</td><td>5</td><td>⋯</td><td>1</td><td>4</td><td>0</td><td>0</td><td>0</td><td>0</td><td>5</td><td>6</td><td>0</td><td>0</td></tr>\n",
       "\t<tr><td>Filip Petrusev        </td><td>Olympiacos   </td><td>Real Madrid  </td><td>42</td><td> 8</td><td> 5</td><td>0</td><td> 1</td><td>  0.00</td><td>1</td><td>⋯</td><td>0</td><td>1</td><td>0</td><td>0</td><td>0</td><td>1</td><td>1</td><td>1</td><td>0</td><td>0</td></tr>\n",
       "\t<tr><td>Isaiah Canaan         </td><td>Olympiacos   </td><td>Real Madrid  </td><td>42</td><td>19</td><td> 7</td><td>0</td><td> 0</td><td>   NaN</td><td>2</td><td>⋯</td><td>0</td><td>0</td><td>0</td><td>0</td><td>0</td><td>0</td><td>2</td><td>5</td><td>0</td><td>0</td></tr>\n",
       "\t<tr><td>Kostas Papanikolaou   </td><td>Olympiacos   </td><td>Real Madrid  </td><td>42</td><td>22</td><td> 3</td><td>1</td><td> 2</td><td> 50.00</td><td>0</td><td>⋯</td><td>1</td><td>2</td><td>0</td><td>0</td><td>0</td><td>0</td><td>0</td><td>3</td><td>0</td><td>0</td></tr>\n",
       "\t<tr><td>Moses Wright          </td><td>Olympiacos   </td><td>Real Madrid  </td><td>42</td><td> 2</td><td> 0</td><td>0</td><td> 0</td><td>   NaN</td><td>0</td><td>⋯</td><td>0</td><td>0</td><td>0</td><td>0</td><td>0</td><td>0</td><td>0</td><td>0</td><td>0</td><td>0</td></tr>\n",
       "\t<tr><td>Moustapha Fall        </td><td>Olympiacos   </td><td>Real Madrid  </td><td>42</td><td>27</td><td> 2</td><td>1</td><td> 1</td><td>100.00</td><td>0</td><td>⋯</td><td>0</td><td>0</td><td>0</td><td>0</td><td>0</td><td>0</td><td>0</td><td>0</td><td>0</td><td>0</td></tr>\n",
       "\t<tr><td>Nigel Williams Goss   </td><td>Olympiacos   </td><td>Real Madrid  </td><td>42</td><td>30</td><td>15</td><td>3</td><td> 9</td><td> 33.33</td><td>3</td><td>⋯</td><td>3</td><td>6</td><td>0</td><td>3</td><td>0</td><td>0</td><td>3</td><td>5</td><td>0</td><td>0</td></tr>\n",
       "\t<tr><td>Nikola Milutinov      </td><td>Olympiacos   </td><td>Real Madrid  </td><td>42</td><td>10</td><td> 0</td><td>0</td><td> 0</td><td>   NaN</td><td>0</td><td>⋯</td><td>0</td><td>0</td><td>0</td><td>0</td><td>0</td><td>0</td><td>0</td><td>0</td><td>0</td><td>0</td></tr>\n",
       "\t<tr><td>Shaquielle McKissic   </td><td>Olympiacos   </td><td>Real Madrid  </td><td>42</td><td>26</td><td>17</td><td>2</td><td> 5</td><td> 40.00</td><td>3</td><td>⋯</td><td>1</td><td>4</td><td>0</td><td>0</td><td>0</td><td>0</td><td>3</td><td>6</td><td>0</td><td>0</td></tr>\n",
       "\t<tr><td>⋮</td><td>⋮</td><td>⋮</td><td>⋮</td><td>⋮</td><td>⋮</td><td>⋮</td><td>⋮</td><td>⋮</td><td>⋮</td><td>⋱</td><td>⋮</td><td>⋮</td><td>⋮</td><td>⋮</td><td>⋮</td><td>⋮</td><td>⋮</td><td>⋮</td><td>⋮</td><td>⋮</td></tr>\n",
       "\t<tr><td>Kostas Papanikolaou   </td><td>Olympiacos   </td><td>Fenerbahce   </td><td>43</td><td>17</td><td> 5</td><td>1</td><td> 2</td><td> 50.00</td><td>1</td><td>⋯</td><td>0</td><td>0</td><td>1</td><td>2</td><td>0</td><td>0</td><td>1</td><td>4</td><td>0</td><td>0</td></tr>\n",
       "\t<tr><td>Moses Wright          </td><td>Olympiacos   </td><td>Fenerbahce   </td><td>43</td><td>14</td><td> 8</td><td>2</td><td> 2</td><td>100.00</td><td>0</td><td>⋯</td><td>1</td><td>1</td><td>0</td><td>0</td><td>0</td><td>0</td><td>0</td><td>0</td><td>0</td><td>0</td></tr>\n",
       "\t<tr><td>Moustapha Fall        </td><td>Olympiacos   </td><td>Fenerbahce   </td><td>43</td><td>12</td><td> 2</td><td>1</td><td> 2</td><td> 50.00</td><td>0</td><td>⋯</td><td>1</td><td>2</td><td>0</td><td>0</td><td>0</td><td>0</td><td>0</td><td>0</td><td>0</td><td>0</td></tr>\n",
       "\t<tr><td>Nazareth Mitrou Long  </td><td>Olympiacos   </td><td>Fenerbahce   </td><td>43</td><td> 7</td><td> 0</td><td>0</td><td> 1</td><td>  0.00</td><td>0</td><td>⋯</td><td>0</td><td>1</td><td>0</td><td>0</td><td>0</td><td>0</td><td>0</td><td>0</td><td>0</td><td>0</td></tr>\n",
       "\t<tr><td>Nigel Williams Goss   </td><td>Olympiacos   </td><td>Fenerbahce   </td><td>43</td><td>27</td><td>12</td><td>4</td><td>10</td><td> 40.00</td><td>1</td><td>⋯</td><td>3</td><td>9</td><td>0</td><td>0</td><td>0</td><td>0</td><td>1</td><td>1</td><td>0</td><td>0</td></tr>\n",
       "\t<tr><td>Nikola Milutinov      </td><td>Olympiacos   </td><td>Fenerbahce   </td><td>43</td><td>20</td><td>10</td><td>3</td><td> 8</td><td> 37.50</td><td>0</td><td>⋯</td><td>2</td><td>7</td><td>0</td><td>0</td><td>0</td><td>0</td><td>0</td><td>0</td><td>0</td><td>0</td></tr>\n",
       "\t<tr><td>Shaquielle McKissic   </td><td>Olympiacos   </td><td>Fenerbahce   </td><td>43</td><td>16</td><td> 9</td><td>0</td><td> 1</td><td>  0.00</td><td>3</td><td>⋯</td><td>0</td><td>0</td><td>0</td><td>0</td><td>1</td><td>1</td><td>2</td><td>3</td><td>0</td><td>0</td></tr>\n",
       "\t<tr><td>Thomas Walkup         </td><td>Olympiacos   </td><td>Fenerbahce   </td><td>43</td><td>16</td><td> 3</td><td>0</td><td> 2</td><td>  0.00</td><td>1</td><td>⋯</td><td>0</td><td>2</td><td>0</td><td>0</td><td>0</td><td>0</td><td>1</td><td>1</td><td>0</td><td>0</td></tr>\n",
       "\t<tr><td>Ioannis Papapetrou    </td><td>Panathinaikos</td><td>Real Madrid  </td><td>43</td><td>18</td><td> 4</td><td>0</td><td> 1</td><td>  0.00</td><td>1</td><td>⋯</td><td>0</td><td>0</td><td>0</td><td>1</td><td>0</td><td>1</td><td>1</td><td>1</td><td>0</td><td>0</td></tr>\n",
       "\t<tr><td>Jerian Grant          </td><td>Panathinaikos</td><td>Real Madrid  </td><td>43</td><td>33</td><td>11</td><td>2</td><td> 6</td><td> 33.33</td><td>2</td><td>⋯</td><td>0</td><td>2</td><td>1</td><td>3</td><td>0</td><td>0</td><td>2</td><td>2</td><td>0</td><td>0</td></tr>\n",
       "\t<tr><td>Juancho Hernangomez   </td><td>Panathinaikos</td><td>Real Madrid  </td><td>43</td><td>20</td><td> 5</td><td>2</td><td> 2</td><td>100.00</td><td>0</td><td>⋯</td><td>0</td><td>0</td><td>0</td><td>0</td><td>0</td><td>1</td><td>0</td><td>1</td><td>0</td><td>1</td></tr>\n",
       "\t<tr><td>Kendrick Nunn         </td><td>Panathinaikos</td><td>Real Madrid  </td><td>43</td><td>24</td><td>21</td><td>6</td><td>12</td><td> 50.00</td><td>2</td><td>⋯</td><td>3</td><td>7</td><td>1</td><td>2</td><td>0</td><td>0</td><td>2</td><td>6</td><td>0</td><td>0</td></tr>\n",
       "\t<tr><td>Konstantinos Mitoglou </td><td>Panathinaikos</td><td>Real Madrid  </td><td>43</td><td>18</td><td> 8</td><td>1</td><td> 3</td><td> 33.33</td><td>2</td><td>⋯</td><td>0</td><td>1</td><td>1</td><td>2</td><td>0</td><td>0</td><td>2</td><td>2</td><td>0</td><td>0</td></tr>\n",
       "\t<tr><td>Kostas Antetokounmpo  </td><td>Panathinaikos</td><td>Real Madrid  </td><td>43</td><td> 3</td><td> 0</td><td>0</td><td> 0</td><td>   NaN</td><td>0</td><td>⋯</td><td>0</td><td>0</td><td>0</td><td>0</td><td>0</td><td>0</td><td>0</td><td>0</td><td>0</td><td>0</td></tr>\n",
       "\t<tr><td>Kostas Sloukas        </td><td>Panathinaikos</td><td>Real Madrid  </td><td>43</td><td>25</td><td>24</td><td>2</td><td> 2</td><td>100.00</td><td>4</td><td>⋯</td><td>0</td><td>0</td><td>1</td><td>1</td><td>0</td><td>0</td><td>4</td><td>4</td><td>0</td><td>0</td></tr>\n",
       "\t<tr><td>Luca Vildoza          </td><td>Panathinaikos</td><td>Real Madrid  </td><td>43</td><td>13</td><td> 3</td><td>0</td><td> 0</td><td>   NaN</td><td>1</td><td>⋯</td><td>0</td><td>0</td><td>0</td><td>0</td><td>0</td><td>0</td><td>1</td><td>1</td><td>0</td><td>0</td></tr>\n",
       "\t<tr><td>Marius Grigonis       </td><td>Panathinaikos</td><td>Real Madrid  </td><td>43</td><td> 7</td><td> 0</td><td>0</td><td> 1</td><td>  0.00</td><td>0</td><td>⋯</td><td>0</td><td>1</td><td>0</td><td>0</td><td>0</td><td>0</td><td>0</td><td>0</td><td>0</td><td>0</td></tr>\n",
       "\t<tr><td>Mathias Lessort       </td><td>Panathinaikos</td><td>Real Madrid  </td><td>43</td><td>33</td><td>17</td><td>5</td><td> 8</td><td> 62.50</td><td>0</td><td>⋯</td><td>4</td><td>7</td><td>0</td><td>0</td><td>0</td><td>0</td><td>0</td><td>1</td><td>0</td><td>0</td></tr>\n",
       "\t<tr><td>Panagiotis Kalaitzakis</td><td>Panathinaikos</td><td>Real Madrid  </td><td>43</td><td> 6</td><td> 2</td><td>0</td><td> 0</td><td>   NaN</td><td>0</td><td>⋯</td><td>0</td><td>0</td><td>0</td><td>0</td><td>0</td><td>0</td><td>0</td><td>0</td><td>0</td><td>1</td></tr>\n",
       "\t<tr><td>Dzanan Musa           </td><td>Real Madrid  </td><td>Panathinaikos</td><td>43</td><td>28</td><td>15</td><td>3</td><td> 4</td><td> 75.00</td><td>1</td><td>⋯</td><td>3</td><td>4</td><td>0</td><td>0</td><td>1</td><td>1</td><td>0</td><td>5</td><td>0</td><td>0</td></tr>\n",
       "\t<tr><td>Eli Ndiaye            </td><td>Real Madrid  </td><td>Panathinaikos</td><td>43</td><td> 7</td><td> 8</td><td>1</td><td> 1</td><td>100.00</td><td>2</td><td>⋯</td><td>1</td><td>1</td><td>0</td><td>0</td><td>1</td><td>1</td><td>1</td><td>1</td><td>0</td><td>0</td></tr>\n",
       "\t<tr><td>Fabien Causeur        </td><td>Real Madrid  </td><td>Panathinaikos</td><td>43</td><td> 4</td><td> 2</td><td>1</td><td> 1</td><td>100.00</td><td>0</td><td>⋯</td><td>1</td><td>1</td><td>0</td><td>0</td><td>0</td><td>0</td><td>0</td><td>0</td><td>0</td><td>0</td></tr>\n",
       "\t<tr><td>Facundo Campazzo      </td><td>Real Madrid  </td><td>Panathinaikos</td><td>43</td><td>22</td><td>12</td><td>2</td><td> 4</td><td> 50.00</td><td>2</td><td>⋯</td><td>2</td><td>4</td><td>0</td><td>0</td><td>0</td><td>0</td><td>2</td><td>4</td><td>0</td><td>0</td></tr>\n",
       "\t<tr><td>Guerschon Yabusele    </td><td>Real Madrid  </td><td>Panathinaikos</td><td>43</td><td>20</td><td> 6</td><td>0</td><td> 0</td><td>   NaN</td><td>2</td><td>⋯</td><td>0</td><td>0</td><td>0</td><td>0</td><td>0</td><td>0</td><td>2</td><td>5</td><td>0</td><td>0</td></tr>\n",
       "\t<tr><td>Mario Hezonja         </td><td>Real Madrid  </td><td>Panathinaikos</td><td>43</td><td>32</td><td> 8</td><td>2</td><td> 4</td><td> 50.00</td><td>1</td><td>⋯</td><td>2</td><td>4</td><td>0</td><td>0</td><td>0</td><td>0</td><td>1</td><td>7</td><td>0</td><td>0</td></tr>\n",
       "\t<tr><td>Rudy Fernandez        </td><td>Real Madrid  </td><td>Panathinaikos</td><td>43</td><td>10</td><td> 0</td><td>0</td><td> 0</td><td>   NaN</td><td>0</td><td>⋯</td><td>0</td><td>0</td><td>0</td><td>0</td><td>0</td><td>0</td><td>0</td><td>1</td><td>0</td><td>0</td></tr>\n",
       "\t<tr><td>Sergio Llull          </td><td>Real Madrid  </td><td>Panathinaikos</td><td>43</td><td>21</td><td> 6</td><td>0</td><td> 2</td><td>  0.00</td><td>2</td><td>⋯</td><td>0</td><td>2</td><td>0</td><td>0</td><td>0</td><td>0</td><td>2</td><td>7</td><td>0</td><td>0</td></tr>\n",
       "\t<tr><td>Sergio Rodriguez      </td><td>Real Madrid  </td><td>Panathinaikos</td><td>43</td><td>17</td><td>11</td><td>3</td><td> 5</td><td> 60.00</td><td>1</td><td>⋯</td><td>2</td><td>4</td><td>0</td><td>0</td><td>0</td><td>0</td><td>1</td><td>4</td><td>0</td><td>0</td></tr>\n",
       "\t<tr><td>Vincent Poirier       </td><td>Real Madrid  </td><td>Panathinaikos</td><td>43</td><td>16</td><td> 8</td><td>3</td><td> 6</td><td> 50.00</td><td>0</td><td>⋯</td><td>0</td><td>2</td><td>0</td><td>0</td><td>0</td><td>0</td><td>0</td><td>0</td><td>0</td><td>0</td></tr>\n",
       "\t<tr><td>Walter Tavares        </td><td>Real Madrid  </td><td>Panathinaikos</td><td>43</td><td>21</td><td> 4</td><td>1</td><td> 2</td><td> 50.00</td><td>0</td><td>⋯</td><td>0</td><td>1</td><td>0</td><td>0</td><td>0</td><td>0</td><td>0</td><td>0</td><td>0</td><td>0</td></tr>\n",
       "</tbody>\n",
       "</table>\n"
      ],
      "text/latex": [
       "A tibble: 88 × 35\n",
       "\\begin{tabular}{lllllllllllllllllllll}\n",
       " Player & Team & Opponent & ROUND & MIN & PTS & P2M & P2A & P2p & P3M & ⋯ & PAINT\\_M & PAINT\\_A & MID\\_M & MID\\_A & 3C\\_M & 3C\\_A & 3L\\_M & 3L\\_A & 3H\\_M & 3H\\_A\\\\\n",
       " <chr> & <chr> & <chr> & <int> & <int> & <int> & <int> & <int> & <dbl> & <int> & ⋯ & <int> & <int> & <int> & <int> & <int> & <int> & <int> & <int> & <int> & <int>\\\\\n",
       "\\hline\n",
       "\t Dyshawn Pierre         & Fenerbahce    & Panathinaikos & 42 &  9 &  0 & 0 &  1 &   0.00 & 0 & ⋯ & 0 & 1 & 0 & 0 & 0 & 0 & 0 & 1 & 0 & 1\\\\\n",
       "\t Georgios Papagiannis   & Fenerbahce    & Panathinaikos & 42 &  4 &  3 & 0 &  0 &    NaN & 1 & ⋯ & 0 & 0 & 0 & 0 & 0 & 0 & 1 & 2 & 0 & 0\\\\\n",
       "\t Johnathan Motley       & Fenerbahce    & Panathinaikos & 42 &  3 &  0 & 0 &  0 &    NaN & 0 & ⋯ & 0 & 0 & 0 & 0 & 0 & 0 & 0 & 0 & 0 & 0\\\\\n",
       "\t Marko Guduric          & Fenerbahce    & Panathinaikos & 42 & 25 & 10 & 2 &  5 &  40.00 & 2 & ⋯ & 1 & 3 & 0 & 0 & 0 & 1 & 2 & 5 & 0 & 0\\\\\n",
       "\t Nathan Sestina         & Fenerbahce    & Panathinaikos & 42 & 19 & 10 & 1 &  1 & 100.00 & 2 & ⋯ & 0 & 0 & 1 & 1 & 0 & 0 & 2 & 5 & 0 & 0\\\\\n",
       "\t Nick Calathes          & Fenerbahce    & Panathinaikos & 42 & 34 &  5 & 1 &  2 &  50.00 & 1 & ⋯ & 0 & 1 & 0 & 0 & 0 & 0 & 1 & 3 & 0 & 0\\\\\n",
       "\t Nigel Hayes Davis      & Fenerbahce    & Panathinaikos & 42 & 32 & 14 & 3 &  4 &  75.00 & 2 & ⋯ & 0 & 1 & 1 & 1 & 0 & 0 & 2 & 6 & 0 & 0\\\\\n",
       "\t Scottie Wilbekin       & Fenerbahce    & Panathinaikos & 42 & 24 &  2 & 1 &  5 &  20.00 & 0 & ⋯ & 1 & 3 & 0 & 2 & 0 & 1 & 0 & 4 & 0 & 0\\\\\n",
       "\t Sertac Sanli           & Fenerbahce    & Panathinaikos & 42 & 21 &  7 & 1 &  3 &  33.33 & 1 & ⋯ & 1 & 1 & 0 & 2 & 0 & 0 & 1 & 2 & 0 & 0\\\\\n",
       "\t Tarik Biberovic        & Fenerbahce    & Panathinaikos & 42 & 18 &  4 & 1 &  2 &  50.00 & 0 & ⋯ & 0 & 1 & 1 & 1 & 0 & 0 & 0 & 2 & 0 & 0\\\\\n",
       "\t Tyler Dorsey           & Fenerbahce    & Panathinaikos & 42 & 10 &  2 & 1 &  1 & 100.00 & 0 & ⋯ & 0 & 0 & 1 & 1 & 0 & 1 & 0 & 1 & 0 & 0\\\\\n",
       "\t Ioannis Papapetrou     & Panathinaikos & Fenerbahce    & 42 & 23 &  9 & 2 &  3 &  66.67 & 1 & ⋯ & 1 & 1 & 0 & 1 & 1 & 1 & 0 & 1 & 0 & 0\\\\\n",
       "\t Jerian Grant           & Panathinaikos & Fenerbahce    & 42 & 27 & 13 & 4 &  6 &  66.67 & 1 & ⋯ & 2 & 3 & 2 & 3 & 0 & 0 & 1 & 2 & 0 & 0\\\\\n",
       "\t Juancho Hernangomez    & Panathinaikos & Fenerbahce    & 42 &  7 &  3 & 0 &  0 &    NaN & 1 & ⋯ & 0 & 0 & 0 & 0 & 0 & 0 & 1 & 2 & 0 & 0\\\\\n",
       "\t Kendrick Nunn          & Panathinaikos & Fenerbahce    & 42 & 35 & 14 & 2 &  4 &  50.00 & 3 & ⋯ & 2 & 4 & 0 & 0 & 1 & 1 & 2 & 5 & 0 & 0\\\\\n",
       "\t Konstantinos Mitoglou  & Panathinaikos & Fenerbahce    & 42 & 26 &  2 & 1 &  1 & 100.00 & 0 & ⋯ & 0 & 0 & 0 & 0 & 0 & 0 & 0 & 2 & 0 & 0\\\\\n",
       "\t Kostas Antetokounmpo   & Panathinaikos & Fenerbahce    & 42 &  7 &  0 & 0 &  1 &   0.00 & 0 & ⋯ & 0 & 0 & 0 & 0 & 0 & 0 & 0 & 0 & 0 & 0\\\\\n",
       "\t Kostas Sloukas         & Panathinaikos & Fenerbahce    & 42 & 18 &  4 & 1 &  2 &  50.00 & 0 & ⋯ & 1 & 2 & 0 & 0 & 0 & 0 & 0 & 3 & 0 & 0\\\\\n",
       "\t Marius Grigonis        & Panathinaikos & Fenerbahce    & 42 & 18 &  6 & 3 &  4 &  75.00 & 0 & ⋯ & 2 & 3 & 1 & 1 & 0 & 0 & 0 & 1 & 0 & 0\\\\\n",
       "\t Mathias Lessort        & Panathinaikos & Fenerbahce    & 42 & 32 & 17 & 6 & 10 &  60.00 & 0 & ⋯ & 1 & 4 & 0 & 0 & 0 & 0 & 0 & 0 & 0 & 0\\\\\n",
       "\t Panagiotis Kalaitzakis & Panathinaikos & Fenerbahce    & 42 &  8 &  5 & 0 &  0 &    NaN & 1 & ⋯ & 0 & 0 & 0 & 0 & 0 & 0 & 1 & 1 & 0 & 0\\\\\n",
       "\t Alec Peters            & Olympiacos    & Real Madrid   & 42 & 29 & 23 & 3 &  6 &  50.00 & 5 & ⋯ & 1 & 4 & 0 & 0 & 0 & 0 & 5 & 6 & 0 & 0\\\\\n",
       "\t Filip Petrusev         & Olympiacos    & Real Madrid   & 42 &  8 &  5 & 0 &  1 &   0.00 & 1 & ⋯ & 0 & 1 & 0 & 0 & 0 & 1 & 1 & 1 & 0 & 0\\\\\n",
       "\t Isaiah Canaan          & Olympiacos    & Real Madrid   & 42 & 19 &  7 & 0 &  0 &    NaN & 2 & ⋯ & 0 & 0 & 0 & 0 & 0 & 0 & 2 & 5 & 0 & 0\\\\\n",
       "\t Kostas Papanikolaou    & Olympiacos    & Real Madrid   & 42 & 22 &  3 & 1 &  2 &  50.00 & 0 & ⋯ & 1 & 2 & 0 & 0 & 0 & 0 & 0 & 3 & 0 & 0\\\\\n",
       "\t Moses Wright           & Olympiacos    & Real Madrid   & 42 &  2 &  0 & 0 &  0 &    NaN & 0 & ⋯ & 0 & 0 & 0 & 0 & 0 & 0 & 0 & 0 & 0 & 0\\\\\n",
       "\t Moustapha Fall         & Olympiacos    & Real Madrid   & 42 & 27 &  2 & 1 &  1 & 100.00 & 0 & ⋯ & 0 & 0 & 0 & 0 & 0 & 0 & 0 & 0 & 0 & 0\\\\\n",
       "\t Nigel Williams Goss    & Olympiacos    & Real Madrid   & 42 & 30 & 15 & 3 &  9 &  33.33 & 3 & ⋯ & 3 & 6 & 0 & 3 & 0 & 0 & 3 & 5 & 0 & 0\\\\\n",
       "\t Nikola Milutinov       & Olympiacos    & Real Madrid   & 42 & 10 &  0 & 0 &  0 &    NaN & 0 & ⋯ & 0 & 0 & 0 & 0 & 0 & 0 & 0 & 0 & 0 & 0\\\\\n",
       "\t Shaquielle McKissic    & Olympiacos    & Real Madrid   & 42 & 26 & 17 & 2 &  5 &  40.00 & 3 & ⋯ & 1 & 4 & 0 & 0 & 0 & 0 & 3 & 6 & 0 & 0\\\\\n",
       "\t ⋮ & ⋮ & ⋮ & ⋮ & ⋮ & ⋮ & ⋮ & ⋮ & ⋮ & ⋮ & ⋱ & ⋮ & ⋮ & ⋮ & ⋮ & ⋮ & ⋮ & ⋮ & ⋮ & ⋮ & ⋮\\\\\n",
       "\t Kostas Papanikolaou    & Olympiacos    & Fenerbahce    & 43 & 17 &  5 & 1 &  2 &  50.00 & 1 & ⋯ & 0 & 0 & 1 & 2 & 0 & 0 & 1 & 4 & 0 & 0\\\\\n",
       "\t Moses Wright           & Olympiacos    & Fenerbahce    & 43 & 14 &  8 & 2 &  2 & 100.00 & 0 & ⋯ & 1 & 1 & 0 & 0 & 0 & 0 & 0 & 0 & 0 & 0\\\\\n",
       "\t Moustapha Fall         & Olympiacos    & Fenerbahce    & 43 & 12 &  2 & 1 &  2 &  50.00 & 0 & ⋯ & 1 & 2 & 0 & 0 & 0 & 0 & 0 & 0 & 0 & 0\\\\\n",
       "\t Nazareth Mitrou Long   & Olympiacos    & Fenerbahce    & 43 &  7 &  0 & 0 &  1 &   0.00 & 0 & ⋯ & 0 & 1 & 0 & 0 & 0 & 0 & 0 & 0 & 0 & 0\\\\\n",
       "\t Nigel Williams Goss    & Olympiacos    & Fenerbahce    & 43 & 27 & 12 & 4 & 10 &  40.00 & 1 & ⋯ & 3 & 9 & 0 & 0 & 0 & 0 & 1 & 1 & 0 & 0\\\\\n",
       "\t Nikola Milutinov       & Olympiacos    & Fenerbahce    & 43 & 20 & 10 & 3 &  8 &  37.50 & 0 & ⋯ & 2 & 7 & 0 & 0 & 0 & 0 & 0 & 0 & 0 & 0\\\\\n",
       "\t Shaquielle McKissic    & Olympiacos    & Fenerbahce    & 43 & 16 &  9 & 0 &  1 &   0.00 & 3 & ⋯ & 0 & 0 & 0 & 0 & 1 & 1 & 2 & 3 & 0 & 0\\\\\n",
       "\t Thomas Walkup          & Olympiacos    & Fenerbahce    & 43 & 16 &  3 & 0 &  2 &   0.00 & 1 & ⋯ & 0 & 2 & 0 & 0 & 0 & 0 & 1 & 1 & 0 & 0\\\\\n",
       "\t Ioannis Papapetrou     & Panathinaikos & Real Madrid   & 43 & 18 &  4 & 0 &  1 &   0.00 & 1 & ⋯ & 0 & 0 & 0 & 1 & 0 & 1 & 1 & 1 & 0 & 0\\\\\n",
       "\t Jerian Grant           & Panathinaikos & Real Madrid   & 43 & 33 & 11 & 2 &  6 &  33.33 & 2 & ⋯ & 0 & 2 & 1 & 3 & 0 & 0 & 2 & 2 & 0 & 0\\\\\n",
       "\t Juancho Hernangomez    & Panathinaikos & Real Madrid   & 43 & 20 &  5 & 2 &  2 & 100.00 & 0 & ⋯ & 0 & 0 & 0 & 0 & 0 & 1 & 0 & 1 & 0 & 1\\\\\n",
       "\t Kendrick Nunn          & Panathinaikos & Real Madrid   & 43 & 24 & 21 & 6 & 12 &  50.00 & 2 & ⋯ & 3 & 7 & 1 & 2 & 0 & 0 & 2 & 6 & 0 & 0\\\\\n",
       "\t Konstantinos Mitoglou  & Panathinaikos & Real Madrid   & 43 & 18 &  8 & 1 &  3 &  33.33 & 2 & ⋯ & 0 & 1 & 1 & 2 & 0 & 0 & 2 & 2 & 0 & 0\\\\\n",
       "\t Kostas Antetokounmpo   & Panathinaikos & Real Madrid   & 43 &  3 &  0 & 0 &  0 &    NaN & 0 & ⋯ & 0 & 0 & 0 & 0 & 0 & 0 & 0 & 0 & 0 & 0\\\\\n",
       "\t Kostas Sloukas         & Panathinaikos & Real Madrid   & 43 & 25 & 24 & 2 &  2 & 100.00 & 4 & ⋯ & 0 & 0 & 1 & 1 & 0 & 0 & 4 & 4 & 0 & 0\\\\\n",
       "\t Luca Vildoza           & Panathinaikos & Real Madrid   & 43 & 13 &  3 & 0 &  0 &    NaN & 1 & ⋯ & 0 & 0 & 0 & 0 & 0 & 0 & 1 & 1 & 0 & 0\\\\\n",
       "\t Marius Grigonis        & Panathinaikos & Real Madrid   & 43 &  7 &  0 & 0 &  1 &   0.00 & 0 & ⋯ & 0 & 1 & 0 & 0 & 0 & 0 & 0 & 0 & 0 & 0\\\\\n",
       "\t Mathias Lessort        & Panathinaikos & Real Madrid   & 43 & 33 & 17 & 5 &  8 &  62.50 & 0 & ⋯ & 4 & 7 & 0 & 0 & 0 & 0 & 0 & 1 & 0 & 0\\\\\n",
       "\t Panagiotis Kalaitzakis & Panathinaikos & Real Madrid   & 43 &  6 &  2 & 0 &  0 &    NaN & 0 & ⋯ & 0 & 0 & 0 & 0 & 0 & 0 & 0 & 0 & 0 & 1\\\\\n",
       "\t Dzanan Musa            & Real Madrid   & Panathinaikos & 43 & 28 & 15 & 3 &  4 &  75.00 & 1 & ⋯ & 3 & 4 & 0 & 0 & 1 & 1 & 0 & 5 & 0 & 0\\\\\n",
       "\t Eli Ndiaye             & Real Madrid   & Panathinaikos & 43 &  7 &  8 & 1 &  1 & 100.00 & 2 & ⋯ & 1 & 1 & 0 & 0 & 1 & 1 & 1 & 1 & 0 & 0\\\\\n",
       "\t Fabien Causeur         & Real Madrid   & Panathinaikos & 43 &  4 &  2 & 1 &  1 & 100.00 & 0 & ⋯ & 1 & 1 & 0 & 0 & 0 & 0 & 0 & 0 & 0 & 0\\\\\n",
       "\t Facundo Campazzo       & Real Madrid   & Panathinaikos & 43 & 22 & 12 & 2 &  4 &  50.00 & 2 & ⋯ & 2 & 4 & 0 & 0 & 0 & 0 & 2 & 4 & 0 & 0\\\\\n",
       "\t Guerschon Yabusele     & Real Madrid   & Panathinaikos & 43 & 20 &  6 & 0 &  0 &    NaN & 2 & ⋯ & 0 & 0 & 0 & 0 & 0 & 0 & 2 & 5 & 0 & 0\\\\\n",
       "\t Mario Hezonja          & Real Madrid   & Panathinaikos & 43 & 32 &  8 & 2 &  4 &  50.00 & 1 & ⋯ & 2 & 4 & 0 & 0 & 0 & 0 & 1 & 7 & 0 & 0\\\\\n",
       "\t Rudy Fernandez         & Real Madrid   & Panathinaikos & 43 & 10 &  0 & 0 &  0 &    NaN & 0 & ⋯ & 0 & 0 & 0 & 0 & 0 & 0 & 0 & 1 & 0 & 0\\\\\n",
       "\t Sergio Llull           & Real Madrid   & Panathinaikos & 43 & 21 &  6 & 0 &  2 &   0.00 & 2 & ⋯ & 0 & 2 & 0 & 0 & 0 & 0 & 2 & 7 & 0 & 0\\\\\n",
       "\t Sergio Rodriguez       & Real Madrid   & Panathinaikos & 43 & 17 & 11 & 3 &  5 &  60.00 & 1 & ⋯ & 2 & 4 & 0 & 0 & 0 & 0 & 1 & 4 & 0 & 0\\\\\n",
       "\t Vincent Poirier        & Real Madrid   & Panathinaikos & 43 & 16 &  8 & 3 &  6 &  50.00 & 0 & ⋯ & 0 & 2 & 0 & 0 & 0 & 0 & 0 & 0 & 0 & 0\\\\\n",
       "\t Walter Tavares         & Real Madrid   & Panathinaikos & 43 & 21 &  4 & 1 &  2 &  50.00 & 0 & ⋯ & 0 & 1 & 0 & 0 & 0 & 0 & 0 & 0 & 0 & 0\\\\\n",
       "\\end{tabular}\n"
      ],
      "text/markdown": [
       "\n",
       "A tibble: 88 × 35\n",
       "\n",
       "| Player &lt;chr&gt; | Team &lt;chr&gt; | Opponent &lt;chr&gt; | ROUND &lt;int&gt; | MIN &lt;int&gt; | PTS &lt;int&gt; | P2M &lt;int&gt; | P2A &lt;int&gt; | P2p &lt;dbl&gt; | P3M &lt;int&gt; | ⋯ ⋯ | PAINT_M &lt;int&gt; | PAINT_A &lt;int&gt; | MID_M &lt;int&gt; | MID_A &lt;int&gt; | 3C_M &lt;int&gt; | 3C_A &lt;int&gt; | 3L_M &lt;int&gt; | 3L_A &lt;int&gt; | 3H_M &lt;int&gt; | 3H_A &lt;int&gt; |\n",
       "|---|---|---|---|---|---|---|---|---|---|---|---|---|---|---|---|---|---|---|---|---|\n",
       "| Dyshawn Pierre         | Fenerbahce    | Panathinaikos | 42 |  9 |  0 | 0 |  1 |   0.00 | 0 | ⋯ | 0 | 1 | 0 | 0 | 0 | 0 | 0 | 1 | 0 | 1 |\n",
       "| Georgios Papagiannis   | Fenerbahce    | Panathinaikos | 42 |  4 |  3 | 0 |  0 |    NaN | 1 | ⋯ | 0 | 0 | 0 | 0 | 0 | 0 | 1 | 2 | 0 | 0 |\n",
       "| Johnathan Motley       | Fenerbahce    | Panathinaikos | 42 |  3 |  0 | 0 |  0 |    NaN | 0 | ⋯ | 0 | 0 | 0 | 0 | 0 | 0 | 0 | 0 | 0 | 0 |\n",
       "| Marko Guduric          | Fenerbahce    | Panathinaikos | 42 | 25 | 10 | 2 |  5 |  40.00 | 2 | ⋯ | 1 | 3 | 0 | 0 | 0 | 1 | 2 | 5 | 0 | 0 |\n",
       "| Nathan Sestina         | Fenerbahce    | Panathinaikos | 42 | 19 | 10 | 1 |  1 | 100.00 | 2 | ⋯ | 0 | 0 | 1 | 1 | 0 | 0 | 2 | 5 | 0 | 0 |\n",
       "| Nick Calathes          | Fenerbahce    | Panathinaikos | 42 | 34 |  5 | 1 |  2 |  50.00 | 1 | ⋯ | 0 | 1 | 0 | 0 | 0 | 0 | 1 | 3 | 0 | 0 |\n",
       "| Nigel Hayes Davis      | Fenerbahce    | Panathinaikos | 42 | 32 | 14 | 3 |  4 |  75.00 | 2 | ⋯ | 0 | 1 | 1 | 1 | 0 | 0 | 2 | 6 | 0 | 0 |\n",
       "| Scottie Wilbekin       | Fenerbahce    | Panathinaikos | 42 | 24 |  2 | 1 |  5 |  20.00 | 0 | ⋯ | 1 | 3 | 0 | 2 | 0 | 1 | 0 | 4 | 0 | 0 |\n",
       "| Sertac Sanli           | Fenerbahce    | Panathinaikos | 42 | 21 |  7 | 1 |  3 |  33.33 | 1 | ⋯ | 1 | 1 | 0 | 2 | 0 | 0 | 1 | 2 | 0 | 0 |\n",
       "| Tarik Biberovic        | Fenerbahce    | Panathinaikos | 42 | 18 |  4 | 1 |  2 |  50.00 | 0 | ⋯ | 0 | 1 | 1 | 1 | 0 | 0 | 0 | 2 | 0 | 0 |\n",
       "| Tyler Dorsey           | Fenerbahce    | Panathinaikos | 42 | 10 |  2 | 1 |  1 | 100.00 | 0 | ⋯ | 0 | 0 | 1 | 1 | 0 | 1 | 0 | 1 | 0 | 0 |\n",
       "| Ioannis Papapetrou     | Panathinaikos | Fenerbahce    | 42 | 23 |  9 | 2 |  3 |  66.67 | 1 | ⋯ | 1 | 1 | 0 | 1 | 1 | 1 | 0 | 1 | 0 | 0 |\n",
       "| Jerian Grant           | Panathinaikos | Fenerbahce    | 42 | 27 | 13 | 4 |  6 |  66.67 | 1 | ⋯ | 2 | 3 | 2 | 3 | 0 | 0 | 1 | 2 | 0 | 0 |\n",
       "| Juancho Hernangomez    | Panathinaikos | Fenerbahce    | 42 |  7 |  3 | 0 |  0 |    NaN | 1 | ⋯ | 0 | 0 | 0 | 0 | 0 | 0 | 1 | 2 | 0 | 0 |\n",
       "| Kendrick Nunn          | Panathinaikos | Fenerbahce    | 42 | 35 | 14 | 2 |  4 |  50.00 | 3 | ⋯ | 2 | 4 | 0 | 0 | 1 | 1 | 2 | 5 | 0 | 0 |\n",
       "| Konstantinos Mitoglou  | Panathinaikos | Fenerbahce    | 42 | 26 |  2 | 1 |  1 | 100.00 | 0 | ⋯ | 0 | 0 | 0 | 0 | 0 | 0 | 0 | 2 | 0 | 0 |\n",
       "| Kostas Antetokounmpo   | Panathinaikos | Fenerbahce    | 42 |  7 |  0 | 0 |  1 |   0.00 | 0 | ⋯ | 0 | 0 | 0 | 0 | 0 | 0 | 0 | 0 | 0 | 0 |\n",
       "| Kostas Sloukas         | Panathinaikos | Fenerbahce    | 42 | 18 |  4 | 1 |  2 |  50.00 | 0 | ⋯ | 1 | 2 | 0 | 0 | 0 | 0 | 0 | 3 | 0 | 0 |\n",
       "| Marius Grigonis        | Panathinaikos | Fenerbahce    | 42 | 18 |  6 | 3 |  4 |  75.00 | 0 | ⋯ | 2 | 3 | 1 | 1 | 0 | 0 | 0 | 1 | 0 | 0 |\n",
       "| Mathias Lessort        | Panathinaikos | Fenerbahce    | 42 | 32 | 17 | 6 | 10 |  60.00 | 0 | ⋯ | 1 | 4 | 0 | 0 | 0 | 0 | 0 | 0 | 0 | 0 |\n",
       "| Panagiotis Kalaitzakis | Panathinaikos | Fenerbahce    | 42 |  8 |  5 | 0 |  0 |    NaN | 1 | ⋯ | 0 | 0 | 0 | 0 | 0 | 0 | 1 | 1 | 0 | 0 |\n",
       "| Alec Peters            | Olympiacos    | Real Madrid   | 42 | 29 | 23 | 3 |  6 |  50.00 | 5 | ⋯ | 1 | 4 | 0 | 0 | 0 | 0 | 5 | 6 | 0 | 0 |\n",
       "| Filip Petrusev         | Olympiacos    | Real Madrid   | 42 |  8 |  5 | 0 |  1 |   0.00 | 1 | ⋯ | 0 | 1 | 0 | 0 | 0 | 1 | 1 | 1 | 0 | 0 |\n",
       "| Isaiah Canaan          | Olympiacos    | Real Madrid   | 42 | 19 |  7 | 0 |  0 |    NaN | 2 | ⋯ | 0 | 0 | 0 | 0 | 0 | 0 | 2 | 5 | 0 | 0 |\n",
       "| Kostas Papanikolaou    | Olympiacos    | Real Madrid   | 42 | 22 |  3 | 1 |  2 |  50.00 | 0 | ⋯ | 1 | 2 | 0 | 0 | 0 | 0 | 0 | 3 | 0 | 0 |\n",
       "| Moses Wright           | Olympiacos    | Real Madrid   | 42 |  2 |  0 | 0 |  0 |    NaN | 0 | ⋯ | 0 | 0 | 0 | 0 | 0 | 0 | 0 | 0 | 0 | 0 |\n",
       "| Moustapha Fall         | Olympiacos    | Real Madrid   | 42 | 27 |  2 | 1 |  1 | 100.00 | 0 | ⋯ | 0 | 0 | 0 | 0 | 0 | 0 | 0 | 0 | 0 | 0 |\n",
       "| Nigel Williams Goss    | Olympiacos    | Real Madrid   | 42 | 30 | 15 | 3 |  9 |  33.33 | 3 | ⋯ | 3 | 6 | 0 | 3 | 0 | 0 | 3 | 5 | 0 | 0 |\n",
       "| Nikola Milutinov       | Olympiacos    | Real Madrid   | 42 | 10 |  0 | 0 |  0 |    NaN | 0 | ⋯ | 0 | 0 | 0 | 0 | 0 | 0 | 0 | 0 | 0 | 0 |\n",
       "| Shaquielle McKissic    | Olympiacos    | Real Madrid   | 42 | 26 | 17 | 2 |  5 |  40.00 | 3 | ⋯ | 1 | 4 | 0 | 0 | 0 | 0 | 3 | 6 | 0 | 0 |\n",
       "| ⋮ | ⋮ | ⋮ | ⋮ | ⋮ | ⋮ | ⋮ | ⋮ | ⋮ | ⋮ | ⋱ | ⋮ | ⋮ | ⋮ | ⋮ | ⋮ | ⋮ | ⋮ | ⋮ | ⋮ | ⋮ |\n",
       "| Kostas Papanikolaou    | Olympiacos    | Fenerbahce    | 43 | 17 |  5 | 1 |  2 |  50.00 | 1 | ⋯ | 0 | 0 | 1 | 2 | 0 | 0 | 1 | 4 | 0 | 0 |\n",
       "| Moses Wright           | Olympiacos    | Fenerbahce    | 43 | 14 |  8 | 2 |  2 | 100.00 | 0 | ⋯ | 1 | 1 | 0 | 0 | 0 | 0 | 0 | 0 | 0 | 0 |\n",
       "| Moustapha Fall         | Olympiacos    | Fenerbahce    | 43 | 12 |  2 | 1 |  2 |  50.00 | 0 | ⋯ | 1 | 2 | 0 | 0 | 0 | 0 | 0 | 0 | 0 | 0 |\n",
       "| Nazareth Mitrou Long   | Olympiacos    | Fenerbahce    | 43 |  7 |  0 | 0 |  1 |   0.00 | 0 | ⋯ | 0 | 1 | 0 | 0 | 0 | 0 | 0 | 0 | 0 | 0 |\n",
       "| Nigel Williams Goss    | Olympiacos    | Fenerbahce    | 43 | 27 | 12 | 4 | 10 |  40.00 | 1 | ⋯ | 3 | 9 | 0 | 0 | 0 | 0 | 1 | 1 | 0 | 0 |\n",
       "| Nikola Milutinov       | Olympiacos    | Fenerbahce    | 43 | 20 | 10 | 3 |  8 |  37.50 | 0 | ⋯ | 2 | 7 | 0 | 0 | 0 | 0 | 0 | 0 | 0 | 0 |\n",
       "| Shaquielle McKissic    | Olympiacos    | Fenerbahce    | 43 | 16 |  9 | 0 |  1 |   0.00 | 3 | ⋯ | 0 | 0 | 0 | 0 | 1 | 1 | 2 | 3 | 0 | 0 |\n",
       "| Thomas Walkup          | Olympiacos    | Fenerbahce    | 43 | 16 |  3 | 0 |  2 |   0.00 | 1 | ⋯ | 0 | 2 | 0 | 0 | 0 | 0 | 1 | 1 | 0 | 0 |\n",
       "| Ioannis Papapetrou     | Panathinaikos | Real Madrid   | 43 | 18 |  4 | 0 |  1 |   0.00 | 1 | ⋯ | 0 | 0 | 0 | 1 | 0 | 1 | 1 | 1 | 0 | 0 |\n",
       "| Jerian Grant           | Panathinaikos | Real Madrid   | 43 | 33 | 11 | 2 |  6 |  33.33 | 2 | ⋯ | 0 | 2 | 1 | 3 | 0 | 0 | 2 | 2 | 0 | 0 |\n",
       "| Juancho Hernangomez    | Panathinaikos | Real Madrid   | 43 | 20 |  5 | 2 |  2 | 100.00 | 0 | ⋯ | 0 | 0 | 0 | 0 | 0 | 1 | 0 | 1 | 0 | 1 |\n",
       "| Kendrick Nunn          | Panathinaikos | Real Madrid   | 43 | 24 | 21 | 6 | 12 |  50.00 | 2 | ⋯ | 3 | 7 | 1 | 2 | 0 | 0 | 2 | 6 | 0 | 0 |\n",
       "| Konstantinos Mitoglou  | Panathinaikos | Real Madrid   | 43 | 18 |  8 | 1 |  3 |  33.33 | 2 | ⋯ | 0 | 1 | 1 | 2 | 0 | 0 | 2 | 2 | 0 | 0 |\n",
       "| Kostas Antetokounmpo   | Panathinaikos | Real Madrid   | 43 |  3 |  0 | 0 |  0 |    NaN | 0 | ⋯ | 0 | 0 | 0 | 0 | 0 | 0 | 0 | 0 | 0 | 0 |\n",
       "| Kostas Sloukas         | Panathinaikos | Real Madrid   | 43 | 25 | 24 | 2 |  2 | 100.00 | 4 | ⋯ | 0 | 0 | 1 | 1 | 0 | 0 | 4 | 4 | 0 | 0 |\n",
       "| Luca Vildoza           | Panathinaikos | Real Madrid   | 43 | 13 |  3 | 0 |  0 |    NaN | 1 | ⋯ | 0 | 0 | 0 | 0 | 0 | 0 | 1 | 1 | 0 | 0 |\n",
       "| Marius Grigonis        | Panathinaikos | Real Madrid   | 43 |  7 |  0 | 0 |  1 |   0.00 | 0 | ⋯ | 0 | 1 | 0 | 0 | 0 | 0 | 0 | 0 | 0 | 0 |\n",
       "| Mathias Lessort        | Panathinaikos | Real Madrid   | 43 | 33 | 17 | 5 |  8 |  62.50 | 0 | ⋯ | 4 | 7 | 0 | 0 | 0 | 0 | 0 | 1 | 0 | 0 |\n",
       "| Panagiotis Kalaitzakis | Panathinaikos | Real Madrid   | 43 |  6 |  2 | 0 |  0 |    NaN | 0 | ⋯ | 0 | 0 | 0 | 0 | 0 | 0 | 0 | 0 | 0 | 1 |\n",
       "| Dzanan Musa            | Real Madrid   | Panathinaikos | 43 | 28 | 15 | 3 |  4 |  75.00 | 1 | ⋯ | 3 | 4 | 0 | 0 | 1 | 1 | 0 | 5 | 0 | 0 |\n",
       "| Eli Ndiaye             | Real Madrid   | Panathinaikos | 43 |  7 |  8 | 1 |  1 | 100.00 | 2 | ⋯ | 1 | 1 | 0 | 0 | 1 | 1 | 1 | 1 | 0 | 0 |\n",
       "| Fabien Causeur         | Real Madrid   | Panathinaikos | 43 |  4 |  2 | 1 |  1 | 100.00 | 0 | ⋯ | 1 | 1 | 0 | 0 | 0 | 0 | 0 | 0 | 0 | 0 |\n",
       "| Facundo Campazzo       | Real Madrid   | Panathinaikos | 43 | 22 | 12 | 2 |  4 |  50.00 | 2 | ⋯ | 2 | 4 | 0 | 0 | 0 | 0 | 2 | 4 | 0 | 0 |\n",
       "| Guerschon Yabusele     | Real Madrid   | Panathinaikos | 43 | 20 |  6 | 0 |  0 |    NaN | 2 | ⋯ | 0 | 0 | 0 | 0 | 0 | 0 | 2 | 5 | 0 | 0 |\n",
       "| Mario Hezonja          | Real Madrid   | Panathinaikos | 43 | 32 |  8 | 2 |  4 |  50.00 | 1 | ⋯ | 2 | 4 | 0 | 0 | 0 | 0 | 1 | 7 | 0 | 0 |\n",
       "| Rudy Fernandez         | Real Madrid   | Panathinaikos | 43 | 10 |  0 | 0 |  0 |    NaN | 0 | ⋯ | 0 | 0 | 0 | 0 | 0 | 0 | 0 | 1 | 0 | 0 |\n",
       "| Sergio Llull           | Real Madrid   | Panathinaikos | 43 | 21 |  6 | 0 |  2 |   0.00 | 2 | ⋯ | 0 | 2 | 0 | 0 | 0 | 0 | 2 | 7 | 0 | 0 |\n",
       "| Sergio Rodriguez       | Real Madrid   | Panathinaikos | 43 | 17 | 11 | 3 |  5 |  60.00 | 1 | ⋯ | 2 | 4 | 0 | 0 | 0 | 0 | 1 | 4 | 0 | 0 |\n",
       "| Vincent Poirier        | Real Madrid   | Panathinaikos | 43 | 16 |  8 | 3 |  6 |  50.00 | 0 | ⋯ | 0 | 2 | 0 | 0 | 0 | 0 | 0 | 0 | 0 | 0 |\n",
       "| Walter Tavares         | Real Madrid   | Panathinaikos | 43 | 21 |  4 | 1 |  2 |  50.00 | 0 | ⋯ | 0 | 1 | 0 | 0 | 0 | 0 | 0 | 0 | 0 | 0 |\n",
       "\n"
      ],
      "text/plain": [
       "   Player                 Team          Opponent      ROUND MIN PTS P2M P2A\n",
       "1  Dyshawn Pierre         Fenerbahce    Panathinaikos 42     9   0  0    1 \n",
       "2  Georgios Papagiannis   Fenerbahce    Panathinaikos 42     4   3  0    0 \n",
       "3  Johnathan Motley       Fenerbahce    Panathinaikos 42     3   0  0    0 \n",
       "4  Marko Guduric          Fenerbahce    Panathinaikos 42    25  10  2    5 \n",
       "5  Nathan Sestina         Fenerbahce    Panathinaikos 42    19  10  1    1 \n",
       "6  Nick Calathes          Fenerbahce    Panathinaikos 42    34   5  1    2 \n",
       "7  Nigel Hayes Davis      Fenerbahce    Panathinaikos 42    32  14  3    4 \n",
       "8  Scottie Wilbekin       Fenerbahce    Panathinaikos 42    24   2  1    5 \n",
       "9  Sertac Sanli           Fenerbahce    Panathinaikos 42    21   7  1    3 \n",
       "10 Tarik Biberovic        Fenerbahce    Panathinaikos 42    18   4  1    2 \n",
       "11 Tyler Dorsey           Fenerbahce    Panathinaikos 42    10   2  1    1 \n",
       "12 Ioannis Papapetrou     Panathinaikos Fenerbahce    42    23   9  2    3 \n",
       "13 Jerian Grant           Panathinaikos Fenerbahce    42    27  13  4    6 \n",
       "14 Juancho Hernangomez    Panathinaikos Fenerbahce    42     7   3  0    0 \n",
       "15 Kendrick Nunn          Panathinaikos Fenerbahce    42    35  14  2    4 \n",
       "16 Konstantinos Mitoglou  Panathinaikos Fenerbahce    42    26   2  1    1 \n",
       "17 Kostas Antetokounmpo   Panathinaikos Fenerbahce    42     7   0  0    1 \n",
       "18 Kostas Sloukas         Panathinaikos Fenerbahce    42    18   4  1    2 \n",
       "19 Marius Grigonis        Panathinaikos Fenerbahce    42    18   6  3    4 \n",
       "20 Mathias Lessort        Panathinaikos Fenerbahce    42    32  17  6   10 \n",
       "21 Panagiotis Kalaitzakis Panathinaikos Fenerbahce    42     8   5  0    0 \n",
       "22 Alec Peters            Olympiacos    Real Madrid   42    29  23  3    6 \n",
       "23 Filip Petrusev         Olympiacos    Real Madrid   42     8   5  0    1 \n",
       "24 Isaiah Canaan          Olympiacos    Real Madrid   42    19   7  0    0 \n",
       "25 Kostas Papanikolaou    Olympiacos    Real Madrid   42    22   3  1    2 \n",
       "26 Moses Wright           Olympiacos    Real Madrid   42     2   0  0    0 \n",
       "27 Moustapha Fall         Olympiacos    Real Madrid   42    27   2  1    1 \n",
       "28 Nigel Williams Goss    Olympiacos    Real Madrid   42    30  15  3    9 \n",
       "29 Nikola Milutinov       Olympiacos    Real Madrid   42    10   0  0    0 \n",
       "30 Shaquielle McKissic    Olympiacos    Real Madrid   42    26  17  2    5 \n",
       "⋮  ⋮                      ⋮             ⋮             ⋮     ⋮   ⋮   ⋮   ⋮  \n",
       "59 Kostas Papanikolaou    Olympiacos    Fenerbahce    43    17   5  1    2 \n",
       "60 Moses Wright           Olympiacos    Fenerbahce    43    14   8  2    2 \n",
       "61 Moustapha Fall         Olympiacos    Fenerbahce    43    12   2  1    2 \n",
       "62 Nazareth Mitrou Long   Olympiacos    Fenerbahce    43     7   0  0    1 \n",
       "63 Nigel Williams Goss    Olympiacos    Fenerbahce    43    27  12  4   10 \n",
       "64 Nikola Milutinov       Olympiacos    Fenerbahce    43    20  10  3    8 \n",
       "65 Shaquielle McKissic    Olympiacos    Fenerbahce    43    16   9  0    1 \n",
       "66 Thomas Walkup          Olympiacos    Fenerbahce    43    16   3  0    2 \n",
       "67 Ioannis Papapetrou     Panathinaikos Real Madrid   43    18   4  0    1 \n",
       "68 Jerian Grant           Panathinaikos Real Madrid   43    33  11  2    6 \n",
       "69 Juancho Hernangomez    Panathinaikos Real Madrid   43    20   5  2    2 \n",
       "70 Kendrick Nunn          Panathinaikos Real Madrid   43    24  21  6   12 \n",
       "71 Konstantinos Mitoglou  Panathinaikos Real Madrid   43    18   8  1    3 \n",
       "72 Kostas Antetokounmpo   Panathinaikos Real Madrid   43     3   0  0    0 \n",
       "73 Kostas Sloukas         Panathinaikos Real Madrid   43    25  24  2    2 \n",
       "74 Luca Vildoza           Panathinaikos Real Madrid   43    13   3  0    0 \n",
       "75 Marius Grigonis        Panathinaikos Real Madrid   43     7   0  0    1 \n",
       "76 Mathias Lessort        Panathinaikos Real Madrid   43    33  17  5    8 \n",
       "77 Panagiotis Kalaitzakis Panathinaikos Real Madrid   43     6   2  0    0 \n",
       "78 Dzanan Musa            Real Madrid   Panathinaikos 43    28  15  3    4 \n",
       "79 Eli Ndiaye             Real Madrid   Panathinaikos 43     7   8  1    1 \n",
       "80 Fabien Causeur         Real Madrid   Panathinaikos 43     4   2  1    1 \n",
       "81 Facundo Campazzo       Real Madrid   Panathinaikos 43    22  12  2    4 \n",
       "82 Guerschon Yabusele     Real Madrid   Panathinaikos 43    20   6  0    0 \n",
       "83 Mario Hezonja          Real Madrid   Panathinaikos 43    32   8  2    4 \n",
       "84 Rudy Fernandez         Real Madrid   Panathinaikos 43    10   0  0    0 \n",
       "85 Sergio Llull           Real Madrid   Panathinaikos 43    21   6  0    2 \n",
       "86 Sergio Rodriguez       Real Madrid   Panathinaikos 43    17  11  3    5 \n",
       "87 Vincent Poirier        Real Madrid   Panathinaikos 43    16   8  3    6 \n",
       "88 Walter Tavares         Real Madrid   Panathinaikos 43    21   4  1    2 \n",
       "   P2p    P3M ⋯ PAINT_M PAINT_A MID_M MID_A 3C_M 3C_A 3L_M 3L_A 3H_M 3H_A\n",
       "1    0.00 0   ⋯ 0       1       0     0     0    0    0    1    0    1   \n",
       "2     NaN 1   ⋯ 0       0       0     0     0    0    1    2    0    0   \n",
       "3     NaN 0   ⋯ 0       0       0     0     0    0    0    0    0    0   \n",
       "4   40.00 2   ⋯ 1       3       0     0     0    1    2    5    0    0   \n",
       "5  100.00 2   ⋯ 0       0       1     1     0    0    2    5    0    0   \n",
       "6   50.00 1   ⋯ 0       1       0     0     0    0    1    3    0    0   \n",
       "7   75.00 2   ⋯ 0       1       1     1     0    0    2    6    0    0   \n",
       "8   20.00 0   ⋯ 1       3       0     2     0    1    0    4    0    0   \n",
       "9   33.33 1   ⋯ 1       1       0     2     0    0    1    2    0    0   \n",
       "10  50.00 0   ⋯ 0       1       1     1     0    0    0    2    0    0   \n",
       "11 100.00 0   ⋯ 0       0       1     1     0    1    0    1    0    0   \n",
       "12  66.67 1   ⋯ 1       1       0     1     1    1    0    1    0    0   \n",
       "13  66.67 1   ⋯ 2       3       2     3     0    0    1    2    0    0   \n",
       "14    NaN 1   ⋯ 0       0       0     0     0    0    1    2    0    0   \n",
       "15  50.00 3   ⋯ 2       4       0     0     1    1    2    5    0    0   \n",
       "16 100.00 0   ⋯ 0       0       0     0     0    0    0    2    0    0   \n",
       "17   0.00 0   ⋯ 0       0       0     0     0    0    0    0    0    0   \n",
       "18  50.00 0   ⋯ 1       2       0     0     0    0    0    3    0    0   \n",
       "19  75.00 0   ⋯ 2       3       1     1     0    0    0    1    0    0   \n",
       "20  60.00 0   ⋯ 1       4       0     0     0    0    0    0    0    0   \n",
       "21    NaN 1   ⋯ 0       0       0     0     0    0    1    1    0    0   \n",
       "22  50.00 5   ⋯ 1       4       0     0     0    0    5    6    0    0   \n",
       "23   0.00 1   ⋯ 0       1       0     0     0    1    1    1    0    0   \n",
       "24    NaN 2   ⋯ 0       0       0     0     0    0    2    5    0    0   \n",
       "25  50.00 0   ⋯ 1       2       0     0     0    0    0    3    0    0   \n",
       "26    NaN 0   ⋯ 0       0       0     0     0    0    0    0    0    0   \n",
       "27 100.00 0   ⋯ 0       0       0     0     0    0    0    0    0    0   \n",
       "28  33.33 3   ⋯ 3       6       0     3     0    0    3    5    0    0   \n",
       "29    NaN 0   ⋯ 0       0       0     0     0    0    0    0    0    0   \n",
       "30  40.00 3   ⋯ 1       4       0     0     0    0    3    6    0    0   \n",
       "⋮  ⋮      ⋮   ⋱ ⋮       ⋮       ⋮     ⋮     ⋮    ⋮    ⋮    ⋮    ⋮    ⋮   \n",
       "59  50.00 1   ⋯ 0       0       1     2     0    0    1    4    0    0   \n",
       "60 100.00 0   ⋯ 1       1       0     0     0    0    0    0    0    0   \n",
       "61  50.00 0   ⋯ 1       2       0     0     0    0    0    0    0    0   \n",
       "62   0.00 0   ⋯ 0       1       0     0     0    0    0    0    0    0   \n",
       "63  40.00 1   ⋯ 3       9       0     0     0    0    1    1    0    0   \n",
       "64  37.50 0   ⋯ 2       7       0     0     0    0    0    0    0    0   \n",
       "65   0.00 3   ⋯ 0       0       0     0     1    1    2    3    0    0   \n",
       "66   0.00 1   ⋯ 0       2       0     0     0    0    1    1    0    0   \n",
       "67   0.00 1   ⋯ 0       0       0     1     0    1    1    1    0    0   \n",
       "68  33.33 2   ⋯ 0       2       1     3     0    0    2    2    0    0   \n",
       "69 100.00 0   ⋯ 0       0       0     0     0    1    0    1    0    1   \n",
       "70  50.00 2   ⋯ 3       7       1     2     0    0    2    6    0    0   \n",
       "71  33.33 2   ⋯ 0       1       1     2     0    0    2    2    0    0   \n",
       "72    NaN 0   ⋯ 0       0       0     0     0    0    0    0    0    0   \n",
       "73 100.00 4   ⋯ 0       0       1     1     0    0    4    4    0    0   \n",
       "74    NaN 1   ⋯ 0       0       0     0     0    0    1    1    0    0   \n",
       "75   0.00 0   ⋯ 0       1       0     0     0    0    0    0    0    0   \n",
       "76  62.50 0   ⋯ 4       7       0     0     0    0    0    1    0    0   \n",
       "77    NaN 0   ⋯ 0       0       0     0     0    0    0    0    0    1   \n",
       "78  75.00 1   ⋯ 3       4       0     0     1    1    0    5    0    0   \n",
       "79 100.00 2   ⋯ 1       1       0     0     1    1    1    1    0    0   \n",
       "80 100.00 0   ⋯ 1       1       0     0     0    0    0    0    0    0   \n",
       "81  50.00 2   ⋯ 2       4       0     0     0    0    2    4    0    0   \n",
       "82    NaN 2   ⋯ 0       0       0     0     0    0    2    5    0    0   \n",
       "83  50.00 1   ⋯ 2       4       0     0     0    0    1    7    0    0   \n",
       "84    NaN 0   ⋯ 0       0       0     0     0    0    0    1    0    0   \n",
       "85   0.00 2   ⋯ 0       2       0     0     0    0    2    7    0    0   \n",
       "86  60.00 1   ⋯ 2       4       0     0     0    0    1    4    0    0   \n",
       "87  50.00 0   ⋯ 0       2       0     0     0    0    0    0    0    0   \n",
       "88  50.00 0   ⋯ 0       1       0     0     0    0    0    0    0    0   "
      ]
     },
     "metadata": {},
     "output_type": "display_data"
    }
   ],
   "source": [
    "pbox_final4_detailed <- create_pbox_detailed(players_final4)\n",
    "\n",
    "pbox_final4_detailed"
   ]
  },
  {
   "cell_type": "markdown",
   "metadata": {},
   "source": [
    "**Test biblioteki BasketballAnalyzeR**"
   ]
  },
  {
   "cell_type": "code",
   "execution_count": 140,
   "metadata": {
    "vscode": {
     "languageId": "r"
    }
   },
   "outputs": [
    {
     "name": "stderr",
     "output_type": "stream",
     "text": [
      "Instalowanie pakietu w 'C:/Users/karol/AppData/Local/R/win-library/4.5'\n",
      "(ponieważ 'lib' nie jest określony)\n",
      "\n"
     ]
    },
    {
     "name": "stdout",
     "output_type": "stream",
     "text": [
      "pakiet 'devtools' został pomyślnie rozpakowany oraz sumy MD5 zostały sprawdzone\n",
      "\n",
      "Pobrane pakiety binarne są w\n",
      "\tC:\\Users\\karol\\AppData\\Local\\Temp\\RtmpkRk9PQ\\downloaded_packages\n"
     ]
    },
    {
     "name": "stderr",
     "output_type": "stream",
     "text": [
      "Using GitHub PAT from the git credential store.\n",
      "\n",
      "Skipping install of 'BasketballAnalyzeR' from a github remote, the SHA1 (04c1eff3) has not changed since last install.\n",
      "  Use `force = TRUE` to force installation\n",
      "\n"
     ]
    }
   ],
   "source": [
    "install.packages(\"devtools\") \n",
    "devtools::install_github(\"sndmrc/BasketballAnalyzeR\")\n",
    "library(BasketballAnalyzeR)"
   ]
  },
  {
   "cell_type": "code",
   "execution_count": 141,
   "metadata": {
    "vscode": {
     "languageId": "r"
    }
   },
   "outputs": [
    {
     "data": {
      "image/png": "[encoded data removed]",
      "text/plain": [
       "plot without title"
      ]
     },
     "metadata": {
      "image/png": {
       "height": 420,
       "width": 420
      }
     },
     "output_type": "display_data"
    }
   ],
   "source": [
    "scatterplot(data = pbox_regular,\n",
    "            data.var = c(\"MIN\", \"PTS\"),\n",
    "            title = \"Minuty vs Punkty\",\n",
    "            labels = pbox_regular$Player)"
   ]
  },
  {
   "cell_type": "code",
   "execution_count": 142,
   "metadata": {
    "vscode": {
     "languageId": "r"
    }
   },
   "outputs": [],
   "source": [
    "ff <- fourfactors(TEAM = tbox_regular, OPP = obox_regular)\n"
   ]
  },
  {
   "cell_type": "code",
   "execution_count": 143,
   "metadata": {
    "vscode": {
     "languageId": "r"
    }
   },
   "outputs": [
    {
     "name": "stdout",
     "output_type": "stream",
     "text": [
      "Classes 'fourfactors' and 'data.frame':\t18 obs. of  15 variables:\n",
      " $ Team    : chr  \"ALBA\" \"ASVEL\" \"Barcelona\" \"Baskonia\" ...\n",
      " $ POSS.Off: num  2490 2460 2450 2507 2435 ...\n",
      " $ POSS.Def: num  2494 2462 2461 2494 2461 ...\n",
      " $ PACE.Off: num  1.83 1.8 1.8 1.84 1.76 ...\n",
      " $ PACE.Def: num  1.83 1.8 1.81 1.83 1.78 ...\n",
      " $ ORtg    : num  104 109 115 114 110 ...\n",
      " $ DRtg    : num  118 117 109 116 113 ...\n",
      " $ F1.Off  : num  51.6 52.6 55.7 55.2 53.5 ...\n",
      " $ F2.Off  : num  20.6 17.9 17.7 16.9 18.2 ...\n",
      " $ F3.Off  : num  30.7 30.1 33.3 29.7 31 ...\n",
      " $ F4.Off  : num  19 21.5 19.4 22.1 17.1 ...\n",
      " $ F1.Def  : num  58.1 56.4 52.5 54.5 54 ...\n",
      " $ F2.Def  : num  18.1 16 16.9 14.7 15.1 ...\n",
      " $ F3.Def  : num  66.3 69.5 69.5 70.3 73.2 ...\n",
      " $ F4.Def  : num  19.6 20.1 18.6 19.5 23.5 ...\n"
     ]
    }
   ],
   "source": [
    "str(ff)"
   ]
  },
  {
   "cell_type": "code",
   "execution_count": 144,
   "metadata": {
    "vscode": {
     "languageId": "r"
    }
   },
   "outputs": [
    {
     "data": {
      "image/png": "[encoded data removed]",
      "text/plain": [
       "Plot with title \"Turnover % by Team (Offense)\""
      ]
     },
     "metadata": {
      "image/png": {
       "height": 420,
       "width": 420
      }
     },
     "output_type": "display_data"
    }
   ],
   "source": [
    "barplot(ff$F2.Off,\n",
    "        names.arg = ff$Team,\n",
    "        las = 2, col = \"tomato\",\n",
    "        main = \"Turnover % by Team (Offense)\",\n",
    "        ylab = \"F2.Off (TOV%)\",\n",
    "        cex.names = 0.75)\n"
   ]
  },
  {
   "cell_type": "code",
   "execution_count": 145,
   "metadata": {
    "vscode": {
     "languageId": "r"
    }
   },
   "outputs": [],
   "source": [
    "ff <- ff %>%\n",
    "  mutate(\n",
    "    NetRating = ORtg - DRtg,\n",
    "    FF_Index = 0.4 * F1.Off - 0.25 * F2.Off + 0.2 * F3.Off + 0.15 * F4.Off\n",
    "  )\n"
   ]
  },
  {
   "cell_type": "code",
   "execution_count": 146,
   "metadata": {
    "vscode": {
     "languageId": "r"
    }
   },
   "outputs": [
    {
     "data": {
      "image/png": "[encoded data removed]",
      "text/plain": [
       "Plot with title \"Net Rating per Team\""
      ]
     },
     "metadata": {
      "image/png": {
       "height": 420,
       "width": 420
      }
     },
     "output_type": "display_data"
    }
   ],
   "source": [
    "barplot(ff$NetRating,\n",
    "        names.arg = ff$Team,\n",
    "        las = 2,\n",
    "        col = ifelse(ff$NetRating > 0, \"darkgreen\", \"red\"),\n",
    "        main = \"Net Rating per Team\",\n",
    "        ylab = \"Net Rating (ORtg - DRtg)\",\n",
    "        cex.names = 0.7)\n"
   ]
  },
  {
   "cell_type": "code",
   "execution_count": 147,
   "metadata": {
    "vscode": {
     "languageId": "r"
    }
   },
   "outputs": [],
   "source": [
    "library(ggplot2)"
   ]
  },
  {
   "cell_type": "code",
   "execution_count": 148,
   "metadata": {
    "vscode": {
     "languageId": "r"
    }
   },
   "outputs": [
    {
     "data": {
      "image/png": "[encoded data removed]",
      "text/plain": [
       "plot without title"
      ]
     },
     "metadata": {
      "image/png": {
       "height": 420,
       "width": 420
      }
     },
     "output_type": "display_data"
    }
   ],
   "source": [
    "ggplot(ff, aes(x = reorder(Team, FF_Index), y = FF_Index)) +\n",
    "  geom_col(fill = \"steelblue\") +\n",
    "  coord_cartesian(ylim = c(min(ff$FF_Index) - 0.1, max(ff$FF_Index) + 0.1)) +\n",
    "  labs(title = \"FF_Index - Zoomed (Vertical)\",\n",
    "       x = \"Team\", y = \"FF_Index\") +\n",
    "  theme_minimal() +\n",
    "  theme(axis.text.x = element_text(angle = 45, hjust = 1))\n"
   ]
  },
  {
   "cell_type": "code",
   "execution_count": 149,
   "metadata": {
    "vscode": {
     "languageId": "r"
    }
   },
   "outputs": [
    {
     "name": "stderr",
     "output_type": "stream",
     "text": [
      "Warning message:\n",
      "\"pakiet 'ggforce' jest w użyciu i nie zostanie zainstalowany\"\n"
     ]
    }
   ],
   "source": [
    "install.packages(\"ggforce\")\n",
    "\n",
    "library(grid)     \n",
    "library(ggforce)  "
   ]
  },
  {
   "cell_type": "code",
   "execution_count": 150,
   "metadata": {
    "vscode": {
     "languageId": "r"
    }
   },
   "outputs": [],
   "source": [
    "shotchart_sector <- function(df, player = NULL, team = NULL) {\n",
    "  filtered <- df\n",
    "  if (!is.null(player)) filtered <- filtered %>% filter(Player == player)\n",
    "  if (!is.null(team)) filtered <- filtered %>% filter(Team == team)\n",
    "  if (nrow(filtered) == 0) stop(\"Brak danych po filtrowaniu.\")\n",
    "\n",
    "  zones <- data.frame(\n",
    "    zone = c(\"RIM\", \"PAINT\", \"MID\", \"C3\", \"L3\", \"H3\"),\n",
    "    made = c(sum(filtered$RIM_M), sum(filtered$PAINT_M), sum(filtered$MID_M),\n",
    "             sum(filtered$`3C_M`), sum(filtered$`3L_M`), sum(filtered$`3H_M`)),\n",
    "    att = c(sum(filtered$RIM_A), sum(filtered$PAINT_A), sum(filtered$MID_A),\n",
    "            sum(filtered$`3C_A`), sum(filtered$`3L_A`), sum(filtered$`3H_A`))\n",
    "  ) %>%\n",
    "    mutate(\n",
    "      FG_perc = ifelse(att > 0, round(100 * made / att, 1), NA),\n",
    "      label = ifelse(att > 0, paste0(FG_perc, \"%\\n(\", made, \"/\", att, \")\"), \"n/a\")\n",
    "    )\n",
    "\n",
    "  # Dane do geometrii\n",
    "  rim <- zones %>% filter(zone == \"RIM\")\n",
    "  paint <- zones %>% filter(zone == \"PAINT\")\n",
    "  mid <- zones %>% filter(zone == \"MID\")\n",
    "  c3 <- zones %>% filter(zone == \"C3\")\n",
    "  l3 <- zones %>% filter(zone == \"L3\")\n",
    "  h3 <- zones %>% filter(zone == \"H3\")\n",
    "\n",
    "  # Pozycje etykiet\n",
    "  labels <- data.frame(\n",
    "    zone = c(\"RIM\", \"PAINT\", \"MID\", \"C3L\", \"C3R\", \"L3\", \"H3\"),\n",
    "    x = c(0, 0, 0, -21, 21, 0, 0),\n",
    "    y = c(5, 12, 20, 3, 3, 30, 43)\n",
    "  )\n",
    "  label_data <- bind_rows(\n",
    "    rim %>% mutate(x = 0, y = 5),\n",
    "    paint %>% mutate(x = 0, y = 14),\n",
    "    mid %>% mutate(x = 0, y = 23),\n",
    "    c3 %>% mutate(x = -25, y = 3),\n",
    "    c3 %>% mutate(x = 25, y = 3),\n",
    "    l3 %>% mutate(x = 0, y = 31),\n",
    "    h3 %>% mutate(x = 0, y = 41.5)\n",
    "  )\n",
    "\n",
    "  draw_court <- function() {\n",
    "    list(\n",
    "      # Obrys\n",
    "      geom_rect(aes(xmin = -28, xmax = 28, ymin = 0, ymax = 47), fill = NA, color = \"black\", size = 1.2),\n",
    "      geom_segment(aes(x = -28, y = 0, xend = 28, yend = 0), color = \"black\", size = 1.2),\n",
    "\n",
    "      # Trumna\n",
    "      geom_rect(aes(xmin = -8, xmax = 8, ymin = 0, ymax = 19), fill = NA, color = \"black\", size = 1.2),\n",
    "\n",
    "      # Linia rzutów wolnych i półkole\n",
    "      geom_segment(aes(x = -8, y = 19, xend = 8, yend = 19), color = \"black\", size = 1.2),\n",
    "      geom_path(data = data.frame(\n",
    "        x = 6 * cos(seq(0, pi, length.out = 100)),\n",
    "        y = 6 * sin(seq(0, pi, length.out = 100)) + 19\n",
    "      ), aes(x = x, y = y), color = \"black\", size = 1.2),\n",
    "\n",
    "      # Półkole pod koszem\n",
    "      geom_path(data = data.frame(\n",
    "        x = 1.25 * cos(seq(0, pi, length.out = 100)),\n",
    "        y = 1.25 * sin(seq(0, pi, length.out = 100)) + 5\n",
    "      ), aes(x = x, y = y), color = \"black\", size = 1.2),\n",
    "\n",
    "      # Łuk za 3\n",
    "      geom_path(data = data.frame(\n",
    "        x = 22.15 * cos(seq(0.1, pi - 0.1, length.out = 100)),\n",
    "        y = 22.15 * sin(seq(0.1, pi - 0.1, length.out = 100)) + 5\n",
    "      ), aes(x = x, y = y), color = \"black\", size = 1.2),\n",
    "\n",
    "      # Corner 3\n",
    "      geom_segment(aes(x = -22, y = 0, xend = -22, yend = 7.5), color = \"black\", size = 1.2),\n",
    "      geom_segment(aes(x = 22, y = 0, xend = 22, yend = 7.5), color = \"black\", size = 1.2)\n",
    "    )\n",
    "  }\n",
    "\n",
    "  ggplot() +\n",
    "    draw_court() +\n",
    "\n",
    "    # STREFY\n",
    "geom_rect(data = rim,\n",
    "  aes(xmin = -6, xmax = 6, ymin = 2, ymax = 8, fill = FG_perc),\n",
    "  color = NA, alpha = 0.85) +\n",
    "\n",
    "geom_rect(data = paint,\n",
    "  aes(xmin = -6, xmax = 6, ymin = 9, ymax = 18, fill = FG_perc),\n",
    "  color = NA, alpha = 0.85) +\n",
    "\n",
    "geom_arc_bar(data = mid,\n",
    "  aes(x0 = 0, y0 = 5, r0 = 15, r = 21.5,\n",
    "      start = pi * (-0.5), end = pi * 0.5, fill = FG_perc),\n",
    "  color = NA, alpha = 0.85) +\n",
    "\n",
    "\n",
    "geom_rect(data = c3,\n",
    "  aes(xmin = -28, xmax = -22, ymin = 0, ymax = 7.5, fill = FG_perc),\n",
    "  color = NA, alpha = 0.85) +\n",
    "\n",
    "geom_rect(data = c3,\n",
    "  aes(xmin = 22, xmax = 28, ymin = 0, ymax = 7.5, fill = FG_perc),\n",
    "  color = NA, alpha = 0.85) +\n",
    "\n",
    "geom_arc_bar(data = l3,\n",
    "  aes(x0 = 0, y0 = 5, r0 = 22.75, r = 30,\n",
    "      start = pi * (-0.35), end = pi * 0.35, fill = FG_perc),\n",
    "  color = NA, alpha = 0.85) +\n",
    "\n",
    "geom_rect(data = h3,\n",
    "  aes(xmin = -25, xmax = 25, ymin = 37, ymax = 46, fill = FG_perc),\n",
    "  color = NA, alpha = 0.85) +\n",
    "\n",
    "# Etykiety\n",
    "geom_text(data = label_data,\n",
    "  aes(x = x, y = y, label = label),\n",
    "  color = \"white\", size = 4) +\n",
    "\n",
    "    scale_fill_gradient(low = \"red\", high = \"green\", na.value = \"grey80\", name = \"FG%\") +\n",
    "    coord_fixed(xlim = c(-28, 28), ylim = c(0, 47)) +\n",
    "    theme_void() +\n",
    "\n",
    "    theme(\n",
    "       plot.title = element_text(hjust = 0, margin = margin(l = 23), size = 14),\n",
    "       plot.subtitle = element_text(hjust = 0, margin = margin(l = 30), size = 11)\n",
    "    ) + \n",
    "        \n",
    "    labs(\n",
    "      title = if (!is.null(player)) paste(\"Shot Chart –\", player) else if\n",
    "       (!is.null(team)) paste(\"Shot Chart –\", team) else \"Shot Chart – Wszyscy gracze\"\n",
    "    )\n",
    "}\n"
   ]
  },
  {
   "cell_type": "code",
   "execution_count": 151,
   "metadata": {
    "vscode": {
     "languageId": "r"
    }
   },
   "outputs": [
    {
     "data": {
      "image/png": "[encoded data removed]",
      "text/plain": [
       "plot without title"
      ]
     },
     "metadata": {
      "image/png": {
       "height": 420,
       "width": 420
      }
     },
     "output_type": "display_data"
    }
   ],
   "source": [
    "shotchart_sector(pbox_regular, player = \"Markus Howard\")"
   ]
  },
  {
   "cell_type": "code",
   "execution_count": 152,
   "metadata": {
    "vscode": {
     "languageId": "r"
    }
   },
   "outputs": [
    {
     "data": {
      "image/png": "[encoded data removed]",
      "text/plain": [
       "plot without title"
      ]
     },
     "metadata": {
      "image/png": {
       "height": 420,
       "width": 420
      }
     },
     "output_type": "display_data"
    }
   ],
   "source": [
    "shotchart_sector(tbox_regular, team = \"Real Madrid\")"
   ]
  },
  {
   "cell_type": "markdown",
   "metadata": {},
   "source": [
    "**Eksport danych box**"
   ]
  },
  {
   "cell_type": "code",
   "execution_count": 153,
   "metadata": {
    "vscode": {
     "languageId": "r"
    }
   },
   "outputs": [],
   "source": [
    "write.csv(pbox_regular, file = \"data_box/regular/pbox_regular.csv\", row.names = FALSE)\n",
    "write.csv(tbox_regular, file = \"data_box/regular/tbox_regular.csv\", row.names = FALSE)\n",
    "write.csv(obox_regular, file = \"data_box/regular/obox_regular.csv\", row.names = FALSE)"
   ]
  },
  {
   "cell_type": "code",
   "execution_count": 154,
   "metadata": {
    "vscode": {
     "languageId": "r"
    }
   },
   "outputs": [],
   "source": [
    "write.csv(pbox_playin, file = \"data_box/playin/pbox_playin.csv\", row.names = FALSE)\n",
    "write.csv(tbox_playin, file = \"data_box/playin/tbox_playin.csv\", row.names = FALSE)\n",
    "write.csv(obox_playin, file = \"data_box/playin/obox_playin.csv\", row.names = FALSE)"
   ]
  },
  {
   "cell_type": "code",
   "execution_count": 155,
   "metadata": {
    "vscode": {
     "languageId": "r"
    }
   },
   "outputs": [],
   "source": [
    "write.csv(pbox_playoff, file = \"data_box/playoff/pbox_playoff.csv\", row.names = FALSE)\n",
    "write.csv(tbox_playoff, file = \"data_box/playoff/tbox_playoff.csv\", row.names = FALSE)\n",
    "write.csv(obox_playoff, file = \"data_box/playoff/obox_playoff.csv\", row.names = FALSE)"
   ]
  },
  {
   "cell_type": "code",
   "execution_count": 156,
   "metadata": {
    "vscode": {
     "languageId": "r"
    }
   },
   "outputs": [],
   "source": [
    "write.csv(pbox_final4, file = \"data_box/final4/pbox_final4.csv\", row.names = FALSE)\n",
    "write.csv(tbox_final4, file = \"data_box/final4/tbox_final4.csv\", row.names = FALSE)\n",
    "write.csv(obox_final4, file = \"data_box/final4/obox_final4.csv\", row.names = FALSE)\n",
    "write.csv(pbox_final4_detailed, file = \"data_box/final4/pbox_final4_detailed.csv\", row.names = FALSE)"
   ]
  },
  {
   "cell_type": "code",
   "execution_count": 157,
   "metadata": {
    "vscode": {
     "languageId": "r"
    }
   },
   "outputs": [],
   "source": [
    "write.csv(t_add, file = \"data_box/Tadd/t_add.csv\", row.names = FALSE)"
   ]
  }
 ],
 "metadata": {
  "kernelspec": {
   "display_name": "R",
   "language": "R",
   "name": "ir"
  },
  "language_info": {
   "codemirror_mode": "r",
   "file_extension": ".r",
   "mimetype": "text/x-r-source",
   "name": "R",
   "pygments_lexer": "r",
   "version": "4.5.0"
  }
 },
 "nbformat": 4,
 "nbformat_minor": 2
}
